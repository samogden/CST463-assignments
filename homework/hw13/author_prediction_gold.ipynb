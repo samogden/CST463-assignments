{
 "cells": [
  {
   "cell_type": "markdown",
   "metadata": {
    "id": "GyzsepoyzoEs"
   },
   "source": [
    "# Author prediction\n",
    "\n",
    "Given an text excerpt from one of six authors, predict the author."
   ]
  },
  {
   "cell_type": "code",
   "execution_count": 1,
   "metadata": {
    "executionInfo": {
     "elapsed": 4941,
     "status": "ok",
     "timestamp": 1701128297755,
     "user": {
      "displayName": "Glenn",
      "userId": "10553525024667050874"
     },
     "user_tz": 480
    },
    "id": "EoxHNwYNzoEw"
   },
   "outputs": [],
   "source": [
    "import warnings\n",
    "import pandas as pd\n",
    "import numpy as np\n",
    "import tensorflow as tf\n",
    "import matplotlib.pyplot as plt\n",
    "import seaborn as sns\n",
    "import pathlib\n",
    "import urllib.request\n",
    "from tensorflow import keras\n",
    "from tensorflow.keras import backend as K\n",
    "from tensorflow.keras import preprocessing\n",
    "from tensorflow.keras import models, layers\n",
    "from tensorflow.keras.callbacks import ReduceLROnPlateau, EarlyStopping\n",
    "from sklearn.model_selection import train_test_split, ParameterGrid\n",
    "from sklearn.feature_extraction.text import CountVectorizer"
   ]
  },
  {
   "cell_type": "code",
   "execution_count": 2,
   "metadata": {},
   "outputs": [],
   "source": [
    "sns.set_theme(style='whitegrid', context='notebook')\n",
    "plt.rcParams['figure.figsize'] = 3,3"
   ]
  },
  {
   "cell_type": "code",
   "execution_count": 3,
   "metadata": {},
   "outputs": [],
   "source": [
    "warnings.simplefilter(action='ignore', category=FutureWarning)"
   ]
  },
  {
   "cell_type": "code",
   "execution_count": 4,
   "metadata": {
    "executionInfo": {
     "elapsed": 167,
     "status": "ok",
     "timestamp": 1701128300800,
     "user": {
      "displayName": "Glenn",
      "userId": "10553525024667050874"
     },
     "user_tz": 480
    },
    "id": "eZ4v54O3zoEy"
   },
   "outputs": [],
   "source": [
    "raw_data_dir = pathlib.Path(\"C:/Users/Glenn/Google Drive/CSUMB/courses/CST463-adv-machine-learning/datasets/gutenberg-books/\")"
   ]
  },
  {
   "cell_type": "code",
   "execution_count": 5,
   "metadata": {
    "executionInfo": {
     "elapsed": 152,
     "status": "ok",
     "timestamp": 1701128302448,
     "user": {
      "displayName": "Glenn",
      "userId": "10553525024667050874"
     },
     "user_tz": 480
    },
    "id": "mGH74BD0Iros"
   },
   "outputs": [],
   "source": [
    "train_dir = raw_data_dir / 'book_excerpts' / 'train'\n",
    "test_dir = raw_data_dir / 'book_excerpts' / 'test'"
   ]
  },
  {
   "cell_type": "markdown",
   "metadata": {
    "id": "ZjYokMJzIrot"
   },
   "source": [
    "#### Test to see that the files can be read"
   ]
  },
  {
   "cell_type": "code",
   "execution_count": 6,
   "metadata": {
    "colab": {
     "base_uri": "https://localhost:8080/",
     "height": 351
    },
    "executionInfo": {
     "elapsed": 338,
     "status": "error",
     "timestamp": 1701128312058,
     "user": {
      "displayName": "Glenn",
      "userId": "10553525024667050874"
     },
     "user_tz": 480
    },
    "id": "J_kaohkYIrou",
    "outputId": "540890a6-3b88-492d-cd6a-0500a1fd7224"
   },
   "outputs": [
    {
     "name": "stdout",
     "output_type": "stream",
     "text": [
      "Found 17968 files belonging to 8 classes.\n"
     ]
    }
   ],
   "source": [
    "batch_size = 32\n",
    "train_ds = keras.utils.text_dataset_from_directory(train_dir, batch_size=batch_size)"
   ]
  },
  {
   "cell_type": "code",
   "execution_count": 7,
   "metadata": {
    "id": "e7s_EDSKIrou",
    "outputId": "17cf7fb9-9e25-4ace-922a-b9db6e59f085"
   },
   "outputs": [
    {
     "name": "stdout",
     "output_type": "stream",
     "text": [
      "Found 5989 files belonging to 8 classes.\n"
     ]
    }
   ],
   "source": [
    "batch_size = 32\n",
    "test_ds = keras.utils.text_dataset_from_directory(test_dir, batch_size=batch_size)"
   ]
  },
  {
   "cell_type": "code",
   "execution_count": 8,
   "metadata": {},
   "outputs": [
    {
     "name": "stdout",
     "output_type": "stream",
     "text": [
      "(32,) <dtype: 'string'>\n",
      "(32,) <dtype: 'int32'>\n",
      "tf.Tensor(b'try it,\\xe2\\x80\\x9d said Name, who liked new experiments. Miss Name and Mr. Name, Name, and Ned declined, but Name, Sallie, Name, and Name piled and drew, and the lot fell to Name. \\xe2\\x80\\x9cWho are your heroes?\\xe2\\x80\\x9d asked Name. \\xe2\\x80\\x9cGrandfather and Napoleon.\\xe2\\x80\\x9d \\xe2\\x80\\x9cWhich lady here do you think prettiest?\\xe2\\x80\\x9d said Sallie. \\xe2\\x80\\x9cMargaret.\\xe2\\x80\\x9d \\xe2\\x80\\x9cWhich do you like best?\\xe2\\x80\\x9d from Name. \\xe2\\x80\\x9cName, of course.\\xe2\\x80\\x9d \\xe2\\x80\\x9cWhat silly questions you ask!\\xe2\\x80\\x9d And Name gave a', shape=(), dtype=string)\n",
      "tf.Tensor(0, shape=(), dtype=int32)\n"
     ]
    }
   ],
   "source": [
    "# pairs in train_ds are (string, author_id)\n",
    "for inputs, targets in train_ds:\n",
    "    print(inputs.shape, inputs.dtype)\n",
    "    print(targets.shape, targets.dtype)\n",
    "    print(inputs[0])\n",
    "    print(targets[0])\n",
    "    break"
   ]
  },
  {
   "cell_type": "markdown",
   "metadata": {},
   "source": [
    "## Bag of words approach\n",
    "\n",
    "The code in this section is mostly copied from Chollet's book."
   ]
  },
  {
   "cell_type": "markdown",
   "metadata": {},
   "source": [
    "Create a text vectorization layer"
   ]
  },
  {
   "cell_type": "code",
   "execution_count": 9,
   "metadata": {},
   "outputs": [],
   "source": [
    "num_classes = 8\n",
    "max_tokens = 20000"
   ]
  },
  {
   "cell_type": "markdown",
   "metadata": {},
   "source": [
    "Simple multi-hot encoding."
   ]
  },
  {
   "cell_type": "code",
   "execution_count": 10,
   "metadata": {},
   "outputs": [],
   "source": [
    "text_vectorization = layers.TextVectorization(\n",
    "    max_tokens=max_tokens,\n",
    "    output_mode='multi_hot'\n",
    ")"
   ]
  },
  {
   "cell_type": "code",
   "execution_count": 11,
   "metadata": {},
   "outputs": [],
   "source": [
    "# text excerpt only - no author ID\n",
    "text_only_train_ds = train_ds.map(lambda x, y: x)\n",
    "text_vectorization.adapt(text_only_train_ds)"
   ]
  },
  {
   "cell_type": "code",
   "execution_count": 12,
   "metadata": {},
   "outputs": [],
   "source": [
    "binary_1gram_train_ds = train_ds.map(lambda x,y: (text_vectorization(x), y),\n",
    "                                   num_parallel_calls=16)\n",
    "binary_1gram_test_ds  = test_ds.map(lambda x,y: (text_vectorization(x), y),\n",
    "                                  num_parallel_calls=16)"
   ]
  },
  {
   "cell_type": "code",
   "execution_count": 13,
   "metadata": {},
   "outputs": [
    {
     "name": "stdout",
     "output_type": "stream",
     "text": [
      "(32, 20000) <dtype: 'float32'>\n",
      "(32,) <dtype: 'int32'>\n",
      "tf.Tensor([0. 1. 0. ... 0. 0. 0.], shape=(20000,), dtype=float32)\n",
      "tf.Tensor(1, shape=(), dtype=int32)\n"
     ]
    }
   ],
   "source": [
    "# sanity check\n",
    "for inputs, targets in binary_1gram_train_ds:\n",
    "    print(inputs.shape, inputs.dtype)\n",
    "    print(targets.shape, targets.dtype)\n",
    "    print(inputs[0])\n",
    "    print(targets[0])\n",
    "    break"
   ]
  },
  {
   "cell_type": "markdown",
   "metadata": {},
   "source": [
    "2-grams"
   ]
  },
  {
   "cell_type": "code",
   "execution_count": 14,
   "metadata": {},
   "outputs": [],
   "source": [
    "text_vectorization = layers.TextVectorization(\n",
    "    ngrams=2,\n",
    "    max_tokens=max_tokens,\n",
    "    output_mode='multi_hot'\n",
    ")"
   ]
  },
  {
   "cell_type": "code",
   "execution_count": 15,
   "metadata": {},
   "outputs": [],
   "source": [
    "text_vectorization.adapt(text_only_train_ds)"
   ]
  },
  {
   "cell_type": "code",
   "execution_count": 16,
   "metadata": {},
   "outputs": [],
   "source": [
    "binary_2gram_train_ds = train_ds.map(lambda x,y: (text_vectorization(x), y),\n",
    "                                   num_parallel_calls=16)\n",
    "binary_2gram_test_ds  = test_ds.map(lambda x,y: (text_vectorization(x), y),\n",
    "                                  num_parallel_calls=16)"
   ]
  },
  {
   "cell_type": "markdown",
   "metadata": {},
   "source": [
    "#### Simple feedforward model"
   ]
  },
  {
   "cell_type": "code",
   "execution_count": 17,
   "metadata": {},
   "outputs": [],
   "source": [
    "def get_model(max_tokens=max_tokens, hidden_dim=16):\n",
    "    inputs = keras.Input(shape=(max_tokens,))\n",
    "    x = layers.Dense(hidden_dim, activation='relu')(inputs)\n",
    "    x = layers.Dropout(0.5)(x)\n",
    "    outputs = layers.Dense(num_classes, activation='softmax')(x)\n",
    "    model = keras.Model(inputs, outputs)\n",
    "    return model"
   ]
  },
  {
   "cell_type": "code",
   "execution_count": 18,
   "metadata": {},
   "outputs": [],
   "source": [
    "K.clear_session()"
   ]
  },
  {
   "cell_type": "code",
   "execution_count": 19,
   "metadata": {},
   "outputs": [],
   "source": [
    "model = get_model(hidden_dim=16)"
   ]
  },
  {
   "cell_type": "code",
   "execution_count": 20,
   "metadata": {},
   "outputs": [
    {
     "name": "stdout",
     "output_type": "stream",
     "text": [
      "Model: \"model\"\n",
      "_________________________________________________________________\n",
      " Layer (type)                Output Shape              Param #   \n",
      "=================================================================\n",
      " input_1 (InputLayer)        [(None, 20000)]           0         \n",
      "                                                                 \n",
      " dense (Dense)               (None, 16)                320016    \n",
      "                                                                 \n",
      " dropout (Dropout)           (None, 16)                0         \n",
      "                                                                 \n",
      " dense_1 (Dense)             (None, 8)                 136       \n",
      "                                                                 \n",
      "=================================================================\n",
      "Total params: 320,152\n",
      "Trainable params: 320,152\n",
      "Non-trainable params: 0\n",
      "_________________________________________________________________\n"
     ]
    }
   ],
   "source": [
    "model.summary()"
   ]
  },
  {
   "cell_type": "code",
   "execution_count": 21,
   "metadata": {},
   "outputs": [],
   "source": [
    "model.compile(optimizer='rmsprop', loss='sparse_categorical_crossentropy', metrics=['accuracy'])"
   ]
  },
  {
   "cell_type": "code",
   "execution_count": 22,
   "metadata": {},
   "outputs": [],
   "source": [
    "early_stopping = EarlyStopping(patience=3, restore_best_weights=True)"
   ]
  },
  {
   "cell_type": "markdown",
   "metadata": {},
   "source": [
    "It doesn't seem strange that a bag-of-words model works well.  It may be that the easiest way to distinguish these authors is by their choice of words, as opposed to the way that they form sentences."
   ]
  },
  {
   "cell_type": "code",
   "execution_count": 23,
   "metadata": {},
   "outputs": [
    {
     "name": "stdout",
     "output_type": "stream",
     "text": [
      "Epoch 1/50\n",
      "562/562 [==============================] - 5s 7ms/step - loss: 1.2535 - accuracy: 0.5687 - val_loss: 0.7732 - val_accuracy: 0.8170\n",
      "Epoch 2/50\n",
      "562/562 [==============================] - 2s 3ms/step - loss: 0.6628 - accuracy: 0.7677 - val_loss: 0.5237 - val_accuracy: 0.8544\n",
      "Epoch 3/50\n",
      "562/562 [==============================] - 1s 2ms/step - loss: 0.4850 - accuracy: 0.8254 - val_loss: 0.4438 - val_accuracy: 0.8616\n",
      "Epoch 4/50\n",
      "562/562 [==============================] - 1s 2ms/step - loss: 0.4099 - accuracy: 0.8468 - val_loss: 0.4193 - val_accuracy: 0.8639\n",
      "Epoch 5/50\n",
      "562/562 [==============================] - 1s 2ms/step - loss: 0.3655 - accuracy: 0.8603 - val_loss: 0.4136 - val_accuracy: 0.8624\n",
      "Epoch 6/50\n",
      "562/562 [==============================] - 1s 2ms/step - loss: 0.3440 - accuracy: 0.8699 - val_loss: 0.4102 - val_accuracy: 0.8656\n",
      "Epoch 7/50\n",
      "562/562 [==============================] - 1s 2ms/step - loss: 0.3349 - accuracy: 0.8713 - val_loss: 0.4111 - val_accuracy: 0.8644\n",
      "Epoch 8/50\n",
      "562/562 [==============================] - 1s 2ms/step - loss: 0.3270 - accuracy: 0.8777 - val_loss: 0.4217 - val_accuracy: 0.8631\n",
      "Epoch 9/50\n",
      "562/562 [==============================] - 1s 2ms/step - loss: 0.3175 - accuracy: 0.8808 - val_loss: 0.4367 - val_accuracy: 0.8606\n"
     ]
    }
   ],
   "source": [
    "history = model.fit(binary_2gram_train_ds.cache(),\n",
    "                    validation_data=binary_2gram_test_ds.cache(),\n",
    "                    epochs=50,\n",
    "                    callbacks=[early_stopping]\n",
    "                   )"
   ]
  },
  {
   "cell_type": "markdown",
   "metadata": {},
   "source": [
    "## Sequential approach"
   ]
  },
  {
   "cell_type": "code",
   "execution_count": 29,
   "metadata": {},
   "outputs": [],
   "source": [
    "max_tokens = 20000\n",
    "max_length=35\n",
    "\n",
    "text_vectorization = layers.TextVectorization(\n",
    "    max_tokens=max_tokens,\n",
    "    output_mode='int',\n",
    "    output_sequence_length=max_length\n",
    ")"
   ]
  },
  {
   "cell_type": "code",
   "execution_count": 30,
   "metadata": {},
   "outputs": [],
   "source": [
    "# pairs in int_train_ds are (token index sequence, author)\n",
    "text_vectorization.adapt(text_only_train_ds)\n",
    "\n",
    "int_train_ds = train_ds.map(lambda x,y: (text_vectorization(x), y), num_parallel_calls=16)\n",
    "int_test_ds  = test_ds.map(lambda x,y: (text_vectorization(x), y), num_parallel_calls=16)"
   ]
  },
  {
   "cell_type": "markdown",
   "metadata": {},
   "source": [
    "A bidirectional LSTM model with a one-hot or custom embedding layer."
   ]
  },
  {
   "cell_type": "code",
   "execution_count": 242,
   "metadata": {},
   "outputs": [],
   "source": [
    "def get_seq_model(max_tokens=max_tokens, embedding_dim=16, recurrent_layers=[16]):\n",
    "    # input is a sequence of ints, of unknown length\n",
    "    inputs = keras.Input(shape=(None,), dtype=\"int64\") \n",
    "    if embedding_dim > 0:\n",
    "        # custom embedding\n",
    "        x = layers.Embedding(input_dim=max_tokens, output_dim=embedding_dim, mask_zero=True)(inputs)\n",
    "    else:\n",
    "        # simple one-hot encoding\n",
    "        x = tf.one_hot(inputs, depth=max_tokens)\n",
    "    \n",
    "    for i, num_cells in enumerate(recurrent_layers):\n",
    "        return_sequences = (i < len(recurrent_layers) - 1)\n",
    "        x = layers.LSTM(num_cells, return_sequences=return_sequences)(x)\n",
    "            \n",
    "    x = layers.Dropout(0.5)(x) \n",
    "    outputs = layers.Dense(num_classes, activation=\"relu\")(x)\n",
    "    model = keras.Model(inputs, outputs)\n",
    "    return model"
   ]
  },
  {
   "cell_type": "markdown",
   "metadata": {},
   "source": [
    "The model appears to be very sensitive to the embedding size, and number of recurrent cells."
   ]
  },
  {
   "cell_type": "code",
   "execution_count": 68,
   "metadata": {},
   "outputs": [],
   "source": [
    "class StopIfNotLearning(keras.callbacks.Callback):\n",
    "    \n",
    "    \"\"\" Stop training immediately if validation accuracy is too low. \"\"\"\n",
    "    \n",
    "    def __init__(self, threshold):\n",
    "        self.threshold = threshold\n",
    "        \n",
    "    def on_epoch_end(self, epoch, logs=None):\n",
    "        val_acc = logs.get('val_accuracy')\n",
    "        if epoch == 0 and val_acc < self.threshold:\n",
    "            self.model.stop_training = True\n",
    "            print('Stopping because model not learning.')"
   ]
  },
  {
   "cell_type": "code",
   "execution_count": 69,
   "metadata": {},
   "outputs": [],
   "source": [
    "stop_if_not_learning = StopIfNotLearning(0.126)"
   ]
  },
  {
   "cell_type": "code",
   "execution_count": 173,
   "metadata": {},
   "outputs": [],
   "source": [
    "def test_model(params):\n",
    "    \"\"\" Perform a grid search. \"\"\"\n",
    "    \n",
    "    print(params)\n",
    "    embedding_dim = params.get('embedding_dim', 16)\n",
    "    recurrent_layers = params.get('recurrent_layers', [16])\n",
    "    \n",
    "    K.clear_session()\n",
    "    model = get_seq_model(embedding_dim=embedding_dim, recurrent_layers=recurrent_layers)\n",
    "    model.compile(optimizer='rmsprop', loss='sparse_categorical_crossentropy', metrics=['accuracy'])   \n",
    "    history = model.fit(int_train_ds.cache(),\n",
    "                        validation_data=int_test_ds.cache(),\n",
    "                        epochs=4,\n",
    "                        callbacks=[early_stopping, stop_if_not_learning]\n",
    "                       )\n",
    "    return history"
   ]
  },
  {
   "cell_type": "code",
   "execution_count": 225,
   "metadata": {
    "scrolled": false
   },
   "outputs": [
    {
     "name": "stdout",
     "output_type": "stream",
     "text": [
      "{'embedding_dim': 24, 'recurrent_layers': [16, 16]}\n",
      "Epoch 1/4\n",
      "562/562 [==============================] - 13s 17ms/step - loss: 2.2900 - accuracy: 0.3005 - val_loss: 1.5858 - val_accuracy: 0.4732\n",
      "Epoch 2/4\n",
      "562/562 [==============================] - 6s 10ms/step - loss: 1.6061 - accuracy: 0.5324 - val_loss: 1.6887 - val_accuracy: 0.5709\n",
      "Epoch 3/4\n",
      "562/562 [==============================] - 5s 10ms/step - loss: 1.4943 - accuracy: 0.6243 - val_loss: 2.1091 - val_accuracy: 0.5647\n",
      "Epoch 4/4\n",
      "562/562 [==============================] - 5s 10ms/step - loss: 1.8511 - accuracy: 0.5639 - val_loss: 1.8885 - val_accuracy: 0.2192\n",
      "{'embedding_dim': 24, 'recurrent_layers': [16, 16, 16]}\n",
      "Epoch 1/4\n",
      "562/562 [==============================] - 17s 22ms/step - loss: 2.1970 - accuracy: 0.2862 - val_loss: 1.6842 - val_accuracy: 0.5043\n",
      "Epoch 2/4\n",
      "562/562 [==============================] - 8s 14ms/step - loss: 1.6445 - accuracy: 0.5142 - val_loss: 1.8008 - val_accuracy: 0.5460\n",
      "Epoch 3/4\n",
      "562/562 [==============================] - 7s 13ms/step - loss: 1.5745 - accuracy: 0.6146 - val_loss: 2.1499 - val_accuracy: 0.5672\n",
      "Epoch 4/4\n",
      "562/562 [==============================] - 7s 13ms/step - loss: 1.7841 - accuracy: 0.5415 - val_loss: 1.9405 - val_accuracy: 0.1972\n",
      "{'embedding_dim': 24, 'recurrent_layers': [16, 16, 16, 16]}\n",
      "Epoch 1/4\n",
      "562/562 [==============================] - ETA: 0s - loss: 2.3516 - accuracy: 0.1251Stopping because model not learning.\n",
      "562/562 [==============================] - 21s 27ms/step - loss: 2.3516 - accuracy: 0.1251 - val_loss: 2.0794 - val_accuracy: 0.1252\n",
      "{'embedding_dim': 32, 'recurrent_layers': [16, 16]}\n",
      "Epoch 1/4\n",
      "557/562 [============================>.] - ETA: 0s - loss: 2.2213 - accuracy: 0.1262Stopping because model not learning.\n",
      "562/562 [==============================] - 13s 17ms/step - loss: 2.2202 - accuracy: 0.1262 - val_loss: 2.0794 - val_accuracy: 0.1252\n",
      "{'embedding_dim': 32, 'recurrent_layers': [16, 16, 16]}\n",
      "Epoch 1/4\n",
      "562/562 [==============================] - 17s 22ms/step - loss: 2.2663 - accuracy: 0.2741 - val_loss: 1.8970 - val_accuracy: 0.3727\n",
      "Epoch 2/4\n",
      "562/562 [==============================] - 8s 13ms/step - loss: 1.6381 - accuracy: 0.5104 - val_loss: 1.8193 - val_accuracy: 0.5480\n",
      "Epoch 3/4\n",
      "562/562 [==============================] - 7s 13ms/step - loss: 1.6335 - accuracy: 0.6297 - val_loss: 2.5848 - val_accuracy: 0.6013\n",
      "Epoch 4/4\n",
      "562/562 [==============================] - 7s 13ms/step - loss: 1.9817 - accuracy: 0.3135 - val_loss: 2.0401 - val_accuracy: 0.1364\n",
      "{'embedding_dim': 32, 'recurrent_layers': [16, 16, 16, 16]}\n",
      "Epoch 1/4\n",
      "562/562 [==============================] - 21s 27ms/step - loss: 1.9853 - accuracy: 0.3000 - val_loss: 1.6727 - val_accuracy: 0.4166\n",
      "Epoch 2/4\n",
      "562/562 [==============================] - 9s 17ms/step - loss: 1.6712 - accuracy: 0.4763 - val_loss: 1.7176 - val_accuracy: 0.5241\n",
      "Epoch 3/4\n",
      "562/562 [==============================] - 9s 17ms/step - loss: 1.6691 - accuracy: 0.5768 - val_loss: 2.0633 - val_accuracy: 0.5667\n",
      "Epoch 4/4\n",
      "562/562 [==============================] - 9s 17ms/step - loss: 1.9297 - accuracy: 0.5365 - val_loss: 1.9647 - val_accuracy: 0.1845\n",
      "{'embedding_dim': 48, 'recurrent_layers': [16, 16]}\n",
      "Epoch 1/4\n",
      "562/562 [==============================] - 13s 17ms/step - loss: 2.2277 - accuracy: 0.2898 - val_loss: 1.6792 - val_accuracy: 0.4593\n",
      "Epoch 2/4\n",
      "562/562 [==============================] - 6s 10ms/step - loss: 1.6899 - accuracy: 0.5041 - val_loss: 2.3281 - val_accuracy: 0.5260\n",
      "Epoch 3/4\n",
      "562/562 [==============================] - 6s 10ms/step - loss: 1.6336 - accuracy: 0.6177 - val_loss: 2.7093 - val_accuracy: 0.6053\n",
      "Epoch 4/4\n",
      "562/562 [==============================] - 6s 10ms/step - loss: 1.9645 - accuracy: 0.4092 - val_loss: 1.9983 - val_accuracy: 0.1653\n",
      "{'embedding_dim': 48, 'recurrent_layers': [16, 16, 16]}\n",
      "Epoch 1/4\n",
      "559/562 [============================>.] - ETA: 0s - loss: 2.3118 - accuracy: 0.1246Stopping because model not learning.\n",
      "562/562 [==============================] - 17s 22ms/step - loss: 2.3108 - accuracy: 0.1243 - val_loss: 2.0794 - val_accuracy: 0.1252\n",
      "{'embedding_dim': 48, 'recurrent_layers': [16, 16, 16, 16]}\n",
      "Epoch 1/4\n",
      "562/562 [==============================] - 21s 27ms/step - loss: 2.7999 - accuracy: 0.2674 - val_loss: 1.9767 - val_accuracy: 0.4243\n",
      "Epoch 2/4\n",
      "562/562 [==============================] - 10s 18ms/step - loss: 1.7274 - accuracy: 0.4750 - val_loss: 2.6919 - val_accuracy: 0.4884\n",
      "Epoch 3/4\n",
      "562/562 [==============================] - 10s 17ms/step - loss: 1.8306 - accuracy: 0.5727 - val_loss: 3.5571 - val_accuracy: 0.4966\n",
      "Epoch 4/4\n",
      "562/562 [==============================] - 10s 17ms/step - loss: 2.2037 - accuracy: 0.1966 - val_loss: 2.0794 - val_accuracy: 0.1252\n"
     ]
    }
   ],
   "source": [
    "param_grid = {'embedding_dim': [24,32,48], 'recurrent_layers': [[16, 16], [16, 16, 16], [16, 16, 16, 16]]}\n",
    "results = []\n",
    "for params in ParameterGrid(param_grid):\n",
    "    history = test_model(params)\n",
    "    test_results = params.copy()\n",
    "    test_results['best_accuracy'] = max(history.history['val_accuracy'])\n",
    "    results.append(test_results)\n",
    "    \n",
    "results_df = pd.DataFrame(results)"
   ]
  },
  {
   "cell_type": "code",
   "execution_count": 226,
   "metadata": {},
   "outputs": [
    {
     "name": "stdout",
     "output_type": "stream",
     "text": [
      "   embedding_dim  recurrent_layers  best_accuracy\n",
      "0             24          [16, 16]       0.570880\n",
      "1             24      [16, 16, 16]       0.567207\n",
      "2             24  [16, 16, 16, 16]       0.125230\n",
      "3             32          [16, 16]       0.125230\n",
      "4             32      [16, 16, 16]       0.601269\n",
      "5             32  [16, 16, 16, 16]       0.566706\n",
      "6             48          [16, 16]       0.605276\n",
      "7             48      [16, 16, 16]       0.125230\n",
      "8             48  [16, 16, 16, 16]       0.496577\n"
     ]
    }
   ],
   "source": [
    "print(results_df)"
   ]
  },
  {
   "cell_type": "code",
   "execution_count": 227,
   "metadata": {},
   "outputs": [],
   "source": [
    "if all_results is None:\n",
    "    all_results = []\n",
    "all_results.append(results_df)"
   ]
  },
  {
   "cell_type": "code",
   "execution_count": 228,
   "metadata": {},
   "outputs": [
    {
     "name": "stdout",
     "output_type": "stream",
     "text": [
      "   embedding_dim  recurrent_layers  best_accuracy\n",
      "6             48          [16, 16]       0.605276\n",
      "4             32      [16, 16, 16]       0.601269\n",
      "1             32          [16, 16]       0.578728\n",
      "4             12              [16]       0.577225\n",
      "0             24          [16, 16]       0.570880\n",
      "1             24      [16, 16, 16]       0.567207\n",
      "2             32      [16, 16, 16]       0.566706\n",
      "5             32  [16, 16, 16, 16]       0.566706\n",
      "2              8      [16, 16, 16]       0.565704\n",
      "1             64          [16, 16]       0.564034\n",
      "1              8          [16, 16]       0.563533\n",
      "5             16      [16, 16, 16]       0.563199\n",
      "5             12          [16, 16]       0.559192\n",
      "2             12      [16, 16, 16]       0.545834\n",
      "3              8          [32, 32]       0.544498\n",
      "0             32              [16]       0.527634\n",
      "2             12              [16]       0.517783\n",
      "8             48  [16, 16, 16, 16]       0.496577\n",
      "3             10            [8, 8]       0.496410\n",
      "1              8            [8, 8]       0.490232\n",
      "0              8              [16]       0.481216\n",
      "2             64      [16, 16, 16]       0.469694\n",
      "1             10  [16, 16, 16, 16]       0.461179\n",
      "7             12          [32, 32]       0.125230\n",
      "7             48      [16, 16, 16]       0.125230\n",
      "3             12          [16, 16]       0.125230\n",
      "0              8              [16]       0.125230\n",
      "1              8          [16, 16]       0.125230\n",
      "3             32          [16, 16]       0.125230\n",
      "2             24  [16, 16, 16, 16]       0.125230\n",
      "6             12      [16, 16, 16]       0.125230\n",
      "1             12          [16, 16]       0.125230\n",
      "1              8              [64]       0.125230\n",
      "0              8               [8]       0.125230\n",
      "0             64              [16]       0.125230\n",
      "2             10               [8]       0.125230\n",
      "0             10              [24]       0.125230\n",
      "0              8              [32]       0.125230\n",
      "4             16          [16, 16]       0.125230\n",
      "3             16              [16]       0.125230\n",
      "0             12              [16]       0.125230\n"
     ]
    }
   ],
   "source": [
    "all_results_df = pd.concat(all_results)\n",
    "print(all_results_df.sort_values(by='best_accuracy', ascending=False))"
   ]
  },
  {
   "cell_type": "markdown",
   "metadata": {},
   "source": [
    "It appears that an embedding dimension of 32 works pretty well, on average."
   ]
  },
  {
   "cell_type": "code",
   "execution_count": 229,
   "metadata": {},
   "outputs": [
    {
     "data": {
      "image/png": "[encoded data removed]",
      "text/plain": [
       "<Figure size 300x300 with 1 Axes>"
      ]
     },
     "metadata": {},
     "output_type": "display_data"
    }
   ],
   "source": [
    "all_results_df.groupby('embedding_dim')['best_accuracy'].median().plot.bar();"
   ]
  },
  {
   "cell_type": "markdown",
   "metadata": {},
   "source": [
    "32 is also best for variance."
   ]
  },
  {
   "cell_type": "code",
   "execution_count": 239,
   "metadata": {},
   "outputs": [
    {
     "data": {
      "image/png": "[encoded data removed]",
      "text/plain": [
       "<Figure size 300x300 with 1 Axes>"
      ]
     },
     "metadata": {},
     "output_type": "display_data"
    }
   ],
   "source": [
    "all_results_df.groupby('embedding_dim')['best_accuracy'].var().plot.bar();"
   ]
  },
  {
   "cell_type": "markdown",
   "metadata": {},
   "source": [
    "It appears that three recurrent layers work best, on average."
   ]
  },
  {
   "cell_type": "code",
   "execution_count": 231,
   "metadata": {},
   "outputs": [
    {
     "data": {
      "image/png": "[encoded data removed]",
      "text/plain": [
       "<Figure size 300x300 with 1 Axes>"
      ]
     },
     "metadata": {},
     "output_type": "display_data"
    }
   ],
   "source": [
    "temp = all_results_df.copy()\n",
    "temp['num_layers'] = all_results_df['recurrent_layers'].apply(len).values\n",
    "temp.groupby('num_layers')['best_accuracy'].median().plot.bar();"
   ]
  },
  {
   "cell_type": "markdown",
   "metadata": {},
   "source": [
    "3 layers is also best for variance."
   ]
  },
  {
   "cell_type": "code",
   "execution_count": 237,
   "metadata": {},
   "outputs": [
    {
     "data": {
      "image/png": "[encoded data removed]",
      "text/plain": [
       "<Figure size 300x300 with 1 Axes>"
      ]
     },
     "metadata": {},
     "output_type": "display_data"
    }
   ],
   "source": [
    "temp.groupby('num_layers')['best_accuracy'].var().plot.bar();"
   ]
  },
  {
   "cell_type": "markdown",
   "metadata": {},
   "source": [
    "It appears that 16 recurrent cells works best."
   ]
  },
  {
   "cell_type": "code",
   "execution_count": 233,
   "metadata": {},
   "outputs": [
    {
     "data": {
      "image/png": "[encoded data removed]",
      "text/plain": [
       "<Figure size 300x300 with 1 Axes>"
      ]
     },
     "metadata": {},
     "output_type": "display_data"
    }
   ],
   "source": [
    "temp['num_recurrent_cells'] = all_results_df['recurrent_layers'].apply(np.mean)\n",
    "temp.groupby('num_recurrent_cells')['best_accuracy'].median().plot.bar();"
   ]
  },
  {
   "cell_type": "markdown",
   "metadata": {},
   "source": [
    "16 recurrent cells is also best for variance."
   ]
  },
  {
   "cell_type": "code",
   "execution_count": 236,
   "metadata": {},
   "outputs": [
    {
     "data": {
      "image/png": "[encoded data removed]",
      "text/plain": [
       "<Figure size 300x300 with 1 Axes>"
      ]
     },
     "metadata": {},
     "output_type": "display_data"
    }
   ],
   "source": [
    "temp.groupby('num_recurrent_cells')['best_accuracy'].var().plot.bar();"
   ]
  },
  {
   "cell_type": "markdown",
   "metadata": {},
   "source": [
    "A good model, on average."
   ]
  },
  {
   "cell_type": "code",
   "execution_count": 255,
   "metadata": {},
   "outputs": [
    {
     "name": "stdout",
     "output_type": "stream",
     "text": [
      "Model: \"model\"\n",
      "_________________________________________________________________\n",
      " Layer (type)                Output Shape              Param #   \n",
      "=================================================================\n",
      " input_1 (InputLayer)        [(None, None)]            0         \n",
      "                                                                 \n",
      " embedding (Embedding)       (None, None, 32)          640000    \n",
      "                                                                 \n",
      " lstm (LSTM)                 (None, None, 16)          3136      \n",
      "                                                                 \n",
      " lstm_1 (LSTM)               (None, None, 16)          2112      \n",
      "                                                                 \n",
      " lstm_2 (LSTM)               (None, 16)                2112      \n",
      "                                                                 \n",
      " dropout (Dropout)           (None, 16)                0         \n",
      "                                                                 \n",
      " dense (Dense)               (None, 8)                 136       \n",
      "                                                                 \n",
      "=================================================================\n",
      "Total params: 647,496\n",
      "Trainable params: 647,496\n",
      "Non-trainable params: 0\n",
      "_________________________________________________________________\n"
     ]
    }
   ],
   "source": [
    "K.clear_session()\n",
    "model = get_seq_model(embedding_dim=32, recurrent_layers=[16, 16, 16])\n",
    "model.summary()"
   ]
  },
  {
   "cell_type": "markdown",
   "metadata": {},
   "source": [
    "Adam and nadam also seem to work okay.  It's possible that there is less variance when using adam or nadam."
   ]
  },
  {
   "cell_type": "code",
   "execution_count": 256,
   "metadata": {},
   "outputs": [],
   "source": [
    "model.compile(optimizer='rmsprop', loss='sparse_categorical_crossentropy', metrics=['accuracy'])"
   ]
  },
  {
   "cell_type": "code",
   "execution_count": 257,
   "metadata": {},
   "outputs": [
    {
     "name": "stdout",
     "output_type": "stream",
     "text": [
      "Epoch 1/50\n",
      "562/562 [==============================] - 17s 21ms/step - loss: 2.1424 - accuracy: 0.2985 - val_loss: 2.0521 - val_accuracy: 0.3934\n",
      "Epoch 2/50\n",
      "562/562 [==============================] - 7s 13ms/step - loss: 1.6592 - accuracy: 0.4903 - val_loss: 2.1407 - val_accuracy: 0.5026\n",
      "Epoch 3/50\n",
      "562/562 [==============================] - 7s 13ms/step - loss: 1.5913 - accuracy: 0.5789 - val_loss: 2.1396 - val_accuracy: 0.5468\n",
      "Epoch 4/50\n",
      "562/562 [==============================] - 7s 13ms/step - loss: 1.5342 - accuracy: 0.6259 - val_loss: 3.3574 - val_accuracy: 0.5356\n"
     ]
    }
   ],
   "source": [
    "history = model.fit(int_train_ds.cache(),\n",
    "                    validation_data=int_test_ds.cache(),\n",
    "                    epochs=50,\n",
    "                    callbacks=[early_stopping]\n",
    "                   )"
   ]
  },
  {
   "cell_type": "markdown",
   "metadata": {},
   "source": [
    "### Pretrained (GloVe) embeddings"
   ]
  },
  {
   "cell_type": "code",
   "execution_count": 24,
   "metadata": {
    "scrolled": false
   },
   "outputs": [],
   "source": [
    "glove_dir = pathlib.Path(\"C:/Users/Glenn/Google Drive/CSUMB/courses/CST463-adv-machine-learning/datasets/glove-word-embeddings/glove.6B\")\n",
    "path_to_glove_file = glove_dir / 'glove.6B.100d.txt'\n",
    "embedding_dim = 100"
   ]
  },
  {
   "cell_type": "markdown",
   "metadata": {},
   "source": [
    "This is from Chollet, but encoding='utf8' needed to avoid decoding error."
   ]
  },
  {
   "cell_type": "code",
   "execution_count": 25,
   "metadata": {},
   "outputs": [],
   "source": [
    "def load_glove_model(file):\n",
    "\n",
    "    embeddings_index = {} \n",
    "    with open(path_to_glove_file, encoding='utf8') as f:  \n",
    "        for line in f:\n",
    "            word, coefs = line.split(maxsplit=1)\n",
    "            coefs = np.fromstring(coefs, \"f\", sep=\" \")\n",
    "            embeddings_index[word] = coefs\n",
    "    print(f\"Found {len(embeddings_index)} word vectors.\")\n",
    "    \n",
    "    return embeddings_index"
   ]
  },
  {
   "cell_type": "code",
   "execution_count": 26,
   "metadata": {},
   "outputs": [
    {
     "name": "stdout",
     "output_type": "stream",
     "text": [
      "Found 400000 word vectors.\n"
     ]
    }
   ],
   "source": [
    "embeddings_index = load_glove_model(path_to_glove_file)"
   ]
  },
  {
   "cell_type": "code",
   "execution_count": 27,
   "metadata": {},
   "outputs": [
    {
     "data": {
      "text/plain": [
       "array([-0.22472  , -0.90548  ,  1.0144   , -0.207    , -0.26524  ,\n",
       "        0.78904  , -0.41476  , -0.14425  , -0.23075  , -0.042493 ,\n",
       "       -0.066621 ,  1.3307   , -0.33281  , -0.40447  , -0.55741  ,\n",
       "       -0.14433  ,  0.22452  ,  0.61918  ,  0.032019 ,  0.18422  ,\n",
       "        0.12759  , -0.78489  , -0.19454  , -0.74448  ,  0.48331  ,\n",
       "        0.40592  ,  0.053454 , -0.90999  , -0.24271  , -0.50398  ,\n",
       "        0.34459  , -0.1695   , -0.73323  ,  0.18242  , -0.20539  ,\n",
       "        0.082089 , -0.25114  ,  0.33606  ,  0.32689  , -1.0689   ,\n",
       "       -0.38783  , -0.32596  ,  0.25779  , -0.34238  , -0.27072  ,\n",
       "       -0.49146  ,  0.3841   ,  0.030122 ,  0.2652   , -0.59712  ,\n",
       "       -0.015908 , -0.44596  , -0.33581  ,  0.76121  ,  0.5341   ,\n",
       "       -0.16729  ,  0.69395  , -0.64835  , -0.1194   ,  0.13988  ,\n",
       "        0.49166  ,  0.1156   , -0.21935  , -0.25856  ,  0.0052909,\n",
       "        0.55318  ,  0.076623 , -0.80822  ,  0.38003  , -0.33819  ,\n",
       "        0.23787  ,  0.94368  ,  0.017491 , -0.26324  ,  0.16777  ,\n",
       "        0.38246  , -0.24066  ,  0.043203 ,  0.18226  , -0.29577  ,\n",
       "       -0.57835  ,  0.37026  ,  0.016712 ,  0.35342  , -0.34466  ,\n",
       "        0.59118  ,  0.089852 ,  0.35171  , -0.64941  , -0.18964  ,\n",
       "        0.040748 ,  0.4315   ,  0.38925  ,  0.33904  ,  0.042665 ,\n",
       "       -0.093478 ,  1.0543   , -0.13402  ,  0.0025309,  0.56284  ],\n",
       "      dtype=float32)"
      ]
     },
     "execution_count": 27,
     "metadata": {},
     "output_type": "execute_result"
    }
   ],
   "source": [
    "# sanity check\n",
    "embeddings_index['sanity']"
   ]
  },
  {
   "cell_type": "markdown",
   "metadata": {},
   "source": [
    "#### Build a word embedding matrix"
   ]
  },
  {
   "cell_type": "markdown",
   "metadata": {},
   "source": [
    "I was getting a unicode decode error on the following statement.\n",
    "\n",
    "Apparently there is a bug with certain versions of TensorFlow and Python on Windows.\n",
    "A workaround is to change the default character encoding on Windows.\n",
    "\n",
    "https://github.com/tensorflow/tensorflow/issues/43559\n",
    "\n",
    "https://scholarslab.github.io/learn-twarc/08-win-region-settings\n",
    "\n",
    "Changing the default encoding worked for me."
   ]
  },
  {
   "cell_type": "code",
   "execution_count": 31,
   "metadata": {},
   "outputs": [],
   "source": [
    "vocabulary = text_vectorization.get_vocabulary()"
   ]
  },
  {
   "cell_type": "code",
   "execution_count": 33,
   "metadata": {},
   "outputs": [],
   "source": [
    "word_index = dict(zip(vocabulary, range(len(vocabulary))))  # maps words to token indexes\n",
    "embedding_matrix = np.zeros((max_tokens, embedding_dim))    # embedding_matrix[i] is embedding for token index i\n",
    "for word, i in word_index.items():\n",
    "    if i < max_tokens:\n",
    "        embedding_vector = embeddings_index.get(word)\n",
    "    if embedding_vector is not None:\n",
    "        embedding_matrix[i] = embedding_vector"
   ]
  },
  {
   "cell_type": "code",
   "execution_count": 37,
   "metadata": {},
   "outputs": [
    {
     "name": "stdout",
     "output_type": "stream",
     "text": [
      "8015\n"
     ]
    },
    {
     "data": {
      "text/plain": [
       "array([-0.22472   , -0.90548003,  1.01440001, -0.207     , -0.26524001,\n",
       "        0.78904003, -0.41475999, -0.14425001, -0.23074999, -0.042493  ,\n",
       "       -0.066621  ,  1.33070004, -0.33281001, -0.40447   , -0.55741   ,\n",
       "       -0.14432999,  0.22452   ,  0.61918002,  0.032019  ,  0.18422   ,\n",
       "        0.12759   , -0.78489   , -0.19453999, -0.74448001,  0.48331001,\n",
       "        0.40592   ,  0.053454  , -0.90999001, -0.24270999, -0.50397998,\n",
       "        0.34459001, -0.16949999, -0.73322999,  0.18242   , -0.20539001,\n",
       "        0.082089  , -0.25114   ,  0.33605999,  0.32688999, -1.06889999,\n",
       "       -0.38782999, -0.32596001,  0.25779   , -0.34237999, -0.27072001,\n",
       "       -0.49146   ,  0.38409999,  0.030122  ,  0.26519999, -0.59711999,\n",
       "       -0.015908  , -0.44595999, -0.33581001,  0.76121002,  0.5341    ,\n",
       "       -0.16729   ,  0.69395   , -0.64835   , -0.1194    ,  0.13988   ,\n",
       "        0.49166   ,  0.1156    , -0.21935   , -0.25856   ,  0.0052909 ,\n",
       "        0.55317998,  0.076623  , -0.80822003,  0.38003001, -0.33818999,\n",
       "        0.23786999,  0.94367999,  0.017491  , -0.26324001,  0.16777   ,\n",
       "        0.38246   , -0.24066   ,  0.043203  ,  0.18226001, -0.29576999,\n",
       "       -0.57835001,  0.37026   ,  0.016712  ,  0.35341999, -0.34466001,\n",
       "        0.59118003,  0.089852  ,  0.35170999, -0.64941001, -0.18964   ,\n",
       "        0.040748  ,  0.43149999,  0.38925001,  0.33904001,  0.042665  ,\n",
       "       -0.093478  ,  1.05429995, -0.13402   ,  0.0025309 ,  0.56283998])"
      ]
     },
     "execution_count": 37,
     "metadata": {},
     "output_type": "execute_result"
    }
   ],
   "source": [
    "# sanity check\n",
    "print(word_index['sanity'])\n",
    "embedding_matrix[8015]"
   ]
  },
  {
   "cell_type": "markdown",
   "metadata": {},
   "source": [
    "#### load GloVe embeddings into a embedding layer"
   ]
  },
  {
   "cell_type": "code",
   "execution_count": 40,
   "metadata": {},
   "outputs": [],
   "source": [
    "embedding_layer = layers.Embedding(\n",
    "    max_tokens,\n",
    "    embedding_dim,\n",
    "    embeddings_initializer=keras.initializers.Constant(embedding_matrix), \n",
    "    trainable=False, \n",
    "    mask_zero=True\n",
    ")"
   ]
  },
  {
   "cell_type": "markdown",
   "metadata": {},
   "source": [
    "#### a model that uses the embedding layer"
   ]
  },
  {
   "cell_type": "code",
   "execution_count": 41,
   "metadata": {},
   "outputs": [],
   "source": [
    "def get_model_with_pretrained_emb(recurrent_layers=[16]):\n",
    "    # input is a sequence of ints, of unknown length\n",
    "    inputs = keras.Input(shape=(None,), dtype=\"int64\") \n",
    "    x = embedding_layer(inputs)\n",
    "    \n",
    "    for i, num_cells in enumerate(recurrent_layers):\n",
    "        return_sequences = (i < len(recurrent_layers) - 1)\n",
    "        x = layers.LSTM(num_cells, return_sequences=return_sequences)(x)\n",
    "            \n",
    "    x = layers.Dropout(0.5)(x) \n",
    "    outputs = layers.Dense(num_classes, activation=\"relu\")(x)\n",
    "    model = keras.Model(inputs, outputs)\n",
    "    return model"
   ]
  },
  {
   "cell_type": "code",
   "execution_count": 79,
   "metadata": {},
   "outputs": [],
   "source": [
    "K.clear_session()\n",
    "model = get_model_with_pretrained_emb(recurrent_layers=[32, 32, 32])\n",
    "model.compile(optimizer='rmsprop', loss='sparse_categorical_crossentropy', metrics=['accuracy'])   "
   ]
  },
  {
   "cell_type": "code",
   "execution_count": 80,
   "metadata": {},
   "outputs": [
    {
     "name": "stdout",
     "output_type": "stream",
     "text": [
      "Model: \"model\"\n",
      "_________________________________________________________________\n",
      " Layer (type)                Output Shape              Param #   \n",
      "=================================================================\n",
      " input_1 (InputLayer)        [(None, None)]            0         \n",
      "                                                                 \n",
      " embedding (Embedding)       (None, None, 100)         2000000   \n",
      "                                                                 \n",
      " lstm (LSTM)                 (None, None, 32)          17024     \n",
      "                                                                 \n",
      " lstm_1 (LSTM)               (None, None, 32)          8320      \n",
      "                                                                 \n",
      " lstm_2 (LSTM)               (None, 32)                8320      \n",
      "                                                                 \n",
      " dropout (Dropout)           (None, 32)                0         \n",
      "                                                                 \n",
      " dense (Dense)               (None, 8)                 264       \n",
      "                                                                 \n",
      "=================================================================\n",
      "Total params: 2,033,928\n",
      "Trainable params: 33,928\n",
      "Non-trainable params: 2,000,000\n",
      "_________________________________________________________________\n"
     ]
    }
   ],
   "source": [
    "model.summary()"
   ]
  },
  {
   "cell_type": "markdown",
   "metadata": {},
   "source": [
    "This model, like the early model with learned embeddings, seems to have problems learning.\n",
    "\n",
    "When it trains, it reaches accuracy values similar to the model with the learned embedding layer: about 55% validation accuracy."
   ]
  },
  {
   "cell_type": "code",
   "execution_count": 81,
   "metadata": {},
   "outputs": [],
   "source": [
    "early_stopping = EarlyStopping(patience=6, restore_best_weights=True)"
   ]
  },
  {
   "cell_type": "code",
   "execution_count": 82,
   "metadata": {},
   "outputs": [
    {
     "name": "stdout",
     "output_type": "stream",
     "text": [
      "Epoch 1/50\n",
      "561/562 [============================>.] - ETA: 0s - loss: 3.9151 - accuracy: 0.1250Stopping because model not learning.\n",
      "562/562 [==============================] - 17s 23ms/step - loss: 3.9135 - accuracy: 0.1252 - val_loss: 2.0794 - val_accuracy: 0.1252\n"
     ]
    }
   ],
   "source": [
    "history = model.fit(int_train_ds.cache(),\n",
    "                    validation_data=int_test_ds.cache(),\n",
    "                    epochs=50,\n",
    "                    callbacks=[early_stopping, stop_if_not_learning]\n",
    "                    )"
   ]
  },
  {
   "cell_type": "code",
   "execution_count": null,
   "metadata": {},
   "outputs": [],
   "source": []
  }
 ],
 "metadata": {
  "colab": {
   "provenance": []
  },
  "kernelspec": {
   "display_name": "Python 3 (ipykernel)",
   "language": "python",
   "name": "python3"
  },
  "language_info": {
   "codemirror_mode": {
    "name": "ipython",
    "version": 3
   },
   "file_extension": ".py",
   "mimetype": "text/x-python",
   "name": "python",
   "nbconvert_exporter": "python",
   "pygments_lexer": "ipython3",
   "version": "3.9.18"
  }
 },
 "nbformat": 4,
 "nbformat_minor": 1
}
