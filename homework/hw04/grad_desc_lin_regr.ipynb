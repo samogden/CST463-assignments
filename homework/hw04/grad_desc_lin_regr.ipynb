{
 "cells": [
  {
   "cell_type": "markdown",
   "metadata": {
    "id": "cm-Ca2tINtDv"
   },
   "source": [
    "# Linear regression via gradient descent"
   ]
  },
  {
   "cell_type": "markdown",
   "metadata": {},
   "source": [
    "Please follow these instructions carefully:\n",
    "\n",
    "- Read all the code in the notebook.\n",
    "- There are 7 problems.  For each, replace the comment YOUR CODE HERE with your code.\n",
    "- Do not modify the code in other ways.  You may want to write additional test code while you're getting your code working.  If so, mark your test code clearly and then remove it before submitting.\n",
    "- Before submitting your code, select 'Restart and run all' from the Runtime menu.\n",
    "\n",
    "v0.1"
   ]
  },
  {
   "cell_type": "code",
   "execution_count": 1,
   "metadata": {
    "id": "yZabxQdKDlmv"
   },
   "outputs": [],
   "source": [
    "import numpy as np\n",
    "import pandas as pd\n",
    "import matplotlib.pyplot as plt\n",
    "from sklearn.preprocessing import StandardScaler\n",
    "from sklearn.linear_model import LinearRegression\n",
    "import sys"
   ]
  },
  {
   "cell_type": "markdown",
   "metadata": {
    "id": "NTbqZrhKKByW"
   },
   "source": [
    "## Partial derivatives\n",
    "\n",
    "In multivariable calculus, you are given the definition of a function f(x,y) and told to find the partial derivative df/dx.  The partial derivative is a function, and in general is a function of x and y.\n",
    "\n",
    "For example, if f is defined by f(x,y) = 2x^2 + xy, for which df/dx is 4x + y and df/dy = x.  \n",
    "\n",
    "df/dx and df/dx are functions.  If (x,y) = (1,2) then df/dx(x,y) is 6 and df/dy(x,y) is 1."
   ]
  },
  {
   "cell_type": "code",
   "execution_count": 3,
   "metadata": {
    "id": "PFlRV_-tUXB4"
   },
   "outputs": [],
   "source": [
    "def update_ith(x, i, u):\n",
    "    \"\"\" Return a copy of x with the ith element changed to u. \"\"\"\n",
    "    \n",
    "    z = x.copy()\n",
    "    z[i] = u\n",
    "    return z    \n",
    "\n",
    "def partial_deriv(f, i, h=0.00001):\n",
    "    \"\"\" Numerical approximation to the partial derivative of f with respect to its ith input \"\"\"\n",
    "\n",
    "    # use the \"two-sided\" approximation of the partial derivative\n",
    "    return lambda x: (f(update_ith(x, i, x[i]+h)) - f(update_ith(x, i, x[i]-h)))/(2*h) "
   ]
  },
  {
   "cell_type": "code",
   "execution_count": 4,
   "metadata": {
    "id": "ecDTLVyOUXB4",
    "outputId": "e1ce4c5d-53c1-4ab6-f712-eb5b16418429"
   },
   "outputs": [
    {
     "name": "stdout",
     "output_type": "stream",
     "text": [
      "[1.1 2. ]\n",
      "[1.  2.2]\n",
      "4.0\n",
      "4.0602\n",
      "6.00000\n",
      "1.00000\n"
     ]
    }
   ],
   "source": [
    "# test update_ith() and partial_deriv()\n",
    "\n",
    "x = np.array([1.0, 2.0])\n",
    "print(update_ith(x, 0, 1.1))\n",
    "print(update_ith(x, 1, 2.2))\n",
    "\n",
    "# f takes as input an array x of length 2\n",
    "def f(x):\n",
    "    return 2*x[0]**2 + x[0]*x[1]\n",
    "\n",
    "print(f(x))\n",
    "print(f(update_ith(x, 0, x[0]+0.01)))\n",
    "\n",
    "fx = partial_deriv(f, 0)\n",
    "fy = partial_deriv(f, 1)\n",
    "print(f'{fx(x):.5f}')\n",
    "print(f'{fy(x):.5f}')"
   ]
  },
  {
   "cell_type": "markdown",
   "metadata": {
    "id": "SM-2s6OCUXB5"
   },
   "source": [
    "## Gradients\n",
    "\n",
    "The gradient of f take as input x,y and returns the vector (df/dx(x,y), df/dy(x,y)).\n",
    "\n",
    "For example, let f be defined by f(x,y) = 2x^2 + xy, for which df/dx is 4x + y and df/dy = x.  \n",
    "The gradient of f, applied at input x=1,y=2 is (df/dx(1,2), df/dy(1,2)), which is (4(1) + 1, 1) = (5,1).\n",
    "\n",
    "We can compute the value of a gradient numerically, just as we did for derivatives."
   ]
  },
  {
   "cell_type": "markdown",
   "metadata": {},
   "source": [
    "### Problem 1\n",
    "\n",
    "Implement the body of the gradient() function.  Use function partial_deriv() in your code.\n",
    "The function that is returned by gradient() should itself return a NumPy array.\n",
    "\n",
    "Hint: you may want to use a list comprehension."
   ]
  },
  {
   "cell_type": "code",
   "execution_count": 5,
   "metadata": {
    "id": "YSlqflZMJ9Wg"
   },
   "outputs": [],
   "source": [
    "def gradient(f, n):\n",
    "    \"\"\" return the gradient of multi-variate function f with n arguments (provided as a single array) \"\"\"\n",
    "    \n",
    "    return lambda x: # YOUR CODE HERE"
   ]
  },
  {
   "cell_type": "code",
   "execution_count": 6,
   "metadata": {
    "colab": {
     "base_uri": "https://localhost:8080/",
     "height": 70
    },
    "executionInfo": {
     "elapsed": 823,
     "status": "ok",
     "timestamp": 1599418996521,
     "user": {
      "displayName": "Glenn Bruns",
      "photoUrl": "",
      "userId": "02927676052174595786"
     },
     "user_tz": 420
    },
    "id": "8W5rWPnrKgsv",
    "outputId": "82a46fc8-a326-42cd-92b8-4dd4fd1c795a"
   },
   "outputs": [
    {
     "name": "stdout",
     "output_type": "stream",
     "text": [
      "x: [1. 2.], f_grad(x): [6. 1.]\n",
      "x: [0. 0.], f_grad(x): [0. 0.]\n",
      "x: [ 2. -1.], f_grad(x): [7. 2.]\n"
     ]
    }
   ],
   "source": [
    "# test the gradient() function\n",
    "\n",
    "def f(x):\n",
    "    return 2*x[0]**2 + x[0]*x[1]\n",
    "\n",
    "# print the gradient of f\n",
    "f_grad = gradient(f, 2)    # 2 because f is a function of 2 arguments\n",
    "xs = [ np.array(x) for x in [[1.0, 2.0], [0.0, 0.0], [2.0, -1.0]] ]\n",
    "for x in xs:\n",
    "    print(f'x: {x}, f_grad(x): {f_grad(x)}')"
   ]
  },
  {
   "cell_type": "markdown",
   "metadata": {
    "id": "Xv6-zzJ-_FSV"
   },
   "source": [
    "## Gradient descent\n",
    "\n",
    "In gradient descent we want to find the value of x that minimizes (or maximizes) a function f.  We do this by starting with some x, computing the value of the gradient of f at x, and then using that value to make an adjustment to x."
   ]
  },
  {
   "cell_type": "markdown",
   "metadata": {},
   "source": [
    "### Problem 2\n",
    "\n",
    "Implement the body of the grad_descent() function.  Be sure to use the L1 norm as indicated in the comments."
   ]
  },
  {
   "cell_type": "code",
   "execution_count": 7,
   "metadata": {
    "id": "kLFYL_3U_JY9"
   },
   "outputs": [],
   "source": [
    "def grad_descent(f, n, alpha=0.01, n_iterations=1000, threshold=0.0001):\n",
    "  \"\"\" Return the value x for which function f(x) is minimum, and also\n",
    "  the values of x along the path of gradient descent.  \n",
    "  The algorithm terminates when iteration limit is reach or when the\n",
    "  L1 norm of the change to x is below the threshold.  \"\"\"\n",
    "  \n",
    "  f_grad = gradient(f, n)\n",
    "\n",
    "  x = np.zeros(n)\n",
    "  xs = []\n",
    "  for i in range(n_iterations):\n",
    "    xs.append(x.copy())           # this is needed, else all values in xs will be the same\n",
    "    \n",
    "    # YOUR CODE HERE\n",
    "\n",
    "  print('warning: reached iteration limit')\n",
    "  return x, xs"
   ]
  },
  {
   "cell_type": "code",
   "execution_count": 8,
   "metadata": {
    "colab": {
     "base_uri": "https://localhost:8080/",
     "height": 52
    },
    "executionInfo": {
     "elapsed": 1195,
     "status": "ok",
     "timestamp": 1599418996916,
     "user": {
      "displayName": "Glenn Bruns",
      "photoUrl": "",
      "userId": "02927676052174595786"
     },
     "user_tz": 420
    },
    "id": "w9DKGU8YALJe",
    "outputId": "6298f0d0-122f-4e40-bf0e-96d6d2acc84d"
   },
   "outputs": [
    {
     "name": "stdout",
     "output_type": "stream",
     "text": [
      "x = [0.99517], f(x) = 0.000\n",
      "x = [-1.10297], f(x) = -0.649\n",
      "x = [ 0.99757 -0.99757], f(x) = 2.000\n"
     ]
    }
   ],
   "source": [
    "# test the grad_descent() function\n",
    "\n",
    "# test on a 1D function, for comparison with grad_descent_1d()\n",
    "f1 = lambda x: (x[0] - 1)**2\n",
    "f2 = lambda x: 0.2*(x[0]**2) + np.sin(x[0])\n",
    "for f in [f1, f2]:\n",
    "  x, xs = grad_descent(f, 1)\n",
    "  print(f'x = {x.round(5)}, f(x) = {f(x):.3f}')\n",
    "    \n",
    "# test on 2D function\n",
    "f = lambda x: (x[0]-1)**2 + (x[1]+1)**2 + 2.0\n",
    "x, xs = grad_descent(f, 2)\n",
    "print(f'x = {x.round(5)}, f(x) = {f(x):0.3f}')"
   ]
  },
  {
   "cell_type": "markdown",
   "metadata": {
    "id": "dWkGrOqvUXB-"
   },
   "source": [
    "Plot the value of the loss function as gradient descent proceeds."
   ]
  },
  {
   "cell_type": "code",
   "execution_count": 9,
   "metadata": {
    "id": "qgELkT8-IhUH"
   },
   "outputs": [],
   "source": [
    "def plot_descent(f, xs):\n",
    "  \"\"\" plot value of function f using history xs of gradient descent \"\"\"\n",
    "  plt.plot(range(len(xs)), [f(x) for x in xs])\n",
    "  plt.xlabel('iteration')\n",
    "  plt.ylabel('f(x)')\n",
    "  plt.title('Progress of gradient descent')\n",
    "  plt.grid();"
   ]
  },
  {
   "cell_type": "code",
   "execution_count": 10,
   "metadata": {
    "colab": {
     "base_uri": "https://localhost:8080/",
     "height": 294
    },
    "executionInfo": {
     "elapsed": 1588,
     "status": "ok",
     "timestamp": 1599418997321,
     "user": {
      "displayName": "Glenn Bruns",
      "photoUrl": "",
      "userId": "02927676052174595786"
     },
     "user_tz": 420
    },
    "id": "1hCdjCNsctK3",
    "outputId": "869661f8-17d7-42f8-cbea-fc2bedcfb575"
   },
   "outputs": [
    {
     "data": {
      "image/png": "[encoded data removed]",
      "text/plain": [
       "<Figure size 432x288 with 1 Axes>"
      ]
     },
     "metadata": {
      "needs_background": "light"
     },
     "output_type": "display_data"
    }
   ],
   "source": [
    "# plot progress of gradient descent for function f\n",
    "x, xs = grad_descent(f, 2)\n",
    "plot_descent(f, xs)"
   ]
  },
  {
   "cell_type": "markdown",
   "metadata": {
    "id": "q_ZRCn_NEySC"
   },
   "source": [
    "## MSE loss\n",
    "\n",
    "The key idea for training linear regression is that we want to use gradient descent to find the model parameters that minimize the loss function.  For linear regression, the loss function is \"mean squared error\" (MSE)."
   ]
  },
  {
   "cell_type": "markdown",
   "metadata": {
    "id": "4ACm25MhUXCA"
   },
   "source": [
    "Create some fake training data.  Note that the coefficients are in an array, and that the data has an extra first column of ones to make computing the value of the linear model simple.\n",
    "\n",
    "Because we generated the data ourselves, we know the true coefficients of the line."
   ]
  },
  {
   "cell_type": "code",
   "execution_count": 11,
   "metadata": {
    "id": "Ry6pMSUaEwDG"
   },
   "outputs": [],
   "source": [
    "# x is the array of predictor values, y is the target value\n",
    "# X,y are NumPy arrays\n",
    "np.random.seed(0)  # set seed for repeatability\n",
    "\n",
    "# the coefficients b0, b1\n",
    "b = np.array([1.5, 2.5])\n",
    "\n",
    "# generate points on the line y = b0 + b1*x, then add noise\n",
    "n = 20\n",
    "x1 = np.linspace(0, 10, num=n)   # n values evenly spaced from 0 to 10\n",
    "\n",
    "X = x1.reshape(n, 1)\n",
    "X1 = np.c_[np.ones(n), X]        # add new first column of 1's\n",
    "y = X1.dot(b) \n",
    "\n",
    "noise = np.random.normal(scale=4.0, size=n)   # n values sampled from normal distributions\n",
    "y = y + noise"
   ]
  },
  {
   "cell_type": "code",
   "execution_count": 12,
   "metadata": {
    "colab": {
     "base_uri": "https://localhost:8080/",
     "height": 294
    },
    "executionInfo": {
     "elapsed": 2014,
     "status": "ok",
     "timestamp": 1599418997759,
     "user": {
      "displayName": "Glenn Bruns",
      "photoUrl": "",
      "userId": "02927676052174595786"
     },
     "user_tz": 420
    },
    "id": "5jgNm8YEGO3-",
    "outputId": "4120880b-14b1-41f9-8f41-9e55743d735b"
   },
   "outputs": [
    {
     "data": {
      "image/png": "[encoded data removed]",
      "text/plain": [
       "<Figure size 432x288 with 1 Axes>"
      ]
     },
     "metadata": {
      "needs_background": "light"
     },
     "output_type": "display_data"
    }
   ],
   "source": [
    "# plot the training data\n",
    "plt.scatter(x1, y);\n",
    "plt.title('training data set')\n",
    "plt.xlabel('x')\n",
    "plt.ylabel('y');"
   ]
  },
  {
   "cell_type": "markdown",
   "metadata": {},
   "source": [
    "### Problem 3\n",
    "\n",
    "Implement the body of the mse_loss() function.  Note that to compute the mean squared error we need both the model parameters and the training data."
   ]
  },
  {
   "cell_type": "code",
   "execution_count": 13,
   "metadata": {
    "id": "b0TlwrfoGk7d"
   },
   "outputs": [],
   "source": [
    "def mse_loss(b, X1, y):\n",
    "    \"\"\" Return MSE loss for a linear function based on model parameters b and training data X1, y. \"\"\"\n",
    "    \n",
    "    # do not make any library calls\n",
    "    # use .dot() in your code\n",
    "    return # YOUR CODE HERE"
   ]
  },
  {
   "cell_type": "code",
   "execution_count": 14,
   "metadata": {
    "colab": {
     "base_uri": "https://localhost:8080/",
     "height": 105
    },
    "executionInfo": {
     "elapsed": 2004,
     "status": "ok",
     "timestamp": 1599418997761,
     "user": {
      "displayName": "Glenn Bruns",
      "photoUrl": "",
      "userId": "02927676052174595786"
     },
     "user_tz": 420
    },
    "id": "OJQ4FzAHKJ6_",
    "outputId": "7da64797-e43c-470c-e5eb-f1edf80044ef"
   },
   "outputs": [
    {
     "name": "stdout",
     "output_type": "stream",
     "text": [
      "b: [1.5 2.5], mse_loss(b): 16.751\n",
      "b: [0.5 2.5], mse_loss(b): 22.306\n",
      "b: [1.5 3.5], mse_loss(b): 36.568\n"
     ]
    }
   ],
   "source": [
    "# test the mse_loss() function by computing the loss for various\n",
    "# values of the linear parameters b\n",
    "\n",
    "for b1 in [b, np.array([b[0]-1, b[1]]), np.array([b[0], b[1]+1])]:\n",
    "    print(f'b: {b1}, mse_loss(b): {mse_loss(b1, X1, y):.3f}')"
   ]
  },
  {
   "cell_type": "markdown",
   "metadata": {
    "id": "2bpU22BtHFMa"
   },
   "source": [
    "## Linear regression\n",
    "\n",
    "Now we can put together our gradient descent function and MSE loss function to perform linear regression.\n",
    "\n",
    "The function mse_loss() takes parameters b, X1, and y.  However, gradient_descent() expects to be passed a function that takes only a single parameter.\n",
    "\n",
    "Therefore, we define a function loss() that is like mse_loss() except it only takes parameter b.  The data values X1 and y are \"hard wired\" into loss()."
   ]
  },
  {
   "cell_type": "markdown",
   "metadata": {},
   "source": [
    "### Problem 4\n",
    "\n",
    "Define function loss(). Use a lambda expression and call mse_loss().  This is a very simple one-liner."
   ]
  },
  {
   "cell_type": "code",
   "execution_count": 15,
   "metadata": {
    "colab": {
     "base_uri": "https://localhost:8080/",
     "height": 34
    },
    "executionInfo": {
     "elapsed": 1997,
     "status": "ok",
     "timestamp": 1599418997762,
     "user": {
      "displayName": "Glenn Bruns",
      "photoUrl": "",
      "userId": "02927676052174595786"
     },
     "user_tz": 420
    },
    "id": "69son0weHcjt",
    "outputId": "52798d4c-8c30-4862-f49c-718a16665fb3"
   },
   "outputs": [],
   "source": [
    "loss = # YOUR CODE HERE"
   ]
  },
  {
   "cell_type": "code",
   "execution_count": 16,
   "metadata": {},
   "outputs": [
    {
     "name": "stdout",
     "output_type": "stream",
     "text": [
      "b: [1.5 2.5], loss(b): 16.751\n",
      "b: [0.5 2.5], loss(b): 22.306\n",
      "b: [1.5 3.5], loss(b): 36.568\n"
     ]
    }
   ],
   "source": [
    "# test the loss() function\n",
    "# the output should match the output for the test of mse_loss() above\n",
    "\n",
    "for b1 in [b, np.array([b[0]-1, b[1]]), np.array([b[0], b[1]+1])]:\n",
    "    print(f'b: {b1}, loss(b): {loss(b1):.3f}')"
   ]
  },
  {
   "cell_type": "markdown",
   "metadata": {},
   "source": [
    "Now we perform gradient descent using the loss function."
   ]
  },
  {
   "cell_type": "code",
   "execution_count": 17,
   "metadata": {
    "colab": {
     "base_uri": "https://localhost:8080/",
     "height": 34
    },
    "executionInfo": {
     "elapsed": 1997,
     "status": "ok",
     "timestamp": 1599418997762,
     "user": {
      "displayName": "Glenn Bruns",
      "photoUrl": "",
      "userId": "02927676052174595786"
     },
     "user_tz": 420
    },
    "id": "69son0weHcjt",
    "outputId": "52798d4c-8c30-4862-f49c-718a16665fb3"
   },
   "outputs": [
    {
     "name": "stdout",
     "output_type": "stream",
     "text": [
      "warning: reached iteration limit\n",
      "[6.023 2.049]\n"
     ]
    }
   ],
   "source": [
    "b_estimated, history = grad_descent(loss, 2)\n",
    "print(b_estimated.round(3))"
   ]
  },
  {
   "cell_type": "markdown",
   "metadata": {
    "id": "9s_kno5mjzjo"
   },
   "source": [
    "Plot the training data and the best-fit line."
   ]
  },
  {
   "cell_type": "code",
   "execution_count": 18,
   "metadata": {
    "colab": {
     "base_uri": "https://localhost:8080/",
     "height": 281
    },
    "executionInfo": {
     "elapsed": 2362,
     "status": "ok",
     "timestamp": 1599418998144,
     "user": {
      "displayName": "Glenn Bruns",
      "photoUrl": "",
      "userId": "02927676052174595786"
     },
     "user_tz": 420
    },
    "id": "EabHFq8Djxvf",
    "outputId": "c5fbc5ec-5bfb-4a2c-b488-aeda6af2d1ca"
   },
   "outputs": [
    {
     "data": {
      "image/png": "[encoded data removed]",
      "text/plain": [
       "<Figure size 432x288 with 1 Axes>"
      ]
     },
     "metadata": {
      "needs_background": "light"
     },
     "output_type": "display_data"
    }
   ],
   "source": [
    "plt.scatter(x1, y)\n",
    "y_pred = X1.dot(b_estimated)\n",
    "plt.plot(x1, y_pred, c='red')\n",
    "plt.title('Training data and best model');"
   ]
  },
  {
   "cell_type": "markdown",
   "metadata": {
    "id": "_PKyYE7CUXCC"
   },
   "source": [
    "Look at how loss changed during gradient descent."
   ]
  },
  {
   "cell_type": "code",
   "execution_count": 19,
   "metadata": {
    "colab": {
     "base_uri": "https://localhost:8080/",
     "height": 294
    },
    "executionInfo": {
     "elapsed": 1989,
     "status": "ok",
     "timestamp": 1599418997762,
     "user": {
      "displayName": "Glenn Bruns",
      "photoUrl": "",
      "userId": "02927676052174595786"
     },
     "user_tz": 420
    },
    "id": "DGMwUljzNHWY",
    "outputId": "0a2f5002-5ef1-42b7-8fa4-6b5b43d507ea"
   },
   "outputs": [
    {
     "data": {
      "image/png": "[encoded data removed]",
      "text/plain": [
       "<Figure size 432x288 with 1 Axes>"
      ]
     },
     "metadata": {
      "needs_background": "light"
     },
     "output_type": "display_data"
    }
   ],
   "source": [
    "plot_descent(loss, history)"
   ]
  },
  {
   "cell_type": "markdown",
   "metadata": {
    "id": "5bcu8LWsUXCD"
   },
   "source": [
    "### Plot the change of b0,b1 over time"
   ]
  },
  {
   "cell_type": "markdown",
   "metadata": {
    "id": "mySjH4HBUXCD"
   },
   "source": [
    "Another way to visualize the progress of gradient descent is to see how the model parameters change over time.  In this plot we show the value of both model parameters.  In this plot you can't see the loss value.  Remember that the initial value of b0, b1 is 0, 0.\n",
    "\n",
    "Do you see a \"gulley\" in the plot?"
   ]
  },
  {
   "cell_type": "code",
   "execution_count": 20,
   "metadata": {
    "id": "E8NfreQLUXCD",
    "outputId": "7720e972-f08d-44e9-b5ff-3d8111e1752e"
   },
   "outputs": [
    {
     "data": {
      "image/png": "[encoded data removed]",
      "text/plain": [
       "<Figure size 432x288 with 1 Axes>"
      ]
     },
     "metadata": {
      "needs_background": "light"
     },
     "output_type": "display_data"
    }
   ],
   "source": [
    "plt.plot([b[0] for b in history], [b[1] for b in history])\n",
    "plt.xlabel('b0')\n",
    "plt.ylabel('b1')\n",
    "plt.title('Trajectory of b0,b1 over time');"
   ]
  },
  {
   "cell_type": "markdown",
   "metadata": {
    "id": "3bjLQbrcUXCD"
   },
   "source": [
    "### Scale the x data and try again"
   ]
  },
  {
   "cell_type": "markdown",
   "metadata": {
    "id": "z1KITOuKUXCD"
   },
   "source": [
    "We know that data should be scaled prior to running gradient descent.  What happens to the gulley once the data is scaled?"
   ]
  },
  {
   "cell_type": "code",
   "execution_count": 21,
   "metadata": {
    "id": "YXdjVbnAUXCD"
   },
   "outputs": [],
   "source": [
    "# scale the data\n",
    "x_scaled = (x1 - x1.mean())/x1.std()\n",
    "X_scaled = np.column_stack((np.ones(x1.size), x_scaled))"
   ]
  },
  {
   "cell_type": "markdown",
   "metadata": {},
   "source": [
    "### Problem 5\n",
    "\n",
    "Define a version of the loss() function that uses the scaled data."
   ]
  },
  {
   "cell_type": "code",
   "execution_count": 22,
   "metadata": {
    "id": "YXdjVbnAUXCD"
   },
   "outputs": [],
   "source": [
    "loss_with_scaled_data = # YOUR CODE HERE"
   ]
  },
  {
   "cell_type": "markdown",
   "metadata": {
    "id": "Lbz2YKJXUXCE"
   },
   "source": [
    "Try gradient descent again.  Note the new loss function."
   ]
  },
  {
   "cell_type": "code",
   "execution_count": 23,
   "metadata": {
    "id": "MShzDKsAUXCE",
    "outputId": "36af5036-e047-45e8-e7f0-94b4475f9835"
   },
   "outputs": [
    {
     "name": "stdout",
     "output_type": "stream",
     "text": [
      "[16.27383825  6.20533778]\n"
     ]
    }
   ],
   "source": [
    "b_estimated, history = grad_descent(loss_with_scaled_data, 2)\n",
    "print(b_estimated)"
   ]
  },
  {
   "cell_type": "markdown",
   "metadata": {
    "id": "rCpM9oiXUXCE"
   },
   "source": [
    "Compare this plot to the plot above with unscaled data.  Notice the change in shape and change in number of iterations."
   ]
  },
  {
   "cell_type": "code",
   "execution_count": 24,
   "metadata": {
    "colab": {
     "base_uri": "https://localhost:8080/",
     "height": 294
    },
    "executionInfo": {
     "elapsed": 1989,
     "status": "ok",
     "timestamp": 1599418997762,
     "user": {
      "displayName": "Glenn Bruns",
      "photoUrl": "",
      "userId": "02927676052174595786"
     },
     "user_tz": 420
    },
    "id": "NIFiYq6pUXCE",
    "outputId": "0a2f5002-5ef1-42b7-8fa4-6b5b43d507ea"
   },
   "outputs": [
    {
     "data": {
      "image/png": "[encoded data removed]",
      "text/plain": [
       "<Figure size 432x288 with 1 Axes>"
      ]
     },
     "metadata": {
      "needs_background": "light"
     },
     "output_type": "display_data"
    }
   ],
   "source": [
    "plot_descent(loss_with_scaled_data, history)"
   ]
  },
  {
   "cell_type": "markdown",
   "metadata": {
    "id": "oqwQYodPUXCF"
   },
   "source": [
    "Compare this plot to the trajectory plot above.  It is completely different."
   ]
  },
  {
   "cell_type": "code",
   "execution_count": 25,
   "metadata": {
    "id": "23QHJwFXUXCF",
    "outputId": "b408f35e-16aa-4f95-8063-29fbcc569ebd"
   },
   "outputs": [
    {
     "data": {
      "image/png": "[encoded data removed]",
      "text/plain": [
       "<Figure size 432x288 with 1 Axes>"
      ]
     },
     "metadata": {
      "needs_background": "light"
     },
     "output_type": "display_data"
    }
   ],
   "source": [
    "plt.plot([b[0] for b in history], [b[1] for b in history])\n",
    "plt.xlabel('b0')\n",
    "plt.ylabel('b1')\n",
    "plt.title('Trajectory of b0,b1 over time');"
   ]
  },
  {
   "cell_type": "markdown",
   "metadata": {
    "id": "yOH65fnHUXCF"
   },
   "source": [
    "## Perform linear regression on a real data set"
   ]
  },
  {
   "cell_type": "markdown",
   "metadata": {
    "id": "EHpIRP4WUXCF"
   },
   "source": [
    "Now let's use our code to perform linear regression on a real data set.  This is a small data set with only 38 rows.\n",
    "\n",
    "We'll predict a car's MPG from data about it's weight, horsepower, etc."
   ]
  },
  {
   "cell_type": "code",
   "execution_count": 26,
   "metadata": {
    "id": "NUZrTpF0UXCF"
   },
   "outputs": [],
   "source": [
    "df = pd.read_csv('https://raw.githubusercontent.com/grbruns/cst383/master/cars-1978.csv')\n",
    "\n",
    "predictors = ['Weight', 'Drive_Ratio', 'Horsepower', 'Displacement']\n",
    "X = df[predictors].values\n",
    "X = StandardScaler().fit_transform(X)    # scale the data!\n",
    "X1 = np.c_[np.ones(X.shape[0]), X]       # adds new first column of 1's\n",
    "y = df['MPG'].values"
   ]
  },
  {
   "cell_type": "markdown",
   "metadata": {},
   "source": [
    "### Problem 6\n",
    "\n",
    "Define a version of the loss() function that uses the cars data."
   ]
  },
  {
   "cell_type": "code",
   "execution_count": 27,
   "metadata": {
    "colab": {
     "base_uri": "https://localhost:8080/",
     "height": 34
    },
    "executionInfo": {
     "elapsed": 1997,
     "status": "ok",
     "timestamp": 1599418997762,
     "user": {
      "displayName": "Glenn Bruns",
      "photoUrl": "",
      "userId": "02927676052174595786"
     },
     "user_tz": 420
    },
    "id": "G9oXAEQsUXCF",
    "outputId": "52798d4c-8c30-4862-f49c-718a16665fb3"
   },
   "outputs": [],
   "source": [
    "loss = # YOUR CODE HERE"
   ]
  },
  {
   "cell_type": "markdown",
   "metadata": {},
   "source": [
    "### Problem 7"
   ]
  },
  {
   "cell_type": "markdown",
   "metadata": {
    "id": "FmlXU4WmUXCF"
   },
   "source": [
    "Train a linear model for the cars data using gradient descent.\n",
    "\n",
    "You may want to tweak the learning rate and number of iterations here."
   ]
  },
  {
   "cell_type": "code",
   "execution_count": 28,
   "metadata": {
    "colab": {
     "base_uri": "https://localhost:8080/",
     "height": 34
    },
    "executionInfo": {
     "elapsed": 1997,
     "status": "ok",
     "timestamp": 1599418997762,
     "user": {
      "displayName": "Glenn Bruns",
      "photoUrl": "",
      "userId": "02927676052174595786"
     },
     "user_tz": 420
    },
    "id": "G9oXAEQsUXCF",
    "outputId": "52798d4c-8c30-4862-f49c-718a16665fb3"
   },
   "outputs": [],
   "source": [
    "b_estimated, history = # YOUR CODE HERE"
   ]
  },
  {
   "cell_type": "code",
   "execution_count": 29,
   "metadata": {
    "colab": {
     "base_uri": "https://localhost:8080/",
     "height": 34
    },
    "executionInfo": {
     "elapsed": 1997,
     "status": "ok",
     "timestamp": 1599418997762,
     "user": {
      "displayName": "Glenn Bruns",
      "photoUrl": "",
      "userId": "02927676052174595786"
     },
     "user_tz": 420
    },
    "id": "G9oXAEQsUXCF",
    "outputId": "52798d4c-8c30-4862-f49c-718a16665fb3"
   },
   "outputs": [
    {
     "name": "stdout",
     "output_type": "stream",
     "text": [
      "intercept:24.761\n",
      "other coefficients:[-7.969 -1.809 -1.267  2.158]\n"
     ]
    }
   ],
   "source": [
    "# test the result of gradient descent on the cars data\n",
    "\n",
    "print(f'intercept:{b_estimated[0]:.3f}')\n",
    "print(f'other coefficients:{b_estimated[1:].round(3)}')"
   ]
  },
  {
   "cell_type": "code",
   "execution_count": 30,
   "metadata": {
    "id": "0w5y2aO9UXCG",
    "outputId": "f7112fa2-cb8c-476b-f9c3-d8e266f0aec9"
   },
   "outputs": [
    {
     "data": {
      "image/png": "[encoded data removed]",
      "text/plain": [
       "<Figure size 432x288 with 1 Axes>"
      ]
     },
     "metadata": {
      "needs_background": "light"
     },
     "output_type": "display_data"
    }
   ],
   "source": [
    "# note that the y axis limit is 50\n",
    "plot_descent(loss, history)\n",
    "plt.ylim(0, 50);"
   ]
  },
  {
   "cell_type": "markdown",
   "metadata": {
    "id": "XFSkJscFUXCG"
   },
   "source": [
    "Compare the results we get with Scikit Learn's linear regression algorithm, which probably uses the \"normal equation\"."
   ]
  },
  {
   "cell_type": "code",
   "execution_count": 31,
   "metadata": {
    "id": "q4EivlmuUXCG",
    "outputId": "ffe9b7bb-63dd-49ad-e1c0-5344683a0f17"
   },
   "outputs": [
    {
     "name": "stdout",
     "output_type": "stream",
     "text": [
      "intercept:24.761\n",
      "other coefficients:[-7.971 -1.809 -1.266  2.16 ]\n"
     ]
    }
   ],
   "source": [
    "regr = LinearRegression().fit(X, y)\n",
    "\n",
    "print(f'intercept:{regr.intercept_:.3f}')\n",
    "print(f'other coefficients:{regr.coef_.round(3)}')"
   ]
  }
 ],
 "metadata": {
  "colab": {
   "collapsed_sections": [],
   "name": "grad_desc_multivar_lin_regr_master_with_minibatch.ipynb",
   "provenance": []
  },
  "kernelspec": {
   "display_name": "Python 3 (ipykernel)",
   "language": "python",
   "name": "python3"
  },
  "language_info": {
   "codemirror_mode": {
    "name": "ipython",
    "version": 3
   },
   "file_extension": ".py",
   "mimetype": "text/x-python",
   "name": "python",
   "nbconvert_exporter": "python",
   "pygments_lexer": "ipython3",
   "version": "3.11.4"
  }
 },
 "nbformat": 4,
 "nbformat_minor": 1
}
