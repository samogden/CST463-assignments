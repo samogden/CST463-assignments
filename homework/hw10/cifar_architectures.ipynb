{
 "cells": [
  {
   "cell_type": "markdown",
   "id": "kjh9naG9-yTY",
   "metadata": {
    "id": "kjh9naG9-yTY"
   },
   "source": [
    "# Modern architecture patterns for CIFAR-10 classification"
   ]
  },
  {
   "cell_type": "markdown",
   "id": "p4bM3KRo-4lG",
   "metadata": {
    "id": "p4bM3KRo-4lG"
   },
   "source": [
    "CIFAR-10 is a famous collection of small color images, each 32 x 32 pixels.  There are 6,000 images in each of 10 classes.\n",
    "\n",
    "https://www.cs.toronto.edu/~kriz/cifar.html\n",
    "\n",
    "In this assignment you will play with a CNN model to learn about newer CNN architecture patterns.\n",
    "\n",
    "## Instructions\n",
    "\n",
    "In the code below, a baseline CNN classifier is created and tested.\n",
    "\n",
    "In most of the problems, your job is to copy the baseline classifier, make changes to it, and see how it performs.\n",
    "\n",
    "In the final problem, your job is to create a classifier to get the highest test accuracy you can.\n",
    "\n",
    "Read the code, and look for problem prompts.  Provide commentary in all problems.\n",
    "\n",
    "v1.2"
   ]
  },
  {
   "cell_type": "code",
   "execution_count": null,
   "id": "2fefc385",
   "metadata": {
    "executionInfo": {
     "elapsed": 194,
     "status": "ok",
     "timestamp": 1697489996507,
     "user": {
      "displayName": "Glenn",
      "userId": "10553525024667050874"
     },
     "user_tz": 420
    },
    "id": "2fefc385"
   },
   "outputs": [],
   "source": [
    "import tensorflow as tf\n",
    "from tensorflow.keras import models, layers, Input, Model, Sequential\n",
    "from tensorflow.keras.datasets import cifar10\n",
    "from tensorflow.keras.callbacks import ReduceLROnPlateau, EarlyStopping\n",
    "from tensorflow.keras.losses import categorical_crossentropy\n",
    "from tensorflow.keras import backend as K\n",
    "import numpy as np\n",
    "import pandas as pd\n",
    "import matplotlib.pyplot as plt\n",
    "import seaborn as sns\n",
    "from IPython.display import display, HTML"
   ]
  },
  {
   "cell_type": "code",
   "execution_count": null,
   "id": "1f7510fe",
   "metadata": {},
   "outputs": [],
   "source": [
    "# allow output to span multiple output lines in the console\n",
    "pd.set_option('display.max_columns', 600)\n",
    "pd.options.display.width = 120\n",
    "pd.options.display.max_colwidth = 50\n",
    "display(HTML(\"<style>.container { width:100% !important; }</style>\"))"
   ]
  },
  {
   "cell_type": "code",
   "execution_count": null,
   "id": "0ed507a0",
   "metadata": {},
   "outputs": [],
   "source": [
    "sns.set_theme(style='whitegrid', context='notebook')\n",
    "plt.rcParams['figure.figsize'] = 5,3"
   ]
  },
  {
   "cell_type": "code",
   "execution_count": null,
   "id": "DyNLhFSVxRlW",
   "metadata": {
    "executionInfo": {
     "elapsed": 148,
     "status": "ok",
     "timestamp": 1697490003243,
     "user": {
      "displayName": "Glenn",
      "userId": "10553525024667050874"
     },
     "user_tz": 420
    },
    "id": "DyNLhFSVxRlW"
   },
   "outputs": [],
   "source": [
    "def plot_metric(history, metric='loss'):\n",
    "    \"\"\" Plot training and test values for a metric. \"\"\"\n",
    "\n",
    "    val_metric = 'val_'+metric\n",
    "    plt.plot(history.history[metric])\n",
    "    plt.plot(history.history[val_metric])\n",
    "    plt.title('model '+metric)\n",
    "    plt.ylabel(metric)\n",
    "    plt.xlabel('epoch')\n",
    "    plt.legend(['train', 'test'])\n",
    "    plt.show();"
   ]
  },
  {
   "cell_type": "code",
   "execution_count": null,
   "id": "6XQbXT1gAQol",
   "metadata": {
    "executionInfo": {
     "elapsed": 135,
     "status": "ok",
     "timestamp": 1697490012538,
     "user": {
      "displayName": "Glenn",
      "userId": "10553525024667050874"
     },
     "user_tz": 420
    },
    "id": "6XQbXT1gAQol"
   },
   "outputs": [],
   "source": [
    "np.random.seed(0)"
   ]
  },
  {
   "cell_type": "markdown",
   "id": "CKd5eMtxw3QO",
   "metadata": {
    "id": "CKd5eMtxw3QO"
   },
   "source": [
    "### Read the data"
   ]
  },
  {
   "cell_type": "code",
   "execution_count": null,
   "id": "xp4u-WKrpNN-",
   "metadata": {
    "colab": {
     "base_uri": "https://localhost:8080/"
    },
    "executionInfo": {
     "elapsed": 23940,
     "status": "ok",
     "timestamp": 1697490037588,
     "user": {
      "displayName": "Glenn",
      "userId": "10553525024667050874"
     },
     "user_tz": 420
    },
    "id": "xp4u-WKrpNN-",
    "outputId": "57a96002-9548-43cd-c02a-a743415a26a2"
   },
   "outputs": [],
   "source": [
    "(X_train, y_train), (X_test, y_test) = cifar10.load_data()\n",
    "num_classes = np.unique(y_train).size"
   ]
  },
  {
   "cell_type": "code",
   "execution_count": null,
   "id": "RQ7kVtboXqpk",
   "metadata": {
    "colab": {
     "base_uri": "https://localhost:8080/"
    },
    "executionInfo": {
     "elapsed": 129,
     "status": "ok",
     "timestamp": 1697490143279,
     "user": {
      "displayName": "Glenn",
      "userId": "10553525024667050874"
     },
     "user_tz": 420
    },
    "id": "RQ7kVtboXqpk",
    "outputId": "4e38726b-5895-4a05-e7fa-9751a1a3148d"
   },
   "outputs": [],
   "source": [
    "print(X_train.shape)\n",
    "print(y_train.shape)\n",
    "print(X_test.shape)\n",
    "print(y_test.shape)\n",
    "print(num_classes)"
   ]
  },
  {
   "cell_type": "code",
   "execution_count": null,
   "id": "VAIQYRHJor41",
   "metadata": {
    "colab": {
     "base_uri": "https://localhost:8080/"
    },
    "executionInfo": {
     "elapsed": 142,
     "status": "ok",
     "timestamp": 1697490145140,
     "user": {
      "displayName": "Glenn",
      "userId": "10553525024667050874"
     },
     "user_tz": 420
    },
    "id": "VAIQYRHJor41",
    "outputId": "e5c6fa8d-be0e-4192-e1bb-7ebd19862635"
   },
   "outputs": [],
   "source": [
    "print(X_train.min(), X_train.max())\n",
    "print(np.unique(y_train))"
   ]
  },
  {
   "cell_type": "markdown",
   "id": "vOSxuz2SGsPW",
   "metadata": {
    "id": "vOSxuz2SGsPW"
   },
   "source": [
    "#### We'll use a smaller version of the data to speed up the training process.\n",
    "\n",
    "This dataset is a little larger than used in an earlier assignment."
   ]
  },
  {
   "cell_type": "code",
   "execution_count": null,
   "id": "QNv46FKtGXBJ",
   "metadata": {
    "executionInfo": {
     "elapsed": 143,
     "status": "ok",
     "timestamp": 1697490148653,
     "user": {
      "displayName": "Glenn",
      "userId": "10553525024667050874"
     },
     "user_tz": 420
    },
    "id": "QNv46FKtGXBJ"
   },
   "outputs": [],
   "source": [
    "idx = np.random.choice(X_train.shape[0], 35000, replace=False)\n",
    "X_train = X_train[idx]\n",
    "y_train = y_train[idx]\n",
    "\n",
    "idx = np.random.choice(X_test.shape[0], 8000, replace=False)\n",
    "X_test = X_test[idx]\n",
    "y_test = y_test[idx]"
   ]
  },
  {
   "cell_type": "markdown",
   "id": "KblcmCnEw64O",
   "metadata": {
    "id": "KblcmCnEw64O"
   },
   "source": [
    "### Preprocess the data"
   ]
  },
  {
   "cell_type": "code",
   "execution_count": null,
   "id": "aDkzEKMbqEzX",
   "metadata": {
    "executionInfo": {
     "elapsed": 290,
     "status": "ok",
     "timestamp": 1697490151821,
     "user": {
      "displayName": "Glenn",
      "userId": "10553525024667050874"
     },
     "user_tz": 420
    },
    "id": "aDkzEKMbqEzX"
   },
   "outputs": [],
   "source": [
    "# from integers in [0,255] to float in [0,1]\n",
    "X_train = X_train.astype('float32') / 255\n",
    "X_test  = X_test.astype('float32') / 255\n",
    "\n",
    "# store the labels in 1D arrays, not 2D\n",
    "y_train = np.squeeze(y_train)  # this could also be done using reshape\n",
    "y_test = np.squeeze(y_test)"
   ]
  },
  {
   "cell_type": "code",
   "execution_count": null,
   "id": "qDQl-cEyrBF-",
   "metadata": {
    "colab": {
     "base_uri": "https://localhost:8080/"
    },
    "executionInfo": {
     "elapsed": 134,
     "status": "ok",
     "timestamp": 1697490189863,
     "user": {
      "displayName": "Glenn",
      "userId": "10553525024667050874"
     },
     "user_tz": 420
    },
    "id": "qDQl-cEyrBF-",
    "outputId": "f9689fa3-c8d2-4fe5-df7d-640512cef5ed"
   },
   "outputs": [],
   "source": [
    "print(X_train.shape)\n",
    "print(y_train.shape)\n",
    "print(X_test.shape)\n",
    "print(y_test.shape)"
   ]
  },
  {
   "cell_type": "markdown",
   "id": "mUaP48QMxAr-",
   "metadata": {
    "id": "mUaP48QMxAr-"
   },
   "source": [
    "<hr style=\"border:1px solid gray\">\n",
    "\n",
    "### Baseline CNN model\n",
    "\n",
    "<hr style=\"border:1px solid gray\">"
   ]
  },
  {
   "cell_type": "code",
   "execution_count": null,
   "id": "6d09ad2a",
   "metadata": {
    "id": "cd8c3843"
   },
   "outputs": [],
   "source": [
    "def get_model(input_shape, output_size, *, dropout=0.5, act_fun='elu', padding='same', conv_layers=[32, 64, 128], dense_layers=[64], conv_size=3, pool_size=2):\n",
    "    \n",
    "    inputs = Input(input_shape)\n",
    "    x = inputs\n",
    "    \n",
    "    for num_filters in conv_layers:\n",
    "        x = layers.Conv2D(num_filters, conv_size, activation=act_fun, padding=padding)(x)\n",
    "        x = layers.Conv2D(num_filters, conv_size, activation=act_fun, padding=padding)(x)\n",
    "        x = layers.MaxPooling2D(pool_size)(x)\n",
    "\n",
    "    x = layers.Flatten()(x)\n",
    "    \n",
    "    for dense_size in dense_layers:\n",
    "        x = layers.Dropout(dropout)(x)\n",
    "        x = layers.Dense(dense_size, activation=act_fun)(x)\n",
    "\n",
    "    x = layers.Dropout(dropout)(x)\n",
    "    x = layers.Dense(output_size, activation='softmax')(x)\n",
    "    \n",
    "    return Model(inputs, x)"
   ]
  },
  {
   "cell_type": "code",
   "execution_count": null,
   "id": "8282c93c",
   "metadata": {},
   "outputs": [],
   "source": [
    "K.clear_session()\n",
    "model = get_model(X_train.shape[1:], num_classes)"
   ]
  },
  {
   "cell_type": "code",
   "execution_count": null,
   "id": "2a691a66",
   "metadata": {},
   "outputs": [],
   "source": [
    "model.summary()"
   ]
  },
  {
   "cell_type": "code",
   "execution_count": null,
   "id": "5a00db7a",
   "metadata": {},
   "outputs": [],
   "source": [
    "# note the 'restore_best_weights' parameter\n",
    "early_stopping = EarlyStopping(patience=8, restore_best_weights=True, verbose=1)"
   ]
  },
  {
   "cell_type": "code",
   "execution_count": null,
   "id": "67eda092",
   "metadata": {
    "id": "2e98dbf5"
   },
   "outputs": [],
   "source": [
    "optimizer = tf.keras.optimizers.Nadam()\n",
    "model.compile(optimizer=optimizer,\n",
    "              loss='sparse_categorical_crossentropy',\n",
    "              metrics=['accuracy'])"
   ]
  },
  {
   "cell_type": "code",
   "execution_count": null,
   "id": "ec2fe894",
   "metadata": {
    "id": "512d5b53",
    "outputId": "cac5318e-011c-4a01-e48f-08729fbeb222",
    "scrolled": false
   },
   "outputs": [],
   "source": [
    "history = model.fit(X_train, y_train, epochs=100, batch_size=128, validation_split=0.2,\n",
    "                   callbacks=[early_stopping])"
   ]
  },
  {
   "cell_type": "code",
   "execution_count": null,
   "id": "693e7a13",
   "metadata": {
    "colab": {
     "base_uri": "https://localhost:8080/",
     "height": 295
    },
    "executionInfo": {
     "elapsed": 222,
     "status": "ok",
     "timestamp": 1665681935698,
     "user": {
      "displayName": "Glenn",
      "userId": "10553525024667050874"
     },
     "user_tz": 420
    },
    "id": "72c4f7b2",
    "outputId": "45519f0f-027c-4fad-cf68-f12585908075",
    "scrolled": true
   },
   "outputs": [],
   "source": [
    "plot_metric(history)"
   ]
  },
  {
   "cell_type": "code",
   "execution_count": null,
   "id": "d04245d2",
   "metadata": {},
   "outputs": [],
   "source": [
    "test_loss, test_accuracy = model.evaluate(X_test, y_test)"
   ]
  },
  {
   "cell_type": "code",
   "execution_count": null,
   "id": "6346e268",
   "metadata": {},
   "outputs": [],
   "source": [
    "print(f'test accuracy: {test_accuracy:.3g}')"
   ]
  },
  {
   "cell_type": "markdown",
   "id": "c541fa69",
   "metadata": {},
   "source": [
    "#### Commentary\n",
    "\n",
    "This is a typical, classical CNN model, with several blocks of convolution followed by pooling, a single dense layer, and then the final output layer.\n",
    "\n",
    "With early stopping, the model trained in 24 epochs, but the plot shows that little reduction in validation loss happened after about 12 epochs.\n",
    "\n",
    "A test accuracy of 0.755 was achieved."
   ]
  },
  {
   "cell_type": "markdown",
   "id": "29809ce2",
   "metadata": {},
   "source": [
    "<hr style=\"border:1px solid gray\">\n",
    "\n",
    "### Problem 1.  Residual connections\n",
    "\n",
    "Copy the cells below the 'Baseline CNN model' header, including the commentary cell, and paste it below this header.\n",
    "Then add residual connections to the model.  I suggest you add the residual connection around the code inside the \"conv_layers loop\".  However, if you have a better idea of where to apply residual connections, go ahead and do that.\n",
    "\n",
    "Make no changes to the code except to add the residual connection code.  We want to isolate the impact of using residual connections.\n",
    "\n",
    "Of course, you should replace the commentary text with your commentary about what you learned about residual connections when applied to this problem.  For example, did training take longer?  Did the model size change?  How did the test accuracy change?  You will probably want to include all of these points, but do not limit your commentary to these points.\n",
    "\n",
    "<hr style=\"border:1px solid gray\">"
   ]
  },
  {
   "cell_type": "markdown",
   "id": "ff4f4fe1",
   "metadata": {},
   "source": [
    "<hr style=\"border:1px solid gray\">\n",
    "\n",
    "### Problem 2. Depthwise separable convolution\n",
    "\n",
    "Copy the cells below the 'Baseline CNN model' header, including the commentary cell, and paste it below this head.\n",
    "Then replace the convolutional layers with depthwise separable convolution layers.  Use your judgement in making the change.\n",
    "Make no other changes to the code.  Be sure to use the baseline code as your starting point, not the residual connection code.\n",
    "\n",
    "There is some possible confusion in the names of convolutional layers in the Keras API.  Please follow our text and lectures; use 'SeparableConv2d'.\n",
    "\n",
    "Again, replace the commentary with your commentary.  Your commentary is very important.\n",
    "\n",
    "<hr style=\"border:1px solid gray\">"
   ]
  },
  {
   "cell_type": "markdown",
   "id": "c04c6d28",
   "metadata": {},
   "source": [
    "<hr style=\"border:1px solid gray\">\n",
    "\n",
    "### Problem 3. Batch normalization\n",
    "\n",
    "Copy the cells below the 'Baseline CNN model' header, including the commentary cell, and paste it below this head.\n",
    "Then add batch normalization to your model.  Follow the best practice for batch normalization that is described in Cholllet's\n",
    "text and was mentioned in the Modern Architectural Patterns lecture.\n",
    "\n",
    "You can apply batch normalization after the second convolutional layer of the convolutional block, but use your judgement and information from lectures and our texts.  As always, be sure to use the baseline code as your starting point, not the code of the previous problem.\n",
    "\n",
    "Replace the commentary with your own commentary.\n",
    "\n",
    "<hr style=\"border:1px solid gray\">"
   ]
  },
  {
   "cell_type": "markdown",
   "id": "4cab4396",
   "metadata": {},
   "source": [
    "<hr style=\"border:1px solid gray\">\n",
    "\n",
    "### Problem 4. Strided convolution\n",
    "\n",
    "Copy the cells below the 'Baseline CNN model' header, including the commentary cell, and paste it below this head.\n",
    "Then use strided convolution instead of pooling.  If you are not sure where to use strided convolution,\n",
    "use our texts, lecture information, and your best judgement.\n",
    "\n",
    "Replace the commentary with your own commentary.\n",
    "\n",
    "<hr style=\"border:1px solid gray\">"
   ]
  },
  {
   "cell_type": "markdown",
   "id": "3cadc7b8",
   "metadata": {},
   "source": [
    "<hr style=\"border:1px solid gray\">\n",
    "\n",
    "### Problem 5. Data augmentation\n",
    "\n",
    "Copy the cells below the 'Baseline CNN model' header, including the commentary cell, and paste it below this head.\n",
    "Then use data augmentation, following ideas in the Chollet text and in lecture slides.\n",
    "You can use the specific augmentations that Chollet uses, or you can try variations, additions, and alternatives.\n",
    "\n",
    "Replace the commentary with your own commentary.\n",
    "\n",
    "Note: in newer versions of Keras you can write code like `layers.RandomFlip`, but in older versions, you need to write `layers.experimental.preprocessing.RandomFlip()`.\n",
    "\n",
    "<hr style=\"border:1px solid gray\">"
   ]
  },
  {
   "cell_type": "markdown",
   "id": "847e7ea7",
   "metadata": {},
   "source": [
    "<hr style=\"border:1px solid gray\">\n",
    "\n",
    "### Problem 6. Reduce learning rate on plateau\n",
    "\n",
    "Keras has a callback named ReduceLROnPlateau, which reduces the learning rate when the validation loss stops improving.  It can often help significantly in training.\n",
    "\n",
    "Copy the cells below the 'Baseline CNN model' header, including the commentary cell, and paste it below this head.\n",
    "Then use the ReduceLROnPlateau callback as a second callback when calling model.fit().\n",
    "I set the patience parameter to 4, the min_lr parameter to 0.000001, and the verbose parameter to 1, but you\n",
    "can experiment.\n",
    "\n",
    "For this problem, you don't need to do anything except to add a cell to define the new callback, and the modify the cell containing model.fit().\n",
    "\n",
    "As always, replace the commentary with your own commentary.\n",
    "\n",
    "<hr style=\"border:1px solid gray\">"
   ]
  },
  {
   "cell_type": "markdown",
   "id": "f31e62c7",
   "metadata": {},
   "source": [
    "<hr style=\"border:1px solid gray\">\n",
    "\n",
    "### Problem 7. An Xception-like model\n",
    "\n",
    "We haven't spent a lot of time discussing famous convolutional models.  A fairly recent model is Xception, which was invented by Chollet, the inventor of Keras and the author of our text.\n",
    "\n",
    "The get_model() function below is a kind of mini-Xception model, based on the model in Section 9.3.5 of Chollet.\n",
    "\n",
    "Start this problem by looking carefully at the model.  Then run the cells below to see how this model performs.\n",
    "\n",
    "<hr style=\"border:1px solid gray\">"
   ]
  },
  {
   "cell_type": "code",
   "execution_count": null,
   "id": "f876b8a9",
   "metadata": {
    "id": "cd8c3843"
   },
   "outputs": [],
   "source": [
    "def get_model(input_shape, output_size, *, dropout=0.5, act_fun='relu', conv_layers=[32, 64, 128], conv_size=3, pool_size=3):\n",
    "    \n",
    "    inputs = Input(input_shape)\n",
    "    x = data_augmentation(inputs)\n",
    "    \n",
    "    x = layers.Conv2D(32, kernel_size=5, use_bias=False)(x)\n",
    "    \n",
    "    for num_filters in conv_layers:\n",
    "        residual = x\n",
    "        \n",
    "        x = layers.BatchNormalization()(x)\n",
    "        x = layers.Activation(act_fun)(x)\n",
    "        x = layers.SeparableConv2D(num_filters, conv_size, padding='same', use_bias=False)(x)\n",
    "        \n",
    "        x = layers.BatchNormalization()(x)\n",
    "        x = layers.Activation(act_fun)(x)\n",
    "        x = layers.SeparableConv2D(num_filters, conv_size, padding='same', use_bias=False)(x)\n",
    "\n",
    "        x = layers.MaxPooling2D(pool_size, strides=2, padding='same')(x)\n",
    "        \n",
    "        residual = layers.Conv2D(num_filters, 1, strides=2, padding='same', use_bias=False)(residual)\n",
    "        x = layers.add([x, residual])\n",
    "        \n",
    "    x = layers.GlobalAveragePooling2D()(x)\n",
    "    x = layers.Dropout(dropout)(x)\n",
    "    outputs = layers.Dense(output_size, activation='softmax')(x)\n",
    "    \n",
    "    return Model(inputs, outputs)"
   ]
  },
  {
   "cell_type": "code",
   "execution_count": null,
   "id": "84d38b1b",
   "metadata": {},
   "outputs": [],
   "source": [
    "K.clear_session()\n",
    "model = get_model(X_train.shape[1:], num_classes)"
   ]
  },
  {
   "cell_type": "code",
   "execution_count": null,
   "id": "1a5f8551",
   "metadata": {},
   "outputs": [],
   "source": [
    "model.summary()"
   ]
  },
  {
   "cell_type": "code",
   "execution_count": null,
   "id": "02516ef6",
   "metadata": {
    "id": "2e98dbf5"
   },
   "outputs": [],
   "source": [
    "optimizer = tf.keras.optimizers.Nadam()\n",
    "model.compile(optimizer=optimizer,\n",
    "              loss='sparse_categorical_crossentropy',\n",
    "              metrics=['accuracy'])"
   ]
  },
  {
   "cell_type": "code",
   "execution_count": null,
   "id": "585ccf92",
   "metadata": {
    "id": "512d5b53",
    "outputId": "cac5318e-011c-4a01-e48f-08729fbeb222",
    "scrolled": false
   },
   "outputs": [],
   "source": [
    "history = model.fit(X_train, y_train, epochs=100, batch_size=128, validation_split=0.2,\n",
    "                   callbacks=[early_stopping])"
   ]
  },
  {
   "cell_type": "code",
   "execution_count": null,
   "id": "97085628",
   "metadata": {},
   "outputs": [],
   "source": [
    "test_loss, test_accuracy = model.evaluate(X_test, y_test)"
   ]
  },
  {
   "cell_type": "code",
   "execution_count": null,
   "id": "42241990",
   "metadata": {},
   "outputs": [],
   "source": [
    "print(f'test accuracy: {test_accuracy:.3g}')"
   ]
  },
  {
   "cell_type": "markdown",
   "id": "140da8d6",
   "metadata": {},
   "source": [
    "<hr style=\"border:1px solid gray\">\n",
    "\n",
    "### Problem 8.  Create your best model\n",
    "\n",
    "Try to combine the ingredients we have previously seen in building CNNs, plus the new ingredients in the earlier problems of this assignment, to create the best model you can.\n",
    "\n",
    "There are a couple of other ingredients you are allowed to try: \n",
    "- spatial dropout\n",
    "- global average pooling\n",
    "\n",
    "Spatial dropout is a type of dropout designed to work well with convolutional layers.  It is supported in Keras with layers.SpatialDropout2D.\n",
    "\n",
    "Global average pooling can be used in place of flattening.  It is like normal pooling but takes the average value across all the values found in each individual input channel.  In other words, the output will have the same number of channels as the input, but will only have one value for each channel.\n",
    "It is supported in Keras with layers.GlobalAveragePooling2D.\n",
    "\n",
    "Of course, feel free to experiment with activation functions, optimizers, optimizer initial learning rates, the number and size of convolutional and dense layers, etc.\n",
    "\n",
    "Also, if you want to use grid or random search, feel free to copy code from an earlier assignment on feedforward nets.\n",
    "\n",
    "Do not modify the testing cells below.  Be sure to write commentary.\n",
    "\n",
    "<hr style=\"border:1px solid gray\">"
   ]
  },
  {
   "cell_type": "code",
   "execution_count": null,
   "id": "3616a3d2",
   "metadata": {},
   "outputs": [],
   "source": [
    "# REPLACE THIS CELL WITH YOUR CELLS"
   ]
  },
  {
   "cell_type": "code",
   "execution_count": null,
   "id": "63adcea6",
   "metadata": {},
   "outputs": [],
   "source": [
    "test_loss, test_accuracy = model.evaluate(X_test, y_test)"
   ]
  },
  {
   "cell_type": "code",
   "execution_count": null,
   "id": "0bf9bb9b",
   "metadata": {},
   "outputs": [],
   "source": [
    "print(f'test accuracy: {test_accuracy:.3g}')"
   ]
  },
  {
   "cell_type": "markdown",
   "id": "fe4b8984",
   "metadata": {},
   "source": [
    "#### Commentary\n",
    "\n",
    "(replace this text with your commentary)"
   ]
  }
 ],
 "metadata": {
  "accelerator": "GPU",
  "colab": {
   "provenance": []
  },
  "gpuClass": "standard",
  "kernelspec": {
   "display_name": "Python 3 (ipykernel)",
   "language": "python",
   "name": "python3"
  },
  "language_info": {
   "codemirror_mode": {
    "name": "ipython",
    "version": 3
   },
   "file_extension": ".py",
   "mimetype": "text/x-python",
   "name": "python",
   "nbconvert_exporter": "python",
   "pygments_lexer": "ipython3",
   "version": "3.9.18"
  }
 },
 "nbformat": 4,
 "nbformat_minor": 5
}
