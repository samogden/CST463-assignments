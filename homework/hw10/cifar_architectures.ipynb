{
 "cells": [
  {
   "cell_type": "markdown",
   "id": "kjh9naG9-yTY",
   "metadata": {
    "id": "kjh9naG9-yTY"
   },
   "source": [
    "# Modern architecture patterns for CIFAR-10 classification"
   ]
  },
  {
   "cell_type": "markdown",
   "id": "p4bM3KRo-4lG",
   "metadata": {
    "id": "p4bM3KRo-4lG"
   },
   "source": [
    "CIFAR-10 is a famous collection of small color images, each 32 x 32 pixels.  There are 6,000 images in each of 10 classes.\n",
    "\n",
    "https://www.cs.toronto.edu/~kriz/cifar.html\n",
    "\n",
    "In this assignment you will play with a CNN model to learn about newer CNN architecture patterns.\n",
    "\n",
    "## Instructions\n",
    "\n",
    "In the code below, a baseline CNN classifier is created and tested.\n",
    "\n",
    "In most of the problems, your job is to copy the baseline classifier, make changes to it, and see how it performs.\n",
    "\n",
    "In the final problem, your job is to create a classifier to get the highest test accuracy you can.\n",
    "\n",
    "Read the code, and look for problem prompts.  Provide commentary in all problems.\n",
    "\n",
    "v1.2"
   ]
  },
  {
   "cell_type": "code",
   "execution_count": 1,
   "id": "2fefc385",
   "metadata": {
    "executionInfo": {
     "elapsed": 194,
     "status": "ok",
     "timestamp": 1697489996507,
     "user": {
      "displayName": "Glenn",
      "userId": "10553525024667050874"
     },
     "user_tz": 420
    },
    "id": "2fefc385",
    "ExecuteTime": {
     "end_time": "2024-11-04T16:06:33.934944Z",
     "start_time": "2024-11-04T16:06:31.974218Z"
    }
   },
   "outputs": [],
   "source": [
    "import tensorflow as tf\n",
    "from tensorflow.keras import models, layers, Input, Model, Sequential\n",
    "from tensorflow.keras.datasets import cifar10\n",
    "from tensorflow.keras.callbacks import ReduceLROnPlateau, EarlyStopping\n",
    "from tensorflow.keras.losses import categorical_crossentropy\n",
    "from tensorflow.keras import backend as K\n",
    "import numpy as np\n",
    "import pandas as pd\n",
    "import matplotlib.pyplot as plt\n",
    "import seaborn as sns\n",
    "from IPython.display import display, HTML"
   ]
  },
  {
   "cell_type": "code",
   "execution_count": 2,
   "id": "1f7510fe",
   "metadata": {
    "ExecuteTime": {
     "end_time": "2024-11-04T16:06:33.942365Z",
     "start_time": "2024-11-04T16:06:33.936951Z"
    }
   },
   "outputs": [
    {
     "data": {
      "text/plain": "<IPython.core.display.HTML object>",
      "text/html": "<style>.container { width:100% !important; }</style>"
     },
     "metadata": {},
     "output_type": "display_data"
    }
   ],
   "source": [
    "# allow output to span multiple output lines in the console\n",
    "pd.set_option('display.max_columns', 600)\n",
    "pd.options.display.width = 120\n",
    "pd.options.display.max_colwidth = 50\n",
    "display(HTML(\"<style>.container { width:100% !important; }</style>\"))"
   ]
  },
  {
   "cell_type": "code",
   "execution_count": 3,
   "id": "0ed507a0",
   "metadata": {
    "ExecuteTime": {
     "end_time": "2024-11-04T16:06:33.943499Z",
     "start_time": "2024-11-04T16:06:33.940586Z"
    }
   },
   "outputs": [],
   "source": [
    "sns.set_theme(style='whitegrid', context='notebook')\n",
    "plt.rcParams['figure.figsize'] = 5,3"
   ]
  },
  {
   "cell_type": "code",
   "execution_count": 4,
   "id": "DyNLhFSVxRlW",
   "metadata": {
    "executionInfo": {
     "elapsed": 148,
     "status": "ok",
     "timestamp": 1697490003243,
     "user": {
      "displayName": "Glenn",
      "userId": "10553525024667050874"
     },
     "user_tz": 420
    },
    "id": "DyNLhFSVxRlW",
    "ExecuteTime": {
     "end_time": "2024-11-04T16:06:33.945753Z",
     "start_time": "2024-11-04T16:06:33.943480Z"
    }
   },
   "outputs": [],
   "source": [
    "def plot_metric(history, metric='loss'):\n",
    "    \"\"\" Plot training and test values for a metric. \"\"\"\n",
    "\n",
    "    val_metric = 'val_'+metric\n",
    "    plt.plot(history.history[metric])\n",
    "    plt.plot(history.history[val_metric])\n",
    "    plt.title('model '+metric)\n",
    "    plt.ylabel(metric)\n",
    "    plt.xlabel('epoch')\n",
    "    plt.legend(['train', 'test'])\n",
    "    plt.show();"
   ]
  },
  {
   "cell_type": "code",
   "execution_count": 5,
   "id": "6XQbXT1gAQol",
   "metadata": {
    "executionInfo": {
     "elapsed": 135,
     "status": "ok",
     "timestamp": 1697490012538,
     "user": {
      "displayName": "Glenn",
      "userId": "10553525024667050874"
     },
     "user_tz": 420
    },
    "id": "6XQbXT1gAQol",
    "ExecuteTime": {
     "end_time": "2024-11-04T16:06:33.952826Z",
     "start_time": "2024-11-04T16:06:33.946626Z"
    }
   },
   "outputs": [],
   "source": [
    "np.random.seed(0)"
   ]
  },
  {
   "cell_type": "markdown",
   "id": "CKd5eMtxw3QO",
   "metadata": {
    "id": "CKd5eMtxw3QO"
   },
   "source": [
    "### Read the data"
   ]
  },
  {
   "cell_type": "code",
   "execution_count": 6,
   "id": "xp4u-WKrpNN-",
   "metadata": {
    "colab": {
     "base_uri": "https://localhost:8080/"
    },
    "executionInfo": {
     "elapsed": 23940,
     "status": "ok",
     "timestamp": 1697490037588,
     "user": {
      "displayName": "Glenn",
      "userId": "10553525024667050874"
     },
     "user_tz": 420
    },
    "id": "xp4u-WKrpNN-",
    "outputId": "57a96002-9548-43cd-c02a-a743415a26a2",
    "ExecuteTime": {
     "end_time": "2024-11-04T16:06:34.994107Z",
     "start_time": "2024-11-04T16:06:33.948747Z"
    }
   },
   "outputs": [],
   "source": [
    "(X_train, y_train), (X_test, y_test) = cifar10.load_data()\n",
    "num_classes = np.unique(y_train).size"
   ]
  },
  {
   "cell_type": "code",
   "execution_count": 7,
   "id": "RQ7kVtboXqpk",
   "metadata": {
    "colab": {
     "base_uri": "https://localhost:8080/"
    },
    "executionInfo": {
     "elapsed": 129,
     "status": "ok",
     "timestamp": 1697490143279,
     "user": {
      "displayName": "Glenn",
      "userId": "10553525024667050874"
     },
     "user_tz": 420
    },
    "id": "RQ7kVtboXqpk",
    "outputId": "4e38726b-5895-4a05-e7fa-9751a1a3148d",
    "ExecuteTime": {
     "end_time": "2024-11-04T16:06:34.998137Z",
     "start_time": "2024-11-04T16:06:34.995355Z"
    }
   },
   "outputs": [
    {
     "name": "stdout",
     "output_type": "stream",
     "text": [
      "(50000, 32, 32, 3)\n",
      "(50000, 1)\n",
      "(10000, 32, 32, 3)\n",
      "(10000, 1)\n",
      "10\n"
     ]
    }
   ],
   "source": [
    "print(X_train.shape)\n",
    "print(y_train.shape)\n",
    "print(X_test.shape)\n",
    "print(y_test.shape)\n",
    "print(num_classes)"
   ]
  },
  {
   "cell_type": "code",
   "execution_count": 8,
   "id": "VAIQYRHJor41",
   "metadata": {
    "colab": {
     "base_uri": "https://localhost:8080/"
    },
    "executionInfo": {
     "elapsed": 142,
     "status": "ok",
     "timestamp": 1697490145140,
     "user": {
      "displayName": "Glenn",
      "userId": "10553525024667050874"
     },
     "user_tz": 420
    },
    "id": "VAIQYRHJor41",
    "outputId": "e5c6fa8d-be0e-4192-e1bb-7ebd19862635",
    "ExecuteTime": {
     "end_time": "2024-11-04T16:06:35.025375Z",
     "start_time": "2024-11-04T16:06:34.998251Z"
    }
   },
   "outputs": [
    {
     "name": "stdout",
     "output_type": "stream",
     "text": [
      "0 255\n",
      "[0 1 2 3 4 5 6 7 8 9]\n"
     ]
    }
   ],
   "source": [
    "print(X_train.min(), X_train.max())\n",
    "print(np.unique(y_train))"
   ]
  },
  {
   "cell_type": "markdown",
   "id": "vOSxuz2SGsPW",
   "metadata": {
    "id": "vOSxuz2SGsPW"
   },
   "source": [
    "#### We'll use a smaller version of the data to speed up the training process.\n",
    "\n",
    "This dataset is a little larger than used in an earlier assignment."
   ]
  },
  {
   "cell_type": "code",
   "execution_count": 9,
   "id": "QNv46FKtGXBJ",
   "metadata": {
    "executionInfo": {
     "elapsed": 143,
     "status": "ok",
     "timestamp": 1697490148653,
     "user": {
      "displayName": "Glenn",
      "userId": "10553525024667050874"
     },
     "user_tz": 420
    },
    "id": "QNv46FKtGXBJ",
    "ExecuteTime": {
     "end_time": "2024-11-04T16:06:35.055371Z",
     "start_time": "2024-11-04T16:06:35.019395Z"
    }
   },
   "outputs": [],
   "source": [
    "idx = np.random.choice(X_train.shape[0], 35000, replace=False)\n",
    "X_train = X_train[idx]\n",
    "y_train = y_train[idx]\n",
    "\n",
    "idx = np.random.choice(X_test.shape[0], 8000, replace=False)\n",
    "X_test = X_test[idx]\n",
    "y_test = y_test[idx]"
   ]
  },
  {
   "cell_type": "markdown",
   "id": "KblcmCnEw64O",
   "metadata": {
    "id": "KblcmCnEw64O"
   },
   "source": [
    "### Preprocess the data"
   ]
  },
  {
   "cell_type": "code",
   "execution_count": 10,
   "id": "aDkzEKMbqEzX",
   "metadata": {
    "executionInfo": {
     "elapsed": 290,
     "status": "ok",
     "timestamp": 1697490151821,
     "user": {
      "displayName": "Glenn",
      "userId": "10553525024667050874"
     },
     "user_tz": 420
    },
    "id": "aDkzEKMbqEzX",
    "ExecuteTime": {
     "end_time": "2024-11-04T16:06:35.156401Z",
     "start_time": "2024-11-04T16:06:35.048568Z"
    }
   },
   "outputs": [],
   "source": [
    "# from integers in [0,255] to float in [0,1]\n",
    "X_train = X_train.astype('float32') / 255\n",
    "X_test  = X_test.astype('float32') / 255\n",
    "\n",
    "# store the labels in 1D arrays, not 2D\n",
    "y_train = np.squeeze(y_train)  # this could also be done using reshape\n",
    "y_test = np.squeeze(y_test)"
   ]
  },
  {
   "cell_type": "code",
   "execution_count": 11,
   "id": "qDQl-cEyrBF-",
   "metadata": {
    "colab": {
     "base_uri": "https://localhost:8080/"
    },
    "executionInfo": {
     "elapsed": 134,
     "status": "ok",
     "timestamp": 1697490189863,
     "user": {
      "displayName": "Glenn",
      "userId": "10553525024667050874"
     },
     "user_tz": 420
    },
    "id": "qDQl-cEyrBF-",
    "outputId": "f9689fa3-c8d2-4fe5-df7d-640512cef5ed",
    "ExecuteTime": {
     "end_time": "2024-11-04T16:06:35.160025Z",
     "start_time": "2024-11-04T16:06:35.157312Z"
    }
   },
   "outputs": [
    {
     "name": "stdout",
     "output_type": "stream",
     "text": [
      "(35000, 32, 32, 3)\n",
      "(35000,)\n",
      "(8000, 32, 32, 3)\n",
      "(8000,)\n"
     ]
    }
   ],
   "source": [
    "print(X_train.shape)\n",
    "print(y_train.shape)\n",
    "print(X_test.shape)\n",
    "print(y_test.shape)"
   ]
  },
  {
   "cell_type": "markdown",
   "id": "mUaP48QMxAr-",
   "metadata": {
    "id": "mUaP48QMxAr-"
   },
   "source": [
    "<hr style=\"border:1px solid gray\">\n",
    "\n",
    "### Baseline CNN model\n",
    "\n",
    "<hr style=\"border:1px solid gray\">"
   ]
  },
  {
   "cell_type": "code",
   "execution_count": 12,
   "id": "6d09ad2a",
   "metadata": {
    "id": "cd8c3843",
    "ExecuteTime": {
     "end_time": "2024-11-04T16:06:35.169015Z",
     "start_time": "2024-11-04T16:06:35.163157Z"
    }
   },
   "outputs": [],
   "source": [
    "def get_model(input_shape, output_size, *, dropout=0.5, act_fun='elu', padding='same', conv_layers=[32, 64, 128], dense_layers=[64], conv_size=3, pool_size=2):\n",
    "    \n",
    "    inputs = Input(input_shape)\n",
    "    x = inputs\n",
    "    \n",
    "    for num_filters in conv_layers:\n",
    "        x = layers.Conv2D(num_filters, conv_size, activation=act_fun, padding=padding)(x)\n",
    "        x = layers.Conv2D(num_filters, conv_size, activation=act_fun, padding=padding)(x)\n",
    "        x = layers.MaxPooling2D(pool_size)(x)\n",
    "\n",
    "    x = layers.Flatten()(x)\n",
    "    \n",
    "    for dense_size in dense_layers:\n",
    "        x = layers.Dropout(dropout)(x)\n",
    "        x = layers.Dense(dense_size, activation=act_fun)(x)\n",
    "\n",
    "    x = layers.Dropout(dropout)(x)\n",
    "    x = layers.Dense(output_size, activation='softmax')(x)\n",
    "    \n",
    "    return Model(inputs, x)"
   ]
  },
  {
   "cell_type": "code",
   "execution_count": 13,
   "id": "8282c93c",
   "metadata": {
    "ExecuteTime": {
     "end_time": "2024-11-04T16:06:35.426561Z",
     "start_time": "2024-11-04T16:06:35.237107Z"
    }
   },
   "outputs": [
    {
     "name": "stderr",
     "output_type": "stream",
     "text": [
      "2024-11-04 08:06:35.225712: I metal_plugin/src/device/metal_device.cc:1154] Metal device set to: Apple M2 Max\n",
      "2024-11-04 08:06:35.225741: I metal_plugin/src/device/metal_device.cc:296] systemMemory: 32.00 GB\n",
      "2024-11-04 08:06:35.225748: I metal_plugin/src/device/metal_device.cc:313] maxCacheSize: 10.67 GB\n",
      "2024-11-04 08:06:35.225766: I tensorflow/core/common_runtime/pluggable_device/pluggable_device_factory.cc:305] Could not identify NUMA node of platform GPU ID 0, defaulting to 0. Your kernel may not have been built with NUMA support.\n",
      "2024-11-04 08:06:35.225775: I tensorflow/core/common_runtime/pluggable_device/pluggable_device_factory.cc:271] Created TensorFlow device (/job:localhost/replica:0/task:0/device:GPU:0 with 0 MB memory) -> physical PluggableDevice (device: 0, name: METAL, pci bus id: <undefined>)\n"
     ]
    }
   ],
   "source": [
    "K.clear_session()\n",
    "model = get_model(X_train.shape[1:], num_classes)"
   ]
  },
  {
   "cell_type": "code",
   "execution_count": 14,
   "id": "2a691a66",
   "metadata": {
    "ExecuteTime": {
     "end_time": "2024-11-04T16:06:35.436284Z",
     "start_time": "2024-11-04T16:06:35.427222Z"
    }
   },
   "outputs": [
    {
     "data": {
      "text/plain": "\u001B[1mModel: \"functional\"\u001B[0m\n",
      "text/html": "<pre style=\"white-space:pre;overflow-x:auto;line-height:normal;font-family:Menlo,'DejaVu Sans Mono',consolas,'Courier New',monospace\"><span style=\"font-weight: bold\">Model: \"functional\"</span>\n</pre>\n"
     },
     "metadata": {},
     "output_type": "display_data"
    },
    {
     "data": {
      "text/plain": "┏━━━━━━━━━━━━━━━━━━━━━━━━━━━━━━━━━┳━━━━━━━━━━━━━━━━━━━━━━━━┳━━━━━━━━━━━━━━━┓\n┃\u001B[1m \u001B[0m\u001B[1mLayer (type)                   \u001B[0m\u001B[1m \u001B[0m┃\u001B[1m \u001B[0m\u001B[1mOutput Shape          \u001B[0m\u001B[1m \u001B[0m┃\u001B[1m \u001B[0m\u001B[1m      Param #\u001B[0m\u001B[1m \u001B[0m┃\n┡━━━━━━━━━━━━━━━━━━━━━━━━━━━━━━━━━╇━━━━━━━━━━━━━━━━━━━━━━━━╇━━━━━━━━━━━━━━━┩\n│ input_layer (\u001B[38;5;33mInputLayer\u001B[0m)        │ (\u001B[38;5;45mNone\u001B[0m, \u001B[38;5;34m32\u001B[0m, \u001B[38;5;34m32\u001B[0m, \u001B[38;5;34m3\u001B[0m)      │             \u001B[38;5;34m0\u001B[0m │\n├─────────────────────────────────┼────────────────────────┼───────────────┤\n│ conv2d (\u001B[38;5;33mConv2D\u001B[0m)                 │ (\u001B[38;5;45mNone\u001B[0m, \u001B[38;5;34m32\u001B[0m, \u001B[38;5;34m32\u001B[0m, \u001B[38;5;34m32\u001B[0m)     │           \u001B[38;5;34m896\u001B[0m │\n├─────────────────────────────────┼────────────────────────┼───────────────┤\n│ conv2d_1 (\u001B[38;5;33mConv2D\u001B[0m)               │ (\u001B[38;5;45mNone\u001B[0m, \u001B[38;5;34m32\u001B[0m, \u001B[38;5;34m32\u001B[0m, \u001B[38;5;34m32\u001B[0m)     │         \u001B[38;5;34m9,248\u001B[0m │\n├─────────────────────────────────┼────────────────────────┼───────────────┤\n│ max_pooling2d (\u001B[38;5;33mMaxPooling2D\u001B[0m)    │ (\u001B[38;5;45mNone\u001B[0m, \u001B[38;5;34m16\u001B[0m, \u001B[38;5;34m16\u001B[0m, \u001B[38;5;34m32\u001B[0m)     │             \u001B[38;5;34m0\u001B[0m │\n├─────────────────────────────────┼────────────────────────┼───────────────┤\n│ conv2d_2 (\u001B[38;5;33mConv2D\u001B[0m)               │ (\u001B[38;5;45mNone\u001B[0m, \u001B[38;5;34m16\u001B[0m, \u001B[38;5;34m16\u001B[0m, \u001B[38;5;34m64\u001B[0m)     │        \u001B[38;5;34m18,496\u001B[0m │\n├─────────────────────────────────┼────────────────────────┼───────────────┤\n│ conv2d_3 (\u001B[38;5;33mConv2D\u001B[0m)               │ (\u001B[38;5;45mNone\u001B[0m, \u001B[38;5;34m16\u001B[0m, \u001B[38;5;34m16\u001B[0m, \u001B[38;5;34m64\u001B[0m)     │        \u001B[38;5;34m36,928\u001B[0m │\n├─────────────────────────────────┼────────────────────────┼───────────────┤\n│ max_pooling2d_1 (\u001B[38;5;33mMaxPooling2D\u001B[0m)  │ (\u001B[38;5;45mNone\u001B[0m, \u001B[38;5;34m8\u001B[0m, \u001B[38;5;34m8\u001B[0m, \u001B[38;5;34m64\u001B[0m)       │             \u001B[38;5;34m0\u001B[0m │\n├─────────────────────────────────┼────────────────────────┼───────────────┤\n│ conv2d_4 (\u001B[38;5;33mConv2D\u001B[0m)               │ (\u001B[38;5;45mNone\u001B[0m, \u001B[38;5;34m8\u001B[0m, \u001B[38;5;34m8\u001B[0m, \u001B[38;5;34m128\u001B[0m)      │        \u001B[38;5;34m73,856\u001B[0m │\n├─────────────────────────────────┼────────────────────────┼───────────────┤\n│ conv2d_5 (\u001B[38;5;33mConv2D\u001B[0m)               │ (\u001B[38;5;45mNone\u001B[0m, \u001B[38;5;34m8\u001B[0m, \u001B[38;5;34m8\u001B[0m, \u001B[38;5;34m128\u001B[0m)      │       \u001B[38;5;34m147,584\u001B[0m │\n├─────────────────────────────────┼────────────────────────┼───────────────┤\n│ max_pooling2d_2 (\u001B[38;5;33mMaxPooling2D\u001B[0m)  │ (\u001B[38;5;45mNone\u001B[0m, \u001B[38;5;34m4\u001B[0m, \u001B[38;5;34m4\u001B[0m, \u001B[38;5;34m128\u001B[0m)      │             \u001B[38;5;34m0\u001B[0m │\n├─────────────────────────────────┼────────────────────────┼───────────────┤\n│ flatten (\u001B[38;5;33mFlatten\u001B[0m)               │ (\u001B[38;5;45mNone\u001B[0m, \u001B[38;5;34m2048\u001B[0m)           │             \u001B[38;5;34m0\u001B[0m │\n├─────────────────────────────────┼────────────────────────┼───────────────┤\n│ dropout (\u001B[38;5;33mDropout\u001B[0m)               │ (\u001B[38;5;45mNone\u001B[0m, \u001B[38;5;34m2048\u001B[0m)           │             \u001B[38;5;34m0\u001B[0m │\n├─────────────────────────────────┼────────────────────────┼───────────────┤\n│ dense (\u001B[38;5;33mDense\u001B[0m)                   │ (\u001B[38;5;45mNone\u001B[0m, \u001B[38;5;34m64\u001B[0m)             │       \u001B[38;5;34m131,136\u001B[0m │\n├─────────────────────────────────┼────────────────────────┼───────────────┤\n│ dropout_1 (\u001B[38;5;33mDropout\u001B[0m)             │ (\u001B[38;5;45mNone\u001B[0m, \u001B[38;5;34m64\u001B[0m)             │             \u001B[38;5;34m0\u001B[0m │\n├─────────────────────────────────┼────────────────────────┼───────────────┤\n│ dense_1 (\u001B[38;5;33mDense\u001B[0m)                 │ (\u001B[38;5;45mNone\u001B[0m, \u001B[38;5;34m10\u001B[0m)             │           \u001B[38;5;34m650\u001B[0m │\n└─────────────────────────────────┴────────────────────────┴───────────────┘\n",
      "text/html": "<pre style=\"white-space:pre;overflow-x:auto;line-height:normal;font-family:Menlo,'DejaVu Sans Mono',consolas,'Courier New',monospace\">┏━━━━━━━━━━━━━━━━━━━━━━━━━━━━━━━━━┳━━━━━━━━━━━━━━━━━━━━━━━━┳━━━━━━━━━━━━━━━┓\n┃<span style=\"font-weight: bold\"> Layer (type)                    </span>┃<span style=\"font-weight: bold\"> Output Shape           </span>┃<span style=\"font-weight: bold\">       Param # </span>┃\n┡━━━━━━━━━━━━━━━━━━━━━━━━━━━━━━━━━╇━━━━━━━━━━━━━━━━━━━━━━━━╇━━━━━━━━━━━━━━━┩\n│ input_layer (<span style=\"color: #0087ff; text-decoration-color: #0087ff\">InputLayer</span>)        │ (<span style=\"color: #00d7ff; text-decoration-color: #00d7ff\">None</span>, <span style=\"color: #00af00; text-decoration-color: #00af00\">32</span>, <span style=\"color: #00af00; text-decoration-color: #00af00\">32</span>, <span style=\"color: #00af00; text-decoration-color: #00af00\">3</span>)      │             <span style=\"color: #00af00; text-decoration-color: #00af00\">0</span> │\n├─────────────────────────────────┼────────────────────────┼───────────────┤\n│ conv2d (<span style=\"color: #0087ff; text-decoration-color: #0087ff\">Conv2D</span>)                 │ (<span style=\"color: #00d7ff; text-decoration-color: #00d7ff\">None</span>, <span style=\"color: #00af00; text-decoration-color: #00af00\">32</span>, <span style=\"color: #00af00; text-decoration-color: #00af00\">32</span>, <span style=\"color: #00af00; text-decoration-color: #00af00\">32</span>)     │           <span style=\"color: #00af00; text-decoration-color: #00af00\">896</span> │\n├─────────────────────────────────┼────────────────────────┼───────────────┤\n│ conv2d_1 (<span style=\"color: #0087ff; text-decoration-color: #0087ff\">Conv2D</span>)               │ (<span style=\"color: #00d7ff; text-decoration-color: #00d7ff\">None</span>, <span style=\"color: #00af00; text-decoration-color: #00af00\">32</span>, <span style=\"color: #00af00; text-decoration-color: #00af00\">32</span>, <span style=\"color: #00af00; text-decoration-color: #00af00\">32</span>)     │         <span style=\"color: #00af00; text-decoration-color: #00af00\">9,248</span> │\n├─────────────────────────────────┼────────────────────────┼───────────────┤\n│ max_pooling2d (<span style=\"color: #0087ff; text-decoration-color: #0087ff\">MaxPooling2D</span>)    │ (<span style=\"color: #00d7ff; text-decoration-color: #00d7ff\">None</span>, <span style=\"color: #00af00; text-decoration-color: #00af00\">16</span>, <span style=\"color: #00af00; text-decoration-color: #00af00\">16</span>, <span style=\"color: #00af00; text-decoration-color: #00af00\">32</span>)     │             <span style=\"color: #00af00; text-decoration-color: #00af00\">0</span> │\n├─────────────────────────────────┼────────────────────────┼───────────────┤\n│ conv2d_2 (<span style=\"color: #0087ff; text-decoration-color: #0087ff\">Conv2D</span>)               │ (<span style=\"color: #00d7ff; text-decoration-color: #00d7ff\">None</span>, <span style=\"color: #00af00; text-decoration-color: #00af00\">16</span>, <span style=\"color: #00af00; text-decoration-color: #00af00\">16</span>, <span style=\"color: #00af00; text-decoration-color: #00af00\">64</span>)     │        <span style=\"color: #00af00; text-decoration-color: #00af00\">18,496</span> │\n├─────────────────────────────────┼────────────────────────┼───────────────┤\n│ conv2d_3 (<span style=\"color: #0087ff; text-decoration-color: #0087ff\">Conv2D</span>)               │ (<span style=\"color: #00d7ff; text-decoration-color: #00d7ff\">None</span>, <span style=\"color: #00af00; text-decoration-color: #00af00\">16</span>, <span style=\"color: #00af00; text-decoration-color: #00af00\">16</span>, <span style=\"color: #00af00; text-decoration-color: #00af00\">64</span>)     │        <span style=\"color: #00af00; text-decoration-color: #00af00\">36,928</span> │\n├─────────────────────────────────┼────────────────────────┼───────────────┤\n│ max_pooling2d_1 (<span style=\"color: #0087ff; text-decoration-color: #0087ff\">MaxPooling2D</span>)  │ (<span style=\"color: #00d7ff; text-decoration-color: #00d7ff\">None</span>, <span style=\"color: #00af00; text-decoration-color: #00af00\">8</span>, <span style=\"color: #00af00; text-decoration-color: #00af00\">8</span>, <span style=\"color: #00af00; text-decoration-color: #00af00\">64</span>)       │             <span style=\"color: #00af00; text-decoration-color: #00af00\">0</span> │\n├─────────────────────────────────┼────────────────────────┼───────────────┤\n│ conv2d_4 (<span style=\"color: #0087ff; text-decoration-color: #0087ff\">Conv2D</span>)               │ (<span style=\"color: #00d7ff; text-decoration-color: #00d7ff\">None</span>, <span style=\"color: #00af00; text-decoration-color: #00af00\">8</span>, <span style=\"color: #00af00; text-decoration-color: #00af00\">8</span>, <span style=\"color: #00af00; text-decoration-color: #00af00\">128</span>)      │        <span style=\"color: #00af00; text-decoration-color: #00af00\">73,856</span> │\n├─────────────────────────────────┼────────────────────────┼───────────────┤\n│ conv2d_5 (<span style=\"color: #0087ff; text-decoration-color: #0087ff\">Conv2D</span>)               │ (<span style=\"color: #00d7ff; text-decoration-color: #00d7ff\">None</span>, <span style=\"color: #00af00; text-decoration-color: #00af00\">8</span>, <span style=\"color: #00af00; text-decoration-color: #00af00\">8</span>, <span style=\"color: #00af00; text-decoration-color: #00af00\">128</span>)      │       <span style=\"color: #00af00; text-decoration-color: #00af00\">147,584</span> │\n├─────────────────────────────────┼────────────────────────┼───────────────┤\n│ max_pooling2d_2 (<span style=\"color: #0087ff; text-decoration-color: #0087ff\">MaxPooling2D</span>)  │ (<span style=\"color: #00d7ff; text-decoration-color: #00d7ff\">None</span>, <span style=\"color: #00af00; text-decoration-color: #00af00\">4</span>, <span style=\"color: #00af00; text-decoration-color: #00af00\">4</span>, <span style=\"color: #00af00; text-decoration-color: #00af00\">128</span>)      │             <span style=\"color: #00af00; text-decoration-color: #00af00\">0</span> │\n├─────────────────────────────────┼────────────────────────┼───────────────┤\n│ flatten (<span style=\"color: #0087ff; text-decoration-color: #0087ff\">Flatten</span>)               │ (<span style=\"color: #00d7ff; text-decoration-color: #00d7ff\">None</span>, <span style=\"color: #00af00; text-decoration-color: #00af00\">2048</span>)           │             <span style=\"color: #00af00; text-decoration-color: #00af00\">0</span> │\n├─────────────────────────────────┼────────────────────────┼───────────────┤\n│ dropout (<span style=\"color: #0087ff; text-decoration-color: #0087ff\">Dropout</span>)               │ (<span style=\"color: #00d7ff; text-decoration-color: #00d7ff\">None</span>, <span style=\"color: #00af00; text-decoration-color: #00af00\">2048</span>)           │             <span style=\"color: #00af00; text-decoration-color: #00af00\">0</span> │\n├─────────────────────────────────┼────────────────────────┼───────────────┤\n│ dense (<span style=\"color: #0087ff; text-decoration-color: #0087ff\">Dense</span>)                   │ (<span style=\"color: #00d7ff; text-decoration-color: #00d7ff\">None</span>, <span style=\"color: #00af00; text-decoration-color: #00af00\">64</span>)             │       <span style=\"color: #00af00; text-decoration-color: #00af00\">131,136</span> │\n├─────────────────────────────────┼────────────────────────┼───────────────┤\n│ dropout_1 (<span style=\"color: #0087ff; text-decoration-color: #0087ff\">Dropout</span>)             │ (<span style=\"color: #00d7ff; text-decoration-color: #00d7ff\">None</span>, <span style=\"color: #00af00; text-decoration-color: #00af00\">64</span>)             │             <span style=\"color: #00af00; text-decoration-color: #00af00\">0</span> │\n├─────────────────────────────────┼────────────────────────┼───────────────┤\n│ dense_1 (<span style=\"color: #0087ff; text-decoration-color: #0087ff\">Dense</span>)                 │ (<span style=\"color: #00d7ff; text-decoration-color: #00d7ff\">None</span>, <span style=\"color: #00af00; text-decoration-color: #00af00\">10</span>)             │           <span style=\"color: #00af00; text-decoration-color: #00af00\">650</span> │\n└─────────────────────────────────┴────────────────────────┴───────────────┘\n</pre>\n"
     },
     "metadata": {},
     "output_type": "display_data"
    },
    {
     "data": {
      "text/plain": "\u001B[1m Total params: \u001B[0m\u001B[38;5;34m418,794\u001B[0m (1.60 MB)\n",
      "text/html": "<pre style=\"white-space:pre;overflow-x:auto;line-height:normal;font-family:Menlo,'DejaVu Sans Mono',consolas,'Courier New',monospace\"><span style=\"font-weight: bold\"> Total params: </span><span style=\"color: #00af00; text-decoration-color: #00af00\">418,794</span> (1.60 MB)\n</pre>\n"
     },
     "metadata": {},
     "output_type": "display_data"
    },
    {
     "data": {
      "text/plain": "\u001B[1m Trainable params: \u001B[0m\u001B[38;5;34m418,794\u001B[0m (1.60 MB)\n",
      "text/html": "<pre style=\"white-space:pre;overflow-x:auto;line-height:normal;font-family:Menlo,'DejaVu Sans Mono',consolas,'Courier New',monospace\"><span style=\"font-weight: bold\"> Trainable params: </span><span style=\"color: #00af00; text-decoration-color: #00af00\">418,794</span> (1.60 MB)\n</pre>\n"
     },
     "metadata": {},
     "output_type": "display_data"
    },
    {
     "data": {
      "text/plain": "\u001B[1m Non-trainable params: \u001B[0m\u001B[38;5;34m0\u001B[0m (0.00 B)\n",
      "text/html": "<pre style=\"white-space:pre;overflow-x:auto;line-height:normal;font-family:Menlo,'DejaVu Sans Mono',consolas,'Courier New',monospace\"><span style=\"font-weight: bold\"> Non-trainable params: </span><span style=\"color: #00af00; text-decoration-color: #00af00\">0</span> (0.00 B)\n</pre>\n"
     },
     "metadata": {},
     "output_type": "display_data"
    }
   ],
   "source": [
    "model.summary()"
   ]
  },
  {
   "cell_type": "code",
   "execution_count": 15,
   "id": "5a00db7a",
   "metadata": {
    "ExecuteTime": {
     "end_time": "2024-11-04T16:06:35.440246Z",
     "start_time": "2024-11-04T16:06:35.435717Z"
    }
   },
   "outputs": [],
   "source": [
    "# note the 'restore_best_weights' parameter\n",
    "early_stopping = EarlyStopping(patience=8, restore_best_weights=True, verbose=1)"
   ]
  },
  {
   "cell_type": "code",
   "execution_count": 16,
   "id": "67eda092",
   "metadata": {
    "id": "2e98dbf5",
    "ExecuteTime": {
     "end_time": "2024-11-04T16:06:35.465845Z",
     "start_time": "2024-11-04T16:06:35.439293Z"
    }
   },
   "outputs": [],
   "source": [
    "optimizer = tf.keras.optimizers.Nadam()\n",
    "model.compile(optimizer=optimizer,\n",
    "              loss='sparse_categorical_crossentropy',\n",
    "              metrics=['accuracy'])"
   ]
  },
  {
   "cell_type": "code",
   "execution_count": 17,
   "id": "ec2fe894",
   "metadata": {
    "id": "512d5b53",
    "outputId": "cac5318e-011c-4a01-e48f-08729fbeb222",
    "scrolled": false,
    "ExecuteTime": {
     "end_time": "2024-11-04T16:13:37.637438Z",
     "start_time": "2024-11-04T16:06:35.451580Z"
    }
   },
   "outputs": [
    {
     "name": "stdout",
     "output_type": "stream",
     "text": [
      "Epoch 1/100\n"
     ]
    },
    {
     "name": "stderr",
     "output_type": "stream",
     "text": [
      "2024-11-04 08:06:36.062365: I tensorflow/core/grappler/optimizers/custom_graph_optimizer_registry.cc:117] Plugin optimizer for device_type GPU is enabled.\n"
     ]
    },
    {
     "name": "stdout",
     "output_type": "stream",
     "text": [
      "\u001B[1m219/219\u001B[0m \u001B[32m━━━━━━━━━━━━━━━━━━━━\u001B[0m\u001B[37m\u001B[0m \u001B[1m18s\u001B[0m 72ms/step - accuracy: 0.3014 - loss: 1.9102 - val_accuracy: 0.5670 - val_loss: 1.2506\n",
      "Epoch 2/100\n",
      "\u001B[1m219/219\u001B[0m \u001B[32m━━━━━━━━━━━━━━━━━━━━\u001B[0m\u001B[37m\u001B[0m \u001B[1m15s\u001B[0m 70ms/step - accuracy: 0.5348 - loss: 1.3200 - val_accuracy: 0.6403 - val_loss: 1.0246\n",
      "Epoch 3/100\n",
      "\u001B[1m219/219\u001B[0m \u001B[32m━━━━━━━━━━━━━━━━━━━━\u001B[0m\u001B[37m\u001B[0m \u001B[1m15s\u001B[0m 70ms/step - accuracy: 0.6130 - loss: 1.0998 - val_accuracy: 0.6714 - val_loss: 0.9429\n",
      "Epoch 4/100\n",
      "\u001B[1m219/219\u001B[0m \u001B[32m━━━━━━━━━━━━━━━━━━━━\u001B[0m\u001B[37m\u001B[0m \u001B[1m16s\u001B[0m 72ms/step - accuracy: 0.6486 - loss: 1.0110 - val_accuracy: 0.6904 - val_loss: 0.8964\n",
      "Epoch 5/100\n",
      "\u001B[1m219/219\u001B[0m \u001B[32m━━━━━━━━━━━━━━━━━━━━\u001B[0m\u001B[37m\u001B[0m \u001B[1m16s\u001B[0m 72ms/step - accuracy: 0.6701 - loss: 0.9588 - val_accuracy: 0.6974 - val_loss: 0.8621\n",
      "Epoch 6/100\n",
      "\u001B[1m219/219\u001B[0m \u001B[32m━━━━━━━━━━━━━━━━━━━━\u001B[0m\u001B[37m\u001B[0m \u001B[1m16s\u001B[0m 71ms/step - accuracy: 0.6857 - loss: 0.8943 - val_accuracy: 0.7014 - val_loss: 0.8577\n",
      "Epoch 7/100\n",
      "\u001B[1m219/219\u001B[0m \u001B[32m━━━━━━━━━━━━━━━━━━━━\u001B[0m\u001B[37m\u001B[0m \u001B[1m16s\u001B[0m 71ms/step - accuracy: 0.7026 - loss: 0.8576 - val_accuracy: 0.7126 - val_loss: 0.8409\n",
      "Epoch 8/100\n",
      "\u001B[1m219/219\u001B[0m \u001B[32m━━━━━━━━━━━━━━━━━━━━\u001B[0m\u001B[37m\u001B[0m \u001B[1m17s\u001B[0m 79ms/step - accuracy: 0.7174 - loss: 0.8189 - val_accuracy: 0.7256 - val_loss: 0.8001\n",
      "Epoch 9/100\n",
      "\u001B[1m219/219\u001B[0m \u001B[32m━━━━━━━━━━━━━━━━━━━━\u001B[0m\u001B[37m\u001B[0m \u001B[1m16s\u001B[0m 72ms/step - accuracy: 0.7293 - loss: 0.7817 - val_accuracy: 0.7194 - val_loss: 0.8037\n",
      "Epoch 10/100\n",
      "\u001B[1m219/219\u001B[0m \u001B[32m━━━━━━━━━━━━━━━━━━━━\u001B[0m\u001B[37m\u001B[0m \u001B[1m17s\u001B[0m 76ms/step - accuracy: 0.7325 - loss: 0.7686 - val_accuracy: 0.7300 - val_loss: 0.7839\n",
      "Epoch 11/100\n",
      "\u001B[1m219/219\u001B[0m \u001B[32m━━━━━━━━━━━━━━━━━━━━\u001B[0m\u001B[37m\u001B[0m \u001B[1m16s\u001B[0m 73ms/step - accuracy: 0.7505 - loss: 0.7086 - val_accuracy: 0.7264 - val_loss: 0.7877\n",
      "Epoch 12/100\n",
      "\u001B[1m219/219\u001B[0m \u001B[32m━━━━━━━━━━━━━━━━━━━━\u001B[0m\u001B[37m\u001B[0m \u001B[1m16s\u001B[0m 72ms/step - accuracy: 0.7608 - loss: 0.6935 - val_accuracy: 0.7419 - val_loss: 0.7677\n",
      "Epoch 13/100\n",
      "\u001B[1m219/219\u001B[0m \u001B[32m━━━━━━━━━━━━━━━━━━━━\u001B[0m\u001B[37m\u001B[0m \u001B[1m16s\u001B[0m 72ms/step - accuracy: 0.7677 - loss: 0.6625 - val_accuracy: 0.7351 - val_loss: 0.7761\n",
      "Epoch 14/100\n",
      "\u001B[1m219/219\u001B[0m \u001B[32m━━━━━━━━━━━━━━━━━━━━\u001B[0m\u001B[37m\u001B[0m \u001B[1m16s\u001B[0m 72ms/step - accuracy: 0.7794 - loss: 0.6322 - val_accuracy: 0.7424 - val_loss: 0.7619\n",
      "Epoch 15/100\n",
      "\u001B[1m219/219\u001B[0m \u001B[32m━━━━━━━━━━━━━━━━━━━━\u001B[0m\u001B[37m\u001B[0m \u001B[1m16s\u001B[0m 72ms/step - accuracy: 0.7774 - loss: 0.6379 - val_accuracy: 0.7520 - val_loss: 0.7586\n",
      "Epoch 16/100\n",
      "\u001B[1m219/219\u001B[0m \u001B[32m━━━━━━━━━━━━━━━━━━━━\u001B[0m\u001B[37m\u001B[0m \u001B[1m16s\u001B[0m 72ms/step - accuracy: 0.7889 - loss: 0.6002 - val_accuracy: 0.7456 - val_loss: 0.7482\n",
      "Epoch 17/100\n",
      "\u001B[1m219/219\u001B[0m \u001B[32m━━━━━━━━━━━━━━━━━━━━\u001B[0m\u001B[37m\u001B[0m \u001B[1m16s\u001B[0m 74ms/step - accuracy: 0.7985 - loss: 0.5756 - val_accuracy: 0.7481 - val_loss: 0.7576\n",
      "Epoch 18/100\n",
      "\u001B[1m219/219\u001B[0m \u001B[32m━━━━━━━━━━━━━━━━━━━━\u001B[0m\u001B[37m\u001B[0m \u001B[1m17s\u001B[0m 79ms/step - accuracy: 0.8011 - loss: 0.5657 - val_accuracy: 0.7540 - val_loss: 0.7409\n",
      "Epoch 19/100\n",
      "\u001B[1m219/219\u001B[0m \u001B[32m━━━━━━━━━━━━━━━━━━━━\u001B[0m\u001B[37m\u001B[0m \u001B[1m17s\u001B[0m 78ms/step - accuracy: 0.8082 - loss: 0.5514 - val_accuracy: 0.7466 - val_loss: 0.7684\n",
      "Epoch 20/100\n",
      "\u001B[1m219/219\u001B[0m \u001B[32m━━━━━━━━━━━━━━━━━━━━\u001B[0m\u001B[37m\u001B[0m \u001B[1m17s\u001B[0m 77ms/step - accuracy: 0.8132 - loss: 0.5239 - val_accuracy: 0.7544 - val_loss: 0.7564\n",
      "Epoch 21/100\n",
      "\u001B[1m219/219\u001B[0m \u001B[32m━━━━━━━━━━━━━━━━━━━━\u001B[0m\u001B[37m\u001B[0m \u001B[1m17s\u001B[0m 77ms/step - accuracy: 0.8142 - loss: 0.5297 - val_accuracy: 0.7550 - val_loss: 0.7547\n",
      "Epoch 22/100\n",
      "\u001B[1m219/219\u001B[0m \u001B[32m━━━━━━━━━━━━━━━━━━━━\u001B[0m\u001B[37m\u001B[0m \u001B[1m17s\u001B[0m 78ms/step - accuracy: 0.8245 - loss: 0.5004 - val_accuracy: 0.7527 - val_loss: 0.7769\n",
      "Epoch 23/100\n",
      "\u001B[1m219/219\u001B[0m \u001B[32m━━━━━━━━━━━━━━━━━━━━\u001B[0m\u001B[37m\u001B[0m \u001B[1m17s\u001B[0m 77ms/step - accuracy: 0.8219 - loss: 0.5024 - val_accuracy: 0.7626 - val_loss: 0.7461\n",
      "Epoch 24/100\n",
      "\u001B[1m219/219\u001B[0m \u001B[32m━━━━━━━━━━━━━━━━━━━━\u001B[0m\u001B[37m\u001B[0m \u001B[1m16s\u001B[0m 72ms/step - accuracy: 0.8368 - loss: 0.4712 - val_accuracy: 0.7597 - val_loss: 0.7500\n",
      "Epoch 25/100\n",
      "\u001B[1m219/219\u001B[0m \u001B[32m━━━━━━━━━━━━━━━━━━━━\u001B[0m\u001B[37m\u001B[0m \u001B[1m16s\u001B[0m 73ms/step - accuracy: 0.8371 - loss: 0.4748 - val_accuracy: 0.7544 - val_loss: 0.7560\n",
      "Epoch 26/100\n",
      "\u001B[1m219/219\u001B[0m \u001B[32m━━━━━━━━━━━━━━━━━━━━\u001B[0m\u001B[37m\u001B[0m \u001B[1m16s\u001B[0m 72ms/step - accuracy: 0.8378 - loss: 0.4602 - val_accuracy: 0.7539 - val_loss: 0.7537\n",
      "Epoch 26: early stopping\n",
      "Restoring model weights from the end of the best epoch: 18.\n"
     ]
    }
   ],
   "source": [
    "history = model.fit(X_train, y_train, epochs=100, batch_size=128, validation_split=0.2,\n",
    "                   callbacks=[early_stopping])"
   ]
  },
  {
   "cell_type": "code",
   "execution_count": 18,
   "id": "693e7a13",
   "metadata": {
    "colab": {
     "base_uri": "https://localhost:8080/",
     "height": 295
    },
    "executionInfo": {
     "elapsed": 222,
     "status": "ok",
     "timestamp": 1665681935698,
     "user": {
      "displayName": "Glenn",
      "userId": "10553525024667050874"
     },
     "user_tz": 420
    },
    "id": "72c4f7b2",
    "outputId": "45519f0f-027c-4fad-cf68-f12585908075",
    "scrolled": true,
    "ExecuteTime": {
     "end_time": "2024-11-04T16:13:37.770187Z",
     "start_time": "2024-11-04T16:13:37.636651Z"
    }
   },
   "outputs": [
    {
     "data": {
      "text/plain": "<Figure size 500x300 with 1 Axes>",
      "image/png": "[encoded data removed]"
     },
     "metadata": {},
     "output_type": "display_data"
    }
   ],
   "source": [
    "plot_metric(history)"
   ]
  },
  {
   "cell_type": "code",
   "execution_count": 19,
   "id": "d04245d2",
   "metadata": {
    "ExecuteTime": {
     "end_time": "2024-11-04T16:13:40.899507Z",
     "start_time": "2024-11-04T16:13:37.765885Z"
    }
   },
   "outputs": [
    {
     "name": "stdout",
     "output_type": "stream",
     "text": [
      "\u001B[1m250/250\u001B[0m \u001B[32m━━━━━━━━━━━━━━━━━━━━\u001B[0m\u001B[37m\u001B[0m \u001B[1m3s\u001B[0m 12ms/step - accuracy: 0.7393 - loss: 0.7643\n"
     ]
    }
   ],
   "source": [
    "test_loss, test_accuracy = model.evaluate(X_test, y_test)"
   ]
  },
  {
   "cell_type": "code",
   "execution_count": 20,
   "id": "6346e268",
   "metadata": {
    "ExecuteTime": {
     "end_time": "2024-11-04T16:13:40.905061Z",
     "start_time": "2024-11-04T16:13:40.898594Z"
    }
   },
   "outputs": [
    {
     "name": "stdout",
     "output_type": "stream",
     "text": [
      "test accuracy: 0.747\n"
     ]
    }
   ],
   "source": [
    "print(f'test accuracy: {test_accuracy:.3g}')"
   ]
  },
  {
   "cell_type": "markdown",
   "id": "c541fa69",
   "metadata": {},
   "source": [
    "#### Commentary\n",
    "\n",
    "This is a typical, classical CNN model, with several blocks of convolution followed by pooling, a single dense layer, and then the final output layer.\n",
    "\n",
    "With early stopping, the model trained in 24 epochs, but the plot shows that little reduction in validation loss happened after about 12 epochs.\n",
    "\n",
    "A test accuracy of 0.755 was achieved."
   ]
  },
  {
   "cell_type": "markdown",
   "id": "29809ce2",
   "metadata": {},
   "source": [
    "<hr style=\"border:1px solid gray\">\n",
    "\n",
    "### Problem 1.  Residual connections\n",
    "\n",
    "Copy the cells below the 'Baseline CNN model' header, including the commentary cell, and paste it below this header.\n",
    "Then add residual connections to the model.  I suggest you add the residual connection around the code inside the \"conv_layers loop\".  However, if you have a better idea of where to apply residual connections, go ahead and do that.\n",
    "\n",
    "Make no changes to the code except to add the residual connection code.  We want to isolate the impact of using residual connections.\n",
    "\n",
    "Of course, you should replace the commentary text with your commentary about what you learned about residual connections when applied to this problem.  For example, did training take longer?  Did the model size change?  How did the test accuracy change?  You will probably want to include all of these points, but do not limit your commentary to these points.\n",
    "\n",
    "<hr style=\"border:1px solid gray\">"
   ]
  },
  {
   "cell_type": "markdown",
   "id": "ff4f4fe1",
   "metadata": {},
   "source": [
    "<hr style=\"border:1px solid gray\">\n",
    "\n",
    "### Problem 2. Depthwise separable convolution\n",
    "\n",
    "Copy the cells below the 'Baseline CNN model' header, including the commentary cell, and paste it below this head.\n",
    "Then replace the convolutional layers with depthwise separable convolution layers.  Use your judgement in making the change.\n",
    "Make no other changes to the code.  Be sure to use the baseline code as your starting point, not the residual connection code.\n",
    "\n",
    "There is some possible confusion in the names of convolutional layers in the Keras API.  Please follow our text and lectures; use 'SeparableConv2d'.\n",
    "\n",
    "Again, replace the commentary with your commentary.  Your commentary is very important.\n",
    "\n",
    "<hr style=\"border:1px solid gray\">"
   ]
  },
  {
   "cell_type": "markdown",
   "id": "c04c6d28",
   "metadata": {},
   "source": [
    "<hr style=\"border:1px solid gray\">\n",
    "\n",
    "### Problem 3. Batch normalization\n",
    "\n",
    "Copy the cells below the 'Baseline CNN model' header, including the commentary cell, and paste it below this head.\n",
    "Then add batch normalization to your model.  Follow the best practice for batch normalization that is described in Cholllet's\n",
    "text and was mentioned in the Modern Architectural Patterns lecture.\n",
    "\n",
    "You can apply batch normalization after the second convolutional layer of the convolutional block, but use your judgement and information from lectures and our texts.  As always, be sure to use the baseline code as your starting point, not the code of the previous problem.\n",
    "\n",
    "Replace the commentary with your own commentary.\n",
    "\n",
    "<hr style=\"border:1px solid gray\">"
   ]
  },
  {
   "cell_type": "markdown",
   "id": "4cab4396",
   "metadata": {},
   "source": [
    "<hr style=\"border:1px solid gray\">\n",
    "\n",
    "### Problem 4. Strided convolution\n",
    "\n",
    "Copy the cells below the 'Baseline CNN model' header, including the commentary cell, and paste it below this head.\n",
    "Then use strided convolution instead of pooling.  If you are not sure where to use strided convolution,\n",
    "use our texts, lecture information, and your best judgement.\n",
    "\n",
    "Replace the commentary with your own commentary.\n",
    "\n",
    "<hr style=\"border:1px solid gray\">"
   ]
  },
  {
   "cell_type": "markdown",
   "id": "3cadc7b8",
   "metadata": {},
   "source": [
    "<hr style=\"border:1px solid gray\">\n",
    "\n",
    "### Problem 5. Data augmentation\n",
    "\n",
    "Copy the cells below the 'Baseline CNN model' header, including the commentary cell, and paste it below this head.\n",
    "Then use data augmentation, following ideas in the Chollet text and in lecture slides.\n",
    "You can use the specific augmentations that Chollet uses, or you can try variations, additions, and alternatives.\n",
    "\n",
    "Replace the commentary with your own commentary.\n",
    "\n",
    "Note: in newer versions of Keras you can write code like `layers.RandomFlip`, but in older versions, you need to write `layers.experimental.preprocessing.RandomFlip()`.\n",
    "\n",
    "Note: your augmentation should, for the sake for Problem 7 ahead, take the form of a small model named `data_augmentation`\n",
    "\n",
    "```python\n",
    "data_augmentation = Sequential([\n",
    "    # Your augmentation layers here\n",
    "])\n",
    "```\n",
    "\n",
    "<hr style=\"border:1px solid gray\">"
   ]
  },
  {
   "cell_type": "markdown",
   "id": "847e7ea7",
   "metadata": {},
   "source": [
    "<hr style=\"border:1px solid gray\">\n",
    "\n",
    "### Problem 6. Reduce learning rate on plateau\n",
    "\n",
    "Keras has a callback named ReduceLROnPlateau, which reduces the learning rate when the validation loss stops improving.  It can often help significantly in training.\n",
    "\n",
    "Copy the cells below the 'Baseline CNN model' header, including the commentary cell, and paste it below this head.\n",
    "Then use the ReduceLROnPlateau callback as a second callback when calling model.fit().\n",
    "I set the patience parameter to 4, the min_lr parameter to 0.000001, and the verbose parameter to 1, but you\n",
    "can experiment.\n",
    "\n",
    "For this problem, you don't need to do anything except to add a cell to define the new callback, and the modify the cell containing model.fit().\n",
    "\n",
    "As always, replace the commentary with your own commentary.\n",
    "\n",
    "<hr style=\"border:1px solid gray\">"
   ]
  },
  {
   "cell_type": "markdown",
   "id": "f31e62c7",
   "metadata": {},
   "source": [
    "<hr style=\"border:1px solid gray\">\n",
    "\n",
    "### Problem 7. An Xception-like model\n",
    "\n",
    "We haven't spent a lot of time discussing famous convolutional models.  A fairly recent model is Xception, which was invented by Chollet, the inventor of Keras and the author of our text.\n",
    "\n",
    "The get_model() function below is a kind of mini-Xception model, based on the model in Section 9.3.5 of Chollet.\n",
    "\n",
    "Start this problem by looking carefully at the model.  Then run the cells below to see how this model performs.\n",
    "\n",
    "<hr style=\"border:1px solid gray\">"
   ]
  },
  {
   "cell_type": "code",
   "execution_count": 21,
   "id": "f876b8a9",
   "metadata": {
    "id": "cd8c3843",
    "ExecuteTime": {
     "end_time": "2024-11-04T16:13:40.905940Z",
     "start_time": "2024-11-04T16:13:40.900412Z"
    }
   },
   "outputs": [],
   "source": [
    "def get_model(input_shape, output_size, *, dropout=0.5, act_fun='relu', conv_layers=[32, 64, 128], conv_size=3, pool_size=3):\n",
    "    \n",
    "    inputs = Input(input_shape)\n",
    "    x = data_augmentation(inputs)\n",
    "    \n",
    "    x = layers.Conv2D(32, kernel_size=5, use_bias=False)(x)\n",
    "    \n",
    "    for num_filters in conv_layers:\n",
    "        residual = x\n",
    "        \n",
    "        x = layers.BatchNormalization()(x)\n",
    "        x = layers.Activation(act_fun)(x)\n",
    "        x = layers.SeparableConv2D(num_filters, conv_size, padding='same', use_bias=False)(x)\n",
    "        \n",
    "        x = layers.BatchNormalization()(x)\n",
    "        x = layers.Activation(act_fun)(x)\n",
    "        x = layers.SeparableConv2D(num_filters, conv_size, padding='same', use_bias=False)(x)\n",
    "\n",
    "        x = layers.MaxPooling2D(pool_size, strides=2, padding='same')(x)\n",
    "        \n",
    "        residual = layers.Conv2D(num_filters, 1, strides=2, padding='same', use_bias=False)(residual)\n",
    "        x = layers.add([x, residual])\n",
    "        \n",
    "    x = layers.GlobalAveragePooling2D()(x)\n",
    "    x = layers.Dropout(dropout)(x)\n",
    "    outputs = layers.Dense(output_size, activation='softmax')(x)\n",
    "    \n",
    "    return Model(inputs, outputs)"
   ]
  },
  {
   "cell_type": "code",
   "execution_count": 22,
   "id": "84d38b1b",
   "metadata": {
    "ExecuteTime": {
     "end_time": "2024-11-04T16:13:41.457010Z",
     "start_time": "2024-11-04T16:13:41.133210Z"
    }
   },
   "outputs": [
    {
     "ename": "NameError",
     "evalue": "name 'data_augmentation' is not defined",
     "output_type": "error",
     "traceback": [
      "\u001B[0;31m---------------------------------------------------------------------------\u001B[0m",
      "\u001B[0;31mNameError\u001B[0m                                 Traceback (most recent call last)",
      "Cell \u001B[0;32mIn[22], line 2\u001B[0m\n\u001B[1;32m      1\u001B[0m K\u001B[38;5;241m.\u001B[39mclear_session()\n\u001B[0;32m----> 2\u001B[0m model \u001B[38;5;241m=\u001B[39m \u001B[43mget_model\u001B[49m\u001B[43m(\u001B[49m\u001B[43mX_train\u001B[49m\u001B[38;5;241;43m.\u001B[39;49m\u001B[43mshape\u001B[49m\u001B[43m[\u001B[49m\u001B[38;5;241;43m1\u001B[39;49m\u001B[43m:\u001B[49m\u001B[43m]\u001B[49m\u001B[43m,\u001B[49m\u001B[43m \u001B[49m\u001B[43mnum_classes\u001B[49m\u001B[43m)\u001B[49m\n",
      "Cell \u001B[0;32mIn[21], line 4\u001B[0m, in \u001B[0;36mget_model\u001B[0;34m(input_shape, output_size, dropout, act_fun, conv_layers, conv_size, pool_size)\u001B[0m\n\u001B[1;32m      1\u001B[0m \u001B[38;5;28;01mdef\u001B[39;00m \u001B[38;5;21mget_model\u001B[39m(input_shape, output_size, \u001B[38;5;241m*\u001B[39m, dropout\u001B[38;5;241m=\u001B[39m\u001B[38;5;241m0.5\u001B[39m, act_fun\u001B[38;5;241m=\u001B[39m\u001B[38;5;124m'\u001B[39m\u001B[38;5;124mrelu\u001B[39m\u001B[38;5;124m'\u001B[39m, conv_layers\u001B[38;5;241m=\u001B[39m[\u001B[38;5;241m32\u001B[39m, \u001B[38;5;241m64\u001B[39m, \u001B[38;5;241m128\u001B[39m], conv_size\u001B[38;5;241m=\u001B[39m\u001B[38;5;241m3\u001B[39m, pool_size\u001B[38;5;241m=\u001B[39m\u001B[38;5;241m3\u001B[39m):\n\u001B[1;32m      3\u001B[0m     inputs \u001B[38;5;241m=\u001B[39m Input(input_shape)\n\u001B[0;32m----> 4\u001B[0m     x \u001B[38;5;241m=\u001B[39m \u001B[43mdata_augmentation\u001B[49m(inputs)\n\u001B[1;32m      6\u001B[0m     x \u001B[38;5;241m=\u001B[39m layers\u001B[38;5;241m.\u001B[39mConv2D(\u001B[38;5;241m32\u001B[39m, kernel_size\u001B[38;5;241m=\u001B[39m\u001B[38;5;241m5\u001B[39m, use_bias\u001B[38;5;241m=\u001B[39m\u001B[38;5;28;01mFalse\u001B[39;00m)(x)\n\u001B[1;32m      8\u001B[0m     \u001B[38;5;28;01mfor\u001B[39;00m num_filters \u001B[38;5;129;01min\u001B[39;00m conv_layers:\n",
      "\u001B[0;31mNameError\u001B[0m: name 'data_augmentation' is not defined"
     ]
    }
   ],
   "source": [
    "K.clear_session()\n",
    "model = get_model(X_train.shape[1:], num_classes)"
   ]
  },
  {
   "cell_type": "code",
   "execution_count": null,
   "id": "1a5f8551",
   "metadata": {
    "ExecuteTime": {
     "start_time": "2024-11-04T16:13:41.455330Z"
    }
   },
   "outputs": [],
   "source": [
    "model.summary()"
   ]
  },
  {
   "cell_type": "code",
   "execution_count": null,
   "id": "02516ef6",
   "metadata": {
    "id": "2e98dbf5",
    "ExecuteTime": {
     "start_time": "2024-11-04T16:13:41.456982Z"
    }
   },
   "outputs": [],
   "source": [
    "optimizer = tf.keras.optimizers.Nadam()\n",
    "model.compile(optimizer=optimizer,\n",
    "              loss='sparse_categorical_crossentropy',\n",
    "              metrics=['accuracy'])"
   ]
  },
  {
   "cell_type": "code",
   "execution_count": null,
   "id": "585ccf92",
   "metadata": {
    "id": "512d5b53",
    "outputId": "cac5318e-011c-4a01-e48f-08729fbeb222",
    "scrolled": false,
    "ExecuteTime": {
     "start_time": "2024-11-04T16:13:41.458368Z"
    }
   },
   "outputs": [],
   "source": [
    "history = model.fit(X_train, y_train, epochs=100, batch_size=128, validation_split=0.2,\n",
    "                   callbacks=[early_stopping])"
   ]
  },
  {
   "cell_type": "code",
   "execution_count": null,
   "id": "97085628",
   "metadata": {
    "ExecuteTime": {
     "end_time": "2024-11-04T16:13:41.461804Z",
     "start_time": "2024-11-04T16:13:41.459725Z"
    }
   },
   "outputs": [],
   "source": [
    "test_loss, test_accuracy = model.evaluate(X_test, y_test)"
   ]
  },
  {
   "cell_type": "code",
   "execution_count": null,
   "id": "42241990",
   "metadata": {
    "ExecuteTime": {
     "start_time": "2024-11-04T16:13:41.461036Z"
    }
   },
   "outputs": [],
   "source": [
    "print(f'test accuracy: {test_accuracy:.3g}')"
   ]
  },
  {
   "cell_type": "markdown",
   "id": "140da8d6",
   "metadata": {},
   "source": [
    "<hr style=\"border:1px solid gray\">\n",
    "\n",
    "### Problem 8.  Create your best model\n",
    "\n",
    "Try to combine the ingredients we have previously seen in building CNNs, plus the new ingredients in the earlier problems of this assignment, to create the best model you can.\n",
    "\n",
    "There are a couple of other ingredients you are allowed to try: \n",
    "- spatial dropout\n",
    "- global average pooling\n",
    "\n",
    "Spatial dropout is a type of dropout designed to work well with convolutional layers.  It is supported in Keras with layers.SpatialDropout2D.\n",
    "\n",
    "Global average pooling can be used in place of flattening.  It is like normal pooling but takes the average value across all the values found in each individual input channel.  In other words, the output will have the same number of channels as the input, but will only have one value for each channel.\n",
    "It is supported in Keras with layers.GlobalAveragePooling2D.\n",
    "\n",
    "Of course, feel free to experiment with activation functions, optimizers, optimizer initial learning rates, the number and size of convolutional and dense layers, etc.\n",
    "\n",
    "Also, if you want to use grid or random search, feel free to copy code from an earlier assignment on feedforward nets.\n",
    "\n",
    "Do not modify the testing cells below.  Be sure to write commentary.\n",
    "\n",
    "<hr style=\"border:1px solid gray\">"
   ]
  },
  {
   "cell_type": "code",
   "execution_count": null,
   "id": "3616a3d2",
   "metadata": {
    "ExecuteTime": {
     "end_time": "2024-11-04T16:13:41.475860Z",
     "start_time": "2024-11-04T16:13:41.461860Z"
    }
   },
   "outputs": [],
   "source": [
    "# REPLACE THIS CELL WITH YOUR CELLS"
   ]
  },
  {
   "cell_type": "code",
   "execution_count": null,
   "id": "63adcea6",
   "metadata": {
    "ExecuteTime": {
     "start_time": "2024-11-04T16:13:41.462722Z"
    }
   },
   "outputs": [],
   "source": [
    "test_loss, test_accuracy = model.evaluate(X_test, y_test)"
   ]
  },
  {
   "cell_type": "code",
   "execution_count": null,
   "id": "0bf9bb9b",
   "metadata": {
    "ExecuteTime": {
     "start_time": "2024-11-04T16:13:41.463390Z"
    }
   },
   "outputs": [],
   "source": [
    "print(f'test accuracy: {test_accuracy:.3g}')"
   ]
  },
  {
   "cell_type": "markdown",
   "id": "fe4b8984",
   "metadata": {},
   "source": [
    "#### Commentary\n",
    "\n",
    "(replace this text with your commentary)"
   ]
  }
 ],
 "metadata": {
  "accelerator": "GPU",
  "colab": {
   "provenance": []
  },
  "gpuClass": "standard",
  "kernelspec": {
   "display_name": "Python 3 (ipykernel)",
   "language": "python",
   "name": "python3"
  },
  "language_info": {
   "codemirror_mode": {
    "name": "ipython",
    "version": 3
   },
   "file_extension": ".py",
   "mimetype": "text/x-python",
   "name": "python",
   "nbconvert_exporter": "python",
   "pygments_lexer": "ipython3",
   "version": "3.9.18"
  }
 },
 "nbformat": 4,
 "nbformat_minor": 5
}
