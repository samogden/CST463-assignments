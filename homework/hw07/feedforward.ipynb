{
 "cells": [
  {
   "cell_type": "markdown",
   "metadata": {
    "id": "brSMyminoTOi"
   },
   "source": [
    "# Tuning a Feedforward network\n",
    "\n",
    "Building a feedforward neural network is easy.  Tuning a neural net is not so easy.  You want to avoid just trying random stuff.\n",
    "\n",
    "In this assignment we'll create some infrastructure to make tuning more systematic, and then use it.  You'll also get exposed to some other useful things:\n",
    "\n",
    "* how Keras models can be returned by functions\n",
    "* how feedforward nets can handle large inputs, like images\n",
    "* how the results of successive runs of training can give quite different results\n",
    "\n",
    "We'll build a multi-class classifier for the famous CIFAR-10 image data set, which consists of 32 x 32 pixel color images of objects in 10 categories.\n"
   ]
  },
  {
   "cell_type": "markdown",
   "metadata": {
    "id": "OiukCH0tx0Hg"
   },
   "source": [
    "\n",
    "**Instructions**:\n",
    "\n",
    "* Please start by reading the notebook carefully.\n",
    "* Then provide answers to the numbered problems 1-5.\n",
    "* Only modify cells as instructed.\n",
    "* It may not be possible for you to restart and run all before submitting.\n",
    "\n",
    "Hints:\n",
    "\n",
    "* The GPU option for Colab's runtime type (see Runtime menu) is a lot faster than the default CPU.\n",
    "* I created this notebook on Colab because many of you use Colab.  However, I ran out of my free allocation of resources, and ended up paying for ColabPro ($10/month, paid monthly).  You may want to do your work in Jupyter on your own machine.\n",
    "* Tuning takes time.  You may want to run grid searches overnight.  Get started early enough to make this possible."
   ]
  },
  {
   "cell_type": "code",
   "execution_count": null,
   "metadata": {
    "id": "v1PmGfOlmA4j"
   },
   "outputs": [],
   "source": [
    "import numpy as np\n",
    "import pandas as pd\n",
    "import matplotlib.pyplot as plt\n",
    "from tensorflow import keras\n",
    "from tensorflow.keras import backend as K\n",
    "from tensorflow.keras import models, layers\n",
    "from tensorflow.keras.datasets import cifar10\n",
    "from tensorflow.keras import callbacks\n",
    "from sklearn.model_selection import ParameterGrid"
   ]
  },
  {
   "cell_type": "code",
   "execution_count": null,
   "metadata": {
    "id": "N5abpaQOS-fd"
   },
   "outputs": [],
   "source": [
    "def scores_to_dataframe(scores):\n",
    "    \"\"\" Return hyperparameters and scores in a data frame. \"\"\"\n",
    "    \n",
    "    params_list, acc_list = scores\n",
    "    \n",
    "    params = pd.DataFrame(params_list)\n",
    "    accs = pd.Series(acc_list)\n",
    "    scores_df = pd.concat([params, accs], axis=1)\n",
    "    \n",
    "    return scores_df"
   ]
  },
  {
   "cell_type": "markdown",
   "metadata": {
    "id": "vhzu65aRh-JU"
   },
   "source": [
    "### Read and preprocess the image data\n",
    "\n",
    "**Read the data**\n",
    "\n",
    "As mentioned, this is a famous data set, and it is a built-in Keras data set.  The images in this data set are tiny, only 32 by 32 pixels in size.  They belong to 10 classes, 0 for airplane, 1 for automobile, etc.\n",
    "\n",
    "See [the Keras CIFAR-10 page](https://keras.io/api/datasets/cifar10/)."
   ]
  },
  {
   "cell_type": "code",
   "execution_count": null,
   "metadata": {
    "id": "8sAfluS-kWmO"
   },
   "outputs": [],
   "source": [
    "(X_train, y_train), (X_test, y_test) = cifar10.load_data()\n",
    "class_names = ['plane', 'car', 'bird', 'cat', 'deer', 'dog', 'frog', 'horse', 'ship', 'truck']"
   ]
  },
  {
   "cell_type": "code",
   "execution_count": null,
   "metadata": {
    "colab": {
     "base_uri": "https://localhost:8080/"
    },
    "executionInfo": {
     "elapsed": 15,
     "status": "ok",
     "timestamp": 1665170958273,
     "user": {
      "displayName": "Glenn",
      "userId": "10553525024667050874"
     },
     "user_tz": 420
    },
    "id": "XHLd-Se_mA4k",
    "outputId": "d310de7e-3296-4343-93df-11c1d1af095a"
   },
   "outputs": [
    {
     "name": "stdout",
     "output_type": "stream",
     "text": [
      "(50000, 32, 32, 3)\n",
      "(50000, 1)\n",
      "(10000, 32, 32, 3)\n",
      "(10000, 1)\n"
     ]
    }
   ],
   "source": [
    "print(X_train.shape)\n",
    "print(y_train.shape)\n",
    "print(X_test.shape)\n",
    "print(y_test.shape)"
   ]
  },
  {
   "cell_type": "markdown",
   "metadata": {
    "id": "7hbADR3Nyc04"
   },
   "source": [
    "There are 50K training images and 10K test images.\n",
    "\n",
    "The shape of the data is typical of color image data:\n",
    "\n",
    "`X_train[image, row, col, color]`\n",
    "\n",
    "So `X_train[0]` is the first image, `X_train[1]` is the second image, etc.\n",
    "\n",
    "In the row position, values can range from 0-31, and the same for the col position.\n",
    "\n",
    "In the color position, we have red/green/blue (RGB) color \"channels\", with a value of 0 for red, 1 for green, and 2 for blue."
   ]
  },
  {
   "cell_type": "markdown",
   "metadata": {
    "id": "S2B_8TnYzRLf"
   },
   "source": [
    "The label values are 0 through 9.  They are stored in a 2D NumPy array instead of a 1D array."
   ]
  },
  {
   "cell_type": "code",
   "execution_count": null,
   "metadata": {
    "colab": {
     "base_uri": "https://localhost:8080/"
    },
    "executionInfo": {
     "elapsed": 11,
     "status": "ok",
     "timestamp": 1665170958274,
     "user": {
      "displayName": "Glenn",
      "userId": "10553525024667050874"
     },
     "user_tz": 420
    },
    "id": "c1V4AnFMmA4m",
    "outputId": "77c77e91-e337-45fb-a49a-3553beadc0c2"
   },
   "outputs": [
    {
     "name": "stdout",
     "output_type": "stream",
     "text": [
      "[[6]\n",
      " [9]\n",
      " [9]\n",
      " [4]\n",
      " [1]\n",
      " [1]\n",
      " [2]\n",
      " [7]\n",
      " [8]\n",
      " [3]]\n"
     ]
    }
   ],
   "source": [
    "print(y_train[:10])"
   ]
  },
  {
   "cell_type": "markdown",
   "metadata": {
    "id": "q8EbHpWR1tEY"
   },
   "source": [
    "**Some random images**"
   ]
  },
  {
   "cell_type": "code",
   "execution_count": null,
   "metadata": {
    "colab": {
     "base_uri": "https://localhost:8080/",
     "height": 316
    },
    "executionInfo": {
     "elapsed": 540,
     "status": "ok",
     "timestamp": 1665170958807,
     "user": {
      "displayName": "Glenn",
      "userId": "10553525024667050874"
     },
     "user_tz": 420
    },
    "id": "84AdY2gs3s2P",
    "outputId": "32071bd8-b778-442d-a6e7-2ee19f505f10"
   },
   "outputs": [
    {
     "data": {
      "image/png": "[encoded data removed]",
      "text/plain": [
       "<Figure size 720x360 with 8 Axes>"
      ]
     },
     "metadata": {
      "needs_background": "light"
     },
     "output_type": "display_data"
    }
   ],
   "source": [
    "idx = np.random.choice(X_train.shape[0], 8)\n",
    "images = X_train[idx]\n",
    "labels = y_train[idx]\n",
    "\n",
    "fig, axs = plt.subplots(2, 4, figsize=(10,5))\n",
    "for i, ax in enumerate(axs.reshape(-1)):\n",
    "    ax.imshow(X_train[idx[i]])\n",
    "    ax.set_title(class_names[y_train[idx[i],0]])\n",
    "    ax.axis('off')"
   ]
  },
  {
   "cell_type": "markdown",
   "metadata": {
    "id": "cKRucwe6zFo3"
   },
   "source": [
    "**Get a subset of the data**\n",
    "\n",
    "We won't use the full data set because it would slow training down."
   ]
  },
  {
   "cell_type": "code",
   "execution_count": null,
   "metadata": {
    "id": "cYEQKtaoo9E7"
   },
   "outputs": [],
   "source": [
    "np.random.seed(42)   # for repeatability\n",
    "idx = np.random.choice(X_train.shape[0], 25000, replace=False)\n",
    "X_train = X_train[idx]\n",
    "y_train = y_train[idx]"
   ]
  },
  {
   "cell_type": "markdown",
   "metadata": {
    "id": "DS5J_tm0nrQA"
   },
   "source": [
    "**Flatten and scale the data**\n",
    "\n",
    "A single input will be a long array of values.  The length of the array is 32 * 32 * 3."
   ]
  },
  {
   "cell_type": "code",
   "execution_count": null,
   "metadata": {
    "id": "PfEz1wQ-mA4q"
   },
   "outputs": [],
   "source": [
    "r, c, col = X_train.shape[1:]\n",
    "X_train = X_train.reshape((-1, r * c * col))\n",
    "X_train = X_train.astype(\"float32\") / 255   # pixel values from 0 to 1\n",
    "X_test  = X_test.reshape((-1, r * c * col))\n",
    "X_test  = X_test.astype(\"float32\") / 255"
   ]
  },
  {
   "cell_type": "markdown",
   "metadata": {
    "id": "TMz-K4FbuM5X"
   },
   "source": [
    "**Squeeze the dimensions of y_train, y_test**\n",
    "\n",
    "The label data will be stored in 1D arrays, not 2D arrays."
   ]
  },
  {
   "cell_type": "code",
   "execution_count": null,
   "metadata": {
    "id": "0W35u6JOuZCL"
   },
   "outputs": [],
   "source": [
    "y_train = np.squeeze(y_train)  # this could also be done using reshape\n",
    "y_test = np.squeeze(y_test)"
   ]
  },
  {
   "cell_type": "code",
   "execution_count": null,
   "metadata": {
    "colab": {
     "base_uri": "https://localhost:8080/"
    },
    "executionInfo": {
     "elapsed": 14,
     "status": "ok",
     "timestamp": 1665170959603,
     "user": {
      "displayName": "Glenn",
      "userId": "10553525024667050874"
     },
     "user_tz": 420
    },
    "id": "f8YGQIF1NZVl",
    "outputId": "90102194-0b88-4672-c3f2-16e0bac83d36"
   },
   "outputs": [
    {
     "name": "stdout",
     "output_type": "stream",
     "text": [
      "(25000, 3072)\n",
      "(25000,)\n",
      "(10000, 3072)\n",
      "(10000,)\n"
     ]
    }
   ],
   "source": [
    "print(X_train.shape)\n",
    "print(y_train.shape)\n",
    "print(X_test.shape)\n",
    "print(y_test.shape)"
   ]
  },
  {
   "cell_type": "code",
   "execution_count": null,
   "metadata": {
    "id": "PiYqGK_a1hrQ"
   },
   "outputs": [],
   "source": [
    "num_classes = np.unique(y_train).size"
   ]
  },
  {
   "cell_type": "code",
   "execution_count": null,
   "metadata": {
    "colab": {
     "base_uri": "https://localhost:8080/"
    },
    "executionInfo": {
     "elapsed": 11,
     "status": "ok",
     "timestamp": 1665170959604,
     "user": {
      "displayName": "Glenn",
      "userId": "10553525024667050874"
     },
     "user_tz": 420
    },
    "id": "JiONahkUixTb",
    "outputId": "9dec0180-6084-43d1-dd3d-e701a38e477a"
   },
   "outputs": [
    {
     "name": "stdout",
     "output_type": "stream",
     "text": [
      "10\n"
     ]
    }
   ],
   "source": [
    "print(num_classes)"
   ]
  },
  {
   "cell_type": "markdown",
   "metadata": {
    "id": "xVXARCMTmA4o"
   },
   "source": [
    "## A feedforward neural network\n",
    "\n",
    "You may know that *convolutional* neural nets are commonly used for image classification.  But we'll use a simple feedforward net here, and will be able to compare performance with a convnet later.\n",
    "\n",
    "Create a model with 2 hidden layers plus an output layer.  There will be an output for each class."
   ]
  },
  {
   "cell_type": "markdown",
   "metadata": {
    "id": "LYqqSacR2Z0X"
   },
   "source": [
    "#### **Problem 1**.  Create a Keras model for CIFAR-10 image classification with 2 hidden layers, each containing 10 neurons.  Use `num_classes` when defining the number of outputs.  Use RELU activation in the hidden layers (this added 10/14/22).  You'll need to use softmax activation in the output layer."
   ]
  },
  {
   "cell_type": "code",
   "execution_count": null,
   "metadata": {
    "id": "8CMXLhFCjD1t"
   },
   "outputs": [],
   "source": [
    "model = models.Sequential()\n",
    "\n",
    "# YOUR CODE HERE"
   ]
  },
  {
   "cell_type": "markdown",
   "metadata": {
    "id": "qlpyjnSv8cQl"
   },
   "source": [
    "The model has a lot of parameters in its first hidden layer, because each neuron in that layer has many inputs.\n",
    "\n",
    "Some people recommend that the number of parameters in each hidden layer should be approximately the same."
   ]
  },
  {
   "cell_type": "code",
   "execution_count": null,
   "metadata": {
    "colab": {
     "base_uri": "https://localhost:8080/"
    },
    "executionInfo": {
     "elapsed": 9,
     "status": "ok",
     "timestamp": 1665170961012,
     "user": {
      "displayName": "Glenn",
      "userId": "10553525024667050874"
     },
     "user_tz": 420
    },
    "id": "3SafDHCBozI3",
    "outputId": "c8169c84-ef09-48e0-d340-c6084899620a"
   },
   "outputs": [
    {
     "name": "stdout",
     "output_type": "stream",
     "text": [
      "Model: \"sequential\"\n",
      "_________________________________________________________________\n",
      " Layer (type)                Output Shape              Param #   \n",
      "=================================================================\n",
      " dense (Dense)               (None, 10)                30730     \n",
      "                                                                 \n",
      " dense_1 (Dense)             (None, 10)                110       \n",
      "                                                                 \n",
      " dense_2 (Dense)             (None, 10)                110       \n",
      "                                                                 \n",
      "=================================================================\n",
      "Total params: 30,950\n",
      "Trainable params: 30,950\n",
      "Non-trainable params: 0\n",
      "_________________________________________________________________\n"
     ]
    }
   ],
   "source": [
    "model.summary()"
   ]
  },
  {
   "cell_type": "code",
   "execution_count": null,
   "metadata": {
    "id": "BN8UJXGEmA4p"
   },
   "outputs": [],
   "source": [
    "model.compile(optimizer=\"rmsprop\",\n",
    "              loss=\"sparse_categorical_crossentropy\",\n",
    "              metrics=[\"accuracy\"])"
   ]
  },
  {
   "cell_type": "markdown",
   "metadata": {
    "id": "Pk9jsMe4mA4q"
   },
   "source": [
    "**Train the model**\n",
    "\n",
    "When evaluating accuracy, remember that our baseline is 0.1, because that is the accuracy we'd achieve by guessing, given equal number of images of each of 10 classes."
   ]
  },
  {
   "cell_type": "code",
   "execution_count": null,
   "metadata": {
    "colab": {
     "base_uri": "https://localhost:8080/"
    },
    "executionInfo": {
     "elapsed": 25553,
     "status": "ok",
     "timestamp": 1665170986718,
     "user": {
      "displayName": "Glenn",
      "userId": "10553525024667050874"
     },
     "user_tz": 420
    },
    "id": "jJpvo74ZmA4q",
    "outputId": "2f970f5e-45ba-4909-f8a6-5c6bbddcfd41"
   },
   "outputs": [
    {
     "name": "stdout",
     "output_type": "stream",
     "text": [
      "Epoch 1/10\n",
      "547/547 [==============================] - 5s 5ms/step - loss: 2.3049 - accuracy: 0.1036 - val_loss: 2.3027 - val_accuracy: 0.0976\n",
      "Epoch 2/10\n",
      "547/547 [==============================] - 2s 4ms/step - loss: 2.3026 - accuracy: 0.0991 - val_loss: 2.3027 - val_accuracy: 0.0976\n",
      "Epoch 3/10\n",
      "547/547 [==============================] - 2s 4ms/step - loss: 2.3026 - accuracy: 0.0997 - val_loss: 2.3028 - val_accuracy: 0.0976\n",
      "Epoch 4/10\n",
      "547/547 [==============================] - 2s 4ms/step - loss: 2.3025 - accuracy: 0.1014 - val_loss: 2.3029 - val_accuracy: 0.0976\n",
      "Epoch 5/10\n",
      "547/547 [==============================] - 2s 4ms/step - loss: 2.3026 - accuracy: 0.1008 - val_loss: 2.3028 - val_accuracy: 0.0976\n",
      "Epoch 6/10\n",
      "547/547 [==============================] - 2s 4ms/step - loss: 2.3026 - accuracy: 0.1018 - val_loss: 2.3028 - val_accuracy: 0.0976\n",
      "Epoch 7/10\n",
      "547/547 [==============================] - 2s 4ms/step - loss: 2.3025 - accuracy: 0.0995 - val_loss: 2.3028 - val_accuracy: 0.0976\n",
      "Epoch 8/10\n",
      "547/547 [==============================] - 2s 4ms/step - loss: 2.3026 - accuracy: 0.1012 - val_loss: 2.3028 - val_accuracy: 0.1000\n",
      "Epoch 9/10\n",
      "547/547 [==============================] - 2s 4ms/step - loss: 2.3026 - accuracy: 0.0994 - val_loss: 2.3029 - val_accuracy: 0.1000\n",
      "Epoch 10/10\n",
      "547/547 [==============================] - 2s 4ms/step - loss: 2.3026 - accuracy: 0.1019 - val_loss: 2.3028 - val_accuracy: 0.1000\n"
     ]
    }
   ],
   "source": [
    "history = model.fit(X_train, y_train, epochs=10, batch_size=32, validation_split=0.3)"
   ]
  },
  {
   "cell_type": "markdown",
   "metadata": {
    "id": "LfPXgm5NmA4q"
   },
   "source": [
    "**Use the model to make predictions**\n",
    "\n",
    "Note that the output is a probability distribution over the possible target values."
   ]
  },
  {
   "cell_type": "code",
   "execution_count": null,
   "metadata": {
    "colab": {
     "base_uri": "https://localhost:8080/"
    },
    "executionInfo": {
     "elapsed": 178,
     "status": "ok",
     "timestamp": 1665170986871,
     "user": {
      "displayName": "Glenn",
      "userId": "10553525024667050874"
     },
     "user_tz": 420
    },
    "id": "FSCB2waAmA4r",
    "outputId": "8b0f3ebf-ec37-42c5-b862-73626b8a91cf"
   },
   "outputs": [
    {
     "data": {
      "text/plain": [
       "array([0.09903407, 0.09910464, 0.09928594, 0.10232144, 0.09699019,\n",
       "       0.10158176, 0.0968587 , 0.10121251, 0.10280646, 0.10080428],\n",
       "      dtype=float32)"
      ]
     },
     "execution_count": 17,
     "metadata": {},
     "output_type": "execute_result"
    }
   ],
   "source": [
    "test_digits = X_test[0:10]\n",
    "predictions = model.predict(test_digits)\n",
    "predictions[0]"
   ]
  },
  {
   "cell_type": "markdown",
   "metadata": {
    "id": "T2nTig2I3KV6"
   },
   "source": [
    "Notice that the sum of the predictions is 1, and the predicted class can be found with argmax()."
   ]
  },
  {
   "cell_type": "code",
   "execution_count": null,
   "metadata": {
    "colab": {
     "base_uri": "https://localhost:8080/"
    },
    "executionInfo": {
     "elapsed": 8,
     "status": "ok",
     "timestamp": 1665170986872,
     "user": {
      "displayName": "Glenn",
      "userId": "10553525024667050874"
     },
     "user_tz": 420
    },
    "id": "RCs7THRwbu41",
    "outputId": "daefce9c-6f8b-4518-ead6-9d258e1253ee"
   },
   "outputs": [
    {
     "name": "stdout",
     "output_type": "stream",
     "text": [
      "0.99999994\n",
      "8\n"
     ]
    }
   ],
   "source": [
    "print(predictions[0].sum())\n",
    "print(predictions[0].argmax())"
   ]
  },
  {
   "cell_type": "markdown",
   "metadata": {
    "id": "YQuS0rqkmA4s"
   },
   "source": [
    "**Evaluating the model on new data**\n",
    "\n",
    "This illustrate the model method evaluate(), which we haven't discussed in class."
   ]
  },
  {
   "cell_type": "code",
   "execution_count": null,
   "metadata": {
    "colab": {
     "base_uri": "https://localhost:8080/"
    },
    "executionInfo": {
     "elapsed": 902,
     "status": "ok",
     "timestamp": 1665170987770,
     "user": {
      "displayName": "Glenn",
      "userId": "10553525024667050874"
     },
     "user_tz": 420
    },
    "id": "P8mDHewBmA4s",
    "outputId": "129639c6-ddf0-42b1-cf85-6e6cf4423388"
   },
   "outputs": [
    {
     "name": "stdout",
     "output_type": "stream",
     "text": [
      "313/313 [==============================] - 1s 3ms/step - loss: 2.3028 - accuracy: 0.1000\n",
      "test accuracy:  0.100\n"
     ]
    }
   ],
   "source": [
    "test_loss, test_acc = model.evaluate(X_test, y_test)\n",
    "print(f\"test accuracy: {test_acc: .3f}\")"
   ]
  },
  {
   "cell_type": "markdown",
   "metadata": {
    "id": "A7syf2ebQ3NN"
   },
   "source": [
    "**Early stopping**\n",
    "\n",
    "Keras supports callbacks, which are basically functions that can be provided to Keras to be run during training.  You can write custom callback functions, but Keras provides a few standard ones, including one for \"early stopping\".\n",
    "\n",
    "The idea of early stopping is that the training process can be stopped when a certain metric stops increasing or decreasing.  In this case, we want to stop training when validation loss stops lowering.\n",
    "\n",
    "The validation loss can go up and down a little randomly, so we don't want to stop training as soon as validation loss does not decrease.  We might want to \"be patience\" and wait a few epochs to see if the value gets lower."
   ]
  },
  {
   "cell_type": "code",
   "execution_count": null,
   "metadata": {
    "id": "o5hQQU1QQ7QF"
   },
   "outputs": [],
   "source": [
    "patience=2   # wait for 2 epochs to see if validation loss will decrease\n",
    "early_stopping = callbacks.EarlyStopping(monitor='val_loss', patience=patience)   "
   ]
  },
  {
   "cell_type": "code",
   "execution_count": null,
   "metadata": {
    "colab": {
     "base_uri": "https://localhost:8080/"
    },
    "executionInfo": {
     "elapsed": 7564,
     "status": "ok",
     "timestamp": 1665170995327,
     "user": {
      "displayName": "Glenn",
      "userId": "10553525024667050874"
     },
     "user_tz": 420
    },
    "id": "UYQNGzFfRO7S",
    "outputId": "7d22f8cb-4e8b-4c79-d7a8-df4ad92fda45"
   },
   "outputs": [
    {
     "name": "stdout",
     "output_type": "stream",
     "text": [
      "Epoch 1/20\n",
      "547/547 [==============================] - 3s 4ms/step - loss: 2.3026 - accuracy: 0.1000 - val_loss: 2.3028 - val_accuracy: 0.0976\n",
      "Epoch 2/20\n",
      "547/547 [==============================] - 2s 4ms/step - loss: 2.3026 - accuracy: 0.0997 - val_loss: 2.3028 - val_accuracy: 0.0976\n",
      "Epoch 3/20\n",
      "547/547 [==============================] - 2s 4ms/step - loss: 2.3026 - accuracy: 0.1017 - val_loss: 2.3029 - val_accuracy: 0.0976\n"
     ]
    }
   ],
   "source": [
    "model.compile(optimizer=\"rmsprop\", loss=\"sparse_categorical_crossentropy\", metrics=[\"accuracy\"])\n",
    "history = model.fit(X_train, y_train, epochs=20, callbacks=[early_stopping], batch_size=32, validation_split=0.3)"
   ]
  },
  {
   "cell_type": "markdown",
   "metadata": {
    "id": "xqGPSTvShoyd"
   },
   "source": [
    "## Package up the model in a function"
   ]
  },
  {
   "cell_type": "markdown",
   "metadata": {
    "id": "WXaaps3qjSbc"
   },
   "source": [
    "It is common to write a function to build and return a Keras model.  One reason to do this is to make it easy to create customized versions of a model."
   ]
  },
  {
   "cell_type": "markdown",
   "metadata": {
    "id": "En__GCn3ql9k"
   },
   "source": [
    "#### **Problem 2**.  Write a function that will return a model with the given activation function and the given number of hidden layers and hidden layer sizes.  Only the first hidden layer should provide an input shape.  You can use the shape of X_train to determine the input shape.\n",
    "\n",
    "A value of layer_sizes = [10, 5] means \"2 hidden layers, with the first containing 10 neurons and the second containing 5 neurons\".\n",
    "\n",
    "Hint: your code will be simpler if you use a Keras InputLayer, as opposed to defining the input shape in the first dense layer."
   ]
  },
  {
   "cell_type": "code",
   "execution_count": null,
   "metadata": {
    "id": "BfydpRXtmA4o"
   },
   "outputs": [],
   "source": [
    "def get_model(act_fun=\"relu\", layer_sizes=[10]):\n",
    "    model = models.Sequential()\n",
    "\n",
    "    # YOUR CODE HERE\n",
    "    \n",
    "    return model"
   ]
  },
  {
   "cell_type": "markdown",
   "metadata": {
    "id": "4c_fNma6Psp0"
   },
   "source": [
    "By default, we get a model with one hidden layer of 10 neurons, and the relu activation function in the hidden layers."
   ]
  },
  {
   "cell_type": "code",
   "execution_count": null,
   "metadata": {
    "id": "UplyaeJDj9pE"
   },
   "outputs": [],
   "source": [
    "model = get_model()"
   ]
  },
  {
   "cell_type": "code",
   "execution_count": null,
   "metadata": {
    "colab": {
     "base_uri": "https://localhost:8080/"
    },
    "executionInfo": {
     "elapsed": 41,
     "status": "ok",
     "timestamp": 1665170998969,
     "user": {
      "displayName": "Glenn",
      "userId": "10553525024667050874"
     },
     "user_tz": 420
    },
    "id": "VKFiqRHmj4yE",
    "outputId": "6aeb01f5-37de-4315-e4d2-fef001c66677"
   },
   "outputs": [
    {
     "name": "stdout",
     "output_type": "stream",
     "text": [
      "Model: \"sequential_1\"\n",
      "_________________________________________________________________\n",
      " Layer (type)                Output Shape              Param #   \n",
      "=================================================================\n",
      " dense_3 (Dense)             (None, 10)                30730     \n",
      "                                                                 \n",
      " dense_4 (Dense)             (None, 10)                110       \n",
      "                                                                 \n",
      "=================================================================\n",
      "Total params: 30,840\n",
      "Trainable params: 30,840\n",
      "Non-trainable params: 0\n",
      "_________________________________________________________________\n"
     ]
    }
   ],
   "source": [
    "model.summary()"
   ]
  },
  {
   "cell_type": "markdown",
   "metadata": {
    "id": "EHa4Jv99QC5d"
   },
   "source": [
    "An example with 10 hidden layers, and ELU activation."
   ]
  },
  {
   "cell_type": "code",
   "execution_count": null,
   "metadata": {
    "id": "4d_JJswLlFks"
   },
   "outputs": [],
   "source": [
    "model = get_model(act_fun='elu', layer_sizes=[10, 5])"
   ]
  },
  {
   "cell_type": "code",
   "execution_count": null,
   "metadata": {
    "colab": {
     "base_uri": "https://localhost:8080/"
    },
    "executionInfo": {
     "elapsed": 24,
     "status": "ok",
     "timestamp": 1665170998970,
     "user": {
      "displayName": "Glenn",
      "userId": "10553525024667050874"
     },
     "user_tz": 420
    },
    "id": "RcWpBulylD2T",
    "outputId": "d04c6f56-9ec8-4f9d-8e86-a0c6b38a5d24"
   },
   "outputs": [
    {
     "name": "stdout",
     "output_type": "stream",
     "text": [
      "Model: \"sequential_2\"\n",
      "_________________________________________________________________\n",
      " Layer (type)                Output Shape              Param #   \n",
      "=================================================================\n",
      " dense_5 (Dense)             (None, 10)                30730     \n",
      "                                                                 \n",
      " dense_6 (Dense)             (None, 5)                 55        \n",
      "                                                                 \n",
      " dense_7 (Dense)             (None, 10)                60        \n",
      "                                                                 \n",
      "=================================================================\n",
      "Total params: 30,845\n",
      "Trainable params: 30,845\n",
      "Non-trainable params: 0\n",
      "_________________________________________________________________\n"
     ]
    }
   ],
   "source": [
    "model.summary()"
   ]
  },
  {
   "cell_type": "code",
   "execution_count": null,
   "metadata": {
    "colab": {
     "base_uri": "https://localhost:8080/"
    },
    "executionInfo": {
     "elapsed": 21252,
     "status": "ok",
     "timestamp": 1665171020216,
     "user": {
      "displayName": "Glenn",
      "userId": "10553525024667050874"
     },
     "user_tz": 420
    },
    "id": "f_gKqbvojz4T",
    "outputId": "f55b8814-d10a-4757-94cc-cc9ee8721e1f"
   },
   "outputs": [
    {
     "name": "stdout",
     "output_type": "stream",
     "text": [
      "Epoch 1/5\n",
      "547/547 [==============================] - 3s 5ms/step - loss: 2.1920 - accuracy: 0.1807 - val_loss: 2.0641 - val_accuracy: 0.2080\n",
      "Epoch 2/5\n",
      "547/547 [==============================] - 2s 4ms/step - loss: 2.0494 - accuracy: 0.2205 - val_loss: 2.1282 - val_accuracy: 0.2196\n",
      "Epoch 3/5\n",
      "547/547 [==============================] - 2s 4ms/step - loss: 1.9827 - accuracy: 0.2489 - val_loss: 1.9159 - val_accuracy: 0.2780\n",
      "Epoch 4/5\n",
      "547/547 [==============================] - 2s 4ms/step - loss: 1.9358 - accuracy: 0.2654 - val_loss: 1.9254 - val_accuracy: 0.2688\n",
      "Epoch 5/5\n",
      "547/547 [==============================] - 2s 4ms/step - loss: 1.9006 - accuracy: 0.2822 - val_loss: 2.0056 - val_accuracy: 0.2636\n"
     ]
    }
   ],
   "source": [
    "model.compile(optimizer=\"rmsprop\", loss=\"sparse_categorical_crossentropy\", metrics=[\"accuracy\"])\n",
    "history = model.fit(X_train, y_train, epochs=5, batch_size=32, validation_split=0.3)"
   ]
  },
  {
   "cell_type": "markdown",
   "metadata": {
    "id": "qmQPV-XUQQVl"
   },
   "source": [
    "Here the average validation accuracy for the final two epochs is reported."
   ]
  },
  {
   "cell_type": "code",
   "execution_count": null,
   "metadata": {
    "colab": {
     "base_uri": "https://localhost:8080/"
    },
    "executionInfo": {
     "elapsed": 32,
     "status": "ok",
     "timestamp": 1665171020217,
     "user": {
      "displayName": "Glenn",
      "userId": "10553525024667050874"
     },
     "user_tz": 420
    },
    "id": "GxWmEo7WkV7u",
    "outputId": "34421467-20f7-4a0e-c59b-4c2870f88691"
   },
   "outputs": [
    {
     "name": "stdout",
     "output_type": "stream",
     "text": [
      "averaged validation accuracy:  0.266\n"
     ]
    }
   ],
   "source": [
    "mean_acc = np.mean(history.history['val_accuracy'][-2:])\n",
    "print(f\"averaged validation accuracy: {mean_acc: .3f}\")"
   ]
  },
  {
   "cell_type": "markdown",
   "metadata": {
    "id": "wsTPbH6jk3ar"
   },
   "source": [
    "### Grid search"
   ]
  },
  {
   "cell_type": "markdown",
   "metadata": {
    "id": "fQS2y1HXqaOc"
   },
   "source": [
    "Here we define the default hyperparameter values.  If we want to include more hyperparameters, this dictionary must be extended."
   ]
  },
  {
   "cell_type": "code",
   "execution_count": null,
   "metadata": {
    "id": "yNf88tnMmFP1"
   },
   "outputs": [],
   "source": [
    "default_params = {\n",
    "    'act_fun': 'relu',\n",
    "    'layer_sizes': [20, 20],\n",
    "    'optimizer': 'rmsprop',\n",
    "    'batch_size': 8\n",
    "}"
   ]
  },
  {
   "cell_type": "markdown",
   "metadata": {
    "id": "gv8LZKBDu7WD"
   },
   "source": [
    "**A function to evaluate hyperparameter settings**\n",
    "\n",
    "In searching for good hyperparameter settings, it is handy to write a function that computes how well a set of hyperparameter settings work.\n",
    "\n",
    "This function builds a model, compiles it, trains it, and then reports on the model accuracy, using the hyperparameters in 'params'."
   ]
  },
  {
   "cell_type": "code",
   "execution_count": null,
   "metadata": {
    "id": "CxeOdVhflXw8"
   },
   "outputs": [],
   "source": [
    "def evaluate_params(params, verbose=1):\n",
    "    \"\"\" Return validation accuracy for a model built and trained using the given parameters.\n",
    "    args:\n",
    "        params: a Python dictionary\n",
    "    \"\"\"\n",
    "\n",
    "    # default parameters are used if not supplied\n",
    "    pars = default_params.copy()\n",
    "    pars.update(params)\n",
    "\n",
    "    act_fun = pars['act_fun']\n",
    "    layer_sizes = pars['layer_sizes']\n",
    "    optimizer = pars['optimizer']\n",
    "    batch_size = pars['batch_size']\n",
    "\n",
    "    early_stopping = callbacks.EarlyStopping(monitor='val_loss', patience=2)   \n",
    "\n",
    "    model = get_model(act_fun=act_fun, layer_sizes=layer_sizes)\n",
    "    model.compile(optimizer=optimizer,\n",
    "              loss=\"sparse_categorical_crossentropy\",\n",
    "              metrics=[\"accuracy\"])\n",
    "    \n",
    "    history = model.fit(X_train, y_train, epochs=50, callbacks=[early_stopping], batch_size=batch_size, \n",
    "                        validation_split=0.3, verbose=verbose)\n",
    "    mean_acc = np.mean(history.history['val_accuracy'][-2:])   \n",
    "\n",
    "    return pars, mean_acc, history"
   ]
  },
  {
   "cell_type": "markdown",
   "metadata": {
    "id": "dU7ZTHrsmrck"
   },
   "source": [
    "**A function to perform grid search**\n",
    "\n",
    "With our evaluate_params() function, it's easy to create a function to perform hyperparameter search.\n",
    "\n",
    "To define the parameter combinations we want to search, we will use a dictionary like this, where the keys are hyperparameter names and the values are lists of possible hyperparameter values:\n",
    "\n",
    "`{'act_fun': ['relu', 'elu'], 'layer_sizes': [[10], [10,5]]}`\n",
    "\n",
    "It's also possible to use a list of such dictionaries, like this:\n",
    "\n",
    "`[{'act_fun': ['relu'], 'layer_sizes': [[10], [20]]}, \n",
    "  {'act_fun: ['elu'], 'layer_sizes': [[20], [50]]}]`"
   ]
  },
  {
   "cell_type": "code",
   "execution_count": null,
   "metadata": {
    "id": "Oh3Jj7mYmwcM"
   },
   "outputs": [],
   "source": [
    "def grid_search(param_grid, verbose=1):\n",
    "\n",
    "    params_list = []\n",
    "    acc_list = []\n",
    "    for params in ParameterGrid(param_grid):\n",
    "        print(f\"params: {params}\")\n",
    "        pars, acc, history = evaluate_params(params, verbose=verbose)\n",
    "\n",
    "        params_list.append(pars)\n",
    "        acc_list.append(acc)\n",
    "\n",
    "    return params_list, acc_list"
   ]
  },
  {
   "cell_type": "markdown",
   "metadata": {
    "id": "alrTkg5EKK_9"
   },
   "source": [
    "**A grid search example**\n",
    "\n",
    "Look at the params carefully to make sure you understand how ParameterGrid() works."
   ]
  },
  {
   "cell_type": "code",
   "execution_count": null,
   "metadata": {
    "colab": {
     "base_uri": "https://localhost:8080/"
    },
    "executionInfo": {
     "elapsed": 223824,
     "status": "ok",
     "timestamp": 1665171244015,
     "user": {
      "displayName": "Glenn",
      "userId": "10553525024667050874"
     },
     "user_tz": 420
    },
    "id": "uoVCGjT2KPH1",
    "outputId": "0ec1764a-925b-4a4e-94d6-ebf0aaa0d7cc"
   },
   "outputs": [
    {
     "name": "stdout",
     "output_type": "stream",
     "text": [
      "params: {'act_fun': 'relu', 'layer_sizes': [20]}\n",
      "Epoch 1/50\n",
      "2188/2188 [==============================] - 9s 4ms/step - loss: 2.3088 - accuracy: 0.0977 - val_loss: 2.3027 - val_accuracy: 0.1005\n",
      "Epoch 2/50\n",
      "2188/2188 [==============================] - 8s 3ms/step - loss: 2.3028 - accuracy: 0.1019 - val_loss: 2.3028 - val_accuracy: 0.1000\n",
      "Epoch 3/50\n",
      "2188/2188 [==============================] - 9s 4ms/step - loss: 2.3029 - accuracy: 0.0998 - val_loss: 2.3031 - val_accuracy: 0.0975\n",
      "params: {'act_fun': 'relu', 'layer_sizes': [10, 10]}\n",
      "Epoch 1/50\n",
      "2188/2188 [==============================] - 9s 4ms/step - loss: 2.3029 - accuracy: 0.1017 - val_loss: 2.3028 - val_accuracy: 0.0975\n",
      "Epoch 2/50\n",
      "2188/2188 [==============================] - 11s 5ms/step - loss: 2.3027 - accuracy: 0.0983 - val_loss: 2.3031 - val_accuracy: 0.0975\n",
      "Epoch 3/50\n",
      "2188/2188 [==============================] - 9s 4ms/step - loss: 2.3027 - accuracy: 0.1023 - val_loss: 2.3028 - val_accuracy: 0.0999\n",
      "params: {'act_fun': 'elu', 'layer_sizes': [20]}\n",
      "Epoch 1/50\n",
      "2188/2188 [==============================] - 9s 4ms/step - loss: 2.1320 - accuracy: 0.2558 - val_loss: 2.0107 - val_accuracy: 0.3095\n",
      "Epoch 2/50\n",
      "2188/2188 [==============================] - 8s 4ms/step - loss: 1.9122 - accuracy: 0.3255 - val_loss: 1.8372 - val_accuracy: 0.3537\n",
      "Epoch 3/50\n",
      "2188/2188 [==============================] - 8s 4ms/step - loss: 1.8376 - accuracy: 0.3535 - val_loss: 1.9730 - val_accuracy: 0.3267\n",
      "Epoch 4/50\n",
      "2188/2188 [==============================] - 8s 4ms/step - loss: 1.7927 - accuracy: 0.3678 - val_loss: 1.7945 - val_accuracy: 0.3616\n",
      "Epoch 5/50\n",
      "2188/2188 [==============================] - 8s 4ms/step - loss: 1.7549 - accuracy: 0.3848 - val_loss: 1.8969 - val_accuracy: 0.3383\n",
      "Epoch 6/50\n",
      "2188/2188 [==============================] - 9s 4ms/step - loss: 1.7193 - accuracy: 0.3951 - val_loss: 1.8112 - val_accuracy: 0.3703\n",
      "params: {'act_fun': 'elu', 'layer_sizes': [10, 10]}\n",
      "Epoch 1/50\n",
      "2188/2188 [==============================] - 10s 4ms/step - loss: 2.0703 - accuracy: 0.2270 - val_loss: 1.9649 - val_accuracy: 0.2701\n",
      "Epoch 2/50\n",
      "2188/2188 [==============================] - 8s 4ms/step - loss: 1.9265 - accuracy: 0.2863 - val_loss: 1.9601 - val_accuracy: 0.2899\n",
      "Epoch 3/50\n",
      "2188/2188 [==============================] - 8s 4ms/step - loss: 1.8761 - accuracy: 0.3102 - val_loss: 1.9347 - val_accuracy: 0.2972\n",
      "Epoch 4/50\n",
      "2188/2188 [==============================] - 9s 4ms/step - loss: 1.8397 - accuracy: 0.3277 - val_loss: 1.9146 - val_accuracy: 0.3057\n",
      "Epoch 5/50\n",
      "2188/2188 [==============================] - 9s 4ms/step - loss: 1.8177 - accuracy: 0.3364 - val_loss: 1.9594 - val_accuracy: 0.3041\n",
      "Epoch 6/50\n",
      "2188/2188 [==============================] - 9s 4ms/step - loss: 1.7941 - accuracy: 0.3507 - val_loss: 1.7961 - val_accuracy: 0.3521\n",
      "Epoch 7/50\n",
      "2188/2188 [==============================] - 9s 4ms/step - loss: 1.7751 - accuracy: 0.3602 - val_loss: 1.8037 - val_accuracy: 0.3472\n",
      "Epoch 8/50\n",
      "2188/2188 [==============================] - 8s 4ms/step - loss: 1.7598 - accuracy: 0.3663 - val_loss: 1.8245 - val_accuracy: 0.3449\n"
     ]
    }
   ],
   "source": [
    "param_grid = {'act_fun': ['relu', 'elu'], 'layer_sizes': [[20], [10,10]]}\n",
    "results = grid_search(param_grid)"
   ]
  },
  {
   "cell_type": "markdown",
   "metadata": {
    "id": "U7XkunjwSF32"
   },
   "source": [
    "`scores_to_dataframe()` is very useful in getting a summary of the result of a grid search."
   ]
  },
  {
   "cell_type": "code",
   "execution_count": null,
   "metadata": {
    "colab": {
     "base_uri": "https://localhost:8080/",
     "height": 175
    },
    "executionInfo": {
     "elapsed": 28,
     "status": "ok",
     "timestamp": 1665171244016,
     "user": {
      "displayName": "Glenn",
      "userId": "10553525024667050874"
     },
     "user_tz": 420
    },
    "id": "LHVHszmYTCed",
    "outputId": "ef03751d-5081-403c-f45e-882309d35296"
   },
   "outputs": [
    {
     "data": {
      "text/html": [
       "\n",
       "  <div id=\"df-0396c6c3-bc80-495e-8bd7-36abeadd2fb4\">\n",
       "    <div class=\"colab-df-container\">\n",
       "      <div>\n",
       "<style scoped>\n",
       "    .dataframe tbody tr th:only-of-type {\n",
       "        vertical-align: middle;\n",
       "    }\n",
       "\n",
       "    .dataframe tbody tr th {\n",
       "        vertical-align: top;\n",
       "    }\n",
       "\n",
       "    .dataframe thead th {\n",
       "        text-align: right;\n",
       "    }\n",
       "</style>\n",
       "<table border=\"1\" class=\"dataframe\">\n",
       "  <thead>\n",
       "    <tr style=\"text-align: right;\">\n",
       "      <th></th>\n",
       "      <th>act_fun</th>\n",
       "      <th>layer_sizes</th>\n",
       "      <th>optimizer</th>\n",
       "      <th>batch_size</th>\n",
       "      <th>0</th>\n",
       "    </tr>\n",
       "  </thead>\n",
       "  <tbody>\n",
       "    <tr>\n",
       "      <th>0</th>\n",
       "      <td>relu</td>\n",
       "      <td>[20]</td>\n",
       "      <td>rmsprop</td>\n",
       "      <td>8</td>\n",
       "      <td>0.098733</td>\n",
       "    </tr>\n",
       "    <tr>\n",
       "      <th>1</th>\n",
       "      <td>relu</td>\n",
       "      <td>[10, 10]</td>\n",
       "      <td>rmsprop</td>\n",
       "      <td>8</td>\n",
       "      <td>0.098667</td>\n",
       "    </tr>\n",
       "    <tr>\n",
       "      <th>2</th>\n",
       "      <td>elu</td>\n",
       "      <td>[20]</td>\n",
       "      <td>rmsprop</td>\n",
       "      <td>8</td>\n",
       "      <td>0.354267</td>\n",
       "    </tr>\n",
       "    <tr>\n",
       "      <th>3</th>\n",
       "      <td>elu</td>\n",
       "      <td>[10, 10]</td>\n",
       "      <td>rmsprop</td>\n",
       "      <td>8</td>\n",
       "      <td>0.346067</td>\n",
       "    </tr>\n",
       "  </tbody>\n",
       "</table>\n",
       "</div>\n",
       "      <button class=\"colab-df-convert\" onclick=\"convertToInteractive('df-0396c6c3-bc80-495e-8bd7-36abeadd2fb4')\"\n",
       "              title=\"Convert this dataframe to an interactive table.\"\n",
       "              style=\"display:none;\">\n",
       "        \n",
       "  <svg xmlns=\"http://www.w3.org/2000/svg\" height=\"24px\"viewBox=\"0 0 24 24\"\n",
       "       width=\"24px\">\n",
       "    <path d=\"M0 0h24v24H0V0z\" fill=\"none\"/>\n",
       "    <path d=\"M18.56 5.44l.94 2.06.94-2.06 2.06-.94-2.06-.94-.94-2.06-.94 2.06-2.06.94zm-11 1L8.5 8.5l.94-2.06 2.06-.94-2.06-.94L8.5 2.5l-.94 2.06-2.06.94zm10 10l.94 2.06.94-2.06 2.06-.94-2.06-.94-.94-2.06-.94 2.06-2.06.94z\"/><path d=\"M17.41 7.96l-1.37-1.37c-.4-.4-.92-.59-1.43-.59-.52 0-1.04.2-1.43.59L10.3 9.45l-7.72 7.72c-.78.78-.78 2.05 0 2.83L4 21.41c.39.39.9.59 1.41.59.51 0 1.02-.2 1.41-.59l7.78-7.78 2.81-2.81c.8-.78.8-2.07 0-2.86zM5.41 20L4 18.59l7.72-7.72 1.47 1.35L5.41 20z\"/>\n",
       "  </svg>\n",
       "      </button>\n",
       "      \n",
       "  <style>\n",
       "    .colab-df-container {\n",
       "      display:flex;\n",
       "      flex-wrap:wrap;\n",
       "      gap: 12px;\n",
       "    }\n",
       "\n",
       "    .colab-df-convert {\n",
       "      background-color: #E8F0FE;\n",
       "      border: none;\n",
       "      border-radius: 50%;\n",
       "      cursor: pointer;\n",
       "      display: none;\n",
       "      fill: #1967D2;\n",
       "      height: 32px;\n",
       "      padding: 0 0 0 0;\n",
       "      width: 32px;\n",
       "    }\n",
       "\n",
       "    .colab-df-convert:hover {\n",
       "      background-color: #E2EBFA;\n",
       "      box-shadow: 0px 1px 2px rgba(60, 64, 67, 0.3), 0px 1px 3px 1px rgba(60, 64, 67, 0.15);\n",
       "      fill: #174EA6;\n",
       "    }\n",
       "\n",
       "    [theme=dark] .colab-df-convert {\n",
       "      background-color: #3B4455;\n",
       "      fill: #D2E3FC;\n",
       "    }\n",
       "\n",
       "    [theme=dark] .colab-df-convert:hover {\n",
       "      background-color: #434B5C;\n",
       "      box-shadow: 0px 1px 3px 1px rgba(0, 0, 0, 0.15);\n",
       "      filter: drop-shadow(0px 1px 2px rgba(0, 0, 0, 0.3));\n",
       "      fill: #FFFFFF;\n",
       "    }\n",
       "  </style>\n",
       "\n",
       "      <script>\n",
       "        const buttonEl =\n",
       "          document.querySelector('#df-0396c6c3-bc80-495e-8bd7-36abeadd2fb4 button.colab-df-convert');\n",
       "        buttonEl.style.display =\n",
       "          google.colab.kernel.accessAllowed ? 'block' : 'none';\n",
       "\n",
       "        async function convertToInteractive(key) {\n",
       "          const element = document.querySelector('#df-0396c6c3-bc80-495e-8bd7-36abeadd2fb4');\n",
       "          const dataTable =\n",
       "            await google.colab.kernel.invokeFunction('convertToInteractive',\n",
       "                                                     [key], {});\n",
       "          if (!dataTable) return;\n",
       "\n",
       "          const docLinkHtml = 'Like what you see? Visit the ' +\n",
       "            '<a target=\"_blank\" href=https://colab.research.google.com/notebooks/data_table.ipynb>data table notebook</a>'\n",
       "            + ' to learn more about interactive tables.';\n",
       "          element.innerHTML = '';\n",
       "          dataTable['output_type'] = 'display_data';\n",
       "          await google.colab.output.renderOutput(dataTable, element);\n",
       "          const docLink = document.createElement('div');\n",
       "          docLink.innerHTML = docLinkHtml;\n",
       "          element.appendChild(docLink);\n",
       "        }\n",
       "      </script>\n",
       "    </div>\n",
       "  </div>\n",
       "  "
      ],
      "text/plain": [
       "  act_fun layer_sizes optimizer  batch_size         0\n",
       "0    relu        [20]   rmsprop           8  0.098733\n",
       "1    relu    [10, 10]   rmsprop           8  0.098667\n",
       "2     elu        [20]   rmsprop           8  0.354267\n",
       "3     elu    [10, 10]   rmsprop           8  0.346067"
      ]
     },
     "execution_count": 33,
     "metadata": {},
     "output_type": "execute_result"
    }
   ],
   "source": [
    "scores_to_dataframe(results)"
   ]
  },
  {
   "cell_type": "markdown",
   "metadata": {
    "id": "tFp-xnXHnE-b"
   },
   "source": [
    "### What is the variation in accuracy across multiple training runs?\n",
    "\n",
    "If you train a model multilple times, you will get a different accuracy value each time.  This is super important in hyperparameter tuning, because you can mistake noise for an improvement due to a change in hyperparameter values.\n",
    "\n",
    "Let's do a test by evaluating the same model multiple times."
   ]
  },
  {
   "cell_type": "code",
   "execution_count": null,
   "metadata": {
    "colab": {
     "base_uri": "https://localhost:8080/"
    },
    "executionInfo": {
     "elapsed": 304683,
     "status": "ok",
     "timestamp": 1665171548675,
     "user": {
      "displayName": "Glenn",
      "userId": "10553525024667050874"
     },
     "user_tz": 420
    },
    "id": "G94Ok_K4OiRt",
    "outputId": "c5894ab6-82d2-4b7e-b4a0-6c18e1d23cf0"
   },
   "outputs": [
    {
     "name": "stdout",
     "output_type": "stream",
     "text": [
      "params: {}\n",
      "Epoch 1/50\n",
      "2188/2188 [==============================] - 10s 4ms/step - loss: 2.3049 - accuracy: 0.0997 - val_loss: 2.3029 - val_accuracy: 0.1005\n",
      "Epoch 2/50\n",
      "2188/2188 [==============================] - 8s 4ms/step - loss: 2.3031 - accuracy: 0.1055 - val_loss: 2.3025 - val_accuracy: 0.1008\n",
      "Epoch 3/50\n",
      "2188/2188 [==============================] - 9s 4ms/step - loss: 2.1487 - accuracy: 0.1656 - val_loss: 2.0721 - val_accuracy: 0.1809\n",
      "Epoch 4/50\n",
      "2188/2188 [==============================] - 9s 4ms/step - loss: 2.0868 - accuracy: 0.1800 - val_loss: 2.2488 - val_accuracy: 0.1465\n",
      "Epoch 5/50\n",
      "2188/2188 [==============================] - 9s 4ms/step - loss: 2.0703 - accuracy: 0.1791 - val_loss: 2.0594 - val_accuracy: 0.1984\n",
      "Epoch 6/50\n",
      "2188/2188 [==============================] - 9s 4ms/step - loss: 2.0619 - accuracy: 0.1822 - val_loss: 2.1003 - val_accuracy: 0.1868\n",
      "Epoch 7/50\n",
      "2188/2188 [==============================] - 9s 4ms/step - loss: 2.0587 - accuracy: 0.1871 - val_loss: 2.0305 - val_accuracy: 0.2005\n",
      "Epoch 8/50\n",
      "2188/2188 [==============================] - 8s 4ms/step - loss: 2.0537 - accuracy: 0.1901 - val_loss: 2.0832 - val_accuracy: 0.1959\n",
      "Epoch 9/50\n",
      "2188/2188 [==============================] - 9s 4ms/step - loss: 2.0465 - accuracy: 0.1941 - val_loss: 2.0253 - val_accuracy: 0.2128\n",
      "Epoch 10/50\n",
      "2188/2188 [==============================] - 9s 4ms/step - loss: 2.0450 - accuracy: 0.1910 - val_loss: 2.0273 - val_accuracy: 0.2040\n",
      "Epoch 11/50\n",
      "2188/2188 [==============================] - 9s 4ms/step - loss: 2.0433 - accuracy: 0.1930 - val_loss: 2.0264 - val_accuracy: 0.2041\n",
      "val. accuracy: 0.204\n",
      "params: {}\n",
      "Epoch 1/50\n",
      "2188/2188 [==============================] - 9s 4ms/step - loss: 2.1451 - accuracy: 0.1661 - val_loss: 2.1357 - val_accuracy: 0.1627\n",
      "Epoch 2/50\n",
      "2188/2188 [==============================] - 8s 4ms/step - loss: 2.0773 - accuracy: 0.1739 - val_loss: 2.0540 - val_accuracy: 0.1611\n",
      "Epoch 3/50\n",
      "2188/2188 [==============================] - 8s 4ms/step - loss: 2.0654 - accuracy: 0.1850 - val_loss: 2.0940 - val_accuracy: 0.1769\n",
      "Epoch 4/50\n",
      "2188/2188 [==============================] - 9s 4ms/step - loss: 2.0575 - accuracy: 0.1845 - val_loss: 2.0324 - val_accuracy: 0.1931\n",
      "Epoch 5/50\n",
      "2188/2188 [==============================] - 10s 4ms/step - loss: 2.0498 - accuracy: 0.1930 - val_loss: 2.0390 - val_accuracy: 0.2004\n",
      "Epoch 6/50\n",
      "2188/2188 [==============================] - 9s 4ms/step - loss: 2.0460 - accuracy: 0.1921 - val_loss: 2.0271 - val_accuracy: 0.2029\n",
      "Epoch 7/50\n",
      "2188/2188 [==============================] - 9s 4ms/step - loss: 2.0429 - accuracy: 0.1985 - val_loss: 2.0566 - val_accuracy: 0.1940\n",
      "Epoch 8/50\n",
      "2188/2188 [==============================] - 9s 4ms/step - loss: 2.0400 - accuracy: 0.1959 - val_loss: 2.0760 - val_accuracy: 0.1901\n",
      "val. accuracy: 0.192\n",
      "params: {}\n",
      "Epoch 1/50\n",
      "2188/2188 [==============================] - 9s 4ms/step - loss: 2.1473 - accuracy: 0.1673 - val_loss: 2.0560 - val_accuracy: 0.1945\n",
      "Epoch 2/50\n",
      "2188/2188 [==============================] - 9s 4ms/step - loss: 2.0763 - accuracy: 0.1829 - val_loss: 2.0435 - val_accuracy: 0.1995\n",
      "Epoch 3/50\n",
      "2188/2188 [==============================] - 9s 4ms/step - loss: 2.0638 - accuracy: 0.1878 - val_loss: 2.0581 - val_accuracy: 0.1991\n",
      "Epoch 4/50\n",
      "2188/2188 [==============================] - 9s 4ms/step - loss: 2.0566 - accuracy: 0.1895 - val_loss: 2.0325 - val_accuracy: 0.2049\n",
      "Epoch 5/50\n",
      "2188/2188 [==============================] - 8s 4ms/step - loss: 2.0504 - accuracy: 0.1913 - val_loss: 2.0966 - val_accuracy: 0.1896\n",
      "Epoch 6/50\n",
      "2188/2188 [==============================] - 9s 4ms/step - loss: 2.0471 - accuracy: 0.1931 - val_loss: 2.0499 - val_accuracy: 0.2059\n",
      "val. accuracy: 0.198\n",
      "params: {}\n",
      "Epoch 1/50\n",
      "2188/2188 [==============================] - 10s 4ms/step - loss: 2.1530 - accuracy: 0.1773 - val_loss: 2.1487 - val_accuracy: 0.1713\n",
      "Epoch 2/50\n",
      "2188/2188 [==============================] - 9s 4ms/step - loss: 2.0520 - accuracy: 0.2054 - val_loss: 2.0588 - val_accuracy: 0.2041\n",
      "Epoch 3/50\n",
      "2188/2188 [==============================] - 9s 4ms/step - loss: 2.0324 - accuracy: 0.2121 - val_loss: 2.0213 - val_accuracy: 0.2155\n",
      "Epoch 4/50\n",
      "2188/2188 [==============================] - 9s 4ms/step - loss: 2.0223 - accuracy: 0.2221 - val_loss: 1.9958 - val_accuracy: 0.2220\n",
      "Epoch 5/50\n",
      "2188/2188 [==============================] - 8s 4ms/step - loss: 2.0134 - accuracy: 0.2253 - val_loss: 1.9876 - val_accuracy: 0.2267\n",
      "Epoch 6/50\n",
      "2188/2188 [==============================] - 9s 4ms/step - loss: 2.0093 - accuracy: 0.2261 - val_loss: 1.9844 - val_accuracy: 0.2285\n",
      "Epoch 7/50\n",
      "2188/2188 [==============================] - 9s 4ms/step - loss: 2.0057 - accuracy: 0.2361 - val_loss: 1.9961 - val_accuracy: 0.2311\n",
      "Epoch 8/50\n",
      "2188/2188 [==============================] - 9s 4ms/step - loss: 2.0028 - accuracy: 0.2306 - val_loss: 2.0540 - val_accuracy: 0.2111\n",
      "val. accuracy: 0.221\n"
     ]
    }
   ],
   "source": [
    "for _ in range(4):\n",
    "    params_list, acc_list = grid_search({}, verbose=1)\n",
    "    print(f\"val. accuracy: {acc_list[0]:.3f}\")"
   ]
  },
  {
   "cell_type": "markdown",
   "metadata": {
    "id": "ZX9nBEfuwD2z"
   },
   "source": [
    "Notice that the number of training epochs is related to the reported validation accuracy.  Could it be that our patience value for early stopping is too small?\n",
    "\n",
    "The message is that you have to be careful about the changing hyperparameter values based on a single test."
   ]
  },
  {
   "cell_type": "markdown",
   "metadata": {
    "id": "E8PT0W09TJlF"
   },
   "source": [
    "### A function to perform random search\n",
    "\n",
    "The problem with grid search is that the number of possible hyperparameter combinations grows exponentially with the number of hyperparameters.\n",
    "\n",
    "There's lots of active research on better ways to perform hyperparameter tuning.  A simple alternative to grid search is random search, in which you just try random hyperparameter settings and hope to get lucky."
   ]
  },
  {
   "cell_type": "code",
   "execution_count": null,
   "metadata": {
    "id": "03AvP5YtmjoD"
   },
   "outputs": [],
   "source": [
    "def random_search(param_grid, num_tests=5, random_state=None, verbose=1):\n",
    "    \"\"\" Randomly (without replacement) evaluate parameter combinations of param_grid.\n",
    "    \n",
    "    args:\n",
    "        param_grid  a ParameterGrid\n",
    "        num_tests   maximum number of parameter combinations to try.  If there\n",
    "                    are fewer than num_tests combinations in param_grid, use only\n",
    "                    the number of combinations available\n",
    "        random_state\n",
    "    \"\"\"\n",
    "\n",
    "    if random_state is not None:\n",
    "        np.random.seed(random_state)\n",
    "    \n",
    "    # create a list of unique parameter combinations\n",
    "    param_combs = list(ParameterGrid(param_grid))\n",
    "    if len(param_combs) < num_tests:\n",
    "        num_tests = len(param_combs)\n",
    "    random_combs = np.random.choice(param_combs, size=num_tests, replace=False)\n",
    "    \n",
    "    # evaluate each of the combinations\n",
    "    params_list = []\n",
    "    acc_list = []\n",
    "    for params in random_combs:\n",
    "        print(f\"params: {params}\")\n",
    "        pars, acc, history = evaluate_params(params, verbose=verbose)\n",
    "\n",
    "        params_list.append(pars)\n",
    "        acc_list.append(acc)\n",
    "\n",
    "    return params_list, acc_list"
   ]
  },
  {
   "cell_type": "markdown",
   "metadata": {
    "id": "b13XtbleuR0P"
   },
   "source": [
    "**A random search example**\n",
    "\n",
    "Look at the hyperparameter settings that were randomly selected."
   ]
  },
  {
   "cell_type": "code",
   "execution_count": null,
   "metadata": {
    "colab": {
     "base_uri": "https://localhost:8080/"
    },
    "executionInfo": {
     "elapsed": 150103,
     "status": "ok",
     "timestamp": 1665171698762,
     "user": {
      "displayName": "Glenn",
      "userId": "10553525024667050874"
     },
     "user_tz": 420
    },
    "id": "WuuCOWJNn-Ds",
    "outputId": "4f34d8f6-637b-4ad0-ae38-04104f4ddaa7"
   },
   "outputs": [
    {
     "name": "stdout",
     "output_type": "stream",
     "text": [
      "params: {'act_fun': 'elu', 'layer_sizes': [20]}\n",
      "Epoch 1/50\n",
      "2188/2188 [==============================] - 10s 4ms/step - loss: 2.0432 - accuracy: 0.2631 - val_loss: 1.8734 - val_accuracy: 0.3196\n",
      "Epoch 2/50\n",
      "2188/2188 [==============================] - 9s 4ms/step - loss: 1.8752 - accuracy: 0.3313 - val_loss: 1.9386 - val_accuracy: 0.3009\n",
      "Epoch 3/50\n",
      "2188/2188 [==============================] - 9s 4ms/step - loss: 1.8007 - accuracy: 0.3610 - val_loss: 2.0605 - val_accuracy: 0.2979\n",
      "params: {'act_fun': 'elu', 'layer_sizes': [10, 10]}\n",
      "Epoch 1/50\n",
      "2188/2188 [==============================] - 10s 4ms/step - loss: 2.0902 - accuracy: 0.2373 - val_loss: 1.9649 - val_accuracy: 0.2845\n",
      "Epoch 2/50\n",
      "2188/2188 [==============================] - 10s 4ms/step - loss: 1.9304 - accuracy: 0.3054 - val_loss: 1.8588 - val_accuracy: 0.3284\n",
      "Epoch 3/50\n",
      "2188/2188 [==============================] - 9s 4ms/step - loss: 1.8583 - accuracy: 0.3315 - val_loss: 1.9025 - val_accuracy: 0.3167\n",
      "Epoch 4/50\n",
      "2188/2188 [==============================] - 8s 4ms/step - loss: 1.8209 - accuracy: 0.3501 - val_loss: 1.9487 - val_accuracy: 0.2983\n",
      "params: {'act_fun': 'relu', 'layer_sizes': [10, 10]}\n",
      "Epoch 1/50\n",
      "2188/2188 [==============================] - 8s 4ms/step - loss: 2.3034 - accuracy: 0.1007 - val_loss: 2.3030 - val_accuracy: 0.0975\n",
      "Epoch 2/50\n",
      "2188/2188 [==============================] - 9s 4ms/step - loss: 2.3028 - accuracy: 0.1017 - val_loss: 2.3029 - val_accuracy: 0.0975\n",
      "Epoch 3/50\n",
      "2188/2188 [==============================] - 9s 4ms/step - loss: 2.3029 - accuracy: 0.0994 - val_loss: 2.3028 - val_accuracy: 0.1000\n",
      "Epoch 4/50\n",
      "2188/2188 [==============================] - 10s 4ms/step - loss: 2.3027 - accuracy: 0.1005 - val_loss: 2.3027 - val_accuracy: 0.0965\n",
      "Epoch 5/50\n",
      "2188/2188 [==============================] - 10s 5ms/step - loss: 2.3027 - accuracy: 0.1011 - val_loss: 2.3032 - val_accuracy: 0.0975\n",
      "Epoch 6/50\n",
      "2188/2188 [==============================] - 9s 4ms/step - loss: 2.3027 - accuracy: 0.1000 - val_loss: 2.3030 - val_accuracy: 0.0975\n"
     ]
    }
   ],
   "source": [
    "param_grid = {'act_fun': ['relu', 'elu'], 'layer_sizes': [[20], [10,10]]}\n",
    "results = random_search(param_grid, num_tests=3, random_state=0)"
   ]
  },
  {
   "cell_type": "markdown",
   "metadata": {
    "id": "iU2ciHUNuKvL"
   },
   "source": [
    "### Batch normalization "
   ]
  },
  {
   "cell_type": "markdown",
   "metadata": {
    "id": "3fgKK2J_uPQb"
   },
   "source": [
    "The most commonly-recommended way to apply batch normalization is between the summation part of a neuron and the activation function.  See Listings 9.4 and 9.5 in the Chollet text.\n",
    "\n",
    "Also, in a feedforward network, you would apply batch normalization in one or more hidden layers, not the output layer."
   ]
  },
  {
   "cell_type": "markdown",
   "metadata": {
    "id": "hJ9ztlpcxR2T"
   },
   "source": [
    "#### **Problem 3**.  Make modifications to support batch normalization in the hidden layers of your model.  The new hyperparameter should be named 'batch_norm' and should take value True or False.  Use False as the default."
   ]
  },
  {
   "cell_type": "code",
   "execution_count": null,
   "metadata": {
    "id": "IGjf5B9OyU8t"
   },
   "outputs": [],
   "source": [
    "# update get_model\n",
    "def get_model(act_fun=\"relu\", layer_sizes=[10], batch_norm=False):\n",
    "    model = models.Sequential()\n",
    "\n",
    "    # YOUR CODE HERE      \n",
    "    \n",
    "    return model"
   ]
  },
  {
   "cell_type": "code",
   "execution_count": null,
   "metadata": {
    "id": "PC0gpmhZx2hc"
   },
   "outputs": [],
   "source": [
    "# update default_params\n",
    "default_params = {\n",
    "    'act_fun': 'relu',\n",
    "    'layer_sizes': [20, 20],\n",
    "    'optimizer': 'rmsprop',\n",
    "    'batch_size': 8\n",
    "\n",
    "    # YOUR CODE HERE\n",
    "}"
   ]
  },
  {
   "cell_type": "code",
   "execution_count": null,
   "metadata": {
    "id": "KgT7J694yL-E"
   },
   "outputs": [],
   "source": [
    "# update evaluate_params\n",
    "def evaluate_params(params, verbose=1):\n",
    "    \"\"\" Return validation accuracy for a model built and trained using the given parameters.\n",
    "    args:\n",
    "        params: a Python dictionary\n",
    "    \"\"\"\n",
    "\n",
    "    # default parameters are used if not supplied\n",
    "    pars = default_params.copy()\n",
    "    pars.update(params)\n",
    "\n",
    "    act_fun = pars['act_fun']\n",
    "    layer_sizes = pars['layer_sizes']\n",
    "    optimizer = pars['optimizer']\n",
    "    batch_size = pars['batch_size']\n",
    "\n",
    "    # YOUR CODE HERE\n",
    "\n",
    "    early_stopping = callbacks.EarlyStopping(monitor='val_loss', patience=2)   \n",
    "\n",
    "    model = get_model(act_fun=act_fun, layer_sizes=layer_sizes, batch_norm=batch_norm)\n",
    "    model.compile(optimizer=optimizer,\n",
    "              loss=\"sparse_categorical_crossentropy\",\n",
    "              metrics=[\"accuracy\"])\n",
    "    \n",
    "    history = model.fit(X_train, y_train, epochs=50, callbacks=[early_stopping], batch_size=batch_size, \n",
    "                        validation_split=0.3, verbose=verbose)\n",
    "    mean_acc = np.mean(history.history['val_accuracy'][-2:])   \n",
    "\n",
    "    return pars, mean_acc, history"
   ]
  },
  {
   "cell_type": "markdown",
   "metadata": {
    "id": "ps48-k-61Mxj"
   },
   "source": [
    "**Test batch normalization**"
   ]
  },
  {
   "cell_type": "code",
   "execution_count": null,
   "metadata": {
    "colab": {
     "base_uri": "https://localhost:8080/"
    },
    "executionInfo": {
     "elapsed": 179980,
     "status": "ok",
     "timestamp": 1665171878717,
     "user": {
      "displayName": "Glenn",
      "userId": "10553525024667050874"
     },
     "user_tz": 420
    },
    "id": "BPKvWkm5yQ0U",
    "outputId": "43a2000e-cb75-4d3e-9124-b91f89172c58"
   },
   "outputs": [
    {
     "name": "stdout",
     "output_type": "stream",
     "text": [
      "params: {'batch_norm': True}\n",
      "Epoch 1/50\n",
      "2188/2188 [==============================] - 13s 6ms/step - loss: 1.9791 - accuracy: 0.2878 - val_loss: 2.1722 - val_accuracy: 0.2693\n",
      "Epoch 2/50\n",
      "2188/2188 [==============================] - 11s 5ms/step - loss: 1.8539 - accuracy: 0.3427 - val_loss: 1.8548 - val_accuracy: 0.3347\n",
      "Epoch 3/50\n",
      "2188/2188 [==============================] - 11s 5ms/step - loss: 1.8150 - accuracy: 0.3558 - val_loss: 1.7408 - val_accuracy: 0.3765\n",
      "Epoch 4/50\n",
      "2188/2188 [==============================] - 11s 5ms/step - loss: 1.7766 - accuracy: 0.3713 - val_loss: 1.8331 - val_accuracy: 0.3607\n",
      "Epoch 5/50\n",
      "2188/2188 [==============================] - 11s 5ms/step - loss: 1.7626 - accuracy: 0.3726 - val_loss: 1.7715 - val_accuracy: 0.3693\n",
      "params: {'batch_norm': False}\n",
      "Epoch 1/50\n",
      "2188/2188 [==============================] - 10s 4ms/step - loss: 2.2105 - accuracy: 0.1544 - val_loss: 2.1522 - val_accuracy: 0.1617\n",
      "Epoch 2/50\n",
      "2188/2188 [==============================] - 9s 4ms/step - loss: 2.1330 - accuracy: 0.1675 - val_loss: 2.0979 - val_accuracy: 0.1808\n",
      "Epoch 3/50\n",
      "2188/2188 [==============================] - 9s 4ms/step - loss: 2.1071 - accuracy: 0.1707 - val_loss: 2.1029 - val_accuracy: 0.1633\n",
      "Epoch 4/50\n",
      "2188/2188 [==============================] - 9s 4ms/step - loss: 2.0972 - accuracy: 0.1754 - val_loss: 2.0832 - val_accuracy: 0.1653\n",
      "Epoch 5/50\n",
      "2188/2188 [==============================] - 9s 4ms/step - loss: 2.0884 - accuracy: 0.1762 - val_loss: 2.0699 - val_accuracy: 0.1772\n",
      "Epoch 6/50\n",
      "2188/2188 [==============================] - 9s 4ms/step - loss: 2.0833 - accuracy: 0.1760 - val_loss: 2.0664 - val_accuracy: 0.1691\n",
      "Epoch 7/50\n",
      "2188/2188 [==============================] - 9s 4ms/step - loss: 2.0800 - accuracy: 0.1771 - val_loss: 2.0621 - val_accuracy: 0.1779\n",
      "Epoch 8/50\n",
      "2188/2188 [==============================] - 9s 4ms/step - loss: 2.0757 - accuracy: 0.1805 - val_loss: 2.1066 - val_accuracy: 0.1687\n",
      "Epoch 9/50\n",
      "2188/2188 [==============================] - 8s 4ms/step - loss: 2.0739 - accuracy: 0.1808 - val_loss: 2.0620 - val_accuracy: 0.1824\n",
      "Epoch 10/50\n",
      "2188/2188 [==============================] - 8s 4ms/step - loss: 2.0723 - accuracy: 0.1807 - val_loss: 2.0626 - val_accuracy: 0.1801\n",
      "Epoch 11/50\n",
      "2188/2188 [==============================] - 9s 4ms/step - loss: 2.0701 - accuracy: 0.1756 - val_loss: 2.0671 - val_accuracy: 0.1788\n"
     ]
    }
   ],
   "source": [
    "param_grid = {'batch_norm': [True, False]}\n",
    "results = grid_search(param_grid)"
   ]
  },
  {
   "cell_type": "markdown",
   "metadata": {
    "id": "GdhAo1cK2MyU"
   },
   "source": [
    "#### **Problem 4**.  Try to tune the model to get a high validation accuracy value.\n",
    "\n",
    "Use grid search and/or random search.\n",
    "\n",
    "Don't add additional hyperparameters, but feel free to add additional possible values for existing hyperparameters.\n",
    "\n",
    "Do not modify the code above, but you can redefine existing code as in the last problem.\n",
    "\n",
    "You will probably want to report on your testing with one or more tables showing hyperparameter values and accuracies.  See the scores_to_dataframe() example above."
   ]
  },
  {
   "cell_type": "code",
   "execution_count": null,
   "metadata": {
    "id": "MA8asMqv5btk"
   },
   "outputs": [],
   "source": [
    "# YOUR CODE HERE\n",
    "\n",
    "# Feel free to add additional code and markdown cells\n"
   ]
  },
  {
   "cell_type": "markdown",
   "metadata": {
    "id": "4iWK9-MS6EyT"
   },
   "source": [
    "Write your summary here.\n",
    "\n",
    "Write a summary of your findings for this problem."
   ]
  },
  {
   "cell_type": "markdown",
   "metadata": {
    "id": "dH3HA2rY3VBE"
   },
   "source": [
    "#### **Problem 5**.  Add an additional hyperparameter, and continue tuning.\n",
    "\n",
    "For example, you could add a new hyperparameter related to optimizer learning rate.\n",
    "\n",
    "Your goal is to achieve a high validation accuracy value.\n",
    "\n",
    "Note that a hyperparameter could be used in either get_model() or in evaluate_params()."
   ]
  },
  {
   "cell_type": "code",
   "execution_count": null,
   "metadata": {
    "id": "jDJtNhVm6iP9"
   },
   "outputs": [],
   "source": [
    "# YOUR CODE HERE\n",
    "\n",
    "# Feel free to add additional code and markdown cells\n"
   ]
  },
  {
   "cell_type": "markdown",
   "metadata": {
    "id": "fB0Yp5vA6kis"
   },
   "source": [
    "Write your summary here.\n",
    "\n",
    "Write a summary of your findings for this problem."
   ]
  }
 ],
 "metadata": {
  "accelerator": "GPU",
  "colab": {
   "collapsed_sections": [],
   "provenance": []
  },
  "kernelspec": {
   "display_name": "Python 3 (ipykernel)",
   "language": "python",
   "name": "python3"
  },
  "language_info": {
   "codemirror_mode": {
    "name": "ipython",
    "version": 3
   },
   "file_extension": ".py",
   "mimetype": "text/x-python",
   "name": "python",
   "nbconvert_exporter": "python",
   "pygments_lexer": "ipython3",
   "version": "3.11.4"
  }
 },
 "nbformat": 4,
 "nbformat_minor": 1
}
