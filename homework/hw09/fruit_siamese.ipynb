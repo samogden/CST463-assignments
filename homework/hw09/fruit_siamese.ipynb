{
 "cells": [
  {
   "cell_type": "markdown",
   "id": "kjh9naG9-yTY",
   "metadata": {
    "id": "kjh9naG9-yTY"
   },
   "source": [
    "# A Siamese network for fruit classification"
   ]
  },
  {
   "cell_type": "markdown",
   "id": "p4bM3KRo-4lG",
   "metadata": {
    "id": "p4bM3KRo-4lG"
   },
   "source": [
    "## Instructions - please read carefully\n",
    "\n",
    "Do not share this code or your solution with others.  For example, don't make it available on the web.  Also, don't share the data set I prepared.\n",
    "\n",
    "In the code below, a Siamese network is built and used to predict the type of a fruit from its image.  \n",
    "With a Siamese network we're able to do this well even for fruit not seen in training!\n",
    "\n",
    "1. Review the Siamese network lecture and read and understand the code below (this step is important).\n",
    "\n",
    "2. Insert your name below the title.\n",
    "\n",
    "3. Download the data file I prepared and unzip it:  https://drive.google.com/file/d/1fVZuFdlcx4K2vqLDYkwcFbrdcHIeVfrS/view?usp=sharing\n",
    "\n",
    "4. Add your own code or comments below where you see the problem prompts.\n",
    "\n",
    "6. Do not add any imports except as needed to read the data file in Colab.  See the instructor if you'd like an exception.\n",
    "\n",
    "7. Run your code from top to bottom before submitting."
   ]
  },
  {
   "cell_type": "code",
   "execution_count": null,
   "id": "2fefc385",
   "metadata": {
    "id": "2fefc385"
   },
   "outputs": [],
   "source": [
    "from pathlib import Path\n",
    "import shutil\n",
    "import numpy as np\n",
    "import pandas as pd\n",
    "import matplotlib.pyplot as plt\n",
    "import seaborn as sns\n",
    "\n",
    "from sklearn.neighbors import KNeighborsClassifier\n",
    "from sklearn.preprocessing import StandardScaler\n",
    "from sklearn.model_selection import train_test_split, ParameterGrid\n",
    "from sklearn.manifold import TSNE\n",
    "\n",
    "import tensorflow as tf\n",
    "from tensorflow.keras import models, layers, Input, Model\n",
    "from tensorflow.keras.layers import Lambda\n",
    "from tensorflow.keras.callbacks import EarlyStopping\n",
    "import tensorflow.keras.backend as K\n",
    "from tensorflow.keras.preprocessing.image import load_img\n",
    "\n",
    "from IPython.core.display import display, HTML"
   ]
  },
  {
   "cell_type": "code",
   "execution_count": null,
   "id": "58584454",
   "metadata": {
    "id": "58584454"
   },
   "outputs": [],
   "source": [
    "# display options\n",
    "pd.set_option('display.max_columns', 600)\n",
    "pd.options.display.width = 120\n",
    "pd.options.display.max_colwidth = 50\n",
    "display(HTML(\"<style>.container { width:100% !important; }</style>\"))"
   ]
  },
  {
   "cell_type": "code",
   "execution_count": null,
   "id": "DyNLhFSVxRlW",
   "metadata": {
    "id": "DyNLhFSVxRlW"
   },
   "outputs": [],
   "source": [
    "def plot_metric(history, metric='loss'):\n",
    "    \"\"\" Plot training and test values for a metric. \"\"\"\n",
    "\n",
    "    val_metric = 'val_'+metric\n",
    "    plt.plot(history.history[metric])\n",
    "    plt.plot(history.history[val_metric])\n",
    "    plt.title('model '+metric)\n",
    "    plt.ylabel(metric)\n",
    "    plt.xlabel('epoch')\n",
    "    plt.legend(['train', 'test'])\n",
    "    plt.show();"
   ]
  },
  {
   "cell_type": "markdown",
   "id": "UZoJCxr2AT6Q",
   "metadata": {
    "id": "UZoJCxr2AT6Q"
   },
   "source": [
    "This will help with replicability, but does not control all aspects of randomness in the code."
   ]
  },
  {
   "cell_type": "code",
   "execution_count": null,
   "id": "6XQbXT1gAQol",
   "metadata": {
    "id": "6XQbXT1gAQol"
   },
   "outputs": [],
   "source": [
    "np.random.seed()"
   ]
  },
  {
   "cell_type": "markdown",
   "id": "e05053e4",
   "metadata": {
    "id": "e05053e4"
   },
   "source": [
    "### Read the small fruit data set"
   ]
  },
  {
   "cell_type": "markdown",
   "id": "ea65f9f2",
   "metadata": {
    "id": "ea65f9f2"
   },
   "source": [
    "#### Problem 1.  Modify the following cell so that data can be read from `data_dir`"
   ]
  },
  {
   "cell_type": "code",
   "execution_count": null,
   "id": "482250f4",
   "metadata": {
    "id": "482250f4"
   },
   "outputs": [],
   "source": [
    "# if you're running TensorFlow locally, you'll want to use something like this:\n",
    "# data_dir = Path(\"C:/Users/Glenn/Google Drive/CSUMB/courses/CST463-adv-machine-learning/datasets/fruit-360/fruit-360-small\")\n",
    "\n",
    "# if you're using Colab, you'll want to use something like this:\n",
    "# from google.colab import drive\n",
    "# drive.mount('/content/drive')\n",
    "# data_dir=Path('/content/drive/MyDrive/fruit-360-small/fruit-360-small')"
   ]
  },
  {
   "cell_type": "code",
   "execution_count": null,
   "id": "RQ7kVtboXqpk",
   "metadata": {
    "id": "RQ7kVtboXqpk"
   },
   "outputs": [],
   "source": [
    "img_shape = (100, 100, 3)\n",
    "\n",
    "def read_subset(subset_name, data_dir):\n",
    "    subset_dir = data_dir / subset_name\n",
    "    pics = subset_dir.glob('*.jpg')\n",
    "    num_pics = len(list(pics))\n",
    "    print(num_pics)\n",
    "    X = np.zeros((num_pics, img_shape[0], img_shape[1], img_shape[2]))\n",
    "    y = np.empty(num_pics, dtype='object')\n",
    "    for i, pic in enumerate(subset_dir.glob('*.jpg')):\n",
    "        fruit_name = pic.name.split('-')[0]\n",
    "        y[i] = fruit_name\n",
    "        img = load_img(pic)\n",
    "        X[i] = img\n",
    "    return X, y"
   ]
  },
  {
   "cell_type": "code",
   "execution_count": null,
   "id": "167822ac",
   "metadata": {
    "id": "167822ac"
   },
   "outputs": [],
   "source": [
    "X_train, y_train = read_subset('train', data_dir)\n",
    "X_test, y_test  = read_subset('test', data_dir)"
   ]
  },
  {
   "cell_type": "code",
   "execution_count": null,
   "id": "VAIQYRHJor41",
   "metadata": {
    "id": "VAIQYRHJor41"
   },
   "outputs": [],
   "source": [
    "# sanity check\n",
    "print(X_train.shape)\n",
    "print(X_test.shape)\n",
    "print(y_train.shape)\n",
    "print(y_test.shape)"
   ]
  },
  {
   "cell_type": "code",
   "execution_count": null,
   "id": "9a4ec8ee",
   "metadata": {
    "id": "9a4ec8ee"
   },
   "outputs": [],
   "source": [
    "# sanity check\n",
    "print(y_train[:3])"
   ]
  },
  {
   "cell_type": "markdown",
   "id": "KblcmCnEw64O",
   "metadata": {
    "id": "KblcmCnEw64O"
   },
   "source": [
    "### Preprocess the data"
   ]
  },
  {
   "cell_type": "code",
   "execution_count": null,
   "id": "aDkzEKMbqEzX",
   "metadata": {
    "id": "aDkzEKMbqEzX"
   },
   "outputs": [],
   "source": [
    "# from integers in [0,255] to floats in [0,1]\n",
    "X_train = X_train.astype('float32') / 255\n",
    "X_test  = X_test.astype('float32') / 255"
   ]
  },
  {
   "cell_type": "code",
   "execution_count": null,
   "id": "97c36e39",
   "metadata": {
    "id": "97c36e39"
   },
   "outputs": [],
   "source": [
    "X_train.shape"
   ]
  },
  {
   "cell_type": "code",
   "execution_count": null,
   "id": "733f61ac",
   "metadata": {
    "id": "733f61ac"
   },
   "outputs": [],
   "source": [
    "plt.imshow(X_train[0]);"
   ]
  },
  {
   "cell_type": "code",
   "execution_count": null,
   "id": "cad5757c",
   "metadata": {
    "id": "cad5757c"
   },
   "outputs": [],
   "source": [
    "plt.imshow(X_train[1000]);"
   ]
  },
  {
   "cell_type": "markdown",
   "id": "41ff7370",
   "metadata": {
    "id": "41ff7370"
   },
   "source": [
    "### Build a batch generator for a Siamese network\n",
    "\n",
    "A training example for this Siamese network is two photos, plus a 0/1 label indicating whether the photos are of the same kind of fruit.\n",
    "\n",
    "A label value of 0 means the fruit type is the same.\n",
    "\n",
    "For flexibility, we use a batch generator instead of creating a fixed training set."
   ]
  },
  {
   "cell_type": "code",
   "execution_count": null,
   "id": "5fc53ada",
   "metadata": {
    "id": "5fc53ada"
   },
   "outputs": [],
   "source": [
    "def make_batch(X, y, batch_size):\n",
    "    \"\"\" Return X1, X2, which are 2D Numpy arrays containing rows from X.\n",
    "\n",
    "    The first half of the rows in X1 and X2 will be random rows of X associated with\n",
    "    a randomly-selected y value.  The second half of the rows in X1 and X2 will\n",
    "    be random rows of X.  Also return 'matching', a 1D array such that\n",
    "    matching[i] is 0 if X1[i] and X2[i] have the same y value, else is 1.\n",
    "    \"\"\"\n",
    "\n",
    "    n = batch_size // 2\n",
    "\n",
    "    # pick a random class in y, call it class a\n",
    "    y_a = np.random.choice(y)\n",
    "\n",
    "    # index values in X\n",
    "    X_indexes = np.arange(X.shape[0])\n",
    "\n",
    "    # pick n*2 random rows of X associated with class a\n",
    "    # pick n*2 random rows of X\n",
    "    arows = np.random.choice(X_indexes[y == y_a], size=n*2, replace=True)\n",
    "    brows = np.random.choice(X_indexes,           size=n*2, replace=True)\n",
    "\n",
    "    # create the batch\n",
    "    X1 = X[np.concatenate([arows[:n],\n",
    "                           brows[:n]])]\n",
    "    X2 = X[np.concatenate([arows[n:],\n",
    "                           brows[n:]])]\n",
    "    matching = np.concatenate([np.full(n, 0), (y[brows[:n]] != y[brows[n:]]).astype(int)])\n",
    "\n",
    "    return (X1, X2), matching\n",
    "\n",
    "\n",
    "def batch_generator(X, y, batch_size=32):\n",
    "    while True:\n",
    "        yield make_batch(X, y, batch_size)"
   ]
  },
  {
   "cell_type": "code",
   "execution_count": null,
   "id": "14a3b24d",
   "metadata": {
    "id": "14a3b24d"
   },
   "outputs": [],
   "source": [
    "# basic test of make_batch()\n",
    "(X1, X2), matching = make_batch(X_train, y_train, 32)\n",
    "print(X1.shape)\n",
    "print(X2.shape)\n",
    "print(matching.shape)\n",
    "print(matching.mean())"
   ]
  },
  {
   "cell_type": "markdown",
   "id": "18349ff2",
   "metadata": {
    "id": "18349ff2"
   },
   "source": [
    "### Create the embedding model"
   ]
  },
  {
   "cell_type": "markdown",
   "id": "1e607641",
   "metadata": {
    "id": "1e607641"
   },
   "source": [
    "#### Problem 2.  Define the convolutional embedding model.\n",
    "\n",
    "The embedding model is a convolutional model that inputs a photo and outputs an \"embedding\" (also called an \"encoding\") of the photo.  \n",
    "\n",
    "You can think of the embedding model as doing dimensionality reduction, but it is doing it in a way that photos of the same kind of fruit are clustered together in the lower-dimensional space.\n",
    "\n",
    "Note that you have to define the embedding size (you might want to try a number between 16 and 128) and the convolutional model (you might want to start with a basic model containing only Conv2D and MaxPooling2D layers).\n",
    "\n",
    "<br>![](https://drive.google.com/uc?id=1ggncdb7v-z6PnurAjPTI8-4l4uOwOFBd)"
   ]
  },
  {
   "cell_type": "code",
   "execution_count": null,
   "id": "83e84a03",
   "metadata": {
    "id": "83e84a03"
   },
   "outputs": [],
   "source": [
    "K.clear_session()  # delete old models\n",
    "act_fun = 'relu'\n",
    "embedding_size = None      # DEFINE THE EMBEDDING SIZE\n",
    "\n",
    "pool_size = 2\n",
    "conv_size = 3\n",
    "\n",
    "inputs = Input(img_shape)\n",
    "\n",
    "# YOUR CONVOLUTIONAL LAYERS GO HERE\n",
    "\n",
    "x = layers.Flatten()(x)\n",
    "encoded = layers.Dense(embedding_size, activation=act_fun)(x)\n",
    "embedding_model = Model(inputs, encoded)"
   ]
  },
  {
   "cell_type": "code",
   "execution_count": null,
   "id": "ec5547dc",
   "metadata": {
    "id": "ec5547dc"
   },
   "outputs": [],
   "source": [
    "embedding_model.summary()"
   ]
  },
  {
   "cell_type": "markdown",
   "id": "mUaP48QMxAr-",
   "metadata": {
    "id": "mUaP48QMxAr-"
   },
   "source": [
    "### Create the Siamese model\n",
    "\n",
    "The Siamese network takes two photos as input, creates embeddings for them, computes the distances between the embeddings, then normalizes the distance using a sigmoid function so that the distance is between 0 and 1.  The normalized distance value is the output.\n",
    "\n",
    "The goal of training is for the distance to be small if the input images are of the same fruit type, and for the distance to be large if the input images are of different fruit types.\n",
    "\n",
    "<br>![](https://drive.google.com/uc?id=1ghBOScyj342jBMZFj0RkZdEaJzZeebAH)"
   ]
  },
  {
   "cell_type": "markdown",
   "id": "564715b0",
   "metadata": {
    "id": "564715b0"
   },
   "source": [
    "#### Distance functions\n",
    "\n",
    "Lots of different distance functions can be used in a Siamese network.  Here are two."
   ]
  },
  {
   "cell_type": "code",
   "execution_count": null,
   "id": "95f1d1eb",
   "metadata": {
    "id": "95f1d1eb"
   },
   "outputs": [],
   "source": [
    "def euclidean_distance(vects):\n",
    "    x, y = vects\n",
    "    sum_square = K.sum(K.square(x - y), axis=1, keepdims=True)\n",
    "    return K.sqrt(K.maximum(sum_square, K.epsilon()))\n",
    "\n",
    "# from Andrew Ng's video:\n",
    "# https://www.youtube.com/watch?v=0NSLgoEtdnw&ab_channel=DeepLearningAI\n",
    "def abs_difference(vects):\n",
    "    x, y = vects\n",
    "    return K.abs(x - y)"
   ]
  },
  {
   "cell_type": "markdown",
   "id": "316c19f3",
   "metadata": {
    "id": "316c19f3"
   },
   "source": [
    "#### Problem 3. Select a distance function  by modifying the following cell."
   ]
  },
  {
   "cell_type": "code",
   "execution_count": null,
   "id": "f51f6ceb",
   "metadata": {
    "id": "f51f6ceb"
   },
   "outputs": [],
   "source": [
    "# dist_fun = euclidean_distance\n",
    "# dist_fun = abs_difference"
   ]
  },
  {
   "cell_type": "markdown",
   "id": "195c5370",
   "metadata": {
    "id": "195c5370"
   },
   "source": [
    "#### Siamese network"
   ]
  },
  {
   "cell_type": "code",
   "execution_count": null,
   "id": "YLyUejIoYDY8",
   "metadata": {
    "id": "YLyUejIoYDY8"
   },
   "outputs": [],
   "source": [
    "# create the two heads\n",
    "input0 = Input(img_shape, name='input0')\n",
    "input1 = Input(img_shape, name='input1')\n",
    "sub0 = embedding_model(input0)\n",
    "sub1 = embedding_model(input1)\n",
    "\n",
    "# compute the distance between the embeddings,\n",
    "# and send to sigmoid function\n",
    "merge_layer = Lambda(dist_fun)([sub0, sub1])\n",
    "\n",
    "dense_layer = layers.Dense(1, activation='sigmoid')(merge_layer)\n",
    "\n",
    "model = Model([input0, input1], dense_layer)"
   ]
  },
  {
   "cell_type": "code",
   "execution_count": null,
   "id": "t6K5yInu7vrd",
   "metadata": {
    "id": "t6K5yInu7vrd",
    "scrolled": true
   },
   "outputs": [],
   "source": [
    "model.summary()"
   ]
  },
  {
   "cell_type": "markdown",
   "id": "FpoOKUmuxJW-",
   "metadata": {
    "id": "FpoOKUmuxJW-"
   },
   "source": [
    "### Compile and train the Siamese network\n",
    "\n",
    "The output of the Siamese network is a value between 0 and 1, and the target value is 0 or 1.  This is just like in a binary classification problem.\n",
    "\n",
    "We can use binary crossentropy loss as the loss function, but unsupervised contrastive loss is also popular.\n",
    "\n",
    "Unsupervised contrastive loss is not built into Keras, so we need to define a custom loss function."
   ]
  },
  {
   "cell_type": "markdown",
   "id": "375a674d",
   "metadata": {
    "id": "375a674d"
   },
   "source": [
    "#### Contrastive loss function"
   ]
  },
  {
   "cell_type": "code",
   "execution_count": null,
   "id": "37cd761e",
   "metadata": {
    "id": "37cd761e"
   },
   "outputs": [],
   "source": [
    "# this code from https://keras.io/examples/vision/siamese_contrastive/\n",
    "def closs(margin=1):\n",
    "    \"\"\"Provides 'constrastive_loss' an enclosing scope with variable 'margin'.\n",
    "\n",
    "  Arguments:\n",
    "      margin: Integer, defines the baseline for distance for which pairs\n",
    "              should be classified as dissimilar.\n",
    "\n",
    "  Returns:\n",
    "      'constrastive_loss' function with data ('margin') attached.\n",
    "  \"\"\"\n",
    "\n",
    "    def contrastive_loss(y_true, y_pred):\n",
    "        \"\"\"Calculates the constrastive loss.\n",
    "\n",
    "      Contrastive loss = mean( (1-true_value) * square(prediction) +\n",
    "                              true_value * square( max(margin-prediction, 0) ))\n",
    "\n",
    "      Arguments:\n",
    "          y_true: List of labels, each label is of type float32.\n",
    "          y_pred: List of predictions of same length as of y_true,\n",
    "                  each label is of type float32.\n",
    "\n",
    "      Returns:\n",
    "          A tensor containing constrastive loss as floating point value.\n",
    "      \"\"\"\n",
    "\n",
    "        square_pred = tf.math.square(y_pred)\n",
    "        margin_square = tf.math.square(tf.math.maximum(margin - (y_pred), 0))\n",
    "        y_truef = K.cast(y_true, 'float32')\n",
    "        return tf.math.reduce_mean(\n",
    "            (1 - y_truef) * square_pred + (y_truef) * margin_square\n",
    "        )\n",
    "\n",
    "    return contrastive_loss"
   ]
  },
  {
   "cell_type": "code",
   "execution_count": null,
   "id": "09db440b",
   "metadata": {
    "id": "09db440b"
   },
   "outputs": [],
   "source": [
    "early_stopping = EarlyStopping(patience=5, monitor='val_loss')"
   ]
  },
  {
   "cell_type": "markdown",
   "id": "3e4f2819",
   "metadata": {
    "id": "3e4f2819"
   },
   "source": [
    "#### Problem 4.  Select a loss function by modifying the following cell."
   ]
  },
  {
   "cell_type": "code",
   "execution_count": null,
   "id": "7fa8707e",
   "metadata": {
    "id": "7fa8707e"
   },
   "outputs": [],
   "source": [
    "# loss_fun = 'binary_crossentropy'\n",
    "# loss_fun = closs(margin=1.0)    # contrastive loss"
   ]
  },
  {
   "cell_type": "code",
   "execution_count": null,
   "id": "T_IIeKIprTd9",
   "metadata": {
    "id": "T_IIeKIprTd9"
   },
   "outputs": [],
   "source": [
    "model.compile(optimizer='rmsprop', loss=loss_fun,  metrics=['accuracy'])\n",
    "\n",
    "history = model.fit(batch_generator(X_train, y_train, batch_size=64), steps_per_epoch=200, epochs=50,\n",
    "                    validation_data=batch_generator(X_test, y_test, batch_size=32), validation_steps=75,\n",
    "                   callbacks=[early_stopping])"
   ]
  },
  {
   "cell_type": "code",
   "execution_count": null,
   "id": "nlH1i7gvrXx9",
   "metadata": {
    "id": "nlH1i7gvrXx9",
    "scrolled": true
   },
   "outputs": [],
   "source": [
    "plot_metric(history)"
   ]
  },
  {
   "cell_type": "markdown",
   "id": "84000914",
   "metadata": {
    "id": "84000914"
   },
   "source": [
    "### Plot the embeddings of the fruit images\n",
    "\n",
    "After training the Siamese network, we can use the trained embedding model to map fruit images to their embeddings.\n",
    "\n",
    "The point of using the Siamese network is to obtain an embedding space in which images of the same fruit type are clustered together.\n",
    "\n",
    "Was this clustering successful?  We can't visualize the embedding space directly, but we can use dimensionality reduction to map points in the embedding space to 2 dimensions."
   ]
  },
  {
   "cell_type": "code",
   "execution_count": null,
   "id": "5c4be815",
   "metadata": {
    "id": "5c4be815"
   },
   "outputs": [],
   "source": [
    "def plot_embeddings(embedding_model, X, y, npoints=300):\n",
    "    \"\"\" Plot embeddings in 2D. \"\"\"\n",
    "\n",
    "    # only use a randomly-chosen subset of the images\n",
    "    npoints = min(X.shape[0], npoints)\n",
    "    idx = np.random.choice(X.shape[0], size=npoints, replace=False)\n",
    "\n",
    "    # map the images to points in the embedding space\n",
    "    X_emb = embedding_model.predict(X[idx])\n",
    "\n",
    "    # map the points in the embedding space to 2 dimensions\n",
    "    reduced = TSNE(n_components=2).fit_transform(X_emb)\n",
    "\n",
    "    # plot the points in 2D\n",
    "    plt.figure(figsize=(8,8))\n",
    "    sns.scatterplot(x=reduced[:, 0], y=reduced[:, 1], s=60, hue=y[idx])\n",
    "    plt.legend(bbox_to_anchor=(1.05, 1), borderaxespad=0, prop={'size': 13})"
   ]
  },
  {
   "cell_type": "code",
   "execution_count": null,
   "id": "1dd3fe81",
   "metadata": {
    "id": "1dd3fe81"
   },
   "outputs": [],
   "source": [
    "plot_embeddings(embedding_model, X_test, y_test)"
   ]
  },
  {
   "cell_type": "markdown",
   "id": "10fc99f6",
   "metadata": {
    "id": "10fc99f6"
   },
   "source": [
    "### Compute fruit prediction accuracy\n",
    "\n",
    "Now we can build a fruit classifier.  \n",
    "\n",
    "We can use any kind of classifier to do it:\n",
    "- Map the training examples to points in the embedding space.  Each point has a label giving the fruit type.\n",
    "- Train the classifier using these embeddings.\n",
    "- To classify an image, map it to the embedding space, then make a prediction for that point using the trained classifier.\n",
    "\n",
    "The confusing part about this is that there are two distinct training sets:\n",
    "- One training set to train the Siamese network (training examples are pairs of images)\n",
    "- Another training set to train the classifier (training examples are points in the embedding space)\n",
    "\n",
    "Think about this: the fruit types in the two training sets can be different.  We can train the Siamese network on 20 different kinds of fruits, but then train the classifier on 100 different types of fruits."
   ]
  },
  {
   "cell_type": "markdown",
   "id": "0c0156a1",
   "metadata": {
    "id": "0c0156a1"
   },
   "source": [
    "#### Create training and test data for the fruit classifier.\n",
    "\n",
    "The images in X_train were used to train the Siamese network.\n",
    "\n",
    "We can't use the images in X_train to train the classifier, because we want to use the classifier on fruits never seen by the Siamese network.  This will make it easy to extend the classifier to work with new fruits.  We won't need to re-train the Siamese network.\n",
    "\n",
    "To get training data for the classifier, we will break up X_test into training and test parts."
   ]
  },
  {
   "cell_type": "code",
   "execution_count": null,
   "id": "e6229e68",
   "metadata": {
    "id": "e6229e68"
   },
   "outputs": [],
   "source": [
    "X_train_knn, X_test_knn, y_train_knn, y_test_knn = train_test_split(X_test, y_test, test_size=0.30, random_state=42)"
   ]
  },
  {
   "cell_type": "code",
   "execution_count": null,
   "id": "a97cded2",
   "metadata": {
    "id": "a97cded2"
   },
   "outputs": [],
   "source": [
    "# sanity check\n",
    "print(X_train_knn.shape)\n",
    "print(y_train_knn.shape)\n",
    "print(X_test_knn.shape)\n",
    "print(y_test_knn.shape)"
   ]
  },
  {
   "cell_type": "code",
   "execution_count": null,
   "id": "c7f28906",
   "metadata": {
    "id": "c7f28906"
   },
   "outputs": [],
   "source": [
    "# It would be a little better to do the train/test split in a way that\n",
    "# every fruit was represented with the same number of images in the training set.\n",
    "\n",
    "plt.figure(figsize=(8,4))\n",
    "plt.title('Counts of images in training set by fruit type')\n",
    "pd.Series(y_train_knn).value_counts().plot.bar();"
   ]
  },
  {
   "cell_type": "markdown",
   "id": "24314fce",
   "metadata": {
    "id": "24314fce"
   },
   "source": [
    "#### Problem 5.  Create training and test data for a KNN classifier.   \n",
    "\n",
    "Your code will modify `X_train_knn` and `X_test_knn`.  Don't forget that scaling is normally used with KNN.\n",
    "\n",
    "This problem will require some thinking.  Make sure you have understood the discussion under 'Compute fruit prediction accuracy' above."
   ]
  },
  {
   "cell_type": "code",
   "execution_count": null,
   "id": "5de1cde3",
   "metadata": {
    "id": "5de1cde3"
   },
   "outputs": [],
   "source": [
    "# YOUR CODE HERE"
   ]
  },
  {
   "cell_type": "markdown",
   "id": "0798ab82",
   "metadata": {
    "id": "0798ab82"
   },
   "source": [
    "#### Problem 6. Create and train a KNN classifier.\n",
    "\n",
    "You should use KNeighborsClassifier, and your trained classifier should have variable name 'clf'."
   ]
  },
  {
   "cell_type": "code",
   "execution_count": null,
   "id": "12040861",
   "metadata": {
    "id": "12040861"
   },
   "outputs": [],
   "source": [
    "# YOUR CODE HERE"
   ]
  },
  {
   "cell_type": "markdown",
   "id": "85dc4273",
   "metadata": {
    "id": "85dc4273"
   },
   "source": [
    "#### Compute baseline and test accuracy"
   ]
  },
  {
   "cell_type": "code",
   "execution_count": null,
   "id": "1d7a2307",
   "metadata": {
    "id": "1d7a2307"
   },
   "outputs": [],
   "source": [
    "label_counts = np.unique(y_test_knn, return_counts=True)[1]\n",
    "most_common_label = y_test_knn[label_counts.argmax()]\n",
    "baseline_accuracy = clf.score(X_test_knn, np.full(y_test_knn.size, most_common_label))\n",
    "\n",
    "test_accuracy = clf.score(X_test_knn, y_test_knn)\n",
    "\n",
    "print('baseline accuracy: {:0.2f}'.format(baseline_accuracy))\n",
    "print('test accuracy: {:0.2f}'.format(test_accuracy))"
   ]
  },
  {
   "cell_type": "markdown",
   "id": "9eb0c643",
   "metadata": {
    "id": "9eb0c643"
   },
   "source": [
    "I achieve a test accuracy of around 0.9 without tuning the code."
   ]
  },
  {
   "cell_type": "markdown",
   "id": "bab28f41",
   "metadata": {
    "id": "bab28f41"
   },
   "source": [
    "#### Problem 7.  Tune the system.\n",
    "\n",
    "Try to achieve the best test accuracy you can on fruit prediction.  \n",
    "\n",
    "Here are the things you're allowed to tweak:\n",
    "- The embedding model, including the number and types of layers, the sizes of the layers, and activation functions.  You can also use dropout layers, batch normalization, and L1/L2 regularization.\n",
    "- The optimizer, batch size, number of epochs, steps/epoch, and early stopping parameters.  You can initialize the learning rate and use learning rate scheduling.\n",
    "- The batch generator.\n",
    "\n",
    "You may want to use random or grid search for tuning.\n",
    "\n",
    "Do not add new imports, change X_train, y_train, X_test, y_test, modify the random seed, modify the test/train splits, etc.\n",
    "\n",
    "If in doubt about what you can change, ask the instructor."
   ]
  },
  {
   "cell_type": "markdown",
   "id": "b633df5e",
   "metadata": {
    "id": "b633df5e"
   },
   "source": [
    "### Conclusions\n"
   ]
  },
  {
   "cell_type": "markdown",
   "id": "666a94ad",
   "metadata": {
    "id": "666a94ad"
   },
   "source": [
    "#### Problem 8.  Add conclusions.  Discuss the main things you learned from your work."
   ]
  },
  {
   "cell_type": "markdown",
   "id": "1a53a01f",
   "metadata": {
    "id": "1a53a01f"
   },
   "source": [
    "YOUR TEXT HERE"
   ]
  }
 ],
 "metadata": {
  "colab": {
   "provenance": []
  },
  "kernelspec": {
   "display_name": "Python 3 (ipykernel)",
   "language": "python",
   "name": "python3"
  },
  "language_info": {
   "codemirror_mode": {
    "name": "ipython",
    "version": 3
   },
   "file_extension": ".py",
   "mimetype": "text/x-python",
   "name": "python",
   "nbconvert_exporter": "python",
   "pygments_lexer": "ipython3",
   "version": "3.9.18"
  }
 },
 "nbformat": 4,
 "nbformat_minor": 5
}
