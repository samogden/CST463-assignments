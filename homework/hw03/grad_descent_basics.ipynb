{
 "cells": [
  {
   "cell_type": "markdown",
   "id": "c6c95c04",
   "metadata": {},
   "source": [
    "# Gradient descent basics.\n",
    "\n",
    "Gradient descent is a general-purpose algorithm for solving optimization problem.  We're going to use it a lot this semester.\n",
    "\n",
    "The optimization problem we want to solve is: given a function, what input value will minimize the output of the function?\n",
    "\n",
    "In this notebook we'll look at a single-variable function.  For gradient descent, we'll need to be able to find the derivative of the function at a certain input value.\n",
    "\n",
    "We'll write code to compute the derivative a function using two different methods: the analytical method and the numerical method.\n",
    "\n",
    "Then, we'll use this code to perform gradient descent, and see how the learning rate parameter of gradient descent works.\n",
    "\n",
    "V0.0   author: Glenn Bruns"
   ]
  },
  {
   "cell_type": "markdown",
   "id": "740e7da5",
   "metadata": {},
   "source": [
    "### Instructions:\n",
    "\n",
    "Read through the code, then enter code in the cells below each numbered problem.\n",
    "\n",
    "The instructions are not detailed.  I expect you to think and to use good judgement.\n",
    "\n",
    "Only insert code where you see # YOUR CODE HERE.  \n",
    "\n",
    "Please restart your notebook and run it from top to bottom before submitting."
   ]
  },
  {
   "cell_type": "code",
   "execution_count": null,
   "id": "d5e480fd",
   "metadata": {},
   "outputs": [],
   "source": [
    "import numpy as np\n",
    "import pandas as pd\n",
    "import matplotlib.pyplot as plt\n",
    "import seaborn as sns"
   ]
  },
  {
   "cell_type": "code",
   "execution_count": null,
   "id": "ccdcf795",
   "metadata": {},
   "outputs": [],
   "source": [
    "sns.set()\n",
    "sns.set_context('notebook')\n",
    "sns.set_style('whitegrid')"
   ]
  },
  {
   "cell_type": "markdown",
   "id": "99156f24",
   "metadata": {},
   "source": [
    "### Define and plot a function\n",
    "\n",
    "Function f is our example function.  From the plot below you can see that 5.5 is about the input value that gives the minimum of the function (at least when considering inputs between 0 and 10)."
   ]
  },
  {
   "cell_type": "code",
   "execution_count": null,
   "id": "352a7025",
   "metadata": {},
   "outputs": [],
   "source": [
    "def f(x):\n",
    "    return (x - 5)**2 + 3*np.sin(2*x)"
   ]
  },
  {
   "cell_type": "code",
   "execution_count": null,
   "id": "821f8e4c",
   "metadata": {},
   "outputs": [],
   "source": [
    "xs = np.linspace(0, 10, 100)\n",
    "ys = f(xs)\n",
    "plt.plot(xs, ys);"
   ]
  },
  {
   "cell_type": "markdown",
   "id": "1b4753de",
   "metadata": {},
   "source": [
    "### Problem 1.  Write a function that gives the derivative of function f.\n",
    "\n",
    "Use the analytic (exact) method.  Create the function by first figuring out the derivative of f(x) using calculus.\n",
    "\n",
    "Remember that the derivative of sin(x) is cos(x)"
   ]
  },
  {
   "cell_type": "code",
   "execution_count": null,
   "id": "53a56dbf",
   "metadata": {},
   "outputs": [],
   "source": [
    "def df(x):\n",
    "    # YOUR CODE HERE"
   ]
  },
  {
   "cell_type": "code",
   "execution_count": null,
   "id": "867ad6f3",
   "metadata": {},
   "outputs": [],
   "source": [
    "print(f'df/dx (0.5): {df(0.5):0.4g}')\n",
    "print(f'df/dx (0.3): {df(0.3):0.4g}')"
   ]
  },
  {
   "cell_type": "markdown",
   "id": "55fbe335",
   "metadata": {},
   "source": [
    "### Problem 2. Using df(), plot the derivative of f.\n",
    "\n",
    "Use the array xs that was defined earlier.  "
   ]
  },
  {
   "cell_type": "code",
   "execution_count": null,
   "id": "8e55f10c",
   "metadata": {},
   "outputs": [],
   "source": [
    "# YOUR CODE HERE"
   ]
  },
  {
   "cell_type": "markdown",
   "id": "3d74647c",
   "metadata": {},
   "source": [
    "### Problem 3.  Write a function that gives the derivative of _any_ function\n",
    "\n",
    "Use the numerical method.  Use a 2-sided approximation."
   ]
  },
  {
   "cell_type": "code",
   "execution_count": null,
   "id": "1d56bcf6",
   "metadata": {},
   "outputs": [],
   "source": [
    "def deriv(f, h=1e-5):\n",
    "    # YOUR CODE HERE"
   ]
  },
  {
   "cell_type": "code",
   "execution_count": null,
   "id": "1ff1ebe1",
   "metadata": {},
   "outputs": [],
   "source": [
    "print(f'df/dx (0.5): {deriv(f)(0.5):0.3g}')\n",
    "print(f'df/dx (0.3): {deriv(f)(0.3):0.3g}')"
   ]
  },
  {
   "cell_type": "markdown",
   "id": "fe7abbcb",
   "metadata": {},
   "source": [
    "### Problem 4. Using functions deriv() and f(), plot the derivative of f.\n",
    "\n",
    "Use the array xs that was defined earlier.  "
   ]
  },
  {
   "cell_type": "code",
   "execution_count": null,
   "id": "0ae4c760",
   "metadata": {},
   "outputs": [],
   "source": [
    "# YOUR CODE HERE"
   ]
  },
  {
   "cell_type": "markdown",
   "id": "9583a76c",
   "metadata": {},
   "source": [
    "### Problem 5.  Compare the analytic and numerical versions of the derivative of function f().\n",
    "\n",
    "Plot the analytic derivative and the numerical derivative.\n",
    "\n",
    "Use functions f(), df(), and deriv() to create the data for the plot."
   ]
  },
  {
   "cell_type": "code",
   "execution_count": null,
   "id": "389be580",
   "metadata": {
    "scrolled": false
   },
   "outputs": [],
   "source": [
    "# YOUR CODE HERE"
   ]
  },
  {
   "cell_type": "markdown",
   "id": "9df2fe5c",
   "metadata": {},
   "source": [
    "### Problem 6.  Repeat problem 5, but this time use a value of 0.5 for parameter h of function deriv().\n",
    "\n",
    "The goal is to see the impact of a change in h."
   ]
  },
  {
   "cell_type": "code",
   "execution_count": null,
   "id": "863b3ee6",
   "metadata": {},
   "outputs": [],
   "source": [
    "# YOUR CODE HERE"
   ]
  },
  {
   "cell_type": "markdown",
   "id": "cdd08773",
   "metadata": {},
   "source": [
    "### Problem 7.  Define a function to perform gradient descent.\n",
    "\n",
    "Here we will use a numeric approach.  Use your function deriv() in your code.\n",
    "\n",
    "Add code only where shown with # YOUR CODE HERE.\n",
    "\n",
    "Your code will be contain a loop that iterates max_iterations times.\n",
    "\n",
    "Don't forget your return statement."
   ]
  },
  {
   "cell_type": "code",
   "execution_count": null,
   "id": "52a9fc5f",
   "metadata": {},
   "outputs": [],
   "source": [
    "def argmin(f, learning_rate=0.1, max_iterations=1000, random_state=0):\n",
    "    \n",
    "    \"\"\" Find the argmin of function f using gradient descent.  \n",
    "    Start at a random point between 0 and 1.\n",
    "    \"\"\"\n",
    "    \n",
    "    # start at a random point between 0 and 1\n",
    "    np.random.seed(random_state)\n",
    "    x = np.random.rand()\n",
    "    \n",
    "    # YOUR CODE HERE"
   ]
  },
  {
   "cell_type": "markdown",
   "id": "e2cf9c83",
   "metadata": {},
   "source": [
    "Test argmin()\n",
    "\n"
   ]
  },
  {
   "cell_type": "code",
   "execution_count": null,
   "id": "30a145f1",
   "metadata": {},
   "outputs": [],
   "source": [
    "x = argmin(f)"
   ]
  },
  {
   "cell_type": "code",
   "execution_count": null,
   "id": "58195493",
   "metadata": {},
   "outputs": [],
   "source": [
    "print(f'x: {x:0.3g}, f(x): {f(x):0.3g}')"
   ]
  },
  {
   "cell_type": "markdown",
   "id": "a8a1d40b",
   "metadata": {},
   "source": [
    "Plot function f, and draw a vertical line at value x.  The red line shows the input that argmin() computed, and should ideally be the input that gives the minimum value of f()."
   ]
  },
  {
   "cell_type": "code",
   "execution_count": null,
   "id": "3a9ada00",
   "metadata": {},
   "outputs": [],
   "source": [
    "ys = f(xs)\n",
    "plt.plot(xs, ys)\n",
    "plt.axvline(x, color='red');"
   ]
  },
  {
   "cell_type": "markdown",
   "id": "edd51a49",
   "metadata": {},
   "source": [
    "Try again, with a smaller learning rate."
   ]
  },
  {
   "cell_type": "code",
   "execution_count": null,
   "id": "a157d863",
   "metadata": {},
   "outputs": [],
   "source": [
    "x = argmin(f, learning_rate=0.0001)\n",
    "\n",
    "ys = f(xs)\n",
    "plt.plot(xs, ys)\n",
    "plt.axvline(x, color='red');"
   ]
  },
  {
   "cell_type": "markdown",
   "id": "2aba29be",
   "metadata": {},
   "source": [
    "Try again, with a larger learning rate."
   ]
  },
  {
   "cell_type": "code",
   "execution_count": null,
   "id": "4c65883a",
   "metadata": {},
   "outputs": [],
   "source": [
    "x = argmin(f, learning_rate=0.2)\n",
    "\n",
    "ys = f(xs)\n",
    "plt.plot(xs, ys)\n",
    "plt.axvline(x, color='red');"
   ]
  },
  {
   "cell_type": "markdown",
   "id": "5d403dd8",
   "metadata": {},
   "source": [
    "Try again, with an even larger learning rate."
   ]
  },
  {
   "cell_type": "code",
   "execution_count": null,
   "id": "e8ac723d",
   "metadata": {},
   "outputs": [],
   "source": [
    "x = argmin(f, learning_rate=0.5)\n",
    "\n",
    "ys = f(xs)\n",
    "plt.plot(xs, ys)\n",
    "plt.axvline(x, color='red');"
   ]
  },
  {
   "cell_type": "markdown",
   "id": "b5679342",
   "metadata": {},
   "source": [
    "### Problem 8.  Summary\n",
    "\n",
    "Write a paragraph or two about what you learned from derivatives and gradient descent from this notebook.\n",
    "\n",
    "Be thoughtful.  Collect your ideas before writing."
   ]
  },
  {
   "cell_type": "markdown",
   "id": "e8663e33",
   "metadata": {},
   "source": [
    "*Replace this text with your thoughts.*"
   ]
  }
 ],
 "metadata": {
  "kernelspec": {
   "display_name": "Python 3 (ipykernel)",
   "language": "python",
   "name": "python3"
  },
  "language_info": {
   "codemirror_mode": {
    "name": "ipython",
    "version": 3
   },
   "file_extension": ".py",
   "mimetype": "text/x-python",
   "name": "python",
   "nbconvert_exporter": "python",
   "pygments_lexer": "ipython3",
   "version": "3.11.4"
  }
 },
 "nbformat": 4,
 "nbformat_minor": 5
}
