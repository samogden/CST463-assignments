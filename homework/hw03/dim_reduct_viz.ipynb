{
 "cells": [
  {
   "cell_type": "markdown",
   "id": "c6c95c04",
   "metadata": {},
   "source": [
    "# Using dimensionality reduction for visualization.\n",
    "\n",
    "Sometimes dimensionality reduction is used to reduce the size of a dataset to make machine learning more tractable.\n",
    "\n",
    "However, this is generally avoided because we don't want to throw away training data.  The danger of throwing away valuable information is especially worrisome because dimensionality reduction methods like PCA are unsupervised, so don't know what information is most important relative to your target variable.\n",
    "\n",
    "The use of neural nets also makes dimensionality reduction less important, because neural nets can handle large data objects like images.  In other words, neural nets can handle lots of input variables.\n",
    "\n",
    "On the other hand, dimensionality reduction is commonly used for visualization, especially for visualizing data with 2D scatterplots.\n",
    "\n",
    "We learned about many dimensionality reduction methods -- how do they differ in visualizing data?  How would you know which method to use for visualizations?\n",
    "\n",
    "In this assignment you will use several dimensionality reduction methods to visualize the college data set, and you will see how the visualizations differ.\n",
    "\n",
    "You will also use dimensionality reduction methods to visualize the results of cluster analysis.\n",
    "\n",
    "v0.2  author: Glenn Bruns"
   ]
  },
  {
   "cell_type": "markdown",
   "id": "740e7da5",
   "metadata": {},
   "source": [
    "### Instructions:\n",
    "\n",
    "Read through the code, then enter code in the cell below each numbered problem.\n",
    "\n",
    "Most of the problems are very similar.  Write supporting functions to avoid lots of duplicated code.  Part of your grade will be based on how you factor your code.\n",
    "\n",
    "The instructions are not detailed.  I expect you to think and to use good judgement.\n",
    "\n",
    "Restart your notebook and run from top to bottom before submitting."
   ]
  },
  {
   "cell_type": "code",
   "execution_count": null,
   "id": "d5e480fd",
   "metadata": {},
   "outputs": [],
   "source": [
    "import os\n",
    "import warnings\n",
    "import pandas as pd\n",
    "import numpy as np\n",
    "import matplotlib.pyplot as plt\n",
    "import seaborn as sns\n",
    "from sklearn.decomposition import PCA, KernelPCA\n",
    "from sklearn.manifold import LocallyLinearEmbedding, TSNE\n",
    "from sklearn.linear_model import LinearRegression\n",
    "from sklearn.metrics import mean_squared_error\n",
    "from sklearn.model_selection import train_test_split, GridSearchCV, cross_val_score\n",
    "from sklearn.preprocessing import StandardScaler\n",
    "from sklearn.cluster import KMeans\n",
    "from sklearn.datasets import make_swiss_roll"
   ]
  },
  {
   "cell_type": "code",
   "execution_count": null,
   "id": "dd7cf792",
   "metadata": {},
   "outputs": [],
   "source": [
    "# use this cell for any imports you want to add"
   ]
  },
  {
   "cell_type": "code",
   "execution_count": null,
   "id": "26a41659",
   "metadata": {},
   "outputs": [],
   "source": [
    "# use if needed to suppress Jupyter notebook warnings\n",
    "# warnings.filterwarnings('ignore')"
   ]
  },
  {
   "cell_type": "markdown",
   "id": "1f7c437d",
   "metadata": {},
   "source": [
    "#### Red wine data"
   ]
  },
  {
   "cell_type": "code",
   "execution_count": null,
   "id": "c3903753",
   "metadata": {},
   "outputs": [],
   "source": [
    "dfw = pd.read_csv(\"https://raw.githubusercontent.com/grbruns/cst495/master/winequality-red.csv\", sep=\";\")"
   ]
  },
  {
   "cell_type": "code",
   "execution_count": null,
   "id": "156f3034",
   "metadata": {},
   "outputs": [],
   "source": [
    "# summary\n",
    "dfw.info()"
   ]
  },
  {
   "cell_type": "code",
   "execution_count": null,
   "id": "8e6879d1",
   "metadata": {},
   "outputs": [],
   "source": [
    "Xw = dfw.iloc[:,0:11].values\n",
    "yw = dfw.iloc[:,11].values"
   ]
  },
  {
   "cell_type": "code",
   "execution_count": null,
   "id": "8d3136d4",
   "metadata": {},
   "outputs": [],
   "source": [
    "# normalize the data\n",
    "scaler = StandardScaler()\n",
    "Xw = scaler.fit_transform(Xw)"
   ]
  },
  {
   "cell_type": "markdown",
   "id": "2c632228",
   "metadata": {},
   "source": [
    "#### College data"
   ]
  },
  {
   "cell_type": "code",
   "execution_count": null,
   "id": "836b16a4",
   "metadata": {},
   "outputs": [],
   "source": [
    "dfc = pd.read_csv('https://raw.githubusercontent.com/grbruns/cst383/master/College.csv', index_col=0)"
   ]
  },
  {
   "cell_type": "code",
   "execution_count": null,
   "id": "aa0ff8d6",
   "metadata": {},
   "outputs": [],
   "source": [
    "# summary\n",
    "dfc.info()"
   ]
  },
  {
   "cell_type": "code",
   "execution_count": null,
   "id": "045be562",
   "metadata": {},
   "outputs": [],
   "source": [
    "Xc = dfc.iloc[:,1:].values\n",
    "yc = (dfc.iloc[:,0] == \"Yes\").astype(int).values"
   ]
  },
  {
   "cell_type": "code",
   "execution_count": null,
   "id": "d5fc84f4",
   "metadata": {},
   "outputs": [],
   "source": [
    "# normalize the data\n",
    "scaler = StandardScaler()\n",
    "Xc = scaler.fit_transform(Xc)"
   ]
  },
  {
   "cell_type": "markdown",
   "id": "9de16ebe",
   "metadata": {},
   "source": [
    "#### Swiss roll"
   ]
  },
  {
   "cell_type": "code",
   "execution_count": null,
   "id": "ea4bcf5e",
   "metadata": {},
   "outputs": [],
   "source": [
    "Xr, yr = make_swiss_roll(n_samples=1000, noise=0.05, random_state=1)"
   ]
  },
  {
   "cell_type": "markdown",
   "id": "99156f24",
   "metadata": {},
   "source": [
    "### Supporting functions\n",
    "\n",
    "Define any supporting functions you want in this section of the notebook."
   ]
  },
  {
   "cell_type": "markdown",
   "id": "cdd08773",
   "metadata": {},
   "source": [
    "### Shared variables\n",
    "\n",
    "You may like to use one or more code cells in this section of the notebook to define data you will use in the rest of the notebook."
   ]
  },
  {
   "cell_type": "markdown",
   "id": "32fdd9fb",
   "metadata": {},
   "source": [
    "## Problem 1.  Apply dimensionality reduction to the data sets"
   ]
  },
  {
   "cell_type": "markdown",
   "id": "35e5c8be",
   "metadata": {},
   "source": [
    "### 1a.  PCA \n",
    "\n",
    "Transform the data to 2D using PCA for the wine, college, and swiss roll data.  Then plot the data.  Use the labels to color the points in 2D.  For example, with the wine data, the data to be plotted is Xw, and yw should be used to color the points.\n",
    "\n",
    "Seaborn scatterplots make it easy to color the points.\n",
    "\n",
    "I think putting the three plots side by side is a good idea, but you can use your own judgement."
   ]
  },
  {
   "cell_type": "code",
   "execution_count": null,
   "id": "b0845c8d",
   "metadata": {},
   "outputs": [],
   "source": [
    "### YOUR CODE HERE"
   ]
  },
  {
   "cell_type": "markdown",
   "id": "ae5f088d",
   "metadata": {},
   "source": [
    "### 1b.  Kernel PCA, RBF kernel.\n",
    "\n",
    "This problem is just like the previous problem, but with kernel PCA.  Use the RBF kernel.  Use the default value for other hyperparameters."
   ]
  },
  {
   "cell_type": "code",
   "execution_count": null,
   "id": "1a65e373",
   "metadata": {},
   "outputs": [],
   "source": [
    "### YOUR CODE HERE"
   ]
  },
  {
   "cell_type": "markdown",
   "id": "aeb7c4d9",
   "metadata": {},
   "source": [
    "### 1c.  Kernel PCA, polynomial kernel.\n",
    "\n",
    "Use Kernel PCA with a polynomial kernel of degree 2."
   ]
  },
  {
   "cell_type": "code",
   "execution_count": null,
   "id": "12ae7643",
   "metadata": {},
   "outputs": [],
   "source": [
    "### YOUR CODE HERE"
   ]
  },
  {
   "cell_type": "markdown",
   "id": "dab3a863",
   "metadata": {},
   "source": [
    "### 1d.  LLE with default n_neighbors\n",
    "\n",
    "Use the default value for n_neighbors.  Use the default value for other hyperparameters."
   ]
  },
  {
   "cell_type": "code",
   "execution_count": null,
   "id": "66d6e142",
   "metadata": {},
   "outputs": [],
   "source": [
    "### YOUR CODE HERE"
   ]
  },
  {
   "cell_type": "markdown",
   "id": "da6b2dca",
   "metadata": {},
   "source": [
    "### 1e.  LLE with n_neighbors = 10"
   ]
  },
  {
   "cell_type": "code",
   "execution_count": null,
   "id": "d99dde47",
   "metadata": {},
   "outputs": [],
   "source": [
    "### YOUR CODE HERE"
   ]
  },
  {
   "cell_type": "markdown",
   "id": "f5caca19",
   "metadata": {},
   "source": [
    "### 1f.  LLE with n_neighbors = 20"
   ]
  },
  {
   "cell_type": "code",
   "execution_count": null,
   "id": "2399dd56",
   "metadata": {},
   "outputs": [],
   "source": [
    "### YOUR CODE HERE"
   ]
  },
  {
   "cell_type": "markdown",
   "id": "4d2c78c2",
   "metadata": {},
   "source": [
    "### 1g.  tSNE\n",
    "\n",
    "Use tSNE with default hyperparameters."
   ]
  },
  {
   "cell_type": "code",
   "execution_count": null,
   "id": "5589dc39",
   "metadata": {},
   "outputs": [],
   "source": [
    "### YOUR CODE HERE"
   ]
  },
  {
   "cell_type": "markdown",
   "id": "847fe04e",
   "metadata": {},
   "source": [
    "### Problem 1h.  Summary\n",
    "\n",
    "Discuss the results of the part 1 experiments in the markdown cell below.\n",
    "\n",
    "Make thoughtful observations -- go beyond the obvious."
   ]
  },
  {
   "cell_type": "markdown",
   "id": "c6988791",
   "metadata": {},
   "source": [
    "*** Replace this text with your thoughts. ***"
   ]
  },
  {
   "cell_type": "markdown",
   "id": "27dc5350",
   "metadata": {},
   "source": [
    "## Problem 2.  Apply dimensionality reduction after cluster analysis"
   ]
  },
  {
   "cell_type": "markdown",
   "id": "7a1de922",
   "metadata": {},
   "source": [
    "Here is a k-means cluster analysis object."
   ]
  },
  {
   "cell_type": "code",
   "execution_count": null,
   "id": "b8e37d3d",
   "metadata": {},
   "outputs": [],
   "source": [
    "kmeans = KMeans(n_clusters = 2, n_init='auto')"
   ]
  },
  {
   "cell_type": "markdown",
   "id": "c48521af",
   "metadata": {},
   "source": [
    "### 2a.  PCA \n",
    "\n",
    "For each data set, first perform k-means cluster analysis, then reduce the dimensionality of the data to 2D and plot using a scatterplot.  Use each point's cluster as its color.\n",
    "\n",
    "The purpose of this application of dimensionality reduction is to see if the clustering appears to be effective.  We cannot look at the clusters in high-dimensional space.\n",
    "\n",
    "The use of cluster analysis does not modify the data that dimensionality reduction is being applied to; it is only used to determine the color of each point."
   ]
  },
  {
   "cell_type": "code",
   "execution_count": null,
   "id": "de6cb459",
   "metadata": {},
   "outputs": [],
   "source": [
    "### YOUR CODE HERE"
   ]
  },
  {
   "cell_type": "markdown",
   "id": "3e62f3f1",
   "metadata": {},
   "source": [
    "### 2b.  Kernel PCA , RBF kernel\n",
    "\n",
    "Do the same thing as the last problem, but this time use kernel PCA with an RBF kernel."
   ]
  },
  {
   "cell_type": "code",
   "execution_count": null,
   "id": "94e55d9d",
   "metadata": {},
   "outputs": [],
   "source": [
    "### YOUR CODE HERE"
   ]
  },
  {
   "cell_type": "markdown",
   "id": "a4ca221e",
   "metadata": {},
   "source": [
    "### 2c.  Kernel PCA, polynomial kernel"
   ]
  },
  {
   "cell_type": "code",
   "execution_count": null,
   "id": "6c78864e",
   "metadata": {},
   "outputs": [],
   "source": [
    "### YOUR CODE HERE"
   ]
  },
  {
   "cell_type": "markdown",
   "id": "2ff09b2d",
   "metadata": {},
   "source": [
    "### 2d.  LLE, default n_neighbors"
   ]
  },
  {
   "cell_type": "code",
   "execution_count": null,
   "id": "a83b3592",
   "metadata": {},
   "outputs": [],
   "source": [
    "### YOUR CODE HERE"
   ]
  },
  {
   "cell_type": "markdown",
   "id": "503a71f0",
   "metadata": {},
   "source": [
    "### 2e.  LLE, n_neighbors = 10"
   ]
  },
  {
   "cell_type": "code",
   "execution_count": null,
   "id": "a2fe81be",
   "metadata": {},
   "outputs": [],
   "source": [
    "### YOUR CODE HERE"
   ]
  },
  {
   "cell_type": "markdown",
   "id": "b66d074c",
   "metadata": {},
   "source": [
    "### 2f.  LLE, n_neighbors = 20"
   ]
  },
  {
   "cell_type": "code",
   "execution_count": null,
   "id": "4f571f79",
   "metadata": {},
   "outputs": [],
   "source": [
    "### YOUR CODE HERE"
   ]
  },
  {
   "cell_type": "markdown",
   "id": "c594914f",
   "metadata": {},
   "source": [
    "### 2g.  tSNE"
   ]
  },
  {
   "cell_type": "code",
   "execution_count": null,
   "id": "7db10e7e",
   "metadata": {},
   "outputs": [],
   "source": [
    "### YOUR CODE HERE"
   ]
  },
  {
   "cell_type": "markdown",
   "id": "e706ce42",
   "metadata": {},
   "source": [
    "### 2h.  Summary\n",
    "\n",
    "Discuss the results of the part 2 experiments in the markdown cell below.\n",
    "\n",
    "Make thoughtful observations -- go beyond the obvious."
   ]
  },
  {
   "cell_type": "markdown",
   "id": "868722b1",
   "metadata": {},
   "source": [
    "*** Replace this text with your thoughts. ***"
   ]
  },
  {
   "cell_type": "markdown",
   "id": "41d67b75",
   "metadata": {},
   "source": [
    "## Problem 3. Perform further experiments"
   ]
  },
  {
   "cell_type": "markdown",
   "id": "29f20670",
   "metadata": {},
   "source": [
    "Add as many cells as you want to perform further experiments.\n",
    "\n",
    "There are many possible things to explore.  Ask your instructor if you are not sure about what to try.\n",
    "\n",
    "Be sure to include a clearly-labeled summary at the end to discuss your findings.\n",
    "\n",
    "You don't need to try lots of different things.  Be thoughtful in your choice of things to try.  Use your curiousity."
   ]
  }
 ],
 "metadata": {
  "kernelspec": {
   "display_name": "Python 3 (ipykernel)",
   "language": "python",
   "name": "python3"
  },
  "language_info": {
   "codemirror_mode": {
    "name": "ipython",
    "version": 3
   },
   "file_extension": ".py",
   "mimetype": "text/x-python",
   "name": "python",
   "nbconvert_exporter": "python",
   "pygments_lexer": "ipython3",
   "version": "3.11.4"
  }
 },
 "nbformat": 4,
 "nbformat_minor": 5
}
