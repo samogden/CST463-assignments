{
 "cells": [
  {
   "cell_type": "markdown",
   "metadata": {
    "id": "vkjvb11s5EJu"
   },
   "source": [
    "\n",
    "We recently built an activity recognizer with a convolutional neural network.\n",
    "Recurrent neurons have state and are known to be useful with sequential data.\n",
    "The purpose of this assignment is to learn to use recurrent layers in Keras and\n",
    "to see whether a recurrent network can outperform a convolutional network."
   ]
  },
  {
   "cell_type": "markdown",
   "metadata": {
    "id": "aVPAb0JJbSiO"
   },
   "source": [
    "## Instructions:\n",
    "- Add your own code to the end of this notebook.\n",
    "- Use X_test and y_test only to report your final test accuracy.  For example, don't use X_test and y_test in training.\n",
    "- You are to work completely on your own, and to not look at solutions on the web.  You may look at the Chollet book for code examples; see especially Section 10.3.\n",
    "- See the assignment google doc for further instructions.\n"
   ]
  },
  {
   "cell_type": "code",
   "execution_count": null,
   "metadata": {
    "id": "m7ZSPy8U4_UT"
   },
   "outputs": [],
   "source": [
    "import numpy as np\n",
    "from scipy.signal import find_peaks, periodogram\n",
    "import pandas as pd\n",
    "import matplotlib.pyplot as plt\n",
    "from sklearn.tree import DecisionTreeClassifier\n",
    "from sklearn.model_selection import train_test_split\n",
    "from sklearn.metrics import confusion_matrix\n",
    "from tensorflow.keras import models, layers\n",
    "from tensorflow.keras import backend as K"
   ]
  },
  {
   "cell_type": "code",
   "execution_count": null,
   "metadata": {
    "id": "shZkiChU2ik-"
   },
   "outputs": [],
   "source": [
    "def plot_metric(history, metric='loss'):\n",
    "    \"\"\" Plot training and test values for a metric. \"\"\"\n",
    "\n",
    "    val_metric = 'val_'+metric\n",
    "    plt.plot(history.history[metric])\n",
    "    plt.plot(history.history[val_metric])\n",
    "    plt.title('model '+metric)\n",
    "    plt.ylabel(metric)\n",
    "    plt.xlabel('epoch')\n",
    "    plt.legend(['train', 'test'])\n",
    "    plt.show();"
   ]
  },
  {
   "cell_type": "code",
   "execution_count": null,
   "metadata": {
    "id": "1XKLb6AC6536"
   },
   "outputs": [],
   "source": [
    "np.random.seed(0)"
   ]
  },
  {
   "cell_type": "markdown",
   "metadata": {
    "id": "4IpHuhOx4_UZ"
   },
   "source": [
    "### Read data and perform basic preprocessing"
   ]
  },
  {
   "cell_type": "code",
   "execution_count": null,
   "metadata": {
    "id": "cBN3sFXH4_Ub"
   },
   "outputs": [],
   "source": [
    "# Load data for a single user.  Users are numbered 1-15.\n",
    "infile = 'https://raw.githubusercontent.com/grbruns/cst383/master/activity-4.csv'\n",
    "df = pd.read_csv(infile, index_col=0, header=None)\n",
    "\n",
    "df.columns = ['x', 'y', 'z', 'activity']\n",
    "df = df[df['activity'] != 0]\n",
    "df['activity'] = df['activity'] - 1\n",
    "activity_names = ['desk', 'mixed', 'standing', 'walking', 'stairs', 'talking/walking', 'talking/standing']"
   ]
  },
  {
   "cell_type": "markdown",
   "metadata": {
    "id": "I_os9SVM4_Uc"
   },
   "source": [
    "### Initial exploration"
   ]
  },
  {
   "cell_type": "code",
   "execution_count": null,
   "metadata": {
    "colab": {
     "base_uri": "https://localhost:8080/"
    },
    "executionInfo": {
     "elapsed": 464,
     "status": "ok",
     "timestamp": 1636834564742,
     "user": {
      "displayName": "Glenn",
      "photoUrl": "https://lh3.googleusercontent.com/a-/AOh14GjykiG4UrEIFJrppAQQSHHr3TjS4DL1ZBM99aAAdg=s64",
      "userId": "10553525024667050874"
     },
     "user_tz": 480
    },
    "id": "X3bzIZ5A4_Ud",
    "outputId": "64c74197-3c9c-4347-cda2-3ba142905aa7"
   },
   "outputs": [
    {
     "name": "stdout",
     "output_type": "stream",
     "text": [
      "<class 'pandas.core.frame.DataFrame'>\n",
      "Float64Index: 122200 entries, 0.0 to 122200.0\n",
      "Data columns (total 4 columns):\n",
      " #   Column    Non-Null Count   Dtype\n",
      "---  ------    --------------   -----\n",
      " 0   x         122200 non-null  int64\n",
      " 1   y         122200 non-null  int64\n",
      " 2   z         122200 non-null  int64\n",
      " 3   activity  122200 non-null  int64\n",
      "dtypes: int64(4)\n",
      "memory usage: 4.7 MB\n"
     ]
    }
   ],
   "source": [
    "df.info()"
   ]
  },
  {
   "cell_type": "code",
   "execution_count": null,
   "metadata": {
    "colab": {
     "base_uri": "https://localhost:8080/",
     "height": 294
    },
    "executionInfo": {
     "elapsed": 488,
     "status": "ok",
     "timestamp": 1636834569393,
     "user": {
      "displayName": "Glenn",
      "photoUrl": "https://lh3.googleusercontent.com/a-/AOh14GjykiG4UrEIFJrppAQQSHHr3TjS4DL1ZBM99aAAdg=s64",
      "userId": "10553525024667050874"
     },
     "user_tz": 480
    },
    "id": "L_oMHgFu4_Uf",
    "outputId": "e68743c6-13fc-443b-c63d-9b6cf977bf7a"
   },
   "outputs": [
    {
     "data": {
      "text/html": [
       "<div>\n",
       "<style scoped>\n",
       "    .dataframe tbody tr th:only-of-type {\n",
       "        vertical-align: middle;\n",
       "    }\n",
       "\n",
       "    .dataframe tbody tr th {\n",
       "        vertical-align: top;\n",
       "    }\n",
       "\n",
       "    .dataframe thead th {\n",
       "        text-align: right;\n",
       "    }\n",
       "</style>\n",
       "<table border=\"1\" class=\"dataframe\">\n",
       "  <thead>\n",
       "    <tr style=\"text-align: right;\">\n",
       "      <th></th>\n",
       "      <th>x</th>\n",
       "      <th>y</th>\n",
       "      <th>z</th>\n",
       "      <th>activity</th>\n",
       "    </tr>\n",
       "  </thead>\n",
       "  <tbody>\n",
       "    <tr>\n",
       "      <th>count</th>\n",
       "      <td>122200.000000</td>\n",
       "      <td>122200.000000</td>\n",
       "      <td>122200.000000</td>\n",
       "      <td>122200.000000</td>\n",
       "    </tr>\n",
       "    <tr>\n",
       "      <th>mean</th>\n",
       "      <td>2053.151088</td>\n",
       "      <td>2377.315164</td>\n",
       "      <td>2024.087070</td>\n",
       "      <td>2.904992</td>\n",
       "    </tr>\n",
       "    <tr>\n",
       "      <th>std</th>\n",
       "      <td>51.148136</td>\n",
       "      <td>56.854804</td>\n",
       "      <td>46.609623</td>\n",
       "      <td>2.313771</td>\n",
       "    </tr>\n",
       "    <tr>\n",
       "      <th>min</th>\n",
       "      <td>1132.000000</td>\n",
       "      <td>1649.000000</td>\n",
       "      <td>878.000000</td>\n",
       "      <td>0.000000</td>\n",
       "    </tr>\n",
       "    <tr>\n",
       "      <th>25%</th>\n",
       "      <td>2019.000000</td>\n",
       "      <td>2369.000000</td>\n",
       "      <td>2007.000000</td>\n",
       "      <td>0.000000</td>\n",
       "    </tr>\n",
       "    <tr>\n",
       "      <th>50%</th>\n",
       "      <td>2053.000000</td>\n",
       "      <td>2380.000000</td>\n",
       "      <td>2025.000000</td>\n",
       "      <td>3.000000</td>\n",
       "    </tr>\n",
       "    <tr>\n",
       "      <th>75%</th>\n",
       "      <td>2081.000000</td>\n",
       "      <td>2387.000000</td>\n",
       "      <td>2034.000000</td>\n",
       "      <td>6.000000</td>\n",
       "    </tr>\n",
       "    <tr>\n",
       "      <th>max</th>\n",
       "      <td>2723.000000</td>\n",
       "      <td>3046.000000</td>\n",
       "      <td>2954.000000</td>\n",
       "      <td>6.000000</td>\n",
       "    </tr>\n",
       "  </tbody>\n",
       "</table>\n",
       "</div>"
      ],
      "text/plain": [
       "                   x              y              z       activity\n",
       "count  122200.000000  122200.000000  122200.000000  122200.000000\n",
       "mean     2053.151088    2377.315164    2024.087070       2.904992\n",
       "std        51.148136      56.854804      46.609623       2.313771\n",
       "min      1132.000000    1649.000000     878.000000       0.000000\n",
       "25%      2019.000000    2369.000000    2007.000000       0.000000\n",
       "50%      2053.000000    2380.000000    2025.000000       3.000000\n",
       "75%      2081.000000    2387.000000    2034.000000       6.000000\n",
       "max      2723.000000    3046.000000    2954.000000       6.000000"
      ]
     },
     "execution_count": 30,
     "metadata": {},
     "output_type": "execute_result"
    }
   ],
   "source": [
    "df.describe()"
   ]
  },
  {
   "cell_type": "code",
   "execution_count": null,
   "metadata": {
    "colab": {
     "base_uri": "https://localhost:8080/",
     "height": 277
    },
    "executionInfo": {
     "elapsed": 2,
     "status": "ok",
     "timestamp": 1636834569962,
     "user": {
      "displayName": "Glenn",
      "photoUrl": "https://lh3.googleusercontent.com/a-/AOh14GjykiG4UrEIFJrppAQQSHHr3TjS4DL1ZBM99aAAdg=s64",
      "userId": "10553525024667050874"
     },
     "user_tz": 480
    },
    "id": "wSBwguNp4_Ug",
    "outputId": "5736960d-2fbc-4766-b168-f24149cad345"
   },
   "outputs": [
    {
     "data": {
      "image/png": "[encoded data removed]",
      "text/plain": [
       "<Figure size 432x288 with 1 Axes>"
      ]
     },
     "metadata": {
      "needs_background": "light"
     },
     "output_type": "display_data"
    }
   ],
   "source": [
    "df['activity'].value_counts().plot.bar()\n",
    "plt.title('Counts of activities');"
   ]
  },
  {
   "cell_type": "markdown",
   "metadata": {
    "id": "Q9_LM-fh4_Uh"
   },
   "source": [
    "### Data preparation"
   ]
  },
  {
   "cell_type": "code",
   "execution_count": null,
   "metadata": {
    "id": "MedQAGQj4_UY"
   },
   "outputs": [],
   "source": [
    "def create_segments(X, window_size, shift):\n",
    "    \"\"\" Return a list of NumPy arrays, each a segment.\n",
    "    \n",
    "    X is a numpy array with shape (number of time steps, number of variables)\n",
    "    window_size defines the size of the segments\n",
    "    shift is the number of time steps to shift the window\n",
    "    \n",
    "    The output is a NumPy array with shape (k, window_size, n)\n",
    "    \"\"\"\n",
    "\n",
    "    # compute number of segments in X\n",
    "    # X.shape[0]/shift gives total number of window positions\n",
    "    num_segments = np.floor(X.shape[0]/shift) - np.ceil(window_size/shift)\n",
    "    num_segments = int(num_segments)\n",
    "    \n",
    "    # create the segments\n",
    "    segments = np.zeros((num_segments, window_size, X.shape[1]))\n",
    "    for i in np.arange(num_segments):\n",
    "        segments[i, :, :] = X[(i*shift):(i*shift + window_size), :]\n",
    "        \n",
    "    return segments"
   ]
  },
  {
   "cell_type": "code",
   "execution_count": null,
   "metadata": {
    "id": "y67_U1LU4_Ul"
   },
   "outputs": [],
   "source": [
    "def clean_and_label(segments):\n",
    "    \"\"\" From the given segments, create a new array of the clean segments.\n",
    "    Return the clean segments, with activity values removed, \n",
    "    and an activity label for each.\n",
    "    \"\"\"\n",
    "\n",
    "    # compute number of single class (\"clean\") segments\n",
    "    n = segments.shape[0]\n",
    "    num_clean = 0\n",
    "    for i in range(n):\n",
    "        segment_classes = segments[i,:,3]\n",
    "        if segment_classes.min() == segment_classes.max():\n",
    "            num_clean += 1\n",
    "    \n",
    "    print('fraction of segments with a single class: {:.3f}'.format(num_clean/n))\n",
    "    \n",
    "    # create clean segments, and create training labels\n",
    "    segs = np.zeros((num_clean, segments.shape[1], segments.shape[2]-1))\n",
    "    y = np.full(num_clean, 0)\n",
    "    idx = 0\n",
    "    for i in range(n):\n",
    "        segment_classes = segments[i,:,3]\n",
    "        if segment_classes.min() == segment_classes.max():\n",
    "            segs[idx,:,:] = segments[i,:,:3]\n",
    "            y[idx] = segment_classes[0]\n",
    "            idx += 1\n",
    "            \n",
    "    return segs, y"
   ]
  },
  {
   "cell_type": "markdown",
   "metadata": {
    "id": "qnVdr-Y74_Uj"
   },
   "source": [
    "#### Create raw segments from data\n",
    "\n",
    "Each segment can have multiple class labels associated with it."
   ]
  },
  {
   "cell_type": "code",
   "execution_count": null,
   "metadata": {
    "colab": {
     "base_uri": "https://localhost:8080/"
    },
    "executionInfo": {
     "elapsed": 484,
     "status": "ok",
     "timestamp": 1636834571611,
     "user": {
      "displayName": "Glenn",
      "photoUrl": "https://lh3.googleusercontent.com/a-/AOh14GjykiG4UrEIFJrppAQQSHHr3TjS4DL1ZBM99aAAdg=s64",
      "userId": "10553525024667050874"
     },
     "user_tz": 480
    },
    "id": "_Dnvmlrx4_Uj",
    "outputId": "4f3bc350-234d-42be-a7e5-3a30e6c46eff"
   },
   "outputs": [
    {
     "name": "stdout",
     "output_type": "stream",
     "text": [
      "fraction of segments with a single class: 0.994\n"
     ]
    }
   ],
   "source": [
    "window_size = 100\n",
    "shift = 10\n",
    "segments = create_segments(df.values, window_size, shift)\n",
    "X, y = clean_and_label(segments)"
   ]
  },
  {
   "cell_type": "code",
   "execution_count": null,
   "metadata": {
    "colab": {
     "base_uri": "https://localhost:8080/"
    },
    "executionInfo": {
     "elapsed": 2,
     "status": "ok",
     "timestamp": 1636834572618,
     "user": {
      "displayName": "Glenn",
      "photoUrl": "https://lh3.googleusercontent.com/a-/AOh14GjykiG4UrEIFJrppAQQSHHr3TjS4DL1ZBM99aAAdg=s64",
      "userId": "10553525024667050874"
     },
     "user_tz": 480
    },
    "id": "OyfWck6OW2fy",
    "outputId": "651667b7-e735-49d4-e271-695238c6a959"
   },
   "outputs": [
    {
     "name": "stdout",
     "output_type": "stream",
     "text": [
      "(12137, 100, 3)\n",
      "(12137,)\n"
     ]
    }
   ],
   "source": [
    "print(X.shape)\n",
    "print(y.shape)"
   ]
  },
  {
   "cell_type": "markdown",
   "metadata": {
    "id": "9BN9AAoX4_Um"
   },
   "source": [
    "Plot a random clean segment."
   ]
  },
  {
   "cell_type": "code",
   "execution_count": null,
   "metadata": {
    "colab": {
     "base_uri": "https://localhost:8080/",
     "height": 226
    },
    "executionInfo": {
     "elapsed": 11,
     "status": "ok",
     "timestamp": 1636834573098,
     "user": {
      "displayName": "Glenn",
      "photoUrl": "https://lh3.googleusercontent.com/a-/AOh14GjykiG4UrEIFJrppAQQSHHr3TjS4DL1ZBM99aAAdg=s64",
      "userId": "10553525024667050874"
     },
     "user_tz": 480
    },
    "id": "zDfKpT8A4_Um",
    "outputId": "2fd11cad-3b65-476d-9b72-116deecec9f4"
   },
   "outputs": [
    {
     "data": {
      "image/png": "[encoded data removed]",
      "text/plain": [
       "<Figure size 432x216 with 1 Axes>"
      ]
     },
     "metadata": {
      "needs_background": "light"
     },
     "output_type": "display_data"
    }
   ],
   "source": [
    "plt.figure(figsize=(6,3))\n",
    "i = np.random.choice(X.shape[0])\n",
    "plt.plot(X[i])\n",
    "plt.title(activity_names[y[i]]);"
   ]
  },
  {
   "cell_type": "markdown",
   "metadata": {
    "id": "w6gdtn45WzLc"
   },
   "source": [
    "### Prepare data for machine learning\n",
    "\n",
    "Perform any further preprocessing, then do a train/test split."
   ]
  },
  {
   "cell_type": "code",
   "execution_count": null,
   "metadata": {
    "id": "Qs2mJx0mVy1l"
   },
   "outputs": [],
   "source": [
    "X_train, X_test, y_train, y_test = train_test_split(X, y, test_size=0.3, random_state=42)"
   ]
  },
  {
   "cell_type": "code",
   "execution_count": null,
   "metadata": {
    "colab": {
     "base_uri": "https://localhost:8080/"
    },
    "executionInfo": {
     "elapsed": 10,
     "status": "ok",
     "timestamp": 1636834573486,
     "user": {
      "displayName": "Glenn",
      "photoUrl": "https://lh3.googleusercontent.com/a-/AOh14GjykiG4UrEIFJrppAQQSHHr3TjS4DL1ZBM99aAAdg=s64",
      "userId": "10553525024667050874"
     },
     "user_tz": 480
    },
    "id": "CqwAR2DMXorl",
    "outputId": "ba3341e5-8725-47a4-d3fc-7218f4eed93d"
   },
   "outputs": [
    {
     "name": "stdout",
     "output_type": "stream",
     "text": [
      "(8495, 100, 3) (8495,)\n",
      "(3642, 100, 3) (3642,)\n"
     ]
    }
   ],
   "source": [
    "print(X_train.shape, y_train.shape)\n",
    "print(X_test.shape, y_test.shape)"
   ]
  },
  {
   "cell_type": "markdown",
   "metadata": {
    "id": "vyFjunOTRKX8"
   },
   "source": [
    "Check the target values."
   ]
  },
  {
   "cell_type": "code",
   "execution_count": null,
   "metadata": {
    "colab": {
     "base_uri": "https://localhost:8080/"
    },
    "executionInfo": {
     "elapsed": 303,
     "status": "ok",
     "timestamp": 1636834576065,
     "user": {
      "displayName": "Glenn",
      "photoUrl": "https://lh3.googleusercontent.com/a-/AOh14GjykiG4UrEIFJrppAQQSHHr3TjS4DL1ZBM99aAAdg=s64",
      "userId": "10553525024667050874"
     },
     "user_tz": 480
    },
    "id": "UQFrBAeaQUxM",
    "outputId": "39bffbb3-9434-4694-98a7-77b7fd1ed66f"
   },
   "outputs": [
    {
     "name": "stdout",
     "output_type": "stream",
     "text": [
      "(array([0, 1, 2, 3, 4, 5, 6]), array([2190,  333, 1443, 1621,  263,  131, 2514]))\n",
      "(array([0, 1, 2, 3, 4, 5, 6]), array([ 955,  139,  670,  700,  102,   51, 1025]))\n"
     ]
    }
   ],
   "source": [
    "print(np.unique(y_train, return_counts=True))\n",
    "print(np.unique(y_test, return_counts=True))"
   ]
  },
  {
   "cell_type": "markdown",
   "metadata": {
    "id": "AlmRdKFi4_Up"
   },
   "source": [
    "### Machine learning"
   ]
  },
  {
   "cell_type": "markdown",
   "metadata": {
    "id": "yM1Rm5Mp4_Up"
   },
   "source": [
    "The goal is to predict the activity of a training example.  This is a multi-class classification problem."
   ]
  },
  {
   "cell_type": "code",
   "execution_count": null,
   "metadata": {
    "colab": {
     "base_uri": "https://localhost:8080/"
    },
    "executionInfo": {
     "elapsed": 395,
     "status": "ok",
     "timestamp": 1636834578517,
     "user": {
      "displayName": "Glenn",
      "photoUrl": "https://lh3.googleusercontent.com/a-/AOh14GjykiG4UrEIFJrppAQQSHHr3TjS4DL1ZBM99aAAdg=s64",
      "userId": "10553525024667050874"
     },
     "user_tz": 480
    },
    "id": "n14qG63e4_Up",
    "outputId": "a560dd73-3228-4a4d-ec9e-06fd7d9e1c05"
   },
   "outputs": [
    {
     "name": "stdout",
     "output_type": "stream",
     "text": [
      "baseline accuracy: 0.2581\n"
     ]
    }
   ],
   "source": [
    "# to get baseline accuracy, always predict the most common activity\n",
    "counts = df['activity'].value_counts()/df.shape[0]\n",
    "print('baseline accuracy: {:0.4f}'.format(counts[0]))"
   ]
  },
  {
   "cell_type": "markdown",
   "metadata": {
    "id": "tZQPp521a1y1"
   },
   "source": [
    "This is to help ensure that a standard data set is being used."
   ]
  },
  {
   "cell_type": "code",
   "execution_count": null,
   "metadata": {
    "colab": {
     "base_uri": "https://localhost:8080/"
    },
    "executionInfo": {
     "elapsed": 300,
     "status": "ok",
     "timestamp": 1636834586365,
     "user": {
      "displayName": "Glenn",
      "photoUrl": "https://lh3.googleusercontent.com/a-/AOh14GjykiG4UrEIFJrppAQQSHHr3TjS4DL1ZBM99aAAdg=s64",
      "userId": "10553525024667050874"
     },
     "user_tz": 480
    },
    "id": "IgDSWJC4atFK",
    "outputId": "aaea72cd-fa9e-4bcc-e27a-98de54303072"
   },
   "outputs": [
    {
     "name": "stdout",
     "output_type": "stream",
     "text": [
      "(8495, 100, 3) (8495,)\n",
      "5483020712.0 2350871716.0\n"
     ]
    }
   ],
   "source": [
    "print(X_train.shape, y_train.shape)\n",
    "print(X_train.sum(), X_test.sum())"
   ]
  },
  {
   "cell_type": "markdown",
   "metadata": {
    "id": "ZPqvqA_lYOuu"
   },
   "source": [
    "#### Recurrent models"
   ]
  },
  {
   "cell_type": "code",
   "execution_count": null,
   "metadata": {
    "id": "OLPgLIPnTFRs"
   },
   "outputs": [],
   "source": [
    "# delete any old models\n",
    "K.clear_session()"
   ]
  },
  {
   "cell_type": "markdown",
   "metadata": {
    "id": "EhC56a5VWWYM"
   },
   "source": [
    "Add your cells here.\n",
    "\n",
    "Don't forgot to compute and print the test accuracy of your best model at the end of the notebook."
   ]
  }
 ],
 "metadata": {
  "accelerator": "GPU",
  "colab": {
   "collapsed_sections": [],
   "provenance": [
    {
     "file_id": "12V3jcCeJQFp_0WSlmC5JfwXF1Hr8shMY",
     "timestamp": 1636841046853
    }
   ]
  },
  "kernelspec": {
   "display_name": "Python 3 (ipykernel)",
   "language": "python",
   "name": "python3"
  },
  "language_info": {
   "codemirror_mode": {
    "name": "ipython",
    "version": 3
   },
   "file_extension": ".py",
   "mimetype": "text/x-python",
   "name": "python",
   "nbconvert_exporter": "python",
   "pygments_lexer": "ipython3",
   "version": "3.9.18"
  }
 },
 "nbformat": 4,
 "nbformat_minor": 1
}
