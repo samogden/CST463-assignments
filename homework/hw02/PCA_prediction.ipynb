{
 "cells": [
  {
   "cell_type": "markdown",
   "metadata": {
    "id": "cGnVdhQLqXI_"
   },
   "source": [
    "## PCA and regression error on diamonds data"
   ]
  },
  {
   "cell_type": "markdown",
   "metadata": {
    "id": "aHSK5Og2qXJE"
   },
   "source": [
    "The Kaggle diamonds data set looks like a good candidate for dimensionality reduction because we know that many of the diamond features are correlated (such as the x,y,z dimensions, and number of carats).\n",
    "\n",
    "Let's see how many principal components are needed to obtain a high explained variance ratio.  Also, let's see how the number of principal components relates to test error if we use the diamonds data for a regression problem."
   ]
  },
  {
   "cell_type": "markdown",
   "metadata": {
    "id": "5Lhj5g63qXJG"
   },
   "source": [
    "### Instructions:\n",
    "- there are 10 problems for you to solve\n",
    "- replace YOUR CODE HERE with your own code\n",
    "- do not make any other changes to the code (although you can put your name beneath the title if you want)\n",
    "\n",
    "### Submission:\n",
    "- submit your edited version of this file.  Do not change the file name.\n",
    "\n",
    "### Grading:\n",
    "- each problem is worth 10 points\n",
    "- problems are graded primarily on correctness, but also on whether your code is clear, tidy, and efficient\n",
    "\n",
    "v1.1"
   ]
  },
  {
   "cell_type": "code",
   "execution_count": null,
   "metadata": {
    "id": "6g2D58gaqXJI"
   },
   "outputs": [],
   "source": [
    "import numpy as np\n",
    "import pandas as pd\n",
    "from sklearn.linear_model import LinearRegression\n",
    "from sklearn.tree import DecisionTreeRegressor\n",
    "from sklearn.model_selection import train_test_split, cross_val_score, GridSearchCV\n",
    "from sklearn.preprocessing import StandardScaler\n",
    "from sklearn.decomposition import PCA\n",
    "import matplotlib.pyplot as plt\n",
    "import seaborn as sns"
   ]
  },
  {
   "cell_type": "code",
   "execution_count": null,
   "metadata": {
    "id": "8Kq63h3UqXJJ"
   },
   "outputs": [],
   "source": [
    "np.random.seed(0)"
   ]
  },
  {
   "cell_type": "code",
   "execution_count": null,
   "metadata": {
    "id": "jr3HWnvaqXJK"
   },
   "outputs": [],
   "source": [
    "df = pd.read_csv('https://raw.githubusercontent.com/grbruns/cst383/master/diamonds.csv')\n",
    "df.drop(df.columns[0], axis=1, inplace=True)"
   ]
  },
  {
   "cell_type": "code",
   "execution_count": null,
   "metadata": {
    "colab": {
     "base_uri": "https://localhost:8080/"
    },
    "id": "E-4PsNBNqXJK",
    "outputId": "80252fed-bd06-45e7-d918-3f716ace5b12"
   },
   "outputs": [
    {
     "name": "stdout",
     "output_type": "stream",
     "text": [
      "<class 'pandas.core.frame.DataFrame'>\n",
      "RangeIndex: 53940 entries, 0 to 53939\n",
      "Data columns (total 10 columns):\n",
      " #   Column   Non-Null Count  Dtype  \n",
      "---  ------   --------------  -----  \n",
      " 0   carat    53940 non-null  float64\n",
      " 1   cut      53940 non-null  object \n",
      " 2   color    53940 non-null  object \n",
      " 3   clarity  53940 non-null  object \n",
      " 4   depth    53940 non-null  float64\n",
      " 5   table    53940 non-null  float64\n",
      " 6   price    53940 non-null  int64  \n",
      " 7   x        53940 non-null  float64\n",
      " 8   y        53940 non-null  float64\n",
      " 9   z        53940 non-null  float64\n",
      "dtypes: float64(6), int64(1), object(3)\n",
      "memory usage: 4.1+ MB\n"
     ]
    }
   ],
   "source": [
    "df.info()"
   ]
  },
  {
   "cell_type": "code",
   "execution_count": null,
   "metadata": {
    "colab": {
     "base_uri": "https://localhost:8080/",
     "height": 202
    },
    "id": "CPp810OaqXJM",
    "outputId": "41585df7-361e-46e3-df4d-17f063097044"
   },
   "outputs": [
    {
     "data": {
      "text/html": [
       "<div>\n",
       "<style scoped>\n",
       "    .dataframe tbody tr th:only-of-type {\n",
       "        vertical-align: middle;\n",
       "    }\n",
       "\n",
       "    .dataframe tbody tr th {\n",
       "        vertical-align: top;\n",
       "    }\n",
       "\n",
       "    .dataframe thead th {\n",
       "        text-align: right;\n",
       "    }\n",
       "</style>\n",
       "<table border=\"1\" class=\"dataframe\">\n",
       "  <thead>\n",
       "    <tr style=\"text-align: right;\">\n",
       "      <th></th>\n",
       "      <th>carat</th>\n",
       "      <th>cut</th>\n",
       "      <th>color</th>\n",
       "      <th>clarity</th>\n",
       "      <th>depth</th>\n",
       "      <th>table</th>\n",
       "      <th>price</th>\n",
       "      <th>x</th>\n",
       "      <th>y</th>\n",
       "      <th>z</th>\n",
       "    </tr>\n",
       "  </thead>\n",
       "  <tbody>\n",
       "    <tr>\n",
       "      <th>0</th>\n",
       "      <td>0.23</td>\n",
       "      <td>Ideal</td>\n",
       "      <td>E</td>\n",
       "      <td>SI2</td>\n",
       "      <td>61.5</td>\n",
       "      <td>55.0</td>\n",
       "      <td>326</td>\n",
       "      <td>3.95</td>\n",
       "      <td>3.98</td>\n",
       "      <td>2.43</td>\n",
       "    </tr>\n",
       "    <tr>\n",
       "      <th>1</th>\n",
       "      <td>0.21</td>\n",
       "      <td>Premium</td>\n",
       "      <td>E</td>\n",
       "      <td>SI1</td>\n",
       "      <td>59.8</td>\n",
       "      <td>61.0</td>\n",
       "      <td>326</td>\n",
       "      <td>3.89</td>\n",
       "      <td>3.84</td>\n",
       "      <td>2.31</td>\n",
       "    </tr>\n",
       "    <tr>\n",
       "      <th>2</th>\n",
       "      <td>0.23</td>\n",
       "      <td>Good</td>\n",
       "      <td>E</td>\n",
       "      <td>VS1</td>\n",
       "      <td>56.9</td>\n",
       "      <td>65.0</td>\n",
       "      <td>327</td>\n",
       "      <td>4.05</td>\n",
       "      <td>4.07</td>\n",
       "      <td>2.31</td>\n",
       "    </tr>\n",
       "    <tr>\n",
       "      <th>3</th>\n",
       "      <td>0.29</td>\n",
       "      <td>Premium</td>\n",
       "      <td>I</td>\n",
       "      <td>VS2</td>\n",
       "      <td>62.4</td>\n",
       "      <td>58.0</td>\n",
       "      <td>334</td>\n",
       "      <td>4.20</td>\n",
       "      <td>4.23</td>\n",
       "      <td>2.63</td>\n",
       "    </tr>\n",
       "    <tr>\n",
       "      <th>4</th>\n",
       "      <td>0.31</td>\n",
       "      <td>Good</td>\n",
       "      <td>J</td>\n",
       "      <td>SI2</td>\n",
       "      <td>63.3</td>\n",
       "      <td>58.0</td>\n",
       "      <td>335</td>\n",
       "      <td>4.34</td>\n",
       "      <td>4.35</td>\n",
       "      <td>2.75</td>\n",
       "    </tr>\n",
       "  </tbody>\n",
       "</table>\n",
       "</div>"
      ],
      "text/plain": [
       "   carat      cut color clarity  depth  table  price     x     y     z\n",
       "0   0.23    Ideal     E     SI2   61.5   55.0    326  3.95  3.98  2.43\n",
       "1   0.21  Premium     E     SI1   59.8   61.0    326  3.89  3.84  2.31\n",
       "2   0.23     Good     E     VS1   56.9   65.0    327  4.05  4.07  2.31\n",
       "3   0.29  Premium     I     VS2   62.4   58.0    334  4.20  4.23  2.63\n",
       "4   0.31     Good     J     SI2   63.3   58.0    335  4.34  4.35  2.75"
      ]
     },
     "execution_count": 106,
     "metadata": {},
     "output_type": "execute_result"
    }
   ],
   "source": [
    "df.head()"
   ]
  },
  {
   "cell_type": "code",
   "execution_count": null,
   "metadata": {
    "colab": {
     "base_uri": "https://localhost:8080/"
    },
    "id": "fQDwkOwYqXJN",
    "outputId": "dd0b34fb-3f94-4eb3-daf7-b3d9a05c7e8c"
   },
   "outputs": [
    {
     "name": "stdout",
     "output_type": "stream",
     "text": [
      "<class 'pandas.core.frame.DataFrame'>\n",
      "RangeIndex: 53940 entries, 0 to 53939\n",
      "Data columns (total 24 columns):\n",
      " #   Column         Non-Null Count  Dtype  \n",
      "---  ------         --------------  -----  \n",
      " 0   carat          53940 non-null  float64\n",
      " 1   depth          53940 non-null  float64\n",
      " 2   table          53940 non-null  float64\n",
      " 3   price          53940 non-null  int64  \n",
      " 4   x              53940 non-null  float64\n",
      " 5   y              53940 non-null  float64\n",
      " 6   z              53940 non-null  float64\n",
      " 7   cut_Good       53940 non-null  uint8  \n",
      " 8   cut_Ideal      53940 non-null  uint8  \n",
      " 9   cut_Premium    53940 non-null  uint8  \n",
      " 10  cut_Very Good  53940 non-null  uint8  \n",
      " 11  color_E        53940 non-null  uint8  \n",
      " 12  color_F        53940 non-null  uint8  \n",
      " 13  color_G        53940 non-null  uint8  \n",
      " 14  color_H        53940 non-null  uint8  \n",
      " 15  color_I        53940 non-null  uint8  \n",
      " 16  color_J        53940 non-null  uint8  \n",
      " 17  clarity_IF     53940 non-null  uint8  \n",
      " 18  clarity_SI1    53940 non-null  uint8  \n",
      " 19  clarity_SI2    53940 non-null  uint8  \n",
      " 20  clarity_VS1    53940 non-null  uint8  \n",
      " 21  clarity_VS2    53940 non-null  uint8  \n",
      " 22  clarity_VVS1   53940 non-null  uint8  \n",
      " 23  clarity_VVS2   53940 non-null  uint8  \n",
      "dtypes: float64(6), int64(1), uint8(17)\n",
      "memory usage: 3.8 MB\n"
     ]
    }
   ],
   "source": [
    "# convert categorical variables to numeric\n",
    "df = pd.get_dummies(df, drop_first=True)\n",
    "df.info()"
   ]
  },
  {
   "cell_type": "code",
   "execution_count": null,
   "metadata": {
    "colab": {
     "base_uri": "https://localhost:8080/",
     "height": 238
    },
    "id": "QN0KlyaVqXJN",
    "outputId": "4bf2c794-6bf9-446f-c218-7c60481e2b4f"
   },
   "outputs": [
    {
     "data": {
      "text/html": [
       "<div>\n",
       "<style scoped>\n",
       "    .dataframe tbody tr th:only-of-type {\n",
       "        vertical-align: middle;\n",
       "    }\n",
       "\n",
       "    .dataframe tbody tr th {\n",
       "        vertical-align: top;\n",
       "    }\n",
       "\n",
       "    .dataframe thead th {\n",
       "        text-align: right;\n",
       "    }\n",
       "</style>\n",
       "<table border=\"1\" class=\"dataframe\">\n",
       "  <thead>\n",
       "    <tr style=\"text-align: right;\">\n",
       "      <th></th>\n",
       "      <th>carat</th>\n",
       "      <th>depth</th>\n",
       "      <th>table</th>\n",
       "      <th>price</th>\n",
       "      <th>x</th>\n",
       "      <th>y</th>\n",
       "      <th>z</th>\n",
       "      <th>cut_Good</th>\n",
       "      <th>cut_Ideal</th>\n",
       "      <th>cut_Premium</th>\n",
       "      <th>cut_Very Good</th>\n",
       "      <th>color_E</th>\n",
       "      <th>color_F</th>\n",
       "      <th>color_G</th>\n",
       "      <th>color_H</th>\n",
       "      <th>color_I</th>\n",
       "      <th>color_J</th>\n",
       "      <th>clarity_IF</th>\n",
       "      <th>clarity_SI1</th>\n",
       "      <th>clarity_SI2</th>\n",
       "      <th>clarity_VS1</th>\n",
       "      <th>clarity_VS2</th>\n",
       "      <th>clarity_VVS1</th>\n",
       "      <th>clarity_VVS2</th>\n",
       "    </tr>\n",
       "  </thead>\n",
       "  <tbody>\n",
       "    <tr>\n",
       "      <th>0</th>\n",
       "      <td>0.23</td>\n",
       "      <td>61.5</td>\n",
       "      <td>55.0</td>\n",
       "      <td>326</td>\n",
       "      <td>3.95</td>\n",
       "      <td>3.98</td>\n",
       "      <td>2.43</td>\n",
       "      <td>0</td>\n",
       "      <td>1</td>\n",
       "      <td>0</td>\n",
       "      <td>0</td>\n",
       "      <td>1</td>\n",
       "      <td>0</td>\n",
       "      <td>0</td>\n",
       "      <td>0</td>\n",
       "      <td>0</td>\n",
       "      <td>0</td>\n",
       "      <td>0</td>\n",
       "      <td>0</td>\n",
       "      <td>1</td>\n",
       "      <td>0</td>\n",
       "      <td>0</td>\n",
       "      <td>0</td>\n",
       "      <td>0</td>\n",
       "    </tr>\n",
       "    <tr>\n",
       "      <th>1</th>\n",
       "      <td>0.21</td>\n",
       "      <td>59.8</td>\n",
       "      <td>61.0</td>\n",
       "      <td>326</td>\n",
       "      <td>3.89</td>\n",
       "      <td>3.84</td>\n",
       "      <td>2.31</td>\n",
       "      <td>0</td>\n",
       "      <td>0</td>\n",
       "      <td>1</td>\n",
       "      <td>0</td>\n",
       "      <td>1</td>\n",
       "      <td>0</td>\n",
       "      <td>0</td>\n",
       "      <td>0</td>\n",
       "      <td>0</td>\n",
       "      <td>0</td>\n",
       "      <td>0</td>\n",
       "      <td>1</td>\n",
       "      <td>0</td>\n",
       "      <td>0</td>\n",
       "      <td>0</td>\n",
       "      <td>0</td>\n",
       "      <td>0</td>\n",
       "    </tr>\n",
       "    <tr>\n",
       "      <th>2</th>\n",
       "      <td>0.23</td>\n",
       "      <td>56.9</td>\n",
       "      <td>65.0</td>\n",
       "      <td>327</td>\n",
       "      <td>4.05</td>\n",
       "      <td>4.07</td>\n",
       "      <td>2.31</td>\n",
       "      <td>1</td>\n",
       "      <td>0</td>\n",
       "      <td>0</td>\n",
       "      <td>0</td>\n",
       "      <td>1</td>\n",
       "      <td>0</td>\n",
       "      <td>0</td>\n",
       "      <td>0</td>\n",
       "      <td>0</td>\n",
       "      <td>0</td>\n",
       "      <td>0</td>\n",
       "      <td>0</td>\n",
       "      <td>0</td>\n",
       "      <td>1</td>\n",
       "      <td>0</td>\n",
       "      <td>0</td>\n",
       "      <td>0</td>\n",
       "    </tr>\n",
       "    <tr>\n",
       "      <th>3</th>\n",
       "      <td>0.29</td>\n",
       "      <td>62.4</td>\n",
       "      <td>58.0</td>\n",
       "      <td>334</td>\n",
       "      <td>4.20</td>\n",
       "      <td>4.23</td>\n",
       "      <td>2.63</td>\n",
       "      <td>0</td>\n",
       "      <td>0</td>\n",
       "      <td>1</td>\n",
       "      <td>0</td>\n",
       "      <td>0</td>\n",
       "      <td>0</td>\n",
       "      <td>0</td>\n",
       "      <td>0</td>\n",
       "      <td>1</td>\n",
       "      <td>0</td>\n",
       "      <td>0</td>\n",
       "      <td>0</td>\n",
       "      <td>0</td>\n",
       "      <td>0</td>\n",
       "      <td>1</td>\n",
       "      <td>0</td>\n",
       "      <td>0</td>\n",
       "    </tr>\n",
       "    <tr>\n",
       "      <th>4</th>\n",
       "      <td>0.31</td>\n",
       "      <td>63.3</td>\n",
       "      <td>58.0</td>\n",
       "      <td>335</td>\n",
       "      <td>4.34</td>\n",
       "      <td>4.35</td>\n",
       "      <td>2.75</td>\n",
       "      <td>1</td>\n",
       "      <td>0</td>\n",
       "      <td>0</td>\n",
       "      <td>0</td>\n",
       "      <td>0</td>\n",
       "      <td>0</td>\n",
       "      <td>0</td>\n",
       "      <td>0</td>\n",
       "      <td>0</td>\n",
       "      <td>1</td>\n",
       "      <td>0</td>\n",
       "      <td>0</td>\n",
       "      <td>1</td>\n",
       "      <td>0</td>\n",
       "      <td>0</td>\n",
       "      <td>0</td>\n",
       "      <td>0</td>\n",
       "    </tr>\n",
       "  </tbody>\n",
       "</table>\n",
       "</div>"
      ],
      "text/plain": [
       "   carat  depth  table  ...  clarity_VS2  clarity_VVS1  clarity_VVS2\n",
       "0   0.23   61.5   55.0  ...            0             0             0\n",
       "1   0.21   59.8   61.0  ...            0             0             0\n",
       "2   0.23   56.9   65.0  ...            0             0             0\n",
       "3   0.29   62.4   58.0  ...            1             0             0\n",
       "4   0.31   63.3   58.0  ...            0             0             0\n",
       "\n",
       "[5 rows x 24 columns]"
      ]
     },
     "execution_count": 108,
     "metadata": {},
     "output_type": "execute_result"
    }
   ],
   "source": [
    "df.head()"
   ]
  },
  {
   "cell_type": "code",
   "execution_count": null,
   "metadata": {
    "colab": {
     "base_uri": "https://localhost:8080/",
     "height": 281
    },
    "id": "Pkpt4ofX_kLx",
    "outputId": "68d2d732-9ded-42a1-f306-62907c187bc0"
   },
   "outputs": [
    {
     "data": {
      "image/png": "[encoded data removed]",
      "text/plain": [
       "<Figure size 432x288 with 1 Axes>"
      ]
     },
     "metadata": {
      "needs_background": "light"
     },
     "output_type": "display_data"
    }
   ],
   "source": [
    "df['price'].plot.hist()\n",
    "plt.title('Histogram of diamond prices');"
   ]
  },
  {
   "cell_type": "markdown",
   "metadata": {
    "id": "_JH_5t6yqXJN"
   },
   "source": [
    "### Preprocess data"
   ]
  },
  {
   "cell_type": "code",
   "execution_count": null,
   "metadata": {
    "colab": {
     "base_uri": "https://localhost:8080/"
    },
    "id": "ICGbVgaNqXJO",
    "outputId": "884b27ea-7836-4c6a-d2cd-5c7ad48e3648"
   },
   "outputs": [
    {
     "name": "stdout",
     "output_type": "stream",
     "text": [
      "['carat', 'depth', 'table', 'x', 'y', 'z', 'cut_Good', 'cut_Ideal', 'cut_Premium', 'cut_Very Good', 'color_E', 'color_F', 'color_G', 'color_H', 'color_I', 'color_J', 'clarity_IF', 'clarity_SI1', 'clarity_SI2', 'clarity_VS1', 'clarity_VS2', 'clarity_VVS1', 'clarity_VVS2']\n",
      "(53940, 23)\n"
     ]
    }
   ],
   "source": [
    "target = 'price'\n",
    "predictors = list(df.columns)\n",
    "predictors.remove(target)\n",
    "\n",
    "X = df[predictors].values\n",
    "y = df[target].values\n",
    "\n",
    "print(predictors)\n",
    "print(X.shape)"
   ]
  },
  {
   "cell_type": "markdown",
   "metadata": {
    "id": "E6LBnWUlqXJO"
   },
   "source": [
    "### Apply PCA"
   ]
  },
  {
   "cell_type": "markdown",
   "metadata": {
    "id": "mWvSFFfCqXJP"
   },
   "source": [
    "#### Problem 1\n",
    "\n",
    "Apply PCA to X.  Compute the cumulative sum of the explained variance ratio for the number of principal components, and assign the result to variable `cumsum`.  Note the 'explained_variance_ratio_' attribute of a PCA object."
   ]
  },
  {
   "cell_type": "code",
   "execution_count": null,
   "metadata": {
    "id": "-NNUmyCEqXJP"
   },
   "outputs": [],
   "source": [
    "# YOUR CODE HERE"
   ]
  },
  {
   "cell_type": "code",
   "execution_count": null,
   "metadata": {
    "colab": {
     "base_uri": "https://localhost:8080/"
    },
    "id": "HdnHfuQjqXJP",
    "outputId": "42fd2880-0d4d-43c5-fbf1-45739375a2cc"
   },
   "outputs": [
    {
     "name": "stdout",
     "output_type": "stream",
     "text": [
      "[0.446 0.688 0.83  0.849 0.867 0.885 0.902 0.917 0.931 0.943 0.955 0.964\n",
      " 0.972 0.98  0.985 0.99  0.993 0.996 0.997 0.999 0.999 1.    1.   ]\n"
     ]
    }
   ],
   "source": [
    "print(np.round(cumsum, decimals=3))"
   ]
  },
  {
   "cell_type": "markdown",
   "metadata": {
    "id": "00IW7CW8qXJP"
   },
   "source": [
    "We are interested in the number of components needed to reach a value of explained variance ratio close to one, and also whether there is a clear elbow in the curve."
   ]
  },
  {
   "cell_type": "markdown",
   "metadata": {
    "id": "yoDrTtmCqXJP"
   },
   "source": [
    "#### Problem 2\n",
    "\n",
    "Plot the cumulative explained variance ratio (y axis) as a function of the number of principal components (x axis)."
   ]
  },
  {
   "cell_type": "code",
   "execution_count": null,
   "metadata": {
    "id": "clS3t8ymqXJQ"
   },
   "outputs": [],
   "source": [
    "# YOUR CODE HERE"
   ]
  },
  {
   "cell_type": "markdown",
   "metadata": {
    "id": "_PQ0dAUEqXJQ"
   },
   "source": [
    "### Reduce the data as needed to achieve at least 0.95 explained variance ratio"
   ]
  },
  {
   "cell_type": "markdown",
   "metadata": {
    "id": "gqkr6NoeqXJQ"
   },
   "source": [
    "#### Problem 3\n",
    "\n",
    "Compute NumPy array X_reduced, which is a PCA-reduced version of X with just enough of the principal components used to reach at least 0.95 explained variance ratio."
   ]
  },
  {
   "cell_type": "code",
   "execution_count": null,
   "metadata": {
    "id": "GizZM9guqXJQ"
   },
   "outputs": [],
   "source": [
    "# YOUR CODE HERE"
   ]
  },
  {
   "cell_type": "code",
   "execution_count": null,
   "metadata": {
    "id": "tqlWOCI2qXJQ"
   },
   "outputs": [],
   "source": [
    "print('Number of principal components needed for 0.95 explained variance ratio: ', X_reduced.shape[1])"
   ]
  },
  {
   "cell_type": "markdown",
   "metadata": {
    "id": "SrjeRVc_qXJR"
   },
   "source": [
    "### Predict price with linear regression; full data set.\n",
    "\n",
    "Note: In this notebook we apply PCA then do a test/train split.  In class we discussed that it is better to first do the test train split, then fit the PCA on the training data, then transform the training and test data with the fitted PCA object."
   ]
  },
  {
   "cell_type": "markdown",
   "metadata": {},
   "source": [
    "Perform a test/train split on the original data set (before PCA)."
   ]
  },
  {
   "cell_type": "code",
   "execution_count": null,
   "metadata": {
    "id": "_WTNG3CaqXJR"
   },
   "outputs": [],
   "source": [
    "X_train, X_test, y_train, y_test = train_test_split(X, y, test_size=0.3, random_state=0)"
   ]
  },
  {
   "cell_type": "markdown",
   "metadata": {
    "id": "IwIMEbSGqXJR"
   },
   "source": [
    "#### Problem 4\n",
    "\n",
    "Fit a linear regression model on the original training set. Compute RMSE on the original test set, and assign it to variable `rmse`."
   ]
  },
  {
   "cell_type": "code",
   "execution_count": null,
   "metadata": {
    "id": "gn0HcBD_qXJR"
   },
   "outputs": [],
   "source": [
    "# YOUR CODE HERE"
   ]
  },
  {
   "cell_type": "code",
   "execution_count": null,
   "metadata": {
    "id": "l4suJz8_qXJR"
   },
   "outputs": [],
   "source": [
    "print('RMSE: {:.1f}'.format(rmse))\n",
    "print('R squared: {:.3f}'.format(regr.score(X_test, y_test)))"
   ]
  },
  {
   "cell_type": "markdown",
   "metadata": {
    "id": "e5uCz7IzqXJS"
   },
   "source": [
    "### Predict price with linear regression; reduced data set."
   ]
  },
  {
   "cell_type": "markdown",
   "metadata": {},
   "source": [
    "Perform a test/train split on the reduced data set."
   ]
  },
  {
   "cell_type": "code",
   "execution_count": null,
   "metadata": {
    "id": "1K3BgT2ZqXJS"
   },
   "outputs": [],
   "source": [
    "X_train, X_test, y_train, y_test = train_test_split(X_reduced, y, test_size=0.3, random_state=0)"
   ]
  },
  {
   "cell_type": "markdown",
   "metadata": {
    "id": "DkscYSvaqXJS"
   },
   "source": [
    "#### Problem 5\n",
    "\n",
    "Fit a linear regression model on the reduced training set. Compute RMSE on the reduced test set, and assign it to variable `rmse`."
   ]
  },
  {
   "cell_type": "code",
   "execution_count": null,
   "metadata": {
    "id": "3bz0jsbzqXJS"
   },
   "outputs": [],
   "source": [
    "# YOUR CODE HERE"
   ]
  },
  {
   "cell_type": "markdown",
   "metadata": {
    "id": "cvU7YMMiqXJS"
   },
   "source": [
    "We see a significant increase in error when using the reduced data."
   ]
  },
  {
   "cell_type": "code",
   "execution_count": null,
   "metadata": {
    "id": "VRRehyUBqXJS"
   },
   "outputs": [],
   "source": [
    "print('RMSE: {:.1f}'.format(rmse))\n",
    "print('R squared: {:.3f}'.format(regr.score(X_test, y_test)))"
   ]
  },
  {
   "cell_type": "markdown",
   "metadata": {
    "id": "vvbwSQ-FqXJT"
   },
   "source": [
    "### Plot RMSE as a function of the number of principal components"
   ]
  },
  {
   "cell_type": "markdown",
   "metadata": {
    "id": "gttyAUSAqXJT"
   },
   "source": [
    "PCA is an unsupervised learning method: it does not reduce dimensionality in a way that takes into account what we want to do with the data.\n",
    "Let's see how test error with linear regression changes as a function of the number of principal components that are used."
   ]
  },
  {
   "cell_type": "markdown",
   "metadata": {
    "id": "TeDT_F9FqXJT"
   },
   "source": [
    "#### Problem 6\n",
    "\n",
    "Compute two lists (or arrays):\n",
    "- **num_components**, which will contain the numbers from 1 to the number of columns in X\n",
    "- **rmses**, which will contain the cross-validated RMSEs for the corresponding value in num_components.\n",
    "\n",
    "For example, the first value in num_components will be 1, and the first value in `rmses` will be the CV RMSE for the predictions of linear regression when trained on the first principal component.\n",
    "\n",
    "I imagine you will write a loop.\n",
    "\n",
    "DO NOT use PCA to fit or transform **within** the loop -- it does not need to be done in the loop and will slow things down a lot."
   ]
  },
  {
   "cell_type": "code",
   "execution_count": null,
   "metadata": {
    "id": "b6ZmOduGqXJT"
   },
   "outputs": [],
   "source": [
    "# YOUR CODE HERE"
   ]
  },
  {
   "cell_type": "markdown",
   "metadata": {
    "id": "cVRl_xfPqXJT"
   },
   "source": [
    "This plot is interesting.  It shows an elbow but at a different number of principal components than in the plot of explained variance ratio."
   ]
  },
  {
   "cell_type": "code",
   "execution_count": null,
   "metadata": {
    "id": "Gh66Wx57qXJT"
   },
   "outputs": [],
   "source": [
    "plt.plot(num_components, rmses)\n",
    "plt.title('Test RMSE by number of principal components, linear regression')\n",
    "plt.xlabel('Number of principal components')\n",
    "plt.ylabel('RMSE');"
   ]
  },
  {
   "cell_type": "markdown",
   "metadata": {
    "id": "hmKqfOuEqXJU"
   },
   "source": [
    "### Use a regression tree to predict price.\n",
    "\n",
    "We just looked at the effect of dimensionality reduction on the performance of linear regression.  Now let's see how dimensionality reduction impacts the performance of a regression tree."
   ]
  },
  {
   "cell_type": "markdown",
   "metadata": {
    "id": "lnilmabwqXJU"
   },
   "source": [
    "Regression trees have some hyperparameters, but let's start with using default values.  "
   ]
  },
  {
   "cell_type": "code",
   "execution_count": null,
   "metadata": {
    "id": "jHC8fl63qXJU"
   },
   "outputs": [],
   "source": [
    "X_train, X_test, y_train, y_test = train_test_split(X, y, test_size=0.25, random_state=0)"
   ]
  },
  {
   "cell_type": "markdown",
   "metadata": {
    "id": "TL_cmj_FqXJU"
   },
   "source": [
    "#### Problem 7\n",
    "\n",
    "Create a regression tree.  Use the default hyperparameters.  Train your regressor, make predictions on the test data, and compute test RMSE as variable rmse.\n",
    "\n",
    "This is similar to problem 4, but for a regression tree."
   ]
  },
  {
   "cell_type": "code",
   "execution_count": null,
   "metadata": {
    "id": "UV-7EDywqXJU"
   },
   "outputs": [],
   "source": [
    "# YOUR CODE HERE"
   ]
  },
  {
   "cell_type": "code",
   "execution_count": null,
   "metadata": {
    "id": "LBx7nrm_qXJU"
   },
   "outputs": [],
   "source": [
    "print('RMSE: {:.1f}'.format(rmse))\n",
    "print('R squared: {:.3f}'.format(regr.score(X_test, y_test)))"
   ]
  },
  {
   "cell_type": "markdown",
   "metadata": {
    "id": "B6EzaSacqXJV"
   },
   "source": [
    "Let's try again, but with a possibly deeper tree."
   ]
  },
  {
   "cell_type": "markdown",
   "metadata": {
    "id": "RB2L6FHtqXJV"
   },
   "source": [
    "#### Problem 8\n",
    "\n",
    "This is the same as the last problem, but use 10 for max depth."
   ]
  },
  {
   "cell_type": "code",
   "execution_count": null,
   "metadata": {
    "id": "I63L6B3nqXJV"
   },
   "outputs": [],
   "source": [
    "# YOUR CODE HERE"
   ]
  },
  {
   "cell_type": "markdown",
   "metadata": {
    "id": "aGc38XmXqXJV"
   },
   "source": [
    "The result is about the same as before."
   ]
  },
  {
   "cell_type": "code",
   "execution_count": null,
   "metadata": {
    "id": "9OaGiz_0qXJV"
   },
   "outputs": [],
   "source": [
    "print('RMSE: {:.1f}'.format(rmse))\n",
    "print('R squared: {:.3f}'.format(regr.score(X_test, y_test)))"
   ]
  },
  {
   "cell_type": "markdown",
   "metadata": {
    "id": "MTKna6nqqXJW"
   },
   "source": [
    "#### Problem 9\n",
    "\n",
    "Do the same thing as in Problem 6, but with a regression tree.  Use the default hyperparameter values.\n",
    "\n"
   ]
  },
  {
   "cell_type": "code",
   "execution_count": null,
   "metadata": {
    "id": "zG-MXSwjqXJW"
   },
   "outputs": [],
   "source": [
    "# YOUR CODE HERE"
   ]
  },
  {
   "cell_type": "code",
   "execution_count": null,
   "metadata": {
    "id": "kGvcPl8s1zK_"
   },
   "outputs": [],
   "source": [
    "plt.plot(num_components, rmses)\n",
    "plt.title('Test RMSE by number of principal components, regression tree')\n",
    "plt.xlabel('Number of principal components')\n",
    "plt.ylabel('RMSE');"
   ]
  },
  {
   "cell_type": "markdown",
   "metadata": {
    "id": "C7X3uWtU-JNX"
   },
   "source": [
    "#### Problem 10\n",
    "\n",
    "For fun, lets look at the diamonds values in 2D using the first two features of the data that was transformed with PCA.\n",
    "\n",
    "Use the price of the diamond to control the color of each point."
   ]
  },
  {
   "cell_type": "code",
   "execution_count": null,
   "metadata": {
    "id": "-tIj7fRo-DCh"
   },
   "outputs": [],
   "source": [
    "# YOUR CODE HERE"
   ]
  }
 ],
 "metadata": {
  "colab": {
   "collapsed_sections": [],
   "name": "PCA_prediction.ipynb",
   "provenance": []
  },
  "kernelspec": {
   "display_name": "Python 3 (ipykernel)",
   "language": "python",
   "name": "python3"
  },
  "language_info": {
   "codemirror_mode": {
    "name": "ipython",
    "version": 3
   },
   "file_extension": ".py",
   "mimetype": "text/x-python",
   "name": "python",
   "nbconvert_exporter": "python",
   "pygments_lexer": "ipython3",
   "version": "3.8.8"
  }
 },
 "nbformat": 4,
 "nbformat_minor": 1
}
