{
 "cells": [
  {
   "cell_type": "markdown",
   "metadata": {
    "id": "L_urr6Rhnp27"
   },
   "source": [
    "# Keras Feedforward 2 - lab (solutions)"
   ]
  },
  {
   "cell_type": "code",
   "execution_count": 60,
   "metadata": {
    "executionInfo": {
     "elapsed": 204,
     "status": "ok",
     "timestamp": 1634686506677,
     "user": {
      "displayName": "Glenn",
      "photoUrl": "https://lh3.googleusercontent.com/a-/AOh14GjykiG4UrEIFJrppAQQSHHr3TjS4DL1ZBM99aAAdg=s64",
      "userId": "10553525024667050874"
     },
     "user_tz": 420
    },
    "id": "pr-tWPcbnTaN"
   },
   "outputs": [],
   "source": [
    "import numpy as np\n",
    "import pandas as pd\n",
    "from tensorflow.keras import models, layers, Input, Model\n",
    "from tensorflow.keras import backend as K\n",
    "from tensorflow.keras.optimizers import SGD\n",
    "from tensorflow.keras.utils import plot_model\n",
    "from sklearn.datasets import make_regression\n",
    "from sklearn.model_selection import train_test_split\n",
    "from sklearn.preprocessing import StandardScaler\n",
    "from sklearn.linear_model import LinearRegression\n",
    "import matplotlib.pyplot as plt"
   ]
  },
  {
   "cell_type": "code",
   "execution_count": 61,
   "metadata": {
    "executionInfo": {
     "elapsed": 216,
     "status": "ok",
     "timestamp": 1634686508883,
     "user": {
      "displayName": "Glenn",
      "photoUrl": "https://lh3.googleusercontent.com/a-/AOh14GjykiG4UrEIFJrppAQQSHHr3TjS4DL1ZBM99aAAdg=s64",
      "userId": "10553525024667050874"
     },
     "user_tz": 420
    },
    "id": "96Qk1yNpuUPN"
   },
   "outputs": [],
   "source": [
    "def plot_loss(history):\n",
    "    \"\"\" Plot training, test loss. \"\"\"\n",
    "    \n",
    "    plt.plot(history.history['loss'])\n",
    "    plt.plot(history.history['val_loss'])\n",
    "    plt.title('model loss')\n",
    "    plt.ylabel('loss')\n",
    "    plt.xlabel('epoch')\n",
    "    plt.legend(['train', 'test'])\n",
    "    plt.show();"
   ]
  },
  {
   "cell_type": "markdown",
   "metadata": {
    "id": "ZRCGT8hzoLKU"
   },
   "source": [
    "### Read and preprocess the data."
   ]
  },
  {
   "cell_type": "code",
   "execution_count": 62,
   "metadata": {
    "executionInfo": {
     "elapsed": 194,
     "status": "ok",
     "timestamp": 1634686513924,
     "user": {
      "displayName": "Glenn",
      "photoUrl": "https://lh3.googleusercontent.com/a-/AOh14GjykiG4UrEIFJrppAQQSHHr3TjS4DL1ZBM99aAAdg=s64",
      "userId": "10553525024667050874"
     },
     "user_tz": 420
    },
    "id": "E39nWlwloFYa"
   },
   "outputs": [],
   "source": [
    "X,y = make_regression(n_samples=5000, n_features=5, n_informative=5, noise=2)"
   ]
  },
  {
   "cell_type": "markdown",
   "metadata": {
    "id": "CqJAGMsRs6Ju"
   },
   "source": [
    "Train/test split, then scale the predictors."
   ]
  },
  {
   "cell_type": "code",
   "execution_count": 63,
   "metadata": {
    "executionInfo": {
     "elapsed": 231,
     "status": "ok",
     "timestamp": 1634686515414,
     "user": {
      "displayName": "Glenn",
      "photoUrl": "https://lh3.googleusercontent.com/a-/AOh14GjykiG4UrEIFJrppAQQSHHr3TjS4DL1ZBM99aAAdg=s64",
      "userId": "10553525024667050874"
     },
     "user_tz": 420
    },
    "id": "rJ-9ECyeqUiZ"
   },
   "outputs": [],
   "source": [
    "X_train, X_test, y_train, y_test = train_test_split(X, y, test_size=0.25, random_state=42)"
   ]
  },
  {
   "cell_type": "code",
   "execution_count": 64,
   "metadata": {
    "executionInfo": {
     "elapsed": 219,
     "status": "ok",
     "timestamp": 1634686517544,
     "user": {
      "displayName": "Glenn",
      "photoUrl": "https://lh3.googleusercontent.com/a-/AOh14GjykiG4UrEIFJrppAQQSHHr3TjS4DL1ZBM99aAAdg=s64",
      "userId": "10553525024667050874"
     },
     "user_tz": 420
    },
    "id": "voazl454r_WK"
   },
   "outputs": [],
   "source": [
    "scaler = StandardScaler()\n",
    "scaler.fit(X_train)\n",
    "X_train = scaler.transform(X_train)\n",
    "X_test = scaler.transform(X_test)"
   ]
  },
  {
   "cell_type": "markdown",
   "metadata": {
    "id": "dhMr2zZ7tFIT"
   },
   "source": [
    "Sanity check."
   ]
  },
  {
   "cell_type": "code",
   "execution_count": 65,
   "metadata": {
    "colab": {
     "base_uri": "https://localhost:8080/"
    },
    "executionInfo": {
     "elapsed": 229,
     "status": "ok",
     "timestamp": 1634686519492,
     "user": {
      "displayName": "Glenn",
      "photoUrl": "https://lh3.googleusercontent.com/a-/AOh14GjykiG4UrEIFJrppAQQSHHr3TjS4DL1ZBM99aAAdg=s64",
      "userId": "10553525024667050874"
     },
     "user_tz": 420
    },
    "id": "zhPa6N3nsmUj",
    "outputId": "f7cbb217-ad6e-4b20-ded2-345f97b00ab7"
   },
   "outputs": [
    {
     "name": "stdout",
     "output_type": "stream",
     "text": [
      "(3750, 5)\n",
      "(3750,)\n"
     ]
    }
   ],
   "source": [
    "print(X_train.shape)\n",
    "print(y_train.shape)"
   ]
  },
  {
   "cell_type": "markdown",
   "metadata": {
    "id": "UK_xh_CwtN3k"
   },
   "source": [
    "### Logistic regression with a neural net"
   ]
  },
  {
   "cell_type": "code",
   "execution_count": 66,
   "metadata": {
    "executionInfo": {
     "elapsed": 205,
     "status": "ok",
     "timestamp": 1634686521800,
     "user": {
      "displayName": "Glenn",
      "photoUrl": "https://lh3.googleusercontent.com/a-/AOh14GjykiG4UrEIFJrppAQQSHHr3TjS4DL1ZBM99aAAdg=s64",
      "userId": "10553525024667050874"
     },
     "user_tz": 420
    },
    "id": "gcuQYjLDtDcp"
   },
   "outputs": [],
   "source": [
    "# delete any old models\n",
    "K.clear_session()"
   ]
  },
  {
   "cell_type": "markdown",
   "metadata": {
    "id": "Qqud5GkFtyxI"
   },
   "source": [
    "Build and compile the model.  Note that there is no activation in the final layer."
   ]
  },
  {
   "cell_type": "code",
   "execution_count": 67,
   "metadata": {
    "executionInfo": {
     "elapsed": 173,
     "status": "ok",
     "timestamp": 1634686523969,
     "user": {
      "displayName": "Glenn",
      "photoUrl": "https://lh3.googleusercontent.com/a-/AOh14GjykiG4UrEIFJrppAQQSHHr3TjS4DL1ZBM99aAAdg=s64",
      "userId": "10553525024667050874"
     },
     "user_tz": 420
    },
    "id": "tTfwX5QWtUmi"
   },
   "outputs": [],
   "source": [
    "input_size = X.shape[1]\n",
    "model = models.Sequential()\n",
    "model.add(Input(shape=(input_size,)))\n",
    "model.add(layers.Dense(1))"
   ]
  },
  {
   "cell_type": "code",
   "execution_count": 54,
   "metadata": {
    "colab": {
     "base_uri": "https://localhost:8080/"
    },
    "executionInfo": {
     "elapsed": 240,
     "status": "ok",
     "timestamp": 1634680502546,
     "user": {
      "displayName": "Glenn",
      "photoUrl": "https://lh3.googleusercontent.com/a-/AOh14GjykiG4UrEIFJrppAQQSHHr3TjS4DL1ZBM99aAAdg=s64",
      "userId": "10553525024667050874"
     },
     "user_tz": 420
    },
    "id": "61z2wRkBtlwY",
    "outputId": "560e77ed-0fc7-47e2-9824-5a9cf043be6d"
   },
   "outputs": [
    {
     "name": "stdout",
     "output_type": "stream",
     "text": [
      "Model: \"sequential\"\n",
      "_________________________________________________________________\n",
      "Layer (type)                 Output Shape              Param #   \n",
      "=================================================================\n",
      "dense (Dense)                (None, 1)                 6         \n",
      "=================================================================\n",
      "Total params: 6\n",
      "Trainable params: 6\n",
      "Non-trainable params: 0\n",
      "_________________________________________________________________\n"
     ]
    }
   ],
   "source": [
    "model.summary()"
   ]
  },
  {
   "cell_type": "code",
   "execution_count": 74,
   "metadata": {
    "executionInfo": {
     "elapsed": 208,
     "status": "ok",
     "timestamp": 1634686574102,
     "user": {
      "displayName": "Glenn",
      "photoUrl": "https://lh3.googleusercontent.com/a-/AOh14GjykiG4UrEIFJrppAQQSHHr3TjS4DL1ZBM99aAAdg=s64",
      "userId": "10553525024667050874"
     },
     "user_tz": 420
    },
    "id": "jIcRzVyDtevF"
   },
   "outputs": [],
   "source": [
    "opt = SGD(learning_rate=0.01)\n",
    "model.compile(optimizer=opt, loss='mse', metrics=['mae'])"
   ]
  },
  {
   "cell_type": "markdown",
   "metadata": {
    "id": "PgARgZr4t2CB"
   },
   "source": [
    "Train the model."
   ]
  },
  {
   "cell_type": "code",
   "execution_count": 75,
   "metadata": {
    "colab": {
     "base_uri": "https://localhost:8080/"
    },
    "executionInfo": {
     "elapsed": 2184,
     "status": "ok",
     "timestamp": 1634686578318,
     "user": {
      "displayName": "Glenn",
      "photoUrl": "https://lh3.googleusercontent.com/a-/AOh14GjykiG4UrEIFJrppAQQSHHr3TjS4DL1ZBM99aAAdg=s64",
      "userId": "10553525024667050874"
     },
     "user_tz": 420
    },
    "id": "84syAhketjAp",
    "outputId": "843c5a6a-c3ba-452e-a969-ba92130a1302"
   },
   "outputs": [
    {
     "name": "stdout",
     "output_type": "stream",
     "text": [
      "Epoch 1/10\n",
      "83/83 [==============================] - 1s 3ms/step - loss: 264.9634 - mae: 11.5970 - val_loss: 38.2098 - val_mae: 4.9696\n",
      "Epoch 2/10\n",
      "83/83 [==============================] - 0s 2ms/step - loss: 14.6220 - mae: 2.9100 - val_loss: 5.5984 - val_mae: 1.8946\n",
      "Epoch 3/10\n",
      "83/83 [==============================] - 0s 2ms/step - loss: 4.3844 - mae: 1.6705 - val_loss: 4.3173 - val_mae: 1.6547\n",
      "Epoch 4/10\n",
      "83/83 [==============================] - 0s 2ms/step - loss: 3.9671 - mae: 1.5968 - val_loss: 4.2682 - val_mae: 1.6435\n",
      "Epoch 5/10\n",
      "83/83 [==============================] - 0s 2ms/step - loss: 3.9546 - mae: 1.5963 - val_loss: 4.2642 - val_mae: 1.6421\n",
      "Epoch 6/10\n",
      "83/83 [==============================] - 0s 2ms/step - loss: 3.9534 - mae: 1.5950 - val_loss: 4.2575 - val_mae: 1.6446\n",
      "Epoch 7/10\n",
      "83/83 [==============================] - 0s 2ms/step - loss: 3.9585 - mae: 1.5957 - val_loss: 4.2708 - val_mae: 1.6443\n",
      "Epoch 8/10\n",
      "83/83 [==============================] - 0s 2ms/step - loss: 3.9544 - mae: 1.5972 - val_loss: 4.2717 - val_mae: 1.6444\n",
      "Epoch 9/10\n",
      "83/83 [==============================] - 0s 2ms/step - loss: 3.9558 - mae: 1.5959 - val_loss: 4.3532 - val_mae: 1.6602\n",
      "Epoch 10/10\n",
      "83/83 [==============================] - 0s 2ms/step - loss: 3.9723 - mae: 1.6003 - val_loss: 4.2813 - val_mae: 1.6475\n"
     ]
    }
   ],
   "source": [
    "history = model.fit(X_train, y_train, batch_size=32, epochs=10, validation_split=0.3)"
   ]
  },
  {
   "cell_type": "code",
   "execution_count": 76,
   "metadata": {
    "colab": {
     "base_uri": "https://localhost:8080/",
     "height": 295
    },
    "executionInfo": {
     "elapsed": 529,
     "status": "ok",
     "timestamp": 1634686581822,
     "user": {
      "displayName": "Glenn",
      "photoUrl": "https://lh3.googleusercontent.com/a-/AOh14GjykiG4UrEIFJrppAQQSHHr3TjS4DL1ZBM99aAAdg=s64",
      "userId": "10553525024667050874"
     },
     "user_tz": 420
    },
    "id": "gLapJCg5uQrX",
    "outputId": "e8d05f71-8d7a-4d68-e079-96ca894e8fe5"
   },
   "outputs": [
    {
     "data": {
      "image/png": "[encoded data removed]",
      "text/plain": [
       "<Figure size 432x288 with 1 Axes>"
      ]
     },
     "metadata": {
      "needs_background": "light"
     },
     "output_type": "display_data"
    }
   ],
   "source": [
    "plot_loss(history)"
   ]
  },
  {
   "cell_type": "markdown",
   "metadata": {
    "id": "q2VWFHfAu5QN"
   },
   "source": [
    "Compute RMSE and MAE"
   ]
  },
  {
   "cell_type": "code",
   "execution_count": 77,
   "metadata": {
    "colab": {
     "base_uri": "https://localhost:8080/"
    },
    "executionInfo": {
     "elapsed": 208,
     "status": "ok",
     "timestamp": 1634686585022,
     "user": {
      "displayName": "Glenn",
      "photoUrl": "https://lh3.googleusercontent.com/a-/AOh14GjykiG4UrEIFJrppAQQSHHr3TjS4DL1ZBM99aAAdg=s64",
      "userId": "10553525024667050874"
     },
     "user_tz": 420
    },
    "id": "HBrfpvFHuXCp",
    "outputId": "7744df4a-8954-45ad-8ed9-e6c2eb348831"
   },
   "outputs": [
    {
     "name": "stdout",
     "output_type": "stream",
     "text": [
      "test RMSE with neural net: 2.028\n",
      "test MAE with neural net: 1.623\n"
     ]
    }
   ],
   "source": [
    "y_pred = model.predict(X_test)[:,0]\n",
    "print('test RMSE with neural net: {:.3f}'.format(np.sqrt(((y_pred - y_test)**2).mean())))\n",
    "print('test MAE with neural net: {:.3f}'.format(np.abs(y_pred - y_test).mean()))"
   ]
  },
  {
   "cell_type": "markdown",
   "metadata": {
    "id": "WgB9VayJu9qP"
   },
   "source": [
    "### Linear regression with Scikit-Learn."
   ]
  },
  {
   "cell_type": "code",
   "execution_count": 78,
   "metadata": {
    "colab": {
     "base_uri": "https://localhost:8080/"
    },
    "executionInfo": {
     "elapsed": 184,
     "status": "ok",
     "timestamp": 1634686588234,
     "user": {
      "displayName": "Glenn",
      "photoUrl": "https://lh3.googleusercontent.com/a-/AOh14GjykiG4UrEIFJrppAQQSHHr3TjS4DL1ZBM99aAAdg=s64",
      "userId": "10553525024667050874"
     },
     "user_tz": 420
    },
    "id": "oZ5DoM0Nu1Jx",
    "outputId": "9615ffff-9a02-47df-9556-f48ccbc88c38"
   },
   "outputs": [
    {
     "name": "stdout",
     "output_type": "stream",
     "text": [
      "test RMSE with Scikit-Learn: 2.024\n"
     ]
    }
   ],
   "source": [
    "regr = LinearRegression()\n",
    "regr.fit(X_train, y_train)\n",
    "y_pred = regr.predict(X_test)\n",
    "print('test RMSE with Scikit-Learn: {:.3f}'.format(np.sqrt(((y_pred - y_test)**2).mean())))"
   ]
  },
  {
   "cell_type": "markdown",
   "metadata": {
    "id": "zkWpeN67vnAU"
   },
   "source": [
    "### Play with number of epochs in neural net."
   ]
  },
  {
   "cell_type": "code",
   "execution_count": null,
   "metadata": {
    "colab": {
     "base_uri": "https://localhost:8080/"
    },
    "executionInfo": {
     "elapsed": 5308,
     "status": "ok",
     "timestamp": 1634249118387,
     "user": {
      "displayName": "Glenn",
      "photoUrl": "https://lh3.googleusercontent.com/a-/AOh14GjykiG4UrEIFJrppAQQSHHr3TjS4DL1ZBM99aAAdg=s64",
      "userId": "10553525024667050874"
     },
     "user_tz": 420
    },
    "id": "c8rmMrXavQeK",
    "outputId": "f56582c3-8ec9-4fb6-f157-ec241854262a"
   },
   "outputs": [
    {
     "name": "stdout",
     "output_type": "stream",
     "text": [
      "Epoch 1/5\n",
      "535/535 [==============================] - 1s 2ms/step - loss: 0.7031 - accuracy: 0.6304 - val_loss: 0.4829 - val_accuracy: 0.7996\n",
      "Epoch 2/5\n",
      "535/535 [==============================] - 1s 2ms/step - loss: 0.4401 - accuracy: 0.8072 - val_loss: 0.4132 - val_accuracy: 0.8187\n",
      "Epoch 3/5\n",
      "535/535 [==============================] - 1s 1ms/step - loss: 0.4044 - accuracy: 0.8172 - val_loss: 0.3941 - val_accuracy: 0.8195\n",
      "Epoch 4/5\n",
      "535/535 [==============================] - 1s 2ms/step - loss: 0.3924 - accuracy: 0.8179 - val_loss: 0.3861 - val_accuracy: 0.8215\n",
      "Epoch 5/5\n",
      "535/535 [==============================] - 1s 1ms/step - loss: 0.3868 - accuracy: 0.8181 - val_loss: 0.3819 - val_accuracy: 0.8210\n"
     ]
    }
   ],
   "source": [
    "model.set_weights(weights)\n",
    "history = model.fit(X_train, y_train, batch_size=32, epochs=5, validation_split=0.3)"
   ]
  },
  {
   "cell_type": "code",
   "execution_count": null,
   "metadata": {
    "colab": {
     "base_uri": "https://localhost:8080/",
     "height": 295
    },
    "executionInfo": {
     "elapsed": 366,
     "status": "ok",
     "timestamp": 1634249118733,
     "user": {
      "displayName": "Glenn",
      "photoUrl": "https://lh3.googleusercontent.com/a-/AOh14GjykiG4UrEIFJrppAQQSHHr3TjS4DL1ZBM99aAAdg=s64",
      "userId": "10553525024667050874"
     },
     "user_tz": 420
    },
    "id": "yw_HaWfzwnEp",
    "outputId": "885c46d5-dafd-4a27-bd98-922b6cdeb73d"
   },
   "outputs": [
    {
     "data": {
      "image/png": "[encoded data removed]",
      "text/plain": [
       "<Figure size 432x288 with 1 Axes>"
      ]
     },
     "metadata": {
      "needs_background": "light"
     },
     "output_type": "display_data"
    }
   ],
   "source": [
    "plot_loss(history)"
   ]
  },
  {
   "cell_type": "markdown",
   "metadata": {
    "id": "ms905KPwyI96"
   },
   "source": [
    "### A classifier with a single hidden layer of 10 neurons.  ReLU activation function."
   ]
  },
  {
   "cell_type": "code",
   "execution_count": null,
   "metadata": {
    "id": "Lw_2psn-xSDa"
   },
   "outputs": [],
   "source": [
    "model = models.Sequential()\n",
    "model.add(Input(shape=(input_size,)))\n",
    "model.add(layers.Dense(10, activation='relu'))\n",
    "model.add(layers.Dense(1, activation='sigmoid'))\n",
    "\n",
    "model.compile(optimizer='SGD', loss='binary_crossentropy', metrics=['accuracy'])"
   ]
  },
  {
   "cell_type": "code",
   "execution_count": null,
   "metadata": {
    "colab": {
     "base_uri": "https://localhost:8080/"
    },
    "executionInfo": {
     "elapsed": 18,
     "status": "ok",
     "timestamp": 1634249118735,
     "user": {
      "displayName": "Glenn",
      "photoUrl": "https://lh3.googleusercontent.com/a-/AOh14GjykiG4UrEIFJrppAQQSHHr3TjS4DL1ZBM99aAAdg=s64",
      "userId": "10553525024667050874"
     },
     "user_tz": 420
    },
    "id": "41ZMRxWJy-TG",
    "outputId": "e691cf07-f5be-4ebc-bb5e-cf942baf69fc"
   },
   "outputs": [
    {
     "name": "stdout",
     "output_type": "stream",
     "text": [
      "Model: \"sequential_1\"\n",
      "_________________________________________________________________\n",
      "Layer (type)                 Output Shape              Param #   \n",
      "=================================================================\n",
      "dense_1 (Dense)              (None, 10)                130       \n",
      "_________________________________________________________________\n",
      "dense_2 (Dense)              (None, 1)                 11        \n",
      "=================================================================\n",
      "Total params: 141\n",
      "Trainable params: 141\n",
      "Non-trainable params: 0\n",
      "_________________________________________________________________\n"
     ]
    }
   ],
   "source": [
    "model.summary()"
   ]
  },
  {
   "cell_type": "markdown",
   "metadata": {
    "id": "gIbx1aCNzQ67"
   },
   "source": [
    "During training, validation accuracy seems to stop improving, but validation loss keeps improving.  "
   ]
  },
  {
   "cell_type": "code",
   "execution_count": null,
   "metadata": {
    "colab": {
     "base_uri": "https://localhost:8080/"
    },
    "executionInfo": {
     "elapsed": 10599,
     "status": "ok",
     "timestamp": 1634249129323,
     "user": {
      "displayName": "Glenn",
      "photoUrl": "https://lh3.googleusercontent.com/a-/AOh14GjykiG4UrEIFJrppAQQSHHr3TjS4DL1ZBM99aAAdg=s64",
      "userId": "10553525024667050874"
     },
     "user_tz": 420
    },
    "id": "KTpClw6Cy_tD",
    "outputId": "5e2111bd-e567-4778-fe49-041591d53d6f"
   },
   "outputs": [
    {
     "name": "stdout",
     "output_type": "stream",
     "text": [
      "Epoch 1/10\n",
      "535/535 [==============================] - 1s 2ms/step - loss: 0.4764 - accuracy: 0.7494 - val_loss: 0.4307 - val_accuracy: 0.7806\n",
      "Epoch 2/10\n",
      "535/535 [==============================] - 1s 2ms/step - loss: 0.4170 - accuracy: 0.7973 - val_loss: 0.4032 - val_accuracy: 0.8130\n",
      "Epoch 3/10\n",
      "535/535 [==============================] - 1s 2ms/step - loss: 0.3970 - accuracy: 0.8083 - val_loss: 0.3911 - val_accuracy: 0.8101\n",
      "Epoch 4/10\n",
      "535/535 [==============================] - 1s 2ms/step - loss: 0.3875 - accuracy: 0.8096 - val_loss: 0.3849 - val_accuracy: 0.8133\n",
      "Epoch 5/10\n",
      "535/535 [==============================] - 1s 2ms/step - loss: 0.3822 - accuracy: 0.8136 - val_loss: 0.3809 - val_accuracy: 0.8213\n",
      "Epoch 6/10\n",
      "535/535 [==============================] - 1s 2ms/step - loss: 0.3789 - accuracy: 0.8170 - val_loss: 0.3784 - val_accuracy: 0.8236\n",
      "Epoch 7/10\n",
      "535/535 [==============================] - 1s 2ms/step - loss: 0.3766 - accuracy: 0.8208 - val_loss: 0.3764 - val_accuracy: 0.8246\n",
      "Epoch 8/10\n",
      "535/535 [==============================] - 1s 2ms/step - loss: 0.3750 - accuracy: 0.8220 - val_loss: 0.3749 - val_accuracy: 0.8258\n",
      "Epoch 9/10\n",
      "535/535 [==============================] - 1s 2ms/step - loss: 0.3738 - accuracy: 0.8223 - val_loss: 0.3738 - val_accuracy: 0.8266\n",
      "Epoch 10/10\n",
      "535/535 [==============================] - 1s 2ms/step - loss: 0.3728 - accuracy: 0.8226 - val_loss: 0.3730 - val_accuracy: 0.8272\n"
     ]
    }
   ],
   "source": [
    "history = model.fit(X_train, y_train, batch_size=32, epochs=10, validation_split=0.3)"
   ]
  },
  {
   "cell_type": "markdown",
   "metadata": {
    "id": "DmtFYXpSzbUz"
   },
   "source": [
    "Notice how the plot is a little different from before."
   ]
  },
  {
   "cell_type": "code",
   "execution_count": null,
   "metadata": {
    "colab": {
     "base_uri": "https://localhost:8080/",
     "height": 295
    },
    "executionInfo": {
     "elapsed": 22,
     "status": "ok",
     "timestamp": 1634249129325,
     "user": {
      "displayName": "Glenn",
      "photoUrl": "https://lh3.googleusercontent.com/a-/AOh14GjykiG4UrEIFJrppAQQSHHr3TjS4DL1ZBM99aAAdg=s64",
      "userId": "10553525024667050874"
     },
     "user_tz": 420
    },
    "id": "Gi70e3ZjzFmJ",
    "outputId": "4f1d92cf-a6f1-4f8a-9929-8ac3a566aef5"
   },
   "outputs": [
    {
     "data": {
      "image/png": "[encoded data removed]",
      "text/plain": [
       "<Figure size 432x288 with 1 Axes>"
      ]
     },
     "metadata": {
      "needs_background": "light"
     },
     "output_type": "display_data"
    }
   ],
   "source": [
    "plot_loss(history)"
   ]
  },
  {
   "cell_type": "code",
   "execution_count": null,
   "metadata": {
    "colab": {
     "base_uri": "https://localhost:8080/"
    },
    "executionInfo": {
     "elapsed": 578,
     "status": "ok",
     "timestamp": 1634249129883,
     "user": {
      "displayName": "Glenn",
      "photoUrl": "https://lh3.googleusercontent.com/a-/AOh14GjykiG4UrEIFJrppAQQSHHr3TjS4DL1ZBM99aAAdg=s64",
      "userId": "10553525024667050874"
     },
     "user_tz": 420
    },
    "id": "w5SspoYXzoc1",
    "outputId": "845e157f-2d60-485a-c607-703e29d19e48"
   },
   "outputs": [
    {
     "name": "stdout",
     "output_type": "stream",
     "text": [
      "test accuracy with neural net: 0.828\n"
     ]
    }
   ],
   "source": [
    "y_pred = (model.predict(X_test)[:,0] > 0.5).astype(int)\n",
    "print('test accuracy with neural net: {:.3f}'.format((y_pred == y_test).mean()))"
   ]
  },
  {
   "cell_type": "markdown",
   "metadata": {
    "id": "O-Fy0wA-zkSt"
   },
   "source": [
    "### Play with batch size"
   ]
  },
  {
   "cell_type": "code",
   "execution_count": null,
   "metadata": {
    "colab": {
     "base_uri": "https://localhost:8080/"
    },
    "executionInfo": {
     "elapsed": 10563,
     "status": "ok",
     "timestamp": 1634249140436,
     "user": {
      "displayName": "Glenn",
      "photoUrl": "https://lh3.googleusercontent.com/a-/AOh14GjykiG4UrEIFJrppAQQSHHr3TjS4DL1ZBM99aAAdg=s64",
      "userId": "10553525024667050874"
     },
     "user_tz": 420
    },
    "id": "z0KuGm7OzZE4",
    "outputId": "c3f809c7-313e-4dc1-c164-3a3e8b848905"
   },
   "outputs": [
    {
     "name": "stdout",
     "output_type": "stream",
     "text": [
      "Epoch 1/5\n",
      "1069/1069 [==============================] - 2s 2ms/step - loss: 0.3719 - accuracy: 0.8226 - val_loss: 0.3716 - val_accuracy: 0.8268\n",
      "Epoch 2/5\n",
      "1069/1069 [==============================] - 2s 2ms/step - loss: 0.3707 - accuracy: 0.8239 - val_loss: 0.3707 - val_accuracy: 0.8268\n",
      "Epoch 3/5\n",
      "1069/1069 [==============================] - 2s 2ms/step - loss: 0.3699 - accuracy: 0.8238 - val_loss: 0.3701 - val_accuracy: 0.8280\n",
      "Epoch 4/5\n",
      "1069/1069 [==============================] - 2s 2ms/step - loss: 0.3691 - accuracy: 0.8234 - val_loss: 0.3698 - val_accuracy: 0.8271\n",
      "Epoch 5/5\n",
      "1069/1069 [==============================] - 2s 2ms/step - loss: 0.3686 - accuracy: 0.8246 - val_loss: 0.3696 - val_accuracy: 0.8286\n"
     ]
    }
   ],
   "source": [
    "model.compile(optimizer='SGD', loss='binary_crossentropy', metrics=['accuracy'])\n",
    "history = model.fit(X_train, y_train, batch_size=16, epochs=5, validation_split=0.3)"
   ]
  },
  {
   "cell_type": "code",
   "execution_count": null,
   "metadata": {
    "colab": {
     "base_uri": "https://localhost:8080/"
    },
    "executionInfo": {
     "elapsed": 235,
     "status": "ok",
     "timestamp": 1634249140668,
     "user": {
      "displayName": "Glenn",
      "photoUrl": "https://lh3.googleusercontent.com/a-/AOh14GjykiG4UrEIFJrppAQQSHHr3TjS4DL1ZBM99aAAdg=s64",
      "userId": "10553525024667050874"
     },
     "user_tz": 420
    },
    "id": "QTLYuN-rz3Nx",
    "outputId": "c0a0f47c-097c-46cf-82d1-5eaec2e2b87c"
   },
   "outputs": [
    {
     "name": "stdout",
     "output_type": "stream",
     "text": [
      "test accuracy with neural net: 0.827\n"
     ]
    }
   ],
   "source": [
    "y_pred = model.predict(X_test)[:,0]\n",
    "print('test RMSE with neural net: {:.3f}'.format(np.sqrt(((y_pred - y_test)**2).mean())))\n",
    "print('test MAE with neural net: {:.3f}'.format(np.abs(y_pred - y_test).mean()))"
   ]
  },
  {
   "cell_type": "markdown",
   "metadata": {
    "id": "xqIljee51yzN"
   },
   "source": [
    "### A hidden layer of 50 neurons."
   ]
  },
  {
   "cell_type": "code",
   "execution_count": null,
   "metadata": {
    "id": "24TwX_Zl2Bop"
   },
   "outputs": [],
   "source": [
    "model = models.Sequential()\n",
    "model.add(Input(shape=(input_size,)))\n",
    "model.add(layers.Dense(50, activation='relu'))\n",
    "model.add(layers.Dense(1, activation='sigmoid'))\n",
    "\n",
    "model.compile(optimizer='SGD', loss='binary_crossentropy', metrics=['accuracy'])"
   ]
  },
  {
   "cell_type": "code",
   "execution_count": null,
   "metadata": {
    "colab": {
     "base_uri": "https://localhost:8080/"
    },
    "executionInfo": {
     "elapsed": 10872,
     "status": "ok",
     "timestamp": 1634249244380,
     "user": {
      "displayName": "Glenn",
      "photoUrl": "https://lh3.googleusercontent.com/a-/AOh14GjykiG4UrEIFJrppAQQSHHr3TjS4DL1ZBM99aAAdg=s64",
      "userId": "10553525024667050874"
     },
     "user_tz": 420
    },
    "id": "9fkBWHRP2Boq",
    "outputId": "0748f118-bcb4-4414-9cdc-cea0356311ba"
   },
   "outputs": [
    {
     "name": "stdout",
     "output_type": "stream",
     "text": [
      "Epoch 1/10\n",
      "535/535 [==============================] - 1s 2ms/step - loss: 0.4741 - accuracy: 0.7673 - val_loss: 0.4009 - val_accuracy: 0.8215\n",
      "Epoch 2/10\n",
      "535/535 [==============================] - 1s 2ms/step - loss: 0.3899 - accuracy: 0.8176 - val_loss: 0.3787 - val_accuracy: 0.8231\n",
      "Epoch 3/10\n",
      "535/535 [==============================] - 1s 2ms/step - loss: 0.3779 - accuracy: 0.8186 - val_loss: 0.3732 - val_accuracy: 0.8242\n",
      "Epoch 4/10\n",
      "535/535 [==============================] - 1s 2ms/step - loss: 0.3739 - accuracy: 0.8194 - val_loss: 0.3710 - val_accuracy: 0.8239\n",
      "Epoch 5/10\n",
      "535/535 [==============================] - 1s 2ms/step - loss: 0.3717 - accuracy: 0.8205 - val_loss: 0.3695 - val_accuracy: 0.8256\n",
      "Epoch 6/10\n",
      "535/535 [==============================] - 1s 2ms/step - loss: 0.3704 - accuracy: 0.8204 - val_loss: 0.3683 - val_accuracy: 0.8272\n",
      "Epoch 7/10\n",
      "535/535 [==============================] - 1s 2ms/step - loss: 0.3692 - accuracy: 0.8208 - val_loss: 0.3675 - val_accuracy: 0.8254\n",
      "Epoch 8/10\n",
      "535/535 [==============================] - 1s 2ms/step - loss: 0.3684 - accuracy: 0.8218 - val_loss: 0.3667 - val_accuracy: 0.8279\n",
      "Epoch 9/10\n",
      "535/535 [==============================] - 1s 2ms/step - loss: 0.3676 - accuracy: 0.8214 - val_loss: 0.3660 - val_accuracy: 0.8265\n",
      "Epoch 10/10\n",
      "535/535 [==============================] - 1s 2ms/step - loss: 0.3669 - accuracy: 0.8213 - val_loss: 0.3655 - val_accuracy: 0.8272\n"
     ]
    }
   ],
   "source": [
    "history = model.fit(X_train, y_train, batch_size=32, epochs=10, validation_split=0.3)"
   ]
  },
  {
   "cell_type": "code",
   "execution_count": null,
   "metadata": {
    "colab": {
     "base_uri": "https://localhost:8080/"
    },
    "executionInfo": {
     "elapsed": 445,
     "status": "ok",
     "timestamp": 1634249248591,
     "user": {
      "displayName": "Glenn",
      "photoUrl": "https://lh3.googleusercontent.com/a-/AOh14GjykiG4UrEIFJrppAQQSHHr3TjS4DL1ZBM99aAAdg=s64",
      "userId": "10553525024667050874"
     },
     "user_tz": 420
    },
    "id": "utpepaVT2Boq",
    "outputId": "3e284461-151d-4cda-c2bd-df5707d04e35"
   },
   "outputs": [
    {
     "name": "stdout",
     "output_type": "stream",
     "text": [
      "test accuracy with neural net: 0.828\n"
     ]
    }
   ],
   "source": [
    "y_pred = model.predict(X_test)[:,0]\n",
    "print('test RMSE with neural net: {:.3f}'.format(np.sqrt(((y_pred - y_test)**2).mean())))\n",
    "print('test MAE with neural net: {:.3f}'.format(np.abs(y_pred - y_test).mean()))"
   ]
  },
  {
   "cell_type": "markdown",
   "metadata": {
    "id": "bLRPxJBa0Trk"
   },
   "source": [
    "### Two hidden layers of 20 neurons each"
   ]
  },
  {
   "cell_type": "code",
   "execution_count": null,
   "metadata": {
    "id": "ZsD8HqmB0DIg"
   },
   "outputs": [],
   "source": [
    "model = models.Sequential()\n",
    "model.add(Input(shape=(input_size,)))\n",
    "model.add(layers.Dense(20, activation='relu'))\n",
    "model.add(layers.Dense(20, activation='relu'))\n",
    "model.add(layers.Dense(1, activation='sigmoid'))\n",
    "\n",
    "model.compile(optimizer='SGD', loss='binary_crossentropy', metrics=['accuracy'])"
   ]
  },
  {
   "cell_type": "code",
   "execution_count": null,
   "metadata": {
    "colab": {
     "base_uri": "https://localhost:8080/"
    },
    "executionInfo": {
     "elapsed": 10483,
     "status": "ok",
     "timestamp": 1634249291812,
     "user": {
      "displayName": "Glenn",
      "photoUrl": "https://lh3.googleusercontent.com/a-/AOh14GjykiG4UrEIFJrppAQQSHHr3TjS4DL1ZBM99aAAdg=s64",
      "userId": "10553525024667050874"
     },
     "user_tz": 420
    },
    "id": "TZct5Gbs1O8i",
    "outputId": "8d683c02-379a-4f86-f2a9-4475268d3c24"
   },
   "outputs": [
    {
     "name": "stdout",
     "output_type": "stream",
     "text": [
      "Epoch 1/10\n",
      "535/535 [==============================] - 1s 2ms/step - loss: 0.5056 - accuracy: 0.7582 - val_loss: 0.4249 - val_accuracy: 0.7913\n",
      "Epoch 2/10\n",
      "535/535 [==============================] - 1s 2ms/step - loss: 0.4009 - accuracy: 0.8104 - val_loss: 0.3829 - val_accuracy: 0.8223\n",
      "Epoch 3/10\n",
      "535/535 [==============================] - 1s 2ms/step - loss: 0.3781 - accuracy: 0.8198 - val_loss: 0.3741 - val_accuracy: 0.8253\n",
      "Epoch 4/10\n",
      "535/535 [==============================] - 1s 2ms/step - loss: 0.3728 - accuracy: 0.8218 - val_loss: 0.3715 - val_accuracy: 0.8246\n",
      "Epoch 5/10\n",
      "535/535 [==============================] - 1s 2ms/step - loss: 0.3708 - accuracy: 0.8219 - val_loss: 0.3699 - val_accuracy: 0.8257\n",
      "Epoch 6/10\n",
      "535/535 [==============================] - 1s 2ms/step - loss: 0.3695 - accuracy: 0.8227 - val_loss: 0.3689 - val_accuracy: 0.8271\n",
      "Epoch 7/10\n",
      "535/535 [==============================] - 1s 2ms/step - loss: 0.3686 - accuracy: 0.8239 - val_loss: 0.3680 - val_accuracy: 0.8269\n",
      "Epoch 8/10\n",
      "535/535 [==============================] - 1s 2ms/step - loss: 0.3679 - accuracy: 0.8236 - val_loss: 0.3675 - val_accuracy: 0.8273\n",
      "Epoch 9/10\n",
      "535/535 [==============================] - 1s 2ms/step - loss: 0.3674 - accuracy: 0.8240 - val_loss: 0.3670 - val_accuracy: 0.8294\n",
      "Epoch 10/10\n",
      "535/535 [==============================] - 1s 2ms/step - loss: 0.3669 - accuracy: 0.8254 - val_loss: 0.3666 - val_accuracy: 0.8290\n"
     ]
    }
   ],
   "source": [
    "history = model.fit(X_train, y_train, batch_size=32, epochs=10, validation_split=0.3)"
   ]
  },
  {
   "cell_type": "code",
   "execution_count": null,
   "metadata": {
    "colab": {
     "base_uri": "https://localhost:8080/"
    },
    "executionInfo": {
     "elapsed": 478,
     "status": "ok",
     "timestamp": 1634249295707,
     "user": {
      "displayName": "Glenn",
      "photoUrl": "https://lh3.googleusercontent.com/a-/AOh14GjykiG4UrEIFJrppAQQSHHr3TjS4DL1ZBM99aAAdg=s64",
      "userId": "10553525024667050874"
     },
     "user_tz": 420
    },
    "id": "YjpurZyb1Pmw",
    "outputId": "a057fef9-4a35-4486-ae44-d1fef7c52fea"
   },
   "outputs": [
    {
     "name": "stdout",
     "output_type": "stream",
     "text": [
      "test accuracy with neural net: 0.827\n"
     ]
    }
   ],
   "source": [
    "y_pred = model.predict(X_test)[:,0]\n",
    "print('test RMSE with neural net: {:.3f}'.format(np.sqrt(((y_pred - y_test)**2).mean())))\n",
    "print('test MAE with neural net: {:.3f}'.format(np.abs(y_pred - y_test).mean()))"
   ]
  }
 ],
 "metadata": {
  "colab": {
   "authorship_tag": "ABX9TyOy+/Cv4Lgg1F9AyB9RigPt",
   "collapsed_sections": [],
   "name": "2feedforward-keras-part-2-lab-solutions.ipynb",
   "provenance": [
    {
     "file_id": "1EDXPGBMuKXVqDaAN6g1QlbhPlH5RfZbh",
     "timestamp": 1634672768732
    },
    {
     "file_id": "15PzFQjckbEns7yWC073Z1Os1O4k0NNcv",
     "timestamp": 1634249320503
    }
   ]
  },
  "kernelspec": {
   "display_name": "Python 3 (ipykernel)",
   "language": "python",
   "name": "python3"
  },
  "language_info": {
   "codemirror_mode": {
    "name": "ipython",
    "version": 3
   },
   "file_extension": ".py",
   "mimetype": "text/x-python",
   "name": "python",
   "nbconvert_exporter": "python",
   "pygments_lexer": "ipython3",
   "version": "3.9.11"
  }
 },
 "nbformat": 4,
 "nbformat_minor": 1
}
