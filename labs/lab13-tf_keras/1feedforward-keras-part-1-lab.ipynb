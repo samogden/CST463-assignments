{
 "cells": [
  {
   "cell_type": "markdown",
   "metadata": {
    "id": "L_urr6Rhnp27"
   },
   "source": [
    "# Keras Feedforward 1 - lab\n",
    "\n",
    "### Instructions:\n",
    "\n",
    "Read and execute the notebook cell by cell in Colab.  Add code where you see # YOUR CODE HERE"
   ]
  },
  {
   "cell_type": "code",
   "execution_count": 1,
   "metadata": {
    "id": "pr-tWPcbnTaN",
    "executionInfo": {
     "status": "ok",
     "timestamp": 1696312049444,
     "user_tz": 420,
     "elapsed": 3917,
     "user": {
      "displayName": "Glenn",
      "userId": "10553525024667050874"
     }
    }
   },
   "outputs": [],
   "source": [
    "import numpy as np\n",
    "import pandas as pd\n",
    "from tensorflow.keras import models, layers, Input, Model\n",
    "from tensorflow.keras import backend as K\n",
    "from tensorflow.keras.utils import plot_model\n",
    "from sklearn.datasets import make_classification\n",
    "from sklearn.model_selection import train_test_split\n",
    "from sklearn.preprocessing import StandardScaler\n",
    "from sklearn.linear_model import LogisticRegression\n",
    "import matplotlib.pyplot as plt"
   ]
  },
  {
   "cell_type": "code",
   "execution_count": null,
   "metadata": {
    "id": "96Qk1yNpuUPN"
   },
   "outputs": [],
   "source": [
    "def plot_loss(history):\n",
    "    \"\"\" Plot training, test loss. \"\"\"\n",
    "\n",
    "    plt.plot(history.history['loss'])\n",
    "    plt.plot(history.history['val_loss'])\n",
    "    plt.title('model loss')\n",
    "    plt.ylabel('loss')\n",
    "    plt.xlabel('epoch')\n",
    "    plt.legend(['train', 'test'])\n",
    "    plt.show();"
   ]
  },
  {
   "cell_type": "markdown",
   "metadata": {
    "id": "ZRCGT8hzoLKU"
   },
   "source": [
    "### Read and preprocess the data."
   ]
  },
  {
   "cell_type": "code",
   "execution_count": null,
   "metadata": {
    "id": "E39nWlwloFYa"
   },
   "outputs": [],
   "source": [
    "df = pd.read_csv('1994-census-summary.csv')"
   ]
  },
  {
   "cell_type": "code",
   "execution_count": null,
   "metadata": {
    "colab": {
     "base_uri": "https://localhost:8080/"
    },
    "executionInfo": {
     "elapsed": 9,
     "status": "ok",
     "timestamp": 1634249101206,
     "user": {
      "displayName": "Glenn",
      "photoUrl": "https://lh3.googleusercontent.com/a-/AOh14GjykiG4UrEIFJrppAQQSHHr3TjS4DL1ZBM99aAAdg=s64",
      "userId": "10553525024667050874"
     },
     "user_tz": 420
    },
    "id": "I7UR3UVqpS8R",
    "outputId": "5c57f541-f740-4ed8-c7ae-e7389baac456"
   },
   "outputs": [
    {
     "name": "stdout",
     "output_type": "stream",
     "text": [
      "<class 'pandas.core.frame.DataFrame'>\n",
      "RangeIndex: 32561 entries, 0 to 32560\n",
      "Data columns (total 16 columns):\n",
      " #   Column          Non-Null Count  Dtype \n",
      "---  ------          --------------  ----- \n",
      " 0   usid            32561 non-null  int64 \n",
      " 1   age             32561 non-null  int64 \n",
      " 2   workclass       30725 non-null  object\n",
      " 3   fnlwgt          32561 non-null  int64 \n",
      " 4   education       32561 non-null  object\n",
      " 5   education_num   32561 non-null  int64 \n",
      " 6   marital_status  32561 non-null  object\n",
      " 7   occupation      30718 non-null  object\n",
      " 8   relationship    32561 non-null  object\n",
      " 9   race            32561 non-null  object\n",
      " 10  sex             32561 non-null  object\n",
      " 11  capital_gain    32561 non-null  int64 \n",
      " 12  capital_loss    32561 non-null  int64 \n",
      " 13  hours_per_week  32561 non-null  int64 \n",
      " 14  native_country  31978 non-null  object\n",
      " 15  label           32561 non-null  object\n",
      "dtypes: int64(7), object(9)\n",
      "memory usage: 4.0+ MB\n"
     ]
    }
   ],
   "source": [
    "df.info()"
   ]
  },
  {
   "cell_type": "code",
   "execution_count": null,
   "metadata": {
    "colab": {
     "base_uri": "https://localhost:8080/"
    },
    "executionInfo": {
     "elapsed": 7,
     "status": "ok",
     "timestamp": 1634249101206,
     "user": {
      "displayName": "Glenn",
      "photoUrl": "https://lh3.googleusercontent.com/a-/AOh14GjykiG4UrEIFJrppAQQSHHr3TjS4DL1ZBM99aAAdg=s64",
      "userId": "10553525024667050874"
     },
     "user_tz": 420
    },
    "id": "QK5fEymR0caj",
    "outputId": "c553ecac-c8ed-40bd-9d47-b25b848d3345"
   },
   "outputs": [
    {
     "data": {
      "text/plain": [
       "Husband           13193\n",
       "Not_in_family      8305\n",
       "Own_child          5068\n",
       "Unmarried          3446\n",
       "Wife               1568\n",
       "Other_relative      981\n",
       "Name: relationship, dtype: int64"
      ]
     },
     "execution_count": 97,
     "metadata": {},
     "output_type": "execute_result"
    }
   ],
   "source": [
    "df['relationship'].value_counts()"
   ]
  },
  {
   "cell_type": "code",
   "execution_count": null,
   "metadata": {
    "colab": {
     "base_uri": "https://localhost:8080/"
    },
    "executionInfo": {
     "elapsed": 239,
     "status": "ok",
     "timestamp": 1634249101440,
     "user": {
      "displayName": "Glenn",
      "photoUrl": "https://lh3.googleusercontent.com/a-/AOh14GjykiG4UrEIFJrppAQQSHHr3TjS4DL1ZBM99aAAdg=s64",
      "userId": "10553525024667050874"
     },
     "user_tz": 420
    },
    "id": "Kn1KWcU4r4-O",
    "outputId": "b0dd8143-16ae-4e41-f729-83fe9f8b170c"
   },
   "outputs": [
    {
     "data": {
      "text/plain": [
       "<=50K    24720\n",
       ">50K      7841\n",
       "Name: label, dtype: int64"
      ]
     },
     "execution_count": 98,
     "metadata": {},
     "output_type": "execute_result"
    }
   ],
   "source": [
    "df['label'].value_counts()"
   ]
  },
  {
   "cell_type": "markdown",
   "metadata": {
    "id": "wumJWTQQpYdN"
   },
   "source": [
    "Let's try to predict whether income is > 50K using age, education_num, sex, and race.\n",
    "\n",
    "We'll need to do a little preprocessing."
   ]
  },
  {
   "cell_type": "code",
   "execution_count": null,
   "metadata": {
    "id": "bYriNoySpqSZ"
   },
   "outputs": [],
   "source": [
    "predictors = ['age', 'education_num', 'sex', 'race', 'relationship']\n",
    "target = 'label'\n",
    "dfp = pd.get_dummies(df[predictors], drop_first=True)\n",
    "column_names = dfp.columns"
   ]
  },
  {
   "cell_type": "markdown",
   "metadata": {
    "id": "mtAz0tu1s3Jt"
   },
   "source": [
    "Sanity check."
   ]
  },
  {
   "cell_type": "code",
   "execution_count": null,
   "metadata": {
    "colab": {
     "base_uri": "https://localhost:8080/",
     "height": 220
    },
    "executionInfo": {
     "elapsed": 20,
     "status": "ok",
     "timestamp": 1634249101441,
     "user": {
      "displayName": "Glenn",
      "photoUrl": "https://lh3.googleusercontent.com/a-/AOh14GjykiG4UrEIFJrppAQQSHHr3TjS4DL1ZBM99aAAdg=s64",
      "userId": "10553525024667050874"
     },
     "user_tz": 420
    },
    "id": "hQTH3qhKqNqp",
    "outputId": "5faee8ee-b334-4f16-ecad-5a5eb16c30f3"
   },
   "outputs": [
    {
     "data": {
      "text/html": [
       "<div>\n",
       "<style scoped>\n",
       "    .dataframe tbody tr th:only-of-type {\n",
       "        vertical-align: middle;\n",
       "    }\n",
       "\n",
       "    .dataframe tbody tr th {\n",
       "        vertical-align: top;\n",
       "    }\n",
       "\n",
       "    .dataframe thead th {\n",
       "        text-align: right;\n",
       "    }\n",
       "</style>\n",
       "<table border=\"1\" class=\"dataframe\">\n",
       "  <thead>\n",
       "    <tr style=\"text-align: right;\">\n",
       "      <th></th>\n",
       "      <th>age</th>\n",
       "      <th>education_num</th>\n",
       "      <th>sex_Male</th>\n",
       "      <th>race_Asian_Pac_Islander</th>\n",
       "      <th>race_Black</th>\n",
       "      <th>race_Other</th>\n",
       "      <th>race_White</th>\n",
       "      <th>relationship_Not_in_family</th>\n",
       "      <th>relationship_Other_relative</th>\n",
       "      <th>relationship_Own_child</th>\n",
       "      <th>relationship_Unmarried</th>\n",
       "      <th>relationship_Wife</th>\n",
       "    </tr>\n",
       "  </thead>\n",
       "  <tbody>\n",
       "    <tr>\n",
       "      <th>0</th>\n",
       "      <td>39</td>\n",
       "      <td>13</td>\n",
       "      <td>1</td>\n",
       "      <td>0</td>\n",
       "      <td>0</td>\n",
       "      <td>0</td>\n",
       "      <td>1</td>\n",
       "      <td>1</td>\n",
       "      <td>0</td>\n",
       "      <td>0</td>\n",
       "      <td>0</td>\n",
       "      <td>0</td>\n",
       "    </tr>\n",
       "    <tr>\n",
       "      <th>1</th>\n",
       "      <td>50</td>\n",
       "      <td>13</td>\n",
       "      <td>1</td>\n",
       "      <td>0</td>\n",
       "      <td>0</td>\n",
       "      <td>0</td>\n",
       "      <td>1</td>\n",
       "      <td>0</td>\n",
       "      <td>0</td>\n",
       "      <td>0</td>\n",
       "      <td>0</td>\n",
       "      <td>0</td>\n",
       "    </tr>\n",
       "    <tr>\n",
       "      <th>2</th>\n",
       "      <td>38</td>\n",
       "      <td>9</td>\n",
       "      <td>1</td>\n",
       "      <td>0</td>\n",
       "      <td>0</td>\n",
       "      <td>0</td>\n",
       "      <td>1</td>\n",
       "      <td>1</td>\n",
       "      <td>0</td>\n",
       "      <td>0</td>\n",
       "      <td>0</td>\n",
       "      <td>0</td>\n",
       "    </tr>\n",
       "    <tr>\n",
       "      <th>3</th>\n",
       "      <td>53</td>\n",
       "      <td>7</td>\n",
       "      <td>1</td>\n",
       "      <td>0</td>\n",
       "      <td>1</td>\n",
       "      <td>0</td>\n",
       "      <td>0</td>\n",
       "      <td>0</td>\n",
       "      <td>0</td>\n",
       "      <td>0</td>\n",
       "      <td>0</td>\n",
       "      <td>0</td>\n",
       "    </tr>\n",
       "    <tr>\n",
       "      <th>4</th>\n",
       "      <td>28</td>\n",
       "      <td>13</td>\n",
       "      <td>0</td>\n",
       "      <td>0</td>\n",
       "      <td>1</td>\n",
       "      <td>0</td>\n",
       "      <td>0</td>\n",
       "      <td>0</td>\n",
       "      <td>0</td>\n",
       "      <td>0</td>\n",
       "      <td>0</td>\n",
       "      <td>1</td>\n",
       "    </tr>\n",
       "  </tbody>\n",
       "</table>\n",
       "</div>"
      ],
      "text/plain": [
       "   age  education_num  ...  relationship_Unmarried  relationship_Wife\n",
       "0   39             13  ...                       0                  0\n",
       "1   50             13  ...                       0                  0\n",
       "2   38              9  ...                       0                  0\n",
       "3   53              7  ...                       0                  0\n",
       "4   28             13  ...                       0                  1\n",
       "\n",
       "[5 rows x 12 columns]"
      ]
     },
     "execution_count": 100,
     "metadata": {},
     "output_type": "execute_result"
    }
   ],
   "source": [
    "dfp.head()"
   ]
  },
  {
   "cell_type": "markdown",
   "metadata": {
    "id": "CqJAGMsRs6Ju"
   },
   "source": [
    "Train/test split, then scale the predictors."
   ]
  },
  {
   "cell_type": "code",
   "execution_count": null,
   "metadata": {
    "id": "rJ-9ECyeqUiZ"
   },
   "outputs": [],
   "source": [
    "X = dfp.values\n",
    "y = (df[target] == '>50K').astype(int)\n",
    "X_train, X_test, y_train, y_test = train_test_split(X, y, test_size=0.25, random_state=42)"
   ]
  },
  {
   "cell_type": "code",
   "execution_count": null,
   "metadata": {
    "id": "voazl454r_WK"
   },
   "outputs": [],
   "source": [
    "scaler = StandardScaler()\n",
    "scaler.fit(X_train)\n",
    "X_train = scaler.transform(X_train)\n",
    "X_test = scaler.transform(X_test)"
   ]
  },
  {
   "cell_type": "markdown",
   "metadata": {
    "id": "dhMr2zZ7tFIT"
   },
   "source": [
    "Sanity check."
   ]
  },
  {
   "cell_type": "code",
   "execution_count": null,
   "metadata": {
    "colab": {
     "base_uri": "https://localhost:8080/"
    },
    "executionInfo": {
     "elapsed": 19,
     "status": "ok",
     "timestamp": 1634249101443,
     "user": {
      "displayName": "Glenn",
      "photoUrl": "https://lh3.googleusercontent.com/a-/AOh14GjykiG4UrEIFJrppAQQSHHr3TjS4DL1ZBM99aAAdg=s64",
      "userId": "10553525024667050874"
     },
     "user_tz": 420
    },
    "id": "zhPa6N3nsmUj",
    "outputId": "1bf2de5a-c315-4cc3-85ce-8626b5310c13"
   },
   "outputs": [
    {
     "name": "stdout",
     "output_type": "stream",
     "text": [
      "(24420, 12)\n",
      "(24420,)\n"
     ]
    }
   ],
   "source": [
    "print(X_train.shape)\n",
    "print(y_train.shape)"
   ]
  },
  {
   "cell_type": "markdown",
   "metadata": {
    "id": "UK_xh_CwtN3k"
   },
   "source": [
    "### Logistic regression with a neural net"
   ]
  },
  {
   "cell_type": "code",
   "execution_count": null,
   "metadata": {
    "id": "gcuQYjLDtDcp"
   },
   "outputs": [],
   "source": [
    "# delete any old models\n",
    "K.clear_session()"
   ]
  },
  {
   "cell_type": "markdown",
   "metadata": {
    "id": "Qqud5GkFtyxI"
   },
   "source": [
    "Build the model."
   ]
  },
  {
   "cell_type": "code",
   "execution_count": null,
   "metadata": {
    "id": "tTfwX5QWtUmi"
   },
   "outputs": [],
   "source": [
    "# YOUR CODE HERE\n",
    "# assign your neural logistic regression model to 'model'."
   ]
  },
  {
   "cell_type": "code",
   "execution_count": null,
   "metadata": {
    "id": "61z2wRkBtlwY"
   },
   "outputs": [],
   "source": [
    "model.summary()"
   ]
  },
  {
   "cell_type": "markdown",
   "metadata": {
    "id": "0VXigEyK223b"
   },
   "source": [
    "Compile the model.  Use stochastic gradient descent for the optimizer, as in lecture."
   ]
  },
  {
   "cell_type": "code",
   "execution_count": null,
   "metadata": {
    "id": "jIcRzVyDtevF"
   },
   "outputs": [],
   "source": [
    "# YOUR CODE HERE"
   ]
  },
  {
   "cell_type": "markdown",
   "metadata": {
    "id": "PgARgZr4t2CB"
   },
   "source": [
    "Train the model.  \n",
    "\n",
    "Use 10 epochs and a batch size of 16.\n",
    "\n",
    "If using Colab, you might like trying the options under Runtime/Change runtime type to see which is fastest.  Using a GPU or TPU is probably not helpful for small examples like this."
   ]
  },
  {
   "cell_type": "code",
   "execution_count": null,
   "metadata": {
    "id": "84syAhketjAp"
   },
   "outputs": [],
   "source": [
    "# YOUR CODE HERE"
   ]
  },
  {
   "cell_type": "code",
   "execution_count": null,
   "metadata": {
    "id": "gLapJCg5uQrX"
   },
   "outputs": [],
   "source": [
    "plot_loss(history)"
   ]
  },
  {
   "cell_type": "markdown",
   "metadata": {
    "id": "q2VWFHfAu5QN"
   },
   "source": [
    "Compute test accuracy."
   ]
  },
  {
   "cell_type": "code",
   "execution_count": null,
   "metadata": {
    "id": "HBrfpvFHuXCp"
   },
   "outputs": [],
   "source": [
    "y_pred = (model.predict(X_test)[:,0] > 0.5).astype(int)\n",
    "test_acc = (y_pred == y_test).mean()\n",
    "print(f'test accuracy with neural net: {test_acc:.3f}')"
   ]
  },
  {
   "cell_type": "markdown",
   "metadata": {
    "id": "WgB9VayJu9qP"
   },
   "source": [
    "### Logistic regression with Scikit-Learn."
   ]
  },
  {
   "cell_type": "code",
   "execution_count": null,
   "metadata": {
    "id": "oZ5DoM0Nu1Jx"
   },
   "outputs": [],
   "source": [
    "clf = LogisticRegression()\n",
    "clf.fit(X_train, y_train)\n",
    "print('test accuracy with sklearn: {:.3f}'.format(clf.score(X_test, y_test)))"
   ]
  },
  {
   "cell_type": "markdown",
   "metadata": {
    "id": "zkWpeN67vnAU"
   },
   "source": [
    "### Play with number of epochs in neural net."
   ]
  },
  {
   "cell_type": "code",
   "execution_count": null,
   "metadata": {
    "id": "c8rmMrXavQeK"
   },
   "outputs": [],
   "source": [
    "# recompile, otherwise model will continue training from where it left off.\n",
    "model.compile()     # replace this line with your .compile() call\n",
    "\n",
    "# YOUR .fit() CODE HERE"
   ]
  },
  {
   "cell_type": "code",
   "execution_count": null,
   "metadata": {
    "id": "yw_HaWfzwnEp"
   },
   "outputs": [],
   "source": [
    "plot_loss(history)"
   ]
  },
  {
   "cell_type": "markdown",
   "metadata": {
    "id": "ms905KPwyI96"
   },
   "source": [
    "### A classifier with a single hidden layer of 10 neurons.  Use the ReLU activiation function in the hidden layer."
   ]
  },
  {
   "cell_type": "code",
   "execution_count": null,
   "metadata": {
    "id": "Lw_2psn-xSDa"
   },
   "outputs": [],
   "source": [
    "# YOUR CODE HERE; assign to variable 'model'\n",
    "\n",
    "# YOUR CODE HERE to compile the model."
   ]
  },
  {
   "cell_type": "code",
   "execution_count": null,
   "metadata": {
    "id": "41ZMRxWJy-TG"
   },
   "outputs": [],
   "source": [
    "model.summary()"
   ]
  },
  {
   "cell_type": "markdown",
   "metadata": {
    "id": "gIbx1aCNzQ67"
   },
   "source": [
    "Observe what happens during training.  Does loss keep decreasing?  Does validation loss keep decreasing?  "
   ]
  },
  {
   "cell_type": "code",
   "execution_count": null,
   "metadata": {
    "id": "KTpClw6Cy_tD"
   },
   "outputs": [],
   "source": [
    "# YOUR .fit() code here."
   ]
  },
  {
   "cell_type": "markdown",
   "metadata": {
    "id": "DmtFYXpSzbUz"
   },
   "source": [
    "Notice how the plot is a little different from before."
   ]
  },
  {
   "cell_type": "code",
   "execution_count": null,
   "metadata": {
    "id": "Gi70e3ZjzFmJ"
   },
   "outputs": [],
   "source": [
    "plot_loss(history)"
   ]
  },
  {
   "cell_type": "code",
   "execution_count": null,
   "metadata": {
    "id": "w5SspoYXzoc1"
   },
   "outputs": [],
   "source": [
    "y_pred = (model.predict(X_test)[:,0] > 0.5).astype(int)\n",
    "print('test accuracy with neural net: {:.3f}'.format((y_pred == y_test).mean()))"
   ]
  },
  {
   "cell_type": "markdown",
   "metadata": {
    "id": "O-Fy0wA-zkSt"
   },
   "source": [
    "### Play with batch size"
   ]
  },
  {
   "cell_type": "code",
   "execution_count": null,
   "metadata": {
    "id": "z0KuGm7OzZE4"
   },
   "outputs": [],
   "source": [
    "# YOUR CODE HERE\n",
    "\n",
    "# LINE 1 is to recompile the model\n",
    "# LINE 2 is to fit the model."
   ]
  },
  {
   "cell_type": "code",
   "execution_count": null,
   "metadata": {
    "id": "QTLYuN-rz3Nx"
   },
   "outputs": [],
   "source": [
    "y_pred = (model.predict(X_test)[:,0] > 0.5).astype(int)\n",
    "print('test accuracy with neural net: {:.3f}'.format((y_pred == y_test).mean()))"
   ]
  },
  {
   "cell_type": "markdown",
   "metadata": {
    "id": "xqIljee51yzN"
   },
   "source": [
    "### A hidden layer of 50 neurons."
   ]
  },
  {
   "cell_type": "code",
   "execution_count": null,
   "metadata": {
    "id": "24TwX_Zl2Bop"
   },
   "outputs": [],
   "source": [
    "# YOUR CODE HERE\n",
    "\n",
    "# first build the model, then compile the model"
   ]
  },
  {
   "cell_type": "code",
   "execution_count": null,
   "metadata": {
    "id": "9fkBWHRP2Boq"
   },
   "outputs": [],
   "source": [
    "# YOUR CODE HERE\n",
    "# train the model using .fit()"
   ]
  },
  {
   "cell_type": "code",
   "execution_count": null,
   "metadata": {
    "colab": {
     "base_uri": "https://localhost:8080/"
    },
    "executionInfo": {
     "elapsed": 445,
     "status": "ok",
     "timestamp": 1634249248591,
     "user": {
      "displayName": "Glenn",
      "photoUrl": "https://lh3.googleusercontent.com/a-/AOh14GjykiG4UrEIFJrppAQQSHHr3TjS4DL1ZBM99aAAdg=s64",
      "userId": "10553525024667050874"
     },
     "user_tz": 420
    },
    "id": "utpepaVT2Boq",
    "outputId": "3e284461-151d-4cda-c2bd-df5707d04e35"
   },
   "outputs": [
    {
     "name": "stdout",
     "output_type": "stream",
     "text": [
      "test accuracy with neural net: 0.828\n"
     ]
    }
   ],
   "source": [
    "y_pred = (model.predict(X_test)[:,0] > 0.5).astype(int)\n",
    "print('test accuracy with neural net: {:.3f}'.format((y_pred == y_test).mean()))"
   ]
  },
  {
   "cell_type": "markdown",
   "metadata": {
    "id": "bLRPxJBa0Trk"
   },
   "source": [
    "### Two hidden layers of 20 neurons each"
   ]
  },
  {
   "cell_type": "code",
   "execution_count": null,
   "metadata": {
    "id": "ZsD8HqmB0DIg"
   },
   "outputs": [],
   "source": [
    "# YOUR CODE HERE\n",
    "\n",
    "# first build the model, then compile the model"
   ]
  },
  {
   "cell_type": "code",
   "execution_count": null,
   "metadata": {
    "id": "TZct5Gbs1O8i"
   },
   "outputs": [],
   "source": [
    "# YOUR CODE HERE\n",
    "# train the model using .fit()"
   ]
  },
  {
   "cell_type": "code",
   "execution_count": null,
   "metadata": {
    "id": "YjpurZyb1Pmw"
   },
   "outputs": [],
   "source": [
    "y_pred = (model.predict(X_test)[:,0] > 0.5).astype(int)\n",
    "print('test accuracy with neural net: {:.3f}'.format((y_pred == y_test).mean()))"
   ]
  },
  {
   "cell_type": "markdown",
   "metadata": {
    "id": "-vONjPwgi9Go"
   },
   "source": [
    "If you still have time, create a function 'plot_accuracy()' that is like the plot_loss() function at the top of this file -- but that plots the accuracy.  Try it with some of your code above."
   ]
  }
 ],
 "metadata": {
  "colab": {
   "provenance": [],
   "authorship_tag": "ABX9TyOnpTr20TO2guzhlOuCu0sB"
  },
  "kernelspec": {
   "display_name": "Python 3 (ipykernel)",
   "language": "python",
   "name": "python3"
  },
  "language_info": {
   "codemirror_mode": {
    "name": "ipython",
    "version": 3
   },
   "file_extension": ".py",
   "mimetype": "text/x-python",
   "name": "python",
   "nbconvert_exporter": "python",
   "pygments_lexer": "ipython3",
   "version": "3.8.8"
  }
 },
 "nbformat": 4,
 "nbformat_minor": 0
}
