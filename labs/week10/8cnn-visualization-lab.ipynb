{
 "cells": [
  {
   "cell_type": "markdown",
   "id": "kjh9naG9-yTY",
   "metadata": {
    "id": "kjh9naG9-yTY"
   },
   "source": [
    "# CNN architectures for CIFAR-10 classification"
   ]
  },
  {
   "cell_type": "markdown",
   "id": "p4bM3KRo-4lG",
   "metadata": {
    "id": "p4bM3KRo-4lG"
   },
   "source": [
    "CIFAR-10 is a famous collection of small color images, each 32 x 32 pixels.  There are 6,000 images in each of 10 classes.\n",
    "\n",
    "https://www.cs.toronto.edu/~kriz/cifar.html\n",
    "\n",
    "It is good when starting to work with CNNs.  In this assignment you will play with a CNN model to obtain the best\n",
    "test accuracy on CIFAR-10.\n",
    "\n",
    "## Instructions\n",
    "\n",
    "In the code below, a baseline CNN classifier is created.  Your job is to code and run a bunch of experiments to see the effect of changes to the CNN classifier. \n",
    "\n",
    "Read the code, and look for problem prompts.\n",
    "\n",
    "Run your code from top to bottom before submitting."
   ]
  },
  {
   "cell_type": "markdown",
   "source": [
    "\n",
    "## Instructions\n",
    "\n",
    "Section 9.4.1 of our Chollet text shows how to visualize intermediate activations.  Apply the ideas in that section to a CNN CIFAR model.  \n",
    "\n",
    "Copy this notebook as your starting point.\n",
    "\n",
    "Chollet's book is available in the O'Reilly Learning Center.\n",
    "\n",
    "You probably want to steal code from Chollet's [notebook for the part of chapter 9 on visualizing CNNs](https://github.com/fchollet/deep-learning-with-python-notebooks/blob/master/chapter09_part03_interpreting-what-convnets-learn.ipynb).\n"
   ],
   "metadata": {
    "collapsed": false
   },
   "id": "288f0db4be0128bf"
  },
  {
   "cell_type": "code",
   "execution_count": null,
   "outputs": [],
   "source": [],
   "metadata": {
    "collapsed": false
   },
   "id": "4694ebc508683189"
  },
  {
   "cell_type": "code",
   "execution_count": null,
   "outputs": [],
   "source": [],
   "metadata": {
    "collapsed": false
   },
   "id": "61c021f60abefd4b"
  },
  {
   "cell_type": "code",
   "execution_count": 1,
   "id": "2fefc385",
   "metadata": {
    "executionInfo": {
     "elapsed": 2951,
     "status": "ok",
     "timestamp": 1635889188059,
     "user": {
      "displayName": "Glenn",
      "photoUrl": "https://lh3.googleusercontent.com/a-/AOh14GjykiG4UrEIFJrppAQQSHHr3TjS4DL1ZBM99aAAdg=s64",
      "userId": "10553525024667050874"
     },
     "user_tz": 420
    },
    "id": "2fefc385",
    "ExecuteTime": {
     "end_time": "2024-10-30T16:21:54.721595Z",
     "start_time": "2024-10-30T16:21:52.321354Z"
    }
   },
   "outputs": [
    {
     "name": "stderr",
     "output_type": "stream",
     "text": [
      "/var/folders/qh/wybqz5g16cl72p8y8_w08npr0000gn/T/ipykernel_57976/2444071212.py:9: DeprecationWarning: Importing display from IPython.core.display is deprecated since IPython 7.14, please import from IPython display\n",
      "  from IPython.core.display import display, HTML\n"
     ]
    }
   ],
   "source": [
    "import tensorflow as tf\n",
    "from tensorflow.keras import models, layers\n",
    "from tensorflow.keras.datasets import mnist, cifar10\n",
    "from tensorflow.keras.utils import to_categorical\n",
    "from tensorflow.keras.callbacks import ReduceLROnPlateau, EarlyStopping\n",
    "import numpy as np\n",
    "import pandas as pd\n",
    "import matplotlib.pyplot as plt\n",
    "from IPython.core.display import display, HTML"
   ]
  },
  {
   "cell_type": "code",
   "execution_count": 2,
   "id": "58584454",
   "metadata": {
    "colab": {
     "base_uri": "https://localhost:8080/",
     "height": 16
    },
    "executionInfo": {
     "elapsed": 225,
     "status": "ok",
     "timestamp": 1635889189215,
     "user": {
      "displayName": "Glenn",
      "photoUrl": "https://lh3.googleusercontent.com/a-/AOh14GjykiG4UrEIFJrppAQQSHHr3TjS4DL1ZBM99aAAdg=s64",
      "userId": "10553525024667050874"
     },
     "user_tz": 420
    },
    "id": "58584454",
    "outputId": "7ee2c7b3-4665-410d-e9cb-d90fe6c4c7ba",
    "ExecuteTime": {
     "end_time": "2024-10-30T16:21:54.721957Z",
     "start_time": "2024-10-30T16:21:54.717746Z"
    }
   },
   "outputs": [
    {
     "data": {
      "text/plain": "<IPython.core.display.HTML object>",
      "text/html": "<style>.container { width:100% !important; }</style>"
     },
     "metadata": {},
     "output_type": "display_data"
    }
   ],
   "source": [
    "# allow output to span multiple output lines in the console\n",
    "pd.set_option('display.max_columns', 600)\n",
    "pd.options.display.width = 120\n",
    "pd.options.display.max_colwidth = 50\n",
    "display(HTML(\"<style>.container { width:100% !important; }</style>\"))"
   ]
  },
  {
   "cell_type": "code",
   "execution_count": 3,
   "id": "DyNLhFSVxRlW",
   "metadata": {
    "executionInfo": {
     "elapsed": 4,
     "status": "ok",
     "timestamp": 1635889190218,
     "user": {
      "displayName": "Glenn",
      "photoUrl": "https://lh3.googleusercontent.com/a-/AOh14GjykiG4UrEIFJrppAQQSHHr3TjS4DL1ZBM99aAAdg=s64",
      "userId": "10553525024667050874"
     },
     "user_tz": 420
    },
    "id": "DyNLhFSVxRlW",
    "ExecuteTime": {
     "end_time": "2024-10-30T16:21:54.724516Z",
     "start_time": "2024-10-30T16:21:54.722593Z"
    }
   },
   "outputs": [],
   "source": [
    "def plot_metric(history, metric='loss'):\n",
    "    \"\"\" Plot training and test values for a metric. \"\"\"\n",
    "\n",
    "    val_metric = 'val_'+metric\n",
    "    plt.plot(history.history[metric])\n",
    "    plt.plot(history.history[val_metric])\n",
    "    plt.title('model '+metric)\n",
    "    plt.ylabel(metric)\n",
    "    plt.xlabel('epoch')\n",
    "    plt.legend(['train', 'test'])\n",
    "    plt.show();"
   ]
  },
  {
   "cell_type": "markdown",
   "id": "UZoJCxr2AT6Q",
   "metadata": {
    "id": "UZoJCxr2AT6Q"
   },
   "source": [
    "This will help with replicability, but does not control all aspects of randomness in the code."
   ]
  },
  {
   "cell_type": "code",
   "execution_count": 4,
   "id": "6XQbXT1gAQol",
   "metadata": {
    "executionInfo": {
     "elapsed": 236,
     "status": "ok",
     "timestamp": 1635889192030,
     "user": {
      "displayName": "Glenn",
      "photoUrl": "https://lh3.googleusercontent.com/a-/AOh14GjykiG4UrEIFJrppAQQSHHr3TjS4DL1ZBM99aAAdg=s64",
      "userId": "10553525024667050874"
     },
     "user_tz": 420
    },
    "id": "6XQbXT1gAQol",
    "ExecuteTime": {
     "end_time": "2024-10-30T16:21:54.729821Z",
     "start_time": "2024-10-30T16:21:54.724777Z"
    }
   },
   "outputs": [],
   "source": [
    "np.random.seed()"
   ]
  },
  {
   "cell_type": "markdown",
   "id": "CKd5eMtxw3QO",
   "metadata": {
    "id": "CKd5eMtxw3QO"
   },
   "source": [
    "### Read the data"
   ]
  },
  {
   "cell_type": "code",
   "execution_count": 5,
   "id": "xp4u-WKrpNN-",
   "metadata": {
    "colab": {
     "base_uri": "https://localhost:8080/"
    },
    "executionInfo": {
     "elapsed": 4668,
     "status": "ok",
     "timestamp": 1635889197706,
     "user": {
      "displayName": "Glenn",
      "photoUrl": "https://lh3.googleusercontent.com/a-/AOh14GjykiG4UrEIFJrppAQQSHHr3TjS4DL1ZBM99aAAdg=s64",
      "userId": "10553525024667050874"
     },
     "user_tz": 420
    },
    "id": "xp4u-WKrpNN-",
    "outputId": "1c6a3ae4-8494-486f-edb0-1fabe29ca4a6",
    "ExecuteTime": {
     "end_time": "2024-10-30T16:21:55.754889Z",
     "start_time": "2024-10-30T16:21:54.728061Z"
    }
   },
   "outputs": [],
   "source": [
    "(X_train, y_train), (X_test, y_test) = cifar10.load_data()"
   ]
  },
  {
   "cell_type": "code",
   "execution_count": 6,
   "id": "RQ7kVtboXqpk",
   "metadata": {
    "colab": {
     "base_uri": "https://localhost:8080/"
    },
    "executionInfo": {
     "elapsed": 5,
     "status": "ok",
     "timestamp": 1635889197707,
     "user": {
      "displayName": "Glenn",
      "photoUrl": "https://lh3.googleusercontent.com/a-/AOh14GjykiG4UrEIFJrppAQQSHHr3TjS4DL1ZBM99aAAdg=s64",
      "userId": "10553525024667050874"
     },
     "user_tz": 420
    },
    "id": "RQ7kVtboXqpk",
    "outputId": "3795513f-f9bd-42f0-e408-ad9833275894",
    "ExecuteTime": {
     "end_time": "2024-10-30T16:21:55.760536Z",
     "start_time": "2024-10-30T16:21:55.755443Z"
    }
   },
   "outputs": [
    {
     "name": "stdout",
     "output_type": "stream",
     "text": [
      "(50000, 32, 32, 3)\n",
      "(50000, 1)\n",
      "(10000, 32, 32, 3)\n",
      "(10000, 1)\n"
     ]
    }
   ],
   "source": [
    "print(X_train.shape)\n",
    "print(y_train.shape)\n",
    "print(X_test.shape)\n",
    "print(y_test.shape)"
   ]
  },
  {
   "cell_type": "code",
   "execution_count": 7,
   "id": "VAIQYRHJor41",
   "metadata": {
    "colab": {
     "base_uri": "https://localhost:8080/"
    },
    "executionInfo": {
     "elapsed": 634,
     "status": "ok",
     "timestamp": 1635889199540,
     "user": {
      "displayName": "Glenn",
      "photoUrl": "https://lh3.googleusercontent.com/a-/AOh14GjykiG4UrEIFJrppAQQSHHr3TjS4DL1ZBM99aAAdg=s64",
      "userId": "10553525024667050874"
     },
     "user_tz": 420
    },
    "id": "VAIQYRHJor41",
    "outputId": "17be301c-88a7-47ef-8b6c-88c6c9a3e145",
    "ExecuteTime": {
     "end_time": "2024-10-30T16:21:55.791918Z",
     "start_time": "2024-10-30T16:21:55.757872Z"
    }
   },
   "outputs": [
    {
     "name": "stdout",
     "output_type": "stream",
     "text": [
      "0 255\n",
      "[0 1 2 3 4 5 6 7 8 9]\n"
     ]
    }
   ],
   "source": [
    "print(X_train.min(), X_train.max())\n",
    "print(np.unique(y_train))"
   ]
  },
  {
   "cell_type": "markdown",
   "id": "vOSxuz2SGsPW",
   "metadata": {
    "id": "vOSxuz2SGsPW"
   },
   "source": [
    "#### We'll use a smaller version of the data to speed up the training process."
   ]
  },
  {
   "cell_type": "code",
   "execution_count": 8,
   "id": "QNv46FKtGXBJ",
   "metadata": {
    "executionInfo": {
     "elapsed": 183,
     "status": "ok",
     "timestamp": 1635889201605,
     "user": {
      "displayName": "Glenn",
      "photoUrl": "https://lh3.googleusercontent.com/a-/AOh14GjykiG4UrEIFJrppAQQSHHr3TjS4DL1ZBM99aAAdg=s64",
      "userId": "10553525024667050874"
     },
     "user_tz": 420
    },
    "id": "QNv46FKtGXBJ",
    "ExecuteTime": {
     "end_time": "2024-10-30T16:21:55.798469Z",
     "start_time": "2024-10-30T16:21:55.776496Z"
    }
   },
   "outputs": [],
   "source": [
    "num_train = 25000\n",
    "num_test = 8000\n",
    "X_train = X_train[:num_train]\n",
    "y_train = y_train[:num_train]\n",
    "X_test = X_test[:num_test]\n",
    "y_test = y_test[:num_test]"
   ]
  },
  {
   "cell_type": "markdown",
   "id": "KblcmCnEw64O",
   "metadata": {
    "id": "KblcmCnEw64O"
   },
   "source": [
    "### Preprocess the data"
   ]
  },
  {
   "cell_type": "code",
   "execution_count": 9,
   "id": "aDkzEKMbqEzX",
   "metadata": {
    "executionInfo": {
     "elapsed": 379,
     "status": "ok",
     "timestamp": 1635889211485,
     "user": {
      "displayName": "Glenn",
      "photoUrl": "https://lh3.googleusercontent.com/a-/AOh14GjykiG4UrEIFJrppAQQSHHr3TjS4DL1ZBM99aAAdg=s64",
      "userId": "10553525024667050874"
     },
     "user_tz": 420
    },
    "id": "aDkzEKMbqEzX",
    "ExecuteTime": {
     "end_time": "2024-10-30T16:21:55.853776Z",
     "start_time": "2024-10-30T16:21:55.779276Z"
    }
   },
   "outputs": [],
   "source": [
    "# from integers in [0,255] to float in [0,1]\n",
    "X_train = X_train.astype('float32') / 255\n",
    "X_test  = X_test.astype('float32') / 255\n",
    "\n",
    "# one hot encoding\n",
    "y_train = to_categorical(y_train)\n",
    "y_test  = to_categorical(y_test)"
   ]
  },
  {
   "cell_type": "code",
   "execution_count": 10,
   "id": "qDQl-cEyrBF-",
   "metadata": {
    "colab": {
     "base_uri": "https://localhost:8080/"
    },
    "executionInfo": {
     "elapsed": 187,
     "status": "ok",
     "timestamp": 1635889212973,
     "user": {
      "displayName": "Glenn",
      "photoUrl": "https://lh3.googleusercontent.com/a-/AOh14GjykiG4UrEIFJrppAQQSHHr3TjS4DL1ZBM99aAAdg=s64",
      "userId": "10553525024667050874"
     },
     "user_tz": 420
    },
    "id": "qDQl-cEyrBF-",
    "outputId": "ed33323f-99ad-43f8-cfd9-6c2db65795a7",
    "ExecuteTime": {
     "end_time": "2024-10-30T16:21:55.858843Z",
     "start_time": "2024-10-30T16:21:55.854452Z"
    }
   },
   "outputs": [
    {
     "name": "stdout",
     "output_type": "stream",
     "text": [
      "(25000, 32, 32, 3)\n",
      "(25000, 10)\n",
      "(8000, 32, 32, 3)\n",
      "(8000, 10)\n"
     ]
    }
   ],
   "source": [
    "print(X_train.shape)\n",
    "print(y_train.shape)\n",
    "print(X_test.shape)\n",
    "print(y_test.shape)"
   ]
  },
  {
   "cell_type": "markdown",
   "id": "mUaP48QMxAr-",
   "metadata": {
    "id": "mUaP48QMxAr-"
   },
   "source": [
    "### CNN model"
   ]
  },
  {
   "cell_type": "code",
   "execution_count": 11,
   "id": "jvVqEYTpxVm2",
   "metadata": {
    "executionInfo": {
     "elapsed": 162,
     "status": "ok",
     "timestamp": 1635889718422,
     "user": {
      "displayName": "Glenn",
      "photoUrl": "https://lh3.googleusercontent.com/a-/AOh14GjykiG4UrEIFJrppAQQSHHr3TjS4DL1ZBM99aAAdg=s64",
      "userId": "10553525024667050874"
     },
     "user_tz": 420
    },
    "id": "jvVqEYTpxVm2",
    "ExecuteTime": {
     "end_time": "2024-10-30T16:21:56.152156Z",
     "start_time": "2024-10-30T16:21:55.858656Z"
    }
   },
   "outputs": [
    {
     "name": "stderr",
     "output_type": "stream",
     "text": [
      "/Users/ssogden/miniconda3/envs/cst463/lib/python3.10/site-packages/keras/src/layers/convolutional/base_conv.py:107: UserWarning: Do not pass an `input_shape`/`input_dim` argument to a layer. When using Sequential models, prefer using an `Input(shape)` object as the first layer in the model instead.\n",
      "  super().__init__(activity_regularizer=activity_regularizer, **kwargs)\n",
      "2024-10-30 09:21:55.860525: I metal_plugin/src/device/metal_device.cc:1154] Metal device set to: Apple M2 Max\n",
      "2024-10-30 09:21:55.860544: I metal_plugin/src/device/metal_device.cc:296] systemMemory: 32.00 GB\n",
      "2024-10-30 09:21:55.860551: I metal_plugin/src/device/metal_device.cc:313] maxCacheSize: 10.67 GB\n",
      "2024-10-30 09:21:55.860565: I tensorflow/core/common_runtime/pluggable_device/pluggable_device_factory.cc:305] Could not identify NUMA node of platform GPU ID 0, defaulting to 0. Your kernel may not have been built with NUMA support.\n",
      "2024-10-30 09:21:55.860579: I tensorflow/core/common_runtime/pluggable_device/pluggable_device_factory.cc:271] Created TensorFlow device (/job:localhost/replica:0/task:0/device:GPU:0 with 0 MB memory) -> physical PluggableDevice (device: 0, name: METAL, pci bus id: <undefined>)\n"
     ]
    }
   ],
   "source": [
    "model = models.Sequential()\n",
    "model.add(layers.Conv2D(32, (3, 3), activation='elu', input_shape=(32,32,3)))\n",
    "model.add(layers.Conv2D(32, (3, 3), activation='elu'))\n",
    "model.add(layers.MaxPooling2D((2,2)))\n",
    "model.add(layers.Conv2D(64, (3, 3), activation='elu'))\n",
    "model.add(layers.MaxPooling2D((2,2)))\n",
    "model.add(layers.Flatten())\n",
    "# classification part\n",
    "model.add(layers.Dense(10, activation='softmax'))"
   ]
  },
  {
   "cell_type": "code",
   "execution_count": 12,
   "id": "t6K5yInu7vrd",
   "metadata": {
    "colab": {
     "base_uri": "https://localhost:8080/"
    },
    "executionInfo": {
     "elapsed": 166,
     "status": "ok",
     "timestamp": 1635889720487,
     "user": {
      "displayName": "Glenn",
      "photoUrl": "https://lh3.googleusercontent.com/a-/AOh14GjykiG4UrEIFJrppAQQSHHr3TjS4DL1ZBM99aAAdg=s64",
      "userId": "10553525024667050874"
     },
     "user_tz": 420
    },
    "id": "t6K5yInu7vrd",
    "outputId": "0b888354-4dc0-4cc4-ce46-b574bd3797d1",
    "ExecuteTime": {
     "end_time": "2024-10-30T16:21:56.163545Z",
     "start_time": "2024-10-30T16:21:56.153623Z"
    }
   },
   "outputs": [
    {
     "data": {
      "text/plain": "\u001B[1mModel: \"sequential\"\u001B[0m\n",
      "text/html": "<pre style=\"white-space:pre;overflow-x:auto;line-height:normal;font-family:Menlo,'DejaVu Sans Mono',consolas,'Courier New',monospace\"><span style=\"font-weight: bold\">Model: \"sequential\"</span>\n</pre>\n"
     },
     "metadata": {},
     "output_type": "display_data"
    },
    {
     "data": {
      "text/plain": "┏━━━━━━━━━━━━━━━━━━━━━━━━━━━━━━━━━┳━━━━━━━━━━━━━━━━━━━━━━━━┳━━━━━━━━━━━━━━━┓\n┃\u001B[1m \u001B[0m\u001B[1mLayer (type)                   \u001B[0m\u001B[1m \u001B[0m┃\u001B[1m \u001B[0m\u001B[1mOutput Shape          \u001B[0m\u001B[1m \u001B[0m┃\u001B[1m \u001B[0m\u001B[1m      Param #\u001B[0m\u001B[1m \u001B[0m┃\n┡━━━━━━━━━━━━━━━━━━━━━━━━━━━━━━━━━╇━━━━━━━━━━━━━━━━━━━━━━━━╇━━━━━━━━━━━━━━━┩\n│ conv2d (\u001B[38;5;33mConv2D\u001B[0m)                 │ (\u001B[38;5;45mNone\u001B[0m, \u001B[38;5;34m30\u001B[0m, \u001B[38;5;34m30\u001B[0m, \u001B[38;5;34m32\u001B[0m)     │           \u001B[38;5;34m896\u001B[0m │\n├─────────────────────────────────┼────────────────────────┼───────────────┤\n│ conv2d_1 (\u001B[38;5;33mConv2D\u001B[0m)               │ (\u001B[38;5;45mNone\u001B[0m, \u001B[38;5;34m28\u001B[0m, \u001B[38;5;34m28\u001B[0m, \u001B[38;5;34m32\u001B[0m)     │         \u001B[38;5;34m9,248\u001B[0m │\n├─────────────────────────────────┼────────────────────────┼───────────────┤\n│ max_pooling2d (\u001B[38;5;33mMaxPooling2D\u001B[0m)    │ (\u001B[38;5;45mNone\u001B[0m, \u001B[38;5;34m14\u001B[0m, \u001B[38;5;34m14\u001B[0m, \u001B[38;5;34m32\u001B[0m)     │             \u001B[38;5;34m0\u001B[0m │\n├─────────────────────────────────┼────────────────────────┼───────────────┤\n│ conv2d_2 (\u001B[38;5;33mConv2D\u001B[0m)               │ (\u001B[38;5;45mNone\u001B[0m, \u001B[38;5;34m12\u001B[0m, \u001B[38;5;34m12\u001B[0m, \u001B[38;5;34m64\u001B[0m)     │        \u001B[38;5;34m18,496\u001B[0m │\n├─────────────────────────────────┼────────────────────────┼───────────────┤\n│ max_pooling2d_1 (\u001B[38;5;33mMaxPooling2D\u001B[0m)  │ (\u001B[38;5;45mNone\u001B[0m, \u001B[38;5;34m6\u001B[0m, \u001B[38;5;34m6\u001B[0m, \u001B[38;5;34m64\u001B[0m)       │             \u001B[38;5;34m0\u001B[0m │\n├─────────────────────────────────┼────────────────────────┼───────────────┤\n│ flatten (\u001B[38;5;33mFlatten\u001B[0m)               │ (\u001B[38;5;45mNone\u001B[0m, \u001B[38;5;34m2304\u001B[0m)           │             \u001B[38;5;34m0\u001B[0m │\n├─────────────────────────────────┼────────────────────────┼───────────────┤\n│ dense (\u001B[38;5;33mDense\u001B[0m)                   │ (\u001B[38;5;45mNone\u001B[0m, \u001B[38;5;34m10\u001B[0m)             │        \u001B[38;5;34m23,050\u001B[0m │\n└─────────────────────────────────┴────────────────────────┴───────────────┘\n",
      "text/html": "<pre style=\"white-space:pre;overflow-x:auto;line-height:normal;font-family:Menlo,'DejaVu Sans Mono',consolas,'Courier New',monospace\">┏━━━━━━━━━━━━━━━━━━━━━━━━━━━━━━━━━┳━━━━━━━━━━━━━━━━━━━━━━━━┳━━━━━━━━━━━━━━━┓\n┃<span style=\"font-weight: bold\"> Layer (type)                    </span>┃<span style=\"font-weight: bold\"> Output Shape           </span>┃<span style=\"font-weight: bold\">       Param # </span>┃\n┡━━━━━━━━━━━━━━━━━━━━━━━━━━━━━━━━━╇━━━━━━━━━━━━━━━━━━━━━━━━╇━━━━━━━━━━━━━━━┩\n│ conv2d (<span style=\"color: #0087ff; text-decoration-color: #0087ff\">Conv2D</span>)                 │ (<span style=\"color: #00d7ff; text-decoration-color: #00d7ff\">None</span>, <span style=\"color: #00af00; text-decoration-color: #00af00\">30</span>, <span style=\"color: #00af00; text-decoration-color: #00af00\">30</span>, <span style=\"color: #00af00; text-decoration-color: #00af00\">32</span>)     │           <span style=\"color: #00af00; text-decoration-color: #00af00\">896</span> │\n├─────────────────────────────────┼────────────────────────┼───────────────┤\n│ conv2d_1 (<span style=\"color: #0087ff; text-decoration-color: #0087ff\">Conv2D</span>)               │ (<span style=\"color: #00d7ff; text-decoration-color: #00d7ff\">None</span>, <span style=\"color: #00af00; text-decoration-color: #00af00\">28</span>, <span style=\"color: #00af00; text-decoration-color: #00af00\">28</span>, <span style=\"color: #00af00; text-decoration-color: #00af00\">32</span>)     │         <span style=\"color: #00af00; text-decoration-color: #00af00\">9,248</span> │\n├─────────────────────────────────┼────────────────────────┼───────────────┤\n│ max_pooling2d (<span style=\"color: #0087ff; text-decoration-color: #0087ff\">MaxPooling2D</span>)    │ (<span style=\"color: #00d7ff; text-decoration-color: #00d7ff\">None</span>, <span style=\"color: #00af00; text-decoration-color: #00af00\">14</span>, <span style=\"color: #00af00; text-decoration-color: #00af00\">14</span>, <span style=\"color: #00af00; text-decoration-color: #00af00\">32</span>)     │             <span style=\"color: #00af00; text-decoration-color: #00af00\">0</span> │\n├─────────────────────────────────┼────────────────────────┼───────────────┤\n│ conv2d_2 (<span style=\"color: #0087ff; text-decoration-color: #0087ff\">Conv2D</span>)               │ (<span style=\"color: #00d7ff; text-decoration-color: #00d7ff\">None</span>, <span style=\"color: #00af00; text-decoration-color: #00af00\">12</span>, <span style=\"color: #00af00; text-decoration-color: #00af00\">12</span>, <span style=\"color: #00af00; text-decoration-color: #00af00\">64</span>)     │        <span style=\"color: #00af00; text-decoration-color: #00af00\">18,496</span> │\n├─────────────────────────────────┼────────────────────────┼───────────────┤\n│ max_pooling2d_1 (<span style=\"color: #0087ff; text-decoration-color: #0087ff\">MaxPooling2D</span>)  │ (<span style=\"color: #00d7ff; text-decoration-color: #00d7ff\">None</span>, <span style=\"color: #00af00; text-decoration-color: #00af00\">6</span>, <span style=\"color: #00af00; text-decoration-color: #00af00\">6</span>, <span style=\"color: #00af00; text-decoration-color: #00af00\">64</span>)       │             <span style=\"color: #00af00; text-decoration-color: #00af00\">0</span> │\n├─────────────────────────────────┼────────────────────────┼───────────────┤\n│ flatten (<span style=\"color: #0087ff; text-decoration-color: #0087ff\">Flatten</span>)               │ (<span style=\"color: #00d7ff; text-decoration-color: #00d7ff\">None</span>, <span style=\"color: #00af00; text-decoration-color: #00af00\">2304</span>)           │             <span style=\"color: #00af00; text-decoration-color: #00af00\">0</span> │\n├─────────────────────────────────┼────────────────────────┼───────────────┤\n│ dense (<span style=\"color: #0087ff; text-decoration-color: #0087ff\">Dense</span>)                   │ (<span style=\"color: #00d7ff; text-decoration-color: #00d7ff\">None</span>, <span style=\"color: #00af00; text-decoration-color: #00af00\">10</span>)             │        <span style=\"color: #00af00; text-decoration-color: #00af00\">23,050</span> │\n└─────────────────────────────────┴────────────────────────┴───────────────┘\n</pre>\n"
     },
     "metadata": {},
     "output_type": "display_data"
    },
    {
     "data": {
      "text/plain": "\u001B[1m Total params: \u001B[0m\u001B[38;5;34m51,690\u001B[0m (201.91 KB)\n",
      "text/html": "<pre style=\"white-space:pre;overflow-x:auto;line-height:normal;font-family:Menlo,'DejaVu Sans Mono',consolas,'Courier New',monospace\"><span style=\"font-weight: bold\"> Total params: </span><span style=\"color: #00af00; text-decoration-color: #00af00\">51,690</span> (201.91 KB)\n</pre>\n"
     },
     "metadata": {},
     "output_type": "display_data"
    },
    {
     "data": {
      "text/plain": "\u001B[1m Trainable params: \u001B[0m\u001B[38;5;34m51,690\u001B[0m (201.91 KB)\n",
      "text/html": "<pre style=\"white-space:pre;overflow-x:auto;line-height:normal;font-family:Menlo,'DejaVu Sans Mono',consolas,'Courier New',monospace\"><span style=\"font-weight: bold\"> Trainable params: </span><span style=\"color: #00af00; text-decoration-color: #00af00\">51,690</span> (201.91 KB)\n</pre>\n"
     },
     "metadata": {},
     "output_type": "display_data"
    },
    {
     "data": {
      "text/plain": "\u001B[1m Non-trainable params: \u001B[0m\u001B[38;5;34m0\u001B[0m (0.00 B)\n",
      "text/html": "<pre style=\"white-space:pre;overflow-x:auto;line-height:normal;font-family:Menlo,'DejaVu Sans Mono',consolas,'Courier New',monospace\"><span style=\"font-weight: bold\"> Non-trainable params: </span><span style=\"color: #00af00; text-decoration-color: #00af00\">0</span> (0.00 B)\n</pre>\n"
     },
     "metadata": {},
     "output_type": "display_data"
    }
   ],
   "source": [
    "model.summary()"
   ]
  },
  {
   "cell_type": "markdown",
   "id": "FpoOKUmuxJW-",
   "metadata": {
    "id": "FpoOKUmuxJW-"
   },
   "source": [
    "### Compile and train the model"
   ]
  },
  {
   "cell_type": "code",
   "execution_count": 13,
   "id": "T_IIeKIprTd9",
   "metadata": {
    "colab": {
     "base_uri": "https://localhost:8080/"
    },
    "executionInfo": {
     "elapsed": 262324,
     "status": "ok",
     "timestamp": 1635889985104,
     "user": {
      "displayName": "Glenn",
      "photoUrl": "https://lh3.googleusercontent.com/a-/AOh14GjykiG4UrEIFJrppAQQSHHr3TjS4DL1ZBM99aAAdg=s64",
      "userId": "10553525024667050874"
     },
     "user_tz": 420
    },
    "id": "T_IIeKIprTd9",
    "outputId": "f75af714-107f-4f7e-b708-290738385998",
    "ExecuteTime": {
     "end_time": "2024-10-30T16:22:23.814090Z",
     "start_time": "2024-10-30T16:21:56.161699Z"
    }
   },
   "outputs": [
    {
     "name": "stdout",
     "output_type": "stream",
     "text": [
      "Epoch 1/5\n"
     ]
    },
    {
     "name": "stderr",
     "output_type": "stream",
     "text": [
      "2024-10-30 09:21:56.465734: I tensorflow/core/grappler/optimizers/custom_graph_optimizer_registry.cc:117] Plugin optimizer for device_type GPU is enabled.\n"
     ]
    },
    {
     "name": "stdout",
     "output_type": "stream",
     "text": [
      "\u001B[1m137/137\u001B[0m \u001B[32m━━━━━━━━━━━━━━━━━━━━\u001B[0m\u001B[37m\u001B[0m \u001B[1m7s\u001B[0m 40ms/step - accuracy: 0.2627 - loss: 2.0213 - val_accuracy: 0.4093 - val_loss: 1.6568\n",
      "Epoch 2/5\n",
      "\u001B[1m137/137\u001B[0m \u001B[32m━━━━━━━━━━━━━━━━━━━━\u001B[0m\u001B[37m\u001B[0m \u001B[1m5s\u001B[0m 37ms/step - accuracy: 0.4659 - loss: 1.5179 - val_accuracy: 0.5279 - val_loss: 1.3579\n",
      "Epoch 3/5\n",
      "\u001B[1m137/137\u001B[0m \u001B[32m━━━━━━━━━━━━━━━━━━━━\u001B[0m\u001B[37m\u001B[0m \u001B[1m5s\u001B[0m 37ms/step - accuracy: 0.5456 - loss: 1.3133 - val_accuracy: 0.5641 - val_loss: 1.2446\n",
      "Epoch 4/5\n",
      "\u001B[1m137/137\u001B[0m \u001B[32m━━━━━━━━━━━━━━━━━━━━\u001B[0m\u001B[37m\u001B[0m \u001B[1m5s\u001B[0m 38ms/step - accuracy: 0.5894 - loss: 1.1802 - val_accuracy: 0.6032 - val_loss: 1.1820\n",
      "Epoch 5/5\n",
      "\u001B[1m137/137\u001B[0m \u001B[32m━━━━━━━━━━━━━━━━━━━━\u001B[0m\u001B[37m\u001B[0m \u001B[1m5s\u001B[0m 38ms/step - accuracy: 0.6226 - loss: 1.0925 - val_accuracy: 0.5964 - val_loss: 1.1810\n"
     ]
    }
   ],
   "source": [
    "model.compile(optimizer='rmsprop',\n",
    "              loss='categorical_crossentropy',\n",
    "              metrics=['accuracy'])\n",
    "history = model.fit(X_train, y_train, epochs=5, batch_size=128, validation_split=0.3)"
   ]
  },
  {
   "cell_type": "code",
   "execution_count": 14,
   "id": "MaqBRiUu6g0U",
   "metadata": {
    "colab": {
     "base_uri": "https://localhost:8080/",
     "height": 294
    },
    "executionInfo": {
     "elapsed": 541,
     "status": "ok",
     "timestamp": 1635890244762,
     "user": {
      "displayName": "Glenn",
      "photoUrl": "https://lh3.googleusercontent.com/a-/AOh14GjykiG4UrEIFJrppAQQSHHr3TjS4DL1ZBM99aAAdg=s64",
      "userId": "10553525024667050874"
     },
     "user_tz": 420
    },
    "id": "MaqBRiUu6g0U",
    "outputId": "67fc2a4c-6fff-4535-80ac-859ad31cdf67",
    "ExecuteTime": {
     "end_time": "2024-10-30T16:22:23.923516Z",
     "start_time": "2024-10-30T16:22:23.816282Z"
    }
   },
   "outputs": [
    {
     "data": {
      "text/plain": "<Figure size 640x480 with 1 Axes>",
      "image/png": "[encoded data removed]"
     },
     "metadata": {},
     "output_type": "display_data"
    }
   ],
   "source": [
    "plot_metric(history)"
   ]
  },
  {
   "cell_type": "code",
   "execution_count": 15,
   "id": "01eb7956",
   "metadata": {
    "executionInfo": {
     "elapsed": 4,
     "status": "ok",
     "timestamp": 1635889689214,
     "user": {
      "displayName": "Glenn",
      "photoUrl": "https://lh3.googleusercontent.com/a-/AOh14GjykiG4UrEIFJrppAQQSHHr3TjS4DL1ZBM99aAAdg=s64",
      "userId": "10553525024667050874"
     },
     "user_tz": 420
    },
    "id": "01eb7956",
    "ExecuteTime": {
     "end_time": "2024-10-30T16:22:23.940680Z",
     "start_time": "2024-10-30T16:22:23.925896Z"
    }
   },
   "outputs": [],
   "source": [
    "# get a single image\n",
    "idx = np.random.choice(X_test.shape[0])\n",
    "X = X_test[[idx]]"
   ]
  },
  {
   "cell_type": "code",
   "execution_count": 15,
   "id": "FAQY-E2YnuZZ",
   "metadata": {
    "id": "FAQY-E2YnuZZ",
    "ExecuteTime": {
     "end_time": "2024-10-30T16:22:23.950756Z",
     "start_time": "2024-10-30T16:22:23.932268Z"
    }
   },
   "outputs": [],
   "source": []
  }
 ],
 "metadata": {
  "colab": {
   "collapsed_sections": [],
   "name": "cnn-visualization-lab.ipynb",
   "provenance": []
  },
  "kernelspec": {
   "display_name": "Python 3 (ipykernel)",
   "language": "python",
   "name": "python3"
  },
  "language_info": {
   "codemirror_mode": {
    "name": "ipython",
    "version": 3
   },
   "file_extension": ".py",
   "mimetype": "text/x-python",
   "name": "python",
   "nbconvert_exporter": "python",
   "pygments_lexer": "ipython3",
   "version": "3.9.18"
  }
 },
 "nbformat": 4,
 "nbformat_minor": 5
}
