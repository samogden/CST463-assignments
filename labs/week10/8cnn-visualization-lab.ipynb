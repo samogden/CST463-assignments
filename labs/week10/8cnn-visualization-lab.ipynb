{
 "cells": [
  {
   "cell_type": "markdown",
   "id": "kjh9naG9-yTY",
   "metadata": {
    "id": "kjh9naG9-yTY"
   },
   "source": [
    "# CNN architectures for CIFAR-10 classification"
   ]
  },
  {
   "cell_type": "markdown",
   "id": "p4bM3KRo-4lG",
   "metadata": {
    "id": "p4bM3KRo-4lG"
   },
   "source": [
    "CIFAR-10 is a famous collection of small color images, each 32 x 32 pixels.  There are 6,000 images in each of 10 classes.\n",
    "\n",
    "https://www.cs.toronto.edu/~kriz/cifar.html\n",
    "\n",
    "It is good when starting to work with CNNs.  In this assignment you will play with a CNN model to obtain the best\n",
    "test accuracy on CIFAR-10.\n",
    "\n",
    "## Instructions\n",
    "\n",
    "In the code below, a baseline CNN classifier is created.  Your job is to code and run a bunch of experiments to see the effect of changes to the CNN classifier. \n",
    "\n",
    "Read the code, and look for problem prompts.\n",
    "\n",
    "Run your code from top to bottom before submitting."
   ]
  },
  {
   "cell_type": "code",
   "execution_count": 1,
   "id": "2fefc385",
   "metadata": {
    "executionInfo": {
     "elapsed": 2951,
     "status": "ok",
     "timestamp": 1635889188059,
     "user": {
      "displayName": "Glenn",
      "photoUrl": "https://lh3.googleusercontent.com/a-/AOh14GjykiG4UrEIFJrppAQQSHHr3TjS4DL1ZBM99aAAdg=s64",
      "userId": "10553525024667050874"
     },
     "user_tz": 420
    },
    "id": "2fefc385"
   },
   "outputs": [],
   "source": [
    "import tensorflow as tf\n",
    "from tensorflow.keras import models, layers\n",
    "from tensorflow.keras.datasets import mnist, cifar10\n",
    "from tensorflow.keras.utils import to_categorical\n",
    "from tensorflow.keras.callbacks import ReduceLROnPlateau, EarlyStopping\n",
    "import numpy as np\n",
    "import pandas as pd\n",
    "import matplotlib.pyplot as plt\n",
    "from IPython.core.display import display, HTML"
   ]
  },
  {
   "cell_type": "code",
   "execution_count": 2,
   "id": "58584454",
   "metadata": {
    "colab": {
     "base_uri": "https://localhost:8080/",
     "height": 16
    },
    "executionInfo": {
     "elapsed": 225,
     "status": "ok",
     "timestamp": 1635889189215,
     "user": {
      "displayName": "Glenn",
      "photoUrl": "https://lh3.googleusercontent.com/a-/AOh14GjykiG4UrEIFJrppAQQSHHr3TjS4DL1ZBM99aAAdg=s64",
      "userId": "10553525024667050874"
     },
     "user_tz": 420
    },
    "id": "58584454",
    "outputId": "7ee2c7b3-4665-410d-e9cb-d90fe6c4c7ba"
   },
   "outputs": [
    {
     "data": {
      "text/html": [
       "<style>.container { width:100% !important; }</style>"
      ],
      "text/plain": [
       "<IPython.core.display.HTML object>"
      ]
     },
     "metadata": {},
     "output_type": "display_data"
    }
   ],
   "source": [
    "# allow output to span multiple output lines in the console\n",
    "pd.set_option('display.max_columns', 600)\n",
    "pd.options.display.width = 120\n",
    "pd.options.display.max_colwidth = 50\n",
    "display(HTML(\"<style>.container { width:100% !important; }</style>\"))"
   ]
  },
  {
   "cell_type": "code",
   "execution_count": 3,
   "id": "DyNLhFSVxRlW",
   "metadata": {
    "executionInfo": {
     "elapsed": 4,
     "status": "ok",
     "timestamp": 1635889190218,
     "user": {
      "displayName": "Glenn",
      "photoUrl": "https://lh3.googleusercontent.com/a-/AOh14GjykiG4UrEIFJrppAQQSHHr3TjS4DL1ZBM99aAAdg=s64",
      "userId": "10553525024667050874"
     },
     "user_tz": 420
    },
    "id": "DyNLhFSVxRlW"
   },
   "outputs": [],
   "source": [
    "def plot_metric(history, metric='loss'):\n",
    "    \"\"\" Plot training and test values for a metric. \"\"\"\n",
    "\n",
    "    val_metric = 'val_'+metric\n",
    "    plt.plot(history.history[metric])\n",
    "    plt.plot(history.history[val_metric])\n",
    "    plt.title('model '+metric)\n",
    "    plt.ylabel(metric)\n",
    "    plt.xlabel('epoch')\n",
    "    plt.legend(['train', 'test'])\n",
    "    plt.show();"
   ]
  },
  {
   "cell_type": "markdown",
   "id": "UZoJCxr2AT6Q",
   "metadata": {
    "id": "UZoJCxr2AT6Q"
   },
   "source": [
    "This will help with replicability, but does not control all aspects of randomness in the code."
   ]
  },
  {
   "cell_type": "code",
   "execution_count": 4,
   "id": "6XQbXT1gAQol",
   "metadata": {
    "executionInfo": {
     "elapsed": 236,
     "status": "ok",
     "timestamp": 1635889192030,
     "user": {
      "displayName": "Glenn",
      "photoUrl": "https://lh3.googleusercontent.com/a-/AOh14GjykiG4UrEIFJrppAQQSHHr3TjS4DL1ZBM99aAAdg=s64",
      "userId": "10553525024667050874"
     },
     "user_tz": 420
    },
    "id": "6XQbXT1gAQol"
   },
   "outputs": [],
   "source": [
    "np.random.seed()"
   ]
  },
  {
   "cell_type": "markdown",
   "id": "CKd5eMtxw3QO",
   "metadata": {
    "id": "CKd5eMtxw3QO"
   },
   "source": [
    "### Read the data"
   ]
  },
  {
   "cell_type": "code",
   "execution_count": 5,
   "id": "xp4u-WKrpNN-",
   "metadata": {
    "colab": {
     "base_uri": "https://localhost:8080/"
    },
    "executionInfo": {
     "elapsed": 4668,
     "status": "ok",
     "timestamp": 1635889197706,
     "user": {
      "displayName": "Glenn",
      "photoUrl": "https://lh3.googleusercontent.com/a-/AOh14GjykiG4UrEIFJrppAQQSHHr3TjS4DL1ZBM99aAAdg=s64",
      "userId": "10553525024667050874"
     },
     "user_tz": 420
    },
    "id": "xp4u-WKrpNN-",
    "outputId": "1c6a3ae4-8494-486f-edb0-1fabe29ca4a6"
   },
   "outputs": [
    {
     "name": "stdout",
     "output_type": "stream",
     "text": [
      "Downloading data from https://www.cs.toronto.edu/~kriz/cifar-10-python.tar.gz\n",
      "170500096/170498071 [==============================] - 2s 0us/step\n",
      "170508288/170498071 [==============================] - 2s 0us/step\n"
     ]
    }
   ],
   "source": [
    "(X_train, y_train), (X_test, y_test) = cifar10.load_data()"
   ]
  },
  {
   "cell_type": "code",
   "execution_count": 6,
   "id": "RQ7kVtboXqpk",
   "metadata": {
    "colab": {
     "base_uri": "https://localhost:8080/"
    },
    "executionInfo": {
     "elapsed": 5,
     "status": "ok",
     "timestamp": 1635889197707,
     "user": {
      "displayName": "Glenn",
      "photoUrl": "https://lh3.googleusercontent.com/a-/AOh14GjykiG4UrEIFJrppAQQSHHr3TjS4DL1ZBM99aAAdg=s64",
      "userId": "10553525024667050874"
     },
     "user_tz": 420
    },
    "id": "RQ7kVtboXqpk",
    "outputId": "3795513f-f9bd-42f0-e408-ad9833275894"
   },
   "outputs": [
    {
     "name": "stdout",
     "output_type": "stream",
     "text": [
      "(50000, 32, 32, 3)\n",
      "(50000, 1)\n",
      "(10000, 32, 32, 3)\n",
      "(10000, 1)\n"
     ]
    }
   ],
   "source": [
    "print(X_train.shape)\n",
    "print(y_train.shape)\n",
    "print(X_test.shape)\n",
    "print(y_test.shape)"
   ]
  },
  {
   "cell_type": "code",
   "execution_count": 7,
   "id": "VAIQYRHJor41",
   "metadata": {
    "colab": {
     "base_uri": "https://localhost:8080/"
    },
    "executionInfo": {
     "elapsed": 634,
     "status": "ok",
     "timestamp": 1635889199540,
     "user": {
      "displayName": "Glenn",
      "photoUrl": "https://lh3.googleusercontent.com/a-/AOh14GjykiG4UrEIFJrppAQQSHHr3TjS4DL1ZBM99aAAdg=s64",
      "userId": "10553525024667050874"
     },
     "user_tz": 420
    },
    "id": "VAIQYRHJor41",
    "outputId": "17be301c-88a7-47ef-8b6c-88c6c9a3e145"
   },
   "outputs": [
    {
     "name": "stdout",
     "output_type": "stream",
     "text": [
      "0 255\n",
      "[0 1 2 3 4 5 6 7 8 9]\n"
     ]
    }
   ],
   "source": [
    "print(X_train.min(), X_train.max())\n",
    "print(np.unique(y_train))"
   ]
  },
  {
   "cell_type": "markdown",
   "id": "vOSxuz2SGsPW",
   "metadata": {
    "id": "vOSxuz2SGsPW"
   },
   "source": [
    "#### We'll use a smaller version of the data to speed up the training process."
   ]
  },
  {
   "cell_type": "code",
   "execution_count": 8,
   "id": "QNv46FKtGXBJ",
   "metadata": {
    "executionInfo": {
     "elapsed": 183,
     "status": "ok",
     "timestamp": 1635889201605,
     "user": {
      "displayName": "Glenn",
      "photoUrl": "https://lh3.googleusercontent.com/a-/AOh14GjykiG4UrEIFJrppAQQSHHr3TjS4DL1ZBM99aAAdg=s64",
      "userId": "10553525024667050874"
     },
     "user_tz": 420
    },
    "id": "QNv46FKtGXBJ"
   },
   "outputs": [],
   "source": [
    "num_train = 25000\n",
    "num_test = 8000\n",
    "X_train = X_train[:num_train]\n",
    "y_train = y_train[:num_train]\n",
    "X_test = X_test[:num_test]\n",
    "y_test = y_test[:num_test]"
   ]
  },
  {
   "cell_type": "markdown",
   "id": "KblcmCnEw64O",
   "metadata": {
    "id": "KblcmCnEw64O"
   },
   "source": [
    "### Preprocess the data"
   ]
  },
  {
   "cell_type": "code",
   "execution_count": 9,
   "id": "aDkzEKMbqEzX",
   "metadata": {
    "executionInfo": {
     "elapsed": 379,
     "status": "ok",
     "timestamp": 1635889211485,
     "user": {
      "displayName": "Glenn",
      "photoUrl": "https://lh3.googleusercontent.com/a-/AOh14GjykiG4UrEIFJrppAQQSHHr3TjS4DL1ZBM99aAAdg=s64",
      "userId": "10553525024667050874"
     },
     "user_tz": 420
    },
    "id": "aDkzEKMbqEzX"
   },
   "outputs": [],
   "source": [
    "# from integers in [0,255] to float in [0,1]\n",
    "X_train = X_train.astype('float32') / 255\n",
    "X_test  = X_test.astype('float32') / 255\n",
    "\n",
    "# one hot encoding\n",
    "y_train = to_categorical(y_train)\n",
    "y_test  = to_categorical(y_test)"
   ]
  },
  {
   "cell_type": "code",
   "execution_count": 10,
   "id": "qDQl-cEyrBF-",
   "metadata": {
    "colab": {
     "base_uri": "https://localhost:8080/"
    },
    "executionInfo": {
     "elapsed": 187,
     "status": "ok",
     "timestamp": 1635889212973,
     "user": {
      "displayName": "Glenn",
      "photoUrl": "https://lh3.googleusercontent.com/a-/AOh14GjykiG4UrEIFJrppAQQSHHr3TjS4DL1ZBM99aAAdg=s64",
      "userId": "10553525024667050874"
     },
     "user_tz": 420
    },
    "id": "qDQl-cEyrBF-",
    "outputId": "ed33323f-99ad-43f8-cfd9-6c2db65795a7"
   },
   "outputs": [
    {
     "name": "stdout",
     "output_type": "stream",
     "text": [
      "(25000, 32, 32, 3)\n",
      "(25000, 10)\n",
      "(8000, 32, 32, 3)\n",
      "(8000, 10)\n"
     ]
    }
   ],
   "source": [
    "print(X_train.shape)\n",
    "print(y_train.shape)\n",
    "print(X_test.shape)\n",
    "print(y_test.shape)"
   ]
  },
  {
   "cell_type": "markdown",
   "id": "mUaP48QMxAr-",
   "metadata": {
    "id": "mUaP48QMxAr-"
   },
   "source": [
    "### CNN model"
   ]
  },
  {
   "cell_type": "code",
   "execution_count": 16,
   "id": "jvVqEYTpxVm2",
   "metadata": {
    "executionInfo": {
     "elapsed": 162,
     "status": "ok",
     "timestamp": 1635889718422,
     "user": {
      "displayName": "Glenn",
      "photoUrl": "https://lh3.googleusercontent.com/a-/AOh14GjykiG4UrEIFJrppAQQSHHr3TjS4DL1ZBM99aAAdg=s64",
      "userId": "10553525024667050874"
     },
     "user_tz": 420
    },
    "id": "jvVqEYTpxVm2"
   },
   "outputs": [],
   "source": [
    "model = models.Sequential()\n",
    "model.add(layers.Conv2D(32, (3, 3), activation='elu', input_shape=(32,32,3)))\n",
    "model.add(layers.Conv2D(32, (3, 3), activation='elu'))\n",
    "model.add(layers.MaxPooling2D((2,2)))\n",
    "model.add(layers.Conv2D(64, (3, 3), activation='elu'))\n",
    "model.add(layers.MaxPooling2D((2,2)))\n",
    "model.add(layers.Flatten())\n",
    "# classification part\n",
    "model.add(layers.Dense(10, activation='softmax'))"
   ]
  },
  {
   "cell_type": "code",
   "execution_count": 17,
   "id": "t6K5yInu7vrd",
   "metadata": {
    "colab": {
     "base_uri": "https://localhost:8080/"
    },
    "executionInfo": {
     "elapsed": 166,
     "status": "ok",
     "timestamp": 1635889720487,
     "user": {
      "displayName": "Glenn",
      "photoUrl": "https://lh3.googleusercontent.com/a-/AOh14GjykiG4UrEIFJrppAQQSHHr3TjS4DL1ZBM99aAAdg=s64",
      "userId": "10553525024667050874"
     },
     "user_tz": 420
    },
    "id": "t6K5yInu7vrd",
    "outputId": "0b888354-4dc0-4cc4-ce46-b574bd3797d1"
   },
   "outputs": [
    {
     "name": "stdout",
     "output_type": "stream",
     "text": [
      "Model: \"sequential_1\"\n",
      "_________________________________________________________________\n",
      "Layer (type)                 Output Shape              Param #   \n",
      "=================================================================\n",
      "conv2d_3 (Conv2D)            (None, 30, 30, 32)        896       \n",
      "_________________________________________________________________\n",
      "conv2d_4 (Conv2D)            (None, 28, 28, 32)        9248      \n",
      "_________________________________________________________________\n",
      "max_pooling2d_2 (MaxPooling2 (None, 14, 14, 32)        0         \n",
      "_________________________________________________________________\n",
      "conv2d_5 (Conv2D)            (None, 12, 12, 64)        18496     \n",
      "_________________________________________________________________\n",
      "max_pooling2d_3 (MaxPooling2 (None, 6, 6, 64)          0         \n",
      "_________________________________________________________________\n",
      "flatten_1 (Flatten)          (None, 2304)              0         \n",
      "_________________________________________________________________\n",
      "dense_2 (Dense)              (None, 10)                23050     \n",
      "=================================================================\n",
      "Total params: 51,690\n",
      "Trainable params: 51,690\n",
      "Non-trainable params: 0\n",
      "_________________________________________________________________\n"
     ]
    }
   ],
   "source": [
    "model.summary()"
   ]
  },
  {
   "cell_type": "markdown",
   "id": "FpoOKUmuxJW-",
   "metadata": {
    "id": "FpoOKUmuxJW-"
   },
   "source": [
    "### Compile and train the model"
   ]
  },
  {
   "cell_type": "code",
   "execution_count": 18,
   "id": "T_IIeKIprTd9",
   "metadata": {
    "colab": {
     "base_uri": "https://localhost:8080/"
    },
    "executionInfo": {
     "elapsed": 262324,
     "status": "ok",
     "timestamp": 1635889985104,
     "user": {
      "displayName": "Glenn",
      "photoUrl": "https://lh3.googleusercontent.com/a-/AOh14GjykiG4UrEIFJrppAQQSHHr3TjS4DL1ZBM99aAAdg=s64",
      "userId": "10553525024667050874"
     },
     "user_tz": 420
    },
    "id": "T_IIeKIprTd9",
    "outputId": "f75af714-107f-4f7e-b708-290738385998"
   },
   "outputs": [
    {
     "name": "stdout",
     "output_type": "stream",
     "text": [
      "Epoch 1/5\n",
      "137/137 [==============================] - 52s 375ms/step - loss: 1.8417 - accuracy: 0.3381 - val_loss: 1.6616 - val_accuracy: 0.4087\n",
      "Epoch 2/5\n",
      "137/137 [==============================] - 52s 379ms/step - loss: 1.4693 - accuracy: 0.4839 - val_loss: 1.3575 - val_accuracy: 0.5291\n",
      "Epoch 3/5\n",
      "137/137 [==============================] - 53s 386ms/step - loss: 1.2820 - accuracy: 0.5527 - val_loss: 1.2723 - val_accuracy: 0.5540\n",
      "Epoch 4/5\n",
      "137/137 [==============================] - 53s 389ms/step - loss: 1.1601 - accuracy: 0.5964 - val_loss: 1.2303 - val_accuracy: 0.5748\n",
      "Epoch 5/5\n",
      "137/137 [==============================] - 52s 378ms/step - loss: 1.0763 - accuracy: 0.6287 - val_loss: 1.1511 - val_accuracy: 0.6023\n"
     ]
    }
   ],
   "source": [
    "model.compile(optimizer='rmsprop',\n",
    "              loss='categorical_crossentropy',\n",
    "              metrics=['accuracy'])\n",
    "history = model.fit(X_train, y_train, epochs=5, batch_size=128, validation_split=0.3)"
   ]
  },
  {
   "cell_type": "code",
   "execution_count": 19,
   "id": "MaqBRiUu6g0U",
   "metadata": {
    "colab": {
     "base_uri": "https://localhost:8080/",
     "height": 294
    },
    "executionInfo": {
     "elapsed": 541,
     "status": "ok",
     "timestamp": 1635890244762,
     "user": {
      "displayName": "Glenn",
      "photoUrl": "https://lh3.googleusercontent.com/a-/AOh14GjykiG4UrEIFJrppAQQSHHr3TjS4DL1ZBM99aAAdg=s64",
      "userId": "10553525024667050874"
     },
     "user_tz": 420
    },
    "id": "MaqBRiUu6g0U",
    "outputId": "67fc2a4c-6fff-4535-80ac-859ad31cdf67"
   },
   "outputs": [
    {
     "data": {
      "image/png": "[encoded data removed]",
      "text/plain": [
       "<Figure size 432x288 with 1 Axes>"
      ]
     },
     "metadata": {
      "needs_background": "light"
     },
     "output_type": "display_data"
    }
   ],
   "source": [
    "plot_metric(history)"
   ]
  },
  {
   "cell_type": "code",
   "execution_count": 15,
   "id": "01eb7956",
   "metadata": {
    "executionInfo": {
     "elapsed": 4,
     "status": "ok",
     "timestamp": 1635889689214,
     "user": {
      "displayName": "Glenn",
      "photoUrl": "https://lh3.googleusercontent.com/a-/AOh14GjykiG4UrEIFJrppAQQSHHr3TjS4DL1ZBM99aAAdg=s64",
      "userId": "10553525024667050874"
     },
     "user_tz": 420
    },
    "id": "01eb7956"
   },
   "outputs": [],
   "source": [
    "# get a single image\n",
    "idx = np.random.choice(X_test.shape[0])\n",
    "X = X_test[[idx]]"
   ]
  },
  {
   "cell_type": "code",
   "execution_count": null,
   "id": "FAQY-E2YnuZZ",
   "metadata": {
    "id": "FAQY-E2YnuZZ"
   },
   "outputs": [],
   "source": []
  }
 ],
 "metadata": {
  "colab": {
   "collapsed_sections": [],
   "name": "cnn-visualization-lab.ipynb",
   "provenance": []
  },
  "kernelspec": {
   "display_name": "Python 3 (ipykernel)",
   "language": "python",
   "name": "python3"
  },
  "language_info": {
   "codemirror_mode": {
    "name": "ipython",
    "version": 3
   },
   "file_extension": ".py",
   "mimetype": "text/x-python",
   "name": "python",
   "nbconvert_exporter": "python",
   "pygments_lexer": "ipython3",
   "version": "3.9.18"
  }
 },
 "nbformat": 4,
 "nbformat_minor": 5
}
