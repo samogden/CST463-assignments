{
 "cells": [
  {
   "cell_type": "code",
   "execution_count": null,
   "id": "cc3b7ac3",
   "metadata": {
    "id": "cc3b7ac3",
    "scrolled": true
   },
   "outputs": [],
   "source": [
    "import pandas as pd\n",
    "import numpy as np\n",
    "import matplotlib.pyplot as plt\n",
    "from tensorflow.keras import models, layers\n",
    "from tensorflow.keras.datasets import imdb\n",
    "from tensorflow.keras.preprocessing import sequence\n",
    "from tensorflow.keras.models import Sequential\n",
    "from tensorflow.keras.optimizers import RMSprop\n",
    "from tensorflow.keras import backend as K\n",
    "from sklearn.model_selection import train_test_split\n",
    "from IPython.core.display import display, HTML"
   ]
  },
  {
   "cell_type": "code",
   "execution_count": null,
   "id": "510817af",
   "metadata": {
    "id": "510817af"
   },
   "outputs": [],
   "source": [
    "# allow output to span multiple output lines in the console\n",
    "pd.set_option('display.max_columns', 600)\n",
    "pd.options.display.width = 100\n",
    "pd.options.display.max_colwidth = 50\n",
    "display(HTML(\"<style>.container { width:100% !important; }</style>\"))"
   ]
  },
  {
   "cell_type": "code",
   "execution_count": null,
   "id": "6415e832",
   "metadata": {
    "id": "6415e832"
   },
   "outputs": [],
   "source": [
    "def plot_metric(history, metric='loss'):\n",
    "    \"\"\" Plot training and test values for a metric. \"\"\"\n",
    "\n",
    "    val_metric = 'val_'+metric\n",
    "    plt.plot(history.history[metric])\n",
    "    plt.plot(history.history[val_metric])\n",
    "    plt.title('model '+metric)\n",
    "    plt.ylabel(metric)\n",
    "    plt.xlabel('epoch')\n",
    "    plt.legend(['train', 'test'])\n",
    "    plt.show();"
   ]
  },
  {
   "cell_type": "markdown",
   "id": "84efa28a",
   "metadata": {
    "id": "84efa28a"
   },
   "source": [
    "### Read the data"
   ]
  },
  {
   "cell_type": "markdown",
   "id": "6a20d06c",
   "metadata": {
    "id": "6a20d06c"
   },
   "source": [
    "Download the 2 heartbeat data files from\n",
    "https://www.kaggle.com/shayanfazeli/heartbeat\n",
    "\n",
    "You can also get the files from my Google Drive:\n",
    "\n",
    "[ptbdb_abnormal.csv](https://drive.google.com/file/d/1Kuvc_WmjLhz1xaSvL-bu94i8dEU4JMws/view?usp=sharing)\n",
    "\n",
    "[ptbdb_normal.csv](https://drive.google.com/file/d/1L0qVW-xTGcaEgS4NdY6ZhzEEWTqMTQCH/view?usp=sharing)"
   ]
  },
  {
   "cell_type": "code",
   "execution_count": null,
   "id": "98b2f616",
   "metadata": {
    "id": "98b2f616"
   },
   "outputs": [],
   "source": [
    "data_dir = \"C:/Users/Glenn/Google Drive/CSUMB/Fall21/AML/lectures-labs/9neural-nets/3cnn/ekg-data/\"\n",
    "df_normal = pd.read_csv(data_dir+\"ptbdb_normal.csv\",   header=None)\n",
    "df_abnormal = pd.read_csv(data_dir+\"ptbdb_abnormal.csv\", header=None)"
   ]
  },
  {
   "cell_type": "code",
   "execution_count": null,
   "id": "06f49f19",
   "metadata": {
    "id": "06f49f19",
    "outputId": "7e135dcd-487d-45d4-cc37-bca7a9f12c2c",
    "scrolled": true
   },
   "outputs": [
    {
     "name": "stdout",
     "output_type": "stream",
     "text": [
      "<class 'pandas.core.frame.DataFrame'>\n",
      "RangeIndex: 4046 entries, 0 to 4045\n",
      "Columns: 188 entries, 0 to 187\n",
      "dtypes: float64(188)\n",
      "memory usage: 5.8 MB\n"
     ]
    }
   ],
   "source": [
    "df_normal.info()"
   ]
  },
  {
   "cell_type": "code",
   "execution_count": null,
   "id": "f431d217",
   "metadata": {
    "id": "f431d217",
    "outputId": "98cae837-8767-43f9-dea1-058b34713d30"
   },
   "outputs": [
    {
     "data": {
      "text/html": [
       "<div>\n",
       "<style scoped>\n",
       "    .dataframe tbody tr th:only-of-type {\n",
       "        vertical-align: middle;\n",
       "    }\n",
       "\n",
       "    .dataframe tbody tr th {\n",
       "        vertical-align: top;\n",
       "    }\n",
       "\n",
       "    .dataframe thead th {\n",
       "        text-align: right;\n",
       "    }\n",
       "</style>\n",
       "<table border=\"1\" class=\"dataframe\">\n",
       "  <thead>\n",
       "    <tr style=\"text-align: right;\">\n",
       "      <th></th>\n",
       "      <th>0</th>\n",
       "      <th>1</th>\n",
       "      <th>2</th>\n",
       "      <th>3</th>\n",
       "      <th>4</th>\n",
       "      <th>5</th>\n",
       "      <th>6</th>\n",
       "      <th>7</th>\n",
       "      <th>8</th>\n",
       "      <th>9</th>\n",
       "      <th>...</th>\n",
       "      <th>178</th>\n",
       "      <th>179</th>\n",
       "      <th>180</th>\n",
       "      <th>181</th>\n",
       "      <th>182</th>\n",
       "      <th>183</th>\n",
       "      <th>184</th>\n",
       "      <th>185</th>\n",
       "      <th>186</th>\n",
       "      <th>187</th>\n",
       "    </tr>\n",
       "  </thead>\n",
       "  <tbody>\n",
       "    <tr>\n",
       "      <th>0</th>\n",
       "      <td>1.000000</td>\n",
       "      <td>0.900324</td>\n",
       "      <td>0.358590</td>\n",
       "      <td>0.051459</td>\n",
       "      <td>0.046596</td>\n",
       "      <td>0.126823</td>\n",
       "      <td>0.133306</td>\n",
       "      <td>0.119125</td>\n",
       "      <td>0.110616</td>\n",
       "      <td>0.113047</td>\n",
       "      <td>...</td>\n",
       "      <td>0.0</td>\n",
       "      <td>0.0</td>\n",
       "      <td>0.0</td>\n",
       "      <td>0.0</td>\n",
       "      <td>0.0</td>\n",
       "      <td>0.0</td>\n",
       "      <td>0.0</td>\n",
       "      <td>0.0</td>\n",
       "      <td>0.0</td>\n",
       "      <td>0.0</td>\n",
       "    </tr>\n",
       "    <tr>\n",
       "      <th>1</th>\n",
       "      <td>1.000000</td>\n",
       "      <td>0.794681</td>\n",
       "      <td>0.375387</td>\n",
       "      <td>0.116883</td>\n",
       "      <td>0.000000</td>\n",
       "      <td>0.171923</td>\n",
       "      <td>0.283859</td>\n",
       "      <td>0.293754</td>\n",
       "      <td>0.325912</td>\n",
       "      <td>0.345083</td>\n",
       "      <td>...</td>\n",
       "      <td>0.0</td>\n",
       "      <td>0.0</td>\n",
       "      <td>0.0</td>\n",
       "      <td>0.0</td>\n",
       "      <td>0.0</td>\n",
       "      <td>0.0</td>\n",
       "      <td>0.0</td>\n",
       "      <td>0.0</td>\n",
       "      <td>0.0</td>\n",
       "      <td>0.0</td>\n",
       "    </tr>\n",
       "    <tr>\n",
       "      <th>2</th>\n",
       "      <td>0.909029</td>\n",
       "      <td>0.791482</td>\n",
       "      <td>0.423169</td>\n",
       "      <td>0.186712</td>\n",
       "      <td>0.000000</td>\n",
       "      <td>0.007836</td>\n",
       "      <td>0.063032</td>\n",
       "      <td>0.077002</td>\n",
       "      <td>0.074957</td>\n",
       "      <td>0.077342</td>\n",
       "      <td>...</td>\n",
       "      <td>0.0</td>\n",
       "      <td>0.0</td>\n",
       "      <td>0.0</td>\n",
       "      <td>0.0</td>\n",
       "      <td>0.0</td>\n",
       "      <td>0.0</td>\n",
       "      <td>0.0</td>\n",
       "      <td>0.0</td>\n",
       "      <td>0.0</td>\n",
       "      <td>0.0</td>\n",
       "    </tr>\n",
       "    <tr>\n",
       "      <th>3</th>\n",
       "      <td>1.000000</td>\n",
       "      <td>0.478893</td>\n",
       "      <td>0.056760</td>\n",
       "      <td>0.064176</td>\n",
       "      <td>0.081289</td>\n",
       "      <td>0.072732</td>\n",
       "      <td>0.055619</td>\n",
       "      <td>0.048774</td>\n",
       "      <td>0.054478</td>\n",
       "      <td>0.041643</td>\n",
       "      <td>...</td>\n",
       "      <td>0.0</td>\n",
       "      <td>0.0</td>\n",
       "      <td>0.0</td>\n",
       "      <td>0.0</td>\n",
       "      <td>0.0</td>\n",
       "      <td>0.0</td>\n",
       "      <td>0.0</td>\n",
       "      <td>0.0</td>\n",
       "      <td>0.0</td>\n",
       "      <td>0.0</td>\n",
       "    </tr>\n",
       "    <tr>\n",
       "      <th>4</th>\n",
       "      <td>1.000000</td>\n",
       "      <td>0.867238</td>\n",
       "      <td>0.201360</td>\n",
       "      <td>0.099349</td>\n",
       "      <td>0.141336</td>\n",
       "      <td>0.120934</td>\n",
       "      <td>0.108516</td>\n",
       "      <td>0.096393</td>\n",
       "      <td>0.093436</td>\n",
       "      <td>0.100828</td>\n",
       "      <td>...</td>\n",
       "      <td>0.0</td>\n",
       "      <td>0.0</td>\n",
       "      <td>0.0</td>\n",
       "      <td>0.0</td>\n",
       "      <td>0.0</td>\n",
       "      <td>0.0</td>\n",
       "      <td>0.0</td>\n",
       "      <td>0.0</td>\n",
       "      <td>0.0</td>\n",
       "      <td>0.0</td>\n",
       "    </tr>\n",
       "  </tbody>\n",
       "</table>\n",
       "<p>5 rows × 188 columns</p>\n",
       "</div>"
      ],
      "text/plain": [
       "        0         1         2         3         4         5         6    \\\n",
       "0  1.000000  0.900324  0.358590  0.051459  0.046596  0.126823  0.133306   \n",
       "1  1.000000  0.794681  0.375387  0.116883  0.000000  0.171923  0.283859   \n",
       "2  0.909029  0.791482  0.423169  0.186712  0.000000  0.007836  0.063032   \n",
       "3  1.000000  0.478893  0.056760  0.064176  0.081289  0.072732  0.055619   \n",
       "4  1.000000  0.867238  0.201360  0.099349  0.141336  0.120934  0.108516   \n",
       "\n",
       "        7         8         9    ...  178  179  180  181  182  183  184  185  \\\n",
       "0  0.119125  0.110616  0.113047  ...  0.0  0.0  0.0  0.0  0.0  0.0  0.0  0.0   \n",
       "1  0.293754  0.325912  0.345083  ...  0.0  0.0  0.0  0.0  0.0  0.0  0.0  0.0   \n",
       "2  0.077002  0.074957  0.077342  ...  0.0  0.0  0.0  0.0  0.0  0.0  0.0  0.0   \n",
       "3  0.048774  0.054478  0.041643  ...  0.0  0.0  0.0  0.0  0.0  0.0  0.0  0.0   \n",
       "4  0.096393  0.093436  0.100828  ...  0.0  0.0  0.0  0.0  0.0  0.0  0.0  0.0   \n",
       "\n",
       "   186  187  \n",
       "0  0.0  0.0  \n",
       "1  0.0  0.0  \n",
       "2  0.0  0.0  \n",
       "3  0.0  0.0  \n",
       "4  0.0  0.0  \n",
       "\n",
       "[5 rows x 188 columns]"
      ]
     },
     "execution_count": 5,
     "metadata": {},
     "output_type": "execute_result"
    }
   ],
   "source": [
    "df_normal.head()"
   ]
  },
  {
   "cell_type": "markdown",
   "id": "99a9a620",
   "metadata": {
    "id": "99a9a620"
   },
   "source": [
    "### Read the data"
   ]
  },
  {
   "cell_type": "code",
   "execution_count": null,
   "id": "128f9071",
   "metadata": {
    "id": "128f9071"
   },
   "outputs": [],
   "source": [
    "X_normal = df_normal.values\n",
    "X_abnormal = df_abnormal.values"
   ]
  },
  {
   "cell_type": "code",
   "execution_count": null,
   "id": "00f2e326",
   "metadata": {
    "id": "00f2e326",
    "outputId": "dede9331-a1fd-48b2-8847-d597191b9584"
   },
   "outputs": [
    {
     "name": "stdout",
     "output_type": "stream",
     "text": [
      "(4046, 188)\n",
      "(10506, 188)\n"
     ]
    }
   ],
   "source": [
    "print(X_normal.shape)\n",
    "print(X_abnormal.shape)"
   ]
  },
  {
   "cell_type": "markdown",
   "id": "29a090b1",
   "metadata": {
    "id": "29a090b1"
   },
   "source": [
    "### Problem 1.  Plot a randomly-chosen normal segment, and abnormal segment"
   ]
  },
  {
   "cell_type": "code",
   "execution_count": null,
   "id": "300d5089",
   "metadata": {
    "id": "300d5089"
   },
   "outputs": [],
   "source": [
    "# YOUR CODE HERE"
   ]
  },
  {
   "cell_type": "markdown",
   "id": "ebb45ad8",
   "metadata": {
    "id": "ebb45ad8"
   },
   "source": [
    "### Data preprocessing\n",
    "\n",
    "Please read the code carefully"
   ]
  },
  {
   "cell_type": "code",
   "execution_count": null,
   "id": "857480c9",
   "metadata": {
    "id": "857480c9"
   },
   "outputs": [],
   "source": [
    "X = np.concatenate([X_normal, X_abnormal])"
   ]
  },
  {
   "cell_type": "code",
   "execution_count": null,
   "id": "61af6916",
   "metadata": {
    "id": "61af6916",
    "outputId": "62625d15-e124-4155-e958-de704396fcf2"
   },
   "outputs": [
    {
     "data": {
      "text/plain": [
       "(14552, 188)"
      ]
     },
     "execution_count": 11,
     "metadata": {},
     "output_type": "execute_result"
    }
   ],
   "source": [
    "X.shape"
   ]
  },
  {
   "cell_type": "code",
   "execution_count": null,
   "id": "d465e3ae",
   "metadata": {
    "id": "d465e3ae"
   },
   "outputs": [],
   "source": [
    "X = X.reshape(X.shape[0], X.shape[1], 1)"
   ]
  },
  {
   "cell_type": "code",
   "execution_count": null,
   "id": "f71d573c",
   "metadata": {
    "id": "f71d573c",
    "outputId": "8ff4a3ff-2fe4-43c9-cb74-51eb141916c3"
   },
   "outputs": [
    {
     "data": {
      "text/plain": [
       "(14552, 188, 1)"
      ]
     },
     "execution_count": 13,
     "metadata": {},
     "output_type": "execute_result"
    }
   ],
   "source": [
    "X.shape"
   ]
  },
  {
   "cell_type": "code",
   "execution_count": null,
   "id": "3333bcba",
   "metadata": {
    "id": "3333bcba"
   },
   "outputs": [],
   "source": [
    "y = np.concatenate([np.full(X_normal.shape[0], 0), np.full(X_abnormal.shape[0], 1)])"
   ]
  },
  {
   "cell_type": "code",
   "execution_count": null,
   "id": "4ecb9c38",
   "metadata": {
    "id": "4ecb9c38",
    "outputId": "d8db7357-8458-4c88-ad39-41b4841def69"
   },
   "outputs": [
    {
     "data": {
      "text/plain": [
       "(14552,)"
      ]
     },
     "execution_count": 9,
     "metadata": {},
     "output_type": "execute_result"
    }
   ],
   "source": [
    "y.shape"
   ]
  },
  {
   "cell_type": "markdown",
   "id": "a93186a0",
   "metadata": {
    "id": "a93186a0"
   },
   "source": [
    "### Train/test split"
   ]
  },
  {
   "cell_type": "code",
   "execution_count": null,
   "id": "52383723",
   "metadata": {
    "id": "52383723"
   },
   "outputs": [],
   "source": [
    "X_train, X_test, y_train, y_test = train_test_split(X, y, test_size=0.33, random_state=42)"
   ]
  },
  {
   "cell_type": "code",
   "execution_count": null,
   "id": "9565c07d",
   "metadata": {
    "id": "9565c07d",
    "outputId": "1d06b0a5-a530-4779-9629-05e927bae001"
   },
   "outputs": [
    {
     "data": {
      "text/plain": [
       "(10050, 188, 1)"
      ]
     },
     "execution_count": 15,
     "metadata": {},
     "output_type": "execute_result"
    }
   ],
   "source": [
    "print(X_train.shape, y_train.shape)\n",
    "print(X_test.shape, y_test.shape)"
   ]
  },
  {
   "cell_type": "markdown",
   "id": "f8ce18a1",
   "metadata": {
    "id": "f8ce18a1"
   },
   "source": [
    "### Problem 1.  Plot a randomly-chosen normal segment, and abnormal segment"
   ]
  },
  {
   "cell_type": "code",
   "execution_count": null,
   "id": "b7e900ee",
   "metadata": {
    "id": "b7e900ee"
   },
   "outputs": [],
   "source": [
    "# YOUR CODE HERE"
   ]
  },
  {
   "cell_type": "markdown",
   "id": "38eced5d",
   "metadata": {
    "id": "38eced5d"
   },
   "source": [
    "### Problem 2. Create a 1D convolutional model.\n",
    "\n",
    "If you find that you get very high accuracy, try making the validation split in your fit() call much larger."
   ]
  },
  {
   "cell_type": "code",
   "execution_count": null,
   "id": "140f1f5d",
   "metadata": {
    "id": "140f1f5d"
   },
   "outputs": [],
   "source": [
    "K.clear_session()"
   ]
  },
  {
   "cell_type": "code",
   "execution_count": null,
   "id": "39ad4b81",
   "metadata": {
    "id": "39ad4b81"
   },
   "outputs": [],
   "source": [
    "# YOUR CODE HERE: create model"
   ]
  },
  {
   "cell_type": "code",
   "execution_count": null,
   "id": "d031f8ac",
   "metadata": {
    "id": "d031f8ac",
    "scrolled": false
   },
   "outputs": [],
   "source": [
    "model.summary()"
   ]
  },
  {
   "cell_type": "code",
   "execution_count": null,
   "id": "a87866d2",
   "metadata": {
    "id": "a87866d2"
   },
   "outputs": [],
   "source": [
    "# YOUR CODE HERE: compile"
   ]
  },
  {
   "cell_type": "code",
   "execution_count": null,
   "id": "46a6f6d8",
   "metadata": {
    "id": "46a6f6d8"
   },
   "outputs": [],
   "source": [
    "# YOUR CODE HERE: train the model (use validation_split)"
   ]
  },
  {
   "cell_type": "code",
   "execution_count": null,
   "id": "3d943b15",
   "metadata": {
    "id": "3d943b15"
   },
   "outputs": [],
   "source": [
    "# YOUR CODE HERE: compute accuracy on the test set"
   ]
  },
  {
   "cell_type": "markdown",
   "id": "4f1a09cd",
   "metadata": {
    "id": "38eced5d"
   },
   "source": [
    "### Problem 3.  If you have time, create another model.\n",
    "\n",
    "Try playing with the following things:\n",
    "- use of global max pooling (vs. avg)\n",
    "- use of an additional dense layer\n",
    "- number of output channels\n",
    "- size of the convolutional filters\n",
    "- pooling size"
   ]
  }
 ],
 "metadata": {
  "colab": {
   "provenance": []
  },
  "kernelspec": {
   "display_name": "Python 3 (ipykernel)",
   "language": "python",
   "name": "python3"
  },
  "language_info": {
   "codemirror_mode": {
    "name": "ipython",
    "version": 3
   },
   "file_extension": ".py",
   "mimetype": "text/x-python",
   "name": "python",
   "nbconvert_exporter": "python",
   "pygments_lexer": "ipython3",
   "version": "3.9.7"
  }
 },
 "nbformat": 4,
 "nbformat_minor": 5
}
