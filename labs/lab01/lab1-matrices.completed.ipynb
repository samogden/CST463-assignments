{
 "cells": [
  {
   "cell_type": "markdown",
   "metadata": {},
   "source": [
    "## Linear algebra matrices lab"
   ]
  },
  {
   "cell_type": "code",
   "execution_count": 1,
   "metadata": {
    "ExecuteTime": {
     "end_time": "2024-08-30T22:10:20.246866Z",
     "start_time": "2024-08-30T22:10:19.700300Z"
    }
   },
   "outputs": [],
   "source": [
    "import numpy as np\n",
    "import pandas as pd\n",
    "from sklearn.linear_model import LinearRegression"
   ]
  },
  {
   "cell_type": "markdown",
   "metadata": {},
   "source": [
    "### Read the Iris data"
   ]
  },
  {
   "cell_type": "code",
   "execution_count": 2,
   "metadata": {
    "ExecuteTime": {
     "end_time": "2024-08-30T22:10:21.587914Z",
     "start_time": "2024-08-30T22:10:21.583207Z"
    }
   },
   "outputs": [],
   "source": [
    "df = pd.read_csv(\"data/iris.csv\")"
   ]
  },
  {
   "cell_type": "code",
   "execution_count": 3,
   "metadata": {
    "ExecuteTime": {
     "end_time": "2024-08-30T22:10:21.935736Z",
     "start_time": "2024-08-30T22:10:21.932101Z"
    }
   },
   "outputs": [
    {
     "name": "stdout",
     "output_type": "stream",
     "text": [
      "<class 'pandas.core.frame.DataFrame'>\n",
      "RangeIndex: 150 entries, 0 to 149\n",
      "Data columns (total 5 columns):\n",
      " #   Column        Non-Null Count  Dtype  \n",
      "---  ------        --------------  -----  \n",
      " 0   sepal_length  150 non-null    float64\n",
      " 1   sepal_width   150 non-null    float64\n",
      " 2   petal_length  150 non-null    float64\n",
      " 3   petal_width   150 non-null    float64\n",
      " 4   species       150 non-null    object \n",
      "dtypes: float64(4), object(1)\n",
      "memory usage: 6.0+ KB\n"
     ]
    }
   ],
   "source": [
    "df.info()"
   ]
  },
  {
   "cell_type": "code",
   "execution_count": 4,
   "metadata": {
    "ExecuteTime": {
     "end_time": "2024-08-30T22:10:22.231617Z",
     "start_time": "2024-08-30T22:10:22.226300Z"
    }
   },
   "outputs": [
    {
     "name": "stdout",
     "output_type": "stream",
     "text": [
      "     sepal_length  sepal_width  petal_length  petal_width     species\n",
      "93            5.0          2.3           3.3          1.0  versicolor\n",
      "65            6.7          3.1           4.4          1.4  versicolor\n",
      "56            6.3          3.3           4.7          1.6  versicolor\n",
      "124           6.7          3.3           5.7          2.1   virginica\n",
      "103           6.3          2.9           5.6          1.8   virginica\n",
      "36            5.5          3.5           1.3          0.2      setosa\n"
     ]
    }
   ],
   "source": [
    "# look at some random rows\n",
    "print(df.sample(6))"
   ]
  },
  {
   "cell_type": "markdown",
   "metadata": {},
   "source": [
    "### Build a model to predict petal length from sepal length and sepal width"
   ]
  },
  {
   "cell_type": "code",
   "execution_count": 5,
   "metadata": {
    "ExecuteTime": {
     "end_time": "2024-08-30T22:10:22.871912Z",
     "start_time": "2024-08-30T22:10:22.867530Z"
    }
   },
   "outputs": [],
   "source": [
    "predictors = ['sepal_length', 'sepal_width']\n",
    "X = df[predictors].values\n",
    "y = df['petal_length'].values"
   ]
  },
  {
   "cell_type": "code",
   "execution_count": 6,
   "metadata": {
    "ExecuteTime": {
     "end_time": "2024-08-30T22:10:23.187631Z",
     "start_time": "2024-08-30T22:10:23.185222Z"
    }
   },
   "outputs": [
    {
     "name": "stdout",
     "output_type": "stream",
     "text": [
      "Model parameters:\n",
      "intercept: -2.525\n",
      "coefficients: [ 1.77559255 -1.33862329]\n"
     ]
    }
   ],
   "source": [
    "regr = LinearRegression()\n",
    "regr.fit(X, y)\n",
    "\n",
    "print('Model parameters:')\n",
    "print('intercept: {:.3f}'.format(regr.intercept_))\n",
    "print('coefficients: {}'.format(regr.coef_))"
   ]
  },
  {
   "cell_type": "markdown",
   "metadata": {},
   "source": [
    "### Lab problems"
   ]
  },
  {
   "cell_type": "markdown",
   "metadata": {},
   "source": [
    "Using the model, we want to make a prediction for the case for a given sepal length and sepal width.\n",
    "\n",
    "We can do it like this:"
   ]
  },
  {
   "cell_type": "code",
   "execution_count": 7,
   "metadata": {
    "ExecuteTime": {
     "end_time": "2024-08-30T22:10:24.057868Z",
     "start_time": "2024-08-30T22:10:24.054451Z"
    }
   },
   "outputs": [
    {
     "name": "stdout",
     "output_type": "stream",
     "text": [
      "1.5833974099886166\n"
     ]
    }
   ],
   "source": [
    "# model coefficients\n",
    "b = np.array([regr.intercept_, regr.coef_[0], regr.coef_[1]])\n",
    "\n",
    "# predictor values\n",
    "sepal_length = 4.5\n",
    "sepal_width = 2.9\n",
    "\n",
    "y_pred = b[0] + b[1]*sepal_length + b[2]*sepal_width\n",
    "print(y_pred)"
   ]
  },
  {
   "cell_type": "markdown",
   "metadata": {},
   "source": [
    "We can also do it like this:"
   ]
  },
  {
   "cell_type": "code",
   "execution_count": 8,
   "metadata": {
    "ExecuteTime": {
     "end_time": "2024-08-30T22:10:24.951060Z",
     "start_time": "2024-08-30T22:10:24.948882Z"
    }
   },
   "outputs": [
    {
     "data": {
      "text/plain": "array([1.58339741])"
     },
     "execution_count": 8,
     "metadata": {},
     "output_type": "execute_result"
    }
   ],
   "source": [
    "X_new = pd.DataFrame(np.array([[sepal_length, sepal_width]]))\n",
    "regr.predict(X_new)"
   ]
  },
  {
   "cell_type": "markdown",
   "metadata": {},
   "source": [
    "#### Problem 1\n",
    "\n",
    "We can also use linear algebra to make predictions.  Let's create a vector x of the predictor values."
   ]
  },
  {
   "cell_type": "code",
   "execution_count": 9,
   "metadata": {
    "ExecuteTime": {
     "end_time": "2024-08-30T22:11:00.574914Z",
     "start_time": "2024-08-30T22:11:00.571262Z"
    }
   },
   "outputs": [],
   "source": [
    "x = np.array([1.0, sepal_length, sepal_width])"
   ]
  },
  {
   "cell_type": "markdown",
   "metadata": {},
   "source": [
    "Can you use this vector x plus the vector b of model coefficients to make a prediction?  The value 1.0 in array x was added to make things easier."
   ]
  },
  {
   "cell_type": "code",
   "execution_count": 65,
   "metadata": {
    "ExecuteTime": {
     "end_time": "2024-08-30T22:44:37.446468Z",
     "start_time": "2024-08-30T22:44:37.440859Z"
    }
   },
   "outputs": [
    {
     "data": {
      "text/plain": "1.5833974099886168"
     },
     "execution_count": 65,
     "metadata": {},
     "output_type": "execute_result"
    }
   ],
   "source": [
    "# Write code to make a prediction using arrays x and b.  You only need one linear algebra operation\n",
    "\n",
    "x.dot(b)  #solution"
   ]
  },
  {
   "cell_type": "markdown",
   "metadata": {},
   "source": [
    "#### Problem 2\n",
    "\n",
    "Continuing the previous problem, suppose we want to make a bunch of predictions at once.  Instead of a vector u, we have a matrix X, where each row of X gives us the predictor values."
   ]
  },
  {
   "cell_type": "code",
   "execution_count": 23,
   "metadata": {
    "ExecuteTime": {
     "end_time": "2024-08-30T22:17:56.993273Z",
     "start_time": "2024-08-30T22:17:56.982075Z"
    }
   },
   "outputs": [],
   "source": [
    "X = np.array([\n",
    "    [1.0, 6.5, 2.8],\n",
    "    [1.0, 6.0, 2.5],\n",
    "    [1.0, 4.5, 2.9]\n",
    "])"
   ]
  },
  {
   "cell_type": "code",
   "execution_count": 66,
   "metadata": {
    "ExecuteTime": {
     "end_time": "2024-08-30T22:45:23.084463Z",
     "start_time": "2024-08-30T22:45:23.078393Z"
    }
   },
   "outputs": [
    {
     "data": {
      "text/plain": "array([5.26844483, 4.78223555, 1.58339741])"
     },
     "execution_count": 66,
     "metadata": {},
     "output_type": "execute_result"
    }
   ],
   "source": [
    "# Write code to make three predictions using X and b.  You only need one linear algebra operation.\n",
    "\n",
    "X.dot(b) # solution"
   ]
  },
  {
   "cell_type": "markdown",
   "metadata": {},
   "source": [
    "#### Problem 3\n",
    "\n",
    "Continuing the previous problem, if we have test data X_test and y_test, can we compute the difference between y_test and the predicted values using linear algebra.  Don't create any intermediate variables -- just write a NumPy formula that computes the difference between the predicted and the test values."
   ]
  },
  {
   "cell_type": "code",
   "execution_count": 67,
   "metadata": {
    "ExecuteTime": {
     "end_time": "2024-08-30T22:45:31.619642Z",
     "start_time": "2024-08-30T22:45:31.616753Z"
    }
   },
   "outputs": [],
   "source": [
    "X_test = np.array([\n",
    "    [1.0, 4.3, 2.8],\n",
    "    [1.0, 4.6, 3.5],\n",
    "    [1.0, 4.5, 2.9]\n",
    "])\n",
    "y_test = np.array([6.0, 1.5, 1.5])"
   ]
  },
  {
   "cell_type": "code",
   "execution_count": 68,
   "metadata": {
    "ExecuteTime": {
     "end_time": "2024-08-30T22:45:50.769813Z",
     "start_time": "2024-08-30T22:45:50.750877Z"
    }
   },
   "outputs": [
    {
     "data": {
      "text/plain": "array([-4.63785877, -0.54221731,  0.08339741])"
     },
     "execution_count": 68,
     "metadata": {},
     "output_type": "execute_result"
    }
   ],
   "source": [
    "# Write code to compute the error on three predictions from X_test.  Write a single numpy expression\n",
    "\n",
    "X_test.dot(b) - y_test  #solution\n"
   ]
  },
  {
   "cell_type": "markdown",
   "metadata": {},
   "source": [
    "#### Problem 4\n",
    "\n",
    "Continuing the previous problem, now write an expression that gives the sum of the squared error.  Again, do not use any intermediate variables.  Use X_test, y_test, and b as before."
   ]
  },
  {
   "cell_type": "code",
   "execution_count": 69,
   "metadata": {
    "ExecuteTime": {
     "end_time": "2024-08-30T22:46:04.792035Z",
     "start_time": "2024-08-30T22:46:04.776554Z"
    }
   },
   "outputs": [
    {
     "data": {
      "text/plain": "11.315198266289801"
     },
     "execution_count": 69,
     "metadata": {},
     "output_type": "execute_result"
    }
   ],
   "source": [
    "# Write code to compute the sum of the squared error.  Write a single numpy expression\n",
    "# YOUR CODE HERE\n",
    "(X.dot(b) - y_test).dot(X.dot(b) - y_test)  #solution\n"
   ]
  },
  {
   "cell_type": "code",
   "execution_count": 71,
   "metadata": {
    "ExecuteTime": {
     "end_time": "2024-08-30T22:46:12.517459Z",
     "start_time": "2024-08-30T22:46:12.497476Z"
    }
   },
   "outputs": [
    {
     "name": "stdout",
     "output_type": "stream",
     "text": [
      "11.315198266289801\n"
     ]
    }
   ],
   "source": [
    "# compute the answer another way to make sure your answer is correct\n",
    "# YOUR CODE HERE\n",
    "\n",
    "error = (X.dot(b) - y_test)\n",
    "SSE = np.sum(error**2)\n",
    "print(SSE)"
   ]
  },
  {
   "cell_type": "code",
   "execution_count": null,
   "outputs": [],
   "source": [],
   "metadata": {
    "collapsed": false
   }
  }
 ],
 "metadata": {
  "kernelspec": {
   "display_name": "Python 3",
   "language": "python",
   "name": "python3"
  },
  "language_info": {
   "codemirror_mode": {
    "name": "ipython",
    "version": 3
   },
   "file_extension": ".py",
   "mimetype": "text/x-python",
   "name": "python",
   "nbconvert_exporter": "python",
   "pygments_lexer": "ipython3",
   "version": "3.7.3"
  }
 },
 "nbformat": 4,
 "nbformat_minor": 4
}
