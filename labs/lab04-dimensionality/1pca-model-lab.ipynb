{
 "cells": [
  {
   "cell_type": "code",
   "execution_count": null,
   "id": "9fb5559f",
   "metadata": {},
   "outputs": [],
   "source": [
    "import numpy as np\n",
    "import pandas as pd\n",
    "import matplotlib.pyplot as plt\n",
    "import seaborn as sns\n",
    "from sklearn.decomposition import PCA\n",
    "from sklearn.preprocessing import StandardScaler\n",
    "from sklearn.tree import DecisionTreeClassifier\n",
    "from sklearn.model_selection import cross_val_score"
   ]
  },
  {
   "cell_type": "code",
   "execution_count": null,
   "id": "49ea18ca",
   "metadata": {},
   "outputs": [],
   "source": [
    "# plotting\n",
    "sns.set_context('talk')   # 'notebook' for slightly smaller"
   ]
  },
  {
   "cell_type": "code",
   "execution_count": null,
   "id": "d3637db4",
   "metadata": {},
   "outputs": [],
   "source": [
    "# so grid lines are below points\n",
    "plt.rc('axes', axisbelow=True)"
   ]
  },
  {
   "cell_type": "markdown",
   "id": "67826aa1",
   "metadata": {},
   "source": [
    "## Synthetic data"
   ]
  },
  {
   "cell_type": "code",
   "execution_count": null,
   "id": "e2f9ba92",
   "metadata": {},
   "outputs": [],
   "source": [
    "np.random.seed(2)\n",
    "\n",
    "m = 100\n",
    "\n",
    "# coefficients of the line\n",
    "b0 = 1.0\n",
    "b2 = 1.2\n",
    "\n",
    "# generate some points on the line, and add noise\n",
    "x1 = np.random.normal(scale=.7, size=m)\n",
    "x2 = b0 + b2*x1 + np.random.normal(scale=0.5, size=m)\n",
    "X = np.array([x1, x2]).T"
   ]
  },
  {
   "cell_type": "code",
   "execution_count": null,
   "id": "f541aae3",
   "metadata": {},
   "outputs": [],
   "source": [
    "# plot the data and the original basis vectors\n",
    "plt.figure(figsize=(5,5))\n",
    "plt.scatter(X[:,0], X[:,1], s=20)\n",
    "plt.arrow(0, 0, 1, 0, head_width=0.2, head_length=0.3, facecolor='black', width=0.02)\n",
    "plt.arrow(0, 0, 0, 1, head_width=0.2, head_length=0.3, facecolor='black', width=0.02)\n",
    "plt.xlim(-4, 4)\n",
    "plt.ylim(-4, 4)\n",
    "plt.grid()"
   ]
  },
  {
   "cell_type": "code",
   "execution_count": null,
   "id": "8d79b15c",
   "metadata": {},
   "outputs": [],
   "source": [
    "# perform PCA \n",
    "pca = PCA()\n",
    "pca.fit(X)"
   ]
  },
  {
   "cell_type": "code",
   "execution_count": null,
   "id": "2deae613",
   "metadata": {},
   "outputs": [],
   "source": [
    "# the rows of the components matrix are the principal components\n",
    "comps = pca.components_"
   ]
  },
  {
   "cell_type": "code",
   "execution_count": null,
   "id": "362c54fd",
   "metadata": {},
   "outputs": [],
   "source": [
    "# Problem 1: print the first principal component\n",
    "\n",
    "# YOUR CODE HERE"
   ]
  },
  {
   "cell_type": "code",
   "execution_count": null,
   "id": "84a49f7d",
   "metadata": {},
   "outputs": [],
   "source": [
    "# Problem 2: write code to test if the two principal components are orthogonal\n",
    "\n",
    "# YOUR CODE HERE"
   ]
  },
  {
   "cell_type": "code",
   "execution_count": null,
   "id": "c19faf6a",
   "metadata": {},
   "outputs": [],
   "source": [
    "# Problem 3: write code to test if the first principal component is a unit vector\n",
    "\n",
    "# YOUR CODE HERE"
   ]
  },
  {
   "cell_type": "code",
   "execution_count": null,
   "id": "b0387e16",
   "metadata": {},
   "outputs": [],
   "source": [
    "# Problem 4: transform the data using both principal components\n",
    "# Assign the result to variable Xt2 (X, transformed in two dimensions)\n",
    "# Hint: use matrix multiplication\n",
    "\n",
    "# YOUR CODE HERE"
   ]
  },
  {
   "cell_type": "code",
   "execution_count": null,
   "id": "3526af9f",
   "metadata": {},
   "outputs": [],
   "source": [
    "# Plot the transformed data\n",
    "plt.figure(figsize=(5,5))\n",
    "plt.scatter(Xt2[:,0], Xt2[:,1], s=20)\n",
    "plt.xlim(-4, 4)\n",
    "plt.ylim(-4, 4)\n",
    "plt.grid()"
   ]
  },
  {
   "cell_type": "code",
   "execution_count": null,
   "id": "734f0bb4",
   "metadata": {},
   "outputs": [],
   "source": [
    "# Problem 5: transform the data to one dimension\n",
    "# Assign the result to variable Xt1 \n",
    "\n",
    "# YOUR CODE HERE"
   ]
  },
  {
   "cell_type": "code",
   "execution_count": null,
   "id": "2027e396",
   "metadata": {},
   "outputs": [],
   "source": [
    "# Plot the one dimensional data\n",
    "\n",
    "plt.figure(figsize=(5,5))\n",
    "plt.scatter(Xt1, np.zeros(X.shape[0]), s=10, color='darkorange')\n",
    "plt.xlim(-4, 4)\n",
    "plt.ylim(-4, 4)\n",
    "plt.grid()"
   ]
  }
 ],
 "metadata": {
  "kernelspec": {
   "display_name": "Python 3",
   "language": "python",
   "name": "python3"
  },
  "language_info": {
   "codemirror_mode": {
    "name": "ipython",
    "version": 3
   },
   "file_extension": ".py",
   "mimetype": "text/x-python",
   "name": "python",
   "nbconvert_exporter": "python",
   "pygments_lexer": "ipython3",
   "version": "3.8.8"
  }
 },
 "nbformat": 4,
 "nbformat_minor": 5
}
