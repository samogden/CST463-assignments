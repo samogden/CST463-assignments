{
 "cells": [
  {
   "cell_type": "code",
   "execution_count": 1,
   "id": "initial_id",
   "metadata": {
    "collapsed": true,
    "ExecuteTime": {
     "end_time": "2024-10-23T15:49:09.012893Z",
     "start_time": "2024-10-23T15:49:06.308552Z"
    }
   },
   "outputs": [],
   "source": [
    "import tensorflow as tf\n",
    "import keras as keras\n",
    "import pandas as pd\n",
    "import numpy as np\n",
    "import sklearn.model_selection\n",
    "import matplotlib.pyplot as plt\n",
    "\n",
    "import typing\n"
   ]
  },
  {
   "cell_type": "code",
   "execution_count": 1,
   "outputs": [],
   "source": [],
   "metadata": {
    "collapsed": false,
    "ExecuteTime": {
     "end_time": "2024-10-23T15:49:09.021250Z",
     "start_time": "2024-10-23T15:49:09.013614Z"
    }
   },
   "id": "7a163994976c226d"
  },
  {
   "cell_type": "code",
   "execution_count": 2,
   "outputs": [],
   "source": [
    "\n",
    "def plot_multiple_histories(histories : typing.Dict, metric='loss', use_greyscale=True, show_validation=False, sort_agg_func=np.mean, sort_history_length=2, *args, **kwargs):\n",
    "  \"\"\"\n",
    "  Plots the training history of multiple models on the same plot for comparison.\n",
    "  \n",
    "  Parameters:\n",
    "    histories: List of History objects from multiple model's fit() calls.\n",
    "    metric: The metric to plot ('loss', 'accuracy', etc.).\n",
    "    labels: List of labels for the models. If None, defaults to 'Model 1', 'Model 2', etc.\n",
    "  \"\"\"\n",
    "  # Check if labels are provided, otherwise generate default labels\n",
    "  # if labels is None:\n",
    "  #   labels = [f'Model {i+1}' for i in range(len(histories))]\n",
    "  \n",
    "  # Initialize the plot\n",
    "  plt.figure(figsize=(10, 6))\n",
    "  \n",
    "  norm = plt.Normalize(vmin=0, vmax=len(histories))\n",
    "  grayscale_cmap = plt.colormaps['gray']\n",
    "  \n",
    "  sorted_keys = sorted(histories.keys(), key=(lambda k: sort_agg_func(histories[k].history[metric][:-sort_history_length])))\n",
    "  for i, label in enumerate(sorted_keys):\n",
    "    history = histories[label]\n",
    "    #for i, (label, history) in enumerate(histories.items()):\n",
    "    epochs = range(1, len(history.history[metric]) + 1)\n",
    "    \n",
    "    # Plot training metric\n",
    "    plt.plot(epochs, history.history[metric], label=f'{label} {metric.capitalize()}', color=grayscale_cmap(norm(i)))\n",
    "    \n",
    "    # Plot validation metric if available\n",
    "    if show_validation and f'val_{metric}' in history.history:\n",
    "      plt.plot(epochs, history.history[f'val_{metric}'], '--', label=f'{label} Validation {metric.capitalize()}', color=grayscale_cmap(norm(i)))\n",
    "  \n",
    "  # Add labels and title\n",
    "  plt.title(f'Comparison of {metric.capitalize()} Between Models')\n",
    "  plt.xlabel('Epochs')\n",
    "  plt.ylabel(metric.capitalize())\n",
    "  plt.legend()\n",
    "  \n",
    "  # Show plot\n",
    "  plt.show()\n"
   ],
   "metadata": {
    "collapsed": false,
    "ExecuteTime": {
     "end_time": "2024-10-23T15:49:09.021370Z",
     "start_time": "2024-10-23T15:49:09.017989Z"
    }
   },
   "id": "b2743fc873eef520"
  },
  {
   "cell_type": "code",
   "execution_count": 2,
   "outputs": [],
   "source": [],
   "metadata": {
    "collapsed": false,
    "ExecuteTime": {
     "end_time": "2024-10-23T15:49:09.022589Z",
     "start_time": "2024-10-23T15:49:09.019978Z"
    }
   },
   "id": "cb9b048b2c5d3519"
  },
  {
   "cell_type": "code",
   "execution_count": 3,
   "outputs": [
    {
     "data": {
      "text/plain": "<Figure size 500x1000 with 10 Axes>",
      "image/png": "[encoded data removed]"
     },
     "metadata": {},
     "output_type": "display_data"
    }
   ],
   "source": [
    "\n",
    "\n",
    "# Load MNIST dataset\n",
    "def load_mnist_data():\n",
    "  (x_train, y_train), (x_test, y_test) = keras.datasets.mnist.load_data()\n",
    "  x_train = np.expand_dims(x_train, -1).astype(\"float32\") / 255.0\n",
    "  x_test = np.expand_dims(x_test, -1).astype(\"float32\") / 255.0\n",
    "  return (x_train, y_train), (x_test, y_test)\n",
    "\n",
    "# Create pairs of images with labels (1 for same, 0 for different)\n",
    "def create_pairs(x, y):\n",
    "  pairs = []\n",
    "  labels = []\n",
    "  num_classes = len(np.unique(y))\n",
    "  digit_indices = [np.where(y == i)[0] for i in range(num_classes)]\n",
    "  \n",
    "  for idx1 in range(len(x)):\n",
    "    # Add a positive pair (same digit)\n",
    "    x1 = x[idx1]\n",
    "    label = y[idx1]\n",
    "    idx2 = np.random.choice(digit_indices[label])\n",
    "    x2 = x[idx2]\n",
    "    \n",
    "    pairs.append([x1, x2])\n",
    "    labels.append(1)\n",
    "    \n",
    "    # Add a negative pair (different digit)\n",
    "    neg_label = np.random.choice(list(set(range(num_classes)) - {label}))\n",
    "    idx2 = np.random.choice(digit_indices[neg_label])\n",
    "    x2 = x[idx2]\n",
    "    \n",
    "    pairs.append([x1, x2])\n",
    "    labels.append(0)\n",
    "  \n",
    "  # Shuffle the pairs and labels\n",
    "  pairs = np.array(pairs)\n",
    "  labels = np.array(labels)\n",
    "  shuffle_indices = np.random.permutation(len(pairs))\n",
    "  return pairs[shuffle_indices], labels[shuffle_indices]\n",
    "\n",
    "# Prepare the data for training\n",
    "(x_train, y_train), (x_test, y_test) = load_mnist_data()\n",
    "\n",
    "train_pairs, train_labels = create_pairs(x_train, y_train)\n",
    "test_pairs, test_labels = create_pairs(x_test, y_test)\n",
    "\n",
    "# Split into training and validation sets\n",
    "(train_pairs, val_pairs, train_labels, val_labels) = sklearn.model_selection.train_test_split(\n",
    "  train_pairs, train_labels, test_size=0.1, random_state=42\n",
    ")\n",
    "\n",
    "# Unpack pairs for training\n",
    "def unpack_pairs(pairs):\n",
    "  return [pairs[:, 0], pairs[:, 1]]\n",
    "\n",
    "train_pairs_unpacked = unpack_pairs(train_pairs)\n",
    "val_pairs_unpacked = unpack_pairs(val_pairs)\n",
    "test_pairs_unpacked = unpack_pairs(test_pairs)\n",
    "\n",
    "# Sanity check: Visualize a few image pairs and their labels\n",
    "def plot_pairs(pairs, labels, n=5):\n",
    "  fig, axes = plt.subplots(n, 2, figsize=(5, n*2))\n",
    "  for i in range(n):\n",
    "    axes[i, 0].imshow(pairs[0][i].reshape(28, 28), cmap='gray')\n",
    "    axes[i, 1].imshow(pairs[1][i].reshape(28, 28), cmap='gray')\n",
    "    axes[i, 0].axis('off')\n",
    "    axes[i, 1].axis('off')\n",
    "    axes[i, 0].set_title(f'Label: {labels[i]}')\n",
    "  plt.tight_layout()\n",
    "  plt.show()\n",
    "\n",
    "# Plot 5 random training pairs\n",
    "plot_pairs(train_pairs_unpacked, train_labels, n=5)\n"
   ],
   "metadata": {
    "collapsed": false,
    "ExecuteTime": {
     "end_time": "2024-10-23T15:49:10.693326Z",
     "start_time": "2024-10-23T15:49:09.027365Z"
    }
   },
   "id": "62102da21cb57e00"
  },
  {
   "cell_type": "code",
   "execution_count": 9,
   "outputs": [
    {
     "data": {
      "text/plain": "\u001B[1mModel: \"functional_5\"\u001B[0m\n",
      "text/html": "<pre style=\"white-space:pre;overflow-x:auto;line-height:normal;font-family:Menlo,'DejaVu Sans Mono',consolas,'Courier New',monospace\"><span style=\"font-weight: bold\">Model: \"functional_5\"</span>\n</pre>\n"
     },
     "metadata": {},
     "output_type": "display_data"
    },
    {
     "data": {
      "text/plain": "┏━━━━━━━━━━━━━━━━━━━━━┳━━━━━━━━━━━━━━━━━━━┳━━━━━━━━━━━━┳━━━━━━━━━━━━━━━━━━━┓\n┃\u001B[1m \u001B[0m\u001B[1mLayer (type)       \u001B[0m\u001B[1m \u001B[0m┃\u001B[1m \u001B[0m\u001B[1mOutput Shape     \u001B[0m\u001B[1m \u001B[0m┃\u001B[1m \u001B[0m\u001B[1m   Param #\u001B[0m\u001B[1m \u001B[0m┃\u001B[1m \u001B[0m\u001B[1mConnected to     \u001B[0m\u001B[1m \u001B[0m┃\n┡━━━━━━━━━━━━━━━━━━━━━╇━━━━━━━━━━━━━━━━━━━╇━━━━━━━━━━━━╇━━━━━━━━━━━━━━━━━━━┩\n│ input0 (\u001B[38;5;33mInputLayer\u001B[0m) │ (\u001B[38;5;45mNone\u001B[0m, \u001B[38;5;34m28\u001B[0m, \u001B[38;5;34m28\u001B[0m, \u001B[38;5;34m1\u001B[0m) │          \u001B[38;5;34m0\u001B[0m │ -                 │\n├─────────────────────┼───────────────────┼────────────┼───────────────────┤\n│ input1 (\u001B[38;5;33mInputLayer\u001B[0m) │ (\u001B[38;5;45mNone\u001B[0m, \u001B[38;5;34m28\u001B[0m, \u001B[38;5;34m28\u001B[0m, \u001B[38;5;34m1\u001B[0m) │          \u001B[38;5;34m0\u001B[0m │ -                 │\n├─────────────────────┼───────────────────┼────────────┼───────────────────┤\n│ functional_4        │ (\u001B[38;5;45mNone\u001B[0m, \u001B[38;5;34m100\u001B[0m)       │    \u001B[38;5;34m105,572\u001B[0m │ input0[\u001B[38;5;34m0\u001B[0m][\u001B[38;5;34m0\u001B[0m],     │\n│ (\u001B[38;5;33mFunctional\u001B[0m)        │                   │            │ input1[\u001B[38;5;34m0\u001B[0m][\u001B[38;5;34m0\u001B[0m]      │\n├─────────────────────┼───────────────────┼────────────┼───────────────────┤\n│ lambda_2 (\u001B[38;5;33mLambda\u001B[0m)   │ (\u001B[38;5;45mNone\u001B[0m, \u001B[38;5;34m1\u001B[0m)         │          \u001B[38;5;34m0\u001B[0m │ functional_4[\u001B[38;5;34m0\u001B[0m][\u001B[38;5;34m…\u001B[0m │\n│                     │                   │            │ functional_4[\u001B[38;5;34m1\u001B[0m][\u001B[38;5;34m…\u001B[0m │\n└─────────────────────┴───────────────────┴────────────┴───────────────────┘\n",
      "text/html": "<pre style=\"white-space:pre;overflow-x:auto;line-height:normal;font-family:Menlo,'DejaVu Sans Mono',consolas,'Courier New',monospace\">┏━━━━━━━━━━━━━━━━━━━━━┳━━━━━━━━━━━━━━━━━━━┳━━━━━━━━━━━━┳━━━━━━━━━━━━━━━━━━━┓\n┃<span style=\"font-weight: bold\"> Layer (type)        </span>┃<span style=\"font-weight: bold\"> Output Shape      </span>┃<span style=\"font-weight: bold\">    Param # </span>┃<span style=\"font-weight: bold\"> Connected to      </span>┃\n┡━━━━━━━━━━━━━━━━━━━━━╇━━━━━━━━━━━━━━━━━━━╇━━━━━━━━━━━━╇━━━━━━━━━━━━━━━━━━━┩\n│ input0 (<span style=\"color: #0087ff; text-decoration-color: #0087ff\">InputLayer</span>) │ (<span style=\"color: #00d7ff; text-decoration-color: #00d7ff\">None</span>, <span style=\"color: #00af00; text-decoration-color: #00af00\">28</span>, <span style=\"color: #00af00; text-decoration-color: #00af00\">28</span>, <span style=\"color: #00af00; text-decoration-color: #00af00\">1</span>) │          <span style=\"color: #00af00; text-decoration-color: #00af00\">0</span> │ -                 │\n├─────────────────────┼───────────────────┼────────────┼───────────────────┤\n│ input1 (<span style=\"color: #0087ff; text-decoration-color: #0087ff\">InputLayer</span>) │ (<span style=\"color: #00d7ff; text-decoration-color: #00d7ff\">None</span>, <span style=\"color: #00af00; text-decoration-color: #00af00\">28</span>, <span style=\"color: #00af00; text-decoration-color: #00af00\">28</span>, <span style=\"color: #00af00; text-decoration-color: #00af00\">1</span>) │          <span style=\"color: #00af00; text-decoration-color: #00af00\">0</span> │ -                 │\n├─────────────────────┼───────────────────┼────────────┼───────────────────┤\n│ functional_4        │ (<span style=\"color: #00d7ff; text-decoration-color: #00d7ff\">None</span>, <span style=\"color: #00af00; text-decoration-color: #00af00\">100</span>)       │    <span style=\"color: #00af00; text-decoration-color: #00af00\">105,572</span> │ input0[<span style=\"color: #00af00; text-decoration-color: #00af00\">0</span>][<span style=\"color: #00af00; text-decoration-color: #00af00\">0</span>],     │\n│ (<span style=\"color: #0087ff; text-decoration-color: #0087ff\">Functional</span>)        │                   │            │ input1[<span style=\"color: #00af00; text-decoration-color: #00af00\">0</span>][<span style=\"color: #00af00; text-decoration-color: #00af00\">0</span>]      │\n├─────────────────────┼───────────────────┼────────────┼───────────────────┤\n│ lambda_2 (<span style=\"color: #0087ff; text-decoration-color: #0087ff\">Lambda</span>)   │ (<span style=\"color: #00d7ff; text-decoration-color: #00d7ff\">None</span>, <span style=\"color: #00af00; text-decoration-color: #00af00\">1</span>)         │          <span style=\"color: #00af00; text-decoration-color: #00af00\">0</span> │ functional_4[<span style=\"color: #00af00; text-decoration-color: #00af00\">0</span>][<span style=\"color: #00af00; text-decoration-color: #00af00\">…</span> │\n│                     │                   │            │ functional_4[<span style=\"color: #00af00; text-decoration-color: #00af00\">1</span>][<span style=\"color: #00af00; text-decoration-color: #00af00\">…</span> │\n└─────────────────────┴───────────────────┴────────────┴───────────────────┘\n</pre>\n"
     },
     "metadata": {},
     "output_type": "display_data"
    },
    {
     "data": {
      "text/plain": "\u001B[1m Total params: \u001B[0m\u001B[38;5;34m105,572\u001B[0m (412.39 KB)\n",
      "text/html": "<pre style=\"white-space:pre;overflow-x:auto;line-height:normal;font-family:Menlo,'DejaVu Sans Mono',consolas,'Courier New',monospace\"><span style=\"font-weight: bold\"> Total params: </span><span style=\"color: #00af00; text-decoration-color: #00af00\">105,572</span> (412.39 KB)\n</pre>\n"
     },
     "metadata": {},
     "output_type": "display_data"
    },
    {
     "data": {
      "text/plain": "\u001B[1m Trainable params: \u001B[0m\u001B[38;5;34m105,572\u001B[0m (412.39 KB)\n",
      "text/html": "<pre style=\"white-space:pre;overflow-x:auto;line-height:normal;font-family:Menlo,'DejaVu Sans Mono',consolas,'Courier New',monospace\"><span style=\"font-weight: bold\"> Trainable params: </span><span style=\"color: #00af00; text-decoration-color: #00af00\">105,572</span> (412.39 KB)\n</pre>\n"
     },
     "metadata": {},
     "output_type": "display_data"
    },
    {
     "data": {
      "text/plain": "\u001B[1m Non-trainable params: \u001B[0m\u001B[38;5;34m0\u001B[0m (0.00 B)\n",
      "text/html": "<pre style=\"white-space:pre;overflow-x:auto;line-height:normal;font-family:Menlo,'DejaVu Sans Mono',consolas,'Courier New',monospace\"><span style=\"font-weight: bold\"> Non-trainable params: </span><span style=\"color: #00af00; text-decoration-color: #00af00\">0</span> (0.00 B)\n</pre>\n"
     },
     "metadata": {},
     "output_type": "display_data"
    }
   ],
   "source": [
    "\n",
    "input_shape = (28, 28, 1)  # Adding the channel dimension for MNIST\n",
    "embedding_size = 100\n",
    "\n",
    "def get_embedded_model(inputs) -> keras.models.Model:\n",
    "  x = keras.layers.Conv2D(filters=32, kernel_size=3, activation=\"relu\")(inputs)\n",
    "  #\n",
    "  # CNN Model code here\n",
    "  #\n",
    "  encoded = keras.layers.Dense(embedding_size, activation=\"tanh\")(x)  # Changed to tanh\n",
    "  embedding_model = keras.Model(inputs, encoded)\n",
    "  return embedding_model\n",
    "\n",
    "# Define the Euclidean distance function using tf.math\n",
    "def euclidean_distance(vectors):\n",
    "  (x0, x1) = vectors\n",
    "  sum_squared = tf.math.reduce_sum(tf.math.square(x0 - x1), axis=1, keepdims=True)\n",
    "  return tf.math.sqrt(sum_squared)\n",
    "\n",
    "# Create the two inputs\n",
    "input0 = keras.layers.Input(input_shape, name='input0')\n",
    "input1 = keras.layers.Input(input_shape, name='input1')\n",
    "\n",
    "# Create the embedding models\n",
    "embedding_model = get_embedded_model(keras.layers.Input(input_shape))  # Shared model\n",
    "sub0 = embedding_model(input0)  # Get the embeddings from the model\n",
    "sub1 = embedding_model(input1)\n",
    "\n",
    "# Compute the Euclidean distance between the embeddings\n",
    "merge_layer = keras.layers.Lambda(euclidean_distance, output_shape=(1,))([sub0, sub1])\n",
    "\n",
    "# Create the Siamese model\n",
    "model = keras.Model([input0, input1], merge_layer)\n",
    "\n",
    "# Compile the model using contrastive loss\n",
    "def contrastive_loss(margin=1.0):\n",
    "  def loss(y_true, y_pred):\n",
    "    square_pred = tf.math.square(y_pred)\n",
    "    margin_square = tf.math.square(tf.math.maximum(margin - y_pred, 0))\n",
    "    return tf.reduce_mean(y_true * square_pred + (1 - y_true) * margin_square)\n",
    "  return loss\n",
    "\n",
    "model.compile(optimizer=keras.optimizers.Adam(learning_rate=0.0001),\n",
    "  loss=contrastive_loss(margin=1.0),\n",
    "  metrics=['accuracy'])\n",
    "\n",
    "# Print the model summary\n",
    "model.summary()"
   ],
   "metadata": {
    "collapsed": false,
    "ExecuteTime": {
     "end_time": "2024-10-23T16:05:57.267014Z",
     "start_time": "2024-10-23T16:05:57.177467Z"
    }
   },
   "id": "da99beaab2cdd085"
  },
  {
   "cell_type": "code",
   "execution_count": 10,
   "outputs": [
    {
     "name": "stdout",
     "output_type": "stream",
     "text": [
      "Epoch 1/100\n",
      "\u001B[1m211/211\u001B[0m \u001B[32m━━━━━━━━━━━━━━━━━━━━\u001B[0m\u001B[37m\u001B[0m \u001B[1m6s\u001B[0m 23ms/step - accuracy: 0.3553 - loss: 0.2199 - val_accuracy: 0.1875 - val_loss: 0.1410\n",
      "Epoch 2/100\n",
      "\u001B[1m211/211\u001B[0m \u001B[32m━━━━━━━━━━━━━━━━━━━━\u001B[0m\u001B[37m\u001B[0m \u001B[1m4s\u001B[0m 20ms/step - accuracy: 0.1606 - loss: 0.1479 - val_accuracy: 0.1156 - val_loss: 0.1027\n",
      "Epoch 3/100\n",
      "\u001B[1m211/211\u001B[0m \u001B[32m━━━━━━━━━━━━━━━━━━━━\u001B[0m\u001B[37m\u001B[0m \u001B[1m4s\u001B[0m 20ms/step - accuracy: 0.1189 - loss: 0.1228 - val_accuracy: 0.0972 - val_loss: 0.0884\n",
      "Epoch 4/100\n",
      "\u001B[1m211/211\u001B[0m \u001B[32m━━━━━━━━━━━━━━━━━━━━\u001B[0m\u001B[37m\u001B[0m \u001B[1m4s\u001B[0m 21ms/step - accuracy: 0.1017 - loss: 0.1090 - val_accuracy: 0.0840 - val_loss: 0.0786\n",
      "Epoch 5/100\n",
      "\u001B[1m211/211\u001B[0m \u001B[32m━━━━━━━━━━━━━━━━━━━━\u001B[0m\u001B[37m\u001B[0m \u001B[1m5s\u001B[0m 21ms/step - accuracy: 0.0896 - loss: 0.0991 - val_accuracy: 0.0758 - val_loss: 0.0730\n",
      "Epoch 6/100\n",
      "\u001B[1m211/211\u001B[0m \u001B[32m━━━━━━━━━━━━━━━━━━━━\u001B[0m\u001B[37m\u001B[0m \u001B[1m5s\u001B[0m 23ms/step - accuracy: 0.0790 - loss: 0.0917 - val_accuracy: 0.0637 - val_loss: 0.0666\n",
      "Epoch 7/100\n",
      "\u001B[1m211/211\u001B[0m \u001B[32m━━━━━━━━━━━━━━━━━━━━\u001B[0m\u001B[37m\u001B[0m \u001B[1m5s\u001B[0m 22ms/step - accuracy: 0.0716 - loss: 0.0858 - val_accuracy: 0.0553 - val_loss: 0.0619\n",
      "Epoch 8/100\n",
      "\u001B[1m211/211\u001B[0m \u001B[32m━━━━━━━━━━━━━━━━━━━━\u001B[0m\u001B[37m\u001B[0m \u001B[1m4s\u001B[0m 20ms/step - accuracy: 0.0634 - loss: 0.0803 - val_accuracy: 0.0480 - val_loss: 0.0582\n",
      "Epoch 9/100\n",
      "\u001B[1m211/211\u001B[0m \u001B[32m━━━━━━━━━━━━━━━━━━━━\u001B[0m\u001B[37m\u001B[0m \u001B[1m4s\u001B[0m 21ms/step - accuracy: 0.0611 - loss: 0.0765 - val_accuracy: 0.0459 - val_loss: 0.0575\n",
      "Epoch 10/100\n",
      "\u001B[1m211/211\u001B[0m \u001B[32m━━━━━━━━━━━━━━━━━━━━\u001B[0m\u001B[37m\u001B[0m \u001B[1m4s\u001B[0m 21ms/step - accuracy: 0.0558 - loss: 0.0732 - val_accuracy: 0.0411 - val_loss: 0.0522\n",
      "Epoch 11/100\n",
      "\u001B[1m211/211\u001B[0m \u001B[32m━━━━━━━━━━━━━━━━━━━━\u001B[0m\u001B[37m\u001B[0m \u001B[1m5s\u001B[0m 21ms/step - accuracy: 0.0528 - loss: 0.0704 - val_accuracy: 0.0393 - val_loss: 0.0500\n",
      "Epoch 12/100\n",
      "\u001B[1m211/211\u001B[0m \u001B[32m━━━━━━━━━━━━━━━━━━━━\u001B[0m\u001B[37m\u001B[0m \u001B[1m4s\u001B[0m 21ms/step - accuracy: 0.0496 - loss: 0.0675 - val_accuracy: 0.0376 - val_loss: 0.0488\n",
      "Epoch 13/100\n",
      "\u001B[1m211/211\u001B[0m \u001B[32m━━━━━━━━━━━━━━━━━━━━\u001B[0m\u001B[37m\u001B[0m \u001B[1m5s\u001B[0m 21ms/step - accuracy: 0.0462 - loss: 0.0656 - val_accuracy: 0.0353 - val_loss: 0.0468\n",
      "Epoch 14/100\n",
      "\u001B[1m211/211\u001B[0m \u001B[32m━━━━━━━━━━━━━━━━━━━━\u001B[0m\u001B[37m\u001B[0m \u001B[1m5s\u001B[0m 21ms/step - accuracy: 0.0438 - loss: 0.0632 - val_accuracy: 0.0339 - val_loss: 0.0455\n",
      "Epoch 15/100\n",
      "\u001B[1m211/211\u001B[0m \u001B[32m━━━━━━━━━━━━━━━━━━━━\u001B[0m\u001B[37m\u001B[0m \u001B[1m5s\u001B[0m 21ms/step - accuracy: 0.0425 - loss: 0.0618 - val_accuracy: 0.0328 - val_loss: 0.0445\n",
      "Epoch 16/100\n",
      "\u001B[1m211/211\u001B[0m \u001B[32m━━━━━━━━━━━━━━━━━━━━\u001B[0m\u001B[37m\u001B[0m \u001B[1m5s\u001B[0m 21ms/step - accuracy: 0.0393 - loss: 0.0596 - val_accuracy: 0.0318 - val_loss: 0.0429\n",
      "Epoch 17/100\n",
      "\u001B[1m211/211\u001B[0m \u001B[32m━━━━━━━━━━━━━━━━━━━━\u001B[0m\u001B[37m\u001B[0m \u001B[1m4s\u001B[0m 21ms/step - accuracy: 0.0397 - loss: 0.0593 - val_accuracy: 0.0296 - val_loss: 0.0415\n",
      "Epoch 18/100\n",
      "\u001B[1m211/211\u001B[0m \u001B[32m━━━━━━━━━━━━━━━━━━━━\u001B[0m\u001B[37m\u001B[0m \u001B[1m4s\u001B[0m 21ms/step - accuracy: 0.0372 - loss: 0.0574 - val_accuracy: 0.0272 - val_loss: 0.0406\n",
      "Epoch 19/100\n",
      "\u001B[1m211/211\u001B[0m \u001B[32m━━━━━━━━━━━━━━━━━━━━\u001B[0m\u001B[37m\u001B[0m \u001B[1m4s\u001B[0m 21ms/step - accuracy: 0.0352 - loss: 0.0560 - val_accuracy: 0.0273 - val_loss: 0.0403\n",
      "Epoch 20/100\n",
      "\u001B[1m211/211\u001B[0m \u001B[32m━━━━━━━━━━━━━━━━━━━━\u001B[0m\u001B[37m\u001B[0m \u001B[1m4s\u001B[0m 20ms/step - accuracy: 0.0344 - loss: 0.0552 - val_accuracy: 0.0272 - val_loss: 0.0394\n",
      "Epoch 21/100\n",
      "\u001B[1m211/211\u001B[0m \u001B[32m━━━━━━━━━━━━━━━━━━━━\u001B[0m\u001B[37m\u001B[0m \u001B[1m5s\u001B[0m 21ms/step - accuracy: 0.0329 - loss: 0.0546 - val_accuracy: 0.0256 - val_loss: 0.0393\n",
      "Epoch 22/100\n",
      "\u001B[1m211/211\u001B[0m \u001B[32m━━━━━━━━━━━━━━━━━━━━\u001B[0m\u001B[37m\u001B[0m \u001B[1m5s\u001B[0m 22ms/step - accuracy: 0.0331 - loss: 0.0543 - val_accuracy: 0.0240 - val_loss: 0.0375\n",
      "Epoch 23/100\n",
      "\u001B[1m211/211\u001B[0m \u001B[32m━━━━━━━━━━━━━━━━━━━━\u001B[0m\u001B[37m\u001B[0m \u001B[1m5s\u001B[0m 22ms/step - accuracy: 0.0316 - loss: 0.0530 - val_accuracy: 0.0237 - val_loss: 0.0375\n",
      "Epoch 24/100\n",
      "\u001B[1m211/211\u001B[0m \u001B[32m━━━━━━━━━━━━━━━━━━━━\u001B[0m\u001B[37m\u001B[0m \u001B[1m4s\u001B[0m 21ms/step - accuracy: 0.0310 - loss: 0.0526 - val_accuracy: 0.0241 - val_loss: 0.0368\n",
      "Epoch 25/100\n",
      "\u001B[1m211/211\u001B[0m \u001B[32m━━━━━━━━━━━━━━━━━━━━\u001B[0m\u001B[37m\u001B[0m \u001B[1m4s\u001B[0m 20ms/step - accuracy: 0.0303 - loss: 0.0516 - val_accuracy: 0.0230 - val_loss: 0.0360\n",
      "Epoch 26/100\n",
      "\u001B[1m211/211\u001B[0m \u001B[32m━━━━━━━━━━━━━━━━━━━━\u001B[0m\u001B[37m\u001B[0m \u001B[1m4s\u001B[0m 21ms/step - accuracy: 0.0296 - loss: 0.0509 - val_accuracy: 0.0220 - val_loss: 0.0353\n",
      "Epoch 27/100\n",
      "\u001B[1m211/211\u001B[0m \u001B[32m━━━━━━━━━━━━━━━━━━━━\u001B[0m\u001B[37m\u001B[0m \u001B[1m4s\u001B[0m 20ms/step - accuracy: 0.0291 - loss: 0.0509 - val_accuracy: 0.0214 - val_loss: 0.0355\n",
      "Epoch 28/100\n",
      "\u001B[1m211/211\u001B[0m \u001B[32m━━━━━━━━━━━━━━━━━━━━\u001B[0m\u001B[37m\u001B[0m \u001B[1m4s\u001B[0m 21ms/step - accuracy: 0.0282 - loss: 0.0502 - val_accuracy: 0.0214 - val_loss: 0.0344\n",
      "Epoch 29/100\n",
      "\u001B[1m211/211\u001B[0m \u001B[32m━━━━━━━━━━━━━━━━━━━━\u001B[0m\u001B[37m\u001B[0m \u001B[1m5s\u001B[0m 21ms/step - accuracy: 0.0277 - loss: 0.0498 - val_accuracy: 0.0212 - val_loss: 0.0340\n",
      "Epoch 30/100\n",
      "\u001B[1m211/211\u001B[0m \u001B[32m━━━━━━━━━━━━━━━━━━━━\u001B[0m\u001B[37m\u001B[0m \u001B[1m4s\u001B[0m 21ms/step - accuracy: 0.0270 - loss: 0.0493 - val_accuracy: 0.0200 - val_loss: 0.0338\n",
      "Epoch 31/100\n",
      "\u001B[1m211/211\u001B[0m \u001B[32m━━━━━━━━━━━━━━━━━━━━\u001B[0m\u001B[37m\u001B[0m \u001B[1m4s\u001B[0m 21ms/step - accuracy: 0.0270 - loss: 0.0488 - val_accuracy: 0.0197 - val_loss: 0.0338\n",
      "Epoch 32/100\n",
      "\u001B[1m211/211\u001B[0m \u001B[32m━━━━━━━━━━━━━━━━━━━━\u001B[0m\u001B[37m\u001B[0m \u001B[1m4s\u001B[0m 20ms/step - accuracy: 0.0256 - loss: 0.0485 - val_accuracy: 0.0203 - val_loss: 0.0339\n",
      "Epoch 33/100\n",
      "\u001B[1m211/211\u001B[0m \u001B[32m━━━━━━━━━━━━━━━━━━━━\u001B[0m\u001B[37m\u001B[0m \u001B[1m6s\u001B[0m 29ms/step - accuracy: 0.0261 - loss: 0.0478 - val_accuracy: 0.0193 - val_loss: 0.0332\n",
      "Epoch 34/100\n",
      "\u001B[1m211/211\u001B[0m \u001B[32m━━━━━━━━━━━━━━━━━━━━\u001B[0m\u001B[37m\u001B[0m \u001B[1m5s\u001B[0m 24ms/step - accuracy: 0.0243 - loss: 0.0477 - val_accuracy: 0.0197 - val_loss: 0.0322\n",
      "Epoch 35/100\n",
      "\u001B[1m211/211\u001B[0m \u001B[32m━━━━━━━━━━━━━━━━━━━━\u001B[0m\u001B[37m\u001B[0m \u001B[1m5s\u001B[0m 22ms/step - accuracy: 0.0247 - loss: 0.0474 - val_accuracy: 0.0190 - val_loss: 0.0323\n",
      "Epoch 36/100\n",
      "\u001B[1m211/211\u001B[0m \u001B[32m━━━━━━━━━━━━━━━━━━━━\u001B[0m\u001B[37m\u001B[0m \u001B[1m5s\u001B[0m 22ms/step - accuracy: 0.0238 - loss: 0.0469 - val_accuracy: 0.0184 - val_loss: 0.0316\n",
      "Epoch 37/100\n",
      "\u001B[1m211/211\u001B[0m \u001B[32m━━━━━━━━━━━━━━━━━━━━\u001B[0m\u001B[37m\u001B[0m \u001B[1m4s\u001B[0m 21ms/step - accuracy: 0.0227 - loss: 0.0465 - val_accuracy: 0.0183 - val_loss: 0.0314\n",
      "Epoch 38/100\n",
      "\u001B[1m211/211\u001B[0m \u001B[32m━━━━━━━━━━━━━━━━━━━━\u001B[0m\u001B[37m\u001B[0m \u001B[1m5s\u001B[0m 22ms/step - accuracy: 0.0237 - loss: 0.0463 - val_accuracy: 0.0183 - val_loss: 0.0312\n",
      "Epoch 39/100\n",
      "\u001B[1m211/211\u001B[0m \u001B[32m━━━━━━━━━━━━━━━━━━━━\u001B[0m\u001B[37m\u001B[0m \u001B[1m4s\u001B[0m 21ms/step - accuracy: 0.0220 - loss: 0.0456 - val_accuracy: 0.0180 - val_loss: 0.0305\n",
      "Epoch 40/100\n",
      "\u001B[1m211/211\u001B[0m \u001B[32m━━━━━━━━━━━━━━━━━━━━\u001B[0m\u001B[37m\u001B[0m \u001B[1m4s\u001B[0m 21ms/step - accuracy: 0.0231 - loss: 0.0456 - val_accuracy: 0.0170 - val_loss: 0.0312\n",
      "Epoch 41/100\n",
      "\u001B[1m211/211\u001B[0m \u001B[32m━━━━━━━━━━━━━━━━━━━━\u001B[0m\u001B[37m\u001B[0m \u001B[1m5s\u001B[0m 22ms/step - accuracy: 0.0222 - loss: 0.0451 - val_accuracy: 0.0172 - val_loss: 0.0306\n",
      "Epoch 42/100\n",
      "\u001B[1m211/211\u001B[0m \u001B[32m━━━━━━━━━━━━━━━━━━━━\u001B[0m\u001B[37m\u001B[0m \u001B[1m4s\u001B[0m 20ms/step - accuracy: 0.0221 - loss: 0.0450 - val_accuracy: 0.0177 - val_loss: 0.0305\n",
      "Epoch 43/100\n",
      "\u001B[1m211/211\u001B[0m \u001B[32m━━━━━━━━━━━━━━━━━━━━\u001B[0m\u001B[37m\u001B[0m \u001B[1m5s\u001B[0m 22ms/step - accuracy: 0.0215 - loss: 0.0447 - val_accuracy: 0.0158 - val_loss: 0.0308\n",
      "Epoch 44/100\n",
      "\u001B[1m211/211\u001B[0m \u001B[32m━━━━━━━━━━━━━━━━━━━━\u001B[0m\u001B[37m\u001B[0m \u001B[1m5s\u001B[0m 21ms/step - accuracy: 0.0207 - loss: 0.0442 - val_accuracy: 0.0168 - val_loss: 0.0300\n",
      "Epoch 45/100\n",
      "\u001B[1m211/211\u001B[0m \u001B[32m━━━━━━━━━━━━━━━━━━━━\u001B[0m\u001B[37m\u001B[0m \u001B[1m4s\u001B[0m 21ms/step - accuracy: 0.0212 - loss: 0.0443 - val_accuracy: 0.0166 - val_loss: 0.0292\n",
      "Epoch 46/100\n",
      "\u001B[1m211/211\u001B[0m \u001B[32m━━━━━━━━━━━━━━━━━━━━\u001B[0m\u001B[37m\u001B[0m \u001B[1m4s\u001B[0m 21ms/step - accuracy: 0.0201 - loss: 0.0439 - val_accuracy: 0.0161 - val_loss: 0.0298\n",
      "Epoch 47/100\n",
      "\u001B[1m211/211\u001B[0m \u001B[32m━━━━━━━━━━━━━━━━━━━━\u001B[0m\u001B[37m\u001B[0m \u001B[1m4s\u001B[0m 21ms/step - accuracy: 0.0198 - loss: 0.0432 - val_accuracy: 0.0166 - val_loss: 0.0288\n",
      "Epoch 48/100\n",
      "\u001B[1m211/211\u001B[0m \u001B[32m━━━━━━━━━━━━━━━━━━━━\u001B[0m\u001B[37m\u001B[0m \u001B[1m4s\u001B[0m 21ms/step - accuracy: 0.0193 - loss: 0.0431 - val_accuracy: 0.0148 - val_loss: 0.0295\n",
      "Epoch 49/100\n",
      "\u001B[1m211/211\u001B[0m \u001B[32m━━━━━━━━━━━━━━━━━━━━\u001B[0m\u001B[37m\u001B[0m \u001B[1m5s\u001B[0m 21ms/step - accuracy: 0.0197 - loss: 0.0431 - val_accuracy: 0.0168 - val_loss: 0.0283\n",
      "Epoch 50/100\n",
      "\u001B[1m211/211\u001B[0m \u001B[32m━━━━━━━━━━━━━━━━━━━━\u001B[0m\u001B[37m\u001B[0m \u001B[1m5s\u001B[0m 21ms/step - accuracy: 0.0187 - loss: 0.0424 - val_accuracy: 0.0154 - val_loss: 0.0288\n",
      "Epoch 51/100\n",
      "\u001B[1m211/211\u001B[0m \u001B[32m━━━━━━━━━━━━━━━━━━━━\u001B[0m\u001B[37m\u001B[0m \u001B[1m5s\u001B[0m 21ms/step - accuracy: 0.0187 - loss: 0.0425 - val_accuracy: 0.0148 - val_loss: 0.0285\n",
      "Epoch 52/100\n",
      "\u001B[1m211/211\u001B[0m \u001B[32m━━━━━━━━━━━━━━━━━━━━\u001B[0m\u001B[37m\u001B[0m \u001B[1m4s\u001B[0m 21ms/step - accuracy: 0.0186 - loss: 0.0420 - val_accuracy: 0.0150 - val_loss: 0.0283\n",
      "Epoch 53/100\n",
      "\u001B[1m211/211\u001B[0m \u001B[32m━━━━━━━━━━━━━━━━━━━━\u001B[0m\u001B[37m\u001B[0m \u001B[1m5s\u001B[0m 22ms/step - accuracy: 0.0193 - loss: 0.0423 - val_accuracy: 0.0139 - val_loss: 0.0281\n",
      "Epoch 54/100\n",
      "\u001B[1m211/211\u001B[0m \u001B[32m━━━━━━━━━━━━━━━━━━━━\u001B[0m\u001B[37m\u001B[0m \u001B[1m5s\u001B[0m 24ms/step - accuracy: 0.0174 - loss: 0.0418 - val_accuracy: 0.0142 - val_loss: 0.0278\n",
      "Epoch 55/100\n",
      "\u001B[1m211/211\u001B[0m \u001B[32m━━━━━━━━━━━━━━━━━━━━\u001B[0m\u001B[37m\u001B[0m \u001B[1m5s\u001B[0m 24ms/step - accuracy: 0.0186 - loss: 0.0417 - val_accuracy: 0.0143 - val_loss: 0.0279\n",
      "Epoch 56/100\n",
      "\u001B[1m211/211\u001B[0m \u001B[32m━━━━━━━━━━━━━━━━━━━━\u001B[0m\u001B[37m\u001B[0m \u001B[1m5s\u001B[0m 24ms/step - accuracy: 0.0176 - loss: 0.0412 - val_accuracy: 0.0146 - val_loss: 0.0277\n",
      "Epoch 57/100\n",
      "\u001B[1m211/211\u001B[0m \u001B[32m━━━━━━━━━━━━━━━━━━━━\u001B[0m\u001B[37m\u001B[0m \u001B[1m5s\u001B[0m 23ms/step - accuracy: 0.0157 - loss: 0.0410 - val_accuracy: 0.0134 - val_loss: 0.0277\n",
      "Epoch 58/100\n",
      "\u001B[1m211/211\u001B[0m \u001B[32m━━━━━━━━━━━━━━━━━━━━\u001B[0m\u001B[37m\u001B[0m \u001B[1m5s\u001B[0m 23ms/step - accuracy: 0.0160 - loss: 0.0405 - val_accuracy: 0.0141 - val_loss: 0.0269\n",
      "Epoch 59/100\n",
      "\u001B[1m211/211\u001B[0m \u001B[32m━━━━━━━━━━━━━━━━━━━━\u001B[0m\u001B[37m\u001B[0m \u001B[1m5s\u001B[0m 25ms/step - accuracy: 0.0173 - loss: 0.0408 - val_accuracy: 0.0131 - val_loss: 0.0270\n",
      "Epoch 60/100\n",
      "\u001B[1m211/211\u001B[0m \u001B[32m━━━━━━━━━━━━━━━━━━━━\u001B[0m\u001B[37m\u001B[0m \u001B[1m5s\u001B[0m 24ms/step - accuracy: 0.0164 - loss: 0.0404 - val_accuracy: 0.0143 - val_loss: 0.0264\n",
      "Epoch 61/100\n",
      "\u001B[1m211/211\u001B[0m \u001B[32m━━━━━━━━━━━━━━━━━━━━\u001B[0m\u001B[37m\u001B[0m \u001B[1m5s\u001B[0m 25ms/step - accuracy: 0.0163 - loss: 0.0402 - val_accuracy: 0.0137 - val_loss: 0.0271\n",
      "Epoch 62/100\n",
      "\u001B[1m211/211\u001B[0m \u001B[32m━━━━━━━━━━━━━━━━━━━━\u001B[0m\u001B[37m\u001B[0m \u001B[1m5s\u001B[0m 23ms/step - accuracy: 0.0159 - loss: 0.0400 - val_accuracy: 0.0127 - val_loss: 0.0264\n",
      "Epoch 63/100\n",
      "\u001B[1m211/211\u001B[0m \u001B[32m━━━━━━━━━━━━━━━━━━━━\u001B[0m\u001B[37m\u001B[0m \u001B[1m5s\u001B[0m 24ms/step - accuracy: 0.0161 - loss: 0.0399 - val_accuracy: 0.0127 - val_loss: 0.0263\n",
      "Epoch 64/100\n",
      "\u001B[1m211/211\u001B[0m \u001B[32m━━━━━━━━━━━━━━━━━━━━\u001B[0m\u001B[37m\u001B[0m \u001B[1m5s\u001B[0m 25ms/step - accuracy: 0.0164 - loss: 0.0401 - val_accuracy: 0.0138 - val_loss: 0.0263\n",
      "Epoch 65/100\n",
      "\u001B[1m211/211\u001B[0m \u001B[32m━━━━━━━━━━━━━━━━━━━━\u001B[0m\u001B[37m\u001B[0m \u001B[1m5s\u001B[0m 22ms/step - accuracy: 0.0160 - loss: 0.0396 - val_accuracy: 0.0130 - val_loss: 0.0263\n",
      "Epoch 66/100\n",
      "\u001B[1m211/211\u001B[0m \u001B[32m━━━━━━━━━━━━━━━━━━━━\u001B[0m\u001B[37m\u001B[0m \u001B[1m5s\u001B[0m 23ms/step - accuracy: 0.0147 - loss: 0.0396 - val_accuracy: 0.0131 - val_loss: 0.0260\n",
      "Epoch 67/100\n",
      "\u001B[1m211/211\u001B[0m \u001B[32m━━━━━━━━━━━━━━━━━━━━\u001B[0m\u001B[37m\u001B[0m \u001B[1m5s\u001B[0m 23ms/step - accuracy: 0.0147 - loss: 0.0390 - val_accuracy: 0.0132 - val_loss: 0.0256\n",
      "Epoch 68/100\n",
      "\u001B[1m211/211\u001B[0m \u001B[32m━━━━━━━━━━━━━━━━━━━━\u001B[0m\u001B[37m\u001B[0m \u001B[1m5s\u001B[0m 23ms/step - accuracy: 0.0141 - loss: 0.0389 - val_accuracy: 0.0138 - val_loss: 0.0254\n",
      "Epoch 69/100\n",
      "\u001B[1m211/211\u001B[0m \u001B[32m━━━━━━━━━━━━━━━━━━━━\u001B[0m\u001B[37m\u001B[0m \u001B[1m5s\u001B[0m 24ms/step - accuracy: 0.0147 - loss: 0.0387 - val_accuracy: 0.0127 - val_loss: 0.0254\n",
      "Epoch 70/100\n",
      "\u001B[1m211/211\u001B[0m \u001B[32m━━━━━━━━━━━━━━━━━━━━\u001B[0m\u001B[37m\u001B[0m \u001B[1m5s\u001B[0m 23ms/step - accuracy: 0.0146 - loss: 0.0388 - val_accuracy: 0.0128 - val_loss: 0.0254\n",
      "Epoch 71/100\n",
      "\u001B[1m211/211\u001B[0m \u001B[32m━━━━━━━━━━━━━━━━━━━━\u001B[0m\u001B[37m\u001B[0m \u001B[1m5s\u001B[0m 22ms/step - accuracy: 0.0146 - loss: 0.0384 - val_accuracy: 0.0123 - val_loss: 0.0256\n",
      "Epoch 72/100\n",
      "\u001B[1m211/211\u001B[0m \u001B[32m━━━━━━━━━━━━━━━━━━━━\u001B[0m\u001B[37m\u001B[0m \u001B[1m4s\u001B[0m 20ms/step - accuracy: 0.0147 - loss: 0.0387 - val_accuracy: 0.0126 - val_loss: 0.0249\n",
      "Epoch 73/100\n",
      "\u001B[1m211/211\u001B[0m \u001B[32m━━━━━━━━━━━━━━━━━━━━\u001B[0m\u001B[37m\u001B[0m \u001B[1m5s\u001B[0m 22ms/step - accuracy: 0.0143 - loss: 0.0383 - val_accuracy: 0.0129 - val_loss: 0.0251\n",
      "Epoch 74/100\n",
      "\u001B[1m211/211\u001B[0m \u001B[32m━━━━━━━━━━━━━━━━━━━━\u001B[0m\u001B[37m\u001B[0m \u001B[1m4s\u001B[0m 20ms/step - accuracy: 0.0130 - loss: 0.0375 - val_accuracy: 0.0117 - val_loss: 0.0246\n",
      "Epoch 75/100\n",
      "\u001B[1m211/211\u001B[0m \u001B[32m━━━━━━━━━━━━━━━━━━━━\u001B[0m\u001B[37m\u001B[0m \u001B[1m4s\u001B[0m 21ms/step - accuracy: 0.0135 - loss: 0.0374 - val_accuracy: 0.0124 - val_loss: 0.0245\n",
      "Epoch 76/100\n",
      "\u001B[1m211/211\u001B[0m \u001B[32m━━━━━━━━━━━━━━━━━━━━\u001B[0m\u001B[37m\u001B[0m \u001B[1m4s\u001B[0m 20ms/step - accuracy: 0.0133 - loss: 0.0373 - val_accuracy: 0.0113 - val_loss: 0.0258\n",
      "Epoch 77/100\n",
      "\u001B[1m211/211\u001B[0m \u001B[32m━━━━━━━━━━━━━━━━━━━━\u001B[0m\u001B[37m\u001B[0m \u001B[1m4s\u001B[0m 21ms/step - accuracy: 0.0142 - loss: 0.0379 - val_accuracy: 0.0130 - val_loss: 0.0241\n",
      "Epoch 78/100\n",
      "\u001B[1m211/211\u001B[0m \u001B[32m━━━━━━━━━━━━━━━━━━━━\u001B[0m\u001B[37m\u001B[0m \u001B[1m5s\u001B[0m 21ms/step - accuracy: 0.0136 - loss: 0.0372 - val_accuracy: 0.0117 - val_loss: 0.0243\n",
      "Epoch 79/100\n",
      "\u001B[1m211/211\u001B[0m \u001B[32m━━━━━━━━━━━━━━━━━━━━\u001B[0m\u001B[37m\u001B[0m \u001B[1m4s\u001B[0m 21ms/step - accuracy: 0.0135 - loss: 0.0371 - val_accuracy: 0.0115 - val_loss: 0.0243\n",
      "Epoch 80/100\n",
      "\u001B[1m211/211\u001B[0m \u001B[32m━━━━━━━━━━━━━━━━━━━━\u001B[0m\u001B[37m\u001B[0m \u001B[1m4s\u001B[0m 21ms/step - accuracy: 0.0136 - loss: 0.0370 - val_accuracy: 0.0114 - val_loss: 0.0240\n",
      "Epoch 81/100\n",
      "\u001B[1m211/211\u001B[0m \u001B[32m━━━━━━━━━━━━━━━━━━━━\u001B[0m\u001B[37m\u001B[0m \u001B[1m5s\u001B[0m 21ms/step - accuracy: 0.0130 - loss: 0.0369 - val_accuracy: 0.0113 - val_loss: 0.0248\n",
      "Epoch 82/100\n",
      "\u001B[1m211/211\u001B[0m \u001B[32m━━━━━━━━━━━━━━━━━━━━\u001B[0m\u001B[37m\u001B[0m \u001B[1m5s\u001B[0m 21ms/step - accuracy: 0.0123 - loss: 0.0364 - val_accuracy: 0.0117 - val_loss: 0.0241\n",
      "Epoch 83/100\n",
      "\u001B[1m211/211\u001B[0m \u001B[32m━━━━━━━━━━━━━━━━━━━━\u001B[0m\u001B[37m\u001B[0m \u001B[1m4s\u001B[0m 20ms/step - accuracy: 0.0126 - loss: 0.0363 - val_accuracy: 0.0116 - val_loss: 0.0237\n",
      "Epoch 84/100\n",
      "\u001B[1m211/211\u001B[0m \u001B[32m━━━━━━━━━━━━━━━━━━━━\u001B[0m\u001B[37m\u001B[0m \u001B[1m4s\u001B[0m 21ms/step - accuracy: 0.0117 - loss: 0.0361 - val_accuracy: 0.0114 - val_loss: 0.0237\n",
      "Epoch 85/100\n",
      "\u001B[1m211/211\u001B[0m \u001B[32m━━━━━━━━━━━━━━━━━━━━\u001B[0m\u001B[37m\u001B[0m \u001B[1m4s\u001B[0m 20ms/step - accuracy: 0.0120 - loss: 0.0361 - val_accuracy: 0.0115 - val_loss: 0.0234\n",
      "Epoch 86/100\n",
      "\u001B[1m211/211\u001B[0m \u001B[32m━━━━━━━━━━━━━━━━━━━━\u001B[0m\u001B[37m\u001B[0m \u001B[1m4s\u001B[0m 21ms/step - accuracy: 0.0120 - loss: 0.0356 - val_accuracy: 0.0111 - val_loss: 0.0237\n",
      "Epoch 87/100\n",
      "\u001B[1m211/211\u001B[0m \u001B[32m━━━━━━━━━━━━━━━━━━━━\u001B[0m\u001B[37m\u001B[0m \u001B[1m4s\u001B[0m 20ms/step - accuracy: 0.0124 - loss: 0.0360 - val_accuracy: 0.0110 - val_loss: 0.0236\n",
      "Epoch 88/100\n",
      "\u001B[1m211/211\u001B[0m \u001B[32m━━━━━━━━━━━━━━━━━━━━\u001B[0m\u001B[37m\u001B[0m \u001B[1m4s\u001B[0m 20ms/step - accuracy: 0.0117 - loss: 0.0356 - val_accuracy: 0.0113 - val_loss: 0.0231\n",
      "Epoch 89/100\n",
      "\u001B[1m211/211\u001B[0m \u001B[32m━━━━━━━━━━━━━━━━━━━━\u001B[0m\u001B[37m\u001B[0m \u001B[1m4s\u001B[0m 21ms/step - accuracy: 0.0127 - loss: 0.0355 - val_accuracy: 0.0111 - val_loss: 0.0230\n",
      "Epoch 90/100\n",
      "\u001B[1m211/211\u001B[0m \u001B[32m━━━━━━━━━━━━━━━━━━━━\u001B[0m\u001B[37m\u001B[0m \u001B[1m4s\u001B[0m 21ms/step - accuracy: 0.0119 - loss: 0.0355 - val_accuracy: 0.0122 - val_loss: 0.0227\n",
      "Epoch 91/100\n",
      "\u001B[1m211/211\u001B[0m \u001B[32m━━━━━━━━━━━━━━━━━━━━\u001B[0m\u001B[37m\u001B[0m \u001B[1m4s\u001B[0m 20ms/step - accuracy: 0.0118 - loss: 0.0350 - val_accuracy: 0.0104 - val_loss: 0.0231\n",
      "Epoch 92/100\n",
      "\u001B[1m211/211\u001B[0m \u001B[32m━━━━━━━━━━━━━━━━━━━━\u001B[0m\u001B[37m\u001B[0m \u001B[1m5s\u001B[0m 21ms/step - accuracy: 0.0112 - loss: 0.0342 - val_accuracy: 0.0108 - val_loss: 0.0227\n",
      "Epoch 93/100\n",
      "\u001B[1m211/211\u001B[0m \u001B[32m━━━━━━━━━━━━━━━━━━━━\u001B[0m\u001B[37m\u001B[0m \u001B[1m4s\u001B[0m 21ms/step - accuracy: 0.0108 - loss: 0.0344 - val_accuracy: 0.0108 - val_loss: 0.0227\n",
      "Epoch 94/100\n",
      "\u001B[1m211/211\u001B[0m \u001B[32m━━━━━━━━━━━━━━━━━━━━\u001B[0m\u001B[37m\u001B[0m \u001B[1m4s\u001B[0m 21ms/step - accuracy: 0.0113 - loss: 0.0341 - val_accuracy: 0.0111 - val_loss: 0.0224\n",
      "Epoch 95/100\n",
      "\u001B[1m211/211\u001B[0m \u001B[32m━━━━━━━━━━━━━━━━━━━━\u001B[0m\u001B[37m\u001B[0m \u001B[1m5s\u001B[0m 21ms/step - accuracy: 0.0107 - loss: 0.0335 - val_accuracy: 0.0116 - val_loss: 0.0222\n",
      "Epoch 96/100\n",
      "\u001B[1m211/211\u001B[0m \u001B[32m━━━━━━━━━━━━━━━━━━━━\u001B[0m\u001B[37m\u001B[0m \u001B[1m4s\u001B[0m 21ms/step - accuracy: 0.0110 - loss: 0.0335 - val_accuracy: 0.0107 - val_loss: 0.0222\n",
      "Epoch 97/100\n",
      "\u001B[1m211/211\u001B[0m \u001B[32m━━━━━━━━━━━━━━━━━━━━\u001B[0m\u001B[37m\u001B[0m \u001B[1m5s\u001B[0m 22ms/step - accuracy: 0.0100 - loss: 0.0327 - val_accuracy: 0.0109 - val_loss: 0.0218\n",
      "Epoch 98/100\n",
      "\u001B[1m211/211\u001B[0m \u001B[32m━━━━━━━━━━━━━━━━━━━━\u001B[0m\u001B[37m\u001B[0m \u001B[1m4s\u001B[0m 21ms/step - accuracy: 0.0099 - loss: 0.0327 - val_accuracy: 0.0106 - val_loss: 0.0220\n",
      "Epoch 99/100\n",
      "\u001B[1m211/211\u001B[0m \u001B[32m━━━━━━━━━━━━━━━━━━━━\u001B[0m\u001B[37m\u001B[0m \u001B[1m4s\u001B[0m 21ms/step - accuracy: 0.0093 - loss: 0.0323 - val_accuracy: 0.0113 - val_loss: 0.0215\n",
      "Epoch 100/100\n",
      "\u001B[1m211/211\u001B[0m \u001B[32m━━━━━━━━━━━━━━━━━━━━\u001B[0m\u001B[37m\u001B[0m \u001B[1m4s\u001B[0m 21ms/step - accuracy: 0.0101 - loss: 0.0319 - val_accuracy: 0.0113 - val_loss: 0.0215\n",
      "\u001B[1m625/625\u001B[0m \u001B[32m━━━━━━━━━━━━━━━━━━━━\u001B[0m\u001B[37m\u001B[0m \u001B[1m2s\u001B[0m 3ms/step - accuracy: 0.0173 - loss: 0.0263\n"
     ]
    }
   ],
   "source": [
    "\n",
    "# Train the model\n",
    "history = model.fit(\n",
    "  [train_pairs_unpacked[0], train_pairs_unpacked[1]], train_labels,\n",
    "  validation_data=([val_pairs_unpacked[0], val_pairs_unpacked[1]], val_labels),\n",
    "  batch_size=512,\n",
    "  epochs=100\n",
    ")\n",
    "\n",
    "# Evaluate on test data\n",
    "test_loss, test_accuracy = model.evaluate(\n",
    "  [test_pairs_unpacked[0], test_pairs_unpacked[1]], test_labels\n",
    ")\n"
   ],
   "metadata": {
    "collapsed": false,
    "ExecuteTime": {
     "end_time": "2024-10-23T16:13:40.129127Z",
     "start_time": "2024-10-23T16:05:58.594465Z"
    }
   },
   "id": "57b0defeeda743ad"
  },
  {
   "cell_type": "code",
   "execution_count": 11,
   "outputs": [
    {
     "data": {
      "text/plain": "<Figure size 1000x600 with 1 Axes>",
      "image/png": "[encoded data removed]"
     },
     "metadata": {},
     "output_type": "display_data"
    }
   ],
   "source": [
    "plot_multiple_histories({'a': history, 'b':history})"
   ],
   "metadata": {
    "collapsed": false,
    "ExecuteTime": {
     "end_time": "2024-10-23T16:49:09.216045Z",
     "start_time": "2024-10-23T16:49:09.123182Z"
    }
   },
   "id": "ba8cf95454a55ad2"
  },
  {
   "cell_type": "code",
   "execution_count": 6,
   "outputs": [],
   "source": [],
   "metadata": {
    "collapsed": false,
    "ExecuteTime": {
     "end_time": "2024-10-23T15:55:43.033030Z",
     "start_time": "2024-10-23T15:55:43.028694Z"
    }
   },
   "id": "abb57d2229c534f7"
  },
  {
   "cell_type": "code",
   "execution_count": 6,
   "outputs": [],
   "source": [],
   "metadata": {
    "collapsed": false,
    "ExecuteTime": {
     "end_time": "2024-10-23T15:55:43.033422Z",
     "start_time": "2024-10-23T15:55:43.030971Z"
    }
   },
   "id": "c9eea7d341ae9a34"
  },
  {
   "cell_type": "code",
   "execution_count": 6,
   "outputs": [],
   "source": [],
   "metadata": {
    "collapsed": false,
    "ExecuteTime": {
     "end_time": "2024-10-23T15:55:43.035272Z",
     "start_time": "2024-10-23T15:55:43.032747Z"
    }
   },
   "id": "17cb2e68e21a3e51"
  },
  {
   "cell_type": "code",
   "execution_count": 6,
   "outputs": [],
   "source": [],
   "metadata": {
    "collapsed": false,
    "ExecuteTime": {
     "end_time": "2024-10-23T15:55:43.041087Z",
     "start_time": "2024-10-23T15:55:43.035226Z"
    }
   },
   "id": "f2aec4698e646527"
  },
  {
   "cell_type": "code",
   "execution_count": 6,
   "outputs": [],
   "source": [],
   "metadata": {
    "collapsed": false,
    "ExecuteTime": {
     "end_time": "2024-10-23T15:55:43.041187Z",
     "start_time": "2024-10-23T15:55:43.037332Z"
    }
   },
   "id": "3acd768bc122c505"
  }
 ],
 "metadata": {
  "kernelspec": {
   "display_name": "Python 3",
   "language": "python",
   "name": "python3"
  },
  "language_info": {
   "codemirror_mode": {
    "name": "ipython",
    "version": 2
   },
   "file_extension": ".py",
   "mimetype": "text/x-python",
   "name": "python",
   "nbconvert_exporter": "python",
   "pygments_lexer": "ipython2",
   "version": "2.7.6"
  }
 },
 "nbformat": 4,
 "nbformat_minor": 5
}
