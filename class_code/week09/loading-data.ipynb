{
 "cells": [
  {
   "cell_type": "code",
   "execution_count": 3,
   "id": "initial_id",
   "metadata": {
    "collapsed": true,
    "ExecuteTime": {
     "end_time": "2024-10-21T17:20:26.020305Z",
     "start_time": "2024-10-21T17:20:25.970228Z"
    }
   },
   "outputs": [],
   "source": [
    "import tensorflow as tf\n",
    "import keras\n",
    "import numpy as np"
   ]
  },
  {
   "cell_type": "code",
   "execution_count": 3,
   "outputs": [],
   "source": [],
   "metadata": {
    "collapsed": false,
    "ExecuteTime": {
     "end_time": "2024-10-21T17:20:26.020433Z",
     "start_time": "2024-10-21T17:20:25.973328Z"
    }
   },
   "id": "774141d278de2dd3"
  },
  {
   "cell_type": "code",
   "execution_count": 3,
   "outputs": [],
   "source": [],
   "metadata": {
    "collapsed": false,
    "ExecuteTime": {
     "end_time": "2024-10-21T17:20:26.020474Z",
     "start_time": "2024-10-21T17:20:25.976438Z"
    }
   },
   "id": "ae16e9e040d50293"
  },
  {
   "cell_type": "code",
   "execution_count": 3,
   "outputs": [],
   "source": [],
   "metadata": {
    "collapsed": false,
    "ExecuteTime": {
     "end_time": "2024-10-21T17:20:26.020506Z",
     "start_time": "2024-10-21T17:20:25.978562Z"
    }
   },
   "id": "a52947eae0382b35"
  },
  {
   "cell_type": "code",
   "execution_count": 3,
   "outputs": [],
   "source": [],
   "metadata": {
    "collapsed": false,
    "ExecuteTime": {
     "end_time": "2024-10-21T17:20:26.020536Z",
     "start_time": "2024-10-21T17:20:25.981915Z"
    }
   },
   "id": "41b6197645383980"
  },
  {
   "cell_type": "code",
   "execution_count": 3,
   "outputs": [],
   "source": [],
   "metadata": {
    "collapsed": false,
    "ExecuteTime": {
     "end_time": "2024-10-21T17:20:26.026032Z",
     "start_time": "2024-10-21T17:20:25.984545Z"
    }
   },
   "id": "83221fcdb684b29d"
  },
  {
   "cell_type": "code",
   "execution_count": 3,
   "outputs": [],
   "source": [],
   "metadata": {
    "collapsed": false,
    "ExecuteTime": {
     "end_time": "2024-10-21T17:20:26.026112Z",
     "start_time": "2024-10-21T17:20:25.986287Z"
    }
   },
   "id": "ba77d8e93fe7be9"
  },
  {
   "cell_type": "code",
   "execution_count": 3,
   "outputs": [],
   "source": [],
   "metadata": {
    "collapsed": false,
    "ExecuteTime": {
     "end_time": "2024-10-21T17:20:26.026148Z",
     "start_time": "2024-10-21T17:20:25.988992Z"
    }
   },
   "id": "54d97883ef291ae2"
  },
  {
   "cell_type": "code",
   "execution_count": 4,
   "outputs": [],
   "source": [
    "(X_train, y_train), (X_test, y_test) = keras.datasets.cifar10.load_data()\n",
    "num_classes = np.unique(y_test).size\n",
    "\n",
    "# from integers in [0,255] to float in [0,1]\n",
    "X_train = X_train.astype('float32') / 255\n",
    "X_test  = X_test.astype('float32') / 255\n",
    "\n",
    "# store the labels in 1D arrays, not 2D\n",
    "y_train = np.squeeze(y_train)  # could do this with reshape\n",
    "y_test = np.squeeze(y_test)\n",
    "\n",
    "\n",
    "# Convert class vectors to one-hot encoded\n",
    "y_train = keras.utils.to_categorical(y_train, num_classes)\n",
    "y_test = keras.utils.to_categorical(y_test, num_classes)\n"
   ],
   "metadata": {
    "collapsed": false,
    "ExecuteTime": {
     "end_time": "2024-10-21T17:20:27.667190Z",
     "start_time": "2024-10-21T17:20:25.992308Z"
    }
   },
   "id": "d2061acb43d665c8"
  },
  {
   "cell_type": "code",
   "execution_count": 4,
   "outputs": [],
   "source": [
    "\n"
   ],
   "metadata": {
    "collapsed": false,
    "ExecuteTime": {
     "end_time": "2024-10-21T17:20:27.669318Z",
     "start_time": "2024-10-21T17:20:27.666254Z"
    }
   },
   "id": "3fc2c05d80c1f9ca"
  },
  {
   "cell_type": "code",
   "execution_count": 5,
   "outputs": [],
   "source": [
    "class DynamicSizeBatchGenerator(keras.utils.Sequence):\n",
    "  \"\"\" Generate batches that get smaller as training proceeds. \"\"\"\n",
    "\n",
    "  def __init__(self, X, y, *, start_size, end_size, num_epochs):\n",
    "    super().__init__()\n",
    "    self.X = X\n",
    "    self.y = y\n",
    "    self.start_size = start_size\n",
    "    self.end_size = end_size\n",
    "    self.num_epochs = num_epochs\n",
    "    self.current_epoch = 0\n",
    "    self.batch_size = start_size\n",
    "  \n",
    "  \n",
    "  \n",
    "  def __len__(self):\n",
    "    \"\"\" Return the number of batches that can be produced. \"\"\"\n",
    "    \n",
    "    # we can generate any number of batches, so provide a large number\n",
    "    return 1000000\n",
    "  \n",
    "  @staticmethod\n",
    "  def make_batch(X, y, batch_size):\n",
    "    \"\"\" Make a random batch. \"\"\"\n",
    "    \n",
    "    idx = np.random.choice(X.shape[0], batch_size)\n",
    "    return X[idx], y[idx]\n",
    "\n",
    "  def __getitem__(self, idx):\n",
    "    \"\"\" Return a batch. \"\"\"\n",
    "    \n",
    "    # Generate the batch\n",
    "    return self.make_batch(self.X, self.y, self.batch_size)\n",
    "\n",
    "\n",
    "  def on_epoch_end(self):\n",
    "    \"\"\" Choose a different random subset of the data. \"\"\"\n",
    "    \n",
    "    self.current_epoch += self.current_epoch\n",
    "    self.batch_size = self.start_size + \\\n",
    "                      int(self.end_size * (self.current_epoch / self.num_epochs))\n"
   ],
   "metadata": {
    "collapsed": false,
    "ExecuteTime": {
     "end_time": "2024-10-21T17:20:27.679570Z",
     "start_time": "2024-10-21T17:20:27.671084Z"
    }
   },
   "id": "83b851e35ee75ebe"
  },
  {
   "cell_type": "code",
   "execution_count": 6,
   "outputs": [],
   "source": [
    "num_epochs = 15\n",
    "train_generator = DynamicSizeBatchGenerator(\n",
    "  X_train, y_train,\n",
    "  start_size=128, end_size=4,\n",
    "  num_epochs=num_epochs)\n"
   ],
   "metadata": {
    "collapsed": false,
    "ExecuteTime": {
     "end_time": "2024-10-21T17:20:27.679723Z",
     "start_time": "2024-10-21T17:20:27.674279Z"
    }
   },
   "id": "fa7f0e4e77ae975e"
  },
  {
   "cell_type": "code",
   "execution_count": 11,
   "outputs": [
    {
     "name": "stdout",
     "output_type": "stream",
     "text": [
      "Epoch 1/15\n",
      "\u001B[1m500/500\u001B[0m \u001B[32m━━━━━━━━━━━━━━━━━━━━\u001B[0m\u001B[37m\u001B[0m \u001B[1m12s\u001B[0m 21ms/step - accuracy: 0.3660 - loss: 1.7535 - val_accuracy: 0.5468 - val_loss: 1.2796\n",
      "Epoch 2/15\n",
      "\u001B[1m500/500\u001B[0m \u001B[32m━━━━━━━━━━━━━━━━━━━━\u001B[0m\u001B[37m\u001B[0m \u001B[1m10s\u001B[0m 20ms/step - accuracy: 0.5754 - loss: 1.2075 - val_accuracy: 0.6127 - val_loss: 1.1168\n",
      "Epoch 3/15\n",
      "\u001B[1m500/500\u001B[0m \u001B[32m━━━━━━━━━━━━━━━━━━━━\u001B[0m\u001B[37m\u001B[0m \u001B[1m10s\u001B[0m 21ms/step - accuracy: 0.6286 - loss: 1.0621 - val_accuracy: 0.6352 - val_loss: 1.0457\n",
      "Epoch 4/15\n",
      "\u001B[1m500/500\u001B[0m \u001B[32m━━━━━━━━━━━━━━━━━━━━\u001B[0m\u001B[37m\u001B[0m \u001B[1m10s\u001B[0m 20ms/step - accuracy: 0.6667 - loss: 0.9610 - val_accuracy: 0.6642 - val_loss: 0.9784\n",
      "Epoch 5/15\n",
      "\u001B[1m500/500\u001B[0m \u001B[32m━━━━━━━━━━━━━━━━━━━━\u001B[0m\u001B[37m\u001B[0m \u001B[1m10s\u001B[0m 19ms/step - accuracy: 0.6955 - loss: 0.8786 - val_accuracy: 0.6748 - val_loss: 0.9488\n",
      "Epoch 6/15\n",
      "\u001B[1m500/500\u001B[0m \u001B[32m━━━━━━━━━━━━━━━━━━━━\u001B[0m\u001B[37m\u001B[0m \u001B[1m11s\u001B[0m 21ms/step - accuracy: 0.7127 - loss: 0.8224 - val_accuracy: 0.6827 - val_loss: 0.9492\n",
      "Epoch 7/15\n",
      "\u001B[1m500/500\u001B[0m \u001B[32m━━━━━━━━━━━━━━━━━━━━\u001B[0m\u001B[37m\u001B[0m \u001B[1m10s\u001B[0m 20ms/step - accuracy: 0.7382 - loss: 0.7634 - val_accuracy: 0.6804 - val_loss: 0.9350\n",
      "Epoch 8/15\n",
      "\u001B[1m500/500\u001B[0m \u001B[32m━━━━━━━━━━━━━━━━━━━━\u001B[0m\u001B[37m\u001B[0m \u001B[1m10s\u001B[0m 20ms/step - accuracy: 0.7605 - loss: 0.6934 - val_accuracy: 0.6837 - val_loss: 0.9362\n",
      "Epoch 9/15\n",
      "\u001B[1m500/500\u001B[0m \u001B[32m━━━━━━━━━━━━━━━━━━━━\u001B[0m\u001B[37m\u001B[0m \u001B[1m10s\u001B[0m 20ms/step - accuracy: 0.7698 - loss: 0.6681 - val_accuracy: 0.6839 - val_loss: 0.9333\n",
      "Epoch 10/15\n",
      "\u001B[1m500/500\u001B[0m \u001B[32m━━━━━━━━━━━━━━━━━━━━\u001B[0m\u001B[37m\u001B[0m \u001B[1m10s\u001B[0m 19ms/step - accuracy: 0.7922 - loss: 0.6011 - val_accuracy: 0.7016 - val_loss: 0.9194\n",
      "Epoch 11/15\n",
      "\u001B[1m500/500\u001B[0m \u001B[32m━━━━━━━━━━━━━━━━━━━━\u001B[0m\u001B[37m\u001B[0m \u001B[1m10s\u001B[0m 20ms/step - accuracy: 0.8072 - loss: 0.5579 - val_accuracy: 0.7025 - val_loss: 0.9164\n",
      "Epoch 12/15\n",
      "\u001B[1m500/500\u001B[0m \u001B[32m━━━━━━━━━━━━━━━━━━━━\u001B[0m\u001B[37m\u001B[0m \u001B[1m10s\u001B[0m 21ms/step - accuracy: 0.8239 - loss: 0.5193 - val_accuracy: 0.6944 - val_loss: 0.9798\n",
      "Epoch 13/15\n",
      "\u001B[1m500/500\u001B[0m \u001B[32m━━━━━━━━━━━━━━━━━━━━\u001B[0m\u001B[37m\u001B[0m \u001B[1m10s\u001B[0m 20ms/step - accuracy: 0.8401 - loss: 0.4698 - val_accuracy: 0.6999 - val_loss: 0.9658\n",
      "Epoch 14/15\n",
      "\u001B[1m500/500\u001B[0m \u001B[32m━━━━━━━━━━━━━━━━━━━━\u001B[0m\u001B[37m\u001B[0m \u001B[1m10s\u001B[0m 20ms/step - accuracy: 0.8544 - loss: 0.4293 - val_accuracy: 0.7017 - val_loss: 1.0097\n",
      "Epoch 15/15\n",
      "\u001B[1m500/500\u001B[0m \u001B[32m━━━━━━━━━━━━━━━━━━━━\u001B[0m\u001B[37m\u001B[0m \u001B[1m10s\u001B[0m 20ms/step - accuracy: 0.8690 - loss: 0.3911 - val_accuracy: 0.6965 - val_loss: 1.0597\n"
     ]
    }
   ],
   "source": [
    "# Build the model\n",
    "model = keras.Sequential([\n",
    "  keras.layers.Input(shape=(32, 32, 3)),\n",
    "  keras.layers.Conv2D(32, kernel_size=(3, 3), activation='relu'),\n",
    "  keras.layers.MaxPooling2D(pool_size=(2, 2)),\n",
    "  keras.layers.Conv2D(64, kernel_size=(3, 3), activation='relu'),\n",
    "  keras.layers.MaxPooling2D(pool_size=(2, 2)),\n",
    "  keras.layers.Flatten(),\n",
    "  keras.layers.Dense(128, activation='relu'),\n",
    "  keras.layers.Dense(num_classes, activation='softmax')\n",
    "])\n",
    "\n",
    "# Compile the model\n",
    "model.compile(optimizer='adam',\n",
    "  loss='categorical_crossentropy',\n",
    "  metrics=['accuracy'])\n",
    "\n",
    "checkpointing = keras.callbacks.ModelCheckpoint(\n",
    "  filepath=\"simple_cnn.keras\",\n",
    "  save_best_only=True,\n",
    "  monitor=\"val_loss\")\n",
    "\n",
    "\n",
    "history = model.fit(\n",
    "  train_generator, \n",
    "  epochs=num_epochs,\n",
    "  steps_per_epoch=500, \n",
    "  batch_size=32,\n",
    "  validation_data=(X_test, y_test),\n",
    "  callbacks=[checkpointing]\n",
    ")\n"
   ],
   "metadata": {
    "collapsed": false,
    "ExecuteTime": {
     "end_time": "2024-10-21T17:46:26.470615Z",
     "start_time": "2024-10-21T17:43:53.871148Z"
    }
   },
   "id": "b9ca3cdcd8e72577"
  },
  {
   "cell_type": "code",
   "execution_count": 8,
   "outputs": [
    {
     "data": {
      "text/plain": "{'accuracy': [0.46943750977516174,\n  0.6072812676429749,\n  0.6542656421661377,\n  0.6893749833106995,\n  0.713140606880188,\n  0.7420156002044678,\n  0.7612968683242798,\n  0.7829687595367432,\n  0.8005781173706055,\n  0.8176875114440918,\n  0.8350468873977661,\n  0.8525312542915344,\n  0.8645312786102295,\n  0.8787343502044678,\n  0.892328143119812],\n 'loss': [1.4870588779449463,\n  1.1257489919662476,\n  1.0000250339508057,\n  0.8990630507469177,\n  0.8344011902809143,\n  0.7520132660865784,\n  0.694590151309967,\n  0.6378592252731323,\n  0.5833396315574646,\n  0.5329967141151428,\n  0.4884811341762543,\n  0.43645063042640686,\n  0.3984494209289551,\n  0.3601619601249695,\n  0.3220538794994354],\n 'val_accuracy': [0.5468999743461609,\n  0.629800021648407,\n  0.6421999931335449,\n  0.6757000088691711,\n  0.6780999898910522,\n  0.6894999742507935,\n  0.6923999786376953,\n  0.6948000192642212,\n  0.6985999941825867,\n  0.7063000202178955,\n  0.7008000016212463,\n  0.7063000202178955,\n  0.7069000005722046,\n  0.6992999911308289,\n  0.7032999992370605],\n 'val_loss': [1.2689396142959595,\n  1.0768537521362305,\n  1.0441901683807373,\n  0.9550091028213501,\n  0.9410650134086609,\n  0.9202181696891785,\n  0.9127351641654968,\n  0.9346420168876648,\n  0.9317425489425659,\n  0.9366664290428162,\n  0.96675705909729,\n  0.9886866211891174,\n  1.0147453546524048,\n  1.0491394996643066,\n  1.1156195402145386]}"
     },
     "execution_count": 8,
     "metadata": {},
     "output_type": "execute_result"
    }
   ],
   "source": [
    "history.history"
   ],
   "metadata": {
    "collapsed": false,
    "ExecuteTime": {
     "end_time": "2024-10-21T17:22:46.117685Z",
     "start_time": "2024-10-21T17:22:46.104422Z"
    }
   },
   "id": "a66aa18d26ff91c5"
  },
  {
   "cell_type": "code",
   "execution_count": 8,
   "outputs": [],
   "source": [],
   "metadata": {
    "collapsed": false,
    "ExecuteTime": {
     "end_time": "2024-10-21T17:22:46.117753Z",
     "start_time": "2024-10-21T17:22:46.109943Z"
    }
   },
   "id": "6ca67b53ee776090"
  }
 ],
 "metadata": {
  "kernelspec": {
   "display_name": "Python 3",
   "language": "python",
   "name": "python3"
  },
  "language_info": {
   "codemirror_mode": {
    "name": "ipython",
    "version": 2
   },
   "file_extension": ".py",
   "mimetype": "text/x-python",
   "name": "python",
   "nbconvert_exporter": "python",
   "pygments_lexer": "ipython2",
   "version": "2.7.6"
  }
 },
 "nbformat": 4,
 "nbformat_minor": 5
}
