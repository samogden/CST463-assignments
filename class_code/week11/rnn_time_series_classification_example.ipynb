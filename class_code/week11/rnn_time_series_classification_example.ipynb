{
 "cells": [
  {
   "cell_type": "markdown",
   "id": "321b8092",
   "metadata": {},
   "source": [
    "# Studying RNNs with an artificial dataset\n",
    "\n",
    "Idea: RNNs, iike RNNs, are \"pattern detectors\".\n",
    "\n",
    "RNNs detect patterns by remembering what has been seen before.  They maintain state that partially records all previous inputs."
   ]
  },
  {
   "cell_type": "markdown",
   "id": "379079b7",
   "metadata": {},
   "source": [
    "to do:\n",
    "- write numpy code to replicate predictions from stacked and backward models\n",
    "- try an artificial data set in which there are two classes: one with a single random 'blip', and another with two random blips."
   ]
  },
  {
   "cell_type": "code",
   "execution_count": 16,
   "id": "ed818e67",
   "metadata": {},
   "outputs": [],
   "source": [
    "import sys\n",
    "\n",
    "import numpy as np\n",
    "import pandas as pd\n",
    "import matplotlib.pyplot as plt\n",
    "import seaborn as sns\n",
    "from sklearn.model_selection import train_test_split\n",
    "from IPython.display import display, HTML\n",
    "\n",
    "import tensorflow as tf\n",
    "from tensorflow.keras import models, layers, Input, Model\n",
    "from tensorflow.keras.datasets import mnist, cifar10\n",
    "from tensorflow.keras.callbacks import ReduceLROnPlateau, EarlyStopping, Callback\n",
    "from tensorflow.keras import backend as K"
   ]
  },
  {
   "cell_type": "code",
   "execution_count": 17,
   "id": "db3cf92b",
   "metadata": {},
   "outputs": [
    {
     "data": {
      "text/html": [
       "<style>.container { width:100% !important; }</style>"
      ],
      "text/plain": [
       "<IPython.core.display.HTML object>"
      ]
     },
     "metadata": {},
     "output_type": "display_data"
    }
   ],
   "source": [
    "# allow output to span multiple output lines in the console\n",
    "pd.set_option('display.max_columns', 600)\n",
    "pd.options.display.width = 120\n",
    "pd.options.display.max_colwidth = 50\n",
    "display(HTML(\"<style>.container { width:100% !important; }</style>\"))"
   ]
  },
  {
   "cell_type": "code",
   "execution_count": 18,
   "id": "6163e114",
   "metadata": {},
   "outputs": [],
   "source": [
    "sns.set_theme(context='notebook', style='whitegrid')\n",
    "plt.rcParams['figure.figsize'] = 4,3"
   ]
  },
  {
   "cell_type": "markdown",
   "id": "d1669759",
   "metadata": {},
   "source": [
    "This custom callback allows for training to stop when a high accuracy is achieved.\n",
    "\n",
    "Source: https://stackoverflow.com/questions/53500047/stop-training-in-keras-when-accuracy-is-already-1-0"
   ]
  },
  {
   "cell_type": "code",
   "execution_count": 19,
   "id": "cf7a4009",
   "metadata": {},
   "outputs": [],
   "source": [
    "class TerminateOnBaseline(Callback):\n",
    "    \"\"\"Callback that terminates training when either acc or val_acc reaches a specified baseline\n",
    "    \"\"\"\n",
    "    def __init__(self, monitor='accuracy', baseline=0.9):\n",
    "        super(TerminateOnBaseline, self).__init__()\n",
    "        self.monitor = monitor\n",
    "        self.baseline = baseline\n",
    "\n",
    "    def on_epoch_end(self, epoch, logs=None):\n",
    "        logs = logs or {}\n",
    "        acc = logs.get(self.monitor)\n",
    "        if acc is not None:\n",
    "            if acc >= self.baseline:\n",
    "                print('Epoch %d: Reached baseline, terminating training' % (epoch))\n",
    "                self.model.stop_training = True"
   ]
  },
  {
   "cell_type": "code",
   "execution_count": 20,
   "id": "614e3c31",
   "metadata": {},
   "outputs": [],
   "source": [
    "# Code based on a ChatGPT answer\n",
    "\n",
    "def dataframe_to_series(df):\n",
    "    \"\"\" Convert a specially-formatted dataframe to a rank-3 NumPy array\n",
    "    of shape (num_series, num_steps, num_channels).\n",
    "    \"\"\"\n",
    "\n",
    "    df_sorted = df.sort_values(by=['Time_Series_ID', 'Time_Step'])\n",
    "\n",
    "    # Extract the number of time series and number of time steps\n",
    "    num_series = df['Time_Series_ID'].nunique()\n",
    "    num_steps  = df['Time_Step'].nunique()\n",
    "\n",
    "    # Extract the values corresponding to the channels\n",
    "    # Assuming the channel columns are named as 'Channel_0', 'Channel_1', etc.\n",
    "    channel_columns = [col for col in df if col.startswith('Channel_')]\n",
    "    channel_values = df_sorted[channel_columns].values\n",
    "\n",
    "    # Reshape back to 3D array\n",
    "    num_channels = len(channel_columns)\n",
    "\n",
    "    original_shape = (num_series, num_steps, num_channels)\n",
    "    X = channel_values.reshape(original_shape)\n",
    "\n",
    "    return X"
   ]
  },
  {
   "cell_type": "markdown",
   "id": "938c87c9",
   "metadata": {},
   "source": [
    "### Fake EEG data set"
   ]
  },
  {
   "cell_type": "code",
   "execution_count": 21,
   "id": "d20f2cdf",
   "metadata": {},
   "outputs": [],
   "source": []
  },
  {
   "cell_type": "code",
   "execution_count": 22,
   "id": "9890fa3a",
   "metadata": {},
   "outputs": [],
   "source": [
    "def make_eeg_data():\n",
    "    data_dir = \"../../datasets/fake_brain_data/\"\n",
    "    df0 = pd.read_csv(data_dir+'eeg_class0.csv')\n",
    "    df1 = pd.read_csv(data_dir+'eeg_class1.csv')\n",
    "    \n",
    "    X0 = dataframe_to_series(df0)[:500]\n",
    "    X1 = dataframe_to_series(df1)[:500]\n",
    "    y0 = np.zeros(X0.shape[0])\n",
    "    y1 = np.ones(X1.shape[0])\n",
    "    \n",
    "    X = np.concatenate([X0, X1])\n",
    "    y = np.concatenate([y0, y1])    \n",
    "    \n",
    "    return X,y"
   ]
  },
  {
   "cell_type": "markdown",
   "id": "49062cff",
   "metadata": {},
   "source": [
    "### Create artificial data set\n",
    "\n",
    "Three classes: sawtooth, sine wave, and impulse."
   ]
  },
  {
   "cell_type": "code",
   "execution_count": 23,
   "id": "0925a12d",
   "metadata": {},
   "outputs": [],
   "source": [
    "def create_sawtooth(num_time_steps=10):\n",
    "    \n",
    "    xs = []\n",
    "    x = 0.0\n",
    "    for i in range(num_time_steps):\n",
    "        xs.append(x)\n",
    "        if i < num_time_steps/2:\n",
    "            x += 0.2\n",
    "        else:\n",
    "            x -= 0.2 \n",
    "            \n",
    "    return np.array(xs)\n",
    "\n",
    "def create_sine(num_time_steps=10):\n",
    "    \n",
    "    return np.sin(np.linspace(0, np.pi*2, num_time_steps))*0.5 + 0.5    \n",
    "\n",
    "def create_impulse(num_time_steps=10):\n",
    "\n",
    "    xs = np.zeros(num_time_steps)\n",
    "    loc = num_time_steps // 2\n",
    "    xs[loc-1] = 0.8\n",
    "    xs[loc]   = 0.8\n",
    "    return xs\n",
    "\n",
    "def make_ts_data(patterns, num_time_steps=10, instances_per_class=150, noise_scale=0.05):\n",
    "    \"\"\" Generate univariate time-series data.\n",
    "    \n",
    "    Arguments:\n",
    "    - patterns: list containing at least two of 'sawtooth', 'sine', and 'impulse'\n",
    "    - num_time_steps: length of the generated times series\n",
    "    - instances_per_class: number of series generated per class\n",
    "    Returns:\n",
    "    - X: a NumPy array of shape (instances_per_class * len(patterns), num_time_steps)\n",
    "    - y: a NumPy array of shape (instance_per_class * len(patterns),) containing the class labels 0, 1, ...\n",
    "    \"\"\"\n",
    "    \n",
    "    num_classes = len(patterns)\n",
    "    \n",
    "    # create pattern data\n",
    "    pattern = np.zeros((num_classes, num_time_steps))\n",
    "    for i, p in enumerate(patterns):\n",
    "        if p == 'sawtooth':\n",
    "            pattern[i] = create_sawtooth(num_time_steps)            \n",
    "        elif p == 'sine':\n",
    "            pattern[i] = create_sine(num_time_steps)\n",
    "        elif p == 'impulse':\n",
    "            pattern[i] = create_impulse(num_time_steps)\n",
    "        else:\n",
    "            sys.exit(f\"pattern {p} is unsupported\")\n",
    "            \n",
    "    # create data by adding noise to patterns\n",
    "    m = num_classes * instances_per_class\n",
    "    X = np.zeros((m, num_time_steps))\n",
    "    y = np.zeros(m)\n",
    "    for i in range(num_classes):\n",
    "        for j in range(instances_per_class):\n",
    "            X[i*instances_per_class+j] = pattern[i] + np.random.normal(scale=noise_scale, size=num_time_steps)\n",
    "            y[i*instances_per_class+j] = i\n",
    "            \n",
    "    return np.expand_dims(X, axis=2), y"
   ]
  },
  {
   "cell_type": "code",
   "execution_count": 24,
   "id": "63476d47",
   "metadata": {},
   "outputs": [
    {
     "name": "stdout",
     "output_type": "stream",
     "text": [
      "(450, 10, 1)\n",
      "(450,)\n"
     ]
    }
   ],
   "source": [
    "X, y = make_ts_data(['sawtooth', 'sine', 'impulse'])\n",
    "print(X.shape)\n",
    "print(y.shape)"
   ]
  },
  {
   "cell_type": "code",
   "execution_count": 25,
   "id": "c311d54b",
   "metadata": {},
   "outputs": [
    {
     "data": {
      "image/png": "[encoded data removed]",
      "text/plain": [
       "<Figure size 1200x300 with 4 Axes>"
      ]
     },
     "metadata": {},
     "output_type": "display_data"
    },
    {
     "data": {
      "image/png": "[encoded data removed]",
      "text/plain": [
       "<Figure size 1200x300 with 4 Axes>"
      ]
     },
     "metadata": {},
     "output_type": "display_data"
    },
    {
     "data": {
      "image/png": "[encoded data removed]",
      "text/plain": [
       "<Figure size 1200x300 with 4 Axes>"
      ]
     },
     "metadata": {},
     "output_type": "display_data"
    }
   ],
   "source": [
    "# test make_ts_data()\n",
    "\n",
    "X, y = make_ts_data(['sawtooth', 'sine', 'impulse'])\n",
    "\n",
    "num_classes = np.unique(y).size\n",
    "num_examples = 4\n",
    "for j in range(num_classes):\n",
    "    fig,axs = plt.subplots(1, num_examples, figsize=(num_examples*3,3))\n",
    "    Xj = X[y == j]\n",
    "    idx = np.random.choice(Xj.shape[0], num_examples)\n",
    "    for ax, i in zip(axs, idx):\n",
    "        ax.plot(Xj[i])\n",
    "    plt.show()"
   ]
  },
  {
   "cell_type": "markdown",
   "id": "f130f2fa",
   "metadata": {},
   "source": [
    "### A binary classifier with one neuron\n",
    "\n",
    "A single input at each step and a single output."
   ]
  },
  {
   "cell_type": "code",
   "execution_count": 26,
   "id": "23863c28",
   "metadata": {},
   "outputs": [],
   "source": [
    "X, y = make_ts_data(['sawtooth', 'sine'])\n",
    "X_train, X_test, y_train, y_test = train_test_split(X, y, test_size=0.3, random_state=0)"
   ]
  },
  {
   "cell_type": "code",
   "execution_count": 27,
   "id": "b5847d41",
   "metadata": {},
   "outputs": [],
   "source": [
    "K.clear_session()\n",
    "\n",
    "inputs = Input(shape=(X_train.shape[1:]))\n",
    "x = layers.SimpleRNN(1)(inputs)\n",
    "x = layers.Dense(1, activation='sigmoid')(x)\n",
    "model = Model(inputs, x)"
   ]
  },
  {
   "cell_type": "code",
   "execution_count": 28,
   "id": "4b03e964",
   "metadata": {
    "scrolled": true
   },
   "outputs": [
    {
     "name": "stdout",
     "output_type": "stream",
     "text": [
      "Model: \"model\"\n",
      "_________________________________________________________________\n",
      " Layer (type)                Output Shape              Param #   \n",
      "=================================================================\n",
      " input_1 (InputLayer)        [(None, 10, 1)]           0         \n",
      "                                                                 \n",
      " simple_rnn (SimpleRNN)      (None, 1)                 3         \n",
      "                                                                 \n",
      " dense (Dense)               (None, 1)                 2         \n",
      "                                                                 \n",
      "=================================================================\n",
      "Total params: 5\n",
      "Trainable params: 5\n",
      "Non-trainable params: 0\n",
      "_________________________________________________________________\n"
     ]
    }
   ],
   "source": [
    "model.summary()"
   ]
  },
  {
   "cell_type": "code",
   "execution_count": 260,
   "id": "d8769b3c",
   "metadata": {},
   "outputs": [],
   "source": [
    "model.compile(loss='binary_crossentropy', metrics=['accuracy'])"
   ]
  },
  {
   "cell_type": "code",
   "execution_count": 261,
   "id": "b23d6fc8",
   "metadata": {},
   "outputs": [
    {
     "name": "stdout",
     "output_type": "stream",
     "text": [
      "Epoch 1/500\n",
      "10/10 [==============================] - 1s 18ms/step - loss: 0.6931 - accuracy: 0.4898 - val_loss: 0.6927 - val_accuracy: 0.5397\n",
      "Epoch 2/500\n",
      "10/10 [==============================] - 0s 9ms/step - loss: 0.6926 - accuracy: 0.5442 - val_loss: 0.6924 - val_accuracy: 0.5397\n",
      "Epoch 3/500\n",
      "10/10 [==============================] - 0s 10ms/step - loss: 0.6924 - accuracy: 0.5850 - val_loss: 0.6921 - val_accuracy: 0.5714\n",
      "Epoch 4/500\n",
      "10/10 [==============================] - 0s 9ms/step - loss: 0.6921 - accuracy: 0.6054 - val_loss: 0.6918 - val_accuracy: 0.5079\n",
      "Epoch 5/500\n",
      "10/10 [==============================] - 0s 8ms/step - loss: 0.6917 - accuracy: 0.6327 - val_loss: 0.6915 - val_accuracy: 0.6032\n",
      "Epoch 6/500\n",
      "10/10 [==============================] - 0s 8ms/step - loss: 0.6912 - accuracy: 0.6327 - val_loss: 0.6910 - val_accuracy: 0.6508\n",
      "Epoch 7/500\n",
      "10/10 [==============================] - 0s 7ms/step - loss: 0.6908 - accuracy: 0.6871 - val_loss: 0.6905 - val_accuracy: 0.7143\n",
      "Epoch 8/500\n",
      "10/10 [==============================] - 0s 7ms/step - loss: 0.6903 - accuracy: 0.6803 - val_loss: 0.6900 - val_accuracy: 0.6825\n",
      "Epoch 9/500\n",
      "10/10 [==============================] - 0s 8ms/step - loss: 0.6898 - accuracy: 0.7483 - val_loss: 0.6893 - val_accuracy: 0.7302\n",
      "Epoch 10/500\n",
      "10/10 [==============================] - 0s 7ms/step - loss: 0.6892 - accuracy: 0.7415 - val_loss: 0.6887 - val_accuracy: 0.8095\n",
      "Epoch 11/500\n",
      "10/10 [==============================] - 0s 8ms/step - loss: 0.6887 - accuracy: 0.7483 - val_loss: 0.6881 - val_accuracy: 0.8095\n",
      "Epoch 12/500\n",
      "10/10 [==============================] - 0s 7ms/step - loss: 0.6880 - accuracy: 0.7755 - val_loss: 0.6874 - val_accuracy: 0.8571\n",
      "Epoch 13/500\n",
      "10/10 [==============================] - 0s 7ms/step - loss: 0.6873 - accuracy: 0.7959 - val_loss: 0.6866 - val_accuracy: 0.8413\n",
      "Epoch 14/500\n",
      "10/10 [==============================] - 0s 7ms/step - loss: 0.6867 - accuracy: 0.8095 - val_loss: 0.6859 - val_accuracy: 0.8413\n",
      "Epoch 15/500\n",
      "10/10 [==============================] - 0s 7ms/step - loss: 0.6859 - accuracy: 0.8231 - val_loss: 0.6852 - val_accuracy: 0.8413\n",
      "Epoch 16/500\n",
      "10/10 [==============================] - 0s 7ms/step - loss: 0.6852 - accuracy: 0.8299 - val_loss: 0.6845 - val_accuracy: 0.8889\n",
      "Epoch 17/500\n",
      "10/10 [==============================] - 0s 7ms/step - loss: 0.6844 - accuracy: 0.8299 - val_loss: 0.6838 - val_accuracy: 0.9206\n",
      "Epoch 18/500\n",
      "10/10 [==============================] - 0s 7ms/step - loss: 0.6836 - accuracy: 0.8571 - val_loss: 0.6829 - val_accuracy: 0.9524\n",
      "Epoch 19/500\n",
      "10/10 [==============================] - 0s 7ms/step - loss: 0.6827 - accuracy: 0.8707 - val_loss: 0.6821 - val_accuracy: 0.9683\n",
      "Epoch 20/500\n",
      "10/10 [==============================] - 0s 7ms/step - loss: 0.6818 - accuracy: 0.8980 - val_loss: 0.6811 - val_accuracy: 0.9683\n",
      "Epoch 21/500\n",
      "10/10 [==============================] - 0s 6ms/step - loss: 0.6809 - accuracy: 0.9116 - val_loss: 0.6802 - val_accuracy: 0.9683\n",
      "Epoch 22/500\n",
      "10/10 [==============================] - 0s 7ms/step - loss: 0.6800 - accuracy: 0.8980 - val_loss: 0.6793 - val_accuracy: 0.9683\n",
      "Epoch 23/500\n",
      "10/10 [==============================] - 0s 6ms/step - loss: 0.6791 - accuracy: 0.9184 - val_loss: 0.6784 - val_accuracy: 0.9683\n",
      "Epoch 24/500\n",
      "10/10 [==============================] - 0s 7ms/step - loss: 0.6781 - accuracy: 0.9388 - val_loss: 0.6774 - val_accuracy: 0.9683\n",
      "Epoch 25/500\n",
      "10/10 [==============================] - 0s 8ms/step - loss: 0.6771 - accuracy: 0.9388 - val_loss: 0.6765 - val_accuracy: 0.9683\n",
      "Epoch 26/500\n",
      "10/10 [==============================] - 0s 8ms/step - loss: 0.6762 - accuracy: 0.9388 - val_loss: 0.6754 - val_accuracy: 0.9683\n",
      "Epoch 27/500\n",
      "10/10 [==============================] - 0s 6ms/step - loss: 0.6752 - accuracy: 0.9728 - val_loss: 0.6744 - val_accuracy: 0.9683\n",
      "Epoch 28/500\n",
      "10/10 [==============================] - 0s 7ms/step - loss: 0.6742 - accuracy: 0.9592 - val_loss: 0.6734 - val_accuracy: 0.9683\n",
      "Epoch 29/500\n",
      "10/10 [==============================] - 0s 7ms/step - loss: 0.6733 - accuracy: 0.9592 - val_loss: 0.6726 - val_accuracy: 0.9683\n",
      "Epoch 30/500\n",
      "10/10 [==============================] - 0s 7ms/step - loss: 0.6722 - accuracy: 0.9796 - val_loss: 0.6716 - val_accuracy: 0.9683\n",
      "Epoch 31/500\n",
      "10/10 [==============================] - 0s 7ms/step - loss: 0.6713 - accuracy: 0.9796 - val_loss: 0.6704 - val_accuracy: 0.9683\n",
      "Epoch 32/500\n",
      "10/10 [==============================] - 0s 7ms/step - loss: 0.6702 - accuracy: 0.9728 - val_loss: 0.6693 - val_accuracy: 0.9841\n",
      "Epoch 33/500\n",
      "10/10 [==============================] - 0s 10ms/step - loss: 0.6692 - accuracy: 0.9728 - val_loss: 0.6685 - val_accuracy: 0.9683\n",
      "Epoch 34/500\n",
      "10/10 [==============================] - 0s 8ms/step - loss: 0.6682 - accuracy: 0.9796 - val_loss: 0.6673 - val_accuracy: 0.9841\n",
      "Epoch 35/500\n",
      "10/10 [==============================] - 0s 7ms/step - loss: 0.6672 - accuracy: 0.9796 - val_loss: 0.6663 - val_accuracy: 0.9841\n",
      "Epoch 36/500\n",
      "10/10 [==============================] - 0s 7ms/step - loss: 0.6662 - accuracy: 0.9728 - val_loss: 0.6653 - val_accuracy: 0.9841\n",
      "Epoch 37/500\n",
      "10/10 [==============================] - 0s 8ms/step - loss: 0.6651 - accuracy: 0.9728 - val_loss: 0.6642 - val_accuracy: 0.9841\n",
      "Epoch 38/500\n",
      "10/10 [==============================] - 0s 7ms/step - loss: 0.6640 - accuracy: 0.9796 - val_loss: 0.6629 - val_accuracy: 1.0000\n",
      "Epoch 37: Reached baseline, terminating training\n"
     ]
    },
    {
     "data": {
      "text/plain": [
       "<tensorflow.python.keras.callbacks.History at 0x21032f57f10>"
      ]
     },
     "execution_count": 261,
     "metadata": {},
     "output_type": "execute_result"
    }
   ],
   "source": [
    "early_stopping = TerminateOnBaseline(monitor='val_accuracy', baseline=0.999)\n",
    "model.fit(X_train, y_train, epochs=500, batch_size=16, validation_split=0.3, callbacks=[early_stopping])"
   ]
  },
  {
   "cell_type": "code",
   "execution_count": 262,
   "id": "f7c53360",
   "metadata": {},
   "outputs": [
    {
     "name": "stdout",
     "output_type": "stream",
     "text": [
      "3/3 [==============================] - 0s 2ms/step - loss: 0.6627 - accuracy: 0.9889\n"
     ]
    },
    {
     "data": {
      "text/plain": [
       "[0.6627432107925415, 0.9888888597488403]"
      ]
     },
     "execution_count": 262,
     "metadata": {},
     "output_type": "execute_result"
    }
   ],
   "source": [
    "model.evaluate(X_test, y_test)"
   ]
  },
  {
   "cell_type": "code",
   "execution_count": 263,
   "id": "16d41eff",
   "metadata": {},
   "outputs": [
    {
     "data": {
      "text/plain": [
       "(10, 1)"
      ]
     },
     "execution_count": 263,
     "metadata": {},
     "output_type": "execute_result"
    }
   ],
   "source": [
    "X_train[0].shape"
   ]
  },
  {
   "cell_type": "code",
   "execution_count": 264,
   "id": "eb286111",
   "metadata": {},
   "outputs": [
    {
     "data": {
      "image/png": "[encoded data removed]",
      "text/plain": [
       "<Figure size 400x300 with 1 Axes>"
      ]
     },
     "metadata": {},
     "output_type": "display_data"
    }
   ],
   "source": [
    "plt.plot(X_train[0]);"
   ]
  },
  {
   "cell_type": "code",
   "execution_count": 265,
   "id": "b4c68b9e",
   "metadata": {},
   "outputs": [
    {
     "name": "stdout",
     "output_type": "stream",
     "text": [
      "WARNING:tensorflow:6 out of the last 8 calls to <function Model.make_predict_function.<locals>.predict_function at 0x0000021037A79CA0> triggered tf.function retracing. Tracing is expensive and the excessive number of tracings could be due to (1) creating @tf.function repeatedly in a loop, (2) passing tensors with different shapes, (3) passing Python objects instead of tensors. For (1), please define your @tf.function outside of the loop. For (2), @tf.function has experimental_relax_shapes=True option that relaxes argument shapes that can avoid unnecessary retracing. For (3), please refer to https://www.tensorflow.org/guide/function#controlling_retracing and https://www.tensorflow.org/api_docs/python/tf/function for  more details.\n"
     ]
    },
    {
     "data": {
      "text/plain": [
       "array([[0.52098]], dtype=float32)"
      ]
     },
     "execution_count": 265,
     "metadata": {},
     "output_type": "execute_result"
    }
   ],
   "source": [
    "model.predict(X_train[[0]]).round(5)"
   ]
  },
  {
   "cell_type": "code",
   "execution_count": 266,
   "id": "7bcddbda",
   "metadata": {},
   "outputs": [
    {
     "data": {
      "text/plain": [
       "0"
      ]
     },
     "execution_count": 266,
     "metadata": {},
     "output_type": "execute_result"
    }
   ],
   "source": [
    "np.argmax(model.predict(X_train[:1]))"
   ]
  },
  {
   "cell_type": "markdown",
   "id": "b5d09801",
   "metadata": {},
   "source": [
    "#### Get the model weights"
   ]
  },
  {
   "cell_type": "code",
   "execution_count": 89,
   "id": "2f5dbe5c",
   "metadata": {},
   "outputs": [
    {
     "data": {
      "text/plain": [
       "[<tensorflow.python.keras.engine.input_layer.InputLayer at 0x1f5c0708280>,\n",
       " <tensorflow.python.keras.layers.recurrent.SimpleRNN at 0x1f5bfd00a00>,\n",
       " <tensorflow.python.keras.layers.core.Dense at 0x1f5c0708b80>]"
      ]
     },
     "execution_count": 89,
     "metadata": {},
     "output_type": "execute_result"
    }
   ],
   "source": [
    "model.layers"
   ]
  },
  {
   "cell_type": "code",
   "execution_count": 90,
   "id": "58b40c9d",
   "metadata": {},
   "outputs": [],
   "source": [
    "rnn_weights   = model.get_layer('simple_rnn').get_weights()\n",
    "dense_weights = model.get_layer('dense').get_weights()"
   ]
  },
  {
   "cell_type": "code",
   "execution_count": 91,
   "id": "be2362e4",
   "metadata": {},
   "outputs": [
    {
     "name": "stdout",
     "output_type": "stream",
     "text": [
      "[array([[0.78508353]], dtype=float32), array([[0.85662705]], dtype=float32), array([-0.2725596], dtype=float32)]\n",
      "[array([[-1.6259283]], dtype=float32), array([0.17650339], dtype=float32)]\n"
     ]
    }
   ],
   "source": [
    "print(rnn_weights)\n",
    "print(dense_weights)"
   ]
  },
  {
   "cell_type": "code",
   "execution_count": 92,
   "id": "f53472d1",
   "metadata": {},
   "outputs": [
    {
     "data": {
      "text/plain": [
       "(1, 1)"
      ]
     },
     "execution_count": 92,
     "metadata": {},
     "output_type": "execute_result"
    }
   ],
   "source": [
    "rnn_weights[0].shape"
   ]
  },
  {
   "cell_type": "code",
   "execution_count": 93,
   "id": "6c27decf",
   "metadata": {},
   "outputs": [
    {
     "data": {
      "text/plain": [
       "(1, 1)"
      ]
     },
     "execution_count": 93,
     "metadata": {},
     "output_type": "execute_result"
    }
   ],
   "source": [
    "dense_weights[0].shape"
   ]
  },
  {
   "cell_type": "code",
   "execution_count": 94,
   "id": "36911330",
   "metadata": {},
   "outputs": [
    {
     "data": {
      "text/plain": [
       "[array([[0.78508353]], dtype=float32),\n",
       " array([[0.85662705]], dtype=float32),\n",
       " array([-0.2725596], dtype=float32)]"
      ]
     },
     "execution_count": 94,
     "metadata": {},
     "output_type": "execute_result"
    }
   ],
   "source": [
    "model.get_layer('simple_rnn').get_weights()"
   ]
  },
  {
   "cell_type": "code",
   "execution_count": 95,
   "id": "0114edb4",
   "metadata": {},
   "outputs": [],
   "source": [
    "w = rnn_weights[0][0,0]\n",
    "u = rnn_weights[1][0,0]\n",
    "rnn_bias = rnn_weights[2][0]\n",
    "v = dense_weights[0][0,0]\n",
    "dense_bias = dense_weights[1][0]"
   ]
  },
  {
   "cell_type": "code",
   "execution_count": 96,
   "id": "200bef1e",
   "metadata": {},
   "outputs": [
    {
     "name": "stdout",
     "output_type": "stream",
     "text": [
      "h[t+1] = tanh(0.785*x[t] + 0.857*h[t] + -0.273)\n"
     ]
    }
   ],
   "source": [
    "print(f'h[t+1] = tanh({w:.3g}*x[t] + {u:.3g}*h[t] + {rnn_bias:.3g})')"
   ]
  },
  {
   "cell_type": "markdown",
   "id": "aae57a52",
   "metadata": {},
   "source": [
    "### Implement the forward pass by hand and see if getting the same predictions"
   ]
  },
  {
   "cell_type": "markdown",
   "id": "bdff6717",
   "metadata": {},
   "source": [
    "My original version, no dot product."
   ]
  },
  {
   "cell_type": "code",
   "execution_count": 160,
   "id": "ee9721ee",
   "metadata": {},
   "outputs": [],
   "source": [
    "def sigmoid(x):\n",
    "    return 1 / (1 + np.exp(-x))"
   ]
  },
  {
   "cell_type": "code",
   "execution_count": 98,
   "id": "fe9d799d",
   "metadata": {},
   "outputs": [],
   "source": [
    "def binary_rnn_predict(rnn_weights, dense_weights, x):\n",
    "    \n",
    "    w = rnn_weights[0][0,0]\n",
    "    u = rnn_weights[1][0,0]\n",
    "    rnn_bias = rnn_weights[2][0]\n",
    "    v = dense_weights[0][0,0]\n",
    "    dense_bias = dense_weights[1][0]\n",
    "    \n",
    "    # rnn \n",
    "    hidden_state = 0.0\n",
    "    for t in range(x.shape[0]):\n",
    "        hidden_state = np.tanh(w * x[t] + u * hidden_state + rnn_bias)\n",
    "       \n",
    "    # output layer\n",
    "    return sigmoid(v * hidden_state + dense_bias)"
   ]
  },
  {
   "cell_type": "code",
   "execution_count": 99,
   "id": "b7428f75",
   "metadata": {},
   "outputs": [
    {
     "data": {
      "text/plain": [
       "array([0.6158])"
      ]
     },
     "execution_count": 99,
     "metadata": {},
     "output_type": "execute_result"
    }
   ],
   "source": [
    "# first training example\n",
    "binary_rnn_predict(rnn_weights, dense_weights, X_train[0]).round(4)"
   ]
  },
  {
   "cell_type": "code",
   "execution_count": 100,
   "id": "1b73b76f",
   "metadata": {},
   "outputs": [
    {
     "data": {
      "text/plain": [
       "array([[0.6158]], dtype=float32)"
      ]
     },
     "execution_count": 100,
     "metadata": {},
     "output_type": "execute_result"
    }
   ],
   "source": [
    "# first training example\n",
    "model.predict(X_train[[0]]).round(4)"
   ]
  },
  {
   "cell_type": "code",
   "execution_count": 101,
   "id": "7883dc35",
   "metadata": {},
   "outputs": [],
   "source": [
    "# an alternative version in which hidden states are recorded\n",
    "def binary_rnn_predict(rnn_weights, dense_weights, x):\n",
    "    \n",
    "    w = rnn_weights[0][0,0]\n",
    "    u = rnn_weights[1][0,0]\n",
    "    rnn_bias = rnn_weights[2][0]\n",
    "    v = dense_weights[0][0,0]\n",
    "    dense_bias = dense_weights[1][0]\n",
    "    \n",
    "    # rnn \n",
    "    hidden_states = np.zeros(x.shape[0] + 1)\n",
    "    for t in range(x.shape[0]):\n",
    "        hidden_states[t+1] = np.tanh(w * x[t] + u * hidden_states[t] + rnn_bias)\n",
    "       \n",
    "    # output layer\n",
    "    return sigmoid(v * hidden_states[t+1] + dense_bias), hidden_states"
   ]
  },
  {
   "cell_type": "code",
   "execution_count": 102,
   "id": "9ead27dc",
   "metadata": {},
   "outputs": [
    {
     "data": {
      "text/plain": [
       "0.6158"
      ]
     },
     "execution_count": 102,
     "metadata": {},
     "output_type": "execute_result"
    }
   ],
   "source": [
    "binary_rnn_predict(rnn_weights, dense_weights, X_train[0])[0].round(4)"
   ]
  },
  {
   "cell_type": "code",
   "execution_count": 103,
   "id": "a7243891",
   "metadata": {},
   "outputs": [],
   "source": [
    "y, hidden_states = binary_rnn_predict(rnn_weights, dense_weights, X_train[0])"
   ]
  },
  {
   "cell_type": "code",
   "execution_count": 104,
   "id": "950639e6",
   "metadata": {},
   "outputs": [
    {
     "data": {
      "image/png": "[encoded data removed]",
      "text/plain": [
       "<Figure size 400x300 with 1 Axes>"
      ]
     },
     "metadata": {},
     "output_type": "display_data"
    }
   ],
   "source": [
    "plt.plot(X_train[0], label='x')\n",
    "plt.plot(hidden_states[1:], label='h')\n",
    "plt.legend()\n",
    "plt.show()"
   ]
  },
  {
   "cell_type": "code",
   "execution_count": 105,
   "id": "b4cea077",
   "metadata": {},
   "outputs": [
    {
     "data": {
      "text/plain": [
       "0.412"
      ]
     },
     "execution_count": 105,
     "metadata": {},
     "output_type": "execute_result"
    }
   ],
   "source": [
    "# second training example\n",
    "binary_rnn_predict(rnn_weights, dense_weights, X_train[1])[0].round(4)"
   ]
  },
  {
   "cell_type": "code",
   "execution_count": 106,
   "id": "00c195c9",
   "metadata": {},
   "outputs": [
    {
     "data": {
      "text/plain": [
       "array([[0.412]], dtype=float32)"
      ]
     },
     "execution_count": 106,
     "metadata": {},
     "output_type": "execute_result"
    }
   ],
   "source": [
    "# second training example\n",
    "model.predict(X_train[[1]]).round(5).round(4)"
   ]
  },
  {
   "cell_type": "code",
   "execution_count": 107,
   "id": "8c224dcb",
   "metadata": {},
   "outputs": [],
   "source": [
    "y, hidden_states = binary_rnn_predict(rnn_weights, dense_weights, X_train[1])"
   ]
  },
  {
   "cell_type": "code",
   "execution_count": 108,
   "id": "b1996831",
   "metadata": {},
   "outputs": [
    {
     "data": {
      "image/png": "[encoded data removed]",
      "text/plain": [
       "<Figure size 400x300 with 1 Axes>"
      ]
     },
     "metadata": {},
     "output_type": "display_data"
    }
   ],
   "source": [
    "plt.plot(X_train[1], label='x')\n",
    "plt.plot(hidden_states[1:], label='h')\n",
    "plt.legend()\n",
    "plt.show()"
   ]
  },
  {
   "cell_type": "markdown",
   "id": "3a090904",
   "metadata": {},
   "source": [
    "### A multi-class classifier with one recurrent neuron\n",
    "\n",
    "Again, a single input and a single output."
   ]
  },
  {
   "cell_type": "code",
   "execution_count": 111,
   "id": "ad248e71",
   "metadata": {},
   "outputs": [],
   "source": [
    "X, y = make_ts_data(['sawtooth', 'sine', 'impulse'])\n",
    "X_train, X_test, y_train, y_test = train_test_split(X, y, test_size=0.3, random_state=0)\n",
    "num_classes = 3"
   ]
  },
  {
   "cell_type": "code",
   "execution_count": 113,
   "id": "8439703d",
   "metadata": {},
   "outputs": [],
   "source": [
    "K.clear_session()\n",
    "\n",
    "inputs = Input(shape=X_train.shape[1:])\n",
    "x = layers.SimpleRNN(1)(inputs)\n",
    "x = layers.Dense(num_classes, activation='softmax')(x)\n",
    "model = Model(inputs, x)"
   ]
  },
  {
   "cell_type": "code",
   "execution_count": 114,
   "id": "35d5d0e9",
   "metadata": {},
   "outputs": [
    {
     "name": "stdout",
     "output_type": "stream",
     "text": [
      "Model: \"model\"\n",
      "_________________________________________________________________\n",
      "Layer (type)                 Output Shape              Param #   \n",
      "=================================================================\n",
      "input_1 (InputLayer)         [(None, 10, 1)]           0         \n",
      "_________________________________________________________________\n",
      "simple_rnn (SimpleRNN)       (None, 1)                 3         \n",
      "_________________________________________________________________\n",
      "dense (Dense)                (None, 3)                 6         \n",
      "=================================================================\n",
      "Total params: 9\n",
      "Trainable params: 9\n",
      "Non-trainable params: 0\n",
      "_________________________________________________________________\n"
     ]
    }
   ],
   "source": [
    "model.summary()"
   ]
  },
  {
   "cell_type": "code",
   "execution_count": 115,
   "id": "7b15407f",
   "metadata": {},
   "outputs": [],
   "source": [
    "model.compile(loss='sparse_categorical_crossentropy', metrics=['accuracy'])"
   ]
  },
  {
   "cell_type": "code",
   "execution_count": 116,
   "id": "5dbb9a5b",
   "metadata": {},
   "outputs": [
    {
     "name": "stdout",
     "output_type": "stream",
     "text": [
      "Epoch 1/1000\n",
      "7/7 [==============================] - 1s 24ms/step - loss: 1.0787 - accuracy: 0.3909 - val_loss: 1.0706 - val_accuracy: 0.4000\n",
      "Epoch 2/1000\n",
      "7/7 [==============================] - 0s 7ms/step - loss: 1.0766 - accuracy: 0.3864 - val_loss: 1.0689 - val_accuracy: 0.4000\n",
      "Epoch 3/1000\n",
      "7/7 [==============================] - 0s 6ms/step - loss: 1.0752 - accuracy: 0.3818 - val_loss: 1.0675 - val_accuracy: 0.4000\n",
      "Epoch 4/1000\n",
      "7/7 [==============================] - 0s 6ms/step - loss: 1.0738 - accuracy: 0.3909 - val_loss: 1.0659 - val_accuracy: 0.4000\n",
      "Epoch 5/1000\n",
      "7/7 [==============================] - 0s 6ms/step - loss: 1.0724 - accuracy: 0.3818 - val_loss: 1.0645 - val_accuracy: 0.4000\n",
      "Epoch 6/1000\n",
      "7/7 [==============================] - 0s 6ms/step - loss: 1.0710 - accuracy: 0.3909 - val_loss: 1.0631 - val_accuracy: 0.4000\n",
      "Epoch 7/1000\n",
      "7/7 [==============================] - 0s 7ms/step - loss: 1.0696 - accuracy: 0.3955 - val_loss: 1.0616 - val_accuracy: 0.4000\n",
      "Epoch 8/1000\n",
      "7/7 [==============================] - 0s 6ms/step - loss: 1.0682 - accuracy: 0.3955 - val_loss: 1.0601 - val_accuracy: 0.4000\n",
      "Epoch 9/1000\n",
      "7/7 [==============================] - 0s 6ms/step - loss: 1.0668 - accuracy: 0.4045 - val_loss: 1.0586 - val_accuracy: 0.4000\n",
      "Epoch 10/1000\n",
      "7/7 [==============================] - 0s 8ms/step - loss: 1.0653 - accuracy: 0.4045 - val_loss: 1.0570 - val_accuracy: 0.4000\n",
      "Epoch 11/1000\n",
      "7/7 [==============================] - 0s 10ms/step - loss: 1.0640 - accuracy: 0.4000 - val_loss: 1.0555 - val_accuracy: 0.4000\n",
      "Epoch 12/1000\n",
      "7/7 [==============================] - 0s 7ms/step - loss: 1.0625 - accuracy: 0.4136 - val_loss: 1.0539 - val_accuracy: 0.4000\n",
      "Epoch 13/1000\n",
      "7/7 [==============================] - 0s 7ms/step - loss: 1.0610 - accuracy: 0.4136 - val_loss: 1.0524 - val_accuracy: 0.4000\n",
      "Epoch 14/1000\n",
      "7/7 [==============================] - 0s 7ms/step - loss: 1.0595 - accuracy: 0.4182 - val_loss: 1.0508 - val_accuracy: 0.4000\n",
      "Epoch 15/1000\n",
      "7/7 [==============================] - 0s 7ms/step - loss: 1.0580 - accuracy: 0.4227 - val_loss: 1.0491 - val_accuracy: 0.4000\n",
      "Epoch 16/1000\n",
      "7/7 [==============================] - 0s 7ms/step - loss: 1.0564 - accuracy: 0.4227 - val_loss: 1.0475 - val_accuracy: 0.4211\n",
      "Epoch 17/1000\n",
      "7/7 [==============================] - 0s 7ms/step - loss: 1.0547 - accuracy: 0.4227 - val_loss: 1.0457 - val_accuracy: 0.4316\n",
      "Epoch 18/1000\n",
      "7/7 [==============================] - 0s 7ms/step - loss: 1.0531 - accuracy: 0.4273 - val_loss: 1.0440 - val_accuracy: 0.4316\n",
      "Epoch 19/1000\n",
      "7/7 [==============================] - 0s 7ms/step - loss: 1.0514 - accuracy: 0.4455 - val_loss: 1.0422 - val_accuracy: 0.4526\n",
      "Epoch 20/1000\n",
      "7/7 [==============================] - 0s 6ms/step - loss: 1.0498 - accuracy: 0.4455 - val_loss: 1.0405 - val_accuracy: 0.4737\n",
      "Epoch 21/1000\n",
      "7/7 [==============================] - 0s 6ms/step - loss: 1.0480 - accuracy: 0.4500 - val_loss: 1.0387 - val_accuracy: 0.4842\n",
      "Epoch 22/1000\n",
      "7/7 [==============================] - 0s 6ms/step - loss: 1.0464 - accuracy: 0.4455 - val_loss: 1.0369 - val_accuracy: 0.4842\n",
      "Epoch 23/1000\n",
      "7/7 [==============================] - 0s 6ms/step - loss: 1.0446 - accuracy: 0.4591 - val_loss: 1.0351 - val_accuracy: 0.4947\n",
      "Epoch 24/1000\n",
      "7/7 [==============================] - 0s 6ms/step - loss: 1.0428 - accuracy: 0.4545 - val_loss: 1.0333 - val_accuracy: 0.5053\n",
      "Epoch 25/1000\n",
      "7/7 [==============================] - 0s 6ms/step - loss: 1.0411 - accuracy: 0.4636 - val_loss: 1.0315 - val_accuracy: 0.5158\n",
      "Epoch 26/1000\n",
      "7/7 [==============================] - 0s 7ms/step - loss: 1.0392 - accuracy: 0.4682 - val_loss: 1.0295 - val_accuracy: 0.5158\n",
      "Epoch 27/1000\n",
      "7/7 [==============================] - 0s 7ms/step - loss: 1.0375 - accuracy: 0.4864 - val_loss: 1.0276 - val_accuracy: 0.5158\n",
      "Epoch 28/1000\n",
      "7/7 [==============================] - 0s 6ms/step - loss: 1.0356 - accuracy: 0.4864 - val_loss: 1.0257 - val_accuracy: 0.5263\n",
      "Epoch 29/1000\n",
      "7/7 [==============================] - 0s 7ms/step - loss: 1.0337 - accuracy: 0.4955 - val_loss: 1.0238 - val_accuracy: 0.5263\n",
      "Epoch 30/1000\n",
      "7/7 [==============================] - 0s 7ms/step - loss: 1.0318 - accuracy: 0.4955 - val_loss: 1.0217 - val_accuracy: 0.5474\n",
      "Epoch 31/1000\n",
      "7/7 [==============================] - 0s 7ms/step - loss: 1.0298 - accuracy: 0.5318 - val_loss: 1.0197 - val_accuracy: 0.5579\n",
      "Epoch 32/1000\n",
      "7/7 [==============================] - 0s 7ms/step - loss: 1.0279 - accuracy: 0.5136 - val_loss: 1.0176 - val_accuracy: 0.5579\n",
      "Epoch 33/1000\n",
      "7/7 [==============================] - 0s 7ms/step - loss: 1.0258 - accuracy: 0.5227 - val_loss: 1.0155 - val_accuracy: 0.5579\n",
      "Epoch 34/1000\n",
      "7/7 [==============================] - 0s 7ms/step - loss: 1.0238 - accuracy: 0.5273 - val_loss: 1.0133 - val_accuracy: 0.5579\n",
      "Epoch 35/1000\n",
      "7/7 [==============================] - 0s 9ms/step - loss: 1.0217 - accuracy: 0.5409 - val_loss: 1.0112 - val_accuracy: 0.5684\n",
      "Epoch 36/1000\n",
      "7/7 [==============================] - 0s 10ms/step - loss: 1.0195 - accuracy: 0.5409 - val_loss: 1.0090 - val_accuracy: 0.5684\n",
      "Epoch 37/1000\n",
      "7/7 [==============================] - 0s 7ms/step - loss: 1.0176 - accuracy: 0.5409 - val_loss: 1.0069 - val_accuracy: 0.5684\n",
      "Epoch 38/1000\n",
      "7/7 [==============================] - 0s 7ms/step - loss: 1.0154 - accuracy: 0.5409 - val_loss: 1.0048 - val_accuracy: 0.5789\n",
      "Epoch 39/1000\n",
      "7/7 [==============================] - 0s 8ms/step - loss: 1.0133 - accuracy: 0.5545 - val_loss: 1.0026 - val_accuracy: 0.5895\n",
      "Epoch 40/1000\n",
      "7/7 [==============================] - 0s 7ms/step - loss: 1.0112 - accuracy: 0.5682 - val_loss: 1.0004 - val_accuracy: 0.5895\n",
      "Epoch 41/1000\n",
      "7/7 [==============================] - 0s 7ms/step - loss: 1.0090 - accuracy: 0.5864 - val_loss: 0.9982 - val_accuracy: 0.5895\n",
      "Epoch 42/1000\n",
      "7/7 [==============================] - 0s 7ms/step - loss: 1.0069 - accuracy: 0.5955 - val_loss: 0.9958 - val_accuracy: 0.6000\n",
      "Epoch 43/1000\n",
      "7/7 [==============================] - 0s 7ms/step - loss: 1.0046 - accuracy: 0.6045 - val_loss: 0.9936 - val_accuracy: 0.6000\n",
      "Epoch 44/1000\n",
      "7/7 [==============================] - 0s 7ms/step - loss: 1.0024 - accuracy: 0.6045 - val_loss: 0.9914 - val_accuracy: 0.6105\n",
      "Epoch 45/1000\n",
      "7/7 [==============================] - 0s 7ms/step - loss: 1.0004 - accuracy: 0.6045 - val_loss: 0.9891 - val_accuracy: 0.6105\n",
      "Epoch 46/1000\n",
      "7/7 [==============================] - 0s 7ms/step - loss: 0.9979 - accuracy: 0.6182 - val_loss: 0.9869 - val_accuracy: 0.6211\n",
      "Epoch 47/1000\n",
      "7/7 [==============================] - 0s 7ms/step - loss: 0.9957 - accuracy: 0.6182 - val_loss: 0.9845 - val_accuracy: 0.6316\n",
      "Epoch 48/1000\n",
      "7/7 [==============================] - 0s 7ms/step - loss: 0.9935 - accuracy: 0.6182 - val_loss: 0.9822 - val_accuracy: 0.6316\n",
      "Epoch 49/1000\n",
      "7/7 [==============================] - 0s 7ms/step - loss: 0.9913 - accuracy: 0.6273 - val_loss: 0.9799 - val_accuracy: 0.6421\n",
      "Epoch 50/1000\n",
      "7/7 [==============================] - 0s 7ms/step - loss: 0.9890 - accuracy: 0.6318 - val_loss: 0.9776 - val_accuracy: 0.6421\n",
      "Epoch 51/1000\n",
      "7/7 [==============================] - 0s 7ms/step - loss: 0.9867 - accuracy: 0.6318 - val_loss: 0.9752 - val_accuracy: 0.6421\n",
      "Epoch 52/1000\n",
      "7/7 [==============================] - 0s 7ms/step - loss: 0.9845 - accuracy: 0.6364 - val_loss: 0.9729 - val_accuracy: 0.6421\n",
      "Epoch 53/1000\n",
      "7/7 [==============================] - 0s 7ms/step - loss: 0.9823 - accuracy: 0.6364 - val_loss: 0.9707 - val_accuracy: 0.6421\n",
      "Epoch 54/1000\n",
      "7/7 [==============================] - 0s 7ms/step - loss: 0.9800 - accuracy: 0.6364 - val_loss: 0.9684 - val_accuracy: 0.6421\n",
      "Epoch 55/1000\n",
      "7/7 [==============================] - 0s 7ms/step - loss: 0.9777 - accuracy: 0.6364 - val_loss: 0.9661 - val_accuracy: 0.6526\n",
      "Epoch 56/1000\n",
      "7/7 [==============================] - 0s 7ms/step - loss: 0.9753 - accuracy: 0.6500 - val_loss: 0.9637 - val_accuracy: 0.6632\n",
      "Epoch 57/1000\n",
      "7/7 [==============================] - 0s 7ms/step - loss: 0.9730 - accuracy: 0.6500 - val_loss: 0.9613 - val_accuracy: 0.6632\n",
      "Epoch 58/1000\n",
      "7/7 [==============================] - 0s 7ms/step - loss: 0.9706 - accuracy: 0.6591 - val_loss: 0.9588 - val_accuracy: 0.6632\n",
      "Epoch 59/1000\n",
      "7/7 [==============================] - 0s 7ms/step - loss: 0.9681 - accuracy: 0.6500 - val_loss: 0.9564 - val_accuracy: 0.6737\n",
      "Epoch 60/1000\n",
      "7/7 [==============================] - 0s 7ms/step - loss: 0.9657 - accuracy: 0.6500 - val_loss: 0.9539 - val_accuracy: 0.6737\n",
      "Epoch 61/1000\n",
      "7/7 [==============================] - 0s 7ms/step - loss: 0.9633 - accuracy: 0.6545 - val_loss: 0.9515 - val_accuracy: 0.6737\n",
      "Epoch 62/1000\n",
      "7/7 [==============================] - 0s 10ms/step - loss: 0.9609 - accuracy: 0.6591 - val_loss: 0.9491 - val_accuracy: 0.6737\n",
      "Epoch 63/1000\n",
      "7/7 [==============================] - 0s 10ms/step - loss: 0.9585 - accuracy: 0.6591 - val_loss: 0.9466 - val_accuracy: 0.6842\n",
      "Epoch 64/1000\n",
      "7/7 [==============================] - 0s 7ms/step - loss: 0.9560 - accuracy: 0.6591 - val_loss: 0.9442 - val_accuracy: 0.6842\n",
      "Epoch 65/1000\n",
      "7/7 [==============================] - 0s 8ms/step - loss: 0.9536 - accuracy: 0.6636 - val_loss: 0.9418 - val_accuracy: 0.6842\n",
      "Epoch 66/1000\n",
      "7/7 [==============================] - 0s 7ms/step - loss: 0.9513 - accuracy: 0.6636 - val_loss: 0.9393 - val_accuracy: 0.6842\n",
      "Epoch 67/1000\n",
      "7/7 [==============================] - 0s 7ms/step - loss: 0.9488 - accuracy: 0.6636 - val_loss: 0.9369 - val_accuracy: 0.6842\n",
      "Epoch 68/1000\n",
      "7/7 [==============================] - 0s 7ms/step - loss: 0.9465 - accuracy: 0.6636 - val_loss: 0.9344 - val_accuracy: 0.6842\n",
      "Epoch 69/1000\n",
      "7/7 [==============================] - 0s 7ms/step - loss: 0.9440 - accuracy: 0.6727 - val_loss: 0.9320 - val_accuracy: 0.6842\n",
      "Epoch 70/1000\n",
      "7/7 [==============================] - 0s 7ms/step - loss: 0.9416 - accuracy: 0.6727 - val_loss: 0.9294 - val_accuracy: 0.6842\n",
      "Epoch 71/1000\n",
      "7/7 [==============================] - 0s 7ms/step - loss: 0.9390 - accuracy: 0.6682 - val_loss: 0.9269 - val_accuracy: 0.6842\n",
      "Epoch 72/1000\n",
      "7/7 [==============================] - 0s 7ms/step - loss: 0.9366 - accuracy: 0.6682 - val_loss: 0.9244 - val_accuracy: 0.6842\n",
      "Epoch 73/1000\n",
      "7/7 [==============================] - 0s 7ms/step - loss: 0.9341 - accuracy: 0.6682 - val_loss: 0.9220 - val_accuracy: 0.7053\n",
      "Epoch 74/1000\n",
      "7/7 [==============================] - 0s 8ms/step - loss: 0.9316 - accuracy: 0.6682 - val_loss: 0.9196 - val_accuracy: 0.7053\n",
      "Epoch 75/1000\n",
      "7/7 [==============================] - 0s 10ms/step - loss: 0.9291 - accuracy: 0.6955 - val_loss: 0.9170 - val_accuracy: 0.7053\n",
      "Epoch 76/1000\n",
      "7/7 [==============================] - 0s 10ms/step - loss: 0.9267 - accuracy: 0.6909 - val_loss: 0.9145 - val_accuracy: 0.7053\n",
      "Epoch 77/1000\n",
      "7/7 [==============================] - 0s 7ms/step - loss: 0.9241 - accuracy: 0.6773 - val_loss: 0.9121 - val_accuracy: 0.6947\n",
      "Epoch 78/1000\n",
      "7/7 [==============================] - 0s 7ms/step - loss: 0.9217 - accuracy: 0.6773 - val_loss: 0.9096 - val_accuracy: 0.6947\n",
      "Epoch 79/1000\n",
      "7/7 [==============================] - 0s 7ms/step - loss: 0.9192 - accuracy: 0.6864 - val_loss: 0.9071 - val_accuracy: 0.7158\n",
      "Epoch 80/1000\n",
      "7/7 [==============================] - 0s 7ms/step - loss: 0.9168 - accuracy: 0.6773 - val_loss: 0.9047 - val_accuracy: 0.7053\n",
      "Epoch 81/1000\n",
      "7/7 [==============================] - 0s 7ms/step - loss: 0.9143 - accuracy: 0.6727 - val_loss: 0.9022 - val_accuracy: 0.7053\n",
      "Epoch 82/1000\n",
      "7/7 [==============================] - 0s 7ms/step - loss: 0.9118 - accuracy: 0.6818 - val_loss: 0.8997 - val_accuracy: 0.7053\n",
      "Epoch 83/1000\n",
      "7/7 [==============================] - 0s 7ms/step - loss: 0.9094 - accuracy: 0.6727 - val_loss: 0.8973 - val_accuracy: 0.7158\n",
      "Epoch 84/1000\n",
      "7/7 [==============================] - 0s 7ms/step - loss: 0.9069 - accuracy: 0.6864 - val_loss: 0.8948 - val_accuracy: 0.7158\n",
      "Epoch 85/1000\n",
      "7/7 [==============================] - 0s 7ms/step - loss: 0.9044 - accuracy: 0.6727 - val_loss: 0.8923 - val_accuracy: 0.7158\n",
      "Epoch 86/1000\n",
      "7/7 [==============================] - 0s 7ms/step - loss: 0.9021 - accuracy: 0.6818 - val_loss: 0.8898 - val_accuracy: 0.7158\n",
      "Epoch 87/1000\n",
      "7/7 [==============================] - 0s 7ms/step - loss: 0.8996 - accuracy: 0.6864 - val_loss: 0.8874 - val_accuracy: 0.7158\n",
      "Epoch 88/1000\n",
      "7/7 [==============================] - 0s 7ms/step - loss: 0.8971 - accuracy: 0.6727 - val_loss: 0.8850 - val_accuracy: 0.7158\n",
      "Epoch 89/1000\n",
      "7/7 [==============================] - 0s 7ms/step - loss: 0.8947 - accuracy: 0.6909 - val_loss: 0.8826 - val_accuracy: 0.7158\n",
      "Epoch 90/1000\n",
      "7/7 [==============================] - 0s 7ms/step - loss: 0.8924 - accuracy: 0.6773 - val_loss: 0.8802 - val_accuracy: 0.7158\n",
      "Epoch 91/1000\n",
      "7/7 [==============================] - 0s 7ms/step - loss: 0.8900 - accuracy: 0.6818 - val_loss: 0.8779 - val_accuracy: 0.7053\n",
      "Epoch 92/1000\n",
      "7/7 [==============================] - 0s 8ms/step - loss: 0.8875 - accuracy: 0.6682 - val_loss: 0.8755 - val_accuracy: 0.7158\n",
      "Epoch 93/1000\n",
      "7/7 [==============================] - 0s 8ms/step - loss: 0.8853 - accuracy: 0.6909 - val_loss: 0.8731 - val_accuracy: 0.7158\n",
      "Epoch 94/1000\n",
      "7/7 [==============================] - 0s 8ms/step - loss: 0.8829 - accuracy: 0.6727 - val_loss: 0.8708 - val_accuracy: 0.7158\n",
      "Epoch 95/1000\n",
      "7/7 [==============================] - 0s 9ms/step - loss: 0.8806 - accuracy: 0.6727 - val_loss: 0.8684 - val_accuracy: 0.7263\n",
      "Epoch 96/1000\n",
      "7/7 [==============================] - 0s 7ms/step - loss: 0.8781 - accuracy: 0.6909 - val_loss: 0.8661 - val_accuracy: 0.7158\n",
      "Epoch 97/1000\n",
      "7/7 [==============================] - 0s 8ms/step - loss: 0.8758 - accuracy: 0.6909 - val_loss: 0.8637 - val_accuracy: 0.7053\n",
      "Epoch 98/1000\n",
      "7/7 [==============================] - 0s 7ms/step - loss: 0.8735 - accuracy: 0.6727 - val_loss: 0.8614 - val_accuracy: 0.7158\n",
      "Epoch 99/1000\n",
      "7/7 [==============================] - 0s 8ms/step - loss: 0.8711 - accuracy: 0.6773 - val_loss: 0.8590 - val_accuracy: 0.7158\n",
      "Epoch 100/1000\n",
      "7/7 [==============================] - 0s 7ms/step - loss: 0.8688 - accuracy: 0.6818 - val_loss: 0.8567 - val_accuracy: 0.7158\n",
      "Epoch 101/1000\n",
      "7/7 [==============================] - 0s 7ms/step - loss: 0.8664 - accuracy: 0.6864 - val_loss: 0.8543 - val_accuracy: 0.7158\n",
      "Epoch 102/1000\n",
      "7/7 [==============================] - 0s 7ms/step - loss: 0.8640 - accuracy: 0.6909 - val_loss: 0.8519 - val_accuracy: 0.7263\n",
      "Epoch 103/1000\n",
      "7/7 [==============================] - 0s 7ms/step - loss: 0.8617 - accuracy: 0.6864 - val_loss: 0.8497 - val_accuracy: 0.7263\n",
      "Epoch 104/1000\n",
      "7/7 [==============================] - 0s 7ms/step - loss: 0.8594 - accuracy: 0.6955 - val_loss: 0.8473 - val_accuracy: 0.7368\n",
      "Epoch 105/1000\n",
      "7/7 [==============================] - 0s 7ms/step - loss: 0.8571 - accuracy: 0.6955 - val_loss: 0.8450 - val_accuracy: 0.7263\n",
      "Epoch 106/1000\n",
      "7/7 [==============================] - 0s 7ms/step - loss: 0.8547 - accuracy: 0.6864 - val_loss: 0.8427 - val_accuracy: 0.7263\n",
      "Epoch 107/1000\n",
      "7/7 [==============================] - 0s 7ms/step - loss: 0.8524 - accuracy: 0.6955 - val_loss: 0.8405 - val_accuracy: 0.7368\n",
      "Epoch 108/1000\n",
      "7/7 [==============================] - 0s 7ms/step - loss: 0.8502 - accuracy: 0.6864 - val_loss: 0.8382 - val_accuracy: 0.7263\n",
      "Epoch 109/1000\n",
      "7/7 [==============================] - 0s 7ms/step - loss: 0.8479 - accuracy: 0.6955 - val_loss: 0.8358 - val_accuracy: 0.7368\n",
      "Epoch 110/1000\n",
      "7/7 [==============================] - 0s 7ms/step - loss: 0.8455 - accuracy: 0.6864 - val_loss: 0.8336 - val_accuracy: 0.7368\n",
      "Epoch 111/1000\n",
      "7/7 [==============================] - 0s 7ms/step - loss: 0.8433 - accuracy: 0.6909 - val_loss: 0.8313 - val_accuracy: 0.7474\n",
      "Epoch 112/1000\n",
      "7/7 [==============================] - 0s 7ms/step - loss: 0.8410 - accuracy: 0.7000 - val_loss: 0.8290 - val_accuracy: 0.7368\n",
      "Epoch 113/1000\n",
      "7/7 [==============================] - 0s 8ms/step - loss: 0.8389 - accuracy: 0.6909 - val_loss: 0.8268 - val_accuracy: 0.7368\n",
      "Epoch 114/1000\n",
      "7/7 [==============================] - 0s 10ms/step - loss: 0.8366 - accuracy: 0.6955 - val_loss: 0.8246 - val_accuracy: 0.7474\n",
      "Epoch 115/1000\n",
      "7/7 [==============================] - 0s 12ms/step - loss: 0.8344 - accuracy: 0.7000 - val_loss: 0.8224 - val_accuracy: 0.7474\n",
      "Epoch 116/1000\n",
      "7/7 [==============================] - 0s 12ms/step - loss: 0.8321 - accuracy: 0.7045 - val_loss: 0.8202 - val_accuracy: 0.7474\n",
      "Epoch 117/1000\n"
     ]
    },
    {
     "name": "stdout",
     "output_type": "stream",
     "text": [
      "7/7 [==============================] - 0s 13ms/step - loss: 0.8299 - accuracy: 0.7182 - val_loss: 0.8180 - val_accuracy: 0.7368\n",
      "Epoch 118/1000\n",
      "7/7 [==============================] - 0s 13ms/step - loss: 0.8276 - accuracy: 0.7000 - val_loss: 0.8157 - val_accuracy: 0.7474\n",
      "Epoch 119/1000\n",
      "7/7 [==============================] - 0s 12ms/step - loss: 0.8255 - accuracy: 0.7045 - val_loss: 0.8135 - val_accuracy: 0.7474\n",
      "Epoch 120/1000\n",
      "7/7 [==============================] - 0s 9ms/step - loss: 0.8232 - accuracy: 0.7045 - val_loss: 0.8113 - val_accuracy: 0.7579\n",
      "Epoch 121/1000\n",
      "7/7 [==============================] - 0s 11ms/step - loss: 0.8210 - accuracy: 0.7045 - val_loss: 0.8090 - val_accuracy: 0.7579\n",
      "Epoch 122/1000\n",
      "7/7 [==============================] - 0s 7ms/step - loss: 0.8188 - accuracy: 0.7091 - val_loss: 0.8068 - val_accuracy: 0.7579\n",
      "Epoch 123/1000\n",
      "7/7 [==============================] - 0s 11ms/step - loss: 0.8166 - accuracy: 0.7045 - val_loss: 0.8046 - val_accuracy: 0.7579\n",
      "Epoch 124/1000\n",
      "7/7 [==============================] - 0s 8ms/step - loss: 0.8145 - accuracy: 0.6955 - val_loss: 0.8025 - val_accuracy: 0.7579\n",
      "Epoch 125/1000\n",
      "7/7 [==============================] - 0s 7ms/step - loss: 0.8123 - accuracy: 0.7045 - val_loss: 0.8004 - val_accuracy: 0.7579\n",
      "Epoch 126/1000\n",
      "7/7 [==============================] - 0s 7ms/step - loss: 0.8102 - accuracy: 0.7182 - val_loss: 0.7983 - val_accuracy: 0.7579\n",
      "Epoch 127/1000\n",
      "7/7 [==============================] - 0s 7ms/step - loss: 0.8081 - accuracy: 0.7227 - val_loss: 0.7962 - val_accuracy: 0.7579\n",
      "Epoch 128/1000\n",
      "7/7 [==============================] - 0s 8ms/step - loss: 0.8060 - accuracy: 0.7318 - val_loss: 0.7941 - val_accuracy: 0.7579\n",
      "Epoch 129/1000\n",
      "7/7 [==============================] - 0s 10ms/step - loss: 0.8040 - accuracy: 0.7045 - val_loss: 0.7920 - val_accuracy: 0.7579\n",
      "Epoch 130/1000\n",
      "7/7 [==============================] - 0s 9ms/step - loss: 0.8019 - accuracy: 0.7273 - val_loss: 0.7899 - val_accuracy: 0.7579\n",
      "Epoch 131/1000\n",
      "7/7 [==============================] - 0s 8ms/step - loss: 0.7997 - accuracy: 0.7364 - val_loss: 0.7878 - val_accuracy: 0.7579\n",
      "Epoch 132/1000\n",
      "7/7 [==============================] - 0s 8ms/step - loss: 0.7977 - accuracy: 0.7182 - val_loss: 0.7858 - val_accuracy: 0.7579\n",
      "Epoch 133/1000\n",
      "7/7 [==============================] - 0s 10ms/step - loss: 0.7956 - accuracy: 0.7136 - val_loss: 0.7836 - val_accuracy: 0.7579\n",
      "Epoch 134/1000\n",
      "7/7 [==============================] - 0s 9ms/step - loss: 0.7935 - accuracy: 0.7500 - val_loss: 0.7816 - val_accuracy: 0.7579\n",
      "Epoch 135/1000\n",
      "7/7 [==============================] - 0s 8ms/step - loss: 0.7917 - accuracy: 0.7545 - val_loss: 0.7795 - val_accuracy: 0.7579\n",
      "Epoch 136/1000\n",
      "7/7 [==============================] - 0s 8ms/step - loss: 0.7895 - accuracy: 0.7364 - val_loss: 0.7776 - val_accuracy: 0.7579\n",
      "Epoch 137/1000\n",
      "7/7 [==============================] - 0s 8ms/step - loss: 0.7874 - accuracy: 0.7409 - val_loss: 0.7755 - val_accuracy: 0.7684\n",
      "Epoch 138/1000\n",
      "7/7 [==============================] - 0s 7ms/step - loss: 0.7856 - accuracy: 0.7500 - val_loss: 0.7735 - val_accuracy: 0.7684\n",
      "Epoch 139/1000\n",
      "7/7 [==============================] - 0s 7ms/step - loss: 0.7835 - accuracy: 0.7545 - val_loss: 0.7715 - val_accuracy: 0.7684\n",
      "Epoch 140/1000\n",
      "7/7 [==============================] - 0s 7ms/step - loss: 0.7815 - accuracy: 0.7455 - val_loss: 0.7695 - val_accuracy: 0.7684\n",
      "Epoch 141/1000\n",
      "7/7 [==============================] - 0s 7ms/step - loss: 0.7795 - accuracy: 0.7682 - val_loss: 0.7675 - val_accuracy: 0.7684\n",
      "Epoch 142/1000\n",
      "7/7 [==============================] - 0s 8ms/step - loss: 0.7777 - accuracy: 0.7727 - val_loss: 0.7655 - val_accuracy: 0.7684\n",
      "Epoch 143/1000\n",
      "7/7 [==============================] - 0s 7ms/step - loss: 0.7756 - accuracy: 0.7636 - val_loss: 0.7635 - val_accuracy: 0.7684\n",
      "Epoch 144/1000\n",
      "7/7 [==============================] - 0s 7ms/step - loss: 0.7736 - accuracy: 0.7682 - val_loss: 0.7615 - val_accuracy: 0.7684\n",
      "Epoch 145/1000\n",
      "7/7 [==============================] - 0s 7ms/step - loss: 0.7717 - accuracy: 0.7636 - val_loss: 0.7595 - val_accuracy: 0.7684\n",
      "Epoch 146/1000\n",
      "7/7 [==============================] - 0s 7ms/step - loss: 0.7696 - accuracy: 0.7591 - val_loss: 0.7575 - val_accuracy: 0.7684\n",
      "Epoch 147/1000\n",
      "7/7 [==============================] - 0s 8ms/step - loss: 0.7677 - accuracy: 0.7591 - val_loss: 0.7555 - val_accuracy: 0.7684\n",
      "Epoch 148/1000\n",
      "7/7 [==============================] - 0s 9ms/step - loss: 0.7657 - accuracy: 0.7636 - val_loss: 0.7536 - val_accuracy: 0.7684\n",
      "Epoch 149/1000\n",
      "7/7 [==============================] - 0s 8ms/step - loss: 0.7639 - accuracy: 0.7727 - val_loss: 0.7516 - val_accuracy: 0.7684\n",
      "Epoch 150/1000\n",
      "7/7 [==============================] - 0s 9ms/step - loss: 0.7619 - accuracy: 0.7818 - val_loss: 0.7497 - val_accuracy: 0.7684\n",
      "Epoch 151/1000\n",
      "7/7 [==============================] - 0s 7ms/step - loss: 0.7599 - accuracy: 0.7773 - val_loss: 0.7477 - val_accuracy: 0.7684\n",
      "Epoch 152/1000\n",
      "7/7 [==============================] - 0s 7ms/step - loss: 0.7582 - accuracy: 0.7636 - val_loss: 0.7458 - val_accuracy: 0.7684\n",
      "Epoch 153/1000\n",
      "7/7 [==============================] - 0s 7ms/step - loss: 0.7563 - accuracy: 0.7591 - val_loss: 0.7440 - val_accuracy: 0.7684\n",
      "Epoch 154/1000\n",
      "7/7 [==============================] - 0s 7ms/step - loss: 0.7544 - accuracy: 0.7727 - val_loss: 0.7421 - val_accuracy: 0.7684\n",
      "Epoch 155/1000\n",
      "7/7 [==============================] - 0s 7ms/step - loss: 0.7525 - accuracy: 0.7818 - val_loss: 0.7401 - val_accuracy: 0.7684\n",
      "Epoch 156/1000\n",
      "7/7 [==============================] - 0s 7ms/step - loss: 0.7505 - accuracy: 0.7591 - val_loss: 0.7382 - val_accuracy: 0.7684\n",
      "Epoch 157/1000\n",
      "7/7 [==============================] - 0s 7ms/step - loss: 0.7486 - accuracy: 0.7773 - val_loss: 0.7363 - val_accuracy: 0.7684\n",
      "Epoch 158/1000\n",
      "7/7 [==============================] - 0s 7ms/step - loss: 0.7467 - accuracy: 0.7773 - val_loss: 0.7343 - val_accuracy: 0.7684\n",
      "Epoch 159/1000\n",
      "7/7 [==============================] - 0s 7ms/step - loss: 0.7447 - accuracy: 0.7727 - val_loss: 0.7324 - val_accuracy: 0.7684\n",
      "Epoch 160/1000\n",
      "7/7 [==============================] - 0s 6ms/step - loss: 0.7428 - accuracy: 0.7818 - val_loss: 0.7305 - val_accuracy: 0.7684\n",
      "Epoch 161/1000\n",
      "7/7 [==============================] - 0s 6ms/step - loss: 0.7408 - accuracy: 0.7727 - val_loss: 0.7284 - val_accuracy: 0.7684\n",
      "Epoch 162/1000\n",
      "7/7 [==============================] - 0s 7ms/step - loss: 0.7389 - accuracy: 0.7682 - val_loss: 0.7264 - val_accuracy: 0.7684\n",
      "Epoch 163/1000\n",
      "7/7 [==============================] - 0s 7ms/step - loss: 0.7371 - accuracy: 0.7636 - val_loss: 0.7246 - val_accuracy: 0.7684\n",
      "Epoch 164/1000\n",
      "7/7 [==============================] - 0s 7ms/step - loss: 0.7351 - accuracy: 0.7682 - val_loss: 0.7227 - val_accuracy: 0.7684\n",
      "Epoch 165/1000\n",
      "7/7 [==============================] - 0s 7ms/step - loss: 0.7333 - accuracy: 0.7773 - val_loss: 0.7208 - val_accuracy: 0.7684\n",
      "Epoch 166/1000\n",
      "7/7 [==============================] - 0s 7ms/step - loss: 0.7315 - accuracy: 0.7818 - val_loss: 0.7189 - val_accuracy: 0.7684\n",
      "Epoch 167/1000\n",
      "7/7 [==============================] - 0s 11ms/step - loss: 0.7296 - accuracy: 0.7682 - val_loss: 0.7171 - val_accuracy: 0.7684\n",
      "Epoch 168/1000\n",
      "7/7 [==============================] - 0s 12ms/step - loss: 0.7276 - accuracy: 0.7818 - val_loss: 0.7152 - val_accuracy: 0.7684\n",
      "Epoch 169/1000\n",
      "7/7 [==============================] - 0s 10ms/step - loss: 0.7260 - accuracy: 0.7727 - val_loss: 0.7133 - val_accuracy: 0.7684\n",
      "Epoch 170/1000\n",
      "7/7 [==============================] - 0s 7ms/step - loss: 0.7239 - accuracy: 0.7818 - val_loss: 0.7115 - val_accuracy: 0.7684\n",
      "Epoch 171/1000\n",
      "7/7 [==============================] - 0s 7ms/step - loss: 0.7222 - accuracy: 0.7818 - val_loss: 0.7096 - val_accuracy: 0.7684\n",
      "Epoch 172/1000\n",
      "7/7 [==============================] - 0s 7ms/step - loss: 0.7202 - accuracy: 0.7818 - val_loss: 0.7077 - val_accuracy: 0.7684\n",
      "Epoch 173/1000\n",
      "7/7 [==============================] - 0s 7ms/step - loss: 0.7183 - accuracy: 0.7818 - val_loss: 0.7058 - val_accuracy: 0.7684\n",
      "Epoch 174/1000\n",
      "7/7 [==============================] - 0s 7ms/step - loss: 0.7165 - accuracy: 0.7818 - val_loss: 0.7039 - val_accuracy: 0.7684\n"
     ]
    },
    {
     "name": "stdout",
     "output_type": "stream",
     "text": [
      "Epoch 175/1000\n",
      "7/7 [==============================] - 0s 7ms/step - loss: 0.7147 - accuracy: 0.7818 - val_loss: 0.7022 - val_accuracy: 0.7684\n",
      "Epoch 176/1000\n",
      "7/7 [==============================] - 0s 7ms/step - loss: 0.7128 - accuracy: 0.7818 - val_loss: 0.7002 - val_accuracy: 0.7684\n",
      "Epoch 177/1000\n",
      "7/7 [==============================] - 0s 7ms/step - loss: 0.7109 - accuracy: 0.7955 - val_loss: 0.6983 - val_accuracy: 0.7684\n",
      "Epoch 178/1000\n",
      "7/7 [==============================] - 0s 7ms/step - loss: 0.7090 - accuracy: 0.7909 - val_loss: 0.6965 - val_accuracy: 0.7684\n",
      "Epoch 179/1000\n",
      "7/7 [==============================] - 0s 7ms/step - loss: 0.7071 - accuracy: 0.7955 - val_loss: 0.6945 - val_accuracy: 0.7684\n",
      "Epoch 180/1000\n",
      "7/7 [==============================] - 0s 7ms/step - loss: 0.7053 - accuracy: 0.8000 - val_loss: 0.6927 - val_accuracy: 0.7684\n",
      "Epoch 181/1000\n",
      "7/7 [==============================] - 0s 7ms/step - loss: 0.7034 - accuracy: 0.8000 - val_loss: 0.6908 - val_accuracy: 0.7684\n",
      "Epoch 182/1000\n",
      "7/7 [==============================] - 0s 7ms/step - loss: 0.7015 - accuracy: 0.7955 - val_loss: 0.6891 - val_accuracy: 0.7684\n",
      "Epoch 183/1000\n",
      "7/7 [==============================] - 0s 7ms/step - loss: 0.6997 - accuracy: 0.7955 - val_loss: 0.6871 - val_accuracy: 0.7684\n",
      "Epoch 184/1000\n",
      "7/7 [==============================] - 0s 7ms/step - loss: 0.6978 - accuracy: 0.7955 - val_loss: 0.6854 - val_accuracy: 0.7684\n",
      "Epoch 185/1000\n",
      "7/7 [==============================] - 0s 8ms/step - loss: 0.6962 - accuracy: 0.8000 - val_loss: 0.6835 - val_accuracy: 0.7684\n",
      "Epoch 186/1000\n",
      "7/7 [==============================] - 0s 14ms/step - loss: 0.6942 - accuracy: 0.8000 - val_loss: 0.6818 - val_accuracy: 0.7684\n",
      "Epoch 187/1000\n",
      "7/7 [==============================] - 0s 12ms/step - loss: 0.6925 - accuracy: 0.7955 - val_loss: 0.6799 - val_accuracy: 0.7684\n",
      "Epoch 188/1000\n",
      "7/7 [==============================] - 0s 10ms/step - loss: 0.6907 - accuracy: 0.8045 - val_loss: 0.6782 - val_accuracy: 0.7684\n",
      "Epoch 189/1000\n",
      "7/7 [==============================] - 0s 8ms/step - loss: 0.6889 - accuracy: 0.8091 - val_loss: 0.6763 - val_accuracy: 0.7684\n",
      "Epoch 190/1000\n",
      "7/7 [==============================] - 0s 7ms/step - loss: 0.6870 - accuracy: 0.8136 - val_loss: 0.6746 - val_accuracy: 0.7684\n",
      "Epoch 191/1000\n",
      "7/7 [==============================] - 0s 7ms/step - loss: 0.6853 - accuracy: 0.8182 - val_loss: 0.6727 - val_accuracy: 0.7684\n",
      "Epoch 192/1000\n",
      "7/7 [==============================] - 0s 7ms/step - loss: 0.6833 - accuracy: 0.8227 - val_loss: 0.6708 - val_accuracy: 0.7789\n",
      "Epoch 193/1000\n",
      "7/7 [==============================] - 0s 6ms/step - loss: 0.6816 - accuracy: 0.8136 - val_loss: 0.6691 - val_accuracy: 0.7789\n",
      "Epoch 194/1000\n",
      "7/7 [==============================] - 0s 8ms/step - loss: 0.6797 - accuracy: 0.8227 - val_loss: 0.6673 - val_accuracy: 0.7895\n",
      "Epoch 195/1000\n",
      "7/7 [==============================] - 0s 11ms/step - loss: 0.6779 - accuracy: 0.8318 - val_loss: 0.6655 - val_accuracy: 0.7895\n",
      "Epoch 196/1000\n",
      "7/7 [==============================] - 0s 7ms/step - loss: 0.6762 - accuracy: 0.8273 - val_loss: 0.6637 - val_accuracy: 0.8000\n",
      "Epoch 197/1000\n",
      "7/7 [==============================] - 0s 7ms/step - loss: 0.6743 - accuracy: 0.8318 - val_loss: 0.6619 - val_accuracy: 0.8000\n",
      "Epoch 198/1000\n",
      "7/7 [==============================] - 0s 8ms/step - loss: 0.6726 - accuracy: 0.8273 - val_loss: 0.6601 - val_accuracy: 0.8000\n",
      "Epoch 199/1000\n",
      "7/7 [==============================] - 0s 7ms/step - loss: 0.6708 - accuracy: 0.8318 - val_loss: 0.6584 - val_accuracy: 0.8000\n",
      "Epoch 200/1000\n",
      "7/7 [==============================] - 0s 7ms/step - loss: 0.6689 - accuracy: 0.8318 - val_loss: 0.6565 - val_accuracy: 0.8105\n",
      "Epoch 201/1000\n",
      "7/7 [==============================] - 0s 7ms/step - loss: 0.6672 - accuracy: 0.8318 - val_loss: 0.6547 - val_accuracy: 0.8105\n",
      "Epoch 202/1000\n",
      "7/7 [==============================] - 0s 7ms/step - loss: 0.6653 - accuracy: 0.8318 - val_loss: 0.6530 - val_accuracy: 0.8105\n",
      "Epoch 203/1000\n",
      "7/7 [==============================] - 0s 7ms/step - loss: 0.6636 - accuracy: 0.8318 - val_loss: 0.6512 - val_accuracy: 0.8105\n",
      "Epoch 204/1000\n",
      "7/7 [==============================] - 0s 7ms/step - loss: 0.6618 - accuracy: 0.8318 - val_loss: 0.6495 - val_accuracy: 0.8105\n",
      "Epoch 205/1000\n",
      "7/7 [==============================] - 0s 8ms/step - loss: 0.6600 - accuracy: 0.8364 - val_loss: 0.6476 - val_accuracy: 0.8105\n",
      "Epoch 206/1000\n",
      "7/7 [==============================] - 0s 7ms/step - loss: 0.6583 - accuracy: 0.8318 - val_loss: 0.6460 - val_accuracy: 0.8105\n",
      "Epoch 207/1000\n",
      "7/7 [==============================] - 0s 7ms/step - loss: 0.6566 - accuracy: 0.8409 - val_loss: 0.6441 - val_accuracy: 0.8105\n",
      "Epoch 208/1000\n",
      "7/7 [==============================] - 0s 7ms/step - loss: 0.6547 - accuracy: 0.8364 - val_loss: 0.6425 - val_accuracy: 0.8105\n",
      "Epoch 209/1000\n",
      "7/7 [==============================] - 0s 7ms/step - loss: 0.6532 - accuracy: 0.8364 - val_loss: 0.6409 - val_accuracy: 0.8105\n",
      "Epoch 210/1000\n",
      "7/7 [==============================] - 0s 7ms/step - loss: 0.6514 - accuracy: 0.8455 - val_loss: 0.6392 - val_accuracy: 0.8105\n",
      "Epoch 211/1000\n",
      "7/7 [==============================] - 0s 7ms/step - loss: 0.6498 - accuracy: 0.8455 - val_loss: 0.6375 - val_accuracy: 0.8105\n",
      "Epoch 212/1000\n",
      "7/7 [==============================] - 0s 7ms/step - loss: 0.6480 - accuracy: 0.8409 - val_loss: 0.6359 - val_accuracy: 0.8105\n",
      "Epoch 213/1000\n",
      "7/7 [==============================] - 0s 7ms/step - loss: 0.6464 - accuracy: 0.8636 - val_loss: 0.6341 - val_accuracy: 0.8105\n",
      "Epoch 214/1000\n",
      "7/7 [==============================] - 0s 7ms/step - loss: 0.6445 - accuracy: 0.8500 - val_loss: 0.6323 - val_accuracy: 0.8105\n",
      "Epoch 215/1000\n",
      "7/7 [==============================] - 0s 7ms/step - loss: 0.6428 - accuracy: 0.8545 - val_loss: 0.6307 - val_accuracy: 0.8105\n",
      "Epoch 216/1000\n",
      "7/7 [==============================] - 0s 7ms/step - loss: 0.6411 - accuracy: 0.8682 - val_loss: 0.6290 - val_accuracy: 0.8211\n",
      "Epoch 217/1000\n",
      "7/7 [==============================] - 0s 7ms/step - loss: 0.6395 - accuracy: 0.8727 - val_loss: 0.6273 - val_accuracy: 0.8211\n",
      "Epoch 218/1000\n",
      "7/7 [==============================] - 0s 7ms/step - loss: 0.6377 - accuracy: 0.8727 - val_loss: 0.6256 - val_accuracy: 0.8211\n",
      "Epoch 219/1000\n",
      "7/7 [==============================] - 0s 7ms/step - loss: 0.6360 - accuracy: 0.8727 - val_loss: 0.6241 - val_accuracy: 0.8211\n",
      "Epoch 220/1000\n",
      "7/7 [==============================] - 0s 7ms/step - loss: 0.6344 - accuracy: 0.8818 - val_loss: 0.6224 - val_accuracy: 0.8316\n",
      "Epoch 221/1000\n",
      "7/7 [==============================] - 0s 7ms/step - loss: 0.6326 - accuracy: 0.8818 - val_loss: 0.6208 - val_accuracy: 0.8211\n",
      "Epoch 222/1000\n",
      "7/7 [==============================] - 0s 7ms/step - loss: 0.6309 - accuracy: 0.8818 - val_loss: 0.6191 - val_accuracy: 0.8211\n",
      "Epoch 223/1000\n",
      "7/7 [==============================] - 0s 7ms/step - loss: 0.6294 - accuracy: 0.8818 - val_loss: 0.6175 - val_accuracy: 0.8211\n",
      "Epoch 224/1000\n",
      "7/7 [==============================] - 0s 7ms/step - loss: 0.6276 - accuracy: 0.8818 - val_loss: 0.6158 - val_accuracy: 0.8211\n",
      "Epoch 225/1000\n",
      "7/7 [==============================] - 0s 7ms/step - loss: 0.6259 - accuracy: 0.8818 - val_loss: 0.6142 - val_accuracy: 0.8211\n",
      "Epoch 226/1000\n",
      "7/7 [==============================] - 0s 8ms/step - loss: 0.6243 - accuracy: 0.8864 - val_loss: 0.6125 - val_accuracy: 0.8211\n",
      "Epoch 227/1000\n",
      "7/7 [==============================] - 0s 7ms/step - loss: 0.6226 - accuracy: 0.8818 - val_loss: 0.6108 - val_accuracy: 0.8211\n",
      "Epoch 228/1000\n",
      "7/7 [==============================] - 0s 7ms/step - loss: 0.6209 - accuracy: 0.8909 - val_loss: 0.6092 - val_accuracy: 0.8211\n",
      "Epoch 229/1000\n",
      "7/7 [==============================] - 0s 8ms/step - loss: 0.6192 - accuracy: 0.8864 - val_loss: 0.6076 - val_accuracy: 0.8316\n",
      "Epoch 230/1000\n",
      "7/7 [==============================] - 0s 7ms/step - loss: 0.6177 - accuracy: 0.9000 - val_loss: 0.6061 - val_accuracy: 0.8316\n",
      "Epoch 231/1000\n",
      "7/7 [==============================] - 0s 8ms/step - loss: 0.6159 - accuracy: 0.8955 - val_loss: 0.6045 - val_accuracy: 0.8316\n",
      "Epoch 232/1000\n",
      "7/7 [==============================] - 0s 7ms/step - loss: 0.6143 - accuracy: 0.8909 - val_loss: 0.6028 - val_accuracy: 0.8316\n",
      "Epoch 233/1000\n",
      "7/7 [==============================] - 0s 7ms/step - loss: 0.6127 - accuracy: 0.9000 - val_loss: 0.6011 - val_accuracy: 0.8316\n",
      "Epoch 234/1000\n",
      "7/7 [==============================] - 0s 7ms/step - loss: 0.6110 - accuracy: 0.9045 - val_loss: 0.5995 - val_accuracy: 0.8316\n",
      "Epoch 235/1000\n",
      "7/7 [==============================] - 0s 7ms/step - loss: 0.6092 - accuracy: 0.9091 - val_loss: 0.5978 - val_accuracy: 0.8421\n",
      "Epoch 236/1000\n",
      "7/7 [==============================] - 0s 7ms/step - loss: 0.6076 - accuracy: 0.9136 - val_loss: 0.5963 - val_accuracy: 0.8421\n",
      "Epoch 237/1000\n",
      "7/7 [==============================] - 0s 7ms/step - loss: 0.6059 - accuracy: 0.9136 - val_loss: 0.5946 - val_accuracy: 0.8421\n",
      "Epoch 238/1000\n",
      "7/7 [==============================] - 0s 7ms/step - loss: 0.6043 - accuracy: 0.9136 - val_loss: 0.5930 - val_accuracy: 0.8421\n",
      "Epoch 239/1000\n",
      "7/7 [==============================] - 0s 7ms/step - loss: 0.6026 - accuracy: 0.9136 - val_loss: 0.5914 - val_accuracy: 0.8421\n",
      "Epoch 240/1000\n",
      "7/7 [==============================] - 0s 7ms/step - loss: 0.6009 - accuracy: 0.9136 - val_loss: 0.5898 - val_accuracy: 0.8421\n",
      "Epoch 241/1000\n",
      "7/7 [==============================] - 0s 7ms/step - loss: 0.5993 - accuracy: 0.9136 - val_loss: 0.5881 - val_accuracy: 0.8421\n",
      "Epoch 242/1000\n",
      "7/7 [==============================] - 0s 7ms/step - loss: 0.5976 - accuracy: 0.9136 - val_loss: 0.5866 - val_accuracy: 0.8421\n",
      "Epoch 243/1000\n",
      "7/7 [==============================] - 0s 8ms/step - loss: 0.5959 - accuracy: 0.9136 - val_loss: 0.5850 - val_accuracy: 0.8421\n",
      "Epoch 244/1000\n",
      "7/7 [==============================] - 0s 7ms/step - loss: 0.5944 - accuracy: 0.9136 - val_loss: 0.5834 - val_accuracy: 0.8421\n",
      "Epoch 245/1000\n",
      "7/7 [==============================] - 0s 7ms/step - loss: 0.5928 - accuracy: 0.9136 - val_loss: 0.5818 - val_accuracy: 0.8421\n",
      "Epoch 246/1000\n",
      "7/7 [==============================] - 0s 7ms/step - loss: 0.5912 - accuracy: 0.9136 - val_loss: 0.5804 - val_accuracy: 0.8632\n",
      "Epoch 247/1000\n",
      "7/7 [==============================] - 0s 8ms/step - loss: 0.5896 - accuracy: 0.9136 - val_loss: 0.5788 - val_accuracy: 0.8632\n",
      "Epoch 248/1000\n",
      "7/7 [==============================] - 0s 7ms/step - loss: 0.5882 - accuracy: 0.9136 - val_loss: 0.5774 - val_accuracy: 0.8632\n",
      "Epoch 249/1000\n",
      "7/7 [==============================] - 0s 7ms/step - loss: 0.5864 - accuracy: 0.9136 - val_loss: 0.5758 - val_accuracy: 0.8737\n",
      "Epoch 250/1000\n",
      "7/7 [==============================] - 0s 7ms/step - loss: 0.5849 - accuracy: 0.9136 - val_loss: 0.5743 - val_accuracy: 0.8737\n",
      "Epoch 251/1000\n",
      "7/7 [==============================] - 0s 7ms/step - loss: 0.5832 - accuracy: 0.9136 - val_loss: 0.5727 - val_accuracy: 0.8737\n",
      "Epoch 252/1000\n",
      "7/7 [==============================] - 0s 7ms/step - loss: 0.5816 - accuracy: 0.9136 - val_loss: 0.5712 - val_accuracy: 0.8842\n",
      "Epoch 253/1000\n",
      "7/7 [==============================] - 0s 7ms/step - loss: 0.5801 - accuracy: 0.9136 - val_loss: 0.5696 - val_accuracy: 0.8947\n",
      "Epoch 254/1000\n",
      "7/7 [==============================] - 0s 7ms/step - loss: 0.5785 - accuracy: 0.9227 - val_loss: 0.5681 - val_accuracy: 0.8947\n",
      "Epoch 255/1000\n",
      "7/7 [==============================] - 0s 7ms/step - loss: 0.5768 - accuracy: 0.9227 - val_loss: 0.5665 - val_accuracy: 0.8947\n",
      "Epoch 256/1000\n",
      "7/7 [==============================] - 0s 7ms/step - loss: 0.5752 - accuracy: 0.9273 - val_loss: 0.5649 - val_accuracy: 0.8947\n",
      "Epoch 257/1000\n",
      "7/7 [==============================] - 0s 7ms/step - loss: 0.5737 - accuracy: 0.9318 - val_loss: 0.5635 - val_accuracy: 0.8947\n",
      "Epoch 258/1000\n",
      "7/7 [==============================] - 0s 7ms/step - loss: 0.5720 - accuracy: 0.9318 - val_loss: 0.5620 - val_accuracy: 0.8947\n",
      "Epoch 259/1000\n",
      "7/7 [==============================] - 0s 7ms/step - loss: 0.5706 - accuracy: 0.9318 - val_loss: 0.5605 - val_accuracy: 0.9053\n",
      "Epoch 260/1000\n",
      "7/7 [==============================] - 0s 7ms/step - loss: 0.5690 - accuracy: 0.9364 - val_loss: 0.5589 - val_accuracy: 0.9053\n",
      "Epoch 261/1000\n",
      "7/7 [==============================] - 0s 8ms/step - loss: 0.5673 - accuracy: 0.9364 - val_loss: 0.5575 - val_accuracy: 0.9053\n",
      "Epoch 262/1000\n",
      "7/7 [==============================] - 0s 7ms/step - loss: 0.5658 - accuracy: 0.9364 - val_loss: 0.5559 - val_accuracy: 0.9053\n",
      "Epoch 263/1000\n",
      "7/7 [==============================] - 0s 8ms/step - loss: 0.5642 - accuracy: 0.9364 - val_loss: 0.5544 - val_accuracy: 0.9053\n",
      "Epoch 264/1000\n",
      "7/7 [==============================] - 0s 8ms/step - loss: 0.5627 - accuracy: 0.9364 - val_loss: 0.5528 - val_accuracy: 0.9053\n",
      "Epoch 265/1000\n",
      "7/7 [==============================] - 0s 7ms/step - loss: 0.5610 - accuracy: 0.9364 - val_loss: 0.5513 - val_accuracy: 0.9053\n",
      "Epoch 266/1000\n",
      "7/7 [==============================] - 0s 8ms/step - loss: 0.5594 - accuracy: 0.9364 - val_loss: 0.5498 - val_accuracy: 0.9158\n",
      "Epoch 267/1000\n",
      "7/7 [==============================] - 0s 7ms/step - loss: 0.5578 - accuracy: 0.9409 - val_loss: 0.5483 - val_accuracy: 0.9158\n",
      "Epoch 268/1000\n",
      "7/7 [==============================] - 0s 8ms/step - loss: 0.5562 - accuracy: 0.9409 - val_loss: 0.5467 - val_accuracy: 0.9158\n",
      "Epoch 269/1000\n",
      "7/7 [==============================] - 0s 7ms/step - loss: 0.5547 - accuracy: 0.9455 - val_loss: 0.5452 - val_accuracy: 0.9158\n",
      "Epoch 270/1000\n",
      "7/7 [==============================] - 0s 7ms/step - loss: 0.5531 - accuracy: 0.9455 - val_loss: 0.5437 - val_accuracy: 0.9158\n",
      "Epoch 271/1000\n",
      "7/7 [==============================] - 0s 10ms/step - loss: 0.5515 - accuracy: 0.9455 - val_loss: 0.5422 - val_accuracy: 0.9158\n",
      "Epoch 272/1000\n",
      "7/7 [==============================] - 0s 10ms/step - loss: 0.5500 - accuracy: 0.9455 - val_loss: 0.5407 - val_accuracy: 0.9158\n",
      "Epoch 273/1000\n",
      "7/7 [==============================] - 0s 7ms/step - loss: 0.5484 - accuracy: 0.9455 - val_loss: 0.5393 - val_accuracy: 0.9158\n",
      "Epoch 274/1000\n",
      "7/7 [==============================] - 0s 8ms/step - loss: 0.5469 - accuracy: 0.9455 - val_loss: 0.5378 - val_accuracy: 0.9158\n",
      "Epoch 275/1000\n",
      "7/7 [==============================] - 0s 7ms/step - loss: 0.5454 - accuracy: 0.9455 - val_loss: 0.5362 - val_accuracy: 0.9158\n",
      "Epoch 276/1000\n",
      "7/7 [==============================] - 0s 8ms/step - loss: 0.5439 - accuracy: 0.9455 - val_loss: 0.5348 - val_accuracy: 0.9158\n",
      "Epoch 277/1000\n",
      "7/7 [==============================] - 0s 12ms/step - loss: 0.5423 - accuracy: 0.9455 - val_loss: 0.5334 - val_accuracy: 0.9158\n",
      "Epoch 278/1000\n",
      "7/7 [==============================] - 0s 8ms/step - loss: 0.5410 - accuracy: 0.9455 - val_loss: 0.5321 - val_accuracy: 0.9158\n",
      "Epoch 279/1000\n",
      "7/7 [==============================] - 0s 7ms/step - loss: 0.5394 - accuracy: 0.9500 - val_loss: 0.5307 - val_accuracy: 0.9158\n",
      "Epoch 280/1000\n",
      "7/7 [==============================] - 0s 8ms/step - loss: 0.5380 - accuracy: 0.9500 - val_loss: 0.5292 - val_accuracy: 0.9158\n",
      "Epoch 281/1000\n",
      "7/7 [==============================] - 0s 8ms/step - loss: 0.5364 - accuracy: 0.9500 - val_loss: 0.5278 - val_accuracy: 0.9158\n",
      "Epoch 282/1000\n",
      "7/7 [==============================] - 0s 7ms/step - loss: 0.5349 - accuracy: 0.9500 - val_loss: 0.5264 - val_accuracy: 0.9158\n",
      "Epoch 283/1000\n",
      "7/7 [==============================] - 0s 7ms/step - loss: 0.5334 - accuracy: 0.9500 - val_loss: 0.5250 - val_accuracy: 0.9158\n",
      "Epoch 284/1000\n",
      "7/7 [==============================] - 0s 7ms/step - loss: 0.5319 - accuracy: 0.9455 - val_loss: 0.5235 - val_accuracy: 0.9158\n",
      "Epoch 285/1000\n",
      "7/7 [==============================] - 0s 7ms/step - loss: 0.5304 - accuracy: 0.9455 - val_loss: 0.5222 - val_accuracy: 0.9158\n",
      "Epoch 286/1000\n",
      "7/7 [==============================] - 0s 7ms/step - loss: 0.5290 - accuracy: 0.9455 - val_loss: 0.5207 - val_accuracy: 0.9263\n",
      "Epoch 287/1000\n",
      "7/7 [==============================] - 0s 7ms/step - loss: 0.5275 - accuracy: 0.9500 - val_loss: 0.5194 - val_accuracy: 0.9263\n",
      "Epoch 288/1000\n",
      "7/7 [==============================] - 0s 7ms/step - loss: 0.5259 - accuracy: 0.9500 - val_loss: 0.5179 - val_accuracy: 0.9263\n",
      "Epoch 289/1000\n",
      "7/7 [==============================] - 0s 8ms/step - loss: 0.5244 - accuracy: 0.9545 - val_loss: 0.5164 - val_accuracy: 0.9263\n"
     ]
    },
    {
     "name": "stdout",
     "output_type": "stream",
     "text": [
      "Epoch 290/1000\n",
      "7/7 [==============================] - 0s 7ms/step - loss: 0.5228 - accuracy: 0.9545 - val_loss: 0.5150 - val_accuracy: 0.9263\n",
      "Epoch 291/1000\n",
      "7/7 [==============================] - 0s 7ms/step - loss: 0.5214 - accuracy: 0.9545 - val_loss: 0.5135 - val_accuracy: 0.9263\n",
      "Epoch 292/1000\n",
      "7/7 [==============================] - 0s 7ms/step - loss: 0.5200 - accuracy: 0.9545 - val_loss: 0.5122 - val_accuracy: 0.9263\n",
      "Epoch 293/1000\n",
      "7/7 [==============================] - 0s 7ms/step - loss: 0.5185 - accuracy: 0.9591 - val_loss: 0.5108 - val_accuracy: 0.9263\n",
      "Epoch 294/1000\n",
      "7/7 [==============================] - 0s 7ms/step - loss: 0.5170 - accuracy: 0.9591 - val_loss: 0.5093 - val_accuracy: 0.9263\n",
      "Epoch 295/1000\n",
      "7/7 [==============================] - 0s 7ms/step - loss: 0.5156 - accuracy: 0.9591 - val_loss: 0.5079 - val_accuracy: 0.9263\n",
      "Epoch 296/1000\n",
      "7/7 [==============================] - 0s 7ms/step - loss: 0.5141 - accuracy: 0.9591 - val_loss: 0.5066 - val_accuracy: 0.9263\n",
      "Epoch 297/1000\n",
      "7/7 [==============================] - 0s 8ms/step - loss: 0.5127 - accuracy: 0.9591 - val_loss: 0.5052 - val_accuracy: 0.9263\n",
      "Epoch 298/1000\n",
      "7/7 [==============================] - 0s 7ms/step - loss: 0.5112 - accuracy: 0.9591 - val_loss: 0.5039 - val_accuracy: 0.9263\n",
      "Epoch 299/1000\n",
      "7/7 [==============================] - 0s 8ms/step - loss: 0.5098 - accuracy: 0.9545 - val_loss: 0.5027 - val_accuracy: 0.9263\n",
      "Epoch 300/1000\n",
      "7/7 [==============================] - 0s 8ms/step - loss: 0.5084 - accuracy: 0.9591 - val_loss: 0.5012 - val_accuracy: 0.9263\n",
      "Epoch 301/1000\n",
      "7/7 [==============================] - 0s 8ms/step - loss: 0.5069 - accuracy: 0.9591 - val_loss: 0.4999 - val_accuracy: 0.9263\n",
      "Epoch 302/1000\n",
      "7/7 [==============================] - 0s 8ms/step - loss: 0.5055 - accuracy: 0.9591 - val_loss: 0.4985 - val_accuracy: 0.9368\n",
      "Epoch 303/1000\n",
      "7/7 [==============================] - 0s 7ms/step - loss: 0.5041 - accuracy: 0.9636 - val_loss: 0.4972 - val_accuracy: 0.9368\n",
      "Epoch 304/1000\n",
      "7/7 [==============================] - 0s 7ms/step - loss: 0.5027 - accuracy: 0.9636 - val_loss: 0.4959 - val_accuracy: 0.9368\n",
      "Epoch 305/1000\n",
      "7/7 [==============================] - 0s 7ms/step - loss: 0.5013 - accuracy: 0.9636 - val_loss: 0.4945 - val_accuracy: 0.9368\n",
      "Epoch 306/1000\n",
      "7/7 [==============================] - 0s 7ms/step - loss: 0.4999 - accuracy: 0.9682 - val_loss: 0.4932 - val_accuracy: 0.9368\n",
      "Epoch 307/1000\n",
      "7/7 [==============================] - 0s 7ms/step - loss: 0.4985 - accuracy: 0.9682 - val_loss: 0.4919 - val_accuracy: 0.9368\n",
      "Epoch 308/1000\n",
      "7/7 [==============================] - 0s 7ms/step - loss: 0.4971 - accuracy: 0.9682 - val_loss: 0.4905 - val_accuracy: 0.9368\n",
      "Epoch 309/1000\n",
      "7/7 [==============================] - 0s 8ms/step - loss: 0.4956 - accuracy: 0.9682 - val_loss: 0.4892 - val_accuracy: 0.9368\n",
      "Epoch 310/1000\n",
      "7/7 [==============================] - 0s 7ms/step - loss: 0.4942 - accuracy: 0.9682 - val_loss: 0.4878 - val_accuracy: 0.9368\n",
      "Epoch 311/1000\n",
      "7/7 [==============================] - 0s 7ms/step - loss: 0.4927 - accuracy: 0.9682 - val_loss: 0.4865 - val_accuracy: 0.9368\n",
      "Epoch 312/1000\n",
      "7/7 [==============================] - 0s 7ms/step - loss: 0.4914 - accuracy: 0.9682 - val_loss: 0.4851 - val_accuracy: 0.9368\n",
      "Epoch 313/1000\n",
      "7/7 [==============================] - 0s 7ms/step - loss: 0.4899 - accuracy: 0.9682 - val_loss: 0.4839 - val_accuracy: 0.9368\n",
      "Epoch 314/1000\n",
      "7/7 [==============================] - 0s 7ms/step - loss: 0.4886 - accuracy: 0.9727 - val_loss: 0.4825 - val_accuracy: 0.9368\n",
      "Epoch 315/1000\n",
      "7/7 [==============================] - 0s 7ms/step - loss: 0.4872 - accuracy: 0.9727 - val_loss: 0.4814 - val_accuracy: 0.9368\n",
      "Epoch 316/1000\n",
      "7/7 [==============================] - 0s 7ms/step - loss: 0.4858 - accuracy: 0.9727 - val_loss: 0.4800 - val_accuracy: 0.9368\n",
      "Epoch 317/1000\n",
      "7/7 [==============================] - 0s 8ms/step - loss: 0.4845 - accuracy: 0.9727 - val_loss: 0.4787 - val_accuracy: 0.9368\n",
      "Epoch 318/1000\n",
      "7/7 [==============================] - 0s 7ms/step - loss: 0.4830 - accuracy: 0.9727 - val_loss: 0.4773 - val_accuracy: 0.9368\n",
      "Epoch 319/1000\n",
      "7/7 [==============================] - 0s 7ms/step - loss: 0.4816 - accuracy: 0.9727 - val_loss: 0.4760 - val_accuracy: 0.9368\n",
      "Epoch 320/1000\n",
      "7/7 [==============================] - 0s 8ms/step - loss: 0.4802 - accuracy: 0.9727 - val_loss: 0.4746 - val_accuracy: 0.9368\n",
      "Epoch 321/1000\n",
      "7/7 [==============================] - 0s 8ms/step - loss: 0.4788 - accuracy: 0.9727 - val_loss: 0.4734 - val_accuracy: 0.9368\n",
      "Epoch 322/1000\n",
      "7/7 [==============================] - 0s 8ms/step - loss: 0.4774 - accuracy: 0.9727 - val_loss: 0.4719 - val_accuracy: 0.9368\n",
      "Epoch 323/1000\n",
      "7/7 [==============================] - 0s 7ms/step - loss: 0.4762 - accuracy: 0.9727 - val_loss: 0.4708 - val_accuracy: 0.9368\n",
      "Epoch 324/1000\n",
      "7/7 [==============================] - 0s 7ms/step - loss: 0.4747 - accuracy: 0.9727 - val_loss: 0.4695 - val_accuracy: 0.9368\n",
      "Epoch 325/1000\n",
      "7/7 [==============================] - 0s 8ms/step - loss: 0.4734 - accuracy: 0.9727 - val_loss: 0.4683 - val_accuracy: 0.9368\n",
      "Epoch 326/1000\n",
      "7/7 [==============================] - 0s 8ms/step - loss: 0.4721 - accuracy: 0.9727 - val_loss: 0.4670 - val_accuracy: 0.9368\n",
      "Epoch 327/1000\n",
      "7/7 [==============================] - 0s 7ms/step - loss: 0.4707 - accuracy: 0.9727 - val_loss: 0.4657 - val_accuracy: 0.9368\n",
      "Epoch 328/1000\n",
      "7/7 [==============================] - 0s 7ms/step - loss: 0.4694 - accuracy: 0.9727 - val_loss: 0.4646 - val_accuracy: 0.9368\n",
      "Epoch 329/1000\n",
      "7/7 [==============================] - 0s 7ms/step - loss: 0.4680 - accuracy: 0.9727 - val_loss: 0.4632 - val_accuracy: 0.9368\n",
      "Epoch 330/1000\n",
      "7/7 [==============================] - 0s 7ms/step - loss: 0.4667 - accuracy: 0.9727 - val_loss: 0.4620 - val_accuracy: 0.9368\n",
      "Epoch 331/1000\n",
      "7/7 [==============================] - 0s 7ms/step - loss: 0.4653 - accuracy: 0.9727 - val_loss: 0.4606 - val_accuracy: 0.9368\n",
      "Epoch 332/1000\n",
      "7/7 [==============================] - 0s 7ms/step - loss: 0.4640 - accuracy: 0.9727 - val_loss: 0.4595 - val_accuracy: 0.9368\n",
      "Epoch 333/1000\n",
      "7/7 [==============================] - 0s 8ms/step - loss: 0.4628 - accuracy: 0.9727 - val_loss: 0.4582 - val_accuracy: 0.9368\n",
      "Epoch 334/1000\n",
      "7/7 [==============================] - 0s 8ms/step - loss: 0.4615 - accuracy: 0.9727 - val_loss: 0.4571 - val_accuracy: 0.9368\n",
      "Epoch 335/1000\n",
      "7/7 [==============================] - 0s 11ms/step - loss: 0.4602 - accuracy: 0.9727 - val_loss: 0.4558 - val_accuracy: 0.9368\n",
      "Epoch 336/1000\n",
      "7/7 [==============================] - 0s 7ms/step - loss: 0.4589 - accuracy: 0.9727 - val_loss: 0.4547 - val_accuracy: 0.9368\n",
      "Epoch 337/1000\n",
      "7/7 [==============================] - 0s 7ms/step - loss: 0.4576 - accuracy: 0.9727 - val_loss: 0.4533 - val_accuracy: 0.9368\n",
      "Epoch 338/1000\n",
      "7/7 [==============================] - 0s 7ms/step - loss: 0.4563 - accuracy: 0.9727 - val_loss: 0.4522 - val_accuracy: 0.9368\n",
      "Epoch 339/1000\n",
      "7/7 [==============================] - 0s 7ms/step - loss: 0.4549 - accuracy: 0.9727 - val_loss: 0.4509 - val_accuracy: 0.9368\n",
      "Epoch 340/1000\n",
      "7/7 [==============================] - 0s 6ms/step - loss: 0.4536 - accuracy: 0.9727 - val_loss: 0.4497 - val_accuracy: 0.9368\n",
      "Epoch 341/1000\n",
      "7/7 [==============================] - 0s 7ms/step - loss: 0.4523 - accuracy: 0.9727 - val_loss: 0.4485 - val_accuracy: 0.9368\n",
      "Epoch 342/1000\n",
      "7/7 [==============================] - 0s 7ms/step - loss: 0.4511 - accuracy: 0.9727 - val_loss: 0.4473 - val_accuracy: 0.9368\n",
      "Epoch 343/1000\n",
      "7/7 [==============================] - 0s 7ms/step - loss: 0.4499 - accuracy: 0.9727 - val_loss: 0.4462 - val_accuracy: 0.9368\n",
      "Epoch 344/1000\n",
      "7/7 [==============================] - 0s 7ms/step - loss: 0.4486 - accuracy: 0.9727 - val_loss: 0.4449 - val_accuracy: 0.9368\n",
      "Epoch 345/1000\n",
      "7/7 [==============================] - 0s 7ms/step - loss: 0.4473 - accuracy: 0.9727 - val_loss: 0.4438 - val_accuracy: 0.9368\n",
      "Epoch 346/1000\n",
      "7/7 [==============================] - 0s 7ms/step - loss: 0.4461 - accuracy: 0.9727 - val_loss: 0.4426 - val_accuracy: 0.9368\n",
      "Epoch 347/1000\n",
      "7/7 [==============================] - 0s 7ms/step - loss: 0.4448 - accuracy: 0.9727 - val_loss: 0.4414 - val_accuracy: 0.9368\n"
     ]
    },
    {
     "name": "stdout",
     "output_type": "stream",
     "text": [
      "Epoch 348/1000\n",
      "7/7 [==============================] - 0s 6ms/step - loss: 0.4436 - accuracy: 0.9727 - val_loss: 0.4403 - val_accuracy: 0.9368\n",
      "Epoch 349/1000\n",
      "7/7 [==============================] - 0s 7ms/step - loss: 0.4424 - accuracy: 0.9727 - val_loss: 0.4392 - val_accuracy: 0.9368\n",
      "Epoch 350/1000\n",
      "7/7 [==============================] - 0s 7ms/step - loss: 0.4411 - accuracy: 0.9727 - val_loss: 0.4379 - val_accuracy: 0.9368\n",
      "Epoch 351/1000\n",
      "7/7 [==============================] - 0s 7ms/step - loss: 0.4398 - accuracy: 0.9727 - val_loss: 0.4368 - val_accuracy: 0.9368\n",
      "Epoch 352/1000\n",
      "7/7 [==============================] - 0s 7ms/step - loss: 0.4387 - accuracy: 0.9727 - val_loss: 0.4357 - val_accuracy: 0.9368\n",
      "Epoch 353/1000\n",
      "7/7 [==============================] - 0s 7ms/step - loss: 0.4373 - accuracy: 0.9727 - val_loss: 0.4345 - val_accuracy: 0.9368\n",
      "Epoch 354/1000\n",
      "7/7 [==============================] - 0s 7ms/step - loss: 0.4361 - accuracy: 0.9727 - val_loss: 0.4333 - val_accuracy: 0.9368\n",
      "Epoch 355/1000\n",
      "7/7 [==============================] - 0s 6ms/step - loss: 0.4349 - accuracy: 0.9727 - val_loss: 0.4321 - val_accuracy: 0.9368\n",
      "Epoch 356/1000\n",
      "7/7 [==============================] - 0s 7ms/step - loss: 0.4336 - accuracy: 0.9727 - val_loss: 0.4309 - val_accuracy: 0.9368\n",
      "Epoch 357/1000\n",
      "7/7 [==============================] - 0s 7ms/step - loss: 0.4324 - accuracy: 0.9727 - val_loss: 0.4298 - val_accuracy: 0.9368\n",
      "Epoch 358/1000\n",
      "7/7 [==============================] - 0s 7ms/step - loss: 0.4312 - accuracy: 0.9727 - val_loss: 0.4286 - val_accuracy: 0.9368\n",
      "Epoch 359/1000\n",
      "7/7 [==============================] - 0s 7ms/step - loss: 0.4299 - accuracy: 0.9727 - val_loss: 0.4275 - val_accuracy: 0.9368\n",
      "Epoch 360/1000\n",
      "7/7 [==============================] - 0s 9ms/step - loss: 0.4287 - accuracy: 0.9727 - val_loss: 0.4263 - val_accuracy: 0.9368\n",
      "Epoch 361/1000\n",
      "7/7 [==============================] - 0s 10ms/step - loss: 0.4276 - accuracy: 0.9727 - val_loss: 0.4254 - val_accuracy: 0.9368\n",
      "Epoch 362/1000\n",
      "7/7 [==============================] - 0s 6ms/step - loss: 0.4264 - accuracy: 0.9727 - val_loss: 0.4241 - val_accuracy: 0.9368\n",
      "Epoch 363/1000\n",
      "7/7 [==============================] - 0s 7ms/step - loss: 0.4251 - accuracy: 0.9727 - val_loss: 0.4232 - val_accuracy: 0.9368\n",
      "Epoch 364/1000\n",
      "7/7 [==============================] - 0s 6ms/step - loss: 0.4239 - accuracy: 0.9727 - val_loss: 0.4220 - val_accuracy: 0.9368\n",
      "Epoch 365/1000\n",
      "7/7 [==============================] - 0s 7ms/step - loss: 0.4228 - accuracy: 0.9727 - val_loss: 0.4208 - val_accuracy: 0.9368\n",
      "Epoch 366/1000\n",
      "7/7 [==============================] - 0s 7ms/step - loss: 0.4215 - accuracy: 0.9727 - val_loss: 0.4196 - val_accuracy: 0.9368\n",
      "Epoch 367/1000\n",
      "7/7 [==============================] - 0s 7ms/step - loss: 0.4204 - accuracy: 0.9727 - val_loss: 0.4187 - val_accuracy: 0.9368\n",
      "Epoch 368/1000\n",
      "7/7 [==============================] - 0s 7ms/step - loss: 0.4194 - accuracy: 0.9727 - val_loss: 0.4177 - val_accuracy: 0.9368\n",
      "Epoch 369/1000\n",
      "7/7 [==============================] - 0s 7ms/step - loss: 0.4181 - accuracy: 0.9727 - val_loss: 0.4165 - val_accuracy: 0.9368\n",
      "Epoch 370/1000\n",
      "7/7 [==============================] - 0s 7ms/step - loss: 0.4170 - accuracy: 0.9727 - val_loss: 0.4155 - val_accuracy: 0.9368\n",
      "Epoch 371/1000\n",
      "7/7 [==============================] - 0s 7ms/step - loss: 0.4158 - accuracy: 0.9727 - val_loss: 0.4144 - val_accuracy: 0.9474\n",
      "Epoch 372/1000\n",
      "7/7 [==============================] - 0s 7ms/step - loss: 0.4147 - accuracy: 0.9727 - val_loss: 0.4133 - val_accuracy: 0.9474\n",
      "Epoch 373/1000\n",
      "7/7 [==============================] - 0s 7ms/step - loss: 0.4135 - accuracy: 0.9727 - val_loss: 0.4122 - val_accuracy: 0.9474\n",
      "Epoch 374/1000\n",
      "7/7 [==============================] - 0s 6ms/step - loss: 0.4124 - accuracy: 0.9727 - val_loss: 0.4111 - val_accuracy: 0.9474\n",
      "Epoch 375/1000\n",
      "7/7 [==============================] - 0s 7ms/step - loss: 0.4112 - accuracy: 0.9727 - val_loss: 0.4100 - val_accuracy: 0.9474\n",
      "Epoch 376/1000\n",
      "7/7 [==============================] - 0s 7ms/step - loss: 0.4101 - accuracy: 0.9727 - val_loss: 0.4090 - val_accuracy: 0.9474\n",
      "Epoch 377/1000\n",
      "7/7 [==============================] - 0s 7ms/step - loss: 0.4090 - accuracy: 0.9727 - val_loss: 0.4081 - val_accuracy: 0.9474\n",
      "Epoch 378/1000\n",
      "7/7 [==============================] - 0s 7ms/step - loss: 0.4079 - accuracy: 0.9727 - val_loss: 0.4069 - val_accuracy: 0.9474\n",
      "Epoch 379/1000\n",
      "7/7 [==============================] - 0s 8ms/step - loss: 0.4067 - accuracy: 0.9727 - val_loss: 0.4060 - val_accuracy: 0.9474\n",
      "Epoch 380/1000\n",
      "7/7 [==============================] - 0s 9ms/step - loss: 0.4056 - accuracy: 0.9727 - val_loss: 0.4048 - val_accuracy: 0.9474\n",
      "Epoch 381/1000\n",
      "7/7 [==============================] - 0s 8ms/step - loss: 0.4045 - accuracy: 0.9727 - val_loss: 0.4038 - val_accuracy: 0.9474\n",
      "Epoch 382/1000\n",
      "7/7 [==============================] - 0s 7ms/step - loss: 0.4034 - accuracy: 0.9727 - val_loss: 0.4028 - val_accuracy: 0.9474\n",
      "Epoch 383/1000\n",
      "7/7 [==============================] - 0s 8ms/step - loss: 0.4023 - accuracy: 0.9727 - val_loss: 0.4017 - val_accuracy: 0.9474\n",
      "Epoch 384/1000\n",
      "7/7 [==============================] - 0s 7ms/step - loss: 0.4012 - accuracy: 0.9727 - val_loss: 0.4008 - val_accuracy: 0.9474\n",
      "Epoch 385/1000\n",
      "7/7 [==============================] - 0s 8ms/step - loss: 0.4000 - accuracy: 0.9727 - val_loss: 0.3997 - val_accuracy: 0.9474\n",
      "Epoch 386/1000\n",
      "7/7 [==============================] - 0s 7ms/step - loss: 0.3990 - accuracy: 0.9727 - val_loss: 0.3988 - val_accuracy: 0.9474\n",
      "Epoch 387/1000\n",
      "7/7 [==============================] - 0s 7ms/step - loss: 0.3979 - accuracy: 0.9727 - val_loss: 0.3977 - val_accuracy: 0.9474\n",
      "Epoch 388/1000\n",
      "7/7 [==============================] - 0s 7ms/step - loss: 0.3968 - accuracy: 0.9727 - val_loss: 0.3967 - val_accuracy: 0.9579\n",
      "Epoch 389/1000\n",
      "7/7 [==============================] - 0s 8ms/step - loss: 0.3957 - accuracy: 0.9727 - val_loss: 0.3956 - val_accuracy: 0.9579\n",
      "Epoch 390/1000\n",
      "7/7 [==============================] - 0s 7ms/step - loss: 0.3946 - accuracy: 0.9727 - val_loss: 0.3946 - val_accuracy: 0.9579\n",
      "Epoch 391/1000\n",
      "7/7 [==============================] - 0s 7ms/step - loss: 0.3935 - accuracy: 0.9727 - val_loss: 0.3935 - val_accuracy: 0.9579\n",
      "Epoch 392/1000\n",
      "7/7 [==============================] - 0s 7ms/step - loss: 0.3924 - accuracy: 0.9727 - val_loss: 0.3925 - val_accuracy: 0.9579\n",
      "Epoch 393/1000\n",
      "7/7 [==============================] - 0s 8ms/step - loss: 0.3912 - accuracy: 0.9727 - val_loss: 0.3915 - val_accuracy: 0.9579\n",
      "Epoch 394/1000\n",
      "7/7 [==============================] - 0s 7ms/step - loss: 0.3901 - accuracy: 0.9727 - val_loss: 0.3905 - val_accuracy: 0.9579\n",
      "Epoch 395/1000\n",
      "7/7 [==============================] - 0s 10ms/step - loss: 0.3891 - accuracy: 0.9727 - val_loss: 0.3895 - val_accuracy: 0.9579\n",
      "Epoch 396/1000\n",
      "7/7 [==============================] - 0s 9ms/step - loss: 0.3880 - accuracy: 0.9727 - val_loss: 0.3885 - val_accuracy: 0.9579\n",
      "Epoch 397/1000\n",
      "7/7 [==============================] - 0s 7ms/step - loss: 0.3869 - accuracy: 0.9727 - val_loss: 0.3874 - val_accuracy: 0.9579\n",
      "Epoch 398/1000\n",
      "7/7 [==============================] - 0s 8ms/step - loss: 0.3859 - accuracy: 0.9727 - val_loss: 0.3865 - val_accuracy: 0.9579\n",
      "Epoch 399/1000\n",
      "7/7 [==============================] - 0s 7ms/step - loss: 0.3848 - accuracy: 0.9727 - val_loss: 0.3855 - val_accuracy: 0.9579\n",
      "Epoch 400/1000\n",
      "7/7 [==============================] - 0s 7ms/step - loss: 0.3838 - accuracy: 0.9727 - val_loss: 0.3846 - val_accuracy: 0.9684\n",
      "Epoch 401/1000\n",
      "7/7 [==============================] - 0s 7ms/step - loss: 0.3828 - accuracy: 0.9727 - val_loss: 0.3836 - val_accuracy: 0.9684\n",
      "Epoch 402/1000\n",
      "7/7 [==============================] - 0s 7ms/step - loss: 0.3817 - accuracy: 0.9727 - val_loss: 0.3827 - val_accuracy: 0.9684\n",
      "Epoch 403/1000\n",
      "7/7 [==============================] - 0s 7ms/step - loss: 0.3807 - accuracy: 0.9727 - val_loss: 0.3817 - val_accuracy: 0.9684\n",
      "Epoch 404/1000\n",
      "7/7 [==============================] - 0s 7ms/step - loss: 0.3797 - accuracy: 0.9727 - val_loss: 0.3808 - val_accuracy: 0.9684\n",
      "Epoch 405/1000\n",
      "7/7 [==============================] - 0s 7ms/step - loss: 0.3787 - accuracy: 0.9727 - val_loss: 0.3799 - val_accuracy: 0.9684\n"
     ]
    },
    {
     "name": "stdout",
     "output_type": "stream",
     "text": [
      "Epoch 406/1000\n",
      "7/7 [==============================] - 0s 7ms/step - loss: 0.3777 - accuracy: 0.9727 - val_loss: 0.3789 - val_accuracy: 0.9684\n",
      "Epoch 407/1000\n",
      "7/7 [==============================] - 0s 7ms/step - loss: 0.3767 - accuracy: 0.9727 - val_loss: 0.3780 - val_accuracy: 0.9684\n",
      "Epoch 408/1000\n",
      "7/7 [==============================] - 0s 7ms/step - loss: 0.3758 - accuracy: 0.9727 - val_loss: 0.3771 - val_accuracy: 0.9684\n",
      "Epoch 409/1000\n",
      "7/7 [==============================] - 0s 7ms/step - loss: 0.3747 - accuracy: 0.9727 - val_loss: 0.3762 - val_accuracy: 0.9789\n",
      "Epoch 410/1000\n",
      "7/7 [==============================] - 0s 7ms/step - loss: 0.3738 - accuracy: 0.9727 - val_loss: 0.3753 - val_accuracy: 0.9789\n",
      "Epoch 411/1000\n",
      "7/7 [==============================] - 0s 8ms/step - loss: 0.3728 - accuracy: 0.9727 - val_loss: 0.3744 - val_accuracy: 0.9789\n",
      "Epoch 412/1000\n",
      "7/7 [==============================] - 0s 7ms/step - loss: 0.3719 - accuracy: 0.9727 - val_loss: 0.3736 - val_accuracy: 0.9789\n",
      "Epoch 413/1000\n",
      "7/7 [==============================] - 0s 7ms/step - loss: 0.3709 - accuracy: 0.9773 - val_loss: 0.3727 - val_accuracy: 0.9684\n",
      "Epoch 414/1000\n",
      "7/7 [==============================] - 0s 7ms/step - loss: 0.3699 - accuracy: 0.9727 - val_loss: 0.3718 - val_accuracy: 0.9789\n",
      "Epoch 415/1000\n",
      "7/7 [==============================] - 0s 7ms/step - loss: 0.3690 - accuracy: 0.9727 - val_loss: 0.3709 - val_accuracy: 0.9789\n",
      "Epoch 416/1000\n",
      "7/7 [==============================] - 0s 7ms/step - loss: 0.3679 - accuracy: 0.9727 - val_loss: 0.3700 - val_accuracy: 0.9789\n",
      "Epoch 417/1000\n",
      "7/7 [==============================] - 0s 7ms/step - loss: 0.3670 - accuracy: 0.9773 - val_loss: 0.3691 - val_accuracy: 0.9789\n",
      "Epoch 418/1000\n",
      "7/7 [==============================] - 0s 8ms/step - loss: 0.3660 - accuracy: 0.9773 - val_loss: 0.3681 - val_accuracy: 0.9789\n",
      "Epoch 419/1000\n",
      "7/7 [==============================] - 0s 7ms/step - loss: 0.3650 - accuracy: 0.9773 - val_loss: 0.3673 - val_accuracy: 0.9789\n",
      "Epoch 420/1000\n",
      "7/7 [==============================] - 0s 7ms/step - loss: 0.3641 - accuracy: 0.9773 - val_loss: 0.3663 - val_accuracy: 0.9789\n",
      "Epoch 421/1000\n",
      "7/7 [==============================] - 0s 7ms/step - loss: 0.3630 - accuracy: 0.9773 - val_loss: 0.3655 - val_accuracy: 0.9789\n",
      "Epoch 422/1000\n",
      "7/7 [==============================] - 0s 7ms/step - loss: 0.3621 - accuracy: 0.9773 - val_loss: 0.3645 - val_accuracy: 0.9789\n",
      "Epoch 423/1000\n",
      "7/7 [==============================] - 0s 7ms/step - loss: 0.3611 - accuracy: 0.9773 - val_loss: 0.3637 - val_accuracy: 0.9789\n",
      "Epoch 424/1000\n",
      "7/7 [==============================] - 0s 7ms/step - loss: 0.3601 - accuracy: 0.9773 - val_loss: 0.3628 - val_accuracy: 0.9789\n",
      "Epoch 425/1000\n",
      "7/7 [==============================] - 0s 7ms/step - loss: 0.3593 - accuracy: 0.9773 - val_loss: 0.3619 - val_accuracy: 0.9789\n",
      "Epoch 426/1000\n",
      "7/7 [==============================] - 0s 7ms/step - loss: 0.3583 - accuracy: 0.9727 - val_loss: 0.3611 - val_accuracy: 0.9789\n",
      "Epoch 427/1000\n",
      "7/7 [==============================] - 0s 7ms/step - loss: 0.3574 - accuracy: 0.9773 - val_loss: 0.3601 - val_accuracy: 0.9789\n",
      "Epoch 428/1000\n",
      "7/7 [==============================] - 0s 7ms/step - loss: 0.3564 - accuracy: 0.9773 - val_loss: 0.3593 - val_accuracy: 0.9789\n",
      "Epoch 429/1000\n",
      "7/7 [==============================] - 0s 7ms/step - loss: 0.3555 - accuracy: 0.9773 - val_loss: 0.3585 - val_accuracy: 0.9789\n",
      "Epoch 430/1000\n",
      "7/7 [==============================] - 0s 8ms/step - loss: 0.3545 - accuracy: 0.9773 - val_loss: 0.3576 - val_accuracy: 0.9789\n",
      "Epoch 431/1000\n",
      "7/7 [==============================] - 0s 8ms/step - loss: 0.3537 - accuracy: 0.9773 - val_loss: 0.3568 - val_accuracy: 0.9789\n",
      "Epoch 432/1000\n",
      "7/7 [==============================] - 0s 7ms/step - loss: 0.3527 - accuracy: 0.9773 - val_loss: 0.3559 - val_accuracy: 0.9789\n",
      "Epoch 433/1000\n",
      "7/7 [==============================] - 0s 7ms/step - loss: 0.3518 - accuracy: 0.9773 - val_loss: 0.3551 - val_accuracy: 0.9789\n",
      "Epoch 434/1000\n",
      "7/7 [==============================] - 0s 7ms/step - loss: 0.3508 - accuracy: 0.9773 - val_loss: 0.3541 - val_accuracy: 0.9789\n",
      "Epoch 435/1000\n",
      "7/7 [==============================] - 0s 7ms/step - loss: 0.3499 - accuracy: 0.9773 - val_loss: 0.3533 - val_accuracy: 0.9789\n",
      "Epoch 436/1000\n",
      "7/7 [==============================] - 0s 9ms/step - loss: 0.3490 - accuracy: 0.9773 - val_loss: 0.3524 - val_accuracy: 0.9789\n",
      "Epoch 437/1000\n",
      "7/7 [==============================] - 0s 10ms/step - loss: 0.3480 - accuracy: 0.9773 - val_loss: 0.3516 - val_accuracy: 0.9789\n",
      "Epoch 438/1000\n",
      "7/7 [==============================] - 0s 9ms/step - loss: 0.3471 - accuracy: 0.9773 - val_loss: 0.3508 - val_accuracy: 0.9789\n",
      "Epoch 439/1000\n",
      "7/7 [==============================] - 0s 9ms/step - loss: 0.3462 - accuracy: 0.9818 - val_loss: 0.3499 - val_accuracy: 0.9789\n",
      "Epoch 440/1000\n",
      "7/7 [==============================] - 0s 8ms/step - loss: 0.3453 - accuracy: 0.9773 - val_loss: 0.3492 - val_accuracy: 0.9789\n",
      "Epoch 441/1000\n",
      "7/7 [==============================] - 0s 8ms/step - loss: 0.3445 - accuracy: 0.9773 - val_loss: 0.3483 - val_accuracy: 0.9789\n",
      "Epoch 442/1000\n",
      "7/7 [==============================] - 0s 7ms/step - loss: 0.3435 - accuracy: 0.9773 - val_loss: 0.3474 - val_accuracy: 0.9789\n",
      "Epoch 443/1000\n",
      "7/7 [==============================] - 0s 7ms/step - loss: 0.3426 - accuracy: 0.9773 - val_loss: 0.3466 - val_accuracy: 0.9789\n",
      "Epoch 444/1000\n",
      "7/7 [==============================] - 0s 7ms/step - loss: 0.3417 - accuracy: 0.9773 - val_loss: 0.3458 - val_accuracy: 0.9789\n",
      "Epoch 445/1000\n",
      "7/7 [==============================] - 0s 7ms/step - loss: 0.3407 - accuracy: 0.9773 - val_loss: 0.3449 - val_accuracy: 0.9789\n",
      "Epoch 446/1000\n",
      "7/7 [==============================] - 0s 7ms/step - loss: 0.3399 - accuracy: 0.9773 - val_loss: 0.3440 - val_accuracy: 0.9789\n",
      "Epoch 447/1000\n",
      "7/7 [==============================] - 0s 7ms/step - loss: 0.3390 - accuracy: 0.9773 - val_loss: 0.3432 - val_accuracy: 0.9789\n",
      "Epoch 448/1000\n",
      "7/7 [==============================] - 0s 9ms/step - loss: 0.3381 - accuracy: 0.9773 - val_loss: 0.3425 - val_accuracy: 0.9789\n",
      "Epoch 449/1000\n",
      "7/7 [==============================] - 0s 9ms/step - loss: 0.3373 - accuracy: 0.9773 - val_loss: 0.3417 - val_accuracy: 0.9789\n",
      "Epoch 450/1000\n",
      "7/7 [==============================] - 0s 7ms/step - loss: 0.3364 - accuracy: 0.9773 - val_loss: 0.3409 - val_accuracy: 0.9789\n",
      "Epoch 451/1000\n",
      "7/7 [==============================] - 0s 7ms/step - loss: 0.3355 - accuracy: 0.9818 - val_loss: 0.3402 - val_accuracy: 0.9789\n",
      "Epoch 452/1000\n",
      "7/7 [==============================] - 0s 7ms/step - loss: 0.3346 - accuracy: 0.9773 - val_loss: 0.3392 - val_accuracy: 0.9789\n",
      "Epoch 453/1000\n",
      "7/7 [==============================] - 0s 7ms/step - loss: 0.3338 - accuracy: 0.9818 - val_loss: 0.3385 - val_accuracy: 0.9789\n",
      "Epoch 454/1000\n",
      "7/7 [==============================] - 0s 8ms/step - loss: 0.3329 - accuracy: 0.9818 - val_loss: 0.3376 - val_accuracy: 0.9789\n",
      "Epoch 455/1000\n",
      "7/7 [==============================] - 0s 10ms/step - loss: 0.3320 - accuracy: 0.9864 - val_loss: 0.3369 - val_accuracy: 0.9789\n",
      "Epoch 456/1000\n",
      "7/7 [==============================] - 0s 7ms/step - loss: 0.3311 - accuracy: 0.9864 - val_loss: 0.3361 - val_accuracy: 0.9789\n",
      "Epoch 457/1000\n",
      "7/7 [==============================] - 0s 11ms/step - loss: 0.3302 - accuracy: 0.9864 - val_loss: 0.3353 - val_accuracy: 0.9789\n",
      "Epoch 458/1000\n",
      "7/7 [==============================] - 0s 9ms/step - loss: 0.3295 - accuracy: 0.9864 - val_loss: 0.3345 - val_accuracy: 0.9789\n",
      "Epoch 459/1000\n",
      "7/7 [==============================] - 0s 12ms/step - loss: 0.3286 - accuracy: 0.9818 - val_loss: 0.3338 - val_accuracy: 0.9789\n",
      "Epoch 460/1000\n",
      "7/7 [==============================] - 0s 7ms/step - loss: 0.3278 - accuracy: 0.9864 - val_loss: 0.3330 - val_accuracy: 0.9789\n",
      "Epoch 461/1000\n",
      "7/7 [==============================] - 0s 7ms/step - loss: 0.3270 - accuracy: 0.9864 - val_loss: 0.3323 - val_accuracy: 0.9789\n",
      "Epoch 462/1000\n",
      "7/7 [==============================] - 0s 7ms/step - loss: 0.3261 - accuracy: 0.9864 - val_loss: 0.3315 - val_accuracy: 0.9789\n",
      "Epoch 463/1000\n",
      "7/7 [==============================] - 0s 7ms/step - loss: 0.3252 - accuracy: 0.9864 - val_loss: 0.3307 - val_accuracy: 0.9789\n",
      "Epoch 464/1000\n",
      "7/7 [==============================] - 0s 7ms/step - loss: 0.3244 - accuracy: 0.9864 - val_loss: 0.3300 - val_accuracy: 0.9789\n",
      "Epoch 465/1000\n",
      "7/7 [==============================] - 0s 7ms/step - loss: 0.3236 - accuracy: 0.9818 - val_loss: 0.3291 - val_accuracy: 0.9789\n",
      "Epoch 466/1000\n",
      "7/7 [==============================] - 0s 7ms/step - loss: 0.3228 - accuracy: 0.9818 - val_loss: 0.3285 - val_accuracy: 0.9789\n",
      "Epoch 467/1000\n",
      "7/7 [==============================] - 0s 7ms/step - loss: 0.3219 - accuracy: 0.9864 - val_loss: 0.3277 - val_accuracy: 0.9789\n",
      "Epoch 468/1000\n",
      "7/7 [==============================] - 0s 7ms/step - loss: 0.3211 - accuracy: 0.9864 - val_loss: 0.3270 - val_accuracy: 0.9789\n",
      "Epoch 469/1000\n",
      "7/7 [==============================] - 0s 7ms/step - loss: 0.3203 - accuracy: 0.9864 - val_loss: 0.3262 - val_accuracy: 0.9789\n",
      "Epoch 470/1000\n",
      "7/7 [==============================] - 0s 7ms/step - loss: 0.3196 - accuracy: 0.9864 - val_loss: 0.3255 - val_accuracy: 0.9789\n",
      "Epoch 471/1000\n",
      "7/7 [==============================] - 0s 7ms/step - loss: 0.3187 - accuracy: 0.9864 - val_loss: 0.3248 - val_accuracy: 0.9789\n",
      "Epoch 472/1000\n",
      "7/7 [==============================] - 0s 6ms/step - loss: 0.3179 - accuracy: 0.9864 - val_loss: 0.3240 - val_accuracy: 0.9789\n",
      "Epoch 473/1000\n",
      "7/7 [==============================] - 0s 7ms/step - loss: 0.3172 - accuracy: 0.9864 - val_loss: 0.3233 - val_accuracy: 0.9789\n",
      "Epoch 474/1000\n",
      "7/7 [==============================] - 0s 7ms/step - loss: 0.3163 - accuracy: 0.9864 - val_loss: 0.3227 - val_accuracy: 0.9789\n",
      "Epoch 475/1000\n",
      "7/7 [==============================] - 0s 7ms/step - loss: 0.3155 - accuracy: 0.9864 - val_loss: 0.3219 - val_accuracy: 0.9789\n",
      "Epoch 476/1000\n",
      "7/7 [==============================] - 0s 7ms/step - loss: 0.3147 - accuracy: 0.9864 - val_loss: 0.3211 - val_accuracy: 0.9789\n",
      "Epoch 477/1000\n",
      "7/7 [==============================] - 0s 6ms/step - loss: 0.3139 - accuracy: 0.9864 - val_loss: 0.3204 - val_accuracy: 0.9789\n",
      "Epoch 478/1000\n",
      "7/7 [==============================] - 0s 7ms/step - loss: 0.3131 - accuracy: 0.9864 - val_loss: 0.3197 - val_accuracy: 0.9789\n",
      "Epoch 479/1000\n",
      "7/7 [==============================] - 0s 6ms/step - loss: 0.3122 - accuracy: 0.9864 - val_loss: 0.3188 - val_accuracy: 0.9789\n",
      "Epoch 480/1000\n",
      "7/7 [==============================] - 0s 7ms/step - loss: 0.3114 - accuracy: 0.9864 - val_loss: 0.3181 - val_accuracy: 0.9789\n",
      "Epoch 481/1000\n",
      "7/7 [==============================] - 0s 7ms/step - loss: 0.3106 - accuracy: 0.9864 - val_loss: 0.3174 - val_accuracy: 0.9789\n",
      "Epoch 482/1000\n",
      "7/7 [==============================] - 0s 7ms/step - loss: 0.3099 - accuracy: 0.9864 - val_loss: 0.3167 - val_accuracy: 0.9789\n",
      "Epoch 483/1000\n",
      "7/7 [==============================] - 0s 7ms/step - loss: 0.3090 - accuracy: 0.9864 - val_loss: 0.3159 - val_accuracy: 0.9789\n",
      "Epoch 484/1000\n",
      "7/7 [==============================] - 0s 6ms/step - loss: 0.3083 - accuracy: 0.9864 - val_loss: 0.3152 - val_accuracy: 0.9789\n",
      "Epoch 485/1000\n",
      "7/7 [==============================] - 0s 6ms/step - loss: 0.3076 - accuracy: 0.9864 - val_loss: 0.3145 - val_accuracy: 0.9789\n",
      "Epoch 486/1000\n",
      "7/7 [==============================] - 0s 7ms/step - loss: 0.3068 - accuracy: 0.9864 - val_loss: 0.3140 - val_accuracy: 0.9789\n",
      "Epoch 487/1000\n",
      "7/7 [==============================] - 0s 7ms/step - loss: 0.3060 - accuracy: 0.9864 - val_loss: 0.3133 - val_accuracy: 0.9789\n",
      "Epoch 488/1000\n",
      "7/7 [==============================] - 0s 6ms/step - loss: 0.3053 - accuracy: 0.9864 - val_loss: 0.3126 - val_accuracy: 0.9789\n",
      "Epoch 489/1000\n",
      "7/7 [==============================] - 0s 6ms/step - loss: 0.3045 - accuracy: 0.9864 - val_loss: 0.3120 - val_accuracy: 0.9789\n",
      "Epoch 490/1000\n",
      "7/7 [==============================] - 0s 7ms/step - loss: 0.3037 - accuracy: 0.9864 - val_loss: 0.3112 - val_accuracy: 0.9789\n",
      "Epoch 491/1000\n",
      "7/7 [==============================] - 0s 6ms/step - loss: 0.3031 - accuracy: 0.9864 - val_loss: 0.3105 - val_accuracy: 0.9789\n",
      "Epoch 492/1000\n",
      "7/7 [==============================] - 0s 7ms/step - loss: 0.3023 - accuracy: 0.9864 - val_loss: 0.3099 - val_accuracy: 0.9789\n",
      "Epoch 493/1000\n",
      "7/7 [==============================] - 0s 7ms/step - loss: 0.3016 - accuracy: 0.9864 - val_loss: 0.3092 - val_accuracy: 0.9789\n",
      "Epoch 494/1000\n",
      "7/7 [==============================] - 0s 7ms/step - loss: 0.3008 - accuracy: 0.9864 - val_loss: 0.3084 - val_accuracy: 0.9789\n",
      "Epoch 495/1000\n",
      "7/7 [==============================] - 0s 7ms/step - loss: 0.3000 - accuracy: 0.9864 - val_loss: 0.3079 - val_accuracy: 0.9789\n",
      "Epoch 496/1000\n",
      "7/7 [==============================] - 0s 7ms/step - loss: 0.2993 - accuracy: 0.9864 - val_loss: 0.3071 - val_accuracy: 0.9789\n",
      "Epoch 497/1000\n",
      "7/7 [==============================] - 0s 7ms/step - loss: 0.2985 - accuracy: 0.9864 - val_loss: 0.3064 - val_accuracy: 0.9789\n",
      "Epoch 498/1000\n",
      "7/7 [==============================] - 0s 7ms/step - loss: 0.2978 - accuracy: 0.9864 - val_loss: 0.3056 - val_accuracy: 0.9789\n",
      "Epoch 499/1000\n",
      "7/7 [==============================] - 0s 7ms/step - loss: 0.2970 - accuracy: 0.9864 - val_loss: 0.3051 - val_accuracy: 0.9789\n",
      "Epoch 500/1000\n",
      "7/7 [==============================] - 0s 7ms/step - loss: 0.2963 - accuracy: 0.9864 - val_loss: 0.3044 - val_accuracy: 0.9789\n",
      "Epoch 501/1000\n",
      "7/7 [==============================] - 0s 7ms/step - loss: 0.2955 - accuracy: 0.9864 - val_loss: 0.3036 - val_accuracy: 0.9789\n",
      "Epoch 502/1000\n",
      "7/7 [==============================] - 0s 8ms/step - loss: 0.2948 - accuracy: 0.9864 - val_loss: 0.3031 - val_accuracy: 0.9789\n",
      "Epoch 503/1000\n",
      "7/7 [==============================] - 0s 7ms/step - loss: 0.2940 - accuracy: 0.9864 - val_loss: 0.3024 - val_accuracy: 0.9789\n",
      "Epoch 504/1000\n",
      "7/7 [==============================] - 0s 7ms/step - loss: 0.2933 - accuracy: 0.9864 - val_loss: 0.3017 - val_accuracy: 0.9789\n",
      "Epoch 505/1000\n",
      "7/7 [==============================] - 0s 7ms/step - loss: 0.2926 - accuracy: 0.9864 - val_loss: 0.3012 - val_accuracy: 0.9789\n",
      "Epoch 506/1000\n",
      "7/7 [==============================] - 0s 7ms/step - loss: 0.2919 - accuracy: 0.9864 - val_loss: 0.3004 - val_accuracy: 0.9789\n",
      "Epoch 507/1000\n",
      "7/7 [==============================] - 0s 7ms/step - loss: 0.2912 - accuracy: 0.9864 - val_loss: 0.2997 - val_accuracy: 0.9789\n",
      "Epoch 508/1000\n",
      "7/7 [==============================] - 0s 7ms/step - loss: 0.2904 - accuracy: 0.9864 - val_loss: 0.2991 - val_accuracy: 0.9789\n",
      "Epoch 509/1000\n",
      "7/7 [==============================] - 0s 7ms/step - loss: 0.2897 - accuracy: 0.9864 - val_loss: 0.2984 - val_accuracy: 0.9789\n",
      "Epoch 510/1000\n",
      "7/7 [==============================] - 0s 7ms/step - loss: 0.2891 - accuracy: 0.9864 - val_loss: 0.2978 - val_accuracy: 0.9789\n",
      "Epoch 511/1000\n",
      "7/7 [==============================] - 0s 7ms/step - loss: 0.2882 - accuracy: 0.9864 - val_loss: 0.2972 - val_accuracy: 0.9789\n",
      "Epoch 512/1000\n",
      "7/7 [==============================] - 0s 7ms/step - loss: 0.2876 - accuracy: 0.9864 - val_loss: 0.2965 - val_accuracy: 0.9789\n",
      "Epoch 513/1000\n",
      "7/7 [==============================] - 0s 7ms/step - loss: 0.2869 - accuracy: 0.9864 - val_loss: 0.2959 - val_accuracy: 0.9789\n",
      "Epoch 514/1000\n",
      "7/7 [==============================] - 0s 6ms/step - loss: 0.2861 - accuracy: 0.9864 - val_loss: 0.2953 - val_accuracy: 0.9789\n",
      "Epoch 515/1000\n",
      "7/7 [==============================] - 0s 7ms/step - loss: 0.2855 - accuracy: 0.9864 - val_loss: 0.2948 - val_accuracy: 0.9789\n",
      "Epoch 516/1000\n",
      "7/7 [==============================] - 0s 7ms/step - loss: 0.2848 - accuracy: 0.9864 - val_loss: 0.2940 - val_accuracy: 0.9789\n",
      "Epoch 517/1000\n",
      "7/7 [==============================] - 0s 7ms/step - loss: 0.2841 - accuracy: 0.9864 - val_loss: 0.2934 - val_accuracy: 0.9789\n",
      "Epoch 518/1000\n",
      "7/7 [==============================] - 0s 7ms/step - loss: 0.2832 - accuracy: 0.9864 - val_loss: 0.2927 - val_accuracy: 0.9789\n",
      "Epoch 519/1000\n",
      "7/7 [==============================] - 0s 7ms/step - loss: 0.2826 - accuracy: 0.9864 - val_loss: 0.2920 - val_accuracy: 0.9789\n",
      "Epoch 520/1000\n",
      "7/7 [==============================] - 0s 7ms/step - loss: 0.2818 - accuracy: 0.9864 - val_loss: 0.2913 - val_accuracy: 0.9789\n"
     ]
    },
    {
     "name": "stdout",
     "output_type": "stream",
     "text": [
      "Epoch 521/1000\n",
      "7/7 [==============================] - 0s 7ms/step - loss: 0.2812 - accuracy: 0.9864 - val_loss: 0.2908 - val_accuracy: 0.9789\n",
      "Epoch 522/1000\n",
      "7/7 [==============================] - 0s 7ms/step - loss: 0.2804 - accuracy: 0.9864 - val_loss: 0.2901 - val_accuracy: 0.9789\n",
      "Epoch 523/1000\n",
      "7/7 [==============================] - 0s 6ms/step - loss: 0.2797 - accuracy: 0.9864 - val_loss: 0.2894 - val_accuracy: 0.9789\n",
      "Epoch 524/1000\n",
      "7/7 [==============================] - 0s 7ms/step - loss: 0.2790 - accuracy: 0.9864 - val_loss: 0.2888 - val_accuracy: 0.9789\n",
      "Epoch 525/1000\n",
      "7/7 [==============================] - 0s 7ms/step - loss: 0.2783 - accuracy: 0.9864 - val_loss: 0.2882 - val_accuracy: 0.9789\n",
      "Epoch 526/1000\n",
      "7/7 [==============================] - 0s 7ms/step - loss: 0.2776 - accuracy: 0.9864 - val_loss: 0.2875 - val_accuracy: 0.9789\n",
      "Epoch 527/1000\n",
      "7/7 [==============================] - 0s 7ms/step - loss: 0.2771 - accuracy: 0.9864 - val_loss: 0.2869 - val_accuracy: 0.9789\n",
      "Epoch 528/1000\n",
      "7/7 [==============================] - 0s 7ms/step - loss: 0.2762 - accuracy: 0.9864 - val_loss: 0.2863 - val_accuracy: 0.9789\n",
      "Epoch 529/1000\n",
      "7/7 [==============================] - 0s 7ms/step - loss: 0.2755 - accuracy: 0.9864 - val_loss: 0.2857 - val_accuracy: 0.9789\n",
      "Epoch 530/1000\n",
      "7/7 [==============================] - 0s 6ms/step - loss: 0.2749 - accuracy: 0.9864 - val_loss: 0.2850 - val_accuracy: 0.9789\n",
      "Epoch 531/1000\n",
      "7/7 [==============================] - 0s 7ms/step - loss: 0.2742 - accuracy: 0.9864 - val_loss: 0.2845 - val_accuracy: 0.9789\n",
      "Epoch 532/1000\n",
      "7/7 [==============================] - 0s 7ms/step - loss: 0.2735 - accuracy: 0.9864 - val_loss: 0.2838 - val_accuracy: 0.9789\n",
      "Epoch 533/1000\n",
      "7/7 [==============================] - 0s 7ms/step - loss: 0.2728 - accuracy: 0.9864 - val_loss: 0.2833 - val_accuracy: 0.9789\n",
      "Epoch 534/1000\n",
      "7/7 [==============================] - 0s 7ms/step - loss: 0.2722 - accuracy: 0.9864 - val_loss: 0.2826 - val_accuracy: 0.9789\n",
      "Epoch 535/1000\n",
      "7/7 [==============================] - 0s 7ms/step - loss: 0.2715 - accuracy: 0.9864 - val_loss: 0.2821 - val_accuracy: 0.9789\n",
      "Epoch 536/1000\n",
      "7/7 [==============================] - 0s 7ms/step - loss: 0.2708 - accuracy: 0.9864 - val_loss: 0.2816 - val_accuracy: 0.9789\n",
      "Epoch 537/1000\n",
      "7/7 [==============================] - 0s 8ms/step - loss: 0.2702 - accuracy: 0.9864 - val_loss: 0.2809 - val_accuracy: 0.9789\n",
      "Epoch 538/1000\n",
      "7/7 [==============================] - 0s 10ms/step - loss: 0.2695 - accuracy: 0.9864 - val_loss: 0.2804 - val_accuracy: 0.9789\n",
      "Epoch 539/1000\n",
      "7/7 [==============================] - 0s 7ms/step - loss: 0.2689 - accuracy: 0.9864 - val_loss: 0.2799 - val_accuracy: 0.9789\n",
      "Epoch 540/1000\n",
      "7/7 [==============================] - 0s 6ms/step - loss: 0.2683 - accuracy: 0.9864 - val_loss: 0.2792 - val_accuracy: 0.9789\n",
      "Epoch 541/1000\n",
      "7/7 [==============================] - 0s 7ms/step - loss: 0.2676 - accuracy: 0.9864 - val_loss: 0.2787 - val_accuracy: 0.9789\n",
      "Epoch 542/1000\n",
      "7/7 [==============================] - 0s 7ms/step - loss: 0.2670 - accuracy: 0.9864 - val_loss: 0.2781 - val_accuracy: 0.9789\n",
      "Epoch 543/1000\n",
      "7/7 [==============================] - 0s 7ms/step - loss: 0.2663 - accuracy: 0.9864 - val_loss: 0.2774 - val_accuracy: 0.9789\n",
      "Epoch 544/1000\n",
      "7/7 [==============================] - 0s 7ms/step - loss: 0.2657 - accuracy: 0.9864 - val_loss: 0.2769 - val_accuracy: 0.9789\n",
      "Epoch 545/1000\n",
      "7/7 [==============================] - 0s 7ms/step - loss: 0.2651 - accuracy: 0.9864 - val_loss: 0.2764 - val_accuracy: 0.9789\n",
      "Epoch 546/1000\n",
      "7/7 [==============================] - 0s 7ms/step - loss: 0.2644 - accuracy: 0.9864 - val_loss: 0.2757 - val_accuracy: 0.9789\n",
      "Epoch 547/1000\n",
      "7/7 [==============================] - 0s 7ms/step - loss: 0.2638 - accuracy: 0.9864 - val_loss: 0.2753 - val_accuracy: 0.9789\n",
      "Epoch 548/1000\n",
      "7/7 [==============================] - 0s 7ms/step - loss: 0.2631 - accuracy: 0.9864 - val_loss: 0.2746 - val_accuracy: 0.9789\n",
      "Epoch 549/1000\n",
      "7/7 [==============================] - 0s 7ms/step - loss: 0.2625 - accuracy: 0.9864 - val_loss: 0.2741 - val_accuracy: 0.9789\n",
      "Epoch 550/1000\n",
      "7/7 [==============================] - 0s 6ms/step - loss: 0.2619 - accuracy: 0.9864 - val_loss: 0.2735 - val_accuracy: 0.9789\n",
      "Epoch 551/1000\n",
      "7/7 [==============================] - 0s 7ms/step - loss: 0.2613 - accuracy: 0.9864 - val_loss: 0.2729 - val_accuracy: 0.9789\n",
      "Epoch 552/1000\n",
      "7/7 [==============================] - 0s 7ms/step - loss: 0.2606 - accuracy: 0.9864 - val_loss: 0.2724 - val_accuracy: 0.9789\n",
      "Epoch 553/1000\n",
      "7/7 [==============================] - 0s 7ms/step - loss: 0.2600 - accuracy: 0.9864 - val_loss: 0.2718 - val_accuracy: 0.9789\n",
      "Epoch 554/1000\n",
      "7/7 [==============================] - 0s 7ms/step - loss: 0.2594 - accuracy: 0.9864 - val_loss: 0.2713 - val_accuracy: 0.9789\n",
      "Epoch 555/1000\n",
      "7/7 [==============================] - 0s 7ms/step - loss: 0.2587 - accuracy: 0.9864 - val_loss: 0.2706 - val_accuracy: 0.9789\n",
      "Epoch 556/1000\n",
      "7/7 [==============================] - 0s 7ms/step - loss: 0.2581 - accuracy: 0.9864 - val_loss: 0.2701 - val_accuracy: 0.9789\n",
      "Epoch 557/1000\n",
      "7/7 [==============================] - 0s 7ms/step - loss: 0.2575 - accuracy: 0.9864 - val_loss: 0.2696 - val_accuracy: 0.9789\n",
      "Epoch 558/1000\n",
      "7/7 [==============================] - 0s 6ms/step - loss: 0.2569 - accuracy: 0.9864 - val_loss: 0.2690 - val_accuracy: 0.9789\n",
      "Epoch 559/1000\n",
      "7/7 [==============================] - 0s 7ms/step - loss: 0.2563 - accuracy: 0.9864 - val_loss: 0.2685 - val_accuracy: 0.9789\n",
      "Epoch 560/1000\n",
      "7/7 [==============================] - 0s 7ms/step - loss: 0.2557 - accuracy: 0.9864 - val_loss: 0.2680 - val_accuracy: 0.9789\n",
      "Epoch 561/1000\n",
      "7/7 [==============================] - 0s 7ms/step - loss: 0.2550 - accuracy: 0.9864 - val_loss: 0.2674 - val_accuracy: 0.9789\n",
      "Epoch 562/1000\n",
      "7/7 [==============================] - 0s 6ms/step - loss: 0.2545 - accuracy: 0.9864 - val_loss: 0.2669 - val_accuracy: 0.9789\n",
      "Epoch 563/1000\n",
      "7/7 [==============================] - 0s 7ms/step - loss: 0.2539 - accuracy: 0.9864 - val_loss: 0.2664 - val_accuracy: 0.9789\n",
      "Epoch 564/1000\n",
      "7/7 [==============================] - 0s 7ms/step - loss: 0.2533 - accuracy: 0.9864 - val_loss: 0.2658 - val_accuracy: 0.9789\n",
      "Epoch 565/1000\n",
      "7/7 [==============================] - 0s 7ms/step - loss: 0.2527 - accuracy: 0.9864 - val_loss: 0.2653 - val_accuracy: 0.9789\n",
      "Epoch 566/1000\n",
      "7/7 [==============================] - 0s 7ms/step - loss: 0.2521 - accuracy: 0.9864 - val_loss: 0.2647 - val_accuracy: 0.9789\n",
      "Epoch 567/1000\n",
      "7/7 [==============================] - 0s 7ms/step - loss: 0.2516 - accuracy: 0.9864 - val_loss: 0.2642 - val_accuracy: 0.9789\n",
      "Epoch 568/1000\n",
      "7/7 [==============================] - 0s 7ms/step - loss: 0.2509 - accuracy: 0.9864 - val_loss: 0.2638 - val_accuracy: 0.9789\n",
      "Epoch 569/1000\n",
      "7/7 [==============================] - 0s 7ms/step - loss: 0.2503 - accuracy: 0.9864 - val_loss: 0.2632 - val_accuracy: 0.9789\n",
      "Epoch 570/1000\n",
      "7/7 [==============================] - 0s 7ms/step - loss: 0.2497 - accuracy: 0.9864 - val_loss: 0.2627 - val_accuracy: 0.9789\n",
      "Epoch 571/1000\n",
      "7/7 [==============================] - 0s 7ms/step - loss: 0.2491 - accuracy: 0.9864 - val_loss: 0.2621 - val_accuracy: 0.9789\n",
      "Epoch 572/1000\n",
      "7/7 [==============================] - 0s 7ms/step - loss: 0.2486 - accuracy: 0.9864 - val_loss: 0.2616 - val_accuracy: 0.9789\n",
      "Epoch 573/1000\n",
      "7/7 [==============================] - 0s 7ms/step - loss: 0.2479 - accuracy: 0.9864 - val_loss: 0.2611 - val_accuracy: 0.9789\n",
      "Epoch 574/1000\n",
      "7/7 [==============================] - 0s 7ms/step - loss: 0.2475 - accuracy: 0.9864 - val_loss: 0.2605 - val_accuracy: 0.9789\n",
      "Epoch 575/1000\n",
      "7/7 [==============================] - 0s 7ms/step - loss: 0.2468 - accuracy: 0.9864 - val_loss: 0.2601 - val_accuracy: 0.9789\n",
      "Epoch 576/1000\n",
      "7/7 [==============================] - 0s 7ms/step - loss: 0.2462 - accuracy: 0.9864 - val_loss: 0.2595 - val_accuracy: 0.9789\n",
      "Epoch 577/1000\n",
      "7/7 [==============================] - 0s 7ms/step - loss: 0.2457 - accuracy: 0.9864 - val_loss: 0.2591 - val_accuracy: 0.9789\n",
      "Epoch 578/1000\n",
      "7/7 [==============================] - 0s 7ms/step - loss: 0.2451 - accuracy: 0.9864 - val_loss: 0.2585 - val_accuracy: 0.9789\n"
     ]
    },
    {
     "name": "stdout",
     "output_type": "stream",
     "text": [
      "Epoch 579/1000\n",
      "7/7 [==============================] - 0s 7ms/step - loss: 0.2445 - accuracy: 0.9864 - val_loss: 0.2580 - val_accuracy: 0.9789\n",
      "Epoch 580/1000\n",
      "7/7 [==============================] - 0s 7ms/step - loss: 0.2441 - accuracy: 0.9864 - val_loss: 0.2576 - val_accuracy: 0.9789\n",
      "Epoch 581/1000\n",
      "7/7 [==============================] - 0s 7ms/step - loss: 0.2436 - accuracy: 0.9864 - val_loss: 0.2570 - val_accuracy: 0.9789\n",
      "Epoch 582/1000\n",
      "7/7 [==============================] - 0s 7ms/step - loss: 0.2429 - accuracy: 0.9864 - val_loss: 0.2566 - val_accuracy: 0.9789\n",
      "Epoch 583/1000\n",
      "7/7 [==============================] - 0s 7ms/step - loss: 0.2423 - accuracy: 0.9864 - val_loss: 0.2562 - val_accuracy: 0.9789\n",
      "Epoch 584/1000\n",
      "7/7 [==============================] - 0s 7ms/step - loss: 0.2419 - accuracy: 0.9864 - val_loss: 0.2556 - val_accuracy: 0.9789\n",
      "Epoch 585/1000\n",
      "7/7 [==============================] - 0s 6ms/step - loss: 0.2413 - accuracy: 0.9864 - val_loss: 0.2551 - val_accuracy: 0.9789\n",
      "Epoch 586/1000\n",
      "7/7 [==============================] - 0s 7ms/step - loss: 0.2407 - accuracy: 0.9864 - val_loss: 0.2546 - val_accuracy: 0.9789\n",
      "Epoch 587/1000\n",
      "7/7 [==============================] - 0s 7ms/step - loss: 0.2402 - accuracy: 0.9864 - val_loss: 0.2542 - val_accuracy: 0.9789\n",
      "Epoch 588/1000\n",
      "7/7 [==============================] - 0s 7ms/step - loss: 0.2397 - accuracy: 0.9864 - val_loss: 0.2537 - val_accuracy: 0.9789\n",
      "Epoch 589/1000\n",
      "7/7 [==============================] - 0s 7ms/step - loss: 0.2391 - accuracy: 0.9864 - val_loss: 0.2532 - val_accuracy: 0.9789\n",
      "Epoch 590/1000\n",
      "7/7 [==============================] - 0s 7ms/step - loss: 0.2385 - accuracy: 0.9864 - val_loss: 0.2527 - val_accuracy: 0.9789\n",
      "Epoch 591/1000\n",
      "7/7 [==============================] - 0s 7ms/step - loss: 0.2379 - accuracy: 0.9864 - val_loss: 0.2522 - val_accuracy: 0.9789\n",
      "Epoch 592/1000\n",
      "7/7 [==============================] - 0s 7ms/step - loss: 0.2375 - accuracy: 0.9864 - val_loss: 0.2517 - val_accuracy: 0.9789\n",
      "Epoch 593/1000\n",
      "7/7 [==============================] - 0s 7ms/step - loss: 0.2369 - accuracy: 0.9864 - val_loss: 0.2513 - val_accuracy: 0.9789\n",
      "Epoch 594/1000\n",
      "7/7 [==============================] - 0s 7ms/step - loss: 0.2363 - accuracy: 0.9864 - val_loss: 0.2508 - val_accuracy: 0.9789\n",
      "Epoch 595/1000\n",
      "7/7 [==============================] - 0s 7ms/step - loss: 0.2358 - accuracy: 0.9864 - val_loss: 0.2502 - val_accuracy: 0.9789\n",
      "Epoch 596/1000\n",
      "7/7 [==============================] - 0s 7ms/step - loss: 0.2352 - accuracy: 0.9864 - val_loss: 0.2498 - val_accuracy: 0.9789\n",
      "Epoch 597/1000\n",
      "7/7 [==============================] - 0s 7ms/step - loss: 0.2348 - accuracy: 0.9864 - val_loss: 0.2493 - val_accuracy: 0.9789\n",
      "Epoch 598/1000\n",
      "7/7 [==============================] - 0s 7ms/step - loss: 0.2341 - accuracy: 0.9864 - val_loss: 0.2488 - val_accuracy: 0.9789\n",
      "Epoch 599/1000\n",
      "7/7 [==============================] - 0s 7ms/step - loss: 0.2337 - accuracy: 0.9864 - val_loss: 0.2483 - val_accuracy: 0.9789\n",
      "Epoch 600/1000\n",
      "7/7 [==============================] - 0s 6ms/step - loss: 0.2332 - accuracy: 0.9864 - val_loss: 0.2479 - val_accuracy: 0.9789\n",
      "Epoch 601/1000\n",
      "7/7 [==============================] - 0s 7ms/step - loss: 0.2327 - accuracy: 0.9864 - val_loss: 0.2476 - val_accuracy: 0.9789\n",
      "Epoch 602/1000\n",
      "7/7 [==============================] - 0s 7ms/step - loss: 0.2321 - accuracy: 0.9864 - val_loss: 0.2471 - val_accuracy: 0.9789\n",
      "Epoch 603/1000\n",
      "7/7 [==============================] - 0s 7ms/step - loss: 0.2317 - accuracy: 0.9864 - val_loss: 0.2465 - val_accuracy: 0.9789\n",
      "Epoch 604/1000\n",
      "7/7 [==============================] - 0s 7ms/step - loss: 0.2310 - accuracy: 0.9864 - val_loss: 0.2462 - val_accuracy: 0.9789\n",
      "Epoch 605/1000\n",
      "7/7 [==============================] - 0s 7ms/step - loss: 0.2305 - accuracy: 0.9864 - val_loss: 0.2456 - val_accuracy: 0.9789\n",
      "Epoch 606/1000\n",
      "7/7 [==============================] - 0s 7ms/step - loss: 0.2300 - accuracy: 0.9864 - val_loss: 0.2451 - val_accuracy: 0.9789\n",
      "Epoch 607/1000\n",
      "7/7 [==============================] - 0s 7ms/step - loss: 0.2295 - accuracy: 0.9864 - val_loss: 0.2447 - val_accuracy: 0.9789\n",
      "Epoch 608/1000\n",
      "7/7 [==============================] - 0s 7ms/step - loss: 0.2290 - accuracy: 0.9864 - val_loss: 0.2443 - val_accuracy: 0.9789\n",
      "Epoch 609/1000\n",
      "7/7 [==============================] - 0s 7ms/step - loss: 0.2285 - accuracy: 0.9864 - val_loss: 0.2439 - val_accuracy: 0.9789\n",
      "Epoch 610/1000\n",
      "7/7 [==============================] - 0s 7ms/step - loss: 0.2280 - accuracy: 0.9864 - val_loss: 0.2434 - val_accuracy: 0.9789\n",
      "Epoch 611/1000\n",
      "7/7 [==============================] - 0s 7ms/step - loss: 0.2274 - accuracy: 0.9864 - val_loss: 0.2430 - val_accuracy: 0.9789\n",
      "Epoch 612/1000\n",
      "7/7 [==============================] - 0s 9ms/step - loss: 0.2269 - accuracy: 0.9864 - val_loss: 0.2425 - val_accuracy: 0.9789\n",
      "Epoch 613/1000\n",
      "7/7 [==============================] - 0s 10ms/step - loss: 0.2264 - accuracy: 0.9864 - val_loss: 0.2420 - val_accuracy: 0.9789\n",
      "Epoch 614/1000\n",
      "7/7 [==============================] - 0s 7ms/step - loss: 0.2259 - accuracy: 0.9864 - val_loss: 0.2415 - val_accuracy: 0.9789\n",
      "Epoch 615/1000\n",
      "7/7 [==============================] - 0s 7ms/step - loss: 0.2253 - accuracy: 0.9864 - val_loss: 0.2411 - val_accuracy: 0.9789\n",
      "Epoch 616/1000\n",
      "7/7 [==============================] - 0s 7ms/step - loss: 0.2249 - accuracy: 0.9864 - val_loss: 0.2406 - val_accuracy: 0.9789\n",
      "Epoch 617/1000\n",
      "7/7 [==============================] - 0s 7ms/step - loss: 0.2243 - accuracy: 0.9864 - val_loss: 0.2402 - val_accuracy: 0.9789\n",
      "Epoch 618/1000\n",
      "7/7 [==============================] - 0s 6ms/step - loss: 0.2239 - accuracy: 0.9864 - val_loss: 0.2398 - val_accuracy: 0.9789\n",
      "Epoch 619/1000\n",
      "7/7 [==============================] - 0s 7ms/step - loss: 0.2234 - accuracy: 0.9864 - val_loss: 0.2393 - val_accuracy: 0.9789\n",
      "Epoch 620/1000\n",
      "7/7 [==============================] - 0s 7ms/step - loss: 0.2228 - accuracy: 0.9864 - val_loss: 0.2389 - val_accuracy: 0.9789\n",
      "Epoch 621/1000\n",
      "7/7 [==============================] - 0s 7ms/step - loss: 0.2223 - accuracy: 0.9864 - val_loss: 0.2385 - val_accuracy: 0.9789\n",
      "Epoch 622/1000\n",
      "7/7 [==============================] - 0s 7ms/step - loss: 0.2218 - accuracy: 0.9864 - val_loss: 0.2379 - val_accuracy: 0.9789\n",
      "Epoch 623/1000\n",
      "7/7 [==============================] - 0s 7ms/step - loss: 0.2214 - accuracy: 0.9864 - val_loss: 0.2376 - val_accuracy: 0.9789\n",
      "Epoch 624/1000\n",
      "7/7 [==============================] - 0s 7ms/step - loss: 0.2208 - accuracy: 0.9864 - val_loss: 0.2371 - val_accuracy: 0.9789\n",
      "Epoch 625/1000\n",
      "7/7 [==============================] - 0s 7ms/step - loss: 0.2204 - accuracy: 0.9864 - val_loss: 0.2367 - val_accuracy: 0.9789\n",
      "Epoch 626/1000\n",
      "7/7 [==============================] - 0s 7ms/step - loss: 0.2199 - accuracy: 0.9864 - val_loss: 0.2362 - val_accuracy: 0.9789\n",
      "Epoch 627/1000\n",
      "7/7 [==============================] - 0s 7ms/step - loss: 0.2194 - accuracy: 0.9864 - val_loss: 0.2359 - val_accuracy: 0.9789\n",
      "Epoch 628/1000\n",
      "7/7 [==============================] - 0s 7ms/step - loss: 0.2189 - accuracy: 0.9864 - val_loss: 0.2354 - val_accuracy: 0.9789\n",
      "Epoch 629/1000\n",
      "7/7 [==============================] - 0s 7ms/step - loss: 0.2184 - accuracy: 0.9864 - val_loss: 0.2350 - val_accuracy: 0.9789\n",
      "Epoch 630/1000\n",
      "7/7 [==============================] - 0s 8ms/step - loss: 0.2180 - accuracy: 0.9864 - val_loss: 0.2346 - val_accuracy: 0.9789\n",
      "Epoch 631/1000\n",
      "7/7 [==============================] - 0s 7ms/step - loss: 0.2174 - accuracy: 0.9864 - val_loss: 0.2341 - val_accuracy: 0.9789\n",
      "Epoch 632/1000\n",
      "7/7 [==============================] - 0s 7ms/step - loss: 0.2170 - accuracy: 0.9864 - val_loss: 0.2336 - val_accuracy: 0.9789\n",
      "Epoch 633/1000\n",
      "7/7 [==============================] - 0s 7ms/step - loss: 0.2164 - accuracy: 0.9864 - val_loss: 0.2334 - val_accuracy: 0.9789\n",
      "Epoch 634/1000\n",
      "7/7 [==============================] - 0s 7ms/step - loss: 0.2160 - accuracy: 0.9864 - val_loss: 0.2329 - val_accuracy: 0.9789\n",
      "Epoch 635/1000\n",
      "7/7 [==============================] - 0s 7ms/step - loss: 0.2155 - accuracy: 0.9864 - val_loss: 0.2324 - val_accuracy: 0.9789\n",
      "Epoch 636/1000\n",
      "7/7 [==============================] - 0s 7ms/step - loss: 0.2151 - accuracy: 0.9864 - val_loss: 0.2321 - val_accuracy: 0.9789\n"
     ]
    },
    {
     "name": "stdout",
     "output_type": "stream",
     "text": [
      "Epoch 637/1000\n",
      "7/7 [==============================] - 0s 7ms/step - loss: 0.2145 - accuracy: 0.9864 - val_loss: 0.2316 - val_accuracy: 0.9789\n",
      "Epoch 638/1000\n",
      "7/7 [==============================] - 0s 7ms/step - loss: 0.2141 - accuracy: 0.9864 - val_loss: 0.2311 - val_accuracy: 0.9789\n",
      "Epoch 639/1000\n",
      "7/7 [==============================] - 0s 7ms/step - loss: 0.2135 - accuracy: 0.9864 - val_loss: 0.2307 - val_accuracy: 0.9789\n",
      "Epoch 640/1000\n",
      "7/7 [==============================] - 0s 7ms/step - loss: 0.2133 - accuracy: 0.9864 - val_loss: 0.2303 - val_accuracy: 0.9789\n",
      "Epoch 641/1000\n",
      "7/7 [==============================] - 0s 7ms/step - loss: 0.2127 - accuracy: 0.9864 - val_loss: 0.2298 - val_accuracy: 0.9789\n",
      "Epoch 642/1000\n",
      "7/7 [==============================] - 0s 7ms/step - loss: 0.2122 - accuracy: 0.9864 - val_loss: 0.2296 - val_accuracy: 0.9789\n",
      "Epoch 643/1000\n",
      "7/7 [==============================] - 0s 7ms/step - loss: 0.2117 - accuracy: 0.9864 - val_loss: 0.2292 - val_accuracy: 0.9789\n",
      "Epoch 644/1000\n",
      "7/7 [==============================] - 0s 7ms/step - loss: 0.2113 - accuracy: 0.9864 - val_loss: 0.2287 - val_accuracy: 0.9789\n",
      "Epoch 645/1000\n",
      "7/7 [==============================] - 0s 7ms/step - loss: 0.2109 - accuracy: 0.9864 - val_loss: 0.2284 - val_accuracy: 0.9789\n",
      "Epoch 646/1000\n",
      "7/7 [==============================] - 0s 7ms/step - loss: 0.2103 - accuracy: 0.9864 - val_loss: 0.2279 - val_accuracy: 0.9789\n",
      "Epoch 647/1000\n",
      "7/7 [==============================] - 0s 7ms/step - loss: 0.2099 - accuracy: 0.9864 - val_loss: 0.2276 - val_accuracy: 0.9789\n",
      "Epoch 648/1000\n",
      "7/7 [==============================] - 0s 7ms/step - loss: 0.2094 - accuracy: 0.9864 - val_loss: 0.2271 - val_accuracy: 0.9789\n",
      "Epoch 649/1000\n",
      "7/7 [==============================] - 0s 7ms/step - loss: 0.2091 - accuracy: 0.9864 - val_loss: 0.2266 - val_accuracy: 0.9789\n",
      "Epoch 650/1000\n",
      "7/7 [==============================] - 0s 7ms/step - loss: 0.2084 - accuracy: 0.9864 - val_loss: 0.2263 - val_accuracy: 0.9789\n",
      "Epoch 651/1000\n",
      "7/7 [==============================] - 0s 7ms/step - loss: 0.2080 - accuracy: 0.9864 - val_loss: 0.2258 - val_accuracy: 0.9789\n",
      "Epoch 652/1000\n",
      "7/7 [==============================] - 0s 7ms/step - loss: 0.2077 - accuracy: 0.9864 - val_loss: 0.2254 - val_accuracy: 0.9789\n",
      "Epoch 653/1000\n",
      "7/7 [==============================] - 0s 7ms/step - loss: 0.2071 - accuracy: 0.9864 - val_loss: 0.2251 - val_accuracy: 0.9789\n",
      "Epoch 654/1000\n",
      "7/7 [==============================] - 0s 7ms/step - loss: 0.2067 - accuracy: 0.9864 - val_loss: 0.2247 - val_accuracy: 0.9789\n",
      "Epoch 655/1000\n",
      "7/7 [==============================] - 0s 7ms/step - loss: 0.2062 - accuracy: 0.9864 - val_loss: 0.2243 - val_accuracy: 0.9789\n",
      "Epoch 656/1000\n",
      "7/7 [==============================] - 0s 7ms/step - loss: 0.2059 - accuracy: 0.9864 - val_loss: 0.2240 - val_accuracy: 0.9789\n",
      "Epoch 657/1000\n",
      "7/7 [==============================] - 0s 7ms/step - loss: 0.2054 - accuracy: 0.9864 - val_loss: 0.2236 - val_accuracy: 0.9789\n",
      "Epoch 658/1000\n",
      "7/7 [==============================] - 0s 7ms/step - loss: 0.2049 - accuracy: 0.9864 - val_loss: 0.2232 - val_accuracy: 0.9789\n",
      "Epoch 659/1000\n",
      "7/7 [==============================] - 0s 7ms/step - loss: 0.2045 - accuracy: 0.9864 - val_loss: 0.2228 - val_accuracy: 0.9789\n",
      "Epoch 660/1000\n",
      "7/7 [==============================] - 0s 6ms/step - loss: 0.2041 - accuracy: 0.9864 - val_loss: 0.2224 - val_accuracy: 0.9789\n",
      "Epoch 661/1000\n",
      "7/7 [==============================] - 0s 7ms/step - loss: 0.2036 - accuracy: 0.9864 - val_loss: 0.2220 - val_accuracy: 0.9789\n",
      "Epoch 662/1000\n",
      "7/7 [==============================] - 0s 7ms/step - loss: 0.2033 - accuracy: 0.9864 - val_loss: 0.2216 - val_accuracy: 0.9789\n",
      "Epoch 663/1000\n",
      "7/7 [==============================] - 0s 8ms/step - loss: 0.2027 - accuracy: 0.9864 - val_loss: 0.2213 - val_accuracy: 0.9789\n",
      "Epoch 664/1000\n",
      "7/7 [==============================] - 0s 7ms/step - loss: 0.2023 - accuracy: 0.9864 - val_loss: 0.2208 - val_accuracy: 0.9789\n",
      "Epoch 665/1000\n",
      "7/7 [==============================] - 0s 7ms/step - loss: 0.2018 - accuracy: 0.9864 - val_loss: 0.2205 - val_accuracy: 0.9789\n",
      "Epoch 666/1000\n",
      "7/7 [==============================] - 0s 7ms/step - loss: 0.2015 - accuracy: 0.9864 - val_loss: 0.2201 - val_accuracy: 0.9789\n",
      "Epoch 667/1000\n",
      "7/7 [==============================] - 0s 7ms/step - loss: 0.2010 - accuracy: 0.9864 - val_loss: 0.2196 - val_accuracy: 0.9789\n",
      "Epoch 668/1000\n",
      "7/7 [==============================] - 0s 7ms/step - loss: 0.2006 - accuracy: 0.9864 - val_loss: 0.2193 - val_accuracy: 0.9789\n",
      "Epoch 669/1000\n",
      "7/7 [==============================] - 0s 7ms/step - loss: 0.2002 - accuracy: 0.9864 - val_loss: 0.2190 - val_accuracy: 0.9789\n",
      "Epoch 670/1000\n",
      "7/7 [==============================] - 0s 7ms/step - loss: 0.1997 - accuracy: 0.9864 - val_loss: 0.2186 - val_accuracy: 0.9789\n",
      "Epoch 671/1000\n",
      "7/7 [==============================] - 0s 7ms/step - loss: 0.1993 - accuracy: 0.9864 - val_loss: 0.2183 - val_accuracy: 0.9789\n",
      "Epoch 672/1000\n",
      "7/7 [==============================] - 0s 7ms/step - loss: 0.1990 - accuracy: 0.9864 - val_loss: 0.2179 - val_accuracy: 0.9789\n",
      "Epoch 673/1000\n",
      "7/7 [==============================] - 0s 7ms/step - loss: 0.1986 - accuracy: 0.9864 - val_loss: 0.2175 - val_accuracy: 0.9789\n",
      "Epoch 674/1000\n",
      "7/7 [==============================] - 0s 7ms/step - loss: 0.1980 - accuracy: 0.9864 - val_loss: 0.2171 - val_accuracy: 0.9789\n",
      "Epoch 675/1000\n",
      "7/7 [==============================] - 0s 7ms/step - loss: 0.1977 - accuracy: 0.9864 - val_loss: 0.2167 - val_accuracy: 0.9789\n",
      "Epoch 676/1000\n",
      "7/7 [==============================] - 0s 7ms/step - loss: 0.1972 - accuracy: 0.9864 - val_loss: 0.2163 - val_accuracy: 0.9789\n",
      "Epoch 677/1000\n",
      "7/7 [==============================] - 0s 7ms/step - loss: 0.1968 - accuracy: 0.9864 - val_loss: 0.2160 - val_accuracy: 0.9789\n",
      "Epoch 678/1000\n",
      "7/7 [==============================] - 0s 7ms/step - loss: 0.1964 - accuracy: 0.9864 - val_loss: 0.2156 - val_accuracy: 0.9789\n",
      "Epoch 679/1000\n",
      "7/7 [==============================] - 0s 7ms/step - loss: 0.1959 - accuracy: 0.9864 - val_loss: 0.2152 - val_accuracy: 0.9789\n",
      "Epoch 680/1000\n",
      "7/7 [==============================] - 0s 7ms/step - loss: 0.1955 - accuracy: 0.9864 - val_loss: 0.2149 - val_accuracy: 0.9789\n",
      "Epoch 681/1000\n",
      "7/7 [==============================] - 0s 7ms/step - loss: 0.1951 - accuracy: 0.9864 - val_loss: 0.2145 - val_accuracy: 0.9789\n",
      "Epoch 682/1000\n",
      "7/7 [==============================] - 0s 7ms/step - loss: 0.1947 - accuracy: 0.9864 - val_loss: 0.2142 - val_accuracy: 0.9789\n",
      "Epoch 683/1000\n",
      "7/7 [==============================] - 0s 7ms/step - loss: 0.1943 - accuracy: 0.9864 - val_loss: 0.2138 - val_accuracy: 0.9789\n",
      "Epoch 684/1000\n",
      "7/7 [==============================] - 0s 7ms/step - loss: 0.1939 - accuracy: 0.9864 - val_loss: 0.2134 - val_accuracy: 0.9789\n",
      "Epoch 685/1000\n",
      "7/7 [==============================] - 0s 6ms/step - loss: 0.1934 - accuracy: 0.9864 - val_loss: 0.2130 - val_accuracy: 0.9789\n",
      "Epoch 686/1000\n",
      "7/7 [==============================] - 0s 9ms/step - loss: 0.1930 - accuracy: 0.9864 - val_loss: 0.2127 - val_accuracy: 0.9789\n",
      "Epoch 687/1000\n",
      "7/7 [==============================] - 0s 11ms/step - loss: 0.1925 - accuracy: 0.9864 - val_loss: 0.2123 - val_accuracy: 0.9789\n",
      "Epoch 688/1000\n",
      "7/7 [==============================] - 0s 7ms/step - loss: 0.1922 - accuracy: 0.9864 - val_loss: 0.2120 - val_accuracy: 0.9789\n",
      "Epoch 689/1000\n",
      "7/7 [==============================] - 0s 7ms/step - loss: 0.1917 - accuracy: 0.9864 - val_loss: 0.2116 - val_accuracy: 0.9789\n",
      "Epoch 690/1000\n",
      "7/7 [==============================] - 0s 8ms/step - loss: 0.1912 - accuracy: 0.9864 - val_loss: 0.2112 - val_accuracy: 0.9789\n",
      "Epoch 691/1000\n",
      "7/7 [==============================] - 0s 7ms/step - loss: 0.1910 - accuracy: 0.9864 - val_loss: 0.2108 - val_accuracy: 0.9789\n",
      "Epoch 692/1000\n",
      "7/7 [==============================] - 0s 7ms/step - loss: 0.1904 - accuracy: 0.9864 - val_loss: 0.2104 - val_accuracy: 0.9789\n",
      "Epoch 693/1000\n",
      "7/7 [==============================] - 0s 7ms/step - loss: 0.1901 - accuracy: 0.9864 - val_loss: 0.2101 - val_accuracy: 0.9789\n",
      "Epoch 694/1000\n",
      "7/7 [==============================] - 0s 7ms/step - loss: 0.1899 - accuracy: 0.9864 - val_loss: 0.2099 - val_accuracy: 0.9789\n"
     ]
    },
    {
     "name": "stdout",
     "output_type": "stream",
     "text": [
      "Epoch 695/1000\n",
      "7/7 [==============================] - 0s 7ms/step - loss: 0.1893 - accuracy: 0.9864 - val_loss: 0.2094 - val_accuracy: 0.9789\n",
      "Epoch 696/1000\n",
      "7/7 [==============================] - 0s 7ms/step - loss: 0.1888 - accuracy: 0.9864 - val_loss: 0.2091 - val_accuracy: 0.9789\n",
      "Epoch 697/1000\n",
      "7/7 [==============================] - 0s 7ms/step - loss: 0.1887 - accuracy: 0.9864 - val_loss: 0.2089 - val_accuracy: 0.9789\n",
      "Epoch 698/1000\n",
      "7/7 [==============================] - 0s 9ms/step - loss: 0.1881 - accuracy: 0.9864 - val_loss: 0.2085 - val_accuracy: 0.9789\n",
      "Epoch 699/1000\n",
      "7/7 [==============================] - 0s 8ms/step - loss: 0.1877 - accuracy: 0.9864 - val_loss: 0.2082 - val_accuracy: 0.9789\n",
      "Epoch 700/1000\n",
      "7/7 [==============================] - 0s 7ms/step - loss: 0.1874 - accuracy: 0.9864 - val_loss: 0.2078 - val_accuracy: 0.9789\n",
      "Epoch 701/1000\n",
      "7/7 [==============================] - 0s 8ms/step - loss: 0.1871 - accuracy: 0.9864 - val_loss: 0.2075 - val_accuracy: 0.9789\n",
      "Epoch 702/1000\n",
      "7/7 [==============================] - 0s 9ms/step - loss: 0.1866 - accuracy: 0.9864 - val_loss: 0.2072 - val_accuracy: 0.9789\n",
      "Epoch 703/1000\n",
      "7/7 [==============================] - 0s 7ms/step - loss: 0.1863 - accuracy: 0.9864 - val_loss: 0.2069 - val_accuracy: 0.9789\n",
      "Epoch 704/1000\n",
      "7/7 [==============================] - 0s 7ms/step - loss: 0.1858 - accuracy: 0.9864 - val_loss: 0.2064 - val_accuracy: 0.9789\n",
      "Epoch 705/1000\n",
      "7/7 [==============================] - 0s 6ms/step - loss: 0.1855 - accuracy: 0.9864 - val_loss: 0.2061 - val_accuracy: 0.9789\n",
      "Epoch 706/1000\n",
      "7/7 [==============================] - 0s 7ms/step - loss: 0.1850 - accuracy: 0.9864 - val_loss: 0.2057 - val_accuracy: 0.9789\n",
      "Epoch 707/1000\n",
      "7/7 [==============================] - 0s 7ms/step - loss: 0.1846 - accuracy: 0.9864 - val_loss: 0.2053 - val_accuracy: 0.9789\n",
      "Epoch 708/1000\n",
      "7/7 [==============================] - 0s 7ms/step - loss: 0.1843 - accuracy: 0.9864 - val_loss: 0.2050 - val_accuracy: 0.9789\n",
      "Epoch 709/1000\n",
      "7/7 [==============================] - 0s 7ms/step - loss: 0.1839 - accuracy: 0.9864 - val_loss: 0.2047 - val_accuracy: 0.9789\n",
      "Epoch 710/1000\n",
      "7/7 [==============================] - 0s 7ms/step - loss: 0.1835 - accuracy: 0.9864 - val_loss: 0.2043 - val_accuracy: 0.9789\n",
      "Epoch 711/1000\n",
      "7/7 [==============================] - 0s 7ms/step - loss: 0.1831 - accuracy: 0.9864 - val_loss: 0.2040 - val_accuracy: 0.9789\n",
      "Epoch 712/1000\n",
      "7/7 [==============================] - 0s 7ms/step - loss: 0.1827 - accuracy: 0.9864 - val_loss: 0.2037 - val_accuracy: 0.9789\n",
      "Epoch 713/1000\n",
      "7/7 [==============================] - 0s 7ms/step - loss: 0.1824 - accuracy: 0.9864 - val_loss: 0.2034 - val_accuracy: 0.9789\n",
      "Epoch 714/1000\n",
      "7/7 [==============================] - 0s 7ms/step - loss: 0.1819 - accuracy: 0.9864 - val_loss: 0.2031 - val_accuracy: 0.9789\n",
      "Epoch 715/1000\n",
      "7/7 [==============================] - 0s 7ms/step - loss: 0.1815 - accuracy: 0.9864 - val_loss: 0.2027 - val_accuracy: 0.9789\n",
      "Epoch 716/1000\n",
      "7/7 [==============================] - 0s 7ms/step - loss: 0.1813 - accuracy: 0.9864 - val_loss: 0.2024 - val_accuracy: 0.9789\n",
      "Epoch 717/1000\n",
      "7/7 [==============================] - 0s 7ms/step - loss: 0.1809 - accuracy: 0.9864 - val_loss: 0.2021 - val_accuracy: 0.9789\n",
      "Epoch 718/1000\n",
      "7/7 [==============================] - 0s 7ms/step - loss: 0.1806 - accuracy: 0.9864 - val_loss: 0.2017 - val_accuracy: 0.9789\n",
      "Epoch 719/1000\n",
      "7/7 [==============================] - 0s 7ms/step - loss: 0.1801 - accuracy: 0.9864 - val_loss: 0.2014 - val_accuracy: 0.9789\n",
      "Epoch 720/1000\n",
      "7/7 [==============================] - 0s 7ms/step - loss: 0.1797 - accuracy: 0.9864 - val_loss: 0.2011 - val_accuracy: 0.9789\n",
      "Epoch 721/1000\n",
      "7/7 [==============================] - 0s 9ms/step - loss: 0.1794 - accuracy: 0.9864 - val_loss: 0.2007 - val_accuracy: 0.9789\n",
      "Epoch 722/1000\n",
      "7/7 [==============================] - 0s 8ms/step - loss: 0.1791 - accuracy: 0.9864 - val_loss: 0.2004 - val_accuracy: 0.9789\n",
      "Epoch 723/1000\n",
      "7/7 [==============================] - 0s 7ms/step - loss: 0.1787 - accuracy: 0.9864 - val_loss: 0.2001 - val_accuracy: 0.9789\n",
      "Epoch 724/1000\n",
      "7/7 [==============================] - 0s 8ms/step - loss: 0.1783 - accuracy: 0.9864 - val_loss: 0.1998 - val_accuracy: 0.9789\n",
      "Epoch 725/1000\n",
      "7/7 [==============================] - 0s 7ms/step - loss: 0.1781 - accuracy: 0.9864 - val_loss: 0.1995 - val_accuracy: 0.9789\n",
      "Epoch 726/1000\n",
      "7/7 [==============================] - 0s 7ms/step - loss: 0.1776 - accuracy: 0.9864 - val_loss: 0.1992 - val_accuracy: 0.9789\n",
      "Epoch 727/1000\n",
      "7/7 [==============================] - 0s 7ms/step - loss: 0.1772 - accuracy: 0.9864 - val_loss: 0.1989 - val_accuracy: 0.9789\n",
      "Epoch 728/1000\n",
      "7/7 [==============================] - 0s 7ms/step - loss: 0.1769 - accuracy: 0.9864 - val_loss: 0.1986 - val_accuracy: 0.9789\n",
      "Epoch 729/1000\n",
      "7/7 [==============================] - 0s 7ms/step - loss: 0.1766 - accuracy: 0.9864 - val_loss: 0.1983 - val_accuracy: 0.9789\n",
      "Epoch 730/1000\n",
      "7/7 [==============================] - 0s 7ms/step - loss: 0.1761 - accuracy: 0.9864 - val_loss: 0.1980 - val_accuracy: 0.9789\n",
      "Epoch 731/1000\n",
      "7/7 [==============================] - 0s 7ms/step - loss: 0.1758 - accuracy: 0.9864 - val_loss: 0.1977 - val_accuracy: 0.9789\n",
      "Epoch 732/1000\n",
      "7/7 [==============================] - 0s 7ms/step - loss: 0.1754 - accuracy: 0.9864 - val_loss: 0.1973 - val_accuracy: 0.9789\n",
      "Epoch 733/1000\n",
      "7/7 [==============================] - 0s 7ms/step - loss: 0.1751 - accuracy: 0.9864 - val_loss: 0.1970 - val_accuracy: 0.9789\n",
      "Epoch 734/1000\n",
      "7/7 [==============================] - 0s 7ms/step - loss: 0.1747 - accuracy: 0.9864 - val_loss: 0.1968 - val_accuracy: 0.9789\n",
      "Epoch 735/1000\n",
      "7/7 [==============================] - 0s 7ms/step - loss: 0.1745 - accuracy: 0.9864 - val_loss: 0.1964 - val_accuracy: 0.9789\n",
      "Epoch 736/1000\n",
      "7/7 [==============================] - 0s 7ms/step - loss: 0.1741 - accuracy: 0.9864 - val_loss: 0.1962 - val_accuracy: 0.9789\n",
      "Epoch 737/1000\n",
      "7/7 [==============================] - 0s 7ms/step - loss: 0.1736 - accuracy: 0.9864 - val_loss: 0.1958 - val_accuracy: 0.9789\n",
      "Epoch 738/1000\n",
      "7/7 [==============================] - 0s 7ms/step - loss: 0.1733 - accuracy: 0.9864 - val_loss: 0.1955 - val_accuracy: 0.9789\n",
      "Epoch 739/1000\n",
      "7/7 [==============================] - 0s 7ms/step - loss: 0.1730 - accuracy: 0.9864 - val_loss: 0.1953 - val_accuracy: 0.9789\n",
      "Epoch 740/1000\n",
      "7/7 [==============================] - 0s 7ms/step - loss: 0.1727 - accuracy: 0.9864 - val_loss: 0.1949 - val_accuracy: 0.9789\n",
      "Epoch 741/1000\n",
      "7/7 [==============================] - 0s 7ms/step - loss: 0.1724 - accuracy: 0.9864 - val_loss: 0.1946 - val_accuracy: 0.9789\n",
      "Epoch 742/1000\n",
      "7/7 [==============================] - 0s 7ms/step - loss: 0.1719 - accuracy: 0.9864 - val_loss: 0.1943 - val_accuracy: 0.9789\n",
      "Epoch 743/1000\n",
      "7/7 [==============================] - 0s 7ms/step - loss: 0.1716 - accuracy: 0.9864 - val_loss: 0.1940 - val_accuracy: 0.9789\n",
      "Epoch 744/1000\n",
      "7/7 [==============================] - 0s 9ms/step - loss: 0.1713 - accuracy: 0.9864 - val_loss: 0.1938 - val_accuracy: 0.9789\n",
      "Epoch 745/1000\n",
      "7/7 [==============================] - 0s 9ms/step - loss: 0.1710 - accuracy: 0.9864 - val_loss: 0.1935 - val_accuracy: 0.9789\n",
      "Epoch 746/1000\n",
      "7/7 [==============================] - 0s 7ms/step - loss: 0.1707 - accuracy: 0.9864 - val_loss: 0.1933 - val_accuracy: 0.9789\n",
      "Epoch 747/1000\n",
      "7/7 [==============================] - 0s 7ms/step - loss: 0.1702 - accuracy: 0.9864 - val_loss: 0.1929 - val_accuracy: 0.9789\n",
      "Epoch 748/1000\n",
      "7/7 [==============================] - 0s 7ms/step - loss: 0.1700 - accuracy: 0.9864 - val_loss: 0.1925 - val_accuracy: 0.9789\n",
      "Epoch 749/1000\n",
      "7/7 [==============================] - 0s 8ms/step - loss: 0.1696 - accuracy: 0.9864 - val_loss: 0.1923 - val_accuracy: 0.9789\n",
      "Epoch 750/1000\n",
      "7/7 [==============================] - 0s 11ms/step - loss: 0.1694 - accuracy: 0.9864 - val_loss: 0.1919 - val_accuracy: 0.9789\n",
      "Epoch 751/1000\n",
      "7/7 [==============================] - 0s 7ms/step - loss: 0.1689 - accuracy: 0.9864 - val_loss: 0.1917 - val_accuracy: 0.9789\n",
      "Epoch 752/1000\n",
      "7/7 [==============================] - 0s 7ms/step - loss: 0.1686 - accuracy: 0.9864 - val_loss: 0.1914 - val_accuracy: 0.9789\n"
     ]
    },
    {
     "name": "stdout",
     "output_type": "stream",
     "text": [
      "Epoch 753/1000\n",
      "7/7 [==============================] - 0s 7ms/step - loss: 0.1683 - accuracy: 0.9864 - val_loss: 0.1910 - val_accuracy: 0.9789\n",
      "Epoch 754/1000\n",
      "7/7 [==============================] - 0s 7ms/step - loss: 0.1679 - accuracy: 0.9864 - val_loss: 0.1908 - val_accuracy: 0.9789\n",
      "Epoch 755/1000\n",
      "7/7 [==============================] - 0s 7ms/step - loss: 0.1675 - accuracy: 0.9864 - val_loss: 0.1904 - val_accuracy: 0.9789\n",
      "Epoch 756/1000\n",
      "7/7 [==============================] - 0s 7ms/step - loss: 0.1673 - accuracy: 0.9864 - val_loss: 0.1901 - val_accuracy: 0.9789\n",
      "Epoch 757/1000\n",
      "7/7 [==============================] - 0s 7ms/step - loss: 0.1668 - accuracy: 0.9864 - val_loss: 0.1899 - val_accuracy: 0.9789\n",
      "Epoch 758/1000\n",
      "7/7 [==============================] - 0s 7ms/step - loss: 0.1665 - accuracy: 0.9864 - val_loss: 0.1895 - val_accuracy: 0.9789\n",
      "Epoch 759/1000\n",
      "7/7 [==============================] - 0s 7ms/step - loss: 0.1662 - accuracy: 0.9864 - val_loss: 0.1893 - val_accuracy: 0.9789\n",
      "Epoch 760/1000\n",
      "7/7 [==============================] - 0s 7ms/step - loss: 0.1658 - accuracy: 0.9864 - val_loss: 0.1890 - val_accuracy: 0.9789\n",
      "Epoch 761/1000\n",
      "7/7 [==============================] - 0s 7ms/step - loss: 0.1655 - accuracy: 0.9864 - val_loss: 0.1886 - val_accuracy: 0.9789\n",
      "Epoch 762/1000\n",
      "7/7 [==============================] - 0s 7ms/step - loss: 0.1651 - accuracy: 0.9864 - val_loss: 0.1883 - val_accuracy: 0.9789\n",
      "Epoch 763/1000\n",
      "7/7 [==============================] - 0s 8ms/step - loss: 0.1648 - accuracy: 0.9864 - val_loss: 0.1880 - val_accuracy: 0.9789\n",
      "Epoch 764/1000\n",
      "7/7 [==============================] - 0s 8ms/step - loss: 0.1645 - accuracy: 0.9864 - val_loss: 0.1878 - val_accuracy: 0.9789\n",
      "Epoch 765/1000\n",
      "7/7 [==============================] - 0s 8ms/step - loss: 0.1641 - accuracy: 0.9864 - val_loss: 0.1875 - val_accuracy: 0.9789\n",
      "Epoch 766/1000\n",
      "7/7 [==============================] - 0s 7ms/step - loss: 0.1639 - accuracy: 0.9864 - val_loss: 0.1872 - val_accuracy: 0.9789\n",
      "Epoch 767/1000\n",
      "7/7 [==============================] - 0s 8ms/step - loss: 0.1635 - accuracy: 0.9864 - val_loss: 0.1869 - val_accuracy: 0.9789\n",
      "Epoch 768/1000\n",
      "7/7 [==============================] - 0s 8ms/step - loss: 0.1633 - accuracy: 0.9864 - val_loss: 0.1867 - val_accuracy: 0.9789\n",
      "Epoch 769/1000\n",
      "7/7 [==============================] - 0s 8ms/step - loss: 0.1628 - accuracy: 0.9864 - val_loss: 0.1864 - val_accuracy: 0.9789\n",
      "Epoch 770/1000\n",
      "7/7 [==============================] - 0s 7ms/step - loss: 0.1625 - accuracy: 0.9864 - val_loss: 0.1862 - val_accuracy: 0.9789\n",
      "Epoch 771/1000\n",
      "7/7 [==============================] - 0s 7ms/step - loss: 0.1623 - accuracy: 0.9864 - val_loss: 0.1859 - val_accuracy: 0.9789\n",
      "Epoch 772/1000\n",
      "7/7 [==============================] - 0s 7ms/step - loss: 0.1619 - accuracy: 0.9864 - val_loss: 0.1856 - val_accuracy: 0.9789\n",
      "Epoch 773/1000\n",
      "7/7 [==============================] - 0s 7ms/step - loss: 0.1616 - accuracy: 0.9864 - val_loss: 0.1853 - val_accuracy: 0.9789\n",
      "Epoch 774/1000\n",
      "7/7 [==============================] - 0s 8ms/step - loss: 0.1614 - accuracy: 0.9864 - val_loss: 0.1850 - val_accuracy: 0.9789\n",
      "Epoch 775/1000\n",
      "7/7 [==============================] - 0s 7ms/step - loss: 0.1610 - accuracy: 0.9864 - val_loss: 0.1849 - val_accuracy: 0.9789\n",
      "Epoch 776/1000\n",
      "7/7 [==============================] - 0s 7ms/step - loss: 0.1607 - accuracy: 0.9864 - val_loss: 0.1846 - val_accuracy: 0.9789\n",
      "Epoch 777/1000\n",
      "7/7 [==============================] - 0s 8ms/step - loss: 0.1604 - accuracy: 0.9864 - val_loss: 0.1843 - val_accuracy: 0.9789\n",
      "Epoch 778/1000\n",
      "7/7 [==============================] - 0s 7ms/step - loss: 0.1601 - accuracy: 0.9864 - val_loss: 0.1841 - val_accuracy: 0.9789\n",
      "Epoch 779/1000\n",
      "7/7 [==============================] - 0s 7ms/step - loss: 0.1598 - accuracy: 0.9864 - val_loss: 0.1838 - val_accuracy: 0.9789\n",
      "Epoch 780/1000\n",
      "7/7 [==============================] - 0s 7ms/step - loss: 0.1595 - accuracy: 0.9864 - val_loss: 0.1835 - val_accuracy: 0.9789\n",
      "Epoch 781/1000\n",
      "7/7 [==============================] - 0s 7ms/step - loss: 0.1591 - accuracy: 0.9864 - val_loss: 0.1832 - val_accuracy: 0.9789\n",
      "Epoch 782/1000\n",
      "7/7 [==============================] - 0s 7ms/step - loss: 0.1588 - accuracy: 0.9864 - val_loss: 0.1830 - val_accuracy: 0.9789\n",
      "Epoch 783/1000\n",
      "7/7 [==============================] - 0s 7ms/step - loss: 0.1585 - accuracy: 0.9864 - val_loss: 0.1826 - val_accuracy: 0.9789\n",
      "Epoch 784/1000\n",
      "7/7 [==============================] - 0s 7ms/step - loss: 0.1582 - accuracy: 0.9864 - val_loss: 0.1824 - val_accuracy: 0.9789\n",
      "Epoch 785/1000\n",
      "7/7 [==============================] - 0s 9ms/step - loss: 0.1579 - accuracy: 0.9864 - val_loss: 0.1821 - val_accuracy: 0.9789\n",
      "Epoch 786/1000\n",
      "7/7 [==============================] - 0s 8ms/step - loss: 0.1577 - accuracy: 0.9864 - val_loss: 0.1818 - val_accuracy: 0.9789\n",
      "Epoch 787/1000\n",
      "7/7 [==============================] - 0s 7ms/step - loss: 0.1572 - accuracy: 0.9864 - val_loss: 0.1816 - val_accuracy: 0.9789\n",
      "Epoch 788/1000\n",
      "7/7 [==============================] - 0s 7ms/step - loss: 0.1570 - accuracy: 0.9864 - val_loss: 0.1813 - val_accuracy: 0.9789\n",
      "Epoch 789/1000\n",
      "7/7 [==============================] - 0s 7ms/step - loss: 0.1566 - accuracy: 0.9864 - val_loss: 0.1811 - val_accuracy: 0.9789\n",
      "Epoch 790/1000\n",
      "7/7 [==============================] - 0s 7ms/step - loss: 0.1564 - accuracy: 0.9864 - val_loss: 0.1808 - val_accuracy: 0.9789\n",
      "Epoch 791/1000\n",
      "7/7 [==============================] - 0s 7ms/step - loss: 0.1561 - accuracy: 0.9864 - val_loss: 0.1806 - val_accuracy: 0.9789\n",
      "Epoch 792/1000\n",
      "7/7 [==============================] - 0s 13ms/step - loss: 0.1558 - accuracy: 0.9864 - val_loss: 0.1803 - val_accuracy: 0.9789\n",
      "Epoch 793/1000\n",
      "7/7 [==============================] - 0s 10ms/step - loss: 0.1554 - accuracy: 0.9864 - val_loss: 0.1799 - val_accuracy: 0.9789\n",
      "Epoch 794/1000\n",
      "7/7 [==============================] - 0s 7ms/step - loss: 0.1551 - accuracy: 0.9864 - val_loss: 0.1798 - val_accuracy: 0.9789\n",
      "Epoch 795/1000\n",
      "7/7 [==============================] - 0s 7ms/step - loss: 0.1548 - accuracy: 0.9864 - val_loss: 0.1794 - val_accuracy: 0.9789\n",
      "Epoch 796/1000\n",
      "7/7 [==============================] - 0s 7ms/step - loss: 0.1546 - accuracy: 0.9864 - val_loss: 0.1793 - val_accuracy: 0.9789\n",
      "Epoch 797/1000\n",
      "7/7 [==============================] - 0s 7ms/step - loss: 0.1542 - accuracy: 0.9864 - val_loss: 0.1791 - val_accuracy: 0.9789\n",
      "Epoch 798/1000\n",
      "7/7 [==============================] - 0s 7ms/step - loss: 0.1539 - accuracy: 0.9864 - val_loss: 0.1787 - val_accuracy: 0.9789\n",
      "Epoch 799/1000\n",
      "7/7 [==============================] - 0s 7ms/step - loss: 0.1536 - accuracy: 0.9864 - val_loss: 0.1785 - val_accuracy: 0.9789\n",
      "Epoch 800/1000\n",
      "7/7 [==============================] - 0s 7ms/step - loss: 0.1534 - accuracy: 0.9864 - val_loss: 0.1782 - val_accuracy: 0.9789\n",
      "Epoch 801/1000\n",
      "7/7 [==============================] - 0s 7ms/step - loss: 0.1531 - accuracy: 0.9864 - val_loss: 0.1779 - val_accuracy: 0.9789\n",
      "Epoch 802/1000\n",
      "7/7 [==============================] - 0s 10ms/step - loss: 0.1528 - accuracy: 0.9864 - val_loss: 0.1776 - val_accuracy: 0.9789\n",
      "Epoch 803/1000\n",
      "7/7 [==============================] - 0s 16ms/step - loss: 0.1525 - accuracy: 0.9864 - val_loss: 0.1774 - val_accuracy: 0.9789\n",
      "Epoch 804/1000\n",
      "7/7 [==============================] - 0s 9ms/step - loss: 0.1522 - accuracy: 0.9864 - val_loss: 0.1772 - val_accuracy: 0.9789\n",
      "Epoch 805/1000\n",
      "7/7 [==============================] - 0s 10ms/step - loss: 0.1519 - accuracy: 0.9864 - val_loss: 0.1769 - val_accuracy: 0.9789\n",
      "Epoch 806/1000\n",
      "7/7 [==============================] - 0s 11ms/step - loss: 0.1516 - accuracy: 0.9864 - val_loss: 0.1767 - val_accuracy: 0.9789\n",
      "Epoch 807/1000\n",
      "7/7 [==============================] - 0s 10ms/step - loss: 0.1512 - accuracy: 0.9864 - val_loss: 0.1764 - val_accuracy: 0.9789\n",
      "Epoch 808/1000\n",
      "7/7 [==============================] - 0s 8ms/step - loss: 0.1511 - accuracy: 0.9864 - val_loss: 0.1763 - val_accuracy: 0.9789\n",
      "Epoch 809/1000\n",
      "7/7 [==============================] - 0s 7ms/step - loss: 0.1507 - accuracy: 0.9864 - val_loss: 0.1760 - val_accuracy: 0.9789\n",
      "Epoch 810/1000\n",
      "7/7 [==============================] - 0s 11ms/step - loss: 0.1504 - accuracy: 0.9864 - val_loss: 0.1757 - val_accuracy: 0.9789\n",
      "Epoch 811/1000\n",
      "7/7 [==============================] - 0s 12ms/step - loss: 0.1502 - accuracy: 0.9864 - val_loss: 0.1755 - val_accuracy: 0.9789\n",
      "Epoch 812/1000\n",
      "7/7 [==============================] - 0s 11ms/step - loss: 0.1500 - accuracy: 0.9864 - val_loss: 0.1752 - val_accuracy: 0.9789\n",
      "Epoch 813/1000\n",
      "7/7 [==============================] - 0s 13ms/step - loss: 0.1495 - accuracy: 0.9864 - val_loss: 0.1750 - val_accuracy: 0.9789\n",
      "Epoch 814/1000\n",
      "7/7 [==============================] - 0s 11ms/step - loss: 0.1494 - accuracy: 0.9864 - val_loss: 0.1748 - val_accuracy: 0.9789\n",
      "Epoch 815/1000\n",
      "7/7 [==============================] - 0s 16ms/step - loss: 0.1491 - accuracy: 0.9864 - val_loss: 0.1746 - val_accuracy: 0.9789\n",
      "Epoch 816/1000\n",
      "7/7 [==============================] - 0s 10ms/step - loss: 0.1488 - accuracy: 0.9864 - val_loss: 0.1744 - val_accuracy: 0.9789\n",
      "Epoch 817/1000\n",
      "7/7 [==============================] - 0s 11ms/step - loss: 0.1485 - accuracy: 0.9864 - val_loss: 0.1741 - val_accuracy: 0.9789\n",
      "Epoch 818/1000\n",
      "7/7 [==============================] - 0s 9ms/step - loss: 0.1483 - accuracy: 0.9864 - val_loss: 0.1738 - val_accuracy: 0.9789\n",
      "Epoch 819/1000\n",
      "7/7 [==============================] - 0s 11ms/step - loss: 0.1480 - accuracy: 0.9864 - val_loss: 0.1736 - val_accuracy: 0.9789\n",
      "Epoch 820/1000\n",
      "7/7 [==============================] - 0s 11ms/step - loss: 0.1477 - accuracy: 0.9864 - val_loss: 0.1734 - val_accuracy: 0.9789\n",
      "Epoch 821/1000\n",
      "7/7 [==============================] - 0s 11ms/step - loss: 0.1477 - accuracy: 0.9864 - val_loss: 0.1731 - val_accuracy: 0.9789\n",
      "Epoch 822/1000\n",
      "7/7 [==============================] - 0s 12ms/step - loss: 0.1472 - accuracy: 0.9864 - val_loss: 0.1729 - val_accuracy: 0.9789\n",
      "Epoch 823/1000\n",
      "7/7 [==============================] - 0s 8ms/step - loss: 0.1469 - accuracy: 0.9864 - val_loss: 0.1726 - val_accuracy: 0.9789\n",
      "Epoch 824/1000\n",
      "7/7 [==============================] - 0s 9ms/step - loss: 0.1467 - accuracy: 0.9864 - val_loss: 0.1724 - val_accuracy: 0.9789\n",
      "Epoch 825/1000\n",
      "7/7 [==============================] - 0s 8ms/step - loss: 0.1464 - accuracy: 0.9864 - val_loss: 0.1723 - val_accuracy: 0.9789\n",
      "Epoch 826/1000\n",
      "7/7 [==============================] - 0s 8ms/step - loss: 0.1461 - accuracy: 0.9864 - val_loss: 0.1721 - val_accuracy: 0.9789\n",
      "Epoch 827/1000\n",
      "7/7 [==============================] - 0s 8ms/step - loss: 0.1459 - accuracy: 0.9864 - val_loss: 0.1719 - val_accuracy: 0.9789\n",
      "Epoch 828/1000\n",
      "7/7 [==============================] - 0s 8ms/step - loss: 0.1456 - accuracy: 0.9864 - val_loss: 0.1716 - val_accuracy: 0.9789\n",
      "Epoch 829/1000\n",
      "7/7 [==============================] - 0s 8ms/step - loss: 0.1453 - accuracy: 0.9864 - val_loss: 0.1714 - val_accuracy: 0.9789\n",
      "Epoch 830/1000\n",
      "7/7 [==============================] - 0s 9ms/step - loss: 0.1452 - accuracy: 0.9864 - val_loss: 0.1711 - val_accuracy: 0.9789\n",
      "Epoch 831/1000\n",
      "7/7 [==============================] - 0s 11ms/step - loss: 0.1448 - accuracy: 0.9864 - val_loss: 0.1709 - val_accuracy: 0.9789\n",
      "Epoch 832/1000\n",
      "7/7 [==============================] - 0s 7ms/step - loss: 0.1445 - accuracy: 0.9864 - val_loss: 0.1706 - val_accuracy: 0.9789\n",
      "Epoch 833/1000\n",
      "7/7 [==============================] - 0s 7ms/step - loss: 0.1443 - accuracy: 0.9864 - val_loss: 0.1704 - val_accuracy: 0.9789\n",
      "Epoch 834/1000\n",
      "7/7 [==============================] - 0s 7ms/step - loss: 0.1439 - accuracy: 0.9864 - val_loss: 0.1702 - val_accuracy: 0.9789\n",
      "Epoch 835/1000\n",
      "7/7 [==============================] - 0s 9ms/step - loss: 0.1437 - accuracy: 0.9864 - val_loss: 0.1700 - val_accuracy: 0.9789\n",
      "Epoch 836/1000\n",
      "7/7 [==============================] - 0s 13ms/step - loss: 0.1434 - accuracy: 0.9864 - val_loss: 0.1698 - val_accuracy: 0.9789\n",
      "Epoch 837/1000\n",
      "7/7 [==============================] - 0s 12ms/step - loss: 0.1431 - accuracy: 0.9864 - val_loss: 0.1695 - val_accuracy: 0.9789\n",
      "Epoch 838/1000\n",
      "7/7 [==============================] - 0s 15ms/step - loss: 0.1429 - accuracy: 0.9864 - val_loss: 0.1694 - val_accuracy: 0.9789\n",
      "Epoch 839/1000\n",
      "7/7 [==============================] - 0s 12ms/step - loss: 0.1427 - accuracy: 0.9864 - val_loss: 0.1690 - val_accuracy: 0.9789\n",
      "Epoch 840/1000\n",
      "7/7 [==============================] - 0s 11ms/step - loss: 0.1424 - accuracy: 0.9864 - val_loss: 0.1688 - val_accuracy: 0.9789\n",
      "Epoch 841/1000\n",
      "7/7 [==============================] - 0s 11ms/step - loss: 0.1421 - accuracy: 0.9864 - val_loss: 0.1686 - val_accuracy: 0.9789\n",
      "Epoch 842/1000\n",
      "7/7 [==============================] - 0s 12ms/step - loss: 0.1418 - accuracy: 0.9864 - val_loss: 0.1684 - val_accuracy: 0.9789\n",
      "Epoch 843/1000\n",
      "7/7 [==============================] - 0s 15ms/step - loss: 0.1417 - accuracy: 0.9864 - val_loss: 0.1682 - val_accuracy: 0.9789\n",
      "Epoch 844/1000\n",
      "7/7 [==============================] - 0s 16ms/step - loss: 0.1412 - accuracy: 0.9864 - val_loss: 0.1679 - val_accuracy: 0.9789\n",
      "Epoch 845/1000\n",
      "7/7 [==============================] - 0s 14ms/step - loss: 0.1411 - accuracy: 0.9864 - val_loss: 0.1677 - val_accuracy: 0.9789\n",
      "Epoch 846/1000\n",
      "7/7 [==============================] - 0s 12ms/step - loss: 0.1408 - accuracy: 0.9864 - val_loss: 0.1675 - val_accuracy: 0.9789\n",
      "Epoch 847/1000\n",
      "7/7 [==============================] - 0s 13ms/step - loss: 0.1405 - accuracy: 0.9864 - val_loss: 0.1673 - val_accuracy: 0.9789\n",
      "Epoch 848/1000\n",
      "7/7 [==============================] - 0s 12ms/step - loss: 0.1403 - accuracy: 0.9864 - val_loss: 0.1670 - val_accuracy: 0.9789\n",
      "Epoch 849/1000\n",
      "7/7 [==============================] - 0s 11ms/step - loss: 0.1401 - accuracy: 0.9864 - val_loss: 0.1668 - val_accuracy: 0.9789\n",
      "Epoch 850/1000\n",
      "7/7 [==============================] - 0s 8ms/step - loss: 0.1397 - accuracy: 0.9864 - val_loss: 0.1665 - val_accuracy: 0.9789\n",
      "Epoch 851/1000\n",
      "7/7 [==============================] - 0s 7ms/step - loss: 0.1395 - accuracy: 0.9864 - val_loss: 0.1662 - val_accuracy: 0.9789\n",
      "Epoch 852/1000\n",
      "7/7 [==============================] - 0s 13ms/step - loss: 0.1392 - accuracy: 0.9864 - val_loss: 0.1661 - val_accuracy: 0.9789\n",
      "Epoch 853/1000\n",
      "7/7 [==============================] - 0s 12ms/step - loss: 0.1391 - accuracy: 0.9864 - val_loss: 0.1658 - val_accuracy: 0.9789\n",
      "Epoch 854/1000\n",
      "7/7 [==============================] - 0s 10ms/step - loss: 0.1387 - accuracy: 0.9864 - val_loss: 0.1657 - val_accuracy: 0.9789\n",
      "Epoch 855/1000\n",
      "7/7 [==============================] - 0s 10ms/step - loss: 0.1387 - accuracy: 0.9864 - val_loss: 0.1655 - val_accuracy: 0.9789\n",
      "Epoch 856/1000\n",
      "7/7 [==============================] - 0s 10ms/step - loss: 0.1382 - accuracy: 0.9864 - val_loss: 0.1652 - val_accuracy: 0.9789\n",
      "Epoch 857/1000\n",
      "7/7 [==============================] - 0s 11ms/step - loss: 0.1380 - accuracy: 0.9864 - val_loss: 0.1650 - val_accuracy: 0.9789\n",
      "Epoch 858/1000\n",
      "7/7 [==============================] - 0s 9ms/step - loss: 0.1379 - accuracy: 0.9864 - val_loss: 0.1648 - val_accuracy: 0.9789\n",
      "Epoch 859/1000\n",
      "7/7 [==============================] - 0s 9ms/step - loss: 0.1375 - accuracy: 0.9864 - val_loss: 0.1646 - val_accuracy: 0.9789\n",
      "Epoch 860/1000\n",
      "7/7 [==============================] - 0s 11ms/step - loss: 0.1374 - accuracy: 0.9864 - val_loss: 0.1644 - val_accuracy: 0.9789\n",
      "Epoch 861/1000\n",
      "7/7 [==============================] - 0s 11ms/step - loss: 0.1370 - accuracy: 0.9864 - val_loss: 0.1641 - val_accuracy: 0.9789\n",
      "Epoch 862/1000\n",
      "7/7 [==============================] - 0s 10ms/step - loss: 0.1368 - accuracy: 0.9864 - val_loss: 0.1639 - val_accuracy: 0.9789\n",
      "Epoch 863/1000\n",
      "7/7 [==============================] - 0s 12ms/step - loss: 0.1366 - accuracy: 0.9864 - val_loss: 0.1637 - val_accuracy: 0.9789\n",
      "Epoch 864/1000\n",
      "7/7 [==============================] - 0s 9ms/step - loss: 0.1363 - accuracy: 0.9864 - val_loss: 0.1634 - val_accuracy: 0.9789\n",
      "Epoch 865/1000\n",
      "7/7 [==============================] - 0s 11ms/step - loss: 0.1360 - accuracy: 0.9864 - val_loss: 0.1632 - val_accuracy: 0.9789\n",
      "Epoch 866/1000\n",
      "7/7 [==============================] - 0s 8ms/step - loss: 0.1358 - accuracy: 0.9864 - val_loss: 0.1630 - val_accuracy: 0.9789\n",
      "Epoch 867/1000\n"
     ]
    },
    {
     "name": "stdout",
     "output_type": "stream",
     "text": [
      "7/7 [==============================] - 0s 8ms/step - loss: 0.1355 - accuracy: 0.9864 - val_loss: 0.1628 - val_accuracy: 0.9789\n",
      "Epoch 868/1000\n",
      "7/7 [==============================] - 0s 8ms/step - loss: 0.1353 - accuracy: 0.9864 - val_loss: 0.1626 - val_accuracy: 0.9789\n",
      "Epoch 869/1000\n",
      "7/7 [==============================] - 0s 8ms/step - loss: 0.1351 - accuracy: 0.9864 - val_loss: 0.1624 - val_accuracy: 0.9789\n",
      "Epoch 870/1000\n",
      "7/7 [==============================] - 0s 8ms/step - loss: 0.1350 - accuracy: 0.9864 - val_loss: 0.1622 - val_accuracy: 0.9789\n",
      "Epoch 871/1000\n",
      "7/7 [==============================] - 0s 10ms/step - loss: 0.1347 - accuracy: 0.9864 - val_loss: 0.1620 - val_accuracy: 0.9789\n",
      "Epoch 872/1000\n",
      "7/7 [==============================] - 0s 13ms/step - loss: 0.1344 - accuracy: 0.9864 - val_loss: 0.1619 - val_accuracy: 0.9789\n",
      "Epoch 873/1000\n",
      "7/7 [==============================] - 0s 11ms/step - loss: 0.1341 - accuracy: 0.9864 - val_loss: 0.1616 - val_accuracy: 0.9789\n",
      "Epoch 874/1000\n",
      "7/7 [==============================] - 0s 9ms/step - loss: 0.1339 - accuracy: 0.9864 - val_loss: 0.1614 - val_accuracy: 0.9789\n",
      "Epoch 875/1000\n",
      "7/7 [==============================] - 0s 10ms/step - loss: 0.1337 - accuracy: 0.9864 - val_loss: 0.1612 - val_accuracy: 0.9789\n",
      "Epoch 876/1000\n",
      "7/7 [==============================] - 0s 9ms/step - loss: 0.1335 - accuracy: 0.9864 - val_loss: 0.1610 - val_accuracy: 0.9789\n",
      "Epoch 877/1000\n",
      "7/7 [==============================] - 0s 7ms/step - loss: 0.1332 - accuracy: 0.9864 - val_loss: 0.1608 - val_accuracy: 0.9789\n",
      "Epoch 878/1000\n",
      "7/7 [==============================] - 0s 7ms/step - loss: 0.1329 - accuracy: 0.9864 - val_loss: 0.1606 - val_accuracy: 0.9789\n",
      "Epoch 879/1000\n",
      "7/7 [==============================] - 0s 7ms/step - loss: 0.1327 - accuracy: 0.9864 - val_loss: 0.1603 - val_accuracy: 0.9789\n",
      "Epoch 880/1000\n",
      "7/7 [==============================] - 0s 9ms/step - loss: 0.1326 - accuracy: 0.9864 - val_loss: 0.1603 - val_accuracy: 0.9789\n",
      "Epoch 881/1000\n",
      "7/7 [==============================] - 0s 11ms/step - loss: 0.1324 - accuracy: 0.9864 - val_loss: 0.1601 - val_accuracy: 0.9789\n",
      "Epoch 882/1000\n",
      "7/7 [==============================] - 0s 7ms/step - loss: 0.1320 - accuracy: 0.9864 - val_loss: 0.1599 - val_accuracy: 0.9789\n",
      "Epoch 883/1000\n",
      "7/7 [==============================] - 0s 7ms/step - loss: 0.1318 - accuracy: 0.9864 - val_loss: 0.1597 - val_accuracy: 0.9789\n",
      "Epoch 884/1000\n",
      "7/7 [==============================] - 0s 7ms/step - loss: 0.1316 - accuracy: 0.9864 - val_loss: 0.1595 - val_accuracy: 0.9789\n",
      "Epoch 885/1000\n",
      "7/7 [==============================] - 0s 7ms/step - loss: 0.1314 - accuracy: 0.9864 - val_loss: 0.1593 - val_accuracy: 0.9789\n",
      "Epoch 886/1000\n",
      "7/7 [==============================] - 0s 7ms/step - loss: 0.1311 - accuracy: 0.9864 - val_loss: 0.1591 - val_accuracy: 0.9789\n",
      "Epoch 887/1000\n",
      "7/7 [==============================] - 0s 7ms/step - loss: 0.1308 - accuracy: 0.9864 - val_loss: 0.1589 - val_accuracy: 0.9789\n",
      "Epoch 888/1000\n",
      "7/7 [==============================] - 0s 7ms/step - loss: 0.1306 - accuracy: 0.9864 - val_loss: 0.1587 - val_accuracy: 0.9789\n",
      "Epoch 889/1000\n",
      "7/7 [==============================] - 0s 8ms/step - loss: 0.1305 - accuracy: 0.9864 - val_loss: 0.1585 - val_accuracy: 0.9789\n",
      "Epoch 890/1000\n",
      "7/7 [==============================] - 0s 7ms/step - loss: 0.1303 - accuracy: 0.9864 - val_loss: 0.1583 - val_accuracy: 0.9789\n",
      "Epoch 891/1000\n",
      "7/7 [==============================] - 0s 7ms/step - loss: 0.1300 - accuracy: 0.9864 - val_loss: 0.1581 - val_accuracy: 0.9789\n",
      "Epoch 892/1000\n",
      "7/7 [==============================] - 0s 7ms/step - loss: 0.1297 - accuracy: 0.9864 - val_loss: 0.1579 - val_accuracy: 0.9789\n",
      "Epoch 893/1000\n",
      "7/7 [==============================] - 0s 7ms/step - loss: 0.1295 - accuracy: 0.9864 - val_loss: 0.1578 - val_accuracy: 0.9789\n",
      "Epoch 894/1000\n",
      "7/7 [==============================] - 0s 7ms/step - loss: 0.1293 - accuracy: 0.9864 - val_loss: 0.1577 - val_accuracy: 0.9789\n",
      "Epoch 895/1000\n",
      "7/7 [==============================] - 0s 7ms/step - loss: 0.1292 - accuracy: 0.9864 - val_loss: 0.1575 - val_accuracy: 0.9789\n",
      "Epoch 896/1000\n",
      "7/7 [==============================] - 0s 11ms/step - loss: 0.1289 - accuracy: 0.9864 - val_loss: 0.1572 - val_accuracy: 0.9789\n",
      "Epoch 897/1000\n",
      "7/7 [==============================] - 0s 14ms/step - loss: 0.1287 - accuracy: 0.9864 - val_loss: 0.1571 - val_accuracy: 0.9789\n",
      "Epoch 898/1000\n",
      "7/7 [==============================] - 0s 11ms/step - loss: 0.1285 - accuracy: 0.9864 - val_loss: 0.1569 - val_accuracy: 0.9789\n",
      "Epoch 899/1000\n",
      "7/7 [==============================] - 0s 8ms/step - loss: 0.1282 - accuracy: 0.9864 - val_loss: 0.1566 - val_accuracy: 0.9789\n",
      "Epoch 900/1000\n",
      "7/7 [==============================] - 0s 11ms/step - loss: 0.1280 - accuracy: 0.9864 - val_loss: 0.1564 - val_accuracy: 0.9789\n",
      "Epoch 901/1000\n",
      "7/7 [==============================] - 0s 12ms/step - loss: 0.1277 - accuracy: 0.9864 - val_loss: 0.1563 - val_accuracy: 0.9789\n",
      "Epoch 902/1000\n",
      "7/7 [==============================] - 0s 9ms/step - loss: 0.1275 - accuracy: 0.9864 - val_loss: 0.1561 - val_accuracy: 0.9789\n",
      "Epoch 903/1000\n",
      "7/7 [==============================] - 0s 11ms/step - loss: 0.1273 - accuracy: 0.9864 - val_loss: 0.1559 - val_accuracy: 0.9789\n",
      "Epoch 904/1000\n",
      "7/7 [==============================] - 0s 7ms/step - loss: 0.1271 - accuracy: 0.9864 - val_loss: 0.1556 - val_accuracy: 0.9789\n",
      "Epoch 905/1000\n",
      "7/7 [==============================] - 0s 7ms/step - loss: 0.1268 - accuracy: 0.9864 - val_loss: 0.1554 - val_accuracy: 0.9789\n",
      "Epoch 906/1000\n",
      "7/7 [==============================] - 0s 10ms/step - loss: 0.1266 - accuracy: 0.9864 - val_loss: 0.1552 - val_accuracy: 0.9789\n",
      "Epoch 907/1000\n",
      "7/7 [==============================] - 0s 7ms/step - loss: 0.1264 - accuracy: 0.9864 - val_loss: 0.1551 - val_accuracy: 0.9789\n",
      "Epoch 908/1000\n",
      "7/7 [==============================] - 0s 7ms/step - loss: 0.1262 - accuracy: 0.9864 - val_loss: 0.1549 - val_accuracy: 0.9789\n",
      "Epoch 909/1000\n",
      "7/7 [==============================] - 0s 7ms/step - loss: 0.1259 - accuracy: 0.9864 - val_loss: 0.1547 - val_accuracy: 0.9789\n",
      "Epoch 910/1000\n",
      "7/7 [==============================] - 0s 7ms/step - loss: 0.1257 - accuracy: 0.9864 - val_loss: 0.1545 - val_accuracy: 0.9789\n",
      "Epoch 911/1000\n",
      "7/7 [==============================] - 0s 7ms/step - loss: 0.1256 - accuracy: 0.9864 - val_loss: 0.1543 - val_accuracy: 0.9789\n",
      "Epoch 912/1000\n",
      "7/7 [==============================] - 0s 7ms/step - loss: 0.1252 - accuracy: 0.9864 - val_loss: 0.1541 - val_accuracy: 0.9789\n",
      "Epoch 913/1000\n",
      "7/7 [==============================] - 0s 7ms/step - loss: 0.1251 - accuracy: 0.9864 - val_loss: 0.1539 - val_accuracy: 0.9789\n",
      "Epoch 914/1000\n",
      "7/7 [==============================] - 0s 7ms/step - loss: 0.1248 - accuracy: 0.9864 - val_loss: 0.1537 - val_accuracy: 0.9789\n",
      "Epoch 915/1000\n",
      "7/7 [==============================] - 0s 7ms/step - loss: 0.1246 - accuracy: 0.9864 - val_loss: 0.1535 - val_accuracy: 0.9789\n",
      "Epoch 916/1000\n",
      "7/7 [==============================] - 0s 7ms/step - loss: 0.1245 - accuracy: 0.9864 - val_loss: 0.1533 - val_accuracy: 0.9789\n",
      "Epoch 917/1000\n",
      "7/7 [==============================] - 0s 7ms/step - loss: 0.1242 - accuracy: 0.9864 - val_loss: 0.1531 - val_accuracy: 0.9789\n",
      "Epoch 918/1000\n",
      "7/7 [==============================] - 0s 7ms/step - loss: 0.1239 - accuracy: 0.9864 - val_loss: 0.1528 - val_accuracy: 0.9789\n",
      "Epoch 919/1000\n",
      "7/7 [==============================] - 0s 7ms/step - loss: 0.1237 - accuracy: 0.9864 - val_loss: 0.1527 - val_accuracy: 0.9789\n",
      "Epoch 920/1000\n",
      "7/7 [==============================] - 0s 7ms/step - loss: 0.1237 - accuracy: 0.9864 - val_loss: 0.1525 - val_accuracy: 0.9789\n",
      "Epoch 921/1000\n",
      "7/7 [==============================] - 0s 7ms/step - loss: 0.1234 - accuracy: 0.9864 - val_loss: 0.1523 - val_accuracy: 0.9789\n",
      "Epoch 922/1000\n",
      "7/7 [==============================] - 0s 7ms/step - loss: 0.1231 - accuracy: 0.9864 - val_loss: 0.1520 - val_accuracy: 0.9789\n",
      "Epoch 923/1000\n",
      "7/7 [==============================] - 0s 7ms/step - loss: 0.1230 - accuracy: 0.9864 - val_loss: 0.1519 - val_accuracy: 0.9789\n",
      "Epoch 924/1000\n",
      "7/7 [==============================] - 0s 7ms/step - loss: 0.1226 - accuracy: 0.9864 - val_loss: 0.1518 - val_accuracy: 0.9789\n"
     ]
    },
    {
     "name": "stdout",
     "output_type": "stream",
     "text": [
      "Epoch 925/1000\n",
      "7/7 [==============================] - 0s 7ms/step - loss: 0.1224 - accuracy: 0.9864 - val_loss: 0.1516 - val_accuracy: 0.9789\n",
      "Epoch 926/1000\n",
      "7/7 [==============================] - 0s 8ms/step - loss: 0.1224 - accuracy: 0.9864 - val_loss: 0.1514 - val_accuracy: 0.9789\n",
      "Epoch 927/1000\n",
      "7/7 [==============================] - 0s 7ms/step - loss: 0.1221 - accuracy: 0.9864 - val_loss: 0.1512 - val_accuracy: 0.9789\n",
      "Epoch 928/1000\n",
      "7/7 [==============================] - 0s 7ms/step - loss: 0.1218 - accuracy: 0.9864 - val_loss: 0.1510 - val_accuracy: 0.9789\n",
      "Epoch 929/1000\n",
      "7/7 [==============================] - 0s 7ms/step - loss: 0.1216 - accuracy: 0.9864 - val_loss: 0.1508 - val_accuracy: 0.9789\n",
      "Epoch 930/1000\n",
      "7/7 [==============================] - 0s 8ms/step - loss: 0.1215 - accuracy: 0.9864 - val_loss: 0.1507 - val_accuracy: 0.9789\n",
      "Epoch 931/1000\n",
      "7/7 [==============================] - 0s 7ms/step - loss: 0.1212 - accuracy: 0.9864 - val_loss: 0.1506 - val_accuracy: 0.9789\n",
      "Epoch 932/1000\n",
      "7/7 [==============================] - 0s 7ms/step - loss: 0.1210 - accuracy: 0.9864 - val_loss: 0.1505 - val_accuracy: 0.9789\n",
      "Epoch 933/1000\n",
      "7/7 [==============================] - 0s 7ms/step - loss: 0.1208 - accuracy: 0.9864 - val_loss: 0.1503 - val_accuracy: 0.9789\n",
      "Epoch 934/1000\n",
      "7/7 [==============================] - 0s 7ms/step - loss: 0.1207 - accuracy: 0.9864 - val_loss: 0.1501 - val_accuracy: 0.9789\n",
      "Epoch 935/1000\n",
      "7/7 [==============================] - 0s 7ms/step - loss: 0.1205 - accuracy: 0.9864 - val_loss: 0.1499 - val_accuracy: 0.9789\n",
      "Epoch 936/1000\n",
      "7/7 [==============================] - 0s 7ms/step - loss: 0.1202 - accuracy: 0.9864 - val_loss: 0.1497 - val_accuracy: 0.9789\n",
      "Epoch 937/1000\n",
      "7/7 [==============================] - 0s 7ms/step - loss: 0.1200 - accuracy: 0.9864 - val_loss: 0.1495 - val_accuracy: 0.9789\n",
      "Epoch 938/1000\n",
      "7/7 [==============================] - 0s 7ms/step - loss: 0.1198 - accuracy: 0.9864 - val_loss: 0.1493 - val_accuracy: 0.9789\n",
      "Epoch 939/1000\n",
      "7/7 [==============================] - 0s 7ms/step - loss: 0.1197 - accuracy: 0.9864 - val_loss: 0.1492 - val_accuracy: 0.9789\n",
      "Epoch 940/1000\n",
      "7/7 [==============================] - 0s 7ms/step - loss: 0.1194 - accuracy: 0.9864 - val_loss: 0.1490 - val_accuracy: 0.9789\n",
      "Epoch 941/1000\n",
      "7/7 [==============================] - 0s 7ms/step - loss: 0.1192 - accuracy: 0.9864 - val_loss: 0.1487 - val_accuracy: 0.9789\n",
      "Epoch 942/1000\n",
      "7/7 [==============================] - 0s 7ms/step - loss: 0.1189 - accuracy: 0.9864 - val_loss: 0.1485 - val_accuracy: 0.9789\n",
      "Epoch 943/1000\n",
      "7/7 [==============================] - 0s 7ms/step - loss: 0.1188 - accuracy: 0.9864 - val_loss: 0.1483 - val_accuracy: 0.9789\n",
      "Epoch 944/1000\n",
      "7/7 [==============================] - 0s 7ms/step - loss: 0.1185 - accuracy: 0.9864 - val_loss: 0.1481 - val_accuracy: 0.9789\n",
      "Epoch 945/1000\n",
      "7/7 [==============================] - 0s 7ms/step - loss: 0.1184 - accuracy: 0.9864 - val_loss: 0.1480 - val_accuracy: 0.9789\n",
      "Epoch 946/1000\n",
      "7/7 [==============================] - 0s 7ms/step - loss: 0.1182 - accuracy: 0.9864 - val_loss: 0.1479 - val_accuracy: 0.9789\n",
      "Epoch 947/1000\n",
      "7/7 [==============================] - 0s 8ms/step - loss: 0.1180 - accuracy: 0.9864 - val_loss: 0.1477 - val_accuracy: 0.9789\n",
      "Epoch 948/1000\n",
      "7/7 [==============================] - 0s 7ms/step - loss: 0.1179 - accuracy: 0.9864 - val_loss: 0.1476 - val_accuracy: 0.9789\n",
      "Epoch 949/1000\n",
      "7/7 [==============================] - 0s 7ms/step - loss: 0.1176 - accuracy: 0.9864 - val_loss: 0.1475 - val_accuracy: 0.9789\n",
      "Epoch 950/1000\n",
      "7/7 [==============================] - 0s 7ms/step - loss: 0.1174 - accuracy: 0.9864 - val_loss: 0.1474 - val_accuracy: 0.9789\n",
      "Epoch 951/1000\n",
      "7/7 [==============================] - 0s 7ms/step - loss: 0.1172 - accuracy: 0.9864 - val_loss: 0.1473 - val_accuracy: 0.9789\n",
      "Epoch 952/1000\n",
      "7/7 [==============================] - 0s 7ms/step - loss: 0.1170 - accuracy: 0.9864 - val_loss: 0.1471 - val_accuracy: 0.9789\n",
      "Epoch 953/1000\n",
      "7/7 [==============================] - 0s 7ms/step - loss: 0.1169 - accuracy: 0.9864 - val_loss: 0.1468 - val_accuracy: 0.9789\n",
      "Epoch 954/1000\n",
      "7/7 [==============================] - 0s 7ms/step - loss: 0.1166 - accuracy: 0.9864 - val_loss: 0.1466 - val_accuracy: 0.9789\n",
      "Epoch 955/1000\n",
      "7/7 [==============================] - 0s 7ms/step - loss: 0.1165 - accuracy: 0.9864 - val_loss: 0.1465 - val_accuracy: 0.9789\n",
      "Epoch 956/1000\n",
      "7/7 [==============================] - 0s 7ms/step - loss: 0.1163 - accuracy: 0.9864 - val_loss: 0.1463 - val_accuracy: 0.9789\n",
      "Epoch 957/1000\n",
      "7/7 [==============================] - 0s 7ms/step - loss: 0.1161 - accuracy: 0.9864 - val_loss: 0.1463 - val_accuracy: 0.9789\n",
      "Epoch 958/1000\n",
      "7/7 [==============================] - 0s 7ms/step - loss: 0.1159 - accuracy: 0.9864 - val_loss: 0.1461 - val_accuracy: 0.9789\n",
      "Epoch 959/1000\n",
      "7/7 [==============================] - 0s 7ms/step - loss: 0.1157 - accuracy: 0.9864 - val_loss: 0.1460 - val_accuracy: 0.9789\n",
      "Epoch 960/1000\n",
      "7/7 [==============================] - 0s 7ms/step - loss: 0.1156 - accuracy: 0.9864 - val_loss: 0.1458 - val_accuracy: 0.9789\n",
      "Epoch 961/1000\n",
      "7/7 [==============================] - 0s 7ms/step - loss: 0.1154 - accuracy: 0.9864 - val_loss: 0.1457 - val_accuracy: 0.9789\n",
      "Epoch 962/1000\n",
      "7/7 [==============================] - 0s 7ms/step - loss: 0.1151 - accuracy: 0.9864 - val_loss: 0.1455 - val_accuracy: 0.9789\n",
      "Epoch 963/1000\n",
      "7/7 [==============================] - 0s 8ms/step - loss: 0.1151 - accuracy: 0.9864 - val_loss: 0.1453 - val_accuracy: 0.9789\n",
      "Epoch 964/1000\n",
      "7/7 [==============================] - 0s 8ms/step - loss: 0.1147 - accuracy: 0.9864 - val_loss: 0.1450 - val_accuracy: 0.9789\n",
      "Epoch 965/1000\n",
      "7/7 [==============================] - 0s 8ms/step - loss: 0.1146 - accuracy: 0.9864 - val_loss: 0.1450 - val_accuracy: 0.9789\n",
      "Epoch 966/1000\n",
      "7/7 [==============================] - 0s 7ms/step - loss: 0.1145 - accuracy: 0.9864 - val_loss: 0.1447 - val_accuracy: 0.9789\n",
      "Epoch 967/1000\n",
      "7/7 [==============================] - 0s 8ms/step - loss: 0.1142 - accuracy: 0.9864 - val_loss: 0.1446 - val_accuracy: 0.9789\n",
      "Epoch 968/1000\n",
      "7/7 [==============================] - 0s 11ms/step - loss: 0.1140 - accuracy: 0.9864 - val_loss: 0.1444 - val_accuracy: 0.9789\n",
      "Epoch 969/1000\n",
      "7/7 [==============================] - 0s 8ms/step - loss: 0.1138 - accuracy: 0.9864 - val_loss: 0.1442 - val_accuracy: 0.9789\n",
      "Epoch 970/1000\n",
      "7/7 [==============================] - 0s 7ms/step - loss: 0.1138 - accuracy: 0.9864 - val_loss: 0.1441 - val_accuracy: 0.9789\n",
      "Epoch 971/1000\n",
      "7/7 [==============================] - 0s 7ms/step - loss: 0.1134 - accuracy: 0.9864 - val_loss: 0.1440 - val_accuracy: 0.9789\n",
      "Epoch 972/1000\n",
      "7/7 [==============================] - 0s 7ms/step - loss: 0.1134 - accuracy: 0.9864 - val_loss: 0.1439 - val_accuracy: 0.9789\n",
      "Epoch 973/1000\n",
      "7/7 [==============================] - 0s 7ms/step - loss: 0.1131 - accuracy: 0.9864 - val_loss: 0.1438 - val_accuracy: 0.9789\n",
      "Epoch 974/1000\n",
      "7/7 [==============================] - 0s 7ms/step - loss: 0.1130 - accuracy: 0.9864 - val_loss: 0.1437 - val_accuracy: 0.9789\n",
      "Epoch 975/1000\n",
      "7/7 [==============================] - 0s 7ms/step - loss: 0.1128 - accuracy: 0.9864 - val_loss: 0.1435 - val_accuracy: 0.9789\n",
      "Epoch 976/1000\n",
      "7/7 [==============================] - 0s 7ms/step - loss: 0.1127 - accuracy: 0.9864 - val_loss: 0.1434 - val_accuracy: 0.9789\n",
      "Epoch 977/1000\n",
      "7/7 [==============================] - 0s 7ms/step - loss: 0.1124 - accuracy: 0.9864 - val_loss: 0.1432 - val_accuracy: 0.9789\n",
      "Epoch 978/1000\n",
      "7/7 [==============================] - 0s 7ms/step - loss: 0.1122 - accuracy: 0.9864 - val_loss: 0.1429 - val_accuracy: 0.9789\n",
      "Epoch 979/1000\n",
      "7/7 [==============================] - 0s 7ms/step - loss: 0.1120 - accuracy: 0.9864 - val_loss: 0.1427 - val_accuracy: 0.9789\n",
      "Epoch 980/1000\n",
      "7/7 [==============================] - 0s 7ms/step - loss: 0.1119 - accuracy: 0.9864 - val_loss: 0.1426 - val_accuracy: 0.9789\n",
      "Epoch 981/1000\n",
      "7/7 [==============================] - 0s 7ms/step - loss: 0.1117 - accuracy: 0.9864 - val_loss: 0.1424 - val_accuracy: 0.9789\n",
      "Epoch 982/1000\n",
      "7/7 [==============================] - 0s 7ms/step - loss: 0.1115 - accuracy: 0.9864 - val_loss: 0.1422 - val_accuracy: 0.9789\n"
     ]
    },
    {
     "name": "stdout",
     "output_type": "stream",
     "text": [
      "Epoch 983/1000\n",
      "7/7 [==============================] - 0s 7ms/step - loss: 0.1113 - accuracy: 0.9864 - val_loss: 0.1422 - val_accuracy: 0.9789\n",
      "Epoch 984/1000\n",
      "7/7 [==============================] - 0s 7ms/step - loss: 0.1112 - accuracy: 0.9864 - val_loss: 0.1421 - val_accuracy: 0.9789\n",
      "Epoch 985/1000\n",
      "7/7 [==============================] - 0s 8ms/step - loss: 0.1110 - accuracy: 0.9864 - val_loss: 0.1419 - val_accuracy: 0.9789\n",
      "Epoch 986/1000\n",
      "7/7 [==============================] - 0s 7ms/step - loss: 0.1108 - accuracy: 0.9864 - val_loss: 0.1417 - val_accuracy: 0.9789\n",
      "Epoch 987/1000\n",
      "7/7 [==============================] - 0s 7ms/step - loss: 0.1106 - accuracy: 0.9864 - val_loss: 0.1417 - val_accuracy: 0.9789\n",
      "Epoch 988/1000\n",
      "7/7 [==============================] - 0s 7ms/step - loss: 0.1105 - accuracy: 0.9864 - val_loss: 0.1414 - val_accuracy: 0.9789\n",
      "Epoch 989/1000\n",
      "7/7 [==============================] - 0s 7ms/step - loss: 0.1103 - accuracy: 0.9864 - val_loss: 0.1412 - val_accuracy: 0.9789\n",
      "Epoch 990/1000\n",
      "7/7 [==============================] - 0s 7ms/step - loss: 0.1102 - accuracy: 0.9864 - val_loss: 0.1411 - val_accuracy: 0.9789\n",
      "Epoch 991/1000\n",
      "7/7 [==============================] - 0s 7ms/step - loss: 0.1099 - accuracy: 0.9864 - val_loss: 0.1410 - val_accuracy: 0.9789\n",
      "Epoch 992/1000\n",
      "7/7 [==============================] - 0s 7ms/step - loss: 0.1097 - accuracy: 0.9864 - val_loss: 0.1408 - val_accuracy: 0.9789\n",
      "Epoch 993/1000\n",
      "7/7 [==============================] - 0s 7ms/step - loss: 0.1095 - accuracy: 0.9864 - val_loss: 0.1406 - val_accuracy: 0.9789\n",
      "Epoch 994/1000\n",
      "7/7 [==============================] - 0s 7ms/step - loss: 0.1094 - accuracy: 0.9864 - val_loss: 0.1404 - val_accuracy: 0.9789\n",
      "Epoch 995/1000\n",
      "7/7 [==============================] - 0s 7ms/step - loss: 0.1093 - accuracy: 0.9864 - val_loss: 0.1404 - val_accuracy: 0.9789\n",
      "Epoch 996/1000\n",
      "7/7 [==============================] - 0s 7ms/step - loss: 0.1090 - accuracy: 0.9864 - val_loss: 0.1401 - val_accuracy: 0.9789\n",
      "Epoch 997/1000\n",
      "7/7 [==============================] - 0s 8ms/step - loss: 0.1089 - accuracy: 0.9864 - val_loss: 0.1400 - val_accuracy: 0.9789\n",
      "Epoch 998/1000\n",
      "7/7 [==============================] - 0s 7ms/step - loss: 0.1086 - accuracy: 0.9864 - val_loss: 0.1399 - val_accuracy: 0.9789\n",
      "Epoch 999/1000\n",
      "7/7 [==============================] - 0s 7ms/step - loss: 0.1085 - accuracy: 0.9864 - val_loss: 0.1397 - val_accuracy: 0.9789\n",
      "Epoch 1000/1000\n",
      "7/7 [==============================] - 0s 7ms/step - loss: 0.1083 - accuracy: 0.9864 - val_loss: 0.1396 - val_accuracy: 0.9789\n"
     ]
    },
    {
     "data": {
      "text/plain": [
       "<tensorflow.python.keras.callbacks.History at 0x1f5ef50c490>"
      ]
     },
     "execution_count": 116,
     "metadata": {},
     "output_type": "execute_result"
    }
   ],
   "source": [
    "early_stopping = TerminateOnBaseline(monitor='val_accuracy', baseline=0.99)\n",
    "model.fit(X_train, y_train, epochs=1000, batch_size=32, validation_split=0.3, callbacks=[early_stopping])"
   ]
  },
  {
   "cell_type": "code",
   "execution_count": 117,
   "id": "4b4c9b05",
   "metadata": {},
   "outputs": [
    {
     "name": "stdout",
     "output_type": "stream",
     "text": [
      "5/5 [==============================] - 0s 3ms/step - loss: 0.1100 - accuracy: 0.9926\n"
     ]
    },
    {
     "data": {
      "text/plain": [
       "[0.11004423350095749, 0.9925925731658936]"
      ]
     },
     "execution_count": 117,
     "metadata": {},
     "output_type": "execute_result"
    }
   ],
   "source": [
    "model.evaluate(X_test, y_test)"
   ]
  },
  {
   "cell_type": "code",
   "execution_count": 118,
   "id": "281c9ad6",
   "metadata": {},
   "outputs": [
    {
     "data": {
      "text/plain": [
       "[<tensorflow.python.keras.engine.input_layer.InputLayer at 0x1f5ef4d3f70>,\n",
       " <tensorflow.python.keras.layers.recurrent.SimpleRNN at 0x1f5bf85d4f0>,\n",
       " <tensorflow.python.keras.layers.core.Dense at 0x1f5f33eefd0>]"
      ]
     },
     "execution_count": 118,
     "metadata": {},
     "output_type": "execute_result"
    }
   ],
   "source": [
    "model.layers"
   ]
  },
  {
   "cell_type": "code",
   "execution_count": 119,
   "id": "2c0623da",
   "metadata": {},
   "outputs": [
    {
     "data": {
      "text/plain": [
       "[array([[-5.4948773]], dtype=float32),\n",
       " array([[0.1829006]], dtype=float32),\n",
       " array([1.2683241], dtype=float32)]"
      ]
     },
     "execution_count": 119,
     "metadata": {},
     "output_type": "execute_result"
    }
   ],
   "source": [
    "model.get_layer('simple_rnn').get_weights()"
   ]
  },
  {
   "cell_type": "code",
   "execution_count": 120,
   "id": "c3d2d3b1",
   "metadata": {},
   "outputs": [
    {
     "data": {
      "text/plain": [
       "[array([[-0.28374627, -7.3890204 ,  6.427914  ]], dtype=float32),\n",
       " array([ 1.855144 , -1.5381631, -1.3002234], dtype=float32)]"
      ]
     },
     "execution_count": 120,
     "metadata": {},
     "output_type": "execute_result"
    }
   ],
   "source": [
    "model.get_layer('dense').get_weights()"
   ]
  },
  {
   "cell_type": "code",
   "execution_count": 121,
   "id": "63d4cb27",
   "metadata": {},
   "outputs": [
    {
     "name": "stdout",
     "output_type": "stream",
     "text": [
      "[[ 0.50807776]\n",
      " [ 0.83874192]\n",
      " [ 1.10450745]\n",
      " [ 0.99965327]\n",
      " [ 0.70257334]\n",
      " [ 0.32747508]\n",
      " [ 0.1000918 ]\n",
      " [-0.02089368]\n",
      " [ 0.16909982]\n",
      " [ 0.53818444]]\n"
     ]
    }
   ],
   "source": [
    "print(X_train[0])"
   ]
  },
  {
   "cell_type": "code",
   "execution_count": 122,
   "id": "cb35ec30",
   "metadata": {},
   "outputs": [
    {
     "data": {
      "image/png": "[encoded data removed]",
      "text/plain": [
       "<Figure size 400x300 with 1 Axes>"
      ]
     },
     "metadata": {},
     "output_type": "display_data"
    }
   ],
   "source": [
    "plt.plot(X_train[0]);"
   ]
  },
  {
   "cell_type": "code",
   "execution_count": 123,
   "id": "273863fb",
   "metadata": {},
   "outputs": [
    {
     "data": {
      "text/plain": [
       "array([[0.04, 0.96, 0.  ]], dtype=float32)"
      ]
     },
     "execution_count": 123,
     "metadata": {},
     "output_type": "execute_result"
    }
   ],
   "source": [
    "model.predict(X_train[:1]).round(2)"
   ]
  },
  {
   "cell_type": "code",
   "execution_count": 124,
   "id": "7b5ee8ea",
   "metadata": {},
   "outputs": [
    {
     "data": {
      "text/plain": [
       "1"
      ]
     },
     "execution_count": 124,
     "metadata": {},
     "output_type": "execute_result"
    }
   ],
   "source": [
    "np.argmax(model.predict(X_train[:1]))"
   ]
  },
  {
   "cell_type": "markdown",
   "id": "976e253a",
   "metadata": {},
   "source": [
    "### Binary classification, multiple inputs, single output"
   ]
  },
  {
   "cell_type": "code",
   "execution_count": 142,
   "id": "ca22fb45",
   "metadata": {},
   "outputs": [],
   "source": [
    "X, y = make_eeg_data()\n",
    "X_train, X_test, y_train, y_test = train_test_split(X, y, test_size=0.3, random_state=0)"
   ]
  },
  {
   "cell_type": "code",
   "execution_count": 143,
   "id": "8f561bfb",
   "metadata": {},
   "outputs": [
    {
     "name": "stdout",
     "output_type": "stream",
     "text": [
      "(560, 48, 3)\n",
      "(560,)\n"
     ]
    }
   ],
   "source": [
    "print(X_train.shape)\n",
    "print(y_train.shape)"
   ]
  },
  {
   "cell_type": "code",
   "execution_count": 121,
   "id": "f13ef8f7",
   "metadata": {},
   "outputs": [
    {
     "data": {
      "image/png": "[encoded data removed]",
      "text/plain": [
       "<Figure size 400x300 with 1 Axes>"
      ]
     },
     "metadata": {},
     "output_type": "display_data"
    }
   ],
   "source": [
    "plt.plot(X_train[0]);"
   ]
  },
  {
   "cell_type": "code",
   "execution_count": 163,
   "id": "7071c050",
   "metadata": {},
   "outputs": [],
   "source": [
    "K.clear_session()\n",
    "\n",
    "inputs = Input(shape=X_train.shape[1:])\n",
    "x = layers.SimpleRNN(1)(inputs)   # 1 recurrent neurons\n",
    "x = layers.Dense(1, activation='sigmoid')(x)\n",
    "model = Model(inputs, x)"
   ]
  },
  {
   "cell_type": "code",
   "execution_count": 164,
   "id": "6230b51b",
   "metadata": {},
   "outputs": [
    {
     "name": "stdout",
     "output_type": "stream",
     "text": [
      "Model: \"model\"\n",
      "_________________________________________________________________\n",
      "Layer (type)                 Output Shape              Param #   \n",
      "=================================================================\n",
      "input_1 (InputLayer)         [(None, 48, 3)]           0         \n",
      "_________________________________________________________________\n",
      "simple_rnn (SimpleRNN)       (None, 1)                 5         \n",
      "_________________________________________________________________\n",
      "dense (Dense)                (None, 1)                 2         \n",
      "=================================================================\n",
      "Total params: 7\n",
      "Trainable params: 7\n",
      "Non-trainable params: 0\n",
      "_________________________________________________________________\n"
     ]
    }
   ],
   "source": [
    "model.summary()"
   ]
  },
  {
   "cell_type": "code",
   "execution_count": 165,
   "id": "51aa5e37",
   "metadata": {},
   "outputs": [],
   "source": [
    "model.compile(loss='binary_crossentropy', metrics=['accuracy'])"
   ]
  },
  {
   "cell_type": "code",
   "execution_count": 166,
   "id": "18d73223",
   "metadata": {
    "scrolled": true
   },
   "outputs": [
    {
     "name": "stdout",
     "output_type": "stream",
     "text": [
      "Epoch 1/300\n",
      "25/25 [==============================] - 1s 27ms/step - loss: 0.6989 - accuracy: 0.4872 - val_loss: 0.6896 - val_accuracy: 0.5417\n",
      "Epoch 2/300\n",
      "25/25 [==============================] - 0s 19ms/step - loss: 0.6976 - accuracy: 0.4872 - val_loss: 0.6898 - val_accuracy: 0.5417\n",
      "Epoch 3/300\n",
      "25/25 [==============================] - 0s 19ms/step - loss: 0.6967 - accuracy: 0.4872 - val_loss: 0.6900 - val_accuracy: 0.5417\n",
      "Epoch 4/300\n",
      "25/25 [==============================] - 0s 19ms/step - loss: 0.6960 - accuracy: 0.4872 - val_loss: 0.6904 - val_accuracy: 0.5417\n",
      "Epoch 5/300\n",
      "25/25 [==============================] - 1s 22ms/step - loss: 0.6954 - accuracy: 0.4872 - val_loss: 0.6909 - val_accuracy: 0.5417\n",
      "Epoch 6/300\n",
      "25/25 [==============================] - 0s 19ms/step - loss: 0.6947 - accuracy: 0.4923 - val_loss: 0.6914 - val_accuracy: 0.5417\n",
      "Epoch 7/300\n",
      "25/25 [==============================] - 1s 21ms/step - loss: 0.6944 - accuracy: 0.5077 - val_loss: 0.6918 - val_accuracy: 0.5357\n",
      "Epoch 8/300\n",
      "25/25 [==============================] - 1s 26ms/step - loss: 0.6940 - accuracy: 0.5000 - val_loss: 0.6925 - val_accuracy: 0.5417\n",
      "Epoch 9/300\n",
      "25/25 [==============================] - 1s 24ms/step - loss: 0.6938 - accuracy: 0.4388 - val_loss: 0.6938 - val_accuracy: 0.4643\n"
     ]
    }
   ],
   "source": [
    "early_stopping = EarlyStopping(patience=8)\n",
    "history = model.fit(X_train, y_train, epochs=300, batch_size=16, validation_split=0.3, callbacks=[early_stopping])"
   ]
  },
  {
   "cell_type": "code",
   "execution_count": 90,
   "id": "312ba623",
   "metadata": {
    "scrolled": true
   },
   "outputs": [
    {
     "name": "stdout",
     "output_type": "stream",
     "text": [
      "8/8 [==============================] - 0s 6ms/step - loss: 0.6913 - accuracy: 0.5167\n"
     ]
    },
    {
     "data": {
      "text/plain": [
       "[0.691282331943512, 0.5166666507720947]"
      ]
     },
     "execution_count": 90,
     "metadata": {},
     "output_type": "execute_result"
    }
   ],
   "source": [
    "model.evaluate(X_test, y_test)"
   ]
  },
  {
   "cell_type": "code",
   "execution_count": 170,
   "id": "09e14c61",
   "metadata": {},
   "outputs": [],
   "source": [
    "rnn_weights   = model.get_layer('simple_rnn').get_weights()\n",
    "dense_weights = model.get_layer('dense').get_weights()"
   ]
  },
  {
   "cell_type": "code",
   "execution_count": 171,
   "id": "eb3a0888",
   "metadata": {},
   "outputs": [
    {
     "name": "stdout",
     "output_type": "stream",
     "text": [
      "[array([[ 0.5978114 ],\n",
      "       [-0.5909955 ],\n",
      "       [ 0.10248901]], dtype=float32), array([[0.9555359]], dtype=float32), array([-0.04859239], dtype=float32)]\n",
      "[array([[-0.2090549]], dtype=float32), array([0.04767705], dtype=float32)]\n"
     ]
    }
   ],
   "source": [
    "print(rnn_weights)\n",
    "print(dense_weights)"
   ]
  },
  {
   "cell_type": "code",
   "execution_count": 172,
   "id": "7309e115",
   "metadata": {},
   "outputs": [],
   "source": [
    "W = rnn_weights[0]\n",
    "U = rnn_weights[1]\n",
    "rnn_bias = rnn_weights[2]\n",
    "V = dense_weights[0]\n",
    "dense_bias = dense_weights[1]"
   ]
  },
  {
   "cell_type": "code",
   "execution_count": 173,
   "id": "878b0651",
   "metadata": {
    "scrolled": true
   },
   "outputs": [
    {
     "name": "stdout",
     "output_type": "stream",
     "text": [
      "(3, 1)\n",
      "(1, 1)\n",
      "(1,)\n",
      "(1, 1)\n",
      "(1,)\n"
     ]
    }
   ],
   "source": [
    "print(W.shape)\n",
    "print(U.shape)\n",
    "print(rnn_bias.shape)\n",
    "print(V.shape)\n",
    "print(dense_bias.shape)"
   ]
  },
  {
   "cell_type": "markdown",
   "id": "7ea1ceca",
   "metadata": {},
   "source": [
    "#### Generalize NumPy code -- similar to what's in Chollet's listing 10.15, but compatible with Keras weight shapes"
   ]
  },
  {
   "cell_type": "code",
   "execution_count": 289,
   "id": "35edd1f0",
   "metadata": {},
   "outputs": [],
   "source": [
    "def binary_rnn_predict(rnn_weights, dense_weights, x):\n",
    "    \n",
    "    # model weights\n",
    "    W = rnn_weights[0]\n",
    "    U = rnn_weights[1]\n",
    "    rnn_bias = rnn_weights[2]\n",
    "    V = dense_weights[0]\n",
    "    dense_bias = dense_weights[1]\n",
    "    \n",
    "    # rnn \n",
    "    hidden_state = np.zeros(U.shape[0])\n",
    "    for t in range(x.shape[0]):\n",
    "        hidden_state = np.tanh(np.dot(x[t], W) + np.dot(hidden_state, U) + rnn_bias)\n",
    "       \n",
    "    # output layer\n",
    "    return sigmoid(np.dot(hidden_state, V) + dense_bias)"
   ]
  },
  {
   "cell_type": "code",
   "execution_count": 290,
   "id": "82a37879",
   "metadata": {
    "scrolled": true
   },
   "outputs": [
    {
     "ename": "ValueError",
     "evalue": "shapes (1,) and (3,10) not aligned: 1 (dim 0) != 3 (dim 0)",
     "output_type": "error",
     "traceback": [
      "\u001B[1;31m---------------------------------------------------------------------------\u001B[0m",
      "\u001B[1;31mValueError\u001B[0m                                Traceback (most recent call last)",
      "Cell \u001B[1;32mIn[290], line 1\u001B[0m\n\u001B[1;32m----> 1\u001B[0m \u001B[43mbinary_rnn_predict\u001B[49m\u001B[43m(\u001B[49m\u001B[43mrnn_weights\u001B[49m\u001B[43m,\u001B[49m\u001B[43m \u001B[49m\u001B[43mdense_weights\u001B[49m\u001B[43m,\u001B[49m\u001B[43m \u001B[49m\u001B[43mX_train\u001B[49m\u001B[43m[\u001B[49m\u001B[38;5;241;43m0\u001B[39;49m\u001B[43m]\u001B[49m\u001B[43m)\u001B[49m\n",
      "Cell \u001B[1;32mIn[289], line 13\u001B[0m, in \u001B[0;36mbinary_rnn_predict\u001B[1;34m(rnn_weights, dense_weights, x)\u001B[0m\n\u001B[0;32m     11\u001B[0m hidden_state \u001B[38;5;241m=\u001B[39m np\u001B[38;5;241m.\u001B[39mzeros(U\u001B[38;5;241m.\u001B[39mshape[\u001B[38;5;241m0\u001B[39m])\n\u001B[0;32m     12\u001B[0m \u001B[38;5;28;01mfor\u001B[39;00m t \u001B[38;5;129;01min\u001B[39;00m \u001B[38;5;28mrange\u001B[39m(x\u001B[38;5;241m.\u001B[39mshape[\u001B[38;5;241m0\u001B[39m]):\n\u001B[1;32m---> 13\u001B[0m     hidden_state \u001B[38;5;241m=\u001B[39m np\u001B[38;5;241m.\u001B[39mtanh(\u001B[43mnp\u001B[49m\u001B[38;5;241;43m.\u001B[39;49m\u001B[43mdot\u001B[49m\u001B[43m(\u001B[49m\u001B[43mx\u001B[49m\u001B[43m[\u001B[49m\u001B[43mt\u001B[49m\u001B[43m]\u001B[49m\u001B[43m,\u001B[49m\u001B[43m \u001B[49m\u001B[43mW\u001B[49m\u001B[43m)\u001B[49m \u001B[38;5;241m+\u001B[39m np\u001B[38;5;241m.\u001B[39mdot(hidden_state, U) \u001B[38;5;241m+\u001B[39m rnn_bias)\n\u001B[0;32m     15\u001B[0m \u001B[38;5;66;03m# output layer\u001B[39;00m\n\u001B[0;32m     16\u001B[0m \u001B[38;5;28;01mreturn\u001B[39;00m sigmoid(np\u001B[38;5;241m.\u001B[39mdot(hidden_state, V) \u001B[38;5;241m+\u001B[39m dense_bias)\n",
      "File \u001B[1;32m<__array_function__ internals>:180\u001B[0m, in \u001B[0;36mdot\u001B[1;34m(*args, **kwargs)\u001B[0m\n",
      "\u001B[1;31mValueError\u001B[0m: shapes (1,) and (3,10) not aligned: 1 (dim 0) != 3 (dim 0)"
     ]
    }
   ],
   "source": [
    "binary_rnn_predict(rnn_weights, dense_weights, X_train[0])"
   ]
  },
  {
   "cell_type": "code",
   "execution_count": 208,
   "id": "7a85d5a4",
   "metadata": {},
   "outputs": [
    {
     "data": {
      "text/plain": [
       "array([0.5522239], dtype=float32)"
      ]
     },
     "execution_count": 208,
     "metadata": {},
     "output_type": "execute_result"
    }
   ],
   "source": [
    "model.predict(X_train[[0]])[0]"
   ]
  },
  {
   "cell_type": "markdown",
   "id": "197a2dab",
   "metadata": {},
   "source": [
    "### Single input, multiple outputs\n",
    "\n",
    "Adding recurrent neurons is similar to adding filters.  The number of outputs is equal to the number of recurrent neurons.\n",
    "\n",
    "Then, if use with a dense layer, no flattening is needed between the last RNN layer and the dense layer."
   ]
  },
  {
   "cell_type": "code",
   "execution_count": 209,
   "id": "66a9083a",
   "metadata": {},
   "outputs": [],
   "source": [
    "X, y = make_ts_data(['sawtooth', 'sine'])\n",
    "X_train, X_test, y_train, y_test = train_test_split(X, y, test_size=0.3, random_state=0)"
   ]
  },
  {
   "cell_type": "code",
   "execution_count": 222,
   "id": "1a12fec2",
   "metadata": {},
   "outputs": [
    {
     "name": "stdout",
     "output_type": "stream",
     "text": [
      "(210, 10, 1)\n",
      "(210,)\n"
     ]
    }
   ],
   "source": [
    "print(X_train.shape)\n",
    "print(y_train.shape)"
   ]
  },
  {
   "cell_type": "code",
   "execution_count": 210,
   "id": "04651fb6",
   "metadata": {},
   "outputs": [],
   "source": [
    "K.clear_session()\n",
    "\n",
    "inputs = Input(shape=X_train.shape[1:])\n",
    "x = layers.SimpleRNN(5)(inputs)   # 5 recurrent neurons\n",
    "x = layers.Dense(1, activation='sigmoid')(x)\n",
    "model = Model(inputs, x)"
   ]
  },
  {
   "cell_type": "code",
   "execution_count": 211,
   "id": "2d1ec99b",
   "metadata": {},
   "outputs": [
    {
     "name": "stdout",
     "output_type": "stream",
     "text": [
      "Model: \"model\"\n",
      "_________________________________________________________________\n",
      "Layer (type)                 Output Shape              Param #   \n",
      "=================================================================\n",
      "input_1 (InputLayer)         [(None, 10, 1)]           0         \n",
      "_________________________________________________________________\n",
      "simple_rnn (SimpleRNN)       (None, 5)                 35        \n",
      "_________________________________________________________________\n",
      "dense (Dense)                (None, 1)                 6         \n",
      "=================================================================\n",
      "Total params: 41\n",
      "Trainable params: 41\n",
      "Non-trainable params: 0\n",
      "_________________________________________________________________\n"
     ]
    }
   ],
   "source": [
    "model.summary()"
   ]
  },
  {
   "cell_type": "code",
   "execution_count": 223,
   "id": "14ea6cd0",
   "metadata": {},
   "outputs": [],
   "source": [
    "model.compile(loss='binary_crossentropy', metrics=['accuracy'])"
   ]
  },
  {
   "cell_type": "code",
   "execution_count": 224,
   "id": "343f535b",
   "metadata": {},
   "outputs": [
    {
     "name": "stdout",
     "output_type": "stream",
     "text": [
      "Epoch 1/300\n",
      "10/10 [==============================] - 1s 17ms/step - loss: 0.4043 - accuracy: 1.0000 - val_loss: 0.3805 - val_accuracy: 1.0000\n",
      "Epoch 0: Reached baseline, terminating training\n"
     ]
    },
    {
     "data": {
      "text/plain": [
       "<tensorflow.python.keras.callbacks.History at 0x210296bf820>"
      ]
     },
     "execution_count": 224,
     "metadata": {},
     "output_type": "execute_result"
    }
   ],
   "source": [
    "early_stopping = TerminateOnBaseline(monitor='val_accuracy', baseline=0.99)\n",
    "model.fit(X_train, y_train, epochs=300, batch_size=16, validation_split=0.3, callbacks=[early_stopping])"
   ]
  },
  {
   "cell_type": "code",
   "execution_count": 225,
   "id": "1d0b74a4",
   "metadata": {},
   "outputs": [
    {
     "name": "stdout",
     "output_type": "stream",
     "text": [
      "3/3 [==============================] - 0s 3ms/step - loss: 0.3802 - accuracy: 1.0000\n"
     ]
    },
    {
     "data": {
      "text/plain": [
       "[0.3802034556865692, 1.0]"
      ]
     },
     "execution_count": 225,
     "metadata": {},
     "output_type": "execute_result"
    }
   ],
   "source": [
    "model.evaluate(X_test, y_test)"
   ]
  },
  {
   "cell_type": "code",
   "execution_count": 226,
   "id": "73695b2b",
   "metadata": {},
   "outputs": [],
   "source": [
    "rnn_weights   = model.get_layer('simple_rnn').get_weights()\n",
    "dense_weights = model.get_layer('dense').get_weights()"
   ]
  },
  {
   "cell_type": "code",
   "execution_count": 227,
   "id": "68cdb724",
   "metadata": {},
   "outputs": [
    {
     "name": "stdout",
     "output_type": "stream",
     "text": [
      "[array([[-0.96094567, -0.691213  , -0.61982805, -0.61312526, -0.42437848]],\n",
      "      dtype=float32), array([[ 0.17313763, -0.17782909,  0.5139567 ,  0.86825734,  0.13504039],\n",
      "       [ 0.960703  ,  0.18929853,  0.21229142, -0.19863771, -0.08412276],\n",
      "       [-0.28612018,  0.10610167,  0.7350284 , -0.22106025, -0.5910228 ],\n",
      "       [ 0.12876414,  0.12998535, -0.43928292,  0.41902122, -0.7966253 ],\n",
      "       [-0.12511878,  0.94225377,  0.03037295,  0.17466176,  0.20492658]],\n",
      "      dtype=float32), array([ 0.01782804, -0.00605031, -0.02463357,  0.03160039, -0.03249899],\n",
      "      dtype=float32)]\n",
      "[array([[ 0.5101887 ],\n",
      "       [-0.00816756],\n",
      "       [ 0.4575949 ],\n",
      "       [ 0.7000531 ],\n",
      "       [-0.8983408 ]], dtype=float32), array([0.01314833], dtype=float32)]\n"
     ]
    }
   ],
   "source": [
    "print(rnn_weights)\n",
    "print(dense_weights)"
   ]
  },
  {
   "cell_type": "code",
   "execution_count": 228,
   "id": "42082bc5",
   "metadata": {},
   "outputs": [],
   "source": [
    "W = rnn_weights[0]\n",
    "U = rnn_weights[1]\n",
    "rnn_bias = rnn_weights[2]\n",
    "V = dense_weights[0]\n",
    "dense_bias = dense_weights[1]"
   ]
  },
  {
   "cell_type": "code",
   "execution_count": 229,
   "id": "8e7f4900",
   "metadata": {
    "scrolled": true
   },
   "outputs": [
    {
     "name": "stdout",
     "output_type": "stream",
     "text": [
      "(1, 5)\n",
      "(5, 5)\n",
      "(5,)\n",
      "(5, 1)\n",
      "(1,)\n"
     ]
    }
   ],
   "source": [
    "print(W.shape)\n",
    "print(U.shape)\n",
    "print(rnn_bias.shape)\n",
    "print(V.shape)\n",
    "print(dense_bias.shape)"
   ]
  },
  {
   "cell_type": "code",
   "execution_count": 219,
   "id": "effd894c",
   "metadata": {
    "scrolled": true
   },
   "outputs": [
    {
     "data": {
      "text/plain": [
       "array([0.57827363])"
      ]
     },
     "execution_count": 219,
     "metadata": {},
     "output_type": "execute_result"
    }
   ],
   "source": [
    "binary_rnn_predict(rnn_weights, dense_weights, X_train[0])"
   ]
  },
  {
   "cell_type": "code",
   "execution_count": 220,
   "id": "5fee92d7",
   "metadata": {},
   "outputs": [
    {
     "data": {
      "text/plain": [
       "array([0.578403], dtype=float32)"
      ]
     },
     "execution_count": 220,
     "metadata": {},
     "output_type": "execute_result"
    }
   ],
   "source": [
    "model.predict(X_train[[0]])[0]"
   ]
  },
  {
   "cell_type": "markdown",
   "id": "46a9d901",
   "metadata": {},
   "source": [
    "### Multiple inputs, multiple outputs\n",
    "\n",
    "Adding recurrent neurons is similar to adding filters.  The number of outputs is equal to the number of recurrent neurons.\n",
    "\n",
    "Then, if use with a dense layer, no flattening is needed between the last RNN layer and the dense layer."
   ]
  },
  {
   "cell_type": "code",
   "execution_count": 233,
   "id": "84801f54",
   "metadata": {},
   "outputs": [],
   "source": [
    "X, y = make_eeg_data()\n",
    "X_train, X_test, y_train, y_test = train_test_split(X, y, test_size=0.3, random_state=0)"
   ]
  },
  {
   "cell_type": "code",
   "execution_count": 238,
   "id": "abdf151e",
   "metadata": {},
   "outputs": [],
   "source": [
    "K.clear_session()\n",
    "\n",
    "inputs = Input(shape=X_train.shape[1:])\n",
    "x = layers.SimpleRNN(10)(inputs)   # 10 recurrent neurons\n",
    "x = layers.Dense(1, activation='sigmoid')(x)\n",
    "model = Model(inputs, x)"
   ]
  },
  {
   "cell_type": "code",
   "execution_count": 239,
   "id": "9ea6594e",
   "metadata": {
    "scrolled": true
   },
   "outputs": [
    {
     "name": "stdout",
     "output_type": "stream",
     "text": [
      "Model: \"model\"\n",
      "_________________________________________________________________\n",
      "Layer (type)                 Output Shape              Param #   \n",
      "=================================================================\n",
      "input_1 (InputLayer)         [(None, 48, 3)]           0         \n",
      "_________________________________________________________________\n",
      "simple_rnn (SimpleRNN)       (None, 10)                140       \n",
      "_________________________________________________________________\n",
      "dense (Dense)                (None, 1)                 11        \n",
      "=================================================================\n",
      "Total params: 151\n",
      "Trainable params: 151\n",
      "Non-trainable params: 0\n",
      "_________________________________________________________________\n"
     ]
    }
   ],
   "source": [
    "model.summary()"
   ]
  },
  {
   "cell_type": "code",
   "execution_count": 240,
   "id": "baacdf06",
   "metadata": {},
   "outputs": [],
   "source": [
    "model.compile(loss='binary_crossentropy', metrics=['accuracy'])"
   ]
  },
  {
   "cell_type": "code",
   "execution_count": 241,
   "id": "f59087a4",
   "metadata": {},
   "outputs": [
    {
     "name": "stdout",
     "output_type": "stream",
     "text": [
      "Epoch 1/300\n",
      "25/25 [==============================] - 1s 27ms/step - loss: 0.6960 - accuracy: 0.5051 - val_loss: 0.6946 - val_accuracy: 0.5060\n",
      "Epoch 2/300\n",
      "25/25 [==============================] - 1s 20ms/step - loss: 0.6935 - accuracy: 0.5026 - val_loss: 0.6959 - val_accuracy: 0.4940\n",
      "Epoch 3/300\n",
      "25/25 [==============================] - 1s 20ms/step - loss: 0.6925 - accuracy: 0.5281 - val_loss: 0.6995 - val_accuracy: 0.4643\n",
      "Epoch 4/300\n",
      "25/25 [==============================] - 0s 19ms/step - loss: 0.6924 - accuracy: 0.5383 - val_loss: 0.6985 - val_accuracy: 0.4643\n",
      "Epoch 5/300\n",
      "25/25 [==============================] - 1s 22ms/step - loss: 0.6919 - accuracy: 0.5306 - val_loss: 0.6976 - val_accuracy: 0.4821\n",
      "Epoch 6/300\n",
      "25/25 [==============================] - 1s 21ms/step - loss: 0.6916 - accuracy: 0.5357 - val_loss: 0.6984 - val_accuracy: 0.4643\n",
      "Epoch 7/300\n",
      "25/25 [==============================] - 0s 20ms/step - loss: 0.6911 - accuracy: 0.5383 - val_loss: 0.6985 - val_accuracy: 0.4940\n",
      "Epoch 8/300\n",
      "25/25 [==============================] - 0s 19ms/step - loss: 0.6911 - accuracy: 0.5102 - val_loss: 0.7010 - val_accuracy: 0.4226\n",
      "Epoch 9/300\n",
      "25/25 [==============================] - 0s 19ms/step - loss: 0.6912 - accuracy: 0.5255 - val_loss: 0.7021 - val_accuracy: 0.4286\n",
      "Epoch 10/300\n",
      "25/25 [==============================] - 0s 20ms/step - loss: 0.6905 - accuracy: 0.5306 - val_loss: 0.7023 - val_accuracy: 0.4226\n",
      "Epoch 11/300\n",
      "25/25 [==============================] - 1s 20ms/step - loss: 0.6904 - accuracy: 0.5281 - val_loss: 0.7015 - val_accuracy: 0.4464\n"
     ]
    },
    {
     "data": {
      "text/plain": [
       "<tensorflow.python.keras.callbacks.History at 0x210357fbe50>"
      ]
     },
     "execution_count": 241,
     "metadata": {},
     "output_type": "execute_result"
    }
   ],
   "source": [
    "early_stopping = EarlyStopping(patience=10)\n",
    "model.fit(X_train, y_train, epochs=300, batch_size=16, validation_split=0.3, callbacks=[early_stopping])"
   ]
  },
  {
   "cell_type": "code",
   "execution_count": 242,
   "id": "c2ddc1a1",
   "metadata": {},
   "outputs": [
    {
     "name": "stdout",
     "output_type": "stream",
     "text": [
      "8/8 [==============================] - 0s 7ms/step - loss: 0.6973 - accuracy: 0.4917\n"
     ]
    },
    {
     "data": {
      "text/plain": [
       "[0.6973249316215515, 0.49166667461395264]"
      ]
     },
     "execution_count": 242,
     "metadata": {},
     "output_type": "execute_result"
    }
   ],
   "source": [
    "model.evaluate(X_test, y_test)"
   ]
  },
  {
   "cell_type": "code",
   "execution_count": 243,
   "id": "57069273",
   "metadata": {},
   "outputs": [],
   "source": [
    "rnn_weights   = model.get_layer('simple_rnn').get_weights()\n",
    "dense_weights = model.get_layer('dense').get_weights()"
   ]
  },
  {
   "cell_type": "code",
   "execution_count": 244,
   "id": "becf96f1",
   "metadata": {},
   "outputs": [
    {
     "name": "stdout",
     "output_type": "stream",
     "text": [
      "[array([[-0.5949899 , -0.41866437,  0.03545426, -0.5035436 , -0.38609612,\n",
      "        -0.27943498, -0.6062906 ,  0.04377607,  0.16797677,  0.68837273],\n",
      "       [-0.28035793, -0.56195295, -0.30666038, -0.15823731,  0.5950589 ,\n",
      "        -0.67326456,  0.21651177,  0.6957756 ,  0.3869782 , -0.31773335],\n",
      "       [-0.2712761 , -0.0836162 ,  0.36801788, -0.14264496,  0.21586317,\n",
      "        -0.09016407, -0.47786418, -0.24239397, -0.47509778, -0.2620268 ]],\n",
      "      dtype=float32), array([[-0.0134951 ,  0.5146405 , -0.08659612, -0.03746602,  0.18844762,\n",
      "         0.2715007 ,  0.56736714,  0.35192493, -0.06159848, -0.33759633],\n",
      "       [-0.02764083,  0.12203722, -0.09366878,  0.4899877 , -0.42120668,\n",
      "         0.2359142 ,  0.2888849 , -0.23895308, -0.63417614,  0.33269092],\n",
      "       [-0.08003861,  0.1570506 ,  0.04708235,  0.2480752 ,  0.4862963 ,\n",
      "        -0.31638187, -0.09954081, -0.45261005, -0.23487428, -0.42734736],\n",
      "       [ 0.00729329, -0.10774785,  0.40270957,  0.24942109, -0.27188286,\n",
      "        -0.61132   ,  0.43879175,  0.13288589,  0.11454324, -0.14792183],\n",
      "       [-0.24854113, -0.24388511,  0.16495119,  0.4321577 ,  0.52658117,\n",
      "         0.11315463, -0.01795256,  0.5233883 , -0.13196859,  0.32591215],\n",
      "       [ 0.10254283, -0.35126135,  0.48767126, -0.27125832,  0.22350474,\n",
      "         0.41702196,  0.34420872, -0.45219827,  0.03844513,  0.04501269],\n",
      "       [-0.8847514 ,  0.09342229, -0.01514313, -0.00801397, -0.15438217,\n",
      "         0.07459264,  0.16175197, -0.24309145,  0.32661057,  0.11489052],\n",
      "       [ 0.38664603,  0.07852305, -0.27437192,  0.4698731 ,  0.15989733,\n",
      "         0.04068103,  0.2349167 , -0.1618003 ,  0.64078766,  0.2242136 ],\n",
      "       [ 0.07813488,  0.5905257 ,  0.1961042 , -0.25398576,  0.2414343 ,\n",
      "        -0.31167835, -0.02565295, -0.08611108, -0.04263197,  0.59658515],\n",
      "       [ 0.08299681,  0.3388235 ,  0.5868768 ,  0.2820312 , -0.20879535,\n",
      "         0.2985859 , -0.5166434 ,  0.01179602,  0.2727243 , -0.19542417]],\n",
      "      dtype=float32), array([ 0.01654374,  0.01424651,  0.00111515,  0.01523134,  0.00725871,\n",
      "       -0.01155126,  0.01132407,  0.01152777, -0.00769234,  0.00832808],\n",
      "      dtype=float32)]\n",
      "[array([[-0.41541052],\n",
      "       [ 0.31217164],\n",
      "       [-0.4427609 ],\n",
      "       [ 0.27316058],\n",
      "       [ 0.31868675],\n",
      "       [-0.44759172],\n",
      "       [ 0.6528477 ],\n",
      "       [ 0.04241832],\n",
      "       [-0.63421905],\n",
      "       [ 0.2520823 ]], dtype=float32), array([0.00968106], dtype=float32)]\n"
     ]
    }
   ],
   "source": [
    "print(rnn_weights)\n",
    "print(dense_weights)"
   ]
  },
  {
   "cell_type": "code",
   "execution_count": 245,
   "id": "cdd1718e",
   "metadata": {},
   "outputs": [],
   "source": [
    "W = rnn_weights[0]\n",
    "U = rnn_weights[1]\n",
    "rnn_bias = rnn_weights[2]\n",
    "V = dense_weights[0]\n",
    "dense_bias = dense_weights[1]"
   ]
  },
  {
   "cell_type": "code",
   "execution_count": 246,
   "id": "63b047b1",
   "metadata": {
    "scrolled": true
   },
   "outputs": [
    {
     "name": "stdout",
     "output_type": "stream",
     "text": [
      "(3, 10)\n",
      "(10, 10)\n",
      "(10,)\n",
      "(10, 1)\n",
      "(1,)\n"
     ]
    }
   ],
   "source": [
    "print(W.shape)\n",
    "print(U.shape)\n",
    "print(rnn_bias.shape)\n",
    "print(V.shape)\n",
    "print(dense_bias.shape)"
   ]
  },
  {
   "cell_type": "code",
   "execution_count": 247,
   "id": "63f6f39e",
   "metadata": {
    "scrolled": true
   },
   "outputs": [
    {
     "data": {
      "text/plain": [
       "array([0.51415015])"
      ]
     },
     "execution_count": 247,
     "metadata": {},
     "output_type": "execute_result"
    }
   ],
   "source": [
    "binary_rnn_predict(rnn_weights, dense_weights, X_train[0])"
   ]
  },
  {
   "cell_type": "code",
   "execution_count": 248,
   "id": "b7136ce5",
   "metadata": {},
   "outputs": [
    {
     "data": {
      "text/plain": [
       "array([0.5142504], dtype=float32)"
      ]
     },
     "execution_count": 248,
     "metadata": {},
     "output_type": "execute_result"
    }
   ],
   "source": [
    "model.predict(X_train[[0]])[0]"
   ]
  },
  {
   "cell_type": "markdown",
   "id": "52329778",
   "metadata": {},
   "source": [
    "### Stacked layers; single input, multiple outputs\n",
    "\n",
    "Stacking layers only works if the layers before the last RNN layer produce outputs at every step.\n",
    "\n",
    "Why does this work poorly compared to the version without stacked layers?"
   ]
  },
  {
   "cell_type": "code",
   "execution_count": 291,
   "id": "4bf1abc8",
   "metadata": {},
   "outputs": [],
   "source": [
    "X, y = make_ts_data(['sawtooth', 'sine'])\n",
    "X_train, X_test, y_train, y_test = train_test_split(X, y, test_size=0.3, random_state=0)"
   ]
  },
  {
   "cell_type": "code",
   "execution_count": 292,
   "id": "37abf5e4",
   "metadata": {},
   "outputs": [
    {
     "name": "stdout",
     "output_type": "stream",
     "text": [
      "(210, 10, 1)\n",
      "(210,)\n"
     ]
    }
   ],
   "source": [
    "print(X_train.shape)\n",
    "print(y_train.shape)"
   ]
  },
  {
   "cell_type": "code",
   "execution_count": 341,
   "id": "7ed98641",
   "metadata": {},
   "outputs": [],
   "source": [
    "K.clear_session()\n",
    "\n",
    "# note manual naming of layers\n",
    "inputs = Input(shape=X_train.shape[1:])\n",
    "x = layers.SimpleRNN(5, return_sequences=True, name='rnn1')(inputs)\n",
    "x = layers.SimpleRNN(10, name='rnn2')(x)\n",
    "x = layers.Dense(1, activation='sigmoid')(x)\n",
    "model = Model(inputs, x)"
   ]
  },
  {
   "cell_type": "code",
   "execution_count": 342,
   "id": "9a31a70c",
   "metadata": {},
   "outputs": [
    {
     "name": "stdout",
     "output_type": "stream",
     "text": [
      "Model: \"model\"\n",
      "_________________________________________________________________\n",
      "Layer (type)                 Output Shape              Param #   \n",
      "=================================================================\n",
      "input_1 (InputLayer)         [(None, 10, 1)]           0         \n",
      "_________________________________________________________________\n",
      "rnn1 (SimpleRNN)             (None, 10, 5)             35        \n",
      "_________________________________________________________________\n",
      "rnn2 (SimpleRNN)             (None, 10)                160       \n",
      "_________________________________________________________________\n",
      "dense (Dense)                (None, 1)                 11        \n",
      "=================================================================\n",
      "Total params: 206\n",
      "Trainable params: 206\n",
      "Non-trainable params: 0\n",
      "_________________________________________________________________\n"
     ]
    }
   ],
   "source": [
    "model.summary()"
   ]
  },
  {
   "cell_type": "code",
   "execution_count": 331,
   "id": "39c68d6e",
   "metadata": {},
   "outputs": [],
   "source": [
    "model.compile(loss='binary_crossentropy', metrics=['accuracy'])"
   ]
  },
  {
   "cell_type": "code",
   "execution_count": 332,
   "id": "87599263",
   "metadata": {},
   "outputs": [
    {
     "name": "stdout",
     "output_type": "stream",
     "text": [
      "Epoch 1/50\n",
      "10/10 [==============================] - 1s 34ms/step - loss: 0.5782 - accuracy: 0.6531 - val_loss: 0.5085 - val_accuracy: 1.0000\n",
      "Epoch 0: Reached baseline, terminating training\n"
     ]
    },
    {
     "data": {
      "text/plain": [
       "<tensorflow.python.keras.callbacks.History at 0x2103cd6c8e0>"
      ]
     },
     "execution_count": 332,
     "metadata": {},
     "output_type": "execute_result"
    }
   ],
   "source": [
    "early_stopping = TerminateOnBaseline(monitor='val_accuracy', baseline=0.99)\n",
    "model.fit(X_train, y_train, epochs=50, batch_size=16, validation_split=0.3, callbacks=[early_stopping])"
   ]
  },
  {
   "cell_type": "code",
   "execution_count": 333,
   "id": "b4e49477",
   "metadata": {},
   "outputs": [
    {
     "name": "stdout",
     "output_type": "stream",
     "text": [
      "3/3 [==============================] - 0s 3ms/step - loss: 0.5024 - accuracy: 1.0000\n"
     ]
    },
    {
     "data": {
      "text/plain": [
       "[0.5023919939994812, 1.0]"
      ]
     },
     "execution_count": 333,
     "metadata": {},
     "output_type": "execute_result"
    }
   ],
   "source": [
    "model.evaluate(X_test, y_test)"
   ]
  },
  {
   "cell_type": "code",
   "execution_count": 334,
   "id": "61f4ab89",
   "metadata": {},
   "outputs": [],
   "source": [
    "rnn1_weights   = model.get_layer('rnn1').get_weights()\n",
    "rnn2_weights   = model.get_layer('rnn2').get_weights()\n",
    "dense_weights = model.get_layer('dense').get_weights()"
   ]
  },
  {
   "cell_type": "code",
   "execution_count": 335,
   "id": "ec51d906",
   "metadata": {},
   "outputs": [
    {
     "name": "stdout",
     "output_type": "stream",
     "text": [
      "[array([[ 0.15660393, -0.4011348 , -0.62491983,  0.47359943, -0.40065742]],\n",
      "      dtype=float32), array([[ 0.8844934 ,  0.08467228,  0.04383007,  0.40629047,  0.09780737],\n",
      "       [ 0.08030443,  0.8492961 , -0.45572075, -0.23607612, -0.15117234],\n",
      "       [ 0.41175216, -0.21236667, -0.00189707, -0.8485045 ,  0.24523817],\n",
      "       [-0.19460262,  0.07300187, -0.26526436,  0.16494776,  0.92898124],\n",
      "       [-0.0763701 ,  0.46864524,  0.86004627, -0.11474647,  0.20392397]],\n",
      "      dtype=float32), array([-0.00288089,  0.00357789, -0.00614883,  0.01130581,  0.00384935],\n",
      "      dtype=float32)]\n",
      "[array([[-0.28052956, -0.22743218, -0.6238068 ,  0.1259106 , -0.48240072,\n",
      "         0.48994586,  0.19896044, -0.26304722, -0.55899644,  0.00454135],\n",
      "       [-0.5076634 , -0.00669721,  0.06137074,  0.32563323, -0.02520585,\n",
      "         0.3809736 , -0.00772618,  0.40688887, -0.133164  , -0.6154627 ],\n",
      "       [-0.6146062 ,  0.19847868,  0.18287046, -0.11177013, -0.285964  ,\n",
      "        -0.05550301,  0.49042225, -0.3309858 , -0.05503163,  0.24098665],\n",
      "       [ 0.11744995,  0.36823347,  0.08161855, -0.05592588, -0.50032574,\n",
      "        -0.28837538, -0.10345753, -0.42276105,  0.31204125, -0.57341564],\n",
      "       [ 0.28148922,  0.34358254, -0.11991989,  0.40061632,  0.5040356 ,\n",
      "         0.5377674 , -0.50903445,  0.28654665,  0.5119978 , -0.17907012]],\n",
      "      dtype=float32), array([[-0.14061415, -0.7358635 ,  0.5802947 ,  0.07438082, -0.20468672,\n",
      "         0.01508166, -0.20522162,  0.14019093,  0.14142127,  0.0884793 ],\n",
      "       [-0.4411396 ,  0.35799477,  0.25544104, -0.39167774, -0.28910974,\n",
      "         0.0676949 , -0.40402398, -0.01945624, -0.43872607, -0.11539561],\n",
      "       [ 0.03216935,  0.44160432,  0.62776786,  0.22592849,  0.32500952,\n",
      "        -0.14698741,  0.08896323,  0.32581317,  0.2168719 , -0.32045987],\n",
      "       [-0.27810425,  0.20330738, -0.02125403, -0.2487861 ,  0.0978203 ,\n",
      "        -0.13186882, -0.27988502, -0.3178571 ,  0.775742  ,  0.21241519],\n",
      "       [ 0.03702768,  0.28007793,  0.15596086, -0.14416589, -0.4301319 ,\n",
      "         0.5279142 ,  0.43088916,  0.21509269,  0.20146376,  0.3712529 ],\n",
      "       [-0.61851406, -0.14711359, -0.06135326, -0.00611728,  0.41170087,\n",
      "         0.44731185,  0.31814593, -0.1324346 , -0.01084264, -0.2721886 ],\n",
      "       [-0.04706845, -0.14603055, -0.03240253, -0.5916436 ,  0.40257287,\n",
      "        -0.27493507,  0.20494615,  0.44740775, -0.14360735,  0.3849902 ],\n",
      "       [-0.26785344,  0.13099024,  0.29160133,  0.2981321 , -0.04103585,\n",
      "        -0.39253718,  0.3678064 , -0.48334205, -0.22968516,  0.42857084],\n",
      "       [-0.16788949, -0.06045665, -0.09502666, -0.21883546, -0.4509464 ,\n",
      "        -0.4461383 ,  0.4583355 ,  0.03798322,  0.18181825, -0.488306  ],\n",
      "       [ 0.48405665, -0.09395418,  0.3294651 , -0.49827203,  0.13388444,\n",
      "         0.1358289 ,  0.1401534 , -0.5346366 , -0.07385368, -0.20988983]],\n",
      "      dtype=float32), array([-0.01004475, -0.01569919,  0.00558015,  0.01602885, -0.00569242,\n",
      "       -0.00530593,  0.00816367, -0.01521693,  0.01739485, -0.00623643],\n",
      "      dtype=float32)]\n",
      "[array([[ 0.394634  ],\n",
      "       [-0.26156116],\n",
      "       [-0.5512932 ],\n",
      "       [ 0.00515287],\n",
      "       [ 0.18467045],\n",
      "       [-0.3906881 ],\n",
      "       [-0.67243314],\n",
      "       [ 0.39041573],\n",
      "       [-0.477943  ],\n",
      "       [-0.0954294 ]], dtype=float32), array([-0.01063005], dtype=float32)]\n"
     ]
    }
   ],
   "source": [
    "print(rnn1_weights)\n",
    "print(rnn2_weights)\n",
    "print(dense_weights)"
   ]
  },
  {
   "cell_type": "code",
   "execution_count": 336,
   "id": "df0a2c8f",
   "metadata": {},
   "outputs": [],
   "source": [
    "W1 = rnn1_weights[0]\n",
    "U1 = rnn1_weights[1]\n",
    "rnn1_bias = rnn1_weights[2]\n",
    "\n",
    "W2 = rnn2_weights[0]\n",
    "U2 = rnn2_weights[1]\n",
    "rnn2_bias = rnn2_weights[2]\n",
    "\n",
    "V = dense_weights[0]\n",
    "dense_bias = dense_weights[1]"
   ]
  },
  {
   "cell_type": "code",
   "execution_count": 337,
   "id": "6349c637",
   "metadata": {
    "scrolled": true
   },
   "outputs": [
    {
     "name": "stdout",
     "output_type": "stream",
     "text": [
      "(1, 5)\n",
      "(5, 5)\n",
      "(5,)\n",
      "(5, 10)\n",
      "(10, 10)\n",
      "(10,)\n",
      "(10, 1)\n",
      "(1,)\n"
     ]
    }
   ],
   "source": [
    "print(W1.shape)\n",
    "print(U1.shape)\n",
    "print(rnn1_bias.shape)\n",
    "print(W2.shape)\n",
    "print(U2.shape)\n",
    "print(rnn2_bias.shape)\n",
    "print(V.shape)\n",
    "print(dense_bias.shape)"
   ]
  },
  {
   "cell_type": "markdown",
   "id": "d21093f3",
   "metadata": {},
   "source": [
    "#### Generalize NumPy code -- similar to what's in Chollet's listing 10.15, but compatible with Keras weight shapes"
   ]
  },
  {
   "cell_type": "code",
   "execution_count": 338,
   "id": "faabfef7",
   "metadata": {},
   "outputs": [],
   "source": [
    "def binary_rnn_predict_stacked(rnn1_weights, rnn2_weights, dense_weights, x):\n",
    "    \n",
    "    # model weights\n",
    "    W1 = rnn1_weights[0]\n",
    "    U1 = rnn1_weights[1]\n",
    "    rnn1_bias = rnn1_weights[2]\n",
    "    W2 = rnn2_weights[0]\n",
    "    U2 = rnn2_weights[1]\n",
    "    rnn2_bias = rnn2_weights[2]\n",
    "    V = dense_weights[0]\n",
    "    dense_bias = dense_weights[1]\n",
    "    \n",
    "    # rnn 1\n",
    "    hidden_state1 = np.zeros(U1.shape[0])\n",
    "    hidden_state2 = np.zeros(U2.shape[0])\n",
    "\n",
    "    for t in range(x.shape[0]):\n",
    "        hidden_state1 = np.tanh(np.dot(x[t], W1) + np.dot(hidden_state1, U1) + rnn1_bias)\n",
    "        hidden_state2 = np.tanh(np.dot(hidden_state1, W2) + np.dot(hidden_state2, U2) + rnn2_bias)\n",
    "       \n",
    "    # output layer\n",
    "    return sigmoid(np.dot(hidden_state2, V) + dense_bias)"
   ]
  },
  {
   "cell_type": "code",
   "execution_count": 339,
   "id": "0ad45466",
   "metadata": {
    "scrolled": true
   },
   "outputs": [
    {
     "data": {
      "text/plain": [
       "array([0.66781938])"
      ]
     },
     "execution_count": 339,
     "metadata": {},
     "output_type": "execute_result"
    }
   ],
   "source": [
    "binary_rnn_predict_stacked(rnn1_weights, rnn2_weights, dense_weights, X_train[0])"
   ]
  },
  {
   "cell_type": "code",
   "execution_count": 340,
   "id": "84cb0214",
   "metadata": {},
   "outputs": [
    {
     "data": {
      "text/plain": [
       "array([0.6678041], dtype=float32)"
      ]
     },
     "execution_count": 340,
     "metadata": {},
     "output_type": "execute_result"
    }
   ],
   "source": [
    "model.predict(X_train[[0]])[0]"
   ]
  },
  {
   "cell_type": "markdown",
   "id": "5da977f3",
   "metadata": {},
   "source": [
    "### Bidirectional RNN: single input, single output"
   ]
  },
  {
   "cell_type": "code",
   "execution_count": 345,
   "id": "ec1552ff",
   "metadata": {},
   "outputs": [],
   "source": [
    "X, y = make_ts_data(['sawtooth', 'sine'])\n",
    "X_train, X_test, y_train, y_test = train_test_split(X, y, test_size=0.3, random_state=0)"
   ]
  },
  {
   "cell_type": "code",
   "execution_count": 346,
   "id": "c736dfeb",
   "metadata": {},
   "outputs": [],
   "source": [
    "K.clear_session()\n",
    "\n",
    "inputs = Input(shape=X_train.shape[1:])\n",
    "x = layers.Bidirectional(layers.SimpleRNN(1))(inputs)\n",
    "x = layers.Dense(1, activation='sigmoid')(x)\n",
    "model = Model(inputs, x)"
   ]
  },
  {
   "cell_type": "markdown",
   "id": "718e0db3",
   "metadata": {},
   "source": [
    "A question is how the outputs from the two different directions are combined.  In Chollet, \"Merge (add/concatenate)\" used to describe the process, but adding and concatenating are very different."
   ]
  },
  {
   "cell_type": "code",
   "execution_count": 347,
   "id": "e1be71f1",
   "metadata": {
    "scrolled": true
   },
   "outputs": [
    {
     "name": "stdout",
     "output_type": "stream",
     "text": [
      "Model: \"model\"\n",
      "_________________________________________________________________\n",
      "Layer (type)                 Output Shape              Param #   \n",
      "=================================================================\n",
      "input_1 (InputLayer)         [(None, 10, 1)]           0         \n",
      "_________________________________________________________________\n",
      "bidirectional (Bidirectional (None, 2)                 6         \n",
      "_________________________________________________________________\n",
      "dense (Dense)                (None, 1)                 3         \n",
      "=================================================================\n",
      "Total params: 9\n",
      "Trainable params: 9\n",
      "Non-trainable params: 0\n",
      "_________________________________________________________________\n"
     ]
    }
   ],
   "source": [
    "model.summary()"
   ]
  },
  {
   "cell_type": "markdown",
   "id": "ed288049",
   "metadata": {},
   "source": [
    "From the summary, we can see that the two different values are concatenated so that a vector of 2 values is input to the dense layer.\n",
    "\n",
    "Does this work a lot better than our original model?  No - why??  And it doesn't matter if I add more recurrent neurons.\n",
    "\n",
    "Does it work better than a model with two forward recurrent neurons?\n",
    "\n",
    "Strangely, with 2 neurons I get worse results than 1 neuron."
   ]
  },
  {
   "cell_type": "code",
   "execution_count": 348,
   "id": "93a44d8e",
   "metadata": {},
   "outputs": [],
   "source": [
    "model.compile(loss='binary_crossentropy', metrics=['accuracy'])"
   ]
  },
  {
   "cell_type": "code",
   "execution_count": 349,
   "id": "8476bbcc",
   "metadata": {},
   "outputs": [
    {
     "name": "stdout",
     "output_type": "stream",
     "text": [
      "Epoch 1/500\n",
      "10/10 [==============================] - 1s 28ms/step - loss: 0.6568 - accuracy: 0.4762 - val_loss: 0.6423 - val_accuracy: 0.5556\n",
      "Epoch 2/500\n",
      "10/10 [==============================] - 0s 13ms/step - loss: 0.6468 - accuracy: 0.6667 - val_loss: 0.6386 - val_accuracy: 0.9048\n",
      "Epoch 3/500\n",
      "10/10 [==============================] - 0s 11ms/step - loss: 0.6418 - accuracy: 0.9388 - val_loss: 0.6355 - val_accuracy: 1.0000\n",
      "Epoch 2: Reached baseline, terminating training\n"
     ]
    },
    {
     "data": {
      "text/plain": [
       "<tensorflow.python.keras.callbacks.History at 0x21044109e80>"
      ]
     },
     "execution_count": 349,
     "metadata": {},
     "output_type": "execute_result"
    }
   ],
   "source": [
    "early_stopping = TerminateOnBaseline(monitor='val_accuracy', baseline=0.999)\n",
    "model.fit(X_train, y_train, epochs=500, batch_size=16, validation_split=0.3, callbacks=[early_stopping])"
   ]
  },
  {
   "cell_type": "code",
   "execution_count": 350,
   "id": "e77f8fa8",
   "metadata": {},
   "outputs": [
    {
     "name": "stdout",
     "output_type": "stream",
     "text": [
      "3/3 [==============================] - 0s 5ms/step - loss: 0.6357 - accuracy: 1.0000\n"
     ]
    },
    {
     "data": {
      "text/plain": [
       "[0.6357365846633911, 1.0]"
      ]
     },
     "execution_count": 350,
     "metadata": {},
     "output_type": "execute_result"
    }
   ],
   "source": [
    "model.evaluate(X_test, y_test)"
   ]
  },
  {
   "cell_type": "code",
   "execution_count": 352,
   "id": "6f292a44",
   "metadata": {},
   "outputs": [],
   "source": [
    "rnn_weights   = model.get_layer('bidirectional').get_weights()\n",
    "dense_weights = model.get_layer('dense').get_weights()"
   ]
  },
  {
   "cell_type": "code",
   "execution_count": 358,
   "id": "61750684",
   "metadata": {},
   "outputs": [
    {
     "name": "stdout",
     "output_type": "stream",
     "text": [
      "6\n",
      "2\n"
     ]
    }
   ],
   "source": [
    "print(len(rnn_weights))\n",
    "print(len(dense_weights))"
   ]
  },
  {
   "cell_type": "code",
   "execution_count": 353,
   "id": "17965b65",
   "metadata": {},
   "outputs": [
    {
     "name": "stdout",
     "output_type": "stream",
     "text": [
      "[array([[-0.08757386]], dtype=float32), array([[1.0043529]], dtype=float32), array([-0.01429944], dtype=float32), array([[0.8392305]], dtype=float32), array([[0.9674016]], dtype=float32), array([-0.03354048], dtype=float32)]\n",
      "[array([[1.1045418 ],\n",
      "       [0.78614616]], dtype=float32), array([-0.0137484], dtype=float32)]\n"
     ]
    }
   ],
   "source": [
    "print(rnn_weights)\n",
    "print(dense_weights)"
   ]
  },
  {
   "cell_type": "code",
   "execution_count": 366,
   "id": "91f69b7a",
   "metadata": {},
   "outputs": [],
   "source": [
    "Wf = rnn_weights[0]\n",
    "Uf = rnn_weights[1]\n",
    "rnnf_bias = rnn_weights[2]\n",
    "Wb = rnn_weights[3]\n",
    "Ub = rnn_weights[4]\n",
    "rnnb_bias = rnn_weights[5]\n",
    "V = dense_weights[0]\n",
    "dense_bias = dense_weights[1]"
   ]
  },
  {
   "cell_type": "code",
   "execution_count": 367,
   "id": "35b32105",
   "metadata": {
    "scrolled": true
   },
   "outputs": [
    {
     "name": "stdout",
     "output_type": "stream",
     "text": [
      "(1, 1)\n",
      "(1, 1)\n",
      "(1,)\n",
      "(1, 1)\n",
      "(1, 1)\n",
      "(1,)\n",
      "(2, 1)\n",
      "(1,)\n"
     ]
    }
   ],
   "source": [
    "print(Wf.shape)\n",
    "print(Uf.shape)\n",
    "print(rnnf_bias.shape)\n",
    "print(Wb.shape)\n",
    "print(Ub.shape)\n",
    "print(rnnb_bias.shape)\n",
    "print(V.shape)\n",
    "print(dense_bias.shape)"
   ]
  },
  {
   "cell_type": "code",
   "execution_count": 380,
   "id": "777f6e5b",
   "metadata": {},
   "outputs": [],
   "source": [
    "def binary_rnn_predict_bidirectional(rnn_weights, dense_weights, x):\n",
    "    \n",
    "    # model weights\n",
    "    Wf = rnn_weights[0]\n",
    "    Uf = rnn_weights[1]\n",
    "    rnnf_bias = rnn_weights[2]\n",
    "    Wb = rnn_weights[3]\n",
    "    Ub = rnn_weights[4]\n",
    "    rnnb_bias = rnn_weights[5]\n",
    "    V = dense_weights[0]\n",
    "    dense_bias = dense_weights[1]\n",
    "    \n",
    "    # forward\n",
    "    hidden_state_f = np.zeros(Uf.shape[0])\n",
    "    for t in range(x.shape[0]):\n",
    "        hidden_state_f = np.tanh(np.dot(x[t], Wf) + np.dot(hidden_state_f, Uf) + rnnf_bias)\n",
    "        \n",
    "    # backward\n",
    "    hidden_state_b = np.zeros(Ub.shape[0])\n",
    "    for t in reversed(range(x.shape[0])):\n",
    "        hidden_state_b = np.tanh(np.dot(x[t], Wb) + np.dot(hidden_state_b, Ub) + rnnb_bias)\n",
    "        \n",
    "    dense_input = np.array([hidden_state_f, hidden_state_b]).transpose()\n",
    "       \n",
    "    # output layer\n",
    "    return sigmoid(np.dot(dense_input, V) + dense_bias)"
   ]
  },
  {
   "cell_type": "code",
   "execution_count": 381,
   "id": "9ccfab96",
   "metadata": {
    "scrolled": true
   },
   "outputs": [
    {
     "data": {
      "text/plain": [
       "array([[0.54527965]])"
      ]
     },
     "execution_count": 381,
     "metadata": {},
     "output_type": "execute_result"
    }
   ],
   "source": [
    "binary_rnn_predict_bidirectional(rnn_weights, dense_weights, X_train[0])"
   ]
  },
  {
   "cell_type": "code",
   "execution_count": 382,
   "id": "3e17679b",
   "metadata": {},
   "outputs": [
    {
     "data": {
      "text/plain": [
       "array([0.5452797], dtype=float32)"
      ]
     },
     "execution_count": 382,
     "metadata": {},
     "output_type": "execute_result"
    }
   ],
   "source": [
    "model.predict(X_train[[0]])[0]"
   ]
  },
  {
   "cell_type": "markdown",
   "id": "b44004bf",
   "metadata": {},
   "source": [
    "### Compare to a RNN with 2 neurons, both in the forward direction."
   ]
  },
  {
   "cell_type": "code",
   "execution_count": 179,
   "id": "00447d20",
   "metadata": {},
   "outputs": [],
   "source": [
    "K.clear_session()\n",
    "\n",
    "inputs = Input(shape=X_train.shape[1:])\n",
    "x = layers.SimpleRNN(2)(inputs)\n",
    "x = layers.Dense(1, activation='sigmoid')(x)\n",
    "model = Model(inputs, x)"
   ]
  },
  {
   "cell_type": "markdown",
   "id": "57974d67",
   "metadata": {},
   "source": [
    "Why does this model have more weights in its RNN layer than the bidirectional model?"
   ]
  },
  {
   "cell_type": "code",
   "execution_count": 180,
   "id": "c2f08fcd",
   "metadata": {
    "scrolled": true
   },
   "outputs": [
    {
     "name": "stdout",
     "output_type": "stream",
     "text": [
      "Model: \"model\"\n",
      "_________________________________________________________________\n",
      "Layer (type)                 Output Shape              Param #   \n",
      "=================================================================\n",
      "input_1 (InputLayer)         [(None, 10, 1)]           0         \n",
      "_________________________________________________________________\n",
      "simple_rnn (SimpleRNN)       (None, 2)                 8         \n",
      "_________________________________________________________________\n",
      "dense (Dense)                (None, 1)                 3         \n",
      "=================================================================\n",
      "Total params: 11\n",
      "Trainable params: 11\n",
      "Non-trainable params: 0\n",
      "_________________________________________________________________\n"
     ]
    }
   ],
   "source": [
    "model.summary()"
   ]
  },
  {
   "cell_type": "code",
   "execution_count": 181,
   "id": "4b4848cc",
   "metadata": {},
   "outputs": [],
   "source": [
    "model.compile(loss='binary_crossentropy', metrics=['accuracy'])"
   ]
  },
  {
   "cell_type": "code",
   "execution_count": 182,
   "id": "340c3a16",
   "metadata": {},
   "outputs": [
    {
     "name": "stdout",
     "output_type": "stream",
     "text": [
      "Epoch 1/500\n",
      "10/10 [==============================] - 1s 23ms/step - loss: 0.8758 - accuracy: 0.0884 - val_loss: 0.8635 - val_accuracy: 0.1111\n",
      "Epoch 2/500\n",
      "10/10 [==============================] - 0s 9ms/step - loss: 0.8528 - accuracy: 0.1020 - val_loss: 0.8440 - val_accuracy: 0.1270\n",
      "Epoch 3/500\n",
      "10/10 [==============================] - 0s 9ms/step - loss: 0.8360 - accuracy: 0.1361 - val_loss: 0.8269 - val_accuracy: 0.1905\n",
      "Epoch 4/500\n",
      "10/10 [==============================] - 0s 9ms/step - loss: 0.8207 - accuracy: 0.1701 - val_loss: 0.8110 - val_accuracy: 0.2063\n",
      "Epoch 5/500\n",
      "10/10 [==============================] - 0s 7ms/step - loss: 0.8067 - accuracy: 0.2381 - val_loss: 0.7968 - val_accuracy: 0.2540\n",
      "Epoch 6/500\n",
      "10/10 [==============================] - 0s 7ms/step - loss: 0.7938 - accuracy: 0.3061 - val_loss: 0.7828 - val_accuracy: 0.3016\n",
      "Epoch 7/500\n",
      "10/10 [==============================] - 0s 7ms/step - loss: 0.7809 - accuracy: 0.3469 - val_loss: 0.7693 - val_accuracy: 0.3016\n",
      "Epoch 8/500\n",
      "10/10 [==============================] - 0s 7ms/step - loss: 0.7688 - accuracy: 0.3605 - val_loss: 0.7561 - val_accuracy: 0.3492\n",
      "Epoch 9/500\n",
      "10/10 [==============================] - 0s 7ms/step - loss: 0.7567 - accuracy: 0.3878 - val_loss: 0.7425 - val_accuracy: 0.3651\n",
      "Epoch 10/500\n",
      "10/10 [==============================] - 0s 8ms/step - loss: 0.7443 - accuracy: 0.4082 - val_loss: 0.7296 - val_accuracy: 0.4127\n",
      "Epoch 11/500\n",
      "10/10 [==============================] - 0s 7ms/step - loss: 0.7321 - accuracy: 0.4422 - val_loss: 0.7160 - val_accuracy: 0.4603\n",
      "Epoch 12/500\n",
      "10/10 [==============================] - 0s 7ms/step - loss: 0.7201 - accuracy: 0.4966 - val_loss: 0.7028 - val_accuracy: 0.4762\n",
      "Epoch 13/500\n",
      "10/10 [==============================] - 0s 7ms/step - loss: 0.7078 - accuracy: 0.5034 - val_loss: 0.6887 - val_accuracy: 0.5079\n",
      "Epoch 14/500\n",
      "10/10 [==============================] - 0s 7ms/step - loss: 0.6948 - accuracy: 0.5102 - val_loss: 0.6744 - val_accuracy: 0.5556\n",
      "Epoch 15/500\n",
      "10/10 [==============================] - 0s 7ms/step - loss: 0.6819 - accuracy: 0.5374 - val_loss: 0.6604 - val_accuracy: 0.6349\n",
      "Epoch 16/500\n",
      "10/10 [==============================] - 0s 8ms/step - loss: 0.6689 - accuracy: 0.5986 - val_loss: 0.6461 - val_accuracy: 0.6667\n",
      "Epoch 17/500\n",
      "10/10 [==============================] - 0s 8ms/step - loss: 0.6558 - accuracy: 0.6395 - val_loss: 0.6318 - val_accuracy: 0.7302\n",
      "Epoch 18/500\n",
      "10/10 [==============================] - 0s 7ms/step - loss: 0.6424 - accuracy: 0.6871 - val_loss: 0.6173 - val_accuracy: 0.7460\n",
      "Epoch 19/500\n",
      "10/10 [==============================] - 0s 7ms/step - loss: 0.6287 - accuracy: 0.7143 - val_loss: 0.6018 - val_accuracy: 0.8254\n",
      "Epoch 20/500\n",
      "10/10 [==============================] - 0s 7ms/step - loss: 0.6143 - accuracy: 0.7415 - val_loss: 0.5859 - val_accuracy: 0.8571\n",
      "Epoch 21/500\n",
      "10/10 [==============================] - 0s 7ms/step - loss: 0.5994 - accuracy: 0.7687 - val_loss: 0.5695 - val_accuracy: 0.9048\n",
      "Epoch 22/500\n",
      "10/10 [==============================] - 0s 7ms/step - loss: 0.5839 - accuracy: 0.7959 - val_loss: 0.5535 - val_accuracy: 0.9206\n",
      "Epoch 23/500\n",
      "10/10 [==============================] - 0s 7ms/step - loss: 0.5687 - accuracy: 0.8231 - val_loss: 0.5370 - val_accuracy: 0.9206\n",
      "Epoch 24/500\n",
      "10/10 [==============================] - 0s 7ms/step - loss: 0.5525 - accuracy: 0.8367 - val_loss: 0.5196 - val_accuracy: 0.9365\n",
      "Epoch 25/500\n",
      "10/10 [==============================] - 0s 7ms/step - loss: 0.5353 - accuracy: 0.8776 - val_loss: 0.5031 - val_accuracy: 0.9524\n",
      "Epoch 26/500\n",
      "10/10 [==============================] - 0s 8ms/step - loss: 0.5188 - accuracy: 0.8980 - val_loss: 0.4860 - val_accuracy: 0.9524\n",
      "Epoch 27/500\n",
      "10/10 [==============================] - 0s 10ms/step - loss: 0.5014 - accuracy: 0.9184 - val_loss: 0.4676 - val_accuracy: 0.9683\n",
      "Epoch 28/500\n",
      "10/10 [==============================] - 0s 7ms/step - loss: 0.4826 - accuracy: 0.9320 - val_loss: 0.4507 - val_accuracy: 0.9683\n",
      "Epoch 29/500\n",
      "10/10 [==============================] - 0s 7ms/step - loss: 0.4651 - accuracy: 0.9320 - val_loss: 0.4325 - val_accuracy: 0.9683\n",
      "Epoch 30/500\n",
      "10/10 [==============================] - 0s 7ms/step - loss: 0.4471 - accuracy: 0.9592 - val_loss: 0.4148 - val_accuracy: 0.9683\n",
      "Epoch 31/500\n",
      "10/10 [==============================] - 0s 7ms/step - loss: 0.4284 - accuracy: 0.9728 - val_loss: 0.3964 - val_accuracy: 0.9841\n",
      "Epoch 32/500\n",
      "10/10 [==============================] - 0s 7ms/step - loss: 0.4100 - accuracy: 0.9728 - val_loss: 0.3779 - val_accuracy: 1.0000\n",
      "Epoch 31: Reached baseline, terminating training\n"
     ]
    },
    {
     "data": {
      "text/plain": [
       "<tensorflow.python.keras.callbacks.History at 0x1fbb98f4700>"
      ]
     },
     "execution_count": 182,
     "metadata": {},
     "output_type": "execute_result"
    }
   ],
   "source": [
    "early_stopping = TerminateOnBaseline(monitor='val_accuracy', baseline=0.999)\n",
    "model.fit(X_train, y_train, epochs=500, batch_size=16, validation_split=0.3, callbacks=[early_stopping])"
   ]
  },
  {
   "cell_type": "code",
   "execution_count": 84,
   "id": "5fe0b411",
   "metadata": {
    "scrolled": true
   },
   "outputs": [
    {
     "name": "stdout",
     "output_type": "stream",
     "text": [
      "3/3 [==============================] - 0s 6ms/step - loss: 0.2954 - accuracy: 1.0000\n"
     ]
    },
    {
     "data": {
      "text/plain": [
       "[0.2954230308532715, 1.0]"
      ]
     },
     "execution_count": 84,
     "metadata": {},
     "output_type": "execute_result"
    }
   ],
   "source": [
    "model.evaluate(X_test, y_test)"
   ]
  },
  {
   "cell_type": "markdown",
   "id": "5430fc18",
   "metadata": {},
   "source": [
    "### Bidirectional RNN: multiple input, multiple output"
   ]
  },
  {
   "cell_type": "code",
   "execution_count": 117,
   "id": "dc0a9acb",
   "metadata": {},
   "outputs": [],
   "source": [
    "X, y = make_eeg_data()\n",
    "X_train, X_test, y_train, y_test = train_test_split(X, y, test_size=0.3, random_state=0)"
   ]
  },
  {
   "cell_type": "code",
   "execution_count": 118,
   "id": "d19353c8",
   "metadata": {},
   "outputs": [],
   "source": [
    "K.clear_session()\n",
    "\n",
    "inputs = Input(shape=X_train.shape[1:])\n",
    "x = layers.Bidirectional(layers.SimpleRNN(10))(inputs)\n",
    "x = layers.Dense(1, activation='sigmoid')(x)\n",
    "model = Model(inputs, x)"
   ]
  },
  {
   "cell_type": "markdown",
   "id": "4225f225",
   "metadata": {},
   "source": [
    "A question is how the outputs from the two different directions are combined.  In Chollet, \"Merge (add/concatenate)\" used to describe the process, but adding and concatenating are very different."
   ]
  },
  {
   "cell_type": "code",
   "execution_count": 119,
   "id": "263d4fea",
   "metadata": {
    "scrolled": true
   },
   "outputs": [
    {
     "name": "stdout",
     "output_type": "stream",
     "text": [
      "Model: \"model\"\n",
      "_________________________________________________________________\n",
      "Layer (type)                 Output Shape              Param #   \n",
      "=================================================================\n",
      "input_1 (InputLayer)         [(None, 48, 3)]           0         \n",
      "_________________________________________________________________\n",
      "bidirectional (Bidirectional (None, 20)                280       \n",
      "_________________________________________________________________\n",
      "dense (Dense)                (None, 1)                 21        \n",
      "=================================================================\n",
      "Total params: 301\n",
      "Trainable params: 301\n",
      "Non-trainable params: 0\n",
      "_________________________________________________________________\n"
     ]
    }
   ],
   "source": [
    "model.summary()"
   ]
  },
  {
   "cell_type": "markdown",
   "id": "d1f0d665",
   "metadata": {},
   "source": [
    "From the summary, we can see that the two different values are concatenated so that a vector of 2 values is input to the dense layer.\n",
    "\n",
    "Does this work a lot better than our original model?  No - why??  And it doesn't matter if I add more recurrent neurons.\n",
    "\n",
    "Does it work better than a model with two forward recurrent neurons?\n",
    "\n",
    "Strangely, with 2 neurons I get worse results than 1 neuron."
   ]
  },
  {
   "cell_type": "code",
   "execution_count": 114,
   "id": "7ce8ef61",
   "metadata": {},
   "outputs": [],
   "source": [
    "model.compile(loss='binary_crossentropy', metrics=['accuracy'])"
   ]
  },
  {
   "cell_type": "code",
   "execution_count": 116,
   "id": "6c8018cb",
   "metadata": {},
   "outputs": [
    {
     "name": "stdout",
     "output_type": "stream",
     "text": [
      "Epoch 1/500\n",
      "25/25 [==============================] - 1s 36ms/step - loss: 0.6834 - accuracy: 0.5765 - val_loss: 0.7127 - val_accuracy: 0.4464\n",
      "Epoch 2/500\n",
      "25/25 [==============================] - 1s 36ms/step - loss: 0.6839 - accuracy: 0.5791 - val_loss: 0.7129 - val_accuracy: 0.4405\n",
      "Epoch 3/500\n",
      "25/25 [==============================] - 1s 36ms/step - loss: 0.6828 - accuracy: 0.5714 - val_loss: 0.7113 - val_accuracy: 0.4643\n",
      "Epoch 4/500\n",
      "25/25 [==============================] - 1s 36ms/step - loss: 0.6835 - accuracy: 0.5689 - val_loss: 0.7132 - val_accuracy: 0.4464\n",
      "Epoch 5/500\n",
      "25/25 [==============================] - 1s 36ms/step - loss: 0.6833 - accuracy: 0.5816 - val_loss: 0.7139 - val_accuracy: 0.4464\n",
      "Epoch 6/500\n",
      "25/25 [==============================] - 1s 39ms/step - loss: 0.6827 - accuracy: 0.5587 - val_loss: 0.7143 - val_accuracy: 0.4464\n",
      "Epoch 7/500\n",
      "25/25 [==============================] - 1s 36ms/step - loss: 0.6822 - accuracy: 0.5612 - val_loss: 0.7125 - val_accuracy: 0.4702\n",
      "Epoch 8/500\n",
      "25/25 [==============================] - 1s 38ms/step - loss: 0.6819 - accuracy: 0.5561 - val_loss: 0.7147 - val_accuracy: 0.4702\n",
      "Epoch 9/500\n",
      "25/25 [==============================] - 1s 38ms/step - loss: 0.6811 - accuracy: 0.5765 - val_loss: 0.7164 - val_accuracy: 0.4405\n",
      "Epoch 10/500\n",
      "25/25 [==============================] - 1s 39ms/step - loss: 0.6808 - accuracy: 0.5663 - val_loss: 0.7155 - val_accuracy: 0.4583\n",
      "Epoch 11/500\n",
      "25/25 [==============================] - 1s 39ms/step - loss: 0.6800 - accuracy: 0.5714 - val_loss: 0.7148 - val_accuracy: 0.4643\n",
      "Epoch 12/500\n",
      "25/25 [==============================] - 1s 45ms/step - loss: 0.6811 - accuracy: 0.5740 - val_loss: 0.7171 - val_accuracy: 0.4464\n",
      "Epoch 13/500\n",
      "25/25 [==============================] - 1s 36ms/step - loss: 0.6794 - accuracy: 0.5765 - val_loss: 0.7200 - val_accuracy: 0.4226\n"
     ]
    },
    {
     "data": {
      "text/plain": [
       "<tensorflow.python.keras.callbacks.History at 0x2101d650340>"
      ]
     },
     "execution_count": 116,
     "metadata": {},
     "output_type": "execute_result"
    }
   ],
   "source": [
    "early_stopping = EarlyStopping(patience=10)\n",
    "model.fit(X_train, y_train, epochs=500, batch_size=16, validation_split=0.3, callbacks=[early_stopping])"
   ]
  },
  {
   "cell_type": "code",
   "execution_count": 176,
   "id": "fa7b1c1f",
   "metadata": {},
   "outputs": [
    {
     "name": "stdout",
     "output_type": "stream",
     "text": [
      "3/3 [==============================] - 0s 6ms/step - loss: 0.4805 - accuracy: 1.0000\n"
     ]
    },
    {
     "data": {
      "text/plain": [
       "[0.480485200881958, 1.0]"
      ]
     },
     "execution_count": 176,
     "metadata": {},
     "output_type": "execute_result"
    }
   ],
   "source": [
    "model.evaluate(X_test, y_test)"
   ]
  },
  {
   "cell_type": "markdown",
   "id": "7ba17cb7",
   "metadata": {},
   "source": [
    "So, for this problem, there is no advantage of a bidirectional model, it seems."
   ]
  },
  {
   "cell_type": "markdown",
   "id": "7a6ef08c",
   "metadata": {},
   "source": [
    "## Shape and parameter counting tests"
   ]
  },
  {
   "cell_type": "markdown",
   "id": "def4a6b3",
   "metadata": {},
   "source": [
    "A binary classifier with a single, simple recurrent neuron.\n",
    "\n",
    "The RNN layer has 3 parameters:\n",
    "- 1 for the input weight\n",
    "- 1 for the feedback weight\n",
    "- 1 for the bias weight"
   ]
  },
  {
   "cell_type": "code",
   "execution_count": 32,
   "id": "6477f3c8",
   "metadata": {},
   "outputs": [
    {
     "name": "stdout",
     "output_type": "stream",
     "text": [
      "Model: \"model\"\n",
      "_________________________________________________________________\n",
      " Layer (type)                Output Shape              Param #   \n",
      "=================================================================\n",
      " input_1 (InputLayer)        [(None, 10, 1)]           0         \n",
      "                                                                 \n",
      " simple_rnn (SimpleRNN)      (None, 1)                 3         \n",
      "                                                                 \n",
      " dense (Dense)               (None, 1)                 2         \n",
      "                                                                 \n",
      "=================================================================\n",
      "Total params: 5\n",
      "Trainable params: 5\n",
      "Non-trainable params: 0\n",
      "_________________________________________________________________\n"
     ]
    }
   ],
   "source": [
    "K.clear_session()\n",
    "\n",
    "inputs = Input(shape=(10,1))\n",
    "x = layers.SimpleRNN(1)(inputs)\n",
    "x = layers.Dense(1, activation='sigmoid')(x)\n",
    "model = Model(inputs, x)\n",
    "\n",
    "model.summary()"
   ]
  },
  {
   "cell_type": "markdown",
   "id": "4e3f2f78",
   "metadata": {},
   "source": [
    "Change number of neurons\n",
    "\n",
    "The RNN layer has 120 parameters.  For each of 10 neurons:\n",
    "- 1 for the input weight\n",
    "- 10 for the feedback weight\n",
    "- 1 for the bias weight"
   ]
  },
  {
   "cell_type": "code",
   "execution_count": 33,
   "id": "098ea70b",
   "metadata": {},
   "outputs": [
    {
     "name": "stdout",
     "output_type": "stream",
     "text": [
      "Model: \"model\"\n",
      "_________________________________________________________________\n",
      " Layer (type)                Output Shape              Param #   \n",
      "=================================================================\n",
      " input_1 (InputLayer)        [(None, 10, 1)]           0         \n",
      "                                                                 \n",
      " simple_rnn (SimpleRNN)      (None, 10)                120       \n",
      "                                                                 \n",
      " dense (Dense)               (None, 1)                 11        \n",
      "                                                                 \n",
      "=================================================================\n",
      "Total params: 131\n",
      "Trainable params: 131\n",
      "Non-trainable params: 0\n",
      "_________________________________________________________________\n"
     ]
    }
   ],
   "source": [
    "K.clear_session()\n",
    "\n",
    "inputs = Input(shape=(10,1))\n",
    "x = layers.SimpleRNN(10)(inputs)\n",
    "x = layers.Dense(1, activation='sigmoid')(x)\n",
    "model = Model(inputs, x)\n",
    "\n",
    "model.summary()"
   ]
  },
  {
   "cell_type": "markdown",
   "id": "a0352211",
   "metadata": {},
   "source": [
    "Change number of input channels\n",
    "\n",
    "The RNN layer has 190 parameters.  For each of 10 neurons:\n",
    "- 8 for the input weight\n",
    "- 10 for the feedback weight\n",
    "- 1 for the bias weight"
   ]
  },
  {
   "cell_type": "code",
   "execution_count": 39,
   "id": "812b9d8f",
   "metadata": {},
   "outputs": [
    {
     "name": "stdout",
     "output_type": "stream",
     "text": [
      "Model: \"model\"\n",
      "_________________________________________________________________\n",
      " Layer (type)                Output Shape              Param #   \n",
      "=================================================================\n",
      " input_1 (InputLayer)        [(None, 10, 8)]           0         \n",
      "                                                                 \n",
      " simple_rnn (SimpleRNN)      (None, 10)                190       \n",
      "                                                                 \n",
      " dense (Dense)               (None, 1)                 11        \n",
      "                                                                 \n",
      "=================================================================\n",
      "Total params: 201\n",
      "Trainable params: 201\n",
      "Non-trainable params: 0\n",
      "_________________________________________________________________\n"
     ]
    }
   ],
   "source": [
    "K.clear_session()\n",
    "\n",
    "inputs = Input(shape=(10,8))\n",
    "x = layers.SimpleRNN(10)(inputs)\n",
    "x = layers.Dense(1, activation='sigmoid')(x)\n",
    "model = Model(inputs, x)\n",
    "\n",
    "model.summary()"
   ]
  },
  {
   "cell_type": "markdown",
   "id": "3183392b",
   "metadata": {},
   "source": [
    "Change number of time steps\n",
    "\n",
    "The RNN layer has 190 parameters.  For each of 10 neurons:\n",
    "- 8 for the input weight\n",
    "- 10 for the feedback weight\n",
    "- 1 for the bias weight\n",
    "\n",
    "The number of parameters in the recurrent layer does not depend on the number of time steps.\n",
    "\n",
    "The dense layer has 11 parameters:\n",
    "- 10 for the input weights (there are 10 recurrent neurons)\n",
    "- 1 for the bias weight"
   ]
  },
  {
   "cell_type": "code",
   "execution_count": 34,
   "id": "842aa8a4",
   "metadata": {},
   "outputs": [
    {
     "name": "stdout",
     "output_type": "stream",
     "text": [
      "Model: \"model\"\n",
      "_________________________________________________________________\n",
      " Layer (type)                Output Shape              Param #   \n",
      "=================================================================\n",
      " input_1 (InputLayer)        [(None, 20, 8)]           0         \n",
      "                                                                 \n",
      " simple_rnn (SimpleRNN)      (None, 10)                190       \n",
      "                                                                 \n",
      " dense (Dense)               (None, 1)                 11        \n",
      "                                                                 \n",
      "=================================================================\n",
      "Total params: 201\n",
      "Trainable params: 201\n",
      "Non-trainable params: 0\n",
      "_________________________________________________________________\n"
     ]
    }
   ],
   "source": [
    "K.clear_session()\n",
    "\n",
    "inputs = Input(shape=(20,8))\n",
    "x = layers.SimpleRNN(10)(inputs)\n",
    "x = layers.Dense(1, activation='sigmoid')(x)\n",
    "model = Model(inputs, x)\n",
    "\n",
    "model.summary()"
   ]
  },
  {
   "cell_type": "markdown",
   "id": "2ab85468",
   "metadata": {},
   "source": [
    "Change dense layer for multi-class classification.\n",
    "\n",
    "The recurrent layer is the same as before.\n",
    "\n",
    "The dense layer has 55 weights.  There are 5 neurons, each with 11 parameters:\n",
    "- 1 for each input\n",
    "- 1 for the bias"
   ]
  },
  {
   "cell_type": "code",
   "execution_count": 42,
   "id": "bfbfc652",
   "metadata": {},
   "outputs": [
    {
     "name": "stdout",
     "output_type": "stream",
     "text": [
      "Model: \"model\"\n",
      "_________________________________________________________________\n",
      " Layer (type)                Output Shape              Param #   \n",
      "=================================================================\n",
      " input_1 (InputLayer)        [(None, 20, 8)]           0         \n",
      "                                                                 \n",
      " simple_rnn (SimpleRNN)      (None, 10)                190       \n",
      "                                                                 \n",
      " dense (Dense)               (None, 5)                 55        \n",
      "                                                                 \n",
      "=================================================================\n",
      "Total params: 245\n",
      "Trainable params: 245\n",
      "Non-trainable params: 0\n",
      "_________________________________________________________________\n"
     ]
    }
   ],
   "source": [
    "K.clear_session()\n",
    "\n",
    "inputs = Input(shape=(20,8))\n",
    "x = layers.SimpleRNN(10)(inputs)\n",
    "x = layers.Dense(5, activation='softmax')(x)\n",
    "model = Model(inputs, x)\n",
    "\n",
    "model.summary()"
   ]
  },
  {
   "cell_type": "markdown",
   "id": "ee99bb6f",
   "metadata": {},
   "source": [
    "Change type of recurrent layer to GRU.\n",
    "\n",
    "The number of parameters associated with the recurrent layer has grown from 190 to 600."
   ]
  },
  {
   "cell_type": "code",
   "execution_count": 36,
   "id": "3b11deba",
   "metadata": {},
   "outputs": [
    {
     "name": "stdout",
     "output_type": "stream",
     "text": [
      "Model: \"model\"\n",
      "_________________________________________________________________\n",
      " Layer (type)                Output Shape              Param #   \n",
      "=================================================================\n",
      " input_1 (InputLayer)        [(None, 20, 8)]           0         \n",
      "                                                                 \n",
      " gru (GRU)                   (None, 10)                600       \n",
      "                                                                 \n",
      " dense (Dense)               (None, 1)                 11        \n",
      "                                                                 \n",
      "=================================================================\n",
      "Total params: 611\n",
      "Trainable params: 611\n",
      "Non-trainable params: 0\n",
      "_________________________________________________________________\n"
     ]
    }
   ],
   "source": [
    "K.clear_session()\n",
    "\n",
    "inputs = Input(shape=(20,8))\n",
    "x = layers.GRU(10)(inputs)\n",
    "x = layers.Dense(1, activation='sigmoid')(x)\n",
    "model = Model(inputs, x)\n",
    "\n",
    "model.summary()"
   ]
  },
  {
   "cell_type": "markdown",
   "id": "d5ea09ab",
   "metadata": {},
   "source": [
    "Change type of recurrent layer to LSTM."
   ]
  },
  {
   "cell_type": "code",
   "execution_count": 38,
   "id": "2f17aba5",
   "metadata": {
    "scrolled": true
   },
   "outputs": [
    {
     "name": "stdout",
     "output_type": "stream",
     "text": [
      "Model: \"model\"\n",
      "_________________________________________________________________\n",
      " Layer (type)                Output Shape              Param #   \n",
      "=================================================================\n",
      " input_1 (InputLayer)        [(None, 20, 8)]           0         \n",
      "                                                                 \n",
      " lstm (LSTM)                 (None, 10)                760       \n",
      "                                                                 \n",
      " dense (Dense)               (None, 1)                 11        \n",
      "                                                                 \n",
      "=================================================================\n",
      "Total params: 771\n",
      "Trainable params: 771\n",
      "Non-trainable params: 0\n",
      "_________________________________________________________________\n"
     ]
    }
   ],
   "source": [
    "K.clear_session()\n",
    "\n",
    "inputs = Input(shape=(20,8))\n",
    "x = layers.LSTM(10)(inputs)\n",
    "x = layers.Dense(1, activation='sigmoid')(x)\n",
    "model = Model(inputs, x)\n",
    "\n",
    "model.summary()"
   ]
  },
  {
   "cell_type": "markdown",
   "id": "3731e773",
   "metadata": {},
   "source": [
    "Use bidirectional model with simple RNN.\n",
    "\n",
    "The recurrent layer has 280 input.  For each of 20 neurons:\n",
    "- 3 weights for each input\n",
    "- 10 weights for the feedback\n",
    "- 1 bias weight"
   ]
  },
  {
   "cell_type": "code",
   "execution_count": 41,
   "id": "93e48538",
   "metadata": {},
   "outputs": [
    {
     "name": "stdout",
     "output_type": "stream",
     "text": [
      "Model: \"model\"\n",
      "_________________________________________________________________\n",
      " Layer (type)                Output Shape              Param #   \n",
      "=================================================================\n",
      " input_1 (InputLayer)        [(None, 10, 3)]           0         \n",
      "                                                                 \n",
      " bidirectional (Bidirectiona  (None, 20)               280       \n",
      " l)                                                              \n",
      "                                                                 \n",
      " dense (Dense)               (None, 1)                 21        \n",
      "                                                                 \n",
      "=================================================================\n",
      "Total params: 301\n",
      "Trainable params: 301\n",
      "Non-trainable params: 0\n",
      "_________________________________________________________________\n"
     ]
    }
   ],
   "source": [
    "K.clear_session()\n",
    "\n",
    "inputs = Input(shape=(10,3))\n",
    "x = layers.Bidirectional(layers.SimpleRNN(10))(inputs)\n",
    "x = layers.Dense(1, activation='sigmoid')(x)\n",
    "model = Model(inputs, x)\n",
    "\n",
    "model.summary()"
   ]
  },
  {
   "cell_type": "markdown",
   "id": "f17a7f14",
   "metadata": {},
   "source": [
    "Stacked model\n",
    "\n",
    "The second recurrent layer has 210 parameters.  For each of 10 neurons:\n",
    "- 10 weights for each input\n",
    "- 10 weights for the feedback\n",
    "- 1 bias weight"
   ]
  },
  {
   "cell_type": "code",
   "execution_count": 45,
   "id": "ca1765f1",
   "metadata": {},
   "outputs": [
    {
     "name": "stdout",
     "output_type": "stream",
     "text": [
      "Model: \"model\"\n",
      "_________________________________________________________________\n",
      " Layer (type)                Output Shape              Param #   \n",
      "=================================================================\n",
      " input_1 (InputLayer)        [(None, 10, 3)]           0         \n",
      "                                                                 \n",
      " simple_rnn (SimpleRNN)      (None, 10, 10)            140       \n",
      "                                                                 \n",
      " simple_rnn_1 (SimpleRNN)    (None, 10)                210       \n",
      "                                                                 \n",
      " dense (Dense)               (None, 1)                 11        \n",
      "                                                                 \n",
      "=================================================================\n",
      "Total params: 361\n",
      "Trainable params: 361\n",
      "Non-trainable params: 0\n",
      "_________________________________________________________________\n"
     ]
    }
   ],
   "source": [
    "K.clear_session()\n",
    "\n",
    "inputs = Input(shape=(10,3))\n",
    "x = layers.SimpleRNN(10, return_sequences=True)(inputs)\n",
    "x = layers.SimpleRNN(10)(x)\n",
    "x = layers.Dense(1, activation='sigmoid')(x)\n",
    "model = Model(inputs, x)\n",
    "\n",
    "model.summary()"
   ]
  },
  {
   "cell_type": "markdown",
   "id": "ab849cfe",
   "metadata": {},
   "source": [
    "Stacked model\n",
    "\n",
    "I thought it might be possible to return sequences in the second recurrent layer and then flatten, but it doesn't work."
   ]
  },
  {
   "cell_type": "code",
   "execution_count": 49,
   "id": "8c31e827",
   "metadata": {},
   "outputs": [
    {
     "ename": "AttributeError",
     "evalue": "'KerasTensor' object has no attribute 'lower'",
     "output_type": "error",
     "traceback": [
      "\u001B[1;31m---------------------------------------------------------------------------\u001B[0m",
      "\u001B[1;31mAttributeError\u001B[0m                            Traceback (most recent call last)",
      "Cell \u001B[1;32mIn[49], line 6\u001B[0m\n\u001B[0;32m      4\u001B[0m x \u001B[38;5;241m=\u001B[39m layers\u001B[38;5;241m.\u001B[39mSimpleRNN(\u001B[38;5;241m10\u001B[39m, return_sequences\u001B[38;5;241m=\u001B[39m\u001B[38;5;28;01mTrue\u001B[39;00m)(inputs)\n\u001B[0;32m      5\u001B[0m x \u001B[38;5;241m=\u001B[39m layers\u001B[38;5;241m.\u001B[39mSimpleRNN(\u001B[38;5;241m10\u001B[39m, return_sequences\u001B[38;5;241m=\u001B[39m\u001B[38;5;28;01mTrue\u001B[39;00m)(x)\n\u001B[1;32m----> 6\u001B[0m x \u001B[38;5;241m=\u001B[39m \u001B[43mlayers\u001B[49m\u001B[38;5;241;43m.\u001B[39;49m\u001B[43mFlatten\u001B[49m\u001B[43m(\u001B[49m\u001B[43mx\u001B[49m\u001B[43m)\u001B[49m\n\u001B[0;32m      7\u001B[0m x \u001B[38;5;241m=\u001B[39m layers\u001B[38;5;241m.\u001B[39mDense(\u001B[38;5;241m1\u001B[39m, activation\u001B[38;5;241m=\u001B[39m\u001B[38;5;124m'\u001B[39m\u001B[38;5;124msigmoid\u001B[39m\u001B[38;5;124m'\u001B[39m)(x)\n\u001B[0;32m      8\u001B[0m model \u001B[38;5;241m=\u001B[39m Model(inputs, x)\n",
      "File \u001B[1;32m~\\anaconda3\\envs\\tf-gpu\\lib\\site-packages\\keras\\layers\\reshaping\\flatten.py:65\u001B[0m, in \u001B[0;36mFlatten.__init__\u001B[1;34m(self, data_format, **kwargs)\u001B[0m\n\u001B[0;32m     63\u001B[0m \u001B[38;5;28;01mdef\u001B[39;00m \u001B[38;5;21m__init__\u001B[39m(\u001B[38;5;28mself\u001B[39m, data_format\u001B[38;5;241m=\u001B[39m\u001B[38;5;28;01mNone\u001B[39;00m, \u001B[38;5;241m*\u001B[39m\u001B[38;5;241m*\u001B[39mkwargs):\n\u001B[0;32m     64\u001B[0m     \u001B[38;5;28msuper\u001B[39m()\u001B[38;5;241m.\u001B[39m\u001B[38;5;21m__init__\u001B[39m(\u001B[38;5;241m*\u001B[39m\u001B[38;5;241m*\u001B[39mkwargs)\n\u001B[1;32m---> 65\u001B[0m     \u001B[38;5;28mself\u001B[39m\u001B[38;5;241m.\u001B[39mdata_format \u001B[38;5;241m=\u001B[39m \u001B[43mconv_utils\u001B[49m\u001B[38;5;241;43m.\u001B[39;49m\u001B[43mnormalize_data_format\u001B[49m\u001B[43m(\u001B[49m\u001B[43mdata_format\u001B[49m\u001B[43m)\u001B[49m\n\u001B[0;32m     66\u001B[0m     \u001B[38;5;28mself\u001B[39m\u001B[38;5;241m.\u001B[39minput_spec \u001B[38;5;241m=\u001B[39m InputSpec(min_ndim\u001B[38;5;241m=\u001B[39m\u001B[38;5;241m1\u001B[39m)\n\u001B[0;32m     67\u001B[0m     \u001B[38;5;28mself\u001B[39m\u001B[38;5;241m.\u001B[39m_channels_first \u001B[38;5;241m=\u001B[39m \u001B[38;5;28mself\u001B[39m\u001B[38;5;241m.\u001B[39mdata_format \u001B[38;5;241m==\u001B[39m \u001B[38;5;124m\"\u001B[39m\u001B[38;5;124mchannels_first\u001B[39m\u001B[38;5;124m\"\u001B[39m\n",
      "File \u001B[1;32m~\\anaconda3\\envs\\tf-gpu\\lib\\site-packages\\keras\\utils\\conv_utils.py:223\u001B[0m, in \u001B[0;36mnormalize_data_format\u001B[1;34m(value)\u001B[0m\n\u001B[0;32m    221\u001B[0m \u001B[38;5;28;01mif\u001B[39;00m value \u001B[38;5;129;01mis\u001B[39;00m \u001B[38;5;28;01mNone\u001B[39;00m:\n\u001B[0;32m    222\u001B[0m     value \u001B[38;5;241m=\u001B[39m backend\u001B[38;5;241m.\u001B[39mimage_data_format()\n\u001B[1;32m--> 223\u001B[0m data_format \u001B[38;5;241m=\u001B[39m \u001B[43mvalue\u001B[49m\u001B[38;5;241;43m.\u001B[39;49m\u001B[43mlower\u001B[49m()\n\u001B[0;32m    224\u001B[0m \u001B[38;5;28;01mif\u001B[39;00m data_format \u001B[38;5;129;01mnot\u001B[39;00m \u001B[38;5;129;01min\u001B[39;00m {\u001B[38;5;124m\"\u001B[39m\u001B[38;5;124mchannels_first\u001B[39m\u001B[38;5;124m\"\u001B[39m, \u001B[38;5;124m\"\u001B[39m\u001B[38;5;124mchannels_last\u001B[39m\u001B[38;5;124m\"\u001B[39m}:\n\u001B[0;32m    225\u001B[0m     \u001B[38;5;28;01mraise\u001B[39;00m \u001B[38;5;167;01mValueError\u001B[39;00m(\n\u001B[0;32m    226\u001B[0m         \u001B[38;5;124m\"\u001B[39m\u001B[38;5;124mThe `data_format` argument must be one of \u001B[39m\u001B[38;5;124m\"\u001B[39m\n\u001B[0;32m    227\u001B[0m         \u001B[38;5;124mf\u001B[39m\u001B[38;5;124m'\u001B[39m\u001B[38;5;124m\"\u001B[39m\u001B[38;5;124mchannels_first\u001B[39m\u001B[38;5;124m\"\u001B[39m\u001B[38;5;124m, \u001B[39m\u001B[38;5;124m\"\u001B[39m\u001B[38;5;124mchannels_last\u001B[39m\u001B[38;5;124m\"\u001B[39m\u001B[38;5;124m. Received: \u001B[39m\u001B[38;5;132;01m{\u001B[39;00mvalue\u001B[38;5;132;01m}\u001B[39;00m\u001B[38;5;124m'\u001B[39m\n\u001B[0;32m    228\u001B[0m     )\n",
      "\u001B[1;31mAttributeError\u001B[0m: 'KerasTensor' object has no attribute 'lower'"
     ]
    }
   ],
   "source": [
    "K.clear_session()\n",
    "\n",
    "inputs = Input(shape=(10,3))\n",
    "x = layers.SimpleRNN(10, return_sequences=True)(inputs)\n",
    "x = layers.SimpleRNN(10, return_sequences=True)(x)\n",
    "x = layers.Dense(1, activation='sigmoid')(x)\n",
    "model = Model(inputs, x)\n",
    "\n",
    "model.summary()"
   ]
  },
  {
   "cell_type": "markdown",
   "id": "50c14522",
   "metadata": {},
   "source": [
    "Stacked model\n",
    "\n",
    "It also doesn't work to send the second recurrent layer a single output."
   ]
  },
  {
   "cell_type": "code",
   "execution_count": 50,
   "id": "fc78d0ac",
   "metadata": {},
   "outputs": [
    {
     "ename": "ValueError",
     "evalue": "Input 0 of layer \"simple_rnn_1\" is incompatible with the layer: expected ndim=3, found ndim=2. Full shape received: (None, 10)",
     "output_type": "error",
     "traceback": [
      "\u001B[1;31m---------------------------------------------------------------------------\u001B[0m",
      "\u001B[1;31mValueError\u001B[0m                                Traceback (most recent call last)",
      "Cell \u001B[1;32mIn[50], line 5\u001B[0m\n\u001B[0;32m      3\u001B[0m inputs \u001B[38;5;241m=\u001B[39m Input(shape\u001B[38;5;241m=\u001B[39m(\u001B[38;5;241m10\u001B[39m,\u001B[38;5;241m3\u001B[39m))\n\u001B[0;32m      4\u001B[0m x \u001B[38;5;241m=\u001B[39m layers\u001B[38;5;241m.\u001B[39mSimpleRNN(\u001B[38;5;241m10\u001B[39m)(inputs)\n\u001B[1;32m----> 5\u001B[0m x \u001B[38;5;241m=\u001B[39m \u001B[43mlayers\u001B[49m\u001B[38;5;241;43m.\u001B[39;49m\u001B[43mSimpleRNN\u001B[49m\u001B[43m(\u001B[49m\u001B[38;5;241;43m10\u001B[39;49m\u001B[43m)\u001B[49m\u001B[43m(\u001B[49m\u001B[43mx\u001B[49m\u001B[43m)\u001B[49m\n\u001B[0;32m      6\u001B[0m x \u001B[38;5;241m=\u001B[39m layers\u001B[38;5;241m.\u001B[39mDense(\u001B[38;5;241m1\u001B[39m, activation\u001B[38;5;241m=\u001B[39m\u001B[38;5;124m'\u001B[39m\u001B[38;5;124msigmoid\u001B[39m\u001B[38;5;124m'\u001B[39m)(x)\n\u001B[0;32m      7\u001B[0m model \u001B[38;5;241m=\u001B[39m Model(inputs, x)\n",
      "File \u001B[1;32m~\\anaconda3\\envs\\tf-gpu\\lib\\site-packages\\keras\\layers\\rnn\\base_rnn.py:553\u001B[0m, in \u001B[0;36mRNN.__call__\u001B[1;34m(self, inputs, initial_state, constants, **kwargs)\u001B[0m\n\u001B[0;32m    548\u001B[0m inputs, initial_state, constants \u001B[38;5;241m=\u001B[39m rnn_utils\u001B[38;5;241m.\u001B[39mstandardize_args(\n\u001B[0;32m    549\u001B[0m     inputs, initial_state, constants, \u001B[38;5;28mself\u001B[39m\u001B[38;5;241m.\u001B[39m_num_constants\n\u001B[0;32m    550\u001B[0m )\n\u001B[0;32m    552\u001B[0m \u001B[38;5;28;01mif\u001B[39;00m initial_state \u001B[38;5;129;01mis\u001B[39;00m \u001B[38;5;28;01mNone\u001B[39;00m \u001B[38;5;129;01mand\u001B[39;00m constants \u001B[38;5;129;01mis\u001B[39;00m \u001B[38;5;28;01mNone\u001B[39;00m:\n\u001B[1;32m--> 553\u001B[0m     \u001B[38;5;28;01mreturn\u001B[39;00m \u001B[38;5;28msuper\u001B[39m()\u001B[38;5;241m.\u001B[39m\u001B[38;5;21m__call__\u001B[39m(inputs, \u001B[38;5;241m*\u001B[39m\u001B[38;5;241m*\u001B[39mkwargs)\n\u001B[0;32m    555\u001B[0m \u001B[38;5;66;03m# If any of `initial_state` or `constants` are specified and are Keras\u001B[39;00m\n\u001B[0;32m    556\u001B[0m \u001B[38;5;66;03m# tensors, then add them to the inputs and temporarily modify the\u001B[39;00m\n\u001B[0;32m    557\u001B[0m \u001B[38;5;66;03m# input_spec to include them.\u001B[39;00m\n\u001B[0;32m    559\u001B[0m additional_inputs \u001B[38;5;241m=\u001B[39m []\n",
      "File \u001B[1;32m~\\anaconda3\\envs\\tf-gpu\\lib\\site-packages\\keras\\utils\\traceback_utils.py:70\u001B[0m, in \u001B[0;36mfilter_traceback.<locals>.error_handler\u001B[1;34m(*args, **kwargs)\u001B[0m\n\u001B[0;32m     67\u001B[0m     filtered_tb \u001B[38;5;241m=\u001B[39m _process_traceback_frames(e\u001B[38;5;241m.\u001B[39m__traceback__)\n\u001B[0;32m     68\u001B[0m     \u001B[38;5;66;03m# To get the full stack trace, call:\u001B[39;00m\n\u001B[0;32m     69\u001B[0m     \u001B[38;5;66;03m# `tf.debugging.disable_traceback_filtering()`\u001B[39;00m\n\u001B[1;32m---> 70\u001B[0m     \u001B[38;5;28;01mraise\u001B[39;00m e\u001B[38;5;241m.\u001B[39mwith_traceback(filtered_tb) \u001B[38;5;28;01mfrom\u001B[39;00m \u001B[38;5;28;01mNone\u001B[39;00m\n\u001B[0;32m     71\u001B[0m \u001B[38;5;28;01mfinally\u001B[39;00m:\n\u001B[0;32m     72\u001B[0m     \u001B[38;5;28;01mdel\u001B[39;00m filtered_tb\n",
      "File \u001B[1;32m~\\anaconda3\\envs\\tf-gpu\\lib\\site-packages\\keras\\engine\\input_spec.py:232\u001B[0m, in \u001B[0;36massert_input_compatibility\u001B[1;34m(input_spec, inputs, layer_name)\u001B[0m\n\u001B[0;32m    230\u001B[0m     ndim \u001B[38;5;241m=\u001B[39m shape\u001B[38;5;241m.\u001B[39mrank\n\u001B[0;32m    231\u001B[0m     \u001B[38;5;28;01mif\u001B[39;00m ndim \u001B[38;5;241m!=\u001B[39m spec\u001B[38;5;241m.\u001B[39mndim:\n\u001B[1;32m--> 232\u001B[0m         \u001B[38;5;28;01mraise\u001B[39;00m \u001B[38;5;167;01mValueError\u001B[39;00m(\n\u001B[0;32m    233\u001B[0m             \u001B[38;5;124mf\u001B[39m\u001B[38;5;124m'\u001B[39m\u001B[38;5;124mInput \u001B[39m\u001B[38;5;132;01m{\u001B[39;00minput_index\u001B[38;5;132;01m}\u001B[39;00m\u001B[38;5;124m of layer \u001B[39m\u001B[38;5;124m\"\u001B[39m\u001B[38;5;132;01m{\u001B[39;00mlayer_name\u001B[38;5;132;01m}\u001B[39;00m\u001B[38;5;124m\"\u001B[39m\u001B[38;5;124m \u001B[39m\u001B[38;5;124m'\u001B[39m\n\u001B[0;32m    234\u001B[0m             \u001B[38;5;124m\"\u001B[39m\u001B[38;5;124mis incompatible with the layer: \u001B[39m\u001B[38;5;124m\"\u001B[39m\n\u001B[0;32m    235\u001B[0m             \u001B[38;5;124mf\u001B[39m\u001B[38;5;124m\"\u001B[39m\u001B[38;5;124mexpected ndim=\u001B[39m\u001B[38;5;132;01m{\u001B[39;00mspec\u001B[38;5;241m.\u001B[39mndim\u001B[38;5;132;01m}\u001B[39;00m\u001B[38;5;124m, found ndim=\u001B[39m\u001B[38;5;132;01m{\u001B[39;00mndim\u001B[38;5;132;01m}\u001B[39;00m\u001B[38;5;124m. \u001B[39m\u001B[38;5;124m\"\u001B[39m\n\u001B[0;32m    236\u001B[0m             \u001B[38;5;124mf\u001B[39m\u001B[38;5;124m\"\u001B[39m\u001B[38;5;124mFull shape received: \u001B[39m\u001B[38;5;132;01m{\u001B[39;00m\u001B[38;5;28mtuple\u001B[39m(shape)\u001B[38;5;132;01m}\u001B[39;00m\u001B[38;5;124m\"\u001B[39m\n\u001B[0;32m    237\u001B[0m         )\n\u001B[0;32m    238\u001B[0m \u001B[38;5;28;01mif\u001B[39;00m spec\u001B[38;5;241m.\u001B[39mmax_ndim \u001B[38;5;129;01mis\u001B[39;00m \u001B[38;5;129;01mnot\u001B[39;00m \u001B[38;5;28;01mNone\u001B[39;00m:\n\u001B[0;32m    239\u001B[0m     ndim \u001B[38;5;241m=\u001B[39m x\u001B[38;5;241m.\u001B[39mshape\u001B[38;5;241m.\u001B[39mrank\n",
      "\u001B[1;31mValueError\u001B[0m: Input 0 of layer \"simple_rnn_1\" is incompatible with the layer: expected ndim=3, found ndim=2. Full shape received: (None, 10)"
     ]
    }
   ],
   "source": [
    "K.clear_session()\n",
    "\n",
    "inputs = Input(shape=(10,3))\n",
    "x = layers.SimpleRNN(10)(inputs)\n",
    "x = layers.SimpleRNN(10)(x)\n",
    "x = layers.Dense(1, activation='sigmoid')(x)\n",
    "model = Model(inputs, x)\n",
    "\n",
    "model.summary()"
   ]
  },
  {
   "cell_type": "code",
   "execution_count": null,
   "id": "f45c63e7",
   "metadata": {},
   "outputs": [],
   "source": []
  }
 ],
 "metadata": {
  "kernelspec": {
   "display_name": "Python 3 (ipykernel)",
   "language": "python",
   "name": "python3"
  },
  "language_info": {
   "codemirror_mode": {
    "name": "ipython",
    "version": 3
   },
   "file_extension": ".py",
   "mimetype": "text/x-python",
   "name": "python",
   "nbconvert_exporter": "python",
   "pygments_lexer": "ipython3",
   "version": "3.9.18"
  }
 },
 "nbformat": 4,
 "nbformat_minor": 5
}
