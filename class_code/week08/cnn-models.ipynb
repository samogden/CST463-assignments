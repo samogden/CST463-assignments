{
 "cells": [
  {
   "cell_type": "code",
   "execution_count": null,
   "id": "initial_id",
   "metadata": {
    "collapsed": true
   },
   "outputs": [],
   "source": [
    "import typing\n",
    "\n",
    "import tensorflow as tf\n",
    "import keras\n",
    "import numpy as np\n",
    "import matplotlib.pyplot as plt"
   ]
  },
  {
   "cell_type": "code",
   "execution_count": null,
   "outputs": [],
   "source": [],
   "metadata": {
    "collapsed": false
   },
   "id": "1ae86bf771a3d5f0"
  },
  {
   "cell_type": "markdown",
   "source": [
    "# General Setup"
   ],
   "metadata": {
    "collapsed": false
   },
   "id": "fa4f0818322b1906"
  },
  {
   "cell_type": "markdown",
   "source": [
    "## Functions"
   ],
   "metadata": {
    "collapsed": false
   },
   "id": "c68b26176c7a1bda"
  },
  {
   "cell_type": "code",
   "execution_count": null,
   "outputs": [],
   "source": [
    "def plot_all(list_of_x : typing.List):\n",
    "  fig, axes = plt.subplots(len(list_of_x), 1)\n",
    "  length = max(map(len, list_of_x)) - 1\n",
    "  for i, x in enumerate(list_of_x):\n",
    "    axes[i].plot(range(len(x)), x)\n",
    "    axes[i].set_xlim(0, length)\n",
    "    # axes[i].set_ylim(ymin=0)\n",
    "\n",
    "\n",
    "def convolve(x, filter):\n",
    "  n = filter.size\n",
    "  segments = [x[i:(i+n)] for i in range(x.size - n + 1)]\n",
    "  return np.array([s.dot(filter) for s in segments])\n",
    "  \n",
    "  "
   ],
   "metadata": {
    "collapsed": false
   },
   "id": "7d7ffe2f1b6590af"
  },
  {
   "cell_type": "code",
   "execution_count": null,
   "outputs": [],
   "source": [
    "\n",
    "def plot_multiple_histories(histories : typing.Dict, metric='loss', use_greyscale=True, show_validation=False, sort_agg_func=np.mean, sort_history_length=2, *args, **kwargs):\n",
    "  \"\"\"\n",
    "  Plots the training history of multiple models on the same plot for comparison.\n",
    "  \n",
    "  Parameters:\n",
    "    histories: List of History objects from multiple model's fit() calls.\n",
    "    metric: The metric to plot ('loss', 'accuracy', etc.).\n",
    "    labels: List of labels for the models. If None, defaults to 'Model 1', 'Model 2', etc.\n",
    "  \"\"\"\n",
    "  # Check if labels are provided, otherwise generate default labels\n",
    "  # if labels is None:\n",
    "  #   labels = [f'Model {i+1}' for i in range(len(histories))]\n",
    "  \n",
    "  # Initialize the plot\n",
    "  plt.figure(figsize=(10, 6))\n",
    "  \n",
    "  norm = plt.Normalize(vmin=0, vmax=len(histories))\n",
    "  grayscale_cmap = plt.colormaps['gray']\n",
    "  \n",
    "  sorted_keys = sorted(histories.keys(), key=(lambda k: sort_agg_func(histories[k].history[metric][:-sort_history_length])))\n",
    "  for i, label in enumerate(sorted_keys):\n",
    "    history = histories[label]\n",
    "    #for i, (label, history) in enumerate(histories.items()):\n",
    "    epochs = range(1, len(history.history[metric]) + 1)\n",
    "    \n",
    "    # Plot training metric\n",
    "    plt.plot(epochs, history.history[metric], label=f'{label} {metric.capitalize()}', color=grayscale_cmap(norm(i)))\n",
    "    \n",
    "    # Plot validation metric if available\n",
    "    if show_validation and f'val_{metric}' in history.history:\n",
    "      plt.plot(epochs, history.history[f'val_{metric}'], '--', label=f'{label} Validation {metric.capitalize()}', color=grayscale_cmap(norm(i)))\n",
    "  \n",
    "  # Add labels and title\n",
    "  plt.title(f'Comparison of {metric.capitalize()} Between Models')\n",
    "  plt.xlabel('Epochs')\n",
    "  plt.ylabel(metric.capitalize())\n",
    "  plt.legend()\n",
    "  \n",
    "  # Show plot\n",
    "  plt.show()\n"
   ],
   "metadata": {
    "collapsed": false
   },
   "id": "985bae4f52d68a48"
  },
  {
   "cell_type": "code",
   "execution_count": null,
   "outputs": [],
   "source": [],
   "metadata": {
    "collapsed": false
   },
   "id": "6e325c1543f8a821"
  },
  {
   "cell_type": "markdown",
   "source": [
    "# Introduction Examples"
   ],
   "metadata": {
    "collapsed": false
   },
   "id": "d8a42abce8f44a6a"
  },
  {
   "cell_type": "markdown",
   "source": [
    "## Convolution"
   ],
   "metadata": {
    "collapsed": false
   },
   "id": "1bdff9a48ed672e0"
  },
  {
   "cell_type": "code",
   "execution_count": null,
   "outputs": [],
   "source": [],
   "metadata": {
    "collapsed": false
   },
   "id": "9f3342830089dc36"
  },
  {
   "cell_type": "code",
   "execution_count": null,
   "outputs": [],
   "source": [],
   "metadata": {
    "collapsed": false
   },
   "id": "b4e8d72ef522ac4e"
  },
  {
   "cell_type": "code",
   "execution_count": null,
   "outputs": [],
   "source": [
    "x = np.array([1, 3, 4, 2, 9, 2, 1, 0, 2, 4, 6, 2])\n",
    "\n",
    "plot_all([\n",
    "  x,\n",
    "  convolve(x, np.array([1, 2, 4])),\n",
    "])\n",
    "\n",
    "plot_all([\n",
    "  x,\n",
    "  convolve(x, np.array([1, 0, 0])),\n",
    "  convolve(x, np.array([-1, 0, 0])),\n",
    "  convolve(x, np.array([0, 1, 0])),\n",
    "  convolve(x, np.array([0, 0, 1])),\n",
    "])\n"
   ],
   "metadata": {
    "collapsed": false
   },
   "id": "49fabe40912b29d8"
  },
  {
   "cell_type": "markdown",
   "source": [
    "### Dirac"
   ],
   "metadata": {
    "collapsed": false
   },
   "id": "14b97b62f00dbce4"
  },
  {
   "cell_type": "code",
   "execution_count": null,
   "outputs": [],
   "source": [
    "dirac = np.zeros(10)\n",
    "dirac[4] = 1\n",
    "\n",
    "plot_all([\n",
    "  dirac,\n",
    "  convolve(dirac, np.array([1, 0])),\n",
    "  convolve(dirac, np.array([1, 0])),\n",
    "  convolve(dirac, np.array([1, 0, 0]))\n",
    "])\n"
   ],
   "metadata": {
    "collapsed": false
   },
   "id": "9bf4748c1f00dcd9"
  },
  {
   "cell_type": "code",
   "execution_count": null,
   "outputs": [],
   "source": [
    "\n",
    "plot_all([\n",
    "  dirac,\n",
    "  convolve(dirac, np.array([1])),\n",
    "  convolve(dirac, np.array([0.1])),\n",
    "  convolve(dirac, np.array([10]))\n",
    "])\n",
    "\n"
   ],
   "metadata": {
    "collapsed": false
   },
   "id": "9c4b2ed511a4a6f6"
  },
  {
   "cell_type": "code",
   "execution_count": null,
   "outputs": [],
   "source": [
    "\n",
    "plot_all([\n",
    "  dirac,\n",
    "  convolve(dirac, np.array([1, 1])),\n",
    "  convolve(dirac, np.array([1, 1, 1])),\n",
    "  convolve(dirac, np.array([0.75, 1, 0.25])),\n",
    "])"
   ],
   "metadata": {
    "collapsed": false
   },
   "id": "7e5a9fc3ea1d707c"
  },
  {
   "cell_type": "markdown",
   "source": [
    "### Filters"
   ],
   "metadata": {
    "collapsed": false
   },
   "id": "59940bb99d815915"
  },
  {
   "cell_type": "code",
   "execution_count": null,
   "outputs": [],
   "source": [
    "x = np.random.rand(40)*10.0\n",
    "\n",
    "plot_all([\n",
    "  x,\n",
    "  convolve(x, np.full(1, 0.2)),\n",
    "  convolve(x, np.full(2, 0.2)),\n",
    "  convolve(x, np.full(3, 0.2)),\n",
    "  convolve(x, np.full(4, 0.2)),\n",
    "  convolve(x, np.full(5, 0.2)),\n",
    "])\n",
    "plot_all([\n",
    "  x,\n",
    "  convolve(x, np.full(5, 0.1)),\n",
    "  convolve(x, np.full(5, 0.9)),\n",
    "])\n",
    "np.full(5, 0.2)"
   ],
   "metadata": {
    "collapsed": false
   },
   "id": "40d79be8935b3a27"
  },
  {
   "cell_type": "markdown",
   "source": [],
   "metadata": {
    "collapsed": false
   },
   "id": "7c3e317f7981c1f5"
  },
  {
   "cell_type": "code",
   "execution_count": null,
   "outputs": [],
   "source": [
    "edge_detect_filter = np.array([-1,2,-1])\n",
    "\n",
    "xe = np.concatenate((np.full(10, 2), np.full(10, 5)))\n",
    "plot_all([\n",
    "  xe,\n",
    "  convolve(xe, np.array([-.1, 2, -.1])),\n",
    "  convolve(xe, edge_detect_filter),\n",
    "  convolve(xe, np.array([-2, 2, -2]))\n",
    "])\n"
   ],
   "metadata": {
    "collapsed": false
   },
   "id": "8948df368cb4e93b"
  },
  {
   "cell_type": "code",
   "execution_count": null,
   "outputs": [],
   "source": [],
   "metadata": {
    "collapsed": false
   },
   "id": "ebf9c782dafd4184"
  },
  {
   "cell_type": "markdown",
   "source": [
    "## Pooling"
   ],
   "metadata": {
    "collapsed": false
   },
   "id": "4c9b228f490559e4"
  },
  {
   "cell_type": "code",
   "execution_count": null,
   "outputs": [],
   "source": [
    "def pool_with_stride(x, f, n, stride):\n",
    "  segments = [ x[i:(i+n)] for i in range(0, x.size-n+1, stride) ]\n",
    "  return np.array([ f(u) for u in segments ])\n",
    "\n",
    "x = np.array([1, 3, 4, 2, 9, 2, 1, 0, 2, 4, 6, 2])\n",
    "\n",
    "plot_all([\n",
    "  x,\n",
    "  pool_with_stride(x, np.max, 3, 1),\n",
    "  pool_with_stride(x, np.max, 3, 3)\n",
    "])\n"
   ],
   "metadata": {
    "collapsed": false
   },
   "id": "b6865538ecc27068"
  },
  {
   "cell_type": "code",
   "execution_count": null,
   "outputs": [],
   "source": [
    "def pool_with_stride(x, f, n, stride):\n",
    "  segments = [ x[i:(i+n)] for i in range(0, x.size-n+1, stride) ]\n",
    "  return np.array([ f(u) for u in segments ])\n",
    "\n",
    "x = np.random.rand(20)*10.0\n",
    "\n",
    "plot_all([\n",
    "  x, \n",
    "  pool_with_stride(x, np.mean, 3, 3)\n",
    "])\n"
   ],
   "metadata": {
    "collapsed": false
   },
   "id": "44ae5cde3bbe4718"
  },
  {
   "cell_type": "markdown",
   "source": [
    "## Combine"
   ],
   "metadata": {
    "collapsed": false
   },
   "id": "a3d8eefb7b5a7f0b"
  },
  {
   "cell_type": "code",
   "execution_count": null,
   "outputs": [],
   "source": [
    "x = np.random.rand(100)*10.0\n",
    "x1 = convolve(x, edge_detect_filter)      # filter size is 3\n",
    "x2 = pool_with_stride(x1, np.max, 2, 2)   # pooling size is 2\n",
    "x3 = convolve(x2, edge_detect_filter)\n",
    "x4 = pool_with_stride(x3, np.max, 2, 2)\n",
    "plot_all([\n",
    "  x, x4]\n",
    ")\n"
   ],
   "metadata": {
    "collapsed": false
   },
   "id": "f2b445d513914193"
  },
  {
   "cell_type": "code",
   "execution_count": null,
   "outputs": [],
   "source": [],
   "metadata": {
    "collapsed": false
   },
   "id": "e04643ff94677505"
  },
  {
   "cell_type": "markdown",
   "source": [
    "## 2D"
   ],
   "metadata": {
    "collapsed": false
   },
   "id": "b1739fd85015a12a"
  },
  {
   "cell_type": "code",
   "execution_count": null,
   "outputs": [],
   "source": [
    "x  = np.array([[3, 0, 1, 2, 3, 1, 1, 1],\n",
    "               [1, 3, 4, 2, 9, 2, 1, 0]])\n",
    "filter = np.array([[0.5, 1,   1],\n",
    "                   [1,   0, 0.5]])\n",
    "\n",
    "n = filter.shape[1]\n",
    "y = []\n",
    "for i in range(x.shape[1] - n + 1):\n",
    "  product = x[:, i:(i+n)] * filter\n",
    "  y.append(np.sum(product))\n",
    "\n",
    "print(y)\n"
   ],
   "metadata": {
    "collapsed": false
   },
   "id": "b10921d6cd522160"
  },
  {
   "cell_type": "code",
   "execution_count": null,
   "outputs": [],
   "source": [],
   "metadata": {
    "collapsed": false
   },
   "id": "4117f3e46bf40b78"
  },
  {
   "cell_type": "markdown",
   "source": [
    "# Keras Examples"
   ],
   "metadata": {
    "collapsed": false
   },
   "id": "1492041ae5636764"
  },
  {
   "cell_type": "code",
   "execution_count": null,
   "outputs": [],
   "source": [
    "def get_cnn_model(num_filters=32):\n",
    "  model = keras.models.Sequential()\n",
    "  model.add(keras.layers.Input(shape=(28,28,1)))\n",
    "  model.add(keras.layers.Conv2D(num_filters, (3, 3), activation='relu'))\n",
    "  model.add(keras.layers.MaxPooling2D((2, 2)))\n",
    "  # model.add(keras.layers.Conv2D(num_filters, (3, 3), activation='relu'))\n",
    "  # model.add(keras.layers.MaxPooling2D((2, 2)))\n",
    "  model.add(keras.layers.Flatten())\n",
    "  model.add(keras.layers.Dense(4, activation='relu'))\n",
    "  model.add(keras.layers.Dense(10, activation='softmax'))\n",
    "  return model\n",
    "\n",
    "def get_ff_model(num_neurons=32):\n",
    "  model = keras.models.Sequential()\n",
    "  model.add(keras.layers.Input(shape=(28,28,1)))\n",
    "  model.add(keras.layers.Reshape((28 * 28,), input_shape=(28, 28)))  # Reshape the input from (28, 28) to (28*28,)\n",
    "  model.add(keras.layers.Dense(num_neurons, activation='relu'))\n",
    "  # model.add(keras.layers.Dense(num_neurons, activation='relu'))\n",
    "  model.add(keras.layers.Dense(10, activation='softmax'))  # Output layer for 10 classes\n",
    "  return model"
   ],
   "metadata": {
    "collapsed": false
   },
   "id": "be716c0584297594"
  },
  {
   "cell_type": "code",
   "execution_count": null,
   "outputs": [],
   "source": [
    "\n",
    "# Load MNIST dataset\n",
    "(x_train, y_train), (x_test, y_test) = keras.datasets.mnist.load_data()\n",
    "\n",
    "# Preprocess the data (normalize to 0-1 and reshape)\n",
    "x_train = x_train.reshape(-1, 28, 28, 1).astype('float32') / 255.0\n",
    "x_test = x_test.reshape(-1, 28, 28, 1).astype('float32') / 255.0\n",
    "\n",
    "\n",
    "def train_model(model):\n",
    "  \n",
    "  # Compile the model\n",
    "  model.compile(optimizer='adam',\n",
    "    loss='sparse_categorical_crossentropy',\n",
    "    metrics=['accuracy'])\n",
    "  \n",
    "  # Train the model\n",
    "  history = model.fit(\n",
    "    x_train, \n",
    "    y_train, \n",
    "    epochs=10, \n",
    "    batch_size=64, \n",
    "    validation_data=(x_test, y_test)\n",
    "  )\n",
    "  \n",
    "  # Evaluate the model\n",
    "  test_loss, test_acc = model.evaluate(x_test, y_test, verbose=2)\n",
    "  print(f'Test accuracy: {test_acc}')\n",
    "  return history"
   ],
   "metadata": {
    "collapsed": false
   },
   "id": "5ce4ff41e46c5ef7"
  },
  {
   "cell_type": "code",
   "execution_count": null,
   "outputs": [],
   "source": [
    "histories = {}\n",
    "histories.update({\n",
    "  f\"{2**i} filters\" : train_model(get_cnn_model(2**i))\n",
    "  for i in range(0,5)\n",
    "})\n",
    "histories.update({\n",
    "  f\"{2**i} neurons\" : train_model(get_ff_model(2**i))\n",
    "  for i in range(0,5)\n",
    "})\n",
    "\n",
    "\n",
    "plot_multiple_histories(\n",
    "  histories=histories,\n",
    "  metric=\"loss\"\n",
    ")"
   ],
   "metadata": {
    "collapsed": false
   },
   "id": "12d7a697dc99a4f2"
  },
  {
   "cell_type": "code",
   "execution_count": null,
   "outputs": [],
   "source": [
    "models = {}\n",
    "models.update({\n",
    "  f\"{2**i} filters\" : get_cnn_model(2**i)\n",
    "  for i in range(0,5)\n",
    "})\n",
    "models.update({\n",
    "  f\"{2**i} neurons\" : get_ff_model(2**i)\n",
    "  for i in range(0,5)\n",
    "})"
   ],
   "metadata": {
    "collapsed": false
   },
   "id": "3089ab756e91d50b"
  },
  {
   "cell_type": "code",
   "execution_count": null,
   "outputs": [],
   "source": [
    "for name, model in models.items():\n",
    "  print(f\"{name} : {model.count_params()}\")"
   ],
   "metadata": {
    "collapsed": false
   },
   "id": "d9f3aec8ed22c3f7"
  },
  {
   "cell_type": "code",
   "execution_count": null,
   "outputs": [],
   "source": [],
   "metadata": {
    "collapsed": false
   },
   "id": "5c891a2242f7b110"
  }
 ],
 "metadata": {
  "kernelspec": {
   "display_name": "Python 3",
   "language": "python",
   "name": "python3"
  },
  "language_info": {
   "codemirror_mode": {
    "name": "ipython",
    "version": 2
   },
   "file_extension": ".py",
   "mimetype": "text/x-python",
   "name": "python",
   "nbconvert_exporter": "python",
   "pygments_lexer": "ipython2",
   "version": "2.7.6"
  }
 },
 "nbformat": 4,
 "nbformat_minor": 5
}
