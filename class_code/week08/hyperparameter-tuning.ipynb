{
 "cells": [
  {
   "cell_type": "code",
   "execution_count": null,
   "id": "initial_id",
   "metadata": {
    "collapsed": true
   },
   "outputs": [],
   "source": [
    "import logging\n",
    "import pprint\n",
    "import time\n",
    "import datetime\n",
    "\n",
    "import tensorflow as tf\n",
    "import keras as keras\n",
    "import sklearn.model_selection\n",
    "import sklearn.datasets\n",
    "import numpy as np\n",
    "import typing\n",
    "import matplotlib.pyplot as plt\n",
    "import pandas as pd\n",
    "import os\n",
    "import shutil\n",
    "\n"
   ]
  },
  {
   "cell_type": "code",
   "execution_count": null,
   "outputs": [],
   "source": [
    "import logging\n",
    "logging.basicConfig()\n",
    "log = logging.getLogger(__name__)\n",
    "log.setLevel(logging.DEBUG)\n",
    "\n",
    "log.debug(\"testing debug\")"
   ],
   "metadata": {
    "collapsed": false
   },
   "id": "c3ca5b13bed20fd7"
  },
  {
   "cell_type": "markdown",
   "source": [
    "# Setup"
   ],
   "metadata": {
    "collapsed": false
   },
   "id": "48eb02d60fd026d3"
  },
  {
   "cell_type": "markdown",
   "source": [
    "## Globals"
   ],
   "metadata": {
    "collapsed": false
   },
   "id": "55991cef3c4a1734"
  },
  {
   "cell_type": "code",
   "execution_count": null,
   "outputs": [],
   "source": [
    "default_params = {\n",
    "  \"optimizer\" : \"SGD\",\n",
    "  \"batch_size\" : 64,\n",
    "  \"activation_function\" : \"relu\",\n",
    "  \"layer_sizes\" : [4]\n",
    "}"
   ],
   "metadata": {
    "collapsed": false
   },
   "id": "f5a0a1edd5f6c41d"
  },
  {
   "cell_type": "markdown",
   "source": [
    "## Data"
   ],
   "metadata": {
    "collapsed": false
   },
   "id": "8de0354a23f5df88"
  },
  {
   "cell_type": "code",
   "execution_count": null,
   "outputs": [],
   "source": [
    "X_mc,y_mc = sklearn.datasets.make_classification(\n",
    "  n_samples=10000,\n",
    "  n_features=10,\n",
    "  n_redundant=2,\n",
    "  n_classes=3,\n",
    "  n_clusters_per_class=1,\n",
    "  class_sep=0.5\n",
    ")\n",
    "\n",
    "X_train_mc, X_test_mc, y_train_mc, y_test_mc = sklearn.model_selection.train_test_split(\n",
    "  X_mc,\n",
    "  y_mc,\n",
    "  test_size=0.33,\n",
    "  random_state=42\n",
    ")"
   ],
   "metadata": {
    "collapsed": false
   },
   "id": "3f7c8846d4a1fde6"
  },
  {
   "cell_type": "markdown",
   "source": [
    "## Functions"
   ],
   "metadata": {
    "collapsed": false
   },
   "id": "8798a0096b519593"
  },
  {
   "cell_type": "code",
   "execution_count": null,
   "outputs": [],
   "source": [
    "\n",
    "def plot_multiple_histories(histories : typing.Dict, metric='loss', use_greyscale=True, show_validation=False, sort_agg_func=np.mean, sort_history_length=2, *args, **kwargs):\n",
    "  \"\"\"\n",
    "  Plots the training history of multiple models on the same plot for comparison.\n",
    "  \n",
    "  Parameters:\n",
    "    histories: List of History objects from multiple model's fit() calls.\n",
    "    metric: The metric to plot ('loss', 'accuracy', etc.).\n",
    "    labels: List of labels for the models. If None, defaults to 'Model 1', 'Model 2', etc.\n",
    "  \"\"\"\n",
    "  # Check if labels are provided, otherwise generate default labels\n",
    "  # if labels is None:\n",
    "  #   labels = [f'Model {i+1}' for i in range(len(histories))]\n",
    "  \n",
    "  # Initialize the plot\n",
    "  plt.figure(figsize=(10, 6))\n",
    "\n",
    "  norm = plt.Normalize(vmin=0, vmax=len(histories))\n",
    "  grayscale_cmap = plt.colormaps['gray']\n",
    "  \n",
    "  sorted_keys = sorted(histories.keys(), key=(lambda k: sort_agg_func(histories[k].history[metric][:-sort_history_length])))\n",
    "  \n",
    "  log.debug(f\"sorted_keys: {sorted_keys}\")\n",
    "  log.debug(f\"accuracies: {[ sort_agg_func(histories[k].history[metric][:-sort_history_length]) for k in sorted_keys]}\")\n",
    "  \n",
    "  for i, label in enumerate(sorted_keys):\n",
    "    history = histories[label]\n",
    "    #for i, (label, history) in enumerate(histories.items()):\n",
    "    epochs = range(1, len(history.history[metric]) + 1)\n",
    "    \n",
    "    # Plot training metric\n",
    "    plt.plot(epochs, history.history[metric], label=f'{label} {metric.capitalize()}', color=grayscale_cmap(norm(i)))\n",
    "    \n",
    "    # Plot validation metric if available\n",
    "    if show_validation and f'val_{metric}' in history.history:\n",
    "      plt.plot(epochs, history.history[f'val_{metric}'], '--', label=f'{label} Validation {metric.capitalize()}', color=grayscale_cmap(norm(i)))\n",
    "  \n",
    "  # Add labels and title\n",
    "  plt.title(f'Comparison of {metric.capitalize()} Between Models')\n",
    "  plt.xlabel('Epochs')\n",
    "  plt.ylabel(metric.capitalize())\n",
    "  plt.legend()\n",
    "  \n",
    "  # Show plot\n",
    "  plt.show()\n"
   ],
   "metadata": {
    "collapsed": false
   },
   "id": "a6e4edce3e39a3cc"
  },
  {
   "cell_type": "code",
   "execution_count": null,
   "outputs": [],
   "source": [
    "def get_model(\n",
    "        num_input_features=4, \n",
    "        activation_function=\"elu\", \n",
    "        layer_sizes=None, \n",
    "        num_output_classes=3\n",
    "):\n",
    "  \n",
    "  if layer_sizes is None:\n",
    "    layer_sizes = [10]\n",
    "  inputs = keras.layers.Input(shape=(num_input_features,)) \n",
    "  x = inputs\n",
    "  for layer_size in layer_sizes:\n",
    "    x = keras.layers.Dense(layer_size, activation=activation_function)(x)\n",
    "  \n",
    "  outputs = keras.layers.Dense(num_output_classes, activation='softmax')(x)\n",
    "  return keras.models.Model(inputs=inputs, outputs=outputs)\n",
    "\n"
   ],
   "metadata": {
    "collapsed": false
   },
   "id": "d7f0e7d5e748ddf6"
  },
  {
   "cell_type": "code",
   "execution_count": null,
   "outputs": [],
   "source": [
    "\n",
    "\n",
    "def evaluate_params(params, verbose=1, num_epochs=10):\n",
    "  log.debug(f\"params: {pprint.pformat(params)}\")\n",
    "  \n",
    "  # default parameters are used if not supplied\n",
    "  pars = default_params.copy()\n",
    "  pars.update(params)\n",
    "  \n",
    "  activation_function = pars['activation_function']\n",
    "  layer_sizes = pars['layer_sizes']\n",
    "  \n",
    "  early_stopping = keras.callbacks.EarlyStopping(monitor='val_loss', patience=10)\n",
    "  \n",
    "  model = get_model(\n",
    "    num_input_features=X_train_mc.shape[1],\n",
    "    activation_function=activation_function, \n",
    "    layer_sizes=layer_sizes\n",
    "  )\n",
    "  model.compile(\n",
    "    optimizer=pars[\"optimizer\"], \n",
    "    loss=\"sparse_categorical_crossentropy\",\n",
    "    metrics=[\"accuracy\"]\n",
    "  )\n",
    "  \n",
    "  history = model.fit(\n",
    "    X_train_mc, \n",
    "    y_train_mc, \n",
    "    epochs=num_epochs, \n",
    "    callbacks=[early_stopping],\n",
    "    batch_size=pars[\"batch_size\"], \n",
    "    validation_split=0.3, \n",
    "    verbose=verbose\n",
    "  )\n",
    "  mean_acc = np.mean(history.history['val_accuracy'][-2:])\n",
    "  \n",
    "  return pars, mean_acc, history\n"
   ],
   "metadata": {
    "collapsed": false
   },
   "id": "c5d653b86a3622ad"
  },
  {
   "cell_type": "code",
   "execution_count": null,
   "outputs": [],
   "source": [
    "plot_multiple_histories({\n",
    "    \"10\" : evaluate_params({\n",
    "      \"activation_function\" : \"elu\",\n",
    "      \"layer_sizes\" : [10]\n",
    "    })[2],\n",
    "    \"10-10\" : evaluate_params({\n",
    "      \"activation_function\" : \"elu\",\n",
    "      \"layer_sizes\" : [10, 10]\n",
    "    })[2],\n",
    "    \"10-10-10\" : evaluate_params({\n",
    "      \"activation_function\" : \"elu\",\n",
    "      \"layer_sizes\" : [10, 10, 10]\n",
    "    })[2],\n",
    "  },\n",
    "  show_validation=True\n",
    ")"
   ],
   "metadata": {
    "collapsed": false
   },
   "id": "a43c64d75a02d855"
  },
  {
   "cell_type": "code",
   "execution_count": null,
   "outputs": [],
   "source": [],
   "metadata": {
    "collapsed": false
   },
   "id": "6749ee3eee84abad"
  },
  {
   "cell_type": "markdown",
   "source": [
    "# Search Approches\n"
   ],
   "metadata": {
    "collapsed": false
   },
   "id": "e6141c4e39ebf77c"
  },
  {
   "cell_type": "markdown",
   "source": [
    "## Grid Search"
   ],
   "metadata": {
    "collapsed": false
   },
   "id": "17fc722fd581374a"
  },
  {
   "cell_type": "code",
   "execution_count": null,
   "outputs": [],
   "source": [
    "\n",
    "\n",
    "def get_name(params):\n",
    "  return '-'.join([str(params[key]) for key in sorted(params.keys())])\n",
    "\n",
    "def grid_search(param_grid, verbose=1, num_epochs=10):\n",
    "  \n",
    "  # params_list = []\n",
    "  # acc_list = []\n",
    "  # history_list = []\n",
    "  history_dict = {}\n",
    "  for params in sklearn.model_selection.ParameterGrid(param_grid):\n",
    "    print(f\"params: {params}\")\n",
    "    pars, acc, history = evaluate_params(params, verbose=verbose, num_epochs=num_epochs)\n",
    "    \n",
    "    # params_list.append(pars)\n",
    "    # acc_list.append(acc)\n",
    "    # history_list.append(history)\n",
    "    history_dict[get_name(pars)] = history\n",
    "  \n",
    "  return history_dict"
   ],
   "metadata": {
    "collapsed": false
   },
   "id": "2c613650342178ec"
  },
  {
   "cell_type": "code",
   "execution_count": null,
   "outputs": [],
   "source": [
    "history_dict = grid_search(\n",
    "  param_grid={\n",
    "    \"activation_function\" : [\"elu\", \"relu\"],\n",
    "    \"layer_sizes\" : [[10], [10, 10], [10,10,10]],\n",
    "    \"batch_size\" : [128]\n",
    "  },\n",
    "  # num_epochs=100\n",
    ")\n",
    "plot_multiple_histories(history_dict)"
   ],
   "metadata": {
    "collapsed": false
   },
   "id": "cbca29edfb8b336"
  },
  {
   "cell_type": "code",
   "execution_count": null,
   "outputs": [],
   "source": [],
   "metadata": {
    "collapsed": false
   },
   "id": "76091cadafc8fbac"
  },
  {
   "cell_type": "markdown",
   "source": [
    "## Random Search"
   ],
   "metadata": {
    "collapsed": false
   },
   "id": "b3f469c5b49b4e6f"
  },
  {
   "cell_type": "code",
   "execution_count": null,
   "outputs": [],
   "source": [
    "def random_search(param_grid, num_tests=5, random_state=None, verbose=1, num_epochs=10):\n",
    "  \n",
    "  # create a list of unique parameter combinations\n",
    "  param_combs = list(sklearn.model_selection.ParameterGrid(param_grid))\n",
    "  if len(param_combs) < num_tests:\n",
    "    num_tests = len(param_combs)\n",
    "  random_combs = np.random.choice(param_combs, size=num_tests,\n",
    "    replace=False)\n",
    "  \n",
    "  # evaluate each of the combinations\n",
    "  history_dict = {}\n",
    "  for params in random_combs:\n",
    "    print(f\"params: {params}\")\n",
    "    pars, acc, history = evaluate_params(params, verbose=verbose, num_epochs=num_epochs)\n",
    "    \n",
    "    history_dict[get_name(pars)] = history\n",
    "  \n",
    "  return history_dict\n"
   ],
   "metadata": {
    "collapsed": false
   },
   "id": "6f9888aa51c59383"
  },
  {
   "cell_type": "code",
   "execution_count": null,
   "outputs": [],
   "source": [
    " history_dict = random_search(\n",
    "  param_grid={\n",
    "    \"activation_function\" : [\"elu\", \"relu\"],\n",
    "    \"layer_sizes\" : [[10], [10, 10], [10,10,10]],\n",
    "    \"batch_size\" : [128]\n",
    "  }\n",
    ")\n",
    "plot_multiple_histories(history_dict, sort_key=\"accuracy\")"
   ],
   "metadata": {
    "collapsed": false
   },
   "id": "8aacbd4935d41e66"
  },
  {
   "cell_type": "code",
   "execution_count": null,
   "outputs": [],
   "source": [],
   "metadata": {
    "collapsed": false
   },
   "id": "3f9679fb51b675d3"
  },
  {
   "cell_type": "code",
   "execution_count": null,
   "outputs": [],
   "source": [
    "history_dict = random_search(\n",
    "  param_grid={\n",
    "    \"activation_function\" : [\"elu\", \"relu\"],\n",
    "    \"layer_sizes\" : [[2**layer_size] * num_layers for layer_size in range(0,5) for num_layers in range(0,4)],\n",
    "    \"batch_size\" : [128]\n",
    "  },\n",
    "  # num_epochs=200,\n",
    "  num_tests=10\n",
    ")\n",
    "\n",
    "plot_multiple_histories(history_dict)"
   ],
   "metadata": {
    "collapsed": false
   },
   "id": "9d4625e3e38c59e2"
  },
  {
   "cell_type": "code",
   "execution_count": null,
   "outputs": [],
   "source": [],
   "metadata": {
    "collapsed": false
   },
   "id": "c0787c0af51c68bc"
  },
  {
   "cell_type": "markdown",
   "source": [
    "## Grid Search with logger"
   ],
   "metadata": {
    "collapsed": false
   },
   "id": "b8051ef61e297771"
  },
  {
   "cell_type": "code",
   "execution_count": null,
   "outputs": [],
   "source": [
    "import logging\n",
    "\n",
    "class TuningLogger:\n",
    "  default_log_dir = \"logs/\"\n",
    "  \n",
    "  def __init__(self, log_dir=None):\n",
    "    \n",
    "    current_time = datetime.datetime.now()\n",
    "    self.id = current_time.strftime(\"%d%b%Y-%H-%M-%S-%f\")   # hour, minute, microseconds\n",
    "    \n",
    "    self.logger = logging.getLogger(\"TuningLogger\")\n",
    "    if self.logger.hasHandlers():\n",
    "      for h in self.logger.handlers:\n",
    "        self.logger.removeHandler(h)\n",
    "    \n",
    "    self.logger.setLevel(logging.INFO)\n",
    "    \n",
    "    if log_dir is None:\n",
    "      log_dir = self.__class__.default_log_dir\n",
    "      \n",
    "    if not os.path.exists(log_dir):\n",
    "      os.mkdir(log_dir)\n",
    "    \n",
    "    log_path = os.path.join(log_dir, f\"{self.__class__.__name__}-{self.id}.log\")\n",
    "    \n",
    "    file_handler = logging.FileHandler(log_path)\n",
    "    file_handler.setFormatter(logging.Formatter('%(message)s'))\n",
    "    self.logger.addHandler(file_handler)\n",
    "  \n",
    "  def log_trial(self, params, history, metrics=[\"loss\"], agg_history=3):\n",
    "    report = {\n",
    "      \"id\": self.id,\n",
    "      \"time\": time.time(), # time since epoch\n",
    "    }\n",
    "    report.update(params)\n",
    "    for metric in metrics:\n",
    "      report[metric] = np.mean(history.history[metric][:-agg_history])\n",
    "    self.logger.info(report)\n",
    "    return\n"
   ],
   "metadata": {
    "collapsed": false
   },
   "id": "41ccdfe5a0d5f221"
  },
  {
   "cell_type": "code",
   "execution_count": null,
   "outputs": [],
   "source": [
    "\n",
    "def grid_search_logging(param_grid, verbose=1, num_epochs=10, log_results=True):\n",
    "  \n",
    "  tuning_logger = TuningLogger()\n",
    "  \n",
    "  history_dict = {}\n",
    "  for params in sklearn.model_selection.ParameterGrid(param_grid):\n",
    "    print(f\"params: {params}\")\n",
    "    pars, acc, history = evaluate_params(params, verbose=verbose, num_epochs=num_epochs)\n",
    "    if log_results:\n",
    "      tuning_logger.log_trial(pars, history)\n",
    "    history_dict[get_name(pars)] = history\n",
    "  \n",
    "  return history_dict\n",
    "  \n"
   ],
   "metadata": {
    "collapsed": false
   },
   "id": "282f64baaf558eb"
  },
  {
   "cell_type": "code",
   "execution_count": null,
   "outputs": [],
   "source": [
    "history_dict = grid_search_logging(\n",
    "  param_grid={\n",
    "    \"activation_function\" : [\"elu\"], #[\"elu\", \"relu\"],\n",
    "    \"layer_sizes\" : [[2**layer_size] * num_layers for layer_size in range(3,5) for num_layers in range(2,4)],\n",
    "    \"batch_size\" : [2**batch_exponent for batch_exponent in range(8,11)]\n",
    "  },\n",
    ")\n",
    "plot_multiple_histories(history_dict)"
   ],
   "metadata": {
    "collapsed": false
   },
   "id": "574a530c271a51b1"
  },
  {
   "cell_type": "code",
   "execution_count": null,
   "outputs": [],
   "source": [],
   "metadata": {
    "collapsed": false
   },
   "id": "5e9d94ca759c1fb0"
  },
  {
   "cell_type": "markdown",
   "source": [
    "# Optuna"
   ],
   "metadata": {
    "collapsed": false
   },
   "id": "853b7c0e8d5408c6"
  },
  {
   "cell_type": "code",
   "execution_count": null,
   "outputs": [],
   "source": [
    "import optuna"
   ],
   "metadata": {
    "collapsed": false
   },
   "id": "71b06fa7b1bd924d"
  },
  {
   "cell_type": "code",
   "execution_count": null,
   "outputs": [],
   "source": [
    "class Objective:\n",
    "  def __init__(self, X, y):\n",
    "    self.X = X\n",
    "    self.y = y\n",
    "  \n",
    "  def __call__(self, trial):\n",
    "    \"\"\" Objective function. \"\"\"\n",
    "    \n",
    "    # hyperparameters\n",
    "    params = default_params\n",
    "    params['batch_size']   = trial.suggest_int('batch_size', 2, 8, step=2)\n",
    "    # params['dropout_prob'] = trial.suggest_float('dropout_prob', 0.0, 0.25, step=0.05)\n",
    "    print(params)\n",
    "    \n",
    "    pars, acc, history = evaluate_params(params, self.X, self.y)\n",
    "    \n",
    "    return acc[0]\n"
   ],
   "metadata": {
    "collapsed": false
   },
   "id": "7afb15b723c4df81"
  },
  {
   "cell_type": "code",
   "execution_count": null,
   "outputs": [],
   "source": [
    "\n",
    "def objective(trial):\n",
    "  # params = default_params\n",
    "  \n",
    "  layer_size = trial.suggest_int(\"layer_size\", 0, 5)\n",
    "  num_layers = trial.suggest_int(\"num_layers\", 0, 4)\n",
    "  batch_exponent = trial.suggest_int(\"batch_exponent\", 2, 8)\n",
    "  params = {\n",
    "    \"activation_function\" : trial.suggest_categorical(\"activation\", [\"relu\", \"elu\"]),\n",
    "    \"layer_sizes\" : [2**layer_size for _ in range(num_layers)],\n",
    "    \"batch_size\" : 2**batch_exponent\n",
    "  }\n",
    "  pars, acc, history = evaluate_params(params)\n",
    "  return acc\n",
    "  \n",
    "\n",
    "study = optuna.create_study(direction=\"maximize\")\n",
    "study.optimize(objective, n_trials=200)\n",
    "\n",
    "best_trial = study.best_trial\n",
    "print(best_trial.values[0])\n",
    "print(best_trial.params)\n"
   ],
   "metadata": {
    "collapsed": false
   },
   "id": "acd7dd7af67c3e7a"
  },
  {
   "cell_type": "code",
   "execution_count": null,
   "outputs": [],
   "source": [],
   "metadata": {
    "collapsed": false
   },
   "id": "970d094cb166ab83"
  },
  {
   "cell_type": "code",
   "execution_count": null,
   "outputs": [],
   "source": [],
   "metadata": {
    "collapsed": false
   },
   "id": "2f6805155f06c5c8"
  }
 ],
 "metadata": {
  "kernelspec": {
   "display_name": "Python 3",
   "language": "python",
   "name": "python3"
  },
  "language_info": {
   "codemirror_mode": {
    "name": "ipython",
    "version": 2
   },
   "file_extension": ".py",
   "mimetype": "text/x-python",
   "name": "python",
   "nbconvert_exporter": "python",
   "pygments_lexer": "ipython2",
   "version": "2.7.6"
  }
 },
 "nbformat": 4,
 "nbformat_minor": 5
}
