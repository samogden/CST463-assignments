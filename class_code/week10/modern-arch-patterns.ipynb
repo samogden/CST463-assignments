{
 "cells": [
  {
   "cell_type": "code",
   "execution_count": 1,
   "id": "initial_id",
   "metadata": {
    "collapsed": true,
    "ExecuteTime": {
     "end_time": "2024-10-28T03:05:38.576863Z",
     "start_time": "2024-10-28T03:05:36.199653Z"
    }
   },
   "outputs": [],
   "source": [
    "import tensorflow as tf\n",
    "import numpy as np\n",
    "import keras\n",
    "import pandas as pd\n",
    "import matplotlib.pyplot as plt"
   ]
  },
  {
   "cell_type": "code",
   "execution_count": 1,
   "outputs": [],
   "source": [],
   "metadata": {
    "collapsed": false,
    "ExecuteTime": {
     "end_time": "2024-10-28T03:05:38.579996Z",
     "start_time": "2024-10-28T03:05:38.577739Z"
    }
   },
   "id": "de8e2969b98f8e1f"
  },
  {
   "cell_type": "code",
   "execution_count": null,
   "outputs": [
    {
     "name": "stderr",
     "output_type": "stream",
     "text": [
      "2024-10-27 20:58:56.872508: I metal_plugin/src/device/metal_device.cc:1154] Metal device set to: Apple M2 Max\n",
      "2024-10-27 20:58:56.872544: I metal_plugin/src/device/metal_device.cc:296] systemMemory: 32.00 GB\n",
      "2024-10-27 20:58:56.872553: I metal_plugin/src/device/metal_device.cc:313] maxCacheSize: 10.67 GB\n",
      "2024-10-27 20:58:56.872571: I tensorflow/core/common_runtime/pluggable_device/pluggable_device_factory.cc:305] Could not identify NUMA node of platform GPU ID 0, defaulting to 0. Your kernel may not have been built with NUMA support.\n",
      "2024-10-27 20:58:56.872587: I tensorflow/core/common_runtime/pluggable_device/pluggable_device_factory.cc:271] Created TensorFlow device (/job:localhost/replica:0/task:0/device:GPU:0 with 0 MB memory) -> physical PluggableDevice (device: 0, name: METAL, pci bus id: <undefined>)\n",
      "2024-10-27 20:58:57.140124: I tensorflow/core/grappler/optimizers/custom_graph_optimizer_registry.cc:117] Plugin optimizer for device_type GPU is enabled.\n"
     ]
    },
    {
     "name": "stdout",
     "output_type": "stream",
     "text": [
      "0.11573173105716705\n",
      "0.02728487178683281\n",
      "5.7672613351655855e-09\n",
      "2.9586735763587058e-05\n",
      "4.097856617590878e-06\n",
      "1.6608477380941622e-05\n",
      "0.0002692705311346799\n",
      "1.397223314825169e-07\n",
      "0.00013103218225296587\n",
      "0.0006427859771065414\n",
      "2.7592193418968236e-08\n",
      "0.0001288317725993693\n",
      "6.200579809956253e-05\n",
      "5.381722303354763e-07\n"
     ]
    }
   ],
   "source": [
    "# from: https://towardsdatascience.com/intuition-behind-residual-neural-networks-fa5d2996b2c7\n",
    "\n",
    "import math\n",
    "import tensorflow as tf\n",
    "\n",
    "def sin():\n",
    "  while True:\n",
    "    x = tf.random.normal((32, 10), math.pi, 1.5)\n",
    "    y = tf.math.sin(x)\n",
    "    yield (x, y)\n",
    "\n",
    "def build_model(layers):\n",
    "  x = inputs = tf.keras.Input((10, ))\n",
    "  for _ in range(layers):\n",
    "    x = tf.keras.layers.Dense(32, activation=\"relu\")(x)\n",
    "  x = tf.keras.layers.Dense(10)(x)\n",
    "  model = tf.keras.Model(inputs, x)\n",
    "  model.compile(\"adam\", \"mse\")\n",
    "  return model\n",
    "\n",
    "dts = tf.data.Dataset.from_generator(sin, (tf.float32, tf.float32), ((32, 10), (32, 10)))\n",
    "\n",
    "for t in range(1, 31):\n",
    "  plain = build_model(t)\n",
    "  hist = plain.fit(dts, steps_per_epoch=20, epochs=20*t, verbose=0)\n",
    "  print(hist.history[\"loss\"][-1])"
   ],
   "metadata": {
    "collapsed": false,
    "is_executing": true,
    "ExecuteTime": {
     "start_time": "2024-10-28T03:58:56.869937Z"
    }
   },
   "id": "77abb28f683f1c66"
  },
  {
   "cell_type": "code",
   "execution_count": null,
   "outputs": [],
   "source": [
    "\n",
    "\n",
    "def resblock(inputs):\n",
    "  # Asumption: inputs is of last dimension 32.\n",
    "  x = tf.keras.layers.Dense(32, activation=\"relu\")(inputs)\n",
    "  x = tf.keras.layers.Dense(32)(x)\n",
    "  x = x + inputs # Skip connection\n",
    "  x = tf.keras.Activation(\"relu\")(x)\n",
    "  return x\n",
    "\n",
    "def build_res_model(layers):\n",
    "  x = inputs = tf.keras.Input((10, ))\n",
    "  for _ in range(layers):\n",
    "    x = resblock(x)\n",
    "  x = tf.keras.layers.Dense(10)(x)\n",
    "  model = tf.keras.Model(inputs, x)\n",
    "  model.compile(\"adam\", \"mse\")\n",
    "  return model\n",
    "\n",
    "dts = tf.data.Dataset.from_generator(sin, (tf.float32, tf.float32), ((32, 10), (32, 10)))\n",
    "\n",
    "for t in range(1, 31):\n",
    "  plain = build_res_model(t)\n",
    "  hist = plain.fit(dts, steps_per_epoch=20, epochs=20*t, verbose=0)\n",
    "  print(hist.history[\"loss\"][-1])"
   ],
   "metadata": {
    "collapsed": false,
    "is_executing": true
   },
   "id": "c10c4f4725a37a6c"
  },
  {
   "cell_type": "code",
   "execution_count": 1,
   "outputs": [],
   "source": [],
   "metadata": {
    "collapsed": false,
    "ExecuteTime": {
     "end_time": "2024-10-28T03:05:38.586252Z",
     "start_time": "2024-10-28T03:05:38.584785Z"
    }
   },
   "id": "c96f935dc01c657e"
  },
  {
   "cell_type": "code",
   "execution_count": 1,
   "outputs": [],
   "source": [],
   "metadata": {
    "collapsed": false,
    "ExecuteTime": {
     "end_time": "2024-10-28T03:05:38.588635Z",
     "start_time": "2024-10-28T03:05:38.586926Z"
    }
   },
   "id": "201589e4c15e269a"
  },
  {
   "cell_type": "code",
   "execution_count": null,
   "outputs": [],
   "source": [],
   "metadata": {
    "collapsed": false
   },
   "id": "1128e9cb59066313"
  }
 ],
 "metadata": {
  "kernelspec": {
   "display_name": "Python 3",
   "language": "python",
   "name": "python3"
  },
  "language_info": {
   "codemirror_mode": {
    "name": "ipython",
    "version": 2
   },
   "file_extension": ".py",
   "mimetype": "text/x-python",
   "name": "python",
   "nbconvert_exporter": "python",
   "pygments_lexer": "ipython2",
   "version": "2.7.6"
  }
 },
 "nbformat": 4,
 "nbformat_minor": 5
}
