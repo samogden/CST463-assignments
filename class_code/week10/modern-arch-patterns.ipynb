{
 "cells": [
  {
   "cell_type": "code",
   "execution_count": 1,
   "id": "initial_id",
   "metadata": {
    "collapsed": true,
    "ExecuteTime": {
     "end_time": "2024-10-28T03:05:38.576863Z",
     "start_time": "2024-10-28T03:05:36.199653Z"
    }
   },
   "outputs": [],
   "source": [
    "import tensorflow as tf\n",
    "import numpy as np\n",
    "import keras\n",
    "import pandas as pd\n",
    "import matplotlib.pyplot as plt"
   ]
  },
  {
   "cell_type": "code",
   "execution_count": 1,
   "outputs": [],
   "source": [],
   "metadata": {
    "collapsed": false,
    "ExecuteTime": {
     "end_time": "2024-10-28T03:05:38.579996Z",
     "start_time": "2024-10-28T03:05:38.577739Z"
    }
   },
   "id": "de8e2969b98f8e1f"
  },
  {
   "cell_type": "code",
   "execution_count": 6,
   "outputs": [
    {
     "name": "stdout",
     "output_type": "stream",
     "text": [
      "0.45967286825180054\n",
      "0.08420122414827347\n",
      "0.004428494721651077\n",
      "2.5825389457168058e-05\n",
      "1.405010243615834e-05\n",
      "5.259676072455477e-06\n",
      "1.2637872259801952e-07\n",
      "2.6676320885599125e-07\n",
      "1.7021323017729628e-08\n",
      "0.002586479065939784\n",
      "3.578793985070661e-05\n",
      "0.00022780669678468257\n",
      "0.000358390185283497\n",
      "3.3923771525223856e-07\n",
      "1.4606215700041503e-05\n",
      "8.496616601405549e-07\n",
      "0.0006765009602531791\n",
      "0.0028708765748888254\n",
      "0.0021775385830551386\n",
      "0.00023837885237298906\n",
      "0.011039422824978828\n",
      "2.817029962898232e-05\n",
      "0.010281856171786785\n",
      "0.011105927638709545\n",
      "0.06313429027795792\n",
      "0.03448827937245369\n",
      "0.03271232545375824\n",
      "0.04065534099936485\n",
      "0.014550651423633099\n",
      "0.09155623614788055\n"
     ]
    },
    {
     "data": {
      "text/plain": "[<matplotlib.lines.Line2D at 0x4df4747f0>]"
     },
     "execution_count": 6,
     "metadata": {},
     "output_type": "execute_result"
    },
    {
     "data": {
      "text/plain": "<Figure size 640x480 with 1 Axes>",
      "image/png": "[encoded data removed]"
     },
     "metadata": {},
     "output_type": "display_data"
    }
   ],
   "source": [
    "# from: https://towardsdatascience.com/intuition-behind-residual-neural-networks-fa5d2996b2c7\n",
    "\n",
    "import math\n",
    "import tensorflow as tf\n",
    "\n",
    "def sin():\n",
    "  while True:\n",
    "    x = tf.random.normal((32, 10), math.pi, 1.5)\n",
    "    y = tf.math.sin(x)\n",
    "    yield (x, y)\n",
    "\n",
    "def build_model(layers):\n",
    "  x = inputs = tf.keras.Input((10, ))\n",
    "  for _ in range(layers):\n",
    "    x = tf.keras.layers.Dense(32, activation=\"relu\")(x)\n",
    "  x = tf.keras.layers.Dense(10)(x)\n",
    "  model = tf.keras.Model(inputs, x)\n",
    "  model.compile(\"adam\", \"mse\")\n",
    "  return model\n",
    "\n",
    "dts = tf.data.Dataset.from_generator(sin, (tf.float32, tf.float32), ((32, 10), (32, 10)))\n",
    "\n",
    "loss_by_depth = []\n",
    "for t in range(1, 31):\n",
    "  plain = build_model(t)\n",
    "  hist = plain.fit(dts, steps_per_epoch=20, epochs=10*t, verbose=0)\n",
    "  print(hist.history[\"loss\"][-1])\n",
    "  loss_by_depth.append(hist.history[\"loss\"][-1])\n",
    "\n",
    "plt.plot(loss_by_depth)"
   ],
   "metadata": {
    "collapsed": false,
    "ExecuteTime": {
     "end_time": "2024-10-28T16:00:40.065147Z",
     "start_time": "2024-10-28T15:19:02.619412Z"
    }
   },
   "id": "77abb28f683f1c66"
  },
  {
   "cell_type": "code",
   "execution_count": null,
   "outputs": [
    {
     "name": "stdout",
     "output_type": "stream",
     "text": [
      "0.1550242006778717\n",
      "0.043798770755529404\n",
      "0.003592370543628931\n",
      "0.00010709047637647018\n",
      "0.003937436267733574\n",
      "1.3616047308748214e-12\n",
      "8.451031135336962e-06\n",
      "8.255579553306802e-10\n",
      "6.384235894074664e-05\n",
      "2.7530091983862803e-08\n",
      "2.605571012281871e-07\n",
      "6.24968956794425e-12\n",
      "4.4319652114932495e-11\n",
      "1.7523121869089664e-06\n",
      "2.984910235648286e-11\n",
      "1.388373448207858e-06\n",
      "9.943034910975257e-07\n",
      "1.868321305664722e-05\n",
      "1.0441424634632934e-11\n",
      "1.535530827823095e-06\n",
      "2.1101622849073465e-07\n",
      "1.0728104168911123e-11\n",
      "5.63701663125471e-09\n",
      "0.00015028631605673581\n",
      "1.4713132259203121e-06\n",
      "1.0765335218820837e-06\n",
      "1.7775536775843648e-07\n",
      "4.7588116780517e-10\n",
      "0.0007204797584563494\n"
     ]
    }
   ],
   "source": [
    "\n",
    "\n",
    "def resblock(inputs):\n",
    "  # Asumption: inputs is of last dimension 32.\n",
    "  x = keras.layers.Dense(32, activation=\"relu\")(inputs)\n",
    "  x = keras.layers.Dense(32)(x)\n",
    "  x = x + inputs # Skip connection\n",
    "  x = keras.activations.relu(x)\n",
    "  return x\n",
    "\n",
    "def build_res_model(layers):\n",
    "  x = inputs = keras.Input((10, ))\n",
    "  x = keras.layers.Dense(32, activation=\"relu\")(x)\n",
    "  for _ in range(layers):\n",
    "    x = resblock(x)\n",
    "  x = keras.layers.Dense(10)(x)\n",
    "  model = keras.Model(inputs, x)\n",
    "  model.compile(\"adam\", \"mse\")\n",
    "  return model\n",
    "\n",
    "dts = tf.data.Dataset.from_generator(sin, (tf.float32, tf.float32), ((32, 10), (32, 10)))\n",
    "\n",
    "\n",
    "loss_by_depth = []\n",
    "for t in range(1, 31):\n",
    "  res_model = build_res_model(t)\n",
    "  hist = res_model.fit(dts, steps_per_epoch=20, epochs=10*t, verbose=0)\n",
    "  print(hist.history[\"loss\"][-1])\n",
    "  loss_by_depth.append(hist.history[\"loss\"][-1])\n",
    "\n",
    "plt.plot(loss_by_depth)\n"
   ],
   "metadata": {
    "collapsed": false,
    "is_executing": true,
    "ExecuteTime": {
     "start_time": "2024-10-28T16:38:03.497399Z"
    }
   },
   "id": "c10c4f4725a37a6c"
  },
  {
   "cell_type": "code",
   "execution_count": 1,
   "outputs": [],
   "source": [],
   "metadata": {
    "collapsed": false,
    "ExecuteTime": {
     "end_time": "2024-10-28T03:05:38.586252Z",
     "start_time": "2024-10-28T03:05:38.584785Z"
    }
   },
   "id": "c96f935dc01c657e"
  },
  {
   "cell_type": "code",
   "execution_count": null,
   "outputs": [],
   "source": [
    "build_model(5).summary()"
   ],
   "metadata": {
    "collapsed": false,
    "is_executing": true
   },
   "id": "201589e4c15e269a"
  },
  {
   "cell_type": "code",
   "execution_count": null,
   "outputs": [],
   "source": [
    "build_res_model(5).summary()"
   ],
   "metadata": {
    "collapsed": false,
    "is_executing": true
   },
   "id": "1128e9cb59066313"
  },
  {
   "cell_type": "code",
   "execution_count": null,
   "outputs": [],
   "source": [],
   "metadata": {
    "collapsed": false
   },
   "id": "2ad4e002fc65fb0e"
  }
 ],
 "metadata": {
  "kernelspec": {
   "display_name": "Python 3",
   "language": "python",
   "name": "python3"
  },
  "language_info": {
   "codemirror_mode": {
    "name": "ipython",
    "version": 2
   },
   "file_extension": ".py",
   "mimetype": "text/x-python",
   "name": "python",
   "nbconvert_exporter": "python",
   "pygments_lexer": "ipython2",
   "version": "2.7.6"
  }
 },
 "nbformat": 4,
 "nbformat_minor": 5
}
