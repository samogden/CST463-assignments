{
 "cells": [
  {
   "cell_type": "code",
   "execution_count": null,
   "id": "initial_id",
   "metadata": {
    "collapsed": true
   },
   "outputs": [],
   "source": [
    "import tensorflow as tf\n",
    "import keras\n",
    "\n",
    "from keras import models, layers, Input\n",
    "\n",
    "from sklearn.datasets import make_classification\n",
    "from sklearn.model_selection import train_test_split\n",
    "import matplotlib.pyplot as plt\n",
    "\n"
   ]
  },
  {
   "cell_type": "code",
   "execution_count": null,
   "outputs": [],
   "source": [
    "def plot_loss(history):\n",
    "  \"\"\" Plot training, test loss. \"\"\"\n",
    "  \n",
    "  plt.plot(history.history['loss'])\n",
    "  plt.plot(history.history['val_loss'])\n",
    "  plt.title('model loss')\n",
    "  plt.ylabel('loss')\n",
    "  plt.xlabel('epoch')\n",
    "  plt.legend(['train', 'test'])\n",
    "  plt.show();\n"
   ],
   "metadata": {
    "collapsed": false
   },
   "id": "744a8de57131576f"
  },
  {
   "cell_type": "markdown",
   "source": [
    "## Linear Regression"
   ],
   "metadata": {
    "collapsed": false
   },
   "id": "38821691953d0392"
  },
  {
   "cell_type": "code",
   "execution_count": null,
   "outputs": [],
   "source": [],
   "metadata": {
    "collapsed": false
   },
   "id": "e7c7e820d8612ab8"
  },
  {
   "cell_type": "code",
   "execution_count": null,
   "outputs": [],
   "source": [
    "from sklearn.datasets import make_regression\n",
    "\n",
    "X,y = make_regression(\n",
    "  n_samples=5000,\n",
    "  n_features=4,\n",
    "  n_informative=3,\n",
    "  noise=2\n",
    ")\n",
    "X_train, X_test, y_train, y_test = train_test_split(\n",
    "  X,\n",
    "  y,\n",
    "  test_size=0.33,\n",
    "  random_state=42\n",
    ")"
   ],
   "metadata": {
    "collapsed": false
   },
   "id": "5d625eb58fb250b4"
  },
  {
   "cell_type": "code",
   "execution_count": null,
   "outputs": [],
   "source": [
    "\n",
    "model = models.Sequential()\n",
    "model.add(layers.InputLayer(shape=(4,)))\n",
    "model.add(layers.Dense(1))\n",
    "model.summary()\n"
   ],
   "metadata": {
    "collapsed": false
   },
   "id": "f347a19fd39a92e6"
  },
  {
   "cell_type": "code",
   "execution_count": null,
   "outputs": [],
   "source": [
    "opt = keras.optimizers.SGD(\n",
    "  learning_rate=0.1\n",
    ")\n",
    "model.compile(\n",
    "  optimizer=opt, \n",
    "  loss='mse', \n",
    "  metrics=['mae']\n",
    ")\n",
    "\n",
    "\n",
    "history = model.fit(\n",
    "  X_train, \n",
    "  y_train,\n",
    "  batch_size=256, \n",
    "  epochs=40, \n",
    "  validation_split=0.3\n",
    ")\n",
    "\n",
    "plot_loss(history)"
   ],
   "metadata": {
    "collapsed": false
   },
   "id": "34ae841855311e31"
  },
  {
   "cell_type": "code",
   "execution_count": null,
   "outputs": [],
   "source": [],
   "metadata": {
    "collapsed": false
   },
   "id": "db13f6552e659f9d"
  },
  {
   "cell_type": "markdown",
   "source": [
    "## Richer Model"
   ],
   "metadata": {
    "collapsed": false
   },
   "id": "6cda1705472fc1f0"
  },
  {
   "cell_type": "code",
   "execution_count": null,
   "outputs": [],
   "source": [
    "# two hidden layers, sigmoid activation\n",
    "model_rich = models.Sequential()\n",
    "model_rich.add(layers.InputLayer(shape=(4,)))\n",
    "model_rich.add(layers.Dense(20, activation='relu'))\n",
    "model_rich.add(layers.Dense(1))\n",
    "model_rich.summary()\n",
    "\n",
    "opt = keras.optimizers.SGD(learning_rate=0.001)\n",
    "model.compile(optimizer=opt, loss='mse', metrics=['mae'])\n",
    "\n",
    "history_rich = model.fit(\n",
    "  X_train, \n",
    "  y_train,\n",
    "  batch_size=32, \n",
    "  epochs=40, \n",
    "  validation_split=0.3\n",
    ")\n",
    "\n",
    "plot_loss(history_rich)\n"
   ],
   "metadata": {
    "collapsed": false
   },
   "id": "d7b54a6ae8cfa92a"
  },
  {
   "cell_type": "code",
   "execution_count": null,
   "outputs": [],
   "source": [],
   "metadata": {
    "collapsed": false
   },
   "id": "c246888899810dd3"
  },
  {
   "cell_type": "code",
   "execution_count": null,
   "outputs": [],
   "source": [],
   "metadata": {
    "collapsed": false
   },
   "id": "ef8d870be1fb102f"
  }
 ],
 "metadata": {
  "kernelspec": {
   "display_name": "Python 3",
   "language": "python",
   "name": "python3"
  },
  "language_info": {
   "codemirror_mode": {
    "name": "ipython",
    "version": 2
   },
   "file_extension": ".py",
   "mimetype": "text/x-python",
   "name": "python",
   "nbconvert_exporter": "python",
   "pygments_lexer": "ipython2",
   "version": "2.7.6"
  }
 },
 "nbformat": 4,
 "nbformat_minor": 5
}
