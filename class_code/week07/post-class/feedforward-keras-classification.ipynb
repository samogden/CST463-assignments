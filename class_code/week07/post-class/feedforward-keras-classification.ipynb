{
 "cells": [
  {
   "cell_type": "code",
   "execution_count": null,
   "id": "initial_id",
   "metadata": {
    "collapsed": true
   },
   "outputs": [],
   "source": [
    "import tensorflow as tf\n",
    "import keras\n",
    "\n",
    "from keras import models, layers, Input\n",
    "from sklearn.datasets import make_classification\n",
    "from sklearn.model_selection import train_test_split\n",
    "import matplotlib.pyplot as plt\n",
    "\n"
   ]
  },
  {
   "cell_type": "code",
   "execution_count": null,
   "outputs": [],
   "source": [
    "def plot_loss(history):\n",
    "  \"\"\" Plot training, test loss. \"\"\"\n",
    "  \n",
    "  plt.plot(history.history['loss'])\n",
    "  plt.plot(history.history['val_loss'])\n",
    "  plt.title('model loss')\n",
    "  plt.ylabel('loss')\n",
    "  plt.xlabel('epoch')\n",
    "  plt.legend(['train', 'test'])\n",
    "  plt.show();"
   ],
   "metadata": {
    "collapsed": false
   },
   "id": "318b205795c806ed"
  },
  {
   "cell_type": "markdown",
   "source": [
    "## Logistic Regression\n"
   ],
   "metadata": {
    "collapsed": false
   },
   "id": "1ecf74beeb1eeda1"
  },
  {
   "cell_type": "code",
   "execution_count": null,
   "outputs": [],
   "source": [
    "model = models.Sequential()\n",
    "model.add(Input(shape=(4,)))\n",
    "model.add(layers.Dense(1, activation='sigmoid'))\n",
    "model.summary()\n"
   ],
   "metadata": {
    "collapsed": false
   },
   "id": "7f8a07d7cb06567b"
  },
  {
   "cell_type": "code",
   "execution_count": null,
   "outputs": [],
   "source": [
    "model.compile(optimizer='SGD',\n",
    "  loss='binary_crossentropy',\n",
    "  metrics=['accuracy']\n",
    ")"
   ],
   "metadata": {
    "collapsed": false
   },
   "id": "d6db3178f447fa96"
  },
  {
   "cell_type": "code",
   "execution_count": null,
   "outputs": [],
   "source": [
    "from sklearn.datasets import make_classification\n",
    "\n",
    "X,y = make_classification(\n",
    "  n_samples=1000, \n",
    "  n_features=4, \n",
    "  n_redundant=0\n",
    ")\n",
    "\n",
    "X_train, X_test, y_train, y_test = train_test_split(\n",
    "  X, \n",
    "  y, \n",
    "  test_size=0.33, \n",
    "  random_state=42\n",
    ")\n"
   ],
   "metadata": {
    "collapsed": false
   },
   "id": "193b73d43892573a"
  },
  {
   "cell_type": "code",
   "execution_count": null,
   "outputs": [],
   "source": [
    "history = model.fit(X_train, y_train,\n",
    "  batch_size=32, \n",
    "  epochs=400, \n",
    "  validation_split=0.3\n",
    ")\n"
   ],
   "metadata": {
    "collapsed": false
   },
   "id": "5561ef7f9f20514a"
  },
  {
   "cell_type": "code",
   "execution_count": null,
   "outputs": [],
   "source": [
    "print(history.history.keys())\n"
   ],
   "metadata": {
    "collapsed": false
   },
   "id": "8ad75de2104e964d"
  },
  {
   "cell_type": "code",
   "execution_count": null,
   "outputs": [],
   "source": [
    "plot_loss(history)"
   ],
   "metadata": {
    "collapsed": false
   },
   "id": "66539437208853a1"
  },
  {
   "cell_type": "markdown",
   "source": [
    "## Derived Features"
   ],
   "metadata": {
    "collapsed": false
   },
   "id": "72deb37cdaac80b5"
  },
  {
   "cell_type": "code",
   "execution_count": null,
   "outputs": [],
   "source": [
    "# one hidden layer of three neurons, sigmoids throughout\n",
    "model_sigmoid = models.Sequential()\n",
    "model_sigmoid.add(layers.InputLayer(shape=(4,)))\n",
    "model_sigmoid.add(layers.Dense(3, activation='sigmoid'))\n",
    "model_sigmoid.add(layers.Dense(1, activation='sigmoid'))\n",
    "model_sigmoid.summary()\n",
    "\n",
    "model_sigmoid.compile(optimizer='SGD',\n",
    "  loss='binary_crossentropy',\n",
    "  metrics=['accuracy']\n",
    ")\n",
    "\n",
    "history_sigmoid = model_sigmoid.fit(\n",
    "  X_train, \n",
    "  y_train,\n",
    "  batch_size=512, \n",
    "  epochs=1000, \n",
    "  validation_split=0.3\n",
    ")\n",
    "plot_loss(history_sigmoid)\n"
   ],
   "metadata": {
    "collapsed": false
   },
   "id": "9b3b62730441b7bc"
  },
  {
   "cell_type": "code",
   "execution_count": null,
   "outputs": [],
   "source": [
    "# one hidden layer of three neurons, relu in the middle\n",
    "model_relu = models.Sequential()\n",
    "model_relu.add(layers.InputLayer(input_shape=(4,)))\n",
    "model_relu.add(layers.Dense(3, activation='relu'))\n",
    "model_relu.add(layers.Dense(1, activation='sigmoid'))\n",
    "model_relu.summary()\n",
    "\n",
    "model_relu.compile(optimizer='SGD',\n",
    "  loss='binary_crossentropy',\n",
    "  metrics=['accuracy']\n",
    ")\n",
    "\n",
    "history_relu = model_relu.fit(\n",
    "  X_train, \n",
    "  y_train,\n",
    "  batch_size=256, \n",
    "  epochs=40, \n",
    "  validation_split=0.3\n",
    ")\n",
    "plot_loss(history_relu)"
   ],
   "metadata": {
    "collapsed": false
   },
   "id": "9f9551d18deee7a1"
  },
  {
   "cell_type": "code",
   "execution_count": null,
   "outputs": [],
   "source": [
    "# one hidden layer of three neurons, relu in the middle\n",
    "model_relu = models.Sequential()\n",
    "model_relu.add(layers.InputLayer(input_shape=(4,)))\n",
    "model_relu.add(layers.Dense(3, activation='relu'))\n",
    "model_relu.add(layers.Dense(1, activation='relu'))\n",
    "model_relu.add(layers.Softmax(1))\n",
    "model_relu.summary()\n",
    "\n",
    "model_relu.compile(optimizer='SGD',\n",
    "  loss='binary_crossentropy',\n",
    "  metrics=['accuracy']\n",
    ")\n",
    "\n",
    "history_relu = model_relu.fit(\n",
    "  X_train,\n",
    "  y_train,\n",
    "  batch_size=256,\n",
    "  epochs=40,\n",
    "  validation_split=0.3\n",
    ")\n",
    "plot_loss(history_relu)"
   ],
   "metadata": {
    "collapsed": false
   },
   "id": "bcd7095ced10f7a5"
  },
  {
   "cell_type": "markdown",
   "source": [
    "## Richer Models\n"
   ],
   "metadata": {
    "collapsed": false
   },
   "id": "8d88016813f47279"
  },
  {
   "cell_type": "code",
   "execution_count": null,
   "outputs": [],
   "source": [
    "# two hidden layers, relu activation\n",
    "model_rich = models.Sequential()\n",
    "model_rich.add(layers.InputLayer(input_shape=(4,)))\n",
    "model_rich.add(layers.Dense(20, activation='relu'))\n",
    "model_rich.add(layers.Dense(20, activation='relu'))\n",
    "model_rich.add(layers.Dense(1, activation='sigmoid'))\n",
    "\n",
    "\n",
    "model_rich.summary()\n"
   ],
   "metadata": {
    "collapsed": false
   },
   "id": "690d590acd557d8c"
  },
  {
   "cell_type": "code",
   "execution_count": null,
   "outputs": [],
   "source": [
    "\n",
    "model_rich.compile(optimizer='SGD',\n",
    "  loss='binary_crossentropy',\n",
    "  metrics=['accuracy']\n",
    ")\n",
    "\n",
    "history_rich = model_rich.fit(\n",
    "  X_train,\n",
    "  y_train,\n",
    "  batch_size=256,\n",
    "  epochs=1000,\n",
    "  validation_split=0.3\n",
    ")\n",
    "plot_loss(history_rich)"
   ],
   "metadata": {
    "collapsed": false
   },
   "id": "ca6c6a3079e83135"
  },
  {
   "cell_type": "markdown",
   "source": [
    "## Multi-class\n"
   ],
   "metadata": {
    "collapsed": false
   },
   "id": "4216800e7bc14c93"
  },
  {
   "cell_type": "code",
   "execution_count": null,
   "outputs": [],
   "source": [
    "X,y = make_classification(\n",
    "  n_samples=1000,\n",
    "  n_features=4, \n",
    "  n_redundant=0, \n",
    "  n_classes=3,\n",
    "  n_clusters_per_class=1\n",
    ")\n",
    "\n",
    "X_train, X_test, y_train, y_test = train_test_split(\n",
    "  X, \n",
    "  y, \n",
    "  test_size=0.33, \n",
    "  random_state=42\n",
    ")\n"
   ],
   "metadata": {
    "collapsed": false
   },
   "id": "ca47a5dcdf5b5e43"
  },
  {
   "cell_type": "code",
   "execution_count": null,
   "outputs": [],
   "source": [
    "# three output classes; softmax is used\n",
    "model_mc = models.Sequential()\n",
    "model_mc.add(layers.InputLayer(input_shape=(4,)))\n",
    "model_mc.add(layers.Dense(20, activation='relu'))\n",
    "model_mc.add(layers.Dense(20, activation='relu'))\n",
    "model_mc.add(layers.Dense(3, activation='softmax'))\n",
    "\n",
    "model_mc.summary()\n"
   ],
   "metadata": {
    "collapsed": false
   },
   "id": "6f4d6231ae0f2d28"
  },
  {
   "cell_type": "code",
   "execution_count": null,
   "outputs": [],
   "source": [
    "\n",
    "model_mc.compile(\n",
    "  optimizer='SGD',\n",
    "  loss='sparse_categorical_crossentropy',\n",
    "  metrics=['accuracy']\n",
    ")\n",
    "\n",
    "history_mc = model_mc.fit(\n",
    "  X_train, \n",
    "  y_train,\n",
    "  batch_size=256, \n",
    "  epochs=1000, \n",
    "  validation_split=0.3\n",
    ")\n",
    "\n",
    "plot_loss(history_mc)\n"
   ],
   "metadata": {
    "collapsed": false
   },
   "id": "18c0a757e93751f4"
  },
  {
   "cell_type": "code",
   "execution_count": null,
   "outputs": [],
   "source": [
    "# three output classes; softmax is used\n",
    "model_mc1 = models.Sequential()\n",
    "model_mc1.add(layers.InputLayer(input_shape=(4,)))\n",
    "model_mc1.add(layers.Dense(20, activation='relu'))\n",
    "model_mc1.add(layers.Dense(20, activation='relu'))\n",
    "model_mc1.add(layers.Dense(3, activation='softmax'))\n",
    "\n",
    "model_mc1.summary()\n",
    "\n",
    "model_mc1.compile(\n",
    "  optimizer='SGD',\n",
    "  loss='sparse_categorical_crossentropy',\n",
    "  metrics=['accuracy']\n",
    ")\n",
    "\n",
    "history_mc = model_mc1.fit(\n",
    "  X_train,\n",
    "  y_train,\n",
    "  batch_size=512,\n",
    "  epochs=1000,\n",
    "  validation_split=0.3\n",
    ")\n",
    "\n",
    "plot_loss(history_mc)\n"
   ],
   "metadata": {
    "collapsed": false
   },
   "id": "b4d855fc4ccf8656"
  },
  {
   "cell_type": "code",
   "execution_count": null,
   "outputs": [],
   "source": [],
   "metadata": {
    "collapsed": false
   },
   "id": "99f5199b994e0a6e"
  }
 ],
 "metadata": {
  "kernelspec": {
   "display_name": "Python 3",
   "language": "python",
   "name": "python3"
  },
  "language_info": {
   "codemirror_mode": {
    "name": "ipython",
    "version": 2
   },
   "file_extension": ".py",
   "mimetype": "text/x-python",
   "name": "python",
   "nbconvert_exporter": "python",
   "pygments_lexer": "ipython2",
   "version": "2.7.6"
  }
 },
 "nbformat": 4,
 "nbformat_minor": 5
}
