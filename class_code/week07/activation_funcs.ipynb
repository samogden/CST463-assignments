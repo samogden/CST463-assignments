{
 "cells": [
  {
   "cell_type": "code",
   "execution_count": null,
   "id": "initial_id",
   "metadata": {
    "collapsed": true
   },
   "outputs": [],
   "source": [
    "import tensorflow as tf\n",
    "import keras\n",
    "import numpy as np\n",
    "import matplotlib.pyplot as plt\n",
    "\n",
    "import typing"
   ]
  },
  {
   "cell_type": "code",
   "execution_count": null,
   "outputs": [],
   "source": [
    "\n",
    "def plot_multiple_histories(histories : typing.Dict, metric='loss'):\n",
    "  \"\"\"\n",
    "  Plots the training history of multiple models on the same plot for comparison.\n",
    "  \n",
    "  Parameters:\n",
    "    histories: List of History objects from multiple model's fit() calls.\n",
    "    metric: The metric to plot ('loss', 'accuracy', etc.).\n",
    "    labels: List of labels for the models. If None, defaults to 'Model 1', 'Model 2', etc.\n",
    "  \"\"\"\n",
    "  # Check if labels are provided, otherwise generate default labels\n",
    "  # if labels is None:\n",
    "  #   labels = [f'Model {i+1}' for i in range(len(histories))]\n",
    "  \n",
    "  # Initialize the plot\n",
    "  plt.figure(figsize=(10, 6))\n",
    "  \n",
    "  # Loop through each history and plot the metrics\n",
    "  for i, (label, history) in enumerate(histories.items()):\n",
    "    epochs = range(1, len(history.history[metric]) + 1)\n",
    "    \n",
    "    # Plot training metric\n",
    "    plt.plot(epochs, history.history[metric], label=f'{label} {metric.capitalize()}')\n",
    "    \n",
    "    # Plot validation metric if available\n",
    "    # if f'val_{metric}' in history.history:\n",
    "    #   plt.plot(epochs, history.history[f'val_{metric}'], '--', label=f'{label} Validation {metric.capitalize()}')\n",
    "  \n",
    "  # Add labels and title\n",
    "  plt.title(f'Comparison of {metric.capitalize()} Between Models')\n",
    "  plt.xlabel('Epochs')\n",
    "  plt.ylabel(metric.capitalize())\n",
    "  plt.legend()\n",
    "  \n",
    "  # Show plot\n",
    "  plt.show()\n",
    "\n"
   ],
   "metadata": {
    "collapsed": false
   },
   "id": "8e813798122e6436"
  },
  {
   "cell_type": "code",
   "execution_count": null,
   "outputs": [],
   "source": [
    "\n",
    "import sklearn.model_selection\n",
    "from sklearn.datasets import make_regression\n",
    "\n",
    "X,y = make_regression(\n",
    "  n_samples=5000,\n",
    "  n_features=4,\n",
    "  n_informative=3,\n",
    "  noise=2\n",
    ")\n",
    "X_train, X_test, y_train, y_test = sklearn.model_selection.train_test_split(\n",
    "  X,\n",
    "  y,\n",
    "  test_size=0.33,\n",
    "  random_state=42\n",
    ")"
   ],
   "metadata": {
    "collapsed": false
   },
   "id": "478c90a19401f79"
  },
  {
   "cell_type": "code",
   "execution_count": null,
   "outputs": [],
   "source": [
    "\n",
    "def train_model_activation(activation_function) -> keras.callbacks.History:\n",
    "\n",
    "  model = keras.models.Sequential()\n",
    "  model.add(keras.layers.InputLayer(shape=(4,)))\n",
    "  model.add(keras.layers.Dense(1, activation=activation_function))\n",
    "  \n",
    "  opt = keras.optimizers.SGD(learning_rate=0.001)\n",
    "  model.compile(optimizer=opt, loss='mse', metrics=['mae'])\n",
    "  history = model.fit(\n",
    "    X_train, \n",
    "    y_train,\n",
    "    batch_size=32, \n",
    "    epochs=40, \n",
    "    validation_split=0.3\n",
    "  )\n",
    "\n",
    "  return history\n",
    "\n"
   ],
   "metadata": {
    "collapsed": false
   },
   "id": "e216510e6f014e70"
  },
  {
   "cell_type": "code",
   "execution_count": null,
   "outputs": [],
   "source": [
    "activation_functions = [func for func in dir(keras.activations)\n",
    "                        if callable(getattr(keras.activations, func)) and not func.startswith(('deserialize', 'serialize', 'get'))]\n",
    "\n",
    "plot_multiple_histories(\n",
    "  histories={\n",
    "    f\"{f}\" : train_model_activation(f)\n",
    "    for f in activation_functions\n",
    "  }\n",
    ")"
   ],
   "metadata": {
    "collapsed": false
   },
   "id": "b998ea982bc1635e"
  },
  {
   "cell_type": "code",
   "execution_count": null,
   "outputs": [],
   "source": [],
   "metadata": {
    "collapsed": false
   },
   "id": "9c394f28852378d0"
  },
  {
   "cell_type": "code",
   "execution_count": null,
   "outputs": [],
   "source": [],
   "metadata": {
    "collapsed": false
   },
   "id": "7a640e9cff78d65b"
  }
 ],
 "metadata": {
  "kernelspec": {
   "display_name": "Python 3",
   "language": "python",
   "name": "python3"
  },
  "language_info": {
   "codemirror_mode": {
    "name": "ipython",
    "version": 2
   },
   "file_extension": ".py",
   "mimetype": "text/x-python",
   "name": "python",
   "nbconvert_exporter": "python",
   "pygments_lexer": "ipython2",
   "version": "2.7.6"
  }
 },
 "nbformat": 4,
 "nbformat_minor": 5
}
