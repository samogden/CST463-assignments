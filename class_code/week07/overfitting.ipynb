{
 "cells": [
  {
   "cell_type": "code",
   "execution_count": null,
   "outputs": [],
   "source": [
    "import tensorflow as tf\n",
    "import keras\n",
    "import numpy as np\n",
    "import matplotlib.pyplot as plt\n",
    "\n",
    "import typing"
   ],
   "metadata": {
    "collapsed": false
   },
   "id": "f7745cbfd9cddf3d"
  },
  {
   "cell_type": "code",
   "execution_count": null,
   "outputs": [],
   "source": [],
   "metadata": {
    "collapsed": false
   },
   "id": "e5acb103f17419b6"
  },
  {
   "cell_type": "markdown",
   "source": [
    "## Functions and data"
   ],
   "metadata": {
    "collapsed": false
   },
   "id": "2e3ff29d33d270f7"
  },
  {
   "cell_type": "code",
   "execution_count": null,
   "outputs": [],
   "source": [
    "\n",
    "def plot_multiple_histories(histories : typing.Dict, metric='loss'):\n",
    "  \"\"\"\n",
    "  Plots the training history of multiple models on the same plot for comparison.\n",
    "  \n",
    "  Parameters:\n",
    "    histories: List of History objects from multiple model's fit() calls.\n",
    "    metric: The metric to plot ('loss', 'accuracy', etc.).\n",
    "    labels: List of labels for the models. If None, defaults to 'Model 1', 'Model 2', etc.\n",
    "  \"\"\"\n",
    "  # Check if labels are provided, otherwise generate default labels\n",
    "  # if labels is None:\n",
    "  #   labels = [f'Model {i+1}' for i in range(len(histories))]\n",
    "  \n",
    "  # Initialize the plot\n",
    "  plt.figure(figsize=(10, 6))\n",
    "  \n",
    "  # Loop through each history and plot the metrics\n",
    "  for i, (label, history) in enumerate(histories.items()):\n",
    "    epochs = range(1, len(history.history[metric]) + 1)\n",
    "    \n",
    "    # Plot training metric\n",
    "    plt.plot(epochs, history.history[metric], label=f'{label} {metric.capitalize()}')\n",
    "    \n",
    "    # Plot validation metric if available\n",
    "    if f'val_{metric}' in history.history:\n",
    "      plt.plot(epochs, history.history[f'val_{metric}'], '--', label=f'{label} Validation {metric.capitalize()}')\n",
    "  \n",
    "  # Add labels and title\n",
    "  plt.title(f'Comparison of {metric.capitalize()} Between Models')\n",
    "  plt.xlabel('Epochs')\n",
    "  plt.ylabel(metric.capitalize())\n",
    "  plt.legend()\n",
    "  \n",
    "  # Show plot\n",
    "  plt.show()\n",
    "\n"
   ],
   "metadata": {
    "collapsed": false
   },
   "id": "2e7e01edee65b84a"
  },
  {
   "cell_type": "code",
   "execution_count": null,
   "outputs": [],
   "source": [
    "from sklearn.model_selection import train_test_split\n",
    "from sklearn.datasets import make_regression\n",
    "\n",
    "X_r,y_r = make_regression(\n",
    "  n_samples=5000,\n",
    "  n_features=4,\n",
    "  n_informative=3,\n",
    "  noise=2\n",
    ")\n",
    "X_train_r, X_test_r, y_train_r, y_test_r = train_test_split(\n",
    "  X_r,\n",
    "  y_r,\n",
    "  test_size=0.33,\n",
    "  random_state=42\n",
    ")\n",
    "\n",
    "from sklearn.datasets import make_classification\n",
    "\n",
    "X_c,y_c = make_classification(n_samples=1000, n_features=4, n_redundant=0)\n",
    "\n",
    "X_train_c, X_test_c, y_train_c, y_test_c = train_test_split(X_r, y_r, test_size=0.33, random_state=42)"
   ],
   "metadata": {
    "collapsed": false
   },
   "id": "39ba0334cceeab9"
  },
  {
   "cell_type": "code",
   "execution_count": null,
   "outputs": [],
   "source": [],
   "metadata": {
    "collapsed": false
   },
   "id": "9d853fca975995d4"
  },
  {
   "cell_type": "code",
   "execution_count": null,
   "outputs": [],
   "source": [],
   "metadata": {
    "collapsed": false
   },
   "id": "920d977b97e0d07f"
  },
  {
   "cell_type": "markdown",
   "source": [
    "## Learning Rate"
   ],
   "metadata": {
    "collapsed": false
   },
   "id": "173577710956211f"
  },
  {
   "cell_type": "code",
   "execution_count": null,
   "outputs": [],
   "source": [
    "def scheduler(epoch, lr, cutoff_epoch) -> float:\n",
    "  if epoch < cutoff_epoch:\n",
    "    return float(lr)\n",
    "  else:\n",
    "    return float(lr * tf.math.exp(-0.1))\n",
    "  \n",
    "callback = keras.callbacks.LearningRateScheduler(scheduler)\n",
    "\n",
    "def train_model(callback) -> keras.callbacks.History:\n",
    "  model = keras.models.Sequential()\n",
    "  model.add(keras.layers.InputLayer(shape=(4,)))\n",
    "  model.add(keras.layers.Dense(1))\n",
    "  opt = keras.optimizers.SGD(learning_rate=0.001)\n",
    "  model.compile(optimizer=opt, loss='mse', metrics=['mae'])\n",
    "  history = model.fit(\n",
    "    X_train_r, \n",
    "    y_train_r,\n",
    "    batch_size=128, \n",
    "    epochs=100, \n",
    "    validation_split=0.3,\n",
    "    callbacks=[callback]\n",
    "  )\n",
    "  return history\n",
    "\n"
   ],
   "metadata": {
    "collapsed": false
   },
   "id": "e2b5b4c4f66c5843"
  },
  {
   "cell_type": "code",
   "execution_count": null,
   "outputs": [],
   "source": [],
   "metadata": {
    "collapsed": false
   },
   "id": "8433f2cb554b33ae"
  },
  {
   "cell_type": "code",
   "execution_count": null,
   "outputs": [],
   "source": [
    "plot_multiple_histories(\n",
    "  histories={\n",
    "    f\"epoch{i:3d}\" : train_model(\n",
    "      keras.callbacks.LearningRateScheduler(lambda e, lr : scheduler(e, lr, i))\n",
    "    )\n",
    "    for i in range(0, 100, 10)\n",
    "  }\n",
    ")"
   ],
   "metadata": {
    "collapsed": false
   },
   "id": "699725ea39fb1a6b"
  },
  {
   "cell_type": "code",
   "execution_count": null,
   "outputs": [],
   "source": [],
   "metadata": {
    "collapsed": false
   },
   "id": "de1ff5856f9841d4"
  },
  {
   "cell_type": "markdown",
   "source": [
    "## Early Stopping"
   ],
   "metadata": {
    "collapsed": false
   },
   "id": "9dc601ee09e5f862"
  },
  {
   "cell_type": "code",
   "execution_count": null,
   "outputs": [],
   "source": [
    "\n",
    "# This callback will stop the training when there is no improvement \n",
    "# in the validation loss for three consecutive epochs.\n",
    "callback = keras.callbacks.EarlyStopping(monitor='loss', patience=3)\n",
    "\n",
    "model = keras.Sequential([keras.layers.Dense(10)])\n",
    "model.compile(keras.optimizers.SGD(), loss='mse')\n",
    "history = model.fit(\n",
    "  np.arange(100).reshape(5, 20), \n",
    "  np.zeros(5),\n",
    "  epochs=10, \n",
    "  batch_size=1, \n",
    "  callbacks=[callback]\n",
    ")\n",
    "\n",
    "len(history.history['loss'])  # Only 4 epochs are run.\n"
   ],
   "metadata": {
    "collapsed": false
   },
   "id": "5eb8a16b4f93a4e6"
  },
  {
   "cell_type": "code",
   "execution_count": null,
   "outputs": [],
   "source": [],
   "metadata": {
    "collapsed": false
   },
   "id": "6bcd27e855b5e40"
  },
  {
   "cell_type": "markdown",
   "source": [
    "## Weight Regularization"
   ],
   "metadata": {
    "collapsed": false
   },
   "id": "ef1c665a9f385bed"
  },
  {
   "cell_type": "code",
   "execution_count": null,
   "outputs": [],
   "source": [
    "\n",
    "from sklearn.datasets import make_classification\n",
    "\n",
    "X,y = make_classification(n_samples=1000, n_features=4, n_redundant=0)\n",
    "\n",
    "X_train, X_test, y_train, y_test = train_test_split(X, y, test_size=0.33, random_state=42)\n"
   ],
   "metadata": {
    "collapsed": false
   },
   "id": "608efd2f019b5081"
  },
  {
   "cell_type": "code",
   "execution_count": null,
   "outputs": [],
   "source": [
    "\n",
    "\n",
    "def train_model_regular(regularizer_rate=1.0) -> keras.callbacks.History:\n",
    "  model = keras.models.Sequential()\n",
    "  model.add(keras.Input(shape=(4,)))\n",
    "  model.add(keras.layers.Dense(10))\n",
    "  model.add(\n",
    "    keras.layers.Dense(\n",
    "      10,\n",
    "      kernel_regularizer=keras.regularizers.l2(regularizer_rate)\n",
    "    )\n",
    "  )\n",
    "  model.add(keras.layers.Dense(1, activation='sigmoid'))\n",
    "  \n",
    "  model.compile(\n",
    "    optimizer='SGD',\n",
    "    loss='binary_crossentropy',\n",
    "    metrics=['accuracy']\n",
    "  )\n",
    "  history = model.fit(\n",
    "    X_train, \n",
    "    y_train,\n",
    "    batch_size=32, \n",
    "    epochs=40, \n",
    "    validation_split=0.3\n",
    "  )\n",
    "  \n",
    "  return history\n",
    "\n"
   ],
   "metadata": {
    "collapsed": false
   },
   "id": "39e9d959cb447654"
  },
  {
   "cell_type": "code",
   "execution_count": null,
   "outputs": [],
   "source": [
    "plot_multiple_histories(\n",
    "  histories={\n",
    "    \"0.001\" : train_model_regular(0.001),\n",
    "    \"0.01\" : train_model_regular(0.01),\n",
    "    \"0.1\" : train_model_regular(0.1),\n",
    "  }\n",
    ")"
   ],
   "metadata": {
    "collapsed": false
   },
   "id": "b1f8484c4d85e480"
  },
  {
   "cell_type": "code",
   "execution_count": null,
   "outputs": [],
   "source": [],
   "metadata": {
    "collapsed": false
   },
   "id": "b5f6acd27bd9a24c"
  },
  {
   "cell_type": "code",
   "execution_count": null,
   "outputs": [],
   "source": [],
   "metadata": {
    "collapsed": false
   },
   "id": "f9af3e2b23118d43"
  },
  {
   "cell_type": "markdown",
   "source": [
    "## Dropout\n"
   ],
   "metadata": {
    "collapsed": false
   },
   "id": "48efe2d33da24e1d"
  },
  {
   "cell_type": "code",
   "execution_count": null,
   "outputs": [],
   "source": [],
   "metadata": {
    "collapsed": false
   },
   "id": "87959bbc366a22c1"
  },
  {
   "cell_type": "code",
   "execution_count": null,
   "outputs": [],
   "source": [
    "\n",
    "\n",
    "def train_model_dropout(dropout_rate) -> keras.callbacks.History:\n",
    "  model = keras.models.Sequential()\n",
    "  model.add(keras.Input(shape=(4,)))\n",
    "  model.add(keras.layers.Dropout(dropout_rate))\n",
    "  model.add(keras.layers.Dense(10))\n",
    "  model.add(keras.layers.Dropout(dropout_rate))\n",
    "  model.add(keras.layers.Dense(1, activation='sigmoid'))\n",
    "  \n",
    "  model.compile(\n",
    "    optimizer='SGD',\n",
    "    loss='binary_crossentropy',\n",
    "    metrics=['accuracy']\n",
    "  )\n",
    "  history = model.fit(\n",
    "    X_train,\n",
    "    y_train,\n",
    "    batch_size=32,\n",
    "    epochs=40,\n",
    "    validation_split=0.3\n",
    "  )\n",
    "  \n",
    "  return history\n"
   ],
   "metadata": {
    "collapsed": false
   },
   "id": "44d3b75ff676a3e5"
  },
  {
   "cell_type": "code",
   "execution_count": null,
   "outputs": [],
   "source": [
    "plot_multiple_histories(\n",
    "  histories={\n",
    "    f\"{val:f}\" : train_model_regular(0.001)\n",
    "    for val in np.arange(0.1, 1.01, 0.2)\n",
    "  }\n",
    ")"
   ],
   "metadata": {
    "collapsed": false
   },
   "id": "d3b1819591e16405"
  },
  {
   "cell_type": "code",
   "execution_count": null,
   "outputs": [],
   "source": [],
   "metadata": {
    "collapsed": false
   },
   "id": "f87a5cad837a8749"
  },
  {
   "cell_type": "code",
   "execution_count": null,
   "outputs": [],
   "source": [],
   "metadata": {
    "collapsed": false
   },
   "id": "ee574f94bf67fa6d"
  }
 ],
 "metadata": {
  "kernelspec": {
   "display_name": "Python 3",
   "language": "python",
   "name": "python3"
  },
  "language_info": {
   "codemirror_mode": {
    "name": "ipython",
    "version": 2
   },
   "file_extension": ".py",
   "mimetype": "text/x-python",
   "name": "python",
   "nbconvert_exporter": "python",
   "pygments_lexer": "ipython2",
   "version": "2.7.6"
  }
 },
 "nbformat": 4,
 "nbformat_minor": 5
}
