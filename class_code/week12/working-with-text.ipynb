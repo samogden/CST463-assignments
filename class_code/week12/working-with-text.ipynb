{
 "cells": [
  {
   "cell_type": "code",
   "execution_count": 1,
   "id": "initial_id",
   "metadata": {
    "ExecuteTime": {
     "end_time": "2024-11-18T17:00:38.975854Z",
     "start_time": "2024-11-18T17:00:35.935089Z"
    }
   },
   "outputs": [],
   "source": [
    "import tensorflow as tf\n",
    "import keras \n",
    "import numpy as np\n",
    "import pandas as pd\n",
    "import matplotlib.pyplot as plt"
   ]
  },
  {
   "cell_type": "code",
   "execution_count": null,
   "id": "e82818291c958b77",
   "metadata": {
    "ExecuteTime": {
     "end_time": "2024-11-13T17:09:03.595422Z",
     "start_time": "2024-11-13T17:09:03.592346Z"
    },
    "collapsed": false
   },
   "outputs": [],
   "source": []
  },
  {
   "cell_type": "markdown",
   "id": "2c3420fe394fc340",
   "metadata": {
    "collapsed": false
   },
   "source": [
    "# tf.data input"
   ]
  },
  {
   "cell_type": "code",
   "execution_count": 2,
   "id": "d9395f27085cc6a8",
   "metadata": {
    "ExecuteTime": {
     "end_time": "2024-11-13T17:09:34.158619Z",
     "start_time": "2024-11-13T17:09:34.145783Z"
    },
    "collapsed": false
   },
   "outputs": [
    {
     "name": "stderr",
     "output_type": "stream",
     "text": [
      "2024-11-13 10:55:34.956495: I metal_plugin/src/device/metal_device.cc:1154] Metal device set to: Apple M2 Max\n",
      "2024-11-13 10:55:34.956522: I metal_plugin/src/device/metal_device.cc:296] systemMemory: 32.00 GB\n",
      "2024-11-13 10:55:34.956534: I metal_plugin/src/device/metal_device.cc:313] maxCacheSize: 10.67 GB\n",
      "2024-11-13 10:55:34.956552: I tensorflow/core/common_runtime/pluggable_device/pluggable_device_factory.cc:305] Could not identify NUMA node of platform GPU ID 0, defaulting to 0. Your kernel may not have been built with NUMA support.\n",
      "2024-11-13 10:55:34.956565: I tensorflow/core/common_runtime/pluggable_device/pluggable_device_factory.cc:271] Created TensorFlow device (/job:localhost/replica:0/task:0/device:GPU:0 with 0 MB memory) -> physical PluggableDevice (device: 0, name: METAL, pci bus id: <undefined>)\n"
     ]
    }
   ],
   "source": [
    "text_dataset = tf.data.Dataset.from_tensor_slices([\"You gotta do it till you're through it\"])\n",
    "vectorize_layer = keras.layers.TextVectorization(\n",
    "  output_mode='int',\n",
    "  max_tokens=5,                # limit the number of tokens\n",
    "  output_sequence_length=4     # limit output sequence length\n",
    ")\n"
   ]
  },
  {
   "cell_type": "code",
   "execution_count": 3,
   "id": "8fe7494cb7f2677b",
   "metadata": {
    "ExecuteTime": {
     "end_time": "2024-11-13T17:09:42.463120Z",
     "start_time": "2024-11-13T17:09:42.432533Z"
    },
    "collapsed": false
   },
   "outputs": [
    {
     "name": "stdout",
     "output_type": "stream",
     "text": [
      "['', '[UNK]', 'it', 'youre', 'you']\n"
     ]
    },
    {
     "name": "stderr",
     "output_type": "stream",
     "text": [
      "2024-11-13 10:55:35.188788: I tensorflow/core/framework/local_rendezvous.cc:404] Local rendezvous is aborting with status: OUT_OF_RANGE: End of sequence\n"
     ]
    }
   ],
   "source": [
    "\n",
    "vectorize_layer.adapt(text_dataset)\n",
    "print(vectorize_layer.get_vocabulary())\n"
   ]
  },
  {
   "cell_type": "code",
   "execution_count": 4,
   "id": "d08e20e47609ee3d",
   "metadata": {
    "ExecuteTime": {
     "end_time": "2024-11-13T17:09:43.798178Z",
     "start_time": "2024-11-13T17:09:43.713552Z"
    },
    "collapsed": false
   },
   "outputs": [
    {
     "name": "stdout",
     "output_type": "stream",
     "text": [
      "tf.Tensor([4 1 1 2], shape=(4,), dtype=int64)\n"
     ]
    },
    {
     "name": "stderr",
     "output_type": "stream",
     "text": [
      "2024-11-13 10:55:35.329850: I tensorflow/core/framework/local_rendezvous.cc:404] Local rendezvous is aborting with status: OUT_OF_RANGE: End of sequence\n"
     ]
    }
   ],
   "source": [
    "\n",
    "text_vectorized = text_dataset.map(vectorize_layer)\n",
    "for text in text_vectorized:\n",
    "  print(text)"
   ]
  },
  {
   "cell_type": "code",
   "execution_count": null,
   "id": "1132c6f5bb796ac8",
   "metadata": {
    "ExecuteTime": {
     "end_time": "2024-11-13T17:09:49.102191Z",
     "start_time": "2024-11-13T17:09:49.086275Z"
    },
    "collapsed": false
   },
   "outputs": [],
   "source": []
  },
  {
   "cell_type": "markdown",
   "id": "194c155500ada209",
   "metadata": {
    "collapsed": false
   },
   "source": [
    "# Out-of-vocab words"
   ]
  },
  {
   "cell_type": "code",
   "execution_count": 5,
   "id": "962cd88608039ec5",
   "metadata": {
    "ExecuteTime": {
     "end_time": "2024-11-13T17:18:06.921488Z",
     "start_time": "2024-11-13T17:18:06.792783Z"
    },
    "collapsed": false
   },
   "outputs": [
    {
     "name": "stdout",
     "output_type": "stream",
     "text": [
      "tf.Tensor([2 1 3 0], shape=(4,), dtype=int64)\n"
     ]
    },
    {
     "name": "stderr",
     "output_type": "stream",
     "text": [
      "2024-11-13 10:55:35.432681: I tensorflow/core/framework/local_rendezvous.cc:404] Local rendezvous is aborting with status: OUT_OF_RANGE: End of sequence\n"
     ]
    }
   ],
   "source": [
    "text_dataset = tf.data.Dataset.from_tensor_slices([\"foo bar\", \"foo foo bar baz\"])\n",
    "# bif does not appear in text_dataset\n",
    "new_dataset = tf.data.Dataset.from_tensor_slices([\"foo bif bar\"])\n",
    "\n",
    "vectorize_layer = keras.layers.TextVectorization(\n",
    "  output_mode='int',\n",
    "  max_tokens=5,\n",
    "  output_sequence_length=4\n",
    ")\n",
    "\n",
    "vectorize_layer.adapt(text_dataset)\n",
    "\n",
    "text_vectorized = new_dataset.map(vectorize_layer)\n",
    "for text in text_vectorized:\n",
    "  print(text)\n",
    "\n"
   ]
  },
  {
   "cell_type": "code",
   "execution_count": 6,
   "id": "c509d81c3510f1e3",
   "metadata": {
    "ExecuteTime": {
     "end_time": "2024-11-13T17:18:07.551751Z",
     "start_time": "2024-11-13T17:18:07.466520Z"
    },
    "collapsed": false
   },
   "outputs": [
    {
     "name": "stdout",
     "output_type": "stream",
     "text": [
      "tf.Tensor([1 1 0 0], shape=(4,), dtype=int64)\n",
      "tf.Tensor([1 3 1 0], shape=(4,), dtype=int64)\n",
      "tf.Tensor([1 1 1 1], shape=(4,), dtype=int64)\n"
     ]
    }
   ],
   "source": [
    "new_dataset = tf.data.Dataset.from_tensor_slices([\"bif bif\", \"bif bar bif\", \"bif bif bif bif bif bar\"])\n",
    "\n",
    "text_vectorized = new_dataset.map(vectorize_layer)\n",
    "for text in text_vectorized:\n",
    "  print(text)\n",
    "\n"
   ]
  },
  {
   "cell_type": "markdown",
   "id": "6735cc0579cff792",
   "metadata": {
    "collapsed": false
   },
   "source": [
    "# mutli-hot encoding"
   ]
  },
  {
   "cell_type": "code",
   "execution_count": 3,
   "id": "9db5c46ebad47884",
   "metadata": {
    "collapsed": false,
    "ExecuteTime": {
     "end_time": "2024-11-18T17:01:27.876813Z",
     "start_time": "2024-11-18T17:01:27.732182Z"
    }
   },
   "outputs": [
    {
     "name": "stdout",
     "output_type": "stream",
     "text": [
      "tf.Tensor([0 1 0 1], shape=(4,), dtype=int64)\n",
      "tf.Tensor([0 0 1 1], shape=(4,), dtype=int64)\n",
      "tf.Tensor([0 1 1 0], shape=(4,), dtype=int64)\n",
      "tf.Tensor([0 1 1 1], shape=(4,), dtype=int64)\n",
      "['[UNK]', 'foo', 'baz', 'bar']\n"
     ]
    },
    {
     "name": "stderr",
     "output_type": "stream",
     "text": [
      "2024-11-18 09:01:27.868812: I tensorflow/core/framework/local_rendezvous.cc:404] Local rendezvous is aborting with status: OUT_OF_RANGE: End of sequence\n"
     ]
    }
   ],
   "source": [
    "text_dataset = tf.data.Dataset.from_tensor_slices([\"foo bar\", \"bar baz\", \"baz foo\", \"foo foo bar baz\"])\n",
    "vectorize_layer = keras.layers.TextVectorization(\n",
    "  output_mode='multi_hot',   # aka binary encoding\n",
    "  max_tokens=5\n",
    ")\n",
    "\n",
    "vectorize_layer.adapt(text_dataset)\n",
    "# Vectorize the text -- note the 0 outputs\n",
    "text_mh = text_dataset.map(vectorize_layer)\n",
    "for text in text_mh:\n",
    "  print(text)\n",
    "\n",
    "print(vectorize_layer.get_vocabulary())\n"
   ]
  },
  {
   "cell_type": "code",
   "execution_count": 8,
   "id": "e1b855f07f786310",
   "metadata": {
    "ExecuteTime": {
     "end_time": "2024-11-13T17:19:48.603317Z",
     "start_time": "2024-11-13T17:19:48.500877Z"
    },
    "collapsed": false
   },
   "outputs": [
    {
     "name": "stdout",
     "output_type": "stream",
     "text": [
      "tf.Tensor([1 0 0 0], shape=(4,), dtype=int64)\n",
      "tf.Tensor([1 0 0 1], shape=(4,), dtype=int64)\n",
      "tf.Tensor([1 0 0 1], shape=(4,), dtype=int64)\n",
      "tf.Tensor([0 1 0 1], shape=(4,), dtype=int64)\n"
     ]
    },
    {
     "name": "stderr",
     "output_type": "stream",
     "text": [
      "2024-11-13 10:55:35.644605: I tensorflow/core/framework/local_rendezvous.cc:404] Local rendezvous is aborting with status: OUT_OF_RANGE: End of sequence\n"
     ]
    }
   ],
   "source": [
    "new_dataset = tf.data.Dataset.from_tensor_slices([\n",
    "  \"bif bif\", \n",
    "  \"bif bar bif\", \n",
    "  \"bif bif bif bif bif bar\",\n",
    "  \"foo bar\"\n",
    "])\n",
    "\n",
    "text_vectorized = new_dataset.map(vectorize_layer)\n",
    "for text in text_vectorized:\n",
    "  print(text)\n",
    "\n"
   ]
  },
  {
   "cell_type": "code",
   "execution_count": null,
   "id": "327b95f316629186",
   "metadata": {
    "collapsed": false
   },
   "outputs": [],
   "source": []
  },
  {
   "cell_type": "markdown",
   "id": "50132e25dcd7c240",
   "metadata": {
    "collapsed": false
   },
   "source": [
    "# tf-idf\n"
   ]
  },
  {
   "cell_type": "code",
   "execution_count": null,
   "id": "670235da7d31c19e",
   "metadata": {
    "ExecuteTime": {
     "end_time": "2024-11-13T17:21:14.527219Z",
     "start_time": "2024-11-13T17:21:14.498522Z"
    },
    "collapsed": false
   },
   "outputs": [],
   "source": []
  },
  {
   "cell_type": "code",
   "execution_count": null,
   "id": "94c0a01de7f67edf",
   "metadata": {
    "ExecuteTime": {
     "end_time": "2024-11-13T17:21:14.713790Z",
     "start_time": "2024-11-13T17:21:14.689849Z"
    },
    "collapsed": false
   },
   "outputs": [],
   "source": []
  },
  {
   "cell_type": "code",
   "execution_count": null,
   "id": "498744258122affd",
   "metadata": {
    "ExecuteTime": {
     "end_time": "2024-11-13T17:21:14.876591Z",
     "start_time": "2024-11-13T17:21:14.857293Z"
    },
    "collapsed": false
   },
   "outputs": [],
   "source": []
  },
  {
   "cell_type": "code",
   "execution_count": null,
   "id": "653580f93f43466a",
   "metadata": {
    "ExecuteTime": {
     "end_time": "2024-11-13T17:21:15.059802Z",
     "start_time": "2024-11-13T17:21:15.042253Z"
    },
    "collapsed": false
   },
   "outputs": [],
   "source": []
  },
  {
   "cell_type": "code",
   "execution_count": null,
   "id": "b399cae2ec501fa4",
   "metadata": {
    "ExecuteTime": {
     "end_time": "2024-11-13T17:21:15.187381Z",
     "start_time": "2024-11-13T17:21:15.172950Z"
    },
    "collapsed": false
   },
   "outputs": [],
   "source": []
  },
  {
   "cell_type": "code",
   "execution_count": null,
   "id": "dedef6b8bc0a4dea",
   "metadata": {
    "ExecuteTime": {
     "end_time": "2024-11-13T17:21:15.368973Z",
     "start_time": "2024-11-13T17:21:15.347933Z"
    },
    "collapsed": false
   },
   "outputs": [],
   "source": []
  },
  {
   "cell_type": "code",
   "execution_count": 9,
   "id": "bae2d66ec5af24c6",
   "metadata": {
    "ExecuteTime": {
     "end_time": "2024-11-13T17:21:24.331523Z",
     "start_time": "2024-11-13T17:21:24.049460Z"
    },
    "collapsed": false
   },
   "outputs": [
    {
     "name": "stdout",
     "output_type": "stream",
     "text": [
      "tf.Tensor([0.        0.6931472 0.        0.6931472], shape=(4,), dtype=float32)\n",
      "tf.Tensor([0.        0.        0.6931472 0.6931472], shape=(4,), dtype=float32)\n",
      "tf.Tensor([0.        0.6931472 0.6931472 0.       ], shape=(4,), dtype=float32)\n",
      "tf.Tensor([0.        1.3862944 0.6931472 0.6931472], shape=(4,), dtype=float32)\n"
     ]
    }
   ],
   "source": [
    "text_dataset = tf.data.Dataset.from_tensor_slices([\"foo bar\", \"bar baz\", \"baz foo\", \"foo foo bar baz\"])\n",
    "vectorize_layer = keras.layers.TextVectorization(\n",
    "  output_mode='tf-idf',   # term freq. – inverse document freq.\n",
    "  max_tokens=5\n",
    ")\n",
    "\n",
    "vectorize_layer.adapt(text_dataset)\n",
    "# Vectorize the text -- note the 0 outputs\n",
    "text_tfidf = text_dataset.map(vectorize_layer)\n",
    "for text in text_tfidf:\n",
    "  print(text)\n"
   ]
  },
  {
   "cell_type": "code",
   "execution_count": 10,
   "id": "7145b637a59eac50",
   "metadata": {
    "ExecuteTime": {
     "end_time": "2024-11-13T17:22:04.432658Z",
     "start_time": "2024-11-13T17:22:04.302399Z"
    },
    "collapsed": false
   },
   "outputs": [
    {
     "name": "stdout",
     "output_type": "stream",
     "text": [
      "tf.Tensor([1.3862944 0.        0.        0.       ], shape=(4,), dtype=float32)\n",
      "tf.Tensor([1.3862944 0.        0.        0.6931472], shape=(4,), dtype=float32)\n",
      "tf.Tensor([3.465736  0.        0.        0.6931472], shape=(4,), dtype=float32)\n",
      "tf.Tensor([0.        0.6931472 0.        0.6931472], shape=(4,), dtype=float32)\n",
      "tf.Tensor([0. 0. 0. 0.], shape=(4,), dtype=float32)\n"
     ]
    }
   ],
   "source": [
    "new_dataset = tf.data.Dataset.from_tensor_slices([\n",
    "  \"bif bif\",\n",
    "  \"bif bar bif\",\n",
    "  \"bif bif bif bif bif bar\",\n",
    "  \"foo bar\",\n",
    "  \"\"\n",
    "])\n",
    "\n",
    "text_vectorized = new_dataset.map(vectorize_layer)\n",
    "for text in text_vectorized:\n",
    "  print(text)\n",
    "\n"
   ]
  },
  {
   "cell_type": "code",
   "execution_count": null,
   "id": "84771048e0914ad6",
   "metadata": {
    "collapsed": false
   },
   "outputs": [],
   "source": []
  },
  {
   "cell_type": "markdown",
   "id": "a8815b886ef05c0f",
   "metadata": {
    "collapsed": false
   },
   "source": [
    "# bigrams\n"
   ]
  },
  {
   "cell_type": "code",
   "execution_count": 11,
   "id": "41e8778e9e8eeea4",
   "metadata": {
    "ExecuteTime": {
     "end_time": "2024-11-13T17:23:30.629450Z",
     "start_time": "2024-11-13T17:23:30.513924Z"
    },
    "collapsed": false
   },
   "outputs": [
    {
     "name": "stdout",
     "output_type": "stream",
     "text": [
      "['[UNK]', 'the', 'the mat', 'the cat', 'sat on', 'sat', 'on the', 'on', 'mat', 'cat sat', 'cat']\n"
     ]
    }
   ],
   "source": [
    "text_ds = tf.data.Dataset.from_tensor_slices([\"the cat sat on the mat\"])\n",
    "\n",
    "vectorize_layer = tf.keras.layers.TextVectorization(\n",
    "  ngrams=2,\n",
    "  max_tokens=20000,\n",
    "  output_mode='multi_hot'\n",
    ")\n",
    "\n",
    "vectorize_layer.adapt(text_ds)\n",
    "print(vectorize_layer.get_vocabulary())\n"
   ]
  },
  {
   "cell_type": "code",
   "execution_count": 12,
   "id": "c31f7c927989c4d3",
   "metadata": {
    "ExecuteTime": {
     "end_time": "2024-11-13T17:23:45.723958Z",
     "start_time": "2024-11-13T17:23:45.604199Z"
    },
    "collapsed": false
   },
   "outputs": [
    {
     "name": "stdout",
     "output_type": "stream",
     "text": [
      "tf.Tensor([0 1 1 1 1 1 1 1 1 1 1], shape=(11,), dtype=int64)\n"
     ]
    }
   ],
   "source": [
    "\n",
    "\n",
    "text_bg = text_ds.map(vectorize_layer)\n",
    "for text in text_bg:\n",
    "  print(text)\n"
   ]
  },
  {
   "cell_type": "code",
   "execution_count": null,
   "id": "3f11b0c6e2ae0549",
   "metadata": {
    "ExecuteTime": {
     "end_time": "2024-11-13T17:23:09.572048Z",
     "start_time": "2024-11-13T17:23:09.551479Z"
    },
    "collapsed": false
   },
   "outputs": [],
   "source": []
  },
  {
   "cell_type": "code",
   "execution_count": null,
   "id": "4fb25fa37767a8ea",
   "metadata": {
    "ExecuteTime": {
     "end_time": "2024-11-13T17:23:09.720081Z",
     "start_time": "2024-11-13T17:23:09.698459Z"
    },
    "collapsed": false
   },
   "outputs": [],
   "source": []
  },
  {
   "cell_type": "code",
   "execution_count": null,
   "id": "838f75c0f09d7c42",
   "metadata": {
    "ExecuteTime": {
     "end_time": "2024-11-13T17:23:09.887517Z",
     "start_time": "2024-11-13T17:23:09.867687Z"
    },
    "collapsed": false
   },
   "outputs": [],
   "source": []
  },
  {
   "cell_type": "code",
   "execution_count": null,
   "id": "4769b798e4413b0",
   "metadata": {
    "collapsed": false
   },
   "outputs": [],
   "source": []
  }
 ],
 "metadata": {
  "kernelspec": {
   "display_name": "Python 3 (ipykernel)",
   "language": "python",
   "name": "python3"
  },
  "language_info": {
   "codemirror_mode": {
    "name": "ipython",
    "version": 3
   },
   "file_extension": ".py",
   "mimetype": "text/x-python",
   "name": "python",
   "nbconvert_exporter": "python",
   "pygments_lexer": "ipython3",
   "version": "3.10.15"
  }
 },
 "nbformat": 4,
 "nbformat_minor": 5
}
